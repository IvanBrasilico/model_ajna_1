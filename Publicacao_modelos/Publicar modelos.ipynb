{
 "cells": [
  {
   "cell_type": "code",
   "execution_count": 1,
   "metadata": {
    "ExecuteTime": {
     "end_time": "2020-04-07T12:48:50.464812Z",
     "start_time": "2020-04-07T12:48:50.461608Z"
    }
   },
   "outputs": [],
   "source": [
    "import numpy as np\n",
    "import requests\n",
    "import os\n",
    "from PIL import Image\n",
    "from utils import prepare_images\n",
    "\n",
    "MODEL_DIR = './tfserving'\n",
    "if not os.path.exists(MODEL_DIR):\n",
    "    os.mkdir(MODEL_DIR)\n"
   ]
  },
  {
   "cell_type": "markdown",
   "metadata": {},
   "source": [
    "# Vazios"
   ]
  },
  {
   "cell_type": "code",
   "execution_count": 14,
   "metadata": {
    "ExecuteTime": {
     "end_time": "2020-04-07T12:48:51.659395Z",
     "start_time": "2020-04-07T12:48:51.503109Z"
    }
   },
   "outputs": [],
   "source": [
    "# melhor modelo do notebook 01b3\n",
    "# import tensorflow as tf\n",
    "from keras.models import Sequential\n",
    "from keras.layers import Dense, Dropout, Flatten\n",
    "from keras.layers import Conv2D, MaxPooling2D\n",
    "SIZE = (224, 224)\n",
    "\n",
    "model = Sequential([\n",
    "  Conv2D(16, (3, 3),\n",
    "                         padding='same',\n",
    "                         activation='relu',\n",
    "                         input_shape=(*SIZE, 3)),\n",
    "  MaxPooling2D(pool_size=(2, 2)),\n",
    "  Conv2D(32, (3, 3), padding='same', activation='relu'),\n",
    "  MaxPooling2D(pool_size=(2, 2)),\n",
    "  Dropout(0.2),\n",
    "  Conv2D(64, (3, 3), padding='same', activation='relu'),\n",
    "  MaxPooling2D(pool_size=(2, 2)),\n",
    "  Dropout(0.25),\n",
    "  Conv2D(128, (3, 3), padding='same', activation='relu'),\n",
    "  MaxPooling2D(pool_size=(2, 2)),\n",
    "  Dropout(0.25),\n",
    "  Conv2D(128, (3, 3), activation='relu'),\n",
    "  MaxPooling2D(pool_size=(2, 2)),\n",
    "  Dropout(0.25),\n",
    "  Conv2D(256, (3, 3), activation='relu'),\n",
    "  Flatten(),\n",
    "  Dense(256, activation='relu'),\n",
    "  Dropout(0.4),\n",
    "  Dense(1, activation='sigmoid')\n",
    " \n",
    "])"
   ]
  },
  {
   "cell_type": "code",
   "execution_count": 15,
   "metadata": {
    "ExecuteTime": {
     "end_time": "2020-04-07T12:48:52.045962Z",
     "start_time": "2020-04-07T12:48:51.953810Z"
    }
   },
   "outputs": [
    {
     "name": "stdout",
     "output_type": "stream",
     "text": [
      "_________________________________________________________________\n",
      "Layer (type)                 Output Shape              Param #   \n",
      "=================================================================\n",
      "conv2d_23 (Conv2D)           (None, 224, 224, 16)      448       \n",
      "_________________________________________________________________\n",
      "max_pooling2d_21 (MaxPooling (None, 112, 112, 16)      0         \n",
      "_________________________________________________________________\n",
      "conv2d_24 (Conv2D)           (None, 112, 112, 32)      4640      \n",
      "_________________________________________________________________\n",
      "max_pooling2d_22 (MaxPooling (None, 56, 56, 32)        0         \n",
      "_________________________________________________________________\n",
      "dropout_21 (Dropout)         (None, 56, 56, 32)        0         \n",
      "_________________________________________________________________\n",
      "conv2d_25 (Conv2D)           (None, 56, 56, 64)        18496     \n",
      "_________________________________________________________________\n",
      "max_pooling2d_23 (MaxPooling (None, 28, 28, 64)        0         \n",
      "_________________________________________________________________\n",
      "dropout_22 (Dropout)         (None, 28, 28, 64)        0         \n",
      "_________________________________________________________________\n",
      "conv2d_26 (Conv2D)           (None, 28, 28, 128)       73856     \n",
      "_________________________________________________________________\n",
      "max_pooling2d_24 (MaxPooling (None, 14, 14, 128)       0         \n",
      "_________________________________________________________________\n",
      "dropout_23 (Dropout)         (None, 14, 14, 128)       0         \n",
      "_________________________________________________________________\n",
      "conv2d_27 (Conv2D)           (None, 12, 12, 128)       147584    \n",
      "_________________________________________________________________\n",
      "max_pooling2d_25 (MaxPooling (None, 6, 6, 128)         0         \n",
      "_________________________________________________________________\n",
      "dropout_24 (Dropout)         (None, 6, 6, 128)         0         \n",
      "_________________________________________________________________\n",
      "conv2d_28 (Conv2D)           (None, 4, 4, 256)         295168    \n",
      "_________________________________________________________________\n",
      "flatten_5 (Flatten)          (None, 4096)              0         \n",
      "_________________________________________________________________\n",
      "dense_9 (Dense)              (None, 256)               1048832   \n",
      "_________________________________________________________________\n",
      "dropout_25 (Dropout)         (None, 256)               0         \n",
      "_________________________________________________________________\n",
      "dense_10 (Dense)             (None, 1)                 257       \n",
      "=================================================================\n",
      "Total params: 1,589,281\n",
      "Trainable params: 1,589,281\n",
      "Non-trainable params: 0\n",
      "_________________________________________________________________\n"
     ]
    }
   ],
   "source": [
    "model.load_weights(os.path.join('..', 'models', 'B3modelweights.17-0.08.hdf5'))\n",
    "model.summary()"
   ]
  },
  {
   "cell_type": "code",
   "execution_count": null,
   "metadata": {
    "ExecuteTime": {
     "end_time": "2020-04-07T13:08:44.691494Z",
     "start_time": "2020-04-07T13:08:44.662921Z"
    }
   },
   "outputs": [],
   "source": [
    "from keras.models import save_model\n",
    "\n",
    "version = 1\n",
    "export_path = os.path.join(MODEL_DIR, 'vazio', str(version))\n",
    "print('export_path = {}\\n'.format(export_path))\n",
    "\n",
    "tf.keras.models.save_model(\n",
    "    regression_model,\n",
    "    export_path,\n",
    "    overwrite=True,\n",
    "    include_optimizer=False,\n",
    "    save_format=None,\n",
    "    signatures=None,\n",
    "    options=None\n",
    ")\n",
    "\n",
    "\n",
    "print('\\nSaved model:')\n",
    "!ls -l {export_path}"
   ]
  },
  {
   "cell_type": "code",
   "execution_count": 2,
   "metadata": {
    "ExecuteTime": {
     "end_time": "2020-04-06T22:12:42.815822Z",
     "start_time": "2020-04-06T22:12:40.138134Z"
    }
   },
   "outputs": [
    {
     "name": "stdout",
     "output_type": "stream",
     "text": [
      "['5e5febda86556b3036c756cb.jpg', '5e692563635812f4b029d6b3.jpg', '5e6108f9dff3829839aa7e60.jpg', '5e7cc89d4bd4ad51c2d8bcaf.jpg', '5e5e4eeb86556b3036c71a1d.jpg', '5e6ba6ba4bd4ad51c2d5c7eb.jpg', '5e665e8f635812f4b028b2df.jpg', '5e610841f90d247d887a867c.jpg', '5e62311f9ccf00f7abbf68d4.jpg', '5e6925ba635812f4b029e399.jpg', '5e6ba6064bd4ad51c2d5b209.jpg', '5e6ba7744bd4ad51c2d5d59c.jpg', '5e6ba5fe4bd4ad51c2d5afe3.jpg', '5e6ba7744bd4ad51c2d5d57c.jpg', '5e6ba6054bd4ad51c2d5b1c9.jpg', '5e7cc8564bd4ad51c2d8b49c.jpg']\n",
      "{'predictions': [[0.629091799], [0.965853333], [0.966044962], [0.966284215], [0.974903405], [0.976563573], [0.898215055], [0.96291852], [0.967284203], [0.961856], [0.000231626342], [0.977061331], [0.936749756], [0.972840607], [6.49218919e-06], [0.964953482]]}\n"
     ]
    }
   ],
   "source": [
    "#Testar Servidor\n",
    "IMAGE_PATH = '../bases/vazios_cropped/VAZIO'\n",
    "print(os.listdir(IMAGE_PATH)[:16])\n",
    "images = prepare_images(os.listdir(IMAGE_PATH)[:16], IMAGE_PATH, (224, 224))\n",
    "\n",
    "json_batch = {\"signature_name\": \"serving_default\", \"instances\": images}\n",
    "r = requests.post('http://localhost:8501/v1/models/vazio:predict', json=json_batch)\n",
    "print(r.json())"
   ]
  },
  {
   "cell_type": "code",
   "execution_count": null,
   "metadata": {},
   "outputs": [],
   "source": [
    "# To serve multiple models, create a file like:\n",
    "#tfserving/model_config.config\n",
    "\n",
    "model_config_list: {\n",
    "  ...\n",
    "  config: {\n",
    "    name: \"vazio\",\n",
    "    base_path: \"/home/ivan/pybr/projeto/Publicacao_modelos/tfserving/vazio\",\n",
    "    model_platform: \"tensorflow\" \n",
    "  }\n",
    "}"
   ]
  },
  {
   "cell_type": "code",
   "execution_count": null,
   "metadata": {},
   "outputs": [],
   "source": []
  },
  {
   "cell_type": "code",
   "execution_count": null,
   "metadata": {},
   "outputs": [],
   "source": []
  },
  {
   "cell_type": "markdown",
   "metadata": {},
   "source": [
    "# Pesos"
   ]
  },
  {
   "cell_type": "code",
   "execution_count": 20,
   "metadata": {
    "ExecuteTime": {
     "end_time": "2020-04-06T16:51:50.155831Z",
     "start_time": "2020-04-06T16:51:49.964748Z"
    }
   },
   "outputs": [],
   "source": [
    "from tensorflow.keras import layers\n",
    "from tensorflow.keras import models\n",
    "\n",
    "regression_model = models.Sequential([\n",
    "  layers.Conv2D(16, (7, 7), activation='relu',\n",
    "                padding='same',\n",
    "                strides=(2, 2),\n",
    "                input_shape=(144, 288, 3)),\n",
    "  layers.MaxPooling2D(pool_size=(2, 4)),\n",
    "  layers.Dropout(0.25),\n",
    "  layers.Conv2D(16, (5, 5), \n",
    "                strides=(2, 2),\n",
    "                activation='relu', padding='same'),\n",
    "  layers.Dropout(0.25),\n",
    "  layers.Conv2D(16, (5, 5), \n",
    "                strides=(2, 2),\n",
    "                activation='relu'),\n",
    "  layers.Dropout(0.25),\n",
    "  layers.AvgPool2D(),\n",
    "  layers.Flatten(),\n",
    "  layers.Dense(512, activation='relu'),\n",
    "  layers.Dense(256, activation='relu'),\n",
    "  layers.Dropout(0.4),\n",
    "  layers.Dense(1)\n",
    " \n",
    "])\n",
    "regression_model.load_weights('../extracoes/notebooks/gerabasespesagens_cropped2_basefiltrada_scaled_warmup_tunned.hdf5')"
   ]
  },
  {
   "cell_type": "code",
   "execution_count": 21,
   "metadata": {
    "ExecuteTime": {
     "end_time": "2020-04-06T16:51:51.870340Z",
     "start_time": "2020-04-06T16:51:50.969156Z"
    }
   },
   "outputs": [
    {
     "name": "stdout",
     "output_type": "stream",
     "text": [
      "export_path = ./tfserving/peso/1\n",
      "\n",
      "\n",
      "Saved model:\n",
      "total 192\n",
      "drwxr-xr-x 2 ivan ivan   4096 Abr  6 13:51 assets\n",
      "-rw-rw-r-- 1 ivan ivan 186637 Abr  6 13:51 saved_model.pb\n",
      "drwxr-xr-x 2 ivan ivan   4096 Abr  6 13:51 variables\n"
     ]
    }
   ],
   "source": [
    "import tensorflow as tf\n",
    "\n",
    "\n",
    "MODEL_DIR = './tfserving'\n",
    "version = 1\n",
    "export_path = os.path.join(MODEL_DIR, 'peso', str(version))\n",
    "print('export_path = {}\\n'.format(export_path))\n",
    "\n",
    "tf.keras.models.save_model(\n",
    "    regression_model,\n",
    "    export_path,\n",
    "    overwrite=True,\n",
    "    include_optimizer=False,\n",
    "    save_format=None,\n",
    "    signatures=None,\n",
    "    options=None\n",
    ")\n",
    "\n",
    "print('\\nSaved model:')\n",
    "!ls -l {export_path}"
   ]
  },
  {
   "cell_type": "code",
   "execution_count": 2,
   "metadata": {
    "ExecuteTime": {
     "end_time": "2020-04-06T22:13:17.720762Z",
     "start_time": "2020-04-06T22:13:15.813148Z"
    }
   },
   "outputs": [],
   "source": [
    "%timeit\n",
    "\n",
    "#Testar Servidor\n",
    "\n",
    "IMAGE_PATH = '../bases/pesagensbalanca/pesagensbalanca_cropped/'\n",
    "images = prepare_images(os.listdir(IMAGE_PATH)[:16], IMAGE_PATH, (288, 144))\n",
    "\n"
   ]
  },
  {
   "cell_type": "code",
   "execution_count": 3,
   "metadata": {},
   "outputs": [
    {
     "name": "stdout",
     "output_type": "stream",
     "text": [
      "{'predictions': [[-0.25387764], [-0.431081086], [-1.29821038], [0.966685891], [-1.26610959], [0.0410060287], [-0.583260179], [0.967445612], [0.759171844], [0.0991104916], [-1.03183937], [-0.894246459], [-1.19413936], [-1.11389947], [0.584198833], [-1.17910564]]}\n"
     ]
    }
   ],
   "source": [
    "%timeit\n",
    "\n",
    "json_batch = {\"signature_name\": \"serving_default\", \"instances\": images}\n",
    "r = requests.post('http://10.68.100.90/v1/models/peso:predict', json=json_batch)\n",
    "print(r.json())"
   ]
  },
  {
   "cell_type": "code",
   "execution_count": 4,
   "metadata": {
    "ExecuteTime": {
     "end_time": "2020-04-06T22:13:13.011446Z",
     "start_time": "2020-04-06T22:13:13.008402Z"
    }
   },
   "outputs": [
    {
     "ename": "SyntaxError",
     "evalue": "invalid syntax (<ipython-input-4-34fbe87fb50f>, line 2)",
     "output_type": "error",
     "traceback": [
      "\u001b[0;36m  File \u001b[0;32m\"<ipython-input-4-34fbe87fb50f>\"\u001b[0;36m, line \u001b[0;32m2\u001b[0m\n\u001b[0;31m    model_config_list: {\u001b[0m\n\u001b[0m                     ^\u001b[0m\n\u001b[0;31mSyntaxError\u001b[0m\u001b[0;31m:\u001b[0m invalid syntax\n"
     ]
    }
   ],
   "source": [
    "#Configurar Servidor\n",
    "model_config_list: {\n",
    "  config: {\n",
    "    name: \"peso\" ,\n",
    "    base_path: \"/home/ivan/pybr/projeto/Publicacao_modelos/tfserving/peso\" ,\n",
    "    model_platform: \" tensorflow\" \n",
    "  },\n",
    "    ...\n",
    "}\n",
    "# Rodar diretamente \n",
    "tensorflow_model_server --rest_api_port=8501 \\\n",
    "--model_config_file=\"/home/ivan/pybr/projeto/Publicacao_modelos/tfserving/model_config.config\""
   ]
  },
  {
   "cell_type": "code",
   "execution_count": null,
   "metadata": {},
   "outputs": [],
   "source": [
    "#Configurar Servidor Docker\n",
    "model_config_list: {\n",
    "  config: {\n",
    "    name: \"peso\" ,\n",
    "    base_path: \"/models/Publicacao_modelos/tfserving/peso\" ,\n",
    "    model_platform: \" tensorflow\" \n",
    "  },\n",
    "    ...\n",
    "}\n",
    "\n",
    "# Rodar via docker\n",
    "sudo docker run -t --rm -p 8501:8501 \\\n",
    "    --mount type=bind,source=/home/ivan/pybr/projeto/,target=/models \\\n",
    "    tensorflow/serving --model_config_file=models/Publicacao_modelos/tfserving/model_config_docker.config\n",
    "    \n",
    "    "
   ]
  }
 ],
 "metadata": {
  "kernelspec": {
   "display_name": "Python 3",
   "language": "python",
   "name": "python3"
  },
  "language_info": {
   "codemirror_mode": {
    "name": "ipython",
    "version": 3
   },
   "file_extension": ".py",
   "mimetype": "text/x-python",
   "name": "python",
   "nbconvert_exporter": "python",
   "pygments_lexer": "ipython3",
   "version": "3.7.4"
  }
 },
 "nbformat": 4,
 "nbformat_minor": 2
}
