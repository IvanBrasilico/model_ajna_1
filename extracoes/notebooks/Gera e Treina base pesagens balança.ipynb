{
 "cells": [
  {
   "cell_type": "code",
   "execution_count": 1,
   "metadata": {
    "ExecuteTime": {
     "end_time": "2020-04-02T13:21:19.055549Z",
     "start_time": "2020-04-02T13:21:17.941433Z"
    }
   },
   "outputs": [],
   "source": [
    "import os\n",
    "import shutil\n",
    "import sys\n",
    "import time\n",
    "from PIL import Image\n",
    "from datetime import date, datetime, timedelta\n",
    "\n",
    "\n",
    "sys.path.insert(0, '..')\n",
    "from utils import mongodb"
   ]
  },
  {
   "cell_type": "code",
   "execution_count": 2,
   "metadata": {
    "ExecuteTime": {
     "end_time": "2020-04-02T13:21:19.236898Z",
     "start_time": "2020-04-02T13:21:19.057871Z"
    }
   },
   "outputs": [],
   "source": [
    "from pesagensbalanca import cursor_pesagensbalanca, extract_to"
   ]
  },
  {
   "cell_type": "markdown",
   "metadata": {},
   "source": [
    "### Generate pesagens database\n",
    "Necessário acesso ao Banco de Dados ou ao Servidor"
   ]
  },
  {
   "cell_type": "code",
   "execution_count": 3,
   "metadata": {
    "ExecuteTime": {
     "end_time": "2020-04-02T13:21:19.251454Z",
     "start_time": "2020-04-02T13:21:19.243231Z"
    }
   },
   "outputs": [],
   "source": [
    "start = datetime(2020, 3, 1)\n",
    "end = datetime.today()\n",
    "limit = 10\n",
    "s0 = time.time()\n",
    "# cursor = cursor_pesagensbalanca(mongodb, start, end, limit, crop=True)\n",
    "# count = extract_to(cursor, crop=True)\n",
    "s1 = time.time()\n",
    "# print('{:0.2f} segundos para processar {:d} registros'.format((s1 - s0), count))\n"
   ]
  },
  {
   "cell_type": "markdown",
   "metadata": {},
   "source": [
    "## Carregar e montar modelo"
   ]
  },
  {
   "cell_type": "code",
   "execution_count": 4,
   "metadata": {
    "ExecuteTime": {
     "end_time": "2020-04-02T13:21:29.675113Z",
     "start_time": "2020-04-02T13:21:19.260265Z"
    }
   },
   "outputs": [],
   "source": [
    "import pandas as pd\n",
    "import numpy as np\n",
    "\n",
    "from tensorflow.keras import layers\n",
    "from tensorflow.keras import models\n",
    "from tensorflow.keras import optimizers\n",
    "from tensorflow.keras.preprocessing.image import ImageDataGenerator\n",
    "from tensorflow.keras.callbacks import ReduceLROnPlateau\n",
    "\n",
    "from model01 import model"
   ]
  },
  {
   "cell_type": "code",
   "execution_count": 5,
   "metadata": {
    "ExecuteTime": {
     "end_time": "2020-04-02T13:21:29.684033Z",
     "start_time": "2020-04-02T13:21:29.676407Z"
    }
   },
   "outputs": [
    {
     "name": "stdout",
     "output_type": "stream",
     "text": [
      "Model: \"sequential\"\n",
      "_________________________________________________________________\n",
      "Layer (type)                 Output Shape              Param #   \n",
      "=================================================================\n",
      "conv2d (Conv2D)              (None, 144, 288, 16)      1216      \n",
      "_________________________________________________________________\n",
      "max_pooling2d (MaxPooling2D) (None, 72, 72, 16)        0         \n",
      "_________________________________________________________________\n",
      "dropout (Dropout)            (None, 72, 72, 16)        0         \n",
      "_________________________________________________________________\n",
      "conv2d_1 (Conv2D)            (None, 72, 72, 32)        4640      \n",
      "_________________________________________________________________\n",
      "max_pooling2d_1 (MaxPooling2 (None, 36, 36, 32)        0         \n",
      "_________________________________________________________________\n",
      "dropout_1 (Dropout)          (None, 36, 36, 32)        0         \n",
      "_________________________________________________________________\n",
      "conv2d_2 (Conv2D)            (None, 34, 34, 64)        18496     \n",
      "_________________________________________________________________\n",
      "max_pooling2d_2 (MaxPooling2 (None, 17, 17, 64)        0         \n",
      "_________________________________________________________________\n",
      "dropout_2 (Dropout)          (None, 17, 17, 64)        0         \n",
      "_________________________________________________________________\n",
      "conv2d_3 (Conv2D)            (None, 15, 15, 128)       73856     \n",
      "_________________________________________________________________\n",
      "conv2d_4 (Conv2D)            (None, 13, 13, 128)       147584    \n",
      "_________________________________________________________________\n",
      "conv2d_5 (Conv2D)            (None, 13, 13, 128)       16512     \n",
      "_________________________________________________________________\n",
      "max_pooling2d_3 (MaxPooling2 (None, 6, 6, 128)         0         \n",
      "_________________________________________________________________\n",
      "dropout_3 (Dropout)          (None, 6, 6, 128)         0         \n",
      "_________________________________________________________________\n",
      "conv2d_6 (Conv2D)            (None, 4, 4, 256)         295168    \n",
      "_________________________________________________________________\n",
      "conv2d_7 (Conv2D)            (None, 2, 2, 256)         590080    \n",
      "_________________________________________________________________\n",
      "conv2d_8 (Conv2D)            (None, 2, 2, 512)         131584    \n",
      "_________________________________________________________________\n",
      "flatten (Flatten)            (None, 2048)              0         \n",
      "_________________________________________________________________\n",
      "dense (Dense)                (None, 512)               1049088   \n",
      "_________________________________________________________________\n",
      "dropout_4 (Dropout)          (None, 512)               0         \n",
      "_________________________________________________________________\n",
      "dense_1 (Dense)              (None, 1)                 513       \n",
      "=================================================================\n",
      "Total params: 2,328,737\n",
      "Trainable params: 2,328,737\n",
      "Non-trainable params: 0\n",
      "_________________________________________________________________\n"
     ]
    }
   ],
   "source": [
    "model.summary()"
   ]
  },
  {
   "cell_type": "code",
   "execution_count": 6,
   "metadata": {
    "ExecuteTime": {
     "end_time": "2020-04-02T13:21:29.941665Z",
     "start_time": "2020-04-02T13:21:29.685496Z"
    }
   },
   "outputs": [],
   "source": [
    "model.load_weights('gerabasesvazios_cropped_tunned.hdf5')\n"
   ]
  },
  {
   "cell_type": "code",
   "execution_count": 7,
   "metadata": {
    "ExecuteTime": {
     "end_time": "2020-04-02T13:21:30.026404Z",
     "start_time": "2020-04-02T13:21:29.944124Z"
    }
   },
   "outputs": [],
   "source": [
    "x = layers.Dense(256, use_bias=False)(model.get_layer('flatten').output)\n",
    "x = layers.BatchNormalization()(x)\n",
    "x = layers.Activation(\"relu\")(x)\n",
    "x = layers.Dropout(0.3)(x)\n",
    "x = layers.Dense(1, activation='linear')(x)\n",
    "x = layers.Dense(256, use_bias=False)(x)\n",
    "x = layers.BatchNormalization()(x)\n",
    "x = layers.Activation(\"relu\")(x)\n",
    "x = layers.Dropout(0.3)(x)\n",
    "x = layers.Dense(1, activation='linear')(x)\n",
    "regression_model = models.Model(inputs=model.input, outputs=x)\n",
    "#for layer in regression_model.layers[:-3]:\n",
    "#    layer.trainable = False\n",
    "regression_model.compile(loss='mae', optimizer='adam')\n"
   ]
  },
  {
   "cell_type": "code",
   "execution_count": 8,
   "metadata": {
    "ExecuteTime": {
     "end_time": "2020-04-02T13:21:30.048593Z",
     "start_time": "2020-04-02T13:21:30.033379Z"
    }
   },
   "outputs": [
    {
     "name": "stdout",
     "output_type": "stream",
     "text": [
      "Model: \"model\"\n",
      "_________________________________________________________________\n",
      "Layer (type)                 Output Shape              Param #   \n",
      "=================================================================\n",
      "conv2d_input (InputLayer)    [(None, 144, 288, 3)]     0         \n",
      "_________________________________________________________________\n",
      "conv2d (Conv2D)              (None, 144, 288, 16)      1216      \n",
      "_________________________________________________________________\n",
      "max_pooling2d (MaxPooling2D) (None, 72, 72, 16)        0         \n",
      "_________________________________________________________________\n",
      "dropout (Dropout)            (None, 72, 72, 16)        0         \n",
      "_________________________________________________________________\n",
      "conv2d_1 (Conv2D)            (None, 72, 72, 32)        4640      \n",
      "_________________________________________________________________\n",
      "max_pooling2d_1 (MaxPooling2 (None, 36, 36, 32)        0         \n",
      "_________________________________________________________________\n",
      "dropout_1 (Dropout)          (None, 36, 36, 32)        0         \n",
      "_________________________________________________________________\n",
      "conv2d_2 (Conv2D)            (None, 34, 34, 64)        18496     \n",
      "_________________________________________________________________\n",
      "max_pooling2d_2 (MaxPooling2 (None, 17, 17, 64)        0         \n",
      "_________________________________________________________________\n",
      "dropout_2 (Dropout)          (None, 17, 17, 64)        0         \n",
      "_________________________________________________________________\n",
      "conv2d_3 (Conv2D)            (None, 15, 15, 128)       73856     \n",
      "_________________________________________________________________\n",
      "conv2d_4 (Conv2D)            (None, 13, 13, 128)       147584    \n",
      "_________________________________________________________________\n",
      "conv2d_5 (Conv2D)            (None, 13, 13, 128)       16512     \n",
      "_________________________________________________________________\n",
      "max_pooling2d_3 (MaxPooling2 (None, 6, 6, 128)         0         \n",
      "_________________________________________________________________\n",
      "dropout_3 (Dropout)          (None, 6, 6, 128)         0         \n",
      "_________________________________________________________________\n",
      "conv2d_6 (Conv2D)            (None, 4, 4, 256)         295168    \n",
      "_________________________________________________________________\n",
      "conv2d_7 (Conv2D)            (None, 2, 2, 256)         590080    \n",
      "_________________________________________________________________\n",
      "conv2d_8 (Conv2D)            (None, 2, 2, 512)         131584    \n",
      "_________________________________________________________________\n",
      "flatten (Flatten)            (None, 2048)              0         \n",
      "_________________________________________________________________\n",
      "dense_2 (Dense)              (None, 512)               1048576   \n",
      "_________________________________________________________________\n",
      "batch_normalization (BatchNo (None, 512)               2048      \n",
      "_________________________________________________________________\n",
      "activation (Activation)      (None, 512)               0         \n",
      "_________________________________________________________________\n",
      "dropout_5 (Dropout)          (None, 512)               0         \n",
      "_________________________________________________________________\n",
      "dense_3 (Dense)              (None, 1)                 513       \n",
      "=================================================================\n",
      "Total params: 2,330,273\n",
      "Trainable params: 2,329,249\n",
      "Non-trainable params: 1,024\n",
      "_________________________________________________________________\n"
     ]
    }
   ],
   "source": [
    "regression_model.summary()\n"
   ]
  },
  {
   "cell_type": "code",
   "execution_count": 9,
   "metadata": {
    "ExecuteTime": {
     "end_time": "2020-04-02T13:21:30.105823Z",
     "start_time": "2020-04-02T13:21:30.050760Z"
    }
   },
   "outputs": [
    {
     "name": "stdout",
     "output_type": "stream",
     "text": [
      "<tensorflow.python.keras.engine.input_layer.InputLayer object at 0x7f7727462ba8> True\n",
      "<tensorflow.python.keras.layers.convolutional.Conv2D object at 0x7f77a9b8b898> True\n",
      "<tensorflow.python.keras.layers.pooling.MaxPooling2D object at 0x7f772744f1d0> True\n",
      "<tensorflow.python.keras.layers.core.Dropout object at 0x7f772744f3c8> True\n",
      "<tensorflow.python.keras.layers.convolutional.Conv2D object at 0x7f772744f518> True\n",
      "<tensorflow.python.keras.layers.pooling.MaxPooling2D object at 0x7f772744f978> True\n",
      "<tensorflow.python.keras.layers.core.Dropout object at 0x7f772744fb70> True\n",
      "<tensorflow.python.keras.layers.convolutional.Conv2D object at 0x7f772744fc88> True\n",
      "<tensorflow.python.keras.layers.pooling.MaxPooling2D object at 0x7f772745a128> True\n",
      "<tensorflow.python.keras.layers.core.Dropout object at 0x7f772745a320> True\n",
      "<tensorflow.python.keras.layers.convolutional.Conv2D object at 0x7f772745a438> True\n",
      "<tensorflow.python.keras.layers.convolutional.Conv2D object at 0x7f772745a898> True\n",
      "<tensorflow.python.keras.layers.convolutional.Conv2D object at 0x7f772745acf8> True\n",
      "<tensorflow.python.keras.layers.pooling.MaxPooling2D object at 0x7f772745f198> True\n",
      "<tensorflow.python.keras.layers.core.Dropout object at 0x7f772745f390> True\n",
      "<tensorflow.python.keras.layers.convolutional.Conv2D object at 0x7f772745f4a8> True\n",
      "<tensorflow.python.keras.layers.convolutional.Conv2D object at 0x7f772745f908> True\n",
      "<tensorflow.python.keras.layers.convolutional.Conv2D object at 0x7f772745fd68> True\n",
      "<tensorflow.python.keras.layers.core.Flatten object at 0x7f7727462208> True\n",
      "<tensorflow.python.keras.layers.core.Dense object at 0x7f77241fd8d0> True\n",
      "<tensorflow.python.keras.layers.normalization_v2.BatchNormalization object at 0x7f77241fd898> True\n",
      "<tensorflow.python.keras.layers.core.Activation object at 0x7f7724206940> True\n",
      "<tensorflow.python.keras.layers.core.Dropout object at 0x7f772414dc88> True\n",
      "<tensorflow.python.keras.layers.core.Dense object at 0x7f772414d320> True\n"
     ]
    }
   ],
   "source": [
    "for layer in regression_model.layers:\n",
    "    print(layer, layer.trainable)\n"
   ]
  },
  {
   "cell_type": "markdown",
   "metadata": {},
   "source": [
    "## Carregar e montar dados para treinamento"
   ]
  },
  {
   "cell_type": "code",
   "execution_count": 10,
   "metadata": {
    "ExecuteTime": {
     "end_time": "2020-04-02T13:21:30.274831Z",
     "start_time": "2020-04-02T13:21:30.109094Z"
    }
   },
   "outputs": [
    {
     "data": {
      "text/html": [
       "<div>\n",
       "<style scoped>\n",
       "    .dataframe tbody tr th:only-of-type {\n",
       "        vertical-align: middle;\n",
       "    }\n",
       "\n",
       "    .dataframe tbody tr th {\n",
       "        vertical-align: top;\n",
       "    }\n",
       "\n",
       "    .dataframe thead th {\n",
       "        text-align: right;\n",
       "    }\n",
       "</style>\n",
       "<table border=\"1\" class=\"dataframe\">\n",
       "  <thead>\n",
       "    <tr style=\"text-align: right;\">\n",
       "      <th></th>\n",
       "      <th>id</th>\n",
       "      <th>pesobalanca</th>\n",
       "      <th>pesodeclarado</th>\n",
       "      <th>dif</th>\n",
       "      <th>filename</th>\n",
       "    </tr>\n",
       "  </thead>\n",
       "  <tbody>\n",
       "    <tr>\n",
       "      <th>0</th>\n",
       "      <td>5e5d096a3d0ec8337863f799</td>\n",
       "      <td>7170</td>\n",
       "      <td>7167</td>\n",
       "      <td>3</td>\n",
       "      <td>5e5d096a3d0ec8337863f799.jpg</td>\n",
       "    </tr>\n",
       "    <tr>\n",
       "      <th>1</th>\n",
       "      <td>5e5d09703d0ec8337863f9ee</td>\n",
       "      <td>29190</td>\n",
       "      <td>29149</td>\n",
       "      <td>41</td>\n",
       "      <td>5e5d09703d0ec8337863f9ee.jpg</td>\n",
       "    </tr>\n",
       "    <tr>\n",
       "      <th>2</th>\n",
       "      <td>5e5d09703d0ec8337863f9f2</td>\n",
       "      <td>6380</td>\n",
       "      <td>6348</td>\n",
       "      <td>32</td>\n",
       "      <td>5e5d09703d0ec8337863f9f2.jpg</td>\n",
       "    </tr>\n",
       "    <tr>\n",
       "      <th>3</th>\n",
       "      <td>5e5d099986556b3036c6dc6d</td>\n",
       "      <td>7610</td>\n",
       "      <td>7788</td>\n",
       "      <td>178</td>\n",
       "      <td>5e5d099986556b3036c6dc6d.jpg</td>\n",
       "    </tr>\n",
       "    <tr>\n",
       "      <th>4</th>\n",
       "      <td>5e5d094386556b3036c6dc5c</td>\n",
       "      <td>22280</td>\n",
       "      <td>22300</td>\n",
       "      <td>20</td>\n",
       "      <td>5e5d094386556b3036c6dc5c.jpg</td>\n",
       "    </tr>\n",
       "  </tbody>\n",
       "</table>\n",
       "</div>"
      ],
      "text/plain": [
       "                         id  pesobalanca  pesodeclarado  dif  \\\n",
       "0  5e5d096a3d0ec8337863f799         7170           7167    3   \n",
       "1  5e5d09703d0ec8337863f9ee        29190          29149   41   \n",
       "2  5e5d09703d0ec8337863f9f2         6380           6348   32   \n",
       "3  5e5d099986556b3036c6dc6d         7610           7788  178   \n",
       "4  5e5d094386556b3036c6dc5c        22280          22300   20   \n",
       "\n",
       "                       filename  \n",
       "0  5e5d096a3d0ec8337863f799.jpg  \n",
       "1  5e5d09703d0ec8337863f9ee.jpg  \n",
       "2  5e5d09703d0ec8337863f9f2.jpg  \n",
       "3  5e5d099986556b3036c6dc6d.jpg  \n",
       "4  5e5d094386556b3036c6dc5c.jpg  "
      ]
     },
     "execution_count": 10,
     "metadata": {},
     "output_type": "execute_result"
    }
   ],
   "source": [
    "df = pd.read_csv('../../bases/pesagensbalanca/pesos.txt')\n",
    "df['dif'] = abs(df['pesobalanca'] - df['pesodeclarado'])\n",
    "df['filename'] = df['id'].map('{}.jpg'.format)\n",
    "df.head()"
   ]
  },
  {
   "cell_type": "code",
   "execution_count": 11,
   "metadata": {
    "ExecuteTime": {
     "end_time": "2020-04-02T13:21:30.298425Z",
     "start_time": "2020-04-02T13:21:30.276738Z"
    }
   },
   "outputs": [
    {
     "data": {
      "text/html": [
       "<div>\n",
       "<style scoped>\n",
       "    .dataframe tbody tr th:only-of-type {\n",
       "        vertical-align: middle;\n",
       "    }\n",
       "\n",
       "    .dataframe tbody tr th {\n",
       "        vertical-align: top;\n",
       "    }\n",
       "\n",
       "    .dataframe thead th {\n",
       "        text-align: right;\n",
       "    }\n",
       "</style>\n",
       "<table border=\"1\" class=\"dataframe\">\n",
       "  <thead>\n",
       "    <tr style=\"text-align: right;\">\n",
       "      <th></th>\n",
       "      <th>pesobalanca</th>\n",
       "      <th>pesodeclarado</th>\n",
       "      <th>dif</th>\n",
       "    </tr>\n",
       "  </thead>\n",
       "  <tbody>\n",
       "    <tr>\n",
       "      <th>count</th>\n",
       "      <td>9317.000000</td>\n",
       "      <td>9317.000000</td>\n",
       "      <td>9317.000000</td>\n",
       "    </tr>\n",
       "    <tr>\n",
       "      <th>mean</th>\n",
       "      <td>18572.832027</td>\n",
       "      <td>18807.056349</td>\n",
       "      <td>1162.008801</td>\n",
       "    </tr>\n",
       "    <tr>\n",
       "      <th>std</th>\n",
       "      <td>8261.590188</td>\n",
       "      <td>8106.655375</td>\n",
       "      <td>3793.829146</td>\n",
       "    </tr>\n",
       "    <tr>\n",
       "      <th>min</th>\n",
       "      <td>0.000000</td>\n",
       "      <td>2070.000000</td>\n",
       "      <td>0.000000</td>\n",
       "    </tr>\n",
       "    <tr>\n",
       "      <th>25%</th>\n",
       "      <td>11300.000000</td>\n",
       "      <td>11453.000000</td>\n",
       "      <td>72.000000</td>\n",
       "    </tr>\n",
       "    <tr>\n",
       "      <th>50%</th>\n",
       "      <td>19600.000000</td>\n",
       "      <td>19960.000000</td>\n",
       "      <td>175.000000</td>\n",
       "    </tr>\n",
       "    <tr>\n",
       "      <th>75%</th>\n",
       "      <td>25270.000000</td>\n",
       "      <td>25575.000000</td>\n",
       "      <td>446.000000</td>\n",
       "    </tr>\n",
       "    <tr>\n",
       "      <th>max</th>\n",
       "      <td>113350.000000</td>\n",
       "      <td>41388.000000</td>\n",
       "      <td>94730.000000</td>\n",
       "    </tr>\n",
       "  </tbody>\n",
       "</table>\n",
       "</div>"
      ],
      "text/plain": [
       "         pesobalanca  pesodeclarado           dif\n",
       "count    9317.000000    9317.000000   9317.000000\n",
       "mean    18572.832027   18807.056349   1162.008801\n",
       "std      8261.590188    8106.655375   3793.829146\n",
       "min         0.000000    2070.000000      0.000000\n",
       "25%     11300.000000   11453.000000     72.000000\n",
       "50%     19600.000000   19960.000000    175.000000\n",
       "75%     25270.000000   25575.000000    446.000000\n",
       "max    113350.000000   41388.000000  94730.000000"
      ]
     },
     "execution_count": 11,
     "metadata": {},
     "output_type": "execute_result"
    }
   ],
   "source": [
    "df.describe()"
   ]
  },
  {
   "cell_type": "code",
   "execution_count": 12,
   "metadata": {
    "ExecuteTime": {
     "end_time": "2020-04-02T13:21:30.305733Z",
     "start_time": "2020-04-02T13:21:30.300394Z"
    }
   },
   "outputs": [
    {
     "data": {
      "text/plain": [
       "8734"
      ]
     },
     "execution_count": 12,
     "metadata": {},
     "output_type": "execute_result"
    }
   ],
   "source": [
    "df[df['dif'] < 4000]['dif'].count() # Pegar somente os pesos que batem declarado x balança"
   ]
  },
  {
   "cell_type": "code",
   "execution_count": 13,
   "metadata": {
    "ExecuteTime": {
     "end_time": "2020-04-02T13:21:30.317907Z",
     "start_time": "2020-04-02T13:21:30.307823Z"
    }
   },
   "outputs": [
    {
     "data": {
      "text/plain": [
       "8104"
      ]
     },
     "execution_count": 13,
     "metadata": {},
     "output_type": "execute_result"
    }
   ],
   "source": [
    "df[df['dif'] < 1000]['dif'].count() # Pegar somente os pesos que batem declarado x balança"
   ]
  },
  {
   "cell_type": "code",
   "execution_count": 14,
   "metadata": {
    "ExecuteTime": {
     "end_time": "2020-04-02T13:21:30.338402Z",
     "start_time": "2020-04-02T13:21:30.319412Z"
    }
   },
   "outputs": [],
   "source": [
    "df_filtered = df[df['dif'] < 1000]\n",
    "splitmask = np.random.rand(len(df_filtered)) < 0.9\n",
    "df_train = df_filtered[splitmask]\n",
    "df_val = df_filtered[~splitmask]"
   ]
  },
  {
   "cell_type": "code",
   "execution_count": 15,
   "metadata": {
    "ExecuteTime": {
     "end_time": "2020-04-02T13:21:30.410991Z",
     "start_time": "2020-04-02T13:21:30.341575Z"
    }
   },
   "outputs": [
    {
     "name": "stdout",
     "output_type": "stream",
     "text": [
      "Found 7305 validated image filenames.\n",
      "Found 799 validated image filenames.\n"
     ]
    }
   ],
   "source": [
    "train_datagen = ImageDataGenerator(\n",
    "    rescale=1./255,\n",
    "    horizontal_flip=True,\n",
    ")\n",
    "\n",
    "train_generator = train_datagen.flow_from_dataframe(\n",
    "    dataframe=df_train,\n",
    "    directory='../../bases/pesagensbalanca/pesagensbalanca_cropped',\n",
    "    target_size=(144, 288),\n",
    "    batch_size=64,\n",
    "    x_col='filename',\n",
    "    y_col=\"pesobalanca\",\n",
    "    shuffle=False,\n",
    "    class_mode='other' \n",
    ")\n",
    "\n",
    "val_generator = train_datagen.flow_from_dataframe(\n",
    "    dataframe=df_val,\n",
    "    directory='../../bases/pesagensbalanca/pesagensbalanca_cropped',\n",
    "    target_size=(144, 288),\n",
    "    batch_size=64,\n",
    "    x_col='filename',\n",
    "    y_col=\"pesobalanca\",\n",
    "    shuffle=False,\n",
    "    class_mode='other' \n",
    ")"
   ]
  },
  {
   "cell_type": "markdown",
   "metadata": {},
   "source": [
    "## Train "
   ]
  },
  {
   "cell_type": "code",
   "execution_count": 16,
   "metadata": {
    "ExecuteTime": {
     "end_time": "2020-04-02T13:21:30.449582Z",
     "start_time": "2020-04-02T13:21:30.412504Z"
    }
   },
   "outputs": [],
   "source": [
    "regression_model.compile(optimizer=optimizers.Adam(lr=0.001),\n",
    "                         loss='mean_squared_error', metrics=['mse', 'mae'])\n",
    "reduce_lr = ReduceLROnPlateau(monitor='val_loss', factor=0.1, patience=4,\n",
    "                          verbose=1, min_delta=1e-2, mode='min')"
   ]
  },
  {
   "cell_type": "code",
   "execution_count": 17,
   "metadata": {
    "ExecuteTime": {
     "end_time": "2020-04-02T13:49:12.203862Z",
     "start_time": "2020-04-02T13:21:30.450909Z"
    }
   },
   "outputs": [
    {
     "name": "stdout",
     "output_type": "stream",
     "text": [
      "Train for 115 steps, validate for 12 steps\n",
      "Epoch 1/50\n",
      "115/115 [==============================] - 74s 646ms/step - loss: 415220087.1618 - mse: 415317120.0000 - mae: 18748.2188 - val_loss: 411975074.6667 - val_mse: 411975136.0000 - val_mae: 18732.5156\n",
      "Epoch 2/50\n",
      "115/115 [==============================] - 78s 679ms/step - loss: 413269757.3120 - mse: 413364256.0000 - mae: 18707.0645 - val_loss: 411204725.3333 - val_mse: 411204704.0000 - val_mae: 18717.6133\n",
      "Epoch 3/50\n",
      "115/115 [==============================] - 79s 687ms/step - loss: 410647039.1654 - mse: 410747680.0000 - mae: 18652.5430 - val_loss: 410009160.0000 - val_mse: 410009184.0000 - val_mae: 18692.5410\n",
      "Epoch 4/50\n",
      "115/115 [==============================] - 76s 665ms/step - loss: 407398051.1860 - mse: 407481120.0000 - mae: 18582.9707 - val_loss: 404288392.0000 - val_mse: 404288352.0000 - val_mae: 18568.2539\n",
      "Epoch 5/50\n",
      "115/115 [==============================] - 79s 683ms/step - loss: 403518297.2356 - mse: 403595264.0000 - mae: 18499.6992 - val_loss: 400023200.0000 - val_mse: 400023200.0000 - val_mae: 18472.2480\n",
      "Epoch 6/50\n",
      "115/115 [==============================] - 76s 663ms/step - loss: 399062810.7392 - mse: 399160992.0000 - mae: 18403.4766 - val_loss: 386800490.6667 - val_mse: 386800512.0000 - val_mae: 18176.6055\n",
      "Epoch 7/50\n",
      "115/115 [==============================] - 77s 671ms/step - loss: 393806524.0354 - mse: 393899552.0000 - mae: 18290.0449 - val_loss: 390302384.0000 - val_mse: 390302368.0000 - val_mae: 18260.1582\n",
      "Epoch 8/50\n",
      "115/115 [==============================] - 76s 658ms/step - loss: 388069072.8390 - mse: 388152576.0000 - mae: 18167.1465 - val_loss: 389898229.3333 - val_mse: 389898240.0000 - val_mae: 18261.4746\n",
      "Epoch 9/50\n",
      "115/115 [==============================] - 76s 663ms/step - loss: 381463157.8197 - mse: 381536672.0000 - mae: 18015.7422 - val_loss: 380613922.6667 - val_mse: 380613920.0000 - val_mae: 18056.4512\n",
      "Epoch 10/50\n",
      "115/115 [==============================] - 76s 659ms/step - loss: 374503249.6069 - mse: 374598688.0000 - mae: 17863.0879 - val_loss: 379655605.3333 - val_mse: 379655552.0000 - val_mae: 18021.9180\n",
      "Epoch 11/50\n",
      "115/115 [==============================] - 77s 670ms/step - loss: 367185965.4300 - mse: 367307200.0000 - mae: 17694.6484 - val_loss: 343969325.3333 - val_mse: 343969312.0000 - val_mae: 17161.8906\n",
      "Epoch 12/50\n",
      "115/115 [==============================] - 75s 656ms/step - loss: 358476746.6873 - mse: 358584544.0000 - mae: 17491.2266 - val_loss: 353951968.0000 - val_mse: 353951968.0000 - val_mae: 17418.1504\n",
      "Epoch 13/50\n",
      "115/115 [==============================] - 77s 670ms/step - loss: 349930860.4906 - mse: 350009408.0000 - mae: 17295.0801 - val_loss: 354127346.6667 - val_mse: 354127328.0000 - val_mae: 17427.5703\n",
      "Epoch 14/50\n",
      "115/115 [==============================] - 76s 657ms/step - loss: 340515025.6073 - mse: 340565184.0000 - mae: 17071.6855 - val_loss: 352061794.6667 - val_mse: 352061792.0000 - val_mae: 17379.1797\n",
      "Epoch 15/50\n",
      "115/115 [==============================] - 79s 685ms/step - loss: 331025919.2787 - mse: 331108064.0000 - mae: 16838.6914 - val_loss: 318448682.6667 - val_mse: 318448704.0000 - val_mae: 16539.2324\n",
      "Epoch 16/50\n",
      "115/115 [==============================] - 76s 659ms/step - loss: 320764849.1467 - mse: 320871552.0000 - mae: 16591.7305 - val_loss: 322317584.0000 - val_mse: 322317600.0000 - val_mae: 16691.1973\n",
      "Epoch 17/50\n",
      "115/115 [==============================] - 77s 668ms/step - loss: 310542807.1180 - mse: 310639680.0000 - mae: 16337.1445 - val_loss: 264590422.6667 - val_mse: 264590416.0000 - val_mae: 15115.0557\n",
      "Epoch 18/50\n",
      "115/115 [==============================] - 78s 678ms/step - loss: 299387551.8482 - mse: 299466592.0000 - mae: 16046.4365 - val_loss: 302398461.3333 - val_mse: 302398464.0000 - val_mae: 16152.3516\n",
      "Epoch 19/50\n",
      "115/115 [==============================] - 78s 683ms/step - loss: 287801041.7626 - mse: 287907040.0000 - mae: 15752.8643 - val_loss: 303159109.3333 - val_mse: 303159104.0000 - val_mae: 16174.9922\n",
      "Epoch 20/50\n",
      "115/115 [==============================] - 78s 681ms/step - loss: 276439148.0318 - mse: 276473856.0000 - mae: 15451.0654 - val_loss: 287699664.0000 - val_mse: 287699680.0000 - val_mae: 15696.8193\n",
      "Epoch 21/50\n",
      "  1/115 [..............................] - ETA: 1:57:20"
     ]
    },
    {
     "name": "stderr",
     "output_type": "stream",
     "text": [
      "WARNING: Logging before flag parsing goes to stderr.\n",
      "W0402 10:49:07.115427 140152601270016 callbacks.py:1824] Reduce LR on plateau conditioned on metric `val_loss` which is not available. Available metrics are: lr\n"
     ]
    },
    {
     "name": "stdout",
     "output_type": "stream",
     "text": [
      "\b\b\b\b\b\b\b\b\b\b\b\b\b\b\b\b\b\b\b\b\b\b\b\b\b\b\b\b\b\b\b\b\b\b\b\b\b\b\b\b\b\b\b\b\b\b\b\b\b\b\b\b\b\b\b\r",
      "  1/115 [..............................] - ETA: 1:57:27"
     ]
    },
    {
     "ename": "KeyboardInterrupt",
     "evalue": "",
     "output_type": "error",
     "traceback": [
      "\u001b[0;31m---------------------------------------------------------------------------\u001b[0m",
      "\u001b[0;31mKeyboardInterrupt\u001b[0m                         Traceback (most recent call last)",
      "\u001b[0;32m<ipython-input-17-85c74cfd05fd>\u001b[0m in \u001b[0;36m<module>\u001b[0;34m\u001b[0m\n\u001b[1;32m      2\u001b[0m                      \u001b[0mcallbacks\u001b[0m\u001b[0;34m=\u001b[0m\u001b[0;34m[\u001b[0m\u001b[0mreduce_lr\u001b[0m\u001b[0;34m]\u001b[0m\u001b[0;34m,\u001b[0m\u001b[0;34m\u001b[0m\u001b[0m\n\u001b[1;32m      3\u001b[0m                    \u001b[0mvalidation_data\u001b[0m \u001b[0;34m=\u001b[0m \u001b[0mval_generator\u001b[0m\u001b[0;34m,\u001b[0m\u001b[0;34m\u001b[0m\u001b[0m\n\u001b[0;32m----> 4\u001b[0;31m                    validation_steps = val_generator.samples // 64)\n\u001b[0m",
      "\u001b[0;32m~/pybr/projeto/venv/lib/python3.5/site-packages/tensorflow_core/python/keras/engine/training.py\u001b[0m in \u001b[0;36mfit\u001b[0;34m(self, x, y, batch_size, epochs, verbose, callbacks, validation_split, validation_data, shuffle, class_weight, sample_weight, initial_epoch, steps_per_epoch, validation_steps, validation_freq, max_queue_size, workers, use_multiprocessing, **kwargs)\u001b[0m\n\u001b[1;32m    726\u001b[0m         \u001b[0mmax_queue_size\u001b[0m\u001b[0;34m=\u001b[0m\u001b[0mmax_queue_size\u001b[0m\u001b[0;34m,\u001b[0m\u001b[0;34m\u001b[0m\u001b[0m\n\u001b[1;32m    727\u001b[0m         \u001b[0mworkers\u001b[0m\u001b[0;34m=\u001b[0m\u001b[0mworkers\u001b[0m\u001b[0;34m,\u001b[0m\u001b[0;34m\u001b[0m\u001b[0m\n\u001b[0;32m--> 728\u001b[0;31m         use_multiprocessing=use_multiprocessing)\n\u001b[0m\u001b[1;32m    729\u001b[0m \u001b[0;34m\u001b[0m\u001b[0m\n\u001b[1;32m    730\u001b[0m   def evaluate(self,\n",
      "\u001b[0;32m~/pybr/projeto/venv/lib/python3.5/site-packages/tensorflow_core/python/keras/engine/training_v2.py\u001b[0m in \u001b[0;36mfit\u001b[0;34m(self, model, x, y, batch_size, epochs, verbose, callbacks, validation_split, validation_data, shuffle, class_weight, sample_weight, initial_epoch, steps_per_epoch, validation_steps, validation_freq, **kwargs)\u001b[0m\n\u001b[1;32m    322\u001b[0m                 \u001b[0mmode\u001b[0m\u001b[0;34m=\u001b[0m\u001b[0mModeKeys\u001b[0m\u001b[0;34m.\u001b[0m\u001b[0mTRAIN\u001b[0m\u001b[0;34m,\u001b[0m\u001b[0;34m\u001b[0m\u001b[0m\n\u001b[1;32m    323\u001b[0m                 \u001b[0mtraining_context\u001b[0m\u001b[0;34m=\u001b[0m\u001b[0mtraining_context\u001b[0m\u001b[0;34m,\u001b[0m\u001b[0;34m\u001b[0m\u001b[0m\n\u001b[0;32m--> 324\u001b[0;31m                 total_epochs=epochs)\n\u001b[0m\u001b[1;32m    325\u001b[0m             \u001b[0mcbks\u001b[0m\u001b[0;34m.\u001b[0m\u001b[0mmake_logs\u001b[0m\u001b[0;34m(\u001b[0m\u001b[0mmodel\u001b[0m\u001b[0;34m,\u001b[0m \u001b[0mepoch_logs\u001b[0m\u001b[0;34m,\u001b[0m \u001b[0mtraining_result\u001b[0m\u001b[0;34m,\u001b[0m \u001b[0mModeKeys\u001b[0m\u001b[0;34m.\u001b[0m\u001b[0mTRAIN\u001b[0m\u001b[0;34m)\u001b[0m\u001b[0;34m\u001b[0m\u001b[0m\n\u001b[1;32m    326\u001b[0m \u001b[0;34m\u001b[0m\u001b[0m\n",
      "\u001b[0;32m~/pybr/projeto/venv/lib/python3.5/site-packages/tensorflow_core/python/keras/engine/training_v2.py\u001b[0m in \u001b[0;36mrun_one_epoch\u001b[0;34m(model, iterator, execution_function, dataset_size, batch_size, strategy, steps_per_epoch, num_samples, mode, training_context, total_epochs)\u001b[0m\n\u001b[1;32m    121\u001b[0m         step=step, mode=mode, size=current_batch_size) as batch_logs:\n\u001b[1;32m    122\u001b[0m       \u001b[0;32mtry\u001b[0m\u001b[0;34m:\u001b[0m\u001b[0;34m\u001b[0m\u001b[0m\n\u001b[0;32m--> 123\u001b[0;31m         \u001b[0mbatch_outs\u001b[0m \u001b[0;34m=\u001b[0m \u001b[0mexecution_function\u001b[0m\u001b[0;34m(\u001b[0m\u001b[0miterator\u001b[0m\u001b[0;34m)\u001b[0m\u001b[0;34m\u001b[0m\u001b[0m\n\u001b[0m\u001b[1;32m    124\u001b[0m       \u001b[0;32mexcept\u001b[0m \u001b[0;34m(\u001b[0m\u001b[0mStopIteration\u001b[0m\u001b[0;34m,\u001b[0m \u001b[0merrors\u001b[0m\u001b[0;34m.\u001b[0m\u001b[0mOutOfRangeError\u001b[0m\u001b[0;34m)\u001b[0m\u001b[0;34m:\u001b[0m\u001b[0;34m\u001b[0m\u001b[0m\n\u001b[1;32m    125\u001b[0m         \u001b[0;31m# TODO(kaftan): File bug about tf function and errors.OutOfRangeError?\u001b[0m\u001b[0;34m\u001b[0m\u001b[0;34m\u001b[0m\u001b[0m\n",
      "\u001b[0;32m~/pybr/projeto/venv/lib/python3.5/site-packages/tensorflow_core/python/keras/engine/training_v2_utils.py\u001b[0m in \u001b[0;36mexecution_function\u001b[0;34m(input_fn)\u001b[0m\n\u001b[1;32m     84\u001b[0m     \u001b[0;31m# `numpy` translates Tensors to values in Eager mode.\u001b[0m\u001b[0;34m\u001b[0m\u001b[0;34m\u001b[0m\u001b[0m\n\u001b[1;32m     85\u001b[0m     return nest.map_structure(_non_none_constant_value,\n\u001b[0;32m---> 86\u001b[0;31m                               distributed_function(input_fn))\n\u001b[0m\u001b[1;32m     87\u001b[0m \u001b[0;34m\u001b[0m\u001b[0m\n\u001b[1;32m     88\u001b[0m   \u001b[0;32mreturn\u001b[0m \u001b[0mexecution_function\u001b[0m\u001b[0;34m\u001b[0m\u001b[0m\n",
      "\u001b[0;32m~/pybr/projeto/venv/lib/python3.5/site-packages/tensorflow_core/python/eager/def_function.py\u001b[0m in \u001b[0;36m__call__\u001b[0;34m(self, *args, **kwds)\u001b[0m\n\u001b[1;32m    455\u001b[0m \u001b[0;34m\u001b[0m\u001b[0m\n\u001b[1;32m    456\u001b[0m     \u001b[0mtracing_count\u001b[0m \u001b[0;34m=\u001b[0m \u001b[0mself\u001b[0m\u001b[0;34m.\u001b[0m\u001b[0m_get_tracing_count\u001b[0m\u001b[0;34m(\u001b[0m\u001b[0;34m)\u001b[0m\u001b[0;34m\u001b[0m\u001b[0m\n\u001b[0;32m--> 457\u001b[0;31m     \u001b[0mresult\u001b[0m \u001b[0;34m=\u001b[0m \u001b[0mself\u001b[0m\u001b[0;34m.\u001b[0m\u001b[0m_call\u001b[0m\u001b[0;34m(\u001b[0m\u001b[0;34m*\u001b[0m\u001b[0margs\u001b[0m\u001b[0;34m,\u001b[0m \u001b[0;34m**\u001b[0m\u001b[0mkwds\u001b[0m\u001b[0;34m)\u001b[0m\u001b[0;34m\u001b[0m\u001b[0m\n\u001b[0m\u001b[1;32m    458\u001b[0m     \u001b[0;32mif\u001b[0m \u001b[0mtracing_count\u001b[0m \u001b[0;34m==\u001b[0m \u001b[0mself\u001b[0m\u001b[0;34m.\u001b[0m\u001b[0m_get_tracing_count\u001b[0m\u001b[0;34m(\u001b[0m\u001b[0;34m)\u001b[0m\u001b[0;34m:\u001b[0m\u001b[0;34m\u001b[0m\u001b[0m\n\u001b[1;32m    459\u001b[0m       \u001b[0mself\u001b[0m\u001b[0;34m.\u001b[0m\u001b[0m_call_counter\u001b[0m\u001b[0;34m.\u001b[0m\u001b[0mcalled_without_tracing\u001b[0m\u001b[0;34m(\u001b[0m\u001b[0;34m)\u001b[0m\u001b[0;34m\u001b[0m\u001b[0m\n",
      "\u001b[0;32m~/pybr/projeto/venv/lib/python3.5/site-packages/tensorflow_core/python/eager/def_function.py\u001b[0m in \u001b[0;36m_call\u001b[0;34m(self, *args, **kwds)\u001b[0m\n\u001b[1;32m    485\u001b[0m       \u001b[0;31m# In this case we have created variables on the first call, so we run the\u001b[0m\u001b[0;34m\u001b[0m\u001b[0;34m\u001b[0m\u001b[0m\n\u001b[1;32m    486\u001b[0m       \u001b[0;31m# defunned version which is guaranteed to never create variables.\u001b[0m\u001b[0;34m\u001b[0m\u001b[0;34m\u001b[0m\u001b[0m\n\u001b[0;32m--> 487\u001b[0;31m       \u001b[0;32mreturn\u001b[0m \u001b[0mself\u001b[0m\u001b[0;34m.\u001b[0m\u001b[0m_stateless_fn\u001b[0m\u001b[0;34m(\u001b[0m\u001b[0;34m*\u001b[0m\u001b[0margs\u001b[0m\u001b[0;34m,\u001b[0m \u001b[0;34m**\u001b[0m\u001b[0mkwds\u001b[0m\u001b[0;34m)\u001b[0m  \u001b[0;31m# pylint: disable=not-callable\u001b[0m\u001b[0;34m\u001b[0m\u001b[0m\n\u001b[0m\u001b[1;32m    488\u001b[0m     \u001b[0;32melif\u001b[0m \u001b[0mself\u001b[0m\u001b[0;34m.\u001b[0m\u001b[0m_stateful_fn\u001b[0m \u001b[0;32mis\u001b[0m \u001b[0;32mnot\u001b[0m \u001b[0;32mNone\u001b[0m\u001b[0;34m:\u001b[0m\u001b[0;34m\u001b[0m\u001b[0m\n\u001b[1;32m    489\u001b[0m       \u001b[0;31m# Release the lock early so that multiple threads can perform the call\u001b[0m\u001b[0;34m\u001b[0m\u001b[0;34m\u001b[0m\u001b[0m\n",
      "\u001b[0;32m~/pybr/projeto/venv/lib/python3.5/site-packages/tensorflow_core/python/eager/function.py\u001b[0m in \u001b[0;36m__call__\u001b[0;34m(self, *args, **kwargs)\u001b[0m\n\u001b[1;32m   1821\u001b[0m     \u001b[0;34m\"\"\"Calls a graph function specialized to the inputs.\"\"\"\u001b[0m\u001b[0;34m\u001b[0m\u001b[0m\n\u001b[1;32m   1822\u001b[0m     \u001b[0mgraph_function\u001b[0m\u001b[0;34m,\u001b[0m \u001b[0margs\u001b[0m\u001b[0;34m,\u001b[0m \u001b[0mkwargs\u001b[0m \u001b[0;34m=\u001b[0m \u001b[0mself\u001b[0m\u001b[0;34m.\u001b[0m\u001b[0m_maybe_define_function\u001b[0m\u001b[0;34m(\u001b[0m\u001b[0margs\u001b[0m\u001b[0;34m,\u001b[0m \u001b[0mkwargs\u001b[0m\u001b[0;34m)\u001b[0m\u001b[0;34m\u001b[0m\u001b[0m\n\u001b[0;32m-> 1823\u001b[0;31m     \u001b[0;32mreturn\u001b[0m \u001b[0mgraph_function\u001b[0m\u001b[0;34m.\u001b[0m\u001b[0m_filtered_call\u001b[0m\u001b[0;34m(\u001b[0m\u001b[0margs\u001b[0m\u001b[0;34m,\u001b[0m \u001b[0mkwargs\u001b[0m\u001b[0;34m)\u001b[0m  \u001b[0;31m# pylint: disable=protected-access\u001b[0m\u001b[0;34m\u001b[0m\u001b[0m\n\u001b[0m\u001b[1;32m   1824\u001b[0m \u001b[0;34m\u001b[0m\u001b[0m\n\u001b[1;32m   1825\u001b[0m   \u001b[0;34m@\u001b[0m\u001b[0mproperty\u001b[0m\u001b[0;34m\u001b[0m\u001b[0m\n",
      "\u001b[0;32m~/pybr/projeto/venv/lib/python3.5/site-packages/tensorflow_core/python/eager/function.py\u001b[0m in \u001b[0;36m_filtered_call\u001b[0;34m(self, args, kwargs)\u001b[0m\n\u001b[1;32m   1139\u001b[0m          if isinstance(t, (ops.Tensor,\n\u001b[1;32m   1140\u001b[0m                            resource_variable_ops.BaseResourceVariable))),\n\u001b[0;32m-> 1141\u001b[0;31m         self.captured_inputs)\n\u001b[0m\u001b[1;32m   1142\u001b[0m \u001b[0;34m\u001b[0m\u001b[0m\n\u001b[1;32m   1143\u001b[0m   \u001b[0;32mdef\u001b[0m \u001b[0m_call_flat\u001b[0m\u001b[0;34m(\u001b[0m\u001b[0mself\u001b[0m\u001b[0;34m,\u001b[0m \u001b[0margs\u001b[0m\u001b[0;34m,\u001b[0m \u001b[0mcaptured_inputs\u001b[0m\u001b[0;34m,\u001b[0m \u001b[0mcancellation_manager\u001b[0m\u001b[0;34m=\u001b[0m\u001b[0;32mNone\u001b[0m\u001b[0;34m)\u001b[0m\u001b[0;34m:\u001b[0m\u001b[0;34m\u001b[0m\u001b[0m\n",
      "\u001b[0;32m~/pybr/projeto/venv/lib/python3.5/site-packages/tensorflow_core/python/eager/function.py\u001b[0m in \u001b[0;36m_call_flat\u001b[0;34m(self, args, captured_inputs, cancellation_manager)\u001b[0m\n\u001b[1;32m   1222\u001b[0m     \u001b[0;32mif\u001b[0m \u001b[0mexecuting_eagerly\u001b[0m\u001b[0;34m:\u001b[0m\u001b[0;34m\u001b[0m\u001b[0m\n\u001b[1;32m   1223\u001b[0m       flat_outputs = forward_function.call(\n\u001b[0;32m-> 1224\u001b[0;31m           ctx, args, cancellation_manager=cancellation_manager)\n\u001b[0m\u001b[1;32m   1225\u001b[0m     \u001b[0;32melse\u001b[0m\u001b[0;34m:\u001b[0m\u001b[0;34m\u001b[0m\u001b[0m\n\u001b[1;32m   1226\u001b[0m       \u001b[0mgradient_name\u001b[0m \u001b[0;34m=\u001b[0m \u001b[0mself\u001b[0m\u001b[0;34m.\u001b[0m\u001b[0m_delayed_rewrite_functions\u001b[0m\u001b[0;34m.\u001b[0m\u001b[0mregister\u001b[0m\u001b[0;34m(\u001b[0m\u001b[0;34m)\u001b[0m\u001b[0;34m\u001b[0m\u001b[0m\n",
      "\u001b[0;32m~/pybr/projeto/venv/lib/python3.5/site-packages/tensorflow_core/python/eager/function.py\u001b[0m in \u001b[0;36mcall\u001b[0;34m(self, ctx, args, cancellation_manager)\u001b[0m\n\u001b[1;32m    509\u001b[0m               \u001b[0minputs\u001b[0m\u001b[0;34m=\u001b[0m\u001b[0margs\u001b[0m\u001b[0;34m,\u001b[0m\u001b[0;34m\u001b[0m\u001b[0m\n\u001b[1;32m    510\u001b[0m               \u001b[0mattrs\u001b[0m\u001b[0;34m=\u001b[0m\u001b[0;34m(\u001b[0m\u001b[0;34m\"executor_type\"\u001b[0m\u001b[0;34m,\u001b[0m \u001b[0mexecutor_type\u001b[0m\u001b[0;34m,\u001b[0m \u001b[0;34m\"config_proto\"\u001b[0m\u001b[0;34m,\u001b[0m \u001b[0mconfig\u001b[0m\u001b[0;34m)\u001b[0m\u001b[0;34m,\u001b[0m\u001b[0;34m\u001b[0m\u001b[0m\n\u001b[0;32m--> 511\u001b[0;31m               ctx=ctx)\n\u001b[0m\u001b[1;32m    512\u001b[0m         \u001b[0;32melse\u001b[0m\u001b[0;34m:\u001b[0m\u001b[0;34m\u001b[0m\u001b[0m\n\u001b[1;32m    513\u001b[0m           outputs = execute.execute_with_cancellation(\n",
      "\u001b[0;32m~/pybr/projeto/venv/lib/python3.5/site-packages/tensorflow_core/python/eager/execute.py\u001b[0m in \u001b[0;36mquick_execute\u001b[0;34m(op_name, num_outputs, inputs, attrs, ctx, name)\u001b[0m\n\u001b[1;32m     59\u001b[0m     tensors = pywrap_tensorflow.TFE_Py_Execute(ctx._handle, device_name,\n\u001b[1;32m     60\u001b[0m                                                \u001b[0mop_name\u001b[0m\u001b[0;34m,\u001b[0m \u001b[0minputs\u001b[0m\u001b[0;34m,\u001b[0m \u001b[0mattrs\u001b[0m\u001b[0;34m,\u001b[0m\u001b[0;34m\u001b[0m\u001b[0m\n\u001b[0;32m---> 61\u001b[0;31m                                                num_outputs)\n\u001b[0m\u001b[1;32m     62\u001b[0m   \u001b[0;32mexcept\u001b[0m \u001b[0mcore\u001b[0m\u001b[0;34m.\u001b[0m\u001b[0m_NotOkStatusException\u001b[0m \u001b[0;32mas\u001b[0m \u001b[0me\u001b[0m\u001b[0;34m:\u001b[0m\u001b[0;34m\u001b[0m\u001b[0m\n\u001b[1;32m     63\u001b[0m     \u001b[0;32mif\u001b[0m \u001b[0mname\u001b[0m \u001b[0;32mis\u001b[0m \u001b[0;32mnot\u001b[0m \u001b[0;32mNone\u001b[0m\u001b[0;34m:\u001b[0m\u001b[0;34m\u001b[0m\u001b[0m\n",
      "\u001b[0;31mKeyboardInterrupt\u001b[0m: "
     ]
    }
   ],
   "source": [
    "regression_model.fit(train_generator, epochs=50,\n",
    "                     callbacks=[reduce_lr],\n",
    "                   validation_data = val_generator,\n",
    "                   validation_steps = val_generator.samples // 64)"
   ]
  },
  {
   "cell_type": "code",
   "execution_count": null,
   "metadata": {
    "ExecuteTime": {
     "end_time": "2020-04-02T13:49:12.375294Z",
     "start_time": "2020-04-02T13:21:17.974Z"
    }
   },
   "outputs": [],
   "source": [
    "model.save_weights('gerabasespesagens_cropped.hdf5')"
   ]
  },
  {
   "cell_type": "code",
   "execution_count": 71,
   "metadata": {
    "ExecuteTime": {
     "end_time": "2020-04-02T14:31:02.342154Z",
     "start_time": "2020-04-02T14:31:02.155000Z"
    }
   },
   "outputs": [
    {
     "name": "stdout",
     "output_type": "stream",
     "text": [
      "4575.0156 27900\n"
     ]
    },
    {
     "data": {
      "text/plain": [
       "<matplotlib.image.AxesImage at 0x7f764014d518>"
      ]
     },
     "execution_count": 71,
     "metadata": {},
     "output_type": "execute_result"
    },
    {
     "data": {
      "image/png": "[encoded data removed]",
      "text/plain": [
       "<Figure size 432x288 with 1 Axes>"
      ]
     },
     "metadata": {
      "needs_background": "light"
     },
     "output_type": "display_data"
    }
   ],
   "source": [
    "%matplotlib inline\n",
    "import matplotlib.pyplot as plt\n",
    "sample = df.sample()\n",
    "filename = sample['filename'].item()\n",
    "image = Image.open('../../bases/pesagensbalanca/pesagensbalanca_cropped/' + filename)\n",
    "image = image.resize((288, 144), Image.LANCZOS)\n",
    "image_array = np.expand_dims(np.array(image), axis=0) / 255\n",
    "print(regression_model.predict(image_array)[0][0], sample['pesobalanca'].item())\n",
    "plt.imshow(image)"
   ]
  },
  {
   "cell_type": "code",
   "execution_count": null,
   "metadata": {},
   "outputs": [],
   "source": []
  }
 ],
 "metadata": {
  "kernelspec": {
   "display_name": "venv_gym2",
   "language": "python",
   "name": "venv_gym2"
  },
  "language_info": {
   "codemirror_mode": {
    "name": "ipython",
    "version": 3
   },
   "file_extension": ".py",
   "mimetype": "text/x-python",
   "name": "python",
   "nbconvert_exporter": "python",
   "pygments_lexer": "ipython3",
   "version": "3.5.2"
  }
 },
 "nbformat": 4,
 "nbformat_minor": 2
}
