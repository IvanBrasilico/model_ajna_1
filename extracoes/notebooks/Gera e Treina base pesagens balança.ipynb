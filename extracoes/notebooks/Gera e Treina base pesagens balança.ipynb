{
 "cells": [
  {
   "cell_type": "code",
   "execution_count": 1,
   "metadata": {
    "ExecuteTime": {
     "end_time": "2020-04-02T18:59:16.437376Z",
     "start_time": "2020-04-02T18:59:15.877947Z"
    }
   },
   "outputs": [],
   "source": [
    "import os\n",
    "import shutil\n",
    "import sys\n",
    "import time\n",
    "from PIL import Image\n",
    "from datetime import date, datetime, timedelta\n",
    "\n",
    "\n",
    "sys.path.insert(0, '..')\n",
    "from utils import mongodb"
   ]
  },
  {
   "cell_type": "code",
   "execution_count": 2,
   "metadata": {
    "ExecuteTime": {
     "end_time": "2020-04-02T18:59:16.842829Z",
     "start_time": "2020-04-02T18:59:16.747545Z"
    }
   },
   "outputs": [],
   "source": [
    "from pesagensbalanca import cursor_pesagensbalanca, extract_to"
   ]
  },
  {
   "cell_type": "markdown",
   "metadata": {},
   "source": [
    "### Generate pesagens database\n",
    "Necessário acesso ao Banco de Dados ou ao Servidor"
   ]
  },
  {
   "cell_type": "code",
   "execution_count": 3,
   "metadata": {
    "ExecuteTime": {
     "end_time": "2020-04-02T18:59:18.583634Z",
     "start_time": "2020-04-02T18:59:18.580976Z"
    }
   },
   "outputs": [],
   "source": [
    "start = datetime(2020, 3, 1)\n",
    "end = datetime.today()\n",
    "limit = 10\n",
    "s0 = time.time()\n",
    "# cursor = cursor_pesagensbalanca(mongodb, start, end, limit, crop=True)\n",
    "# count = extract_to(cursor, crop=True)\n",
    "s1 = time.time()\n",
    "# print('{:0.2f} segundos para processar {:d} registros'.format((s1 - s0), count))\n"
   ]
  },
  {
   "cell_type": "markdown",
   "metadata": {},
   "source": [
    "## Carregar e montar modelo"
   ]
  },
  {
   "cell_type": "code",
   "execution_count": 4,
   "metadata": {
    "ExecuteTime": {
     "end_time": "2020-04-02T19:00:19.855653Z",
     "start_time": "2020-04-02T18:59:19.696721Z"
    }
   },
   "outputs": [],
   "source": [
    "import pandas as pd\n",
    "import numpy as np\n",
    "\n",
    "from tensorflow.keras import layers\n",
    "from tensorflow.keras import models\n",
    "from tensorflow.keras import optimizers\n",
    "from tensorflow.keras.preprocessing.image import ImageDataGenerator\n",
    "from tensorflow.keras.callbacks import ReduceLROnPlateau\n",
    "\n",
    "from model01 import model"
   ]
  },
  {
   "cell_type": "code",
   "execution_count": 5,
   "metadata": {
    "ExecuteTime": {
     "end_time": "2020-04-02T19:00:19.870913Z",
     "start_time": "2020-04-02T19:00:19.858862Z"
    }
   },
   "outputs": [
    {
     "name": "stdout",
     "output_type": "stream",
     "text": [
      "Model: \"sequential\"\n",
      "_________________________________________________________________\n",
      "Layer (type)                 Output Shape              Param #   \n",
      "=================================================================\n",
      "conv2d (Conv2D)              (None, 144, 288, 16)      1216      \n",
      "_________________________________________________________________\n",
      "max_pooling2d (MaxPooling2D) (None, 72, 72, 16)        0         \n",
      "_________________________________________________________________\n",
      "dropout (Dropout)            (None, 72, 72, 16)        0         \n",
      "_________________________________________________________________\n",
      "conv2d_1 (Conv2D)            (None, 72, 72, 32)        4640      \n",
      "_________________________________________________________________\n",
      "max_pooling2d_1 (MaxPooling2 (None, 36, 36, 32)        0         \n",
      "_________________________________________________________________\n",
      "dropout_1 (Dropout)          (None, 36, 36, 32)        0         \n",
      "_________________________________________________________________\n",
      "conv2d_2 (Conv2D)            (None, 34, 34, 64)        18496     \n",
      "_________________________________________________________________\n",
      "max_pooling2d_2 (MaxPooling2 (None, 17, 17, 64)        0         \n",
      "_________________________________________________________________\n",
      "dropout_2 (Dropout)          (None, 17, 17, 64)        0         \n",
      "_________________________________________________________________\n",
      "conv2d_3 (Conv2D)            (None, 15, 15, 128)       73856     \n",
      "_________________________________________________________________\n",
      "conv2d_4 (Conv2D)            (None, 13, 13, 128)       147584    \n",
      "_________________________________________________________________\n",
      "conv2d_5 (Conv2D)            (None, 13, 13, 128)       16512     \n",
      "_________________________________________________________________\n",
      "max_pooling2d_3 (MaxPooling2 (None, 6, 6, 128)         0         \n",
      "_________________________________________________________________\n",
      "dropout_3 (Dropout)          (None, 6, 6, 128)         0         \n",
      "_________________________________________________________________\n",
      "conv2d_6 (Conv2D)            (None, 4, 4, 256)         295168    \n",
      "_________________________________________________________________\n",
      "conv2d_7 (Conv2D)            (None, 2, 2, 256)         590080    \n",
      "_________________________________________________________________\n",
      "conv2d_8 (Conv2D)            (None, 2, 2, 512)         131584    \n",
      "_________________________________________________________________\n",
      "flatten (Flatten)            (None, 2048)              0         \n",
      "_________________________________________________________________\n",
      "dense (Dense)                (None, 512)               1049088   \n",
      "_________________________________________________________________\n",
      "dropout_4 (Dropout)          (None, 512)               0         \n",
      "_________________________________________________________________\n",
      "dense_1 (Dense)              (None, 1)                 513       \n",
      "=================================================================\n",
      "Total params: 2,328,737\n",
      "Trainable params: 2,328,737\n",
      "Non-trainable params: 0\n",
      "_________________________________________________________________\n"
     ]
    }
   ],
   "source": [
    "model.summary()"
   ]
  },
  {
   "cell_type": "code",
   "execution_count": 6,
   "metadata": {
    "ExecuteTime": {
     "end_time": "2020-04-02T13:21:29.941665Z",
     "start_time": "2020-04-02T13:21:29.685496Z"
    }
   },
   "outputs": [],
   "source": [
    "model.load_weights('gerabasesvazios_cropped_tunned.hdf5')\n"
   ]
  },
  {
   "cell_type": "code",
   "execution_count": 6,
   "metadata": {
    "ExecuteTime": {
     "end_time": "2020-04-02T19:00:20.191232Z",
     "start_time": "2020-04-02T19:00:19.872516Z"
    }
   },
   "outputs": [],
   "source": [
    "x = layers.Dense(256, use_bias=False)(model.get_layer('flatten').output)\n",
    "x = layers.BatchNormalization()(x)\n",
    "x = layers.Activation('relu')(x)\n",
    "x = layers.Dropout(0.3)(x)\n",
    "x = layers.Dense(1, activation='linear')(x)\n",
    "x = layers.Dense(256, use_bias=False)(x)\n",
    "x = layers.BatchNormalization()(x)\n",
    "x = layers.Activation('relu')(x)\n",
    "x = layers.Dropout(0.3)(x)\n",
    "x = layers.Dense(1)(x)\n",
    "regression_model = models.Model(inputs=model.input, outputs=x)\n",
    "#for layer in regression_model.layers[:-3]:\n",
    "#    layer.trainable = False\n",
    "regression_model.compile(loss='mae', optimizer='adam')\n"
   ]
  },
  {
   "cell_type": "code",
   "execution_count": null,
   "metadata": {},
   "outputs": [],
   "source": [
    "x = layers.Dense(512)(model.get_layer('flatten').output)\n",
    "x = layers.Dense(1)(x)\n",
    "regression_model = models.Model(inputs=model.input, outputs=x)\n",
    "for layer in regression_model.layers[:-3]:\n",
    "    layer.trainable = False\n",
    "regression_model.compile(loss='mae', optimizer='adam')\n"
   ]
  },
  {
   "cell_type": "code",
   "execution_count": 7,
   "metadata": {
    "ExecuteTime": {
     "end_time": "2020-04-02T19:00:20.201802Z",
     "start_time": "2020-04-02T19:00:20.192657Z"
    }
   },
   "outputs": [
    {
     "name": "stdout",
     "output_type": "stream",
     "text": [
      "Model: \"model\"\n",
      "_________________________________________________________________\n",
      "Layer (type)                 Output Shape              Param #   \n",
      "=================================================================\n",
      "conv2d_input (InputLayer)    [(None, 144, 288, 3)]     0         \n",
      "_________________________________________________________________\n",
      "conv2d (Conv2D)              (None, 144, 288, 16)      1216      \n",
      "_________________________________________________________________\n",
      "max_pooling2d (MaxPooling2D) (None, 72, 72, 16)        0         \n",
      "_________________________________________________________________\n",
      "dropout (Dropout)            (None, 72, 72, 16)        0         \n",
      "_________________________________________________________________\n",
      "conv2d_1 (Conv2D)            (None, 72, 72, 32)        4640      \n",
      "_________________________________________________________________\n",
      "max_pooling2d_1 (MaxPooling2 (None, 36, 36, 32)        0         \n",
      "_________________________________________________________________\n",
      "dropout_1 (Dropout)          (None, 36, 36, 32)        0         \n",
      "_________________________________________________________________\n",
      "conv2d_2 (Conv2D)            (None, 34, 34, 64)        18496     \n",
      "_________________________________________________________________\n",
      "max_pooling2d_2 (MaxPooling2 (None, 17, 17, 64)        0         \n",
      "_________________________________________________________________\n",
      "dropout_2 (Dropout)          (None, 17, 17, 64)        0         \n",
      "_________________________________________________________________\n",
      "conv2d_3 (Conv2D)            (None, 15, 15, 128)       73856     \n",
      "_________________________________________________________________\n",
      "conv2d_4 (Conv2D)            (None, 13, 13, 128)       147584    \n",
      "_________________________________________________________________\n",
      "conv2d_5 (Conv2D)            (None, 13, 13, 128)       16512     \n",
      "_________________________________________________________________\n",
      "max_pooling2d_3 (MaxPooling2 (None, 6, 6, 128)         0         \n",
      "_________________________________________________________________\n",
      "dropout_3 (Dropout)          (None, 6, 6, 128)         0         \n",
      "_________________________________________________________________\n",
      "conv2d_6 (Conv2D)            (None, 4, 4, 256)         295168    \n",
      "_________________________________________________________________\n",
      "conv2d_7 (Conv2D)            (None, 2, 2, 256)         590080    \n",
      "_________________________________________________________________\n",
      "conv2d_8 (Conv2D)            (None, 2, 2, 512)         131584    \n",
      "_________________________________________________________________\n",
      "flatten (Flatten)            (None, 2048)              0         \n",
      "_________________________________________________________________\n",
      "dense_2 (Dense)              (None, 256)               524288    \n",
      "_________________________________________________________________\n",
      "batch_normalization (BatchNo (None, 256)               1024      \n",
      "_________________________________________________________________\n",
      "activation (Activation)      (None, 256)               0         \n",
      "_________________________________________________________________\n",
      "dropout_5 (Dropout)          (None, 256)               0         \n",
      "_________________________________________________________________\n",
      "dense_3 (Dense)              (None, 1)                 257       \n",
      "_________________________________________________________________\n",
      "dense_4 (Dense)              (None, 256)               256       \n",
      "_________________________________________________________________\n",
      "batch_normalization_1 (Batch (None, 256)               1024      \n",
      "_________________________________________________________________\n",
      "activation_1 (Activation)    (None, 256)               0         \n",
      "_________________________________________________________________\n",
      "dropout_6 (Dropout)          (None, 256)               0         \n",
      "_________________________________________________________________\n",
      "dense_5 (Dense)              (None, 1)                 257       \n",
      "=================================================================\n",
      "Total params: 1,806,242\n",
      "Trainable params: 1,805,218\n",
      "Non-trainable params: 1,024\n",
      "_________________________________________________________________\n"
     ]
    }
   ],
   "source": [
    "regression_model.summary()\n"
   ]
  },
  {
   "cell_type": "code",
   "execution_count": 8,
   "metadata": {
    "ExecuteTime": {
     "end_time": "2020-04-02T19:00:20.247351Z",
     "start_time": "2020-04-02T19:00:20.203859Z"
    }
   },
   "outputs": [
    {
     "name": "stdout",
     "output_type": "stream",
     "text": [
      "<tensorflow.python.keras.engine.input_layer.InputLayer object at 0x7f78cf320908> True\n",
      "<tensorflow.python.keras.layers.convolutional.Conv2D object at 0x7f792daa3ef0> True\n",
      "<tensorflow.python.keras.layers.pooling.MaxPooling2D object at 0x7f78cfb7fef0> True\n",
      "<tensorflow.python.keras.layers.core.Dropout object at 0x7f78cf312128> True\n",
      "<tensorflow.python.keras.layers.convolutional.Conv2D object at 0x7f78cf312278> True\n",
      "<tensorflow.python.keras.layers.pooling.MaxPooling2D object at 0x7f78cf3126d8> True\n",
      "<tensorflow.python.keras.layers.core.Dropout object at 0x7f78cf3128d0> True\n",
      "<tensorflow.python.keras.layers.convolutional.Conv2D object at 0x7f78cf3129e8> True\n",
      "<tensorflow.python.keras.layers.pooling.MaxPooling2D object at 0x7f78cf312e48> True\n",
      "<tensorflow.python.keras.layers.core.Dropout object at 0x7f78cf319080> True\n",
      "<tensorflow.python.keras.layers.convolutional.Conv2D object at 0x7f78cf319198> True\n",
      "<tensorflow.python.keras.layers.convolutional.Conv2D object at 0x7f78cf3195f8> True\n",
      "<tensorflow.python.keras.layers.convolutional.Conv2D object at 0x7f78cf319a58> True\n",
      "<tensorflow.python.keras.layers.pooling.MaxPooling2D object at 0x7f78cf319eb8> True\n",
      "<tensorflow.python.keras.layers.core.Dropout object at 0x7f78cf31d0f0> True\n",
      "<tensorflow.python.keras.layers.convolutional.Conv2D object at 0x7f78cf31d208> True\n",
      "<tensorflow.python.keras.layers.convolutional.Conv2D object at 0x7f78cf31d668> True\n",
      "<tensorflow.python.keras.layers.convolutional.Conv2D object at 0x7f78cf31dac8> True\n",
      "<tensorflow.python.keras.layers.core.Flatten object at 0x7f78cf31df28> True\n",
      "<tensorflow.python.keras.layers.core.Dense object at 0x7f78cc0a0898> True\n",
      "<tensorflow.python.keras.layers.normalization_v2.BatchNormalization object at 0x7f78cc0a0860> True\n",
      "<tensorflow.python.keras.layers.core.Activation object at 0x7f78cc098860> True\n",
      "<tensorflow.python.keras.layers.core.Dropout object at 0x7f78cc098828> True\n",
      "<tensorflow.python.keras.layers.core.Dense object at 0x7f78cc098518> True\n",
      "<tensorflow.python.keras.layers.core.Dense object at 0x7f78cc0a0c18> True\n",
      "<tensorflow.python.keras.layers.normalization_v2.BatchNormalization object at 0x7f78cc0365f8> True\n",
      "<tensorflow.python.keras.layers.core.Activation object at 0x7f78cc036ac8> True\n",
      "<tensorflow.python.keras.layers.core.Dropout object at 0x7f78cc03deb8> True\n",
      "<tensorflow.python.keras.layers.core.Dense object at 0x7f78cc03da90> True\n"
     ]
    }
   ],
   "source": [
    "for layer in regression_model.layers:\n",
    "    print(layer, layer.trainable)\n"
   ]
  },
  {
   "cell_type": "markdown",
   "metadata": {},
   "source": [
    "## Carregar e montar dados para treinamento"
   ]
  },
  {
   "cell_type": "code",
   "execution_count": 9,
   "metadata": {
    "ExecuteTime": {
     "end_time": "2020-04-02T19:00:20.484564Z",
     "start_time": "2020-04-02T19:00:20.250452Z"
    }
   },
   "outputs": [
    {
     "data": {
      "text/html": [
       "<div>\n",
       "<style scoped>\n",
       "    .dataframe tbody tr th:only-of-type {\n",
       "        vertical-align: middle;\n",
       "    }\n",
       "\n",
       "    .dataframe tbody tr th {\n",
       "        vertical-align: top;\n",
       "    }\n",
       "\n",
       "    .dataframe thead th {\n",
       "        text-align: right;\n",
       "    }\n",
       "</style>\n",
       "<table border=\"1\" class=\"dataframe\">\n",
       "  <thead>\n",
       "    <tr style=\"text-align: right;\">\n",
       "      <th></th>\n",
       "      <th>id</th>\n",
       "      <th>pesobalanca</th>\n",
       "      <th>pesodeclarado</th>\n",
       "      <th>dif</th>\n",
       "      <th>filename</th>\n",
       "    </tr>\n",
       "  </thead>\n",
       "  <tbody>\n",
       "    <tr>\n",
       "      <th>0</th>\n",
       "      <td>5e5d096a3d0ec8337863f799</td>\n",
       "      <td>7170</td>\n",
       "      <td>7167</td>\n",
       "      <td>3</td>\n",
       "      <td>5e5d096a3d0ec8337863f799.jpg</td>\n",
       "    </tr>\n",
       "    <tr>\n",
       "      <th>1</th>\n",
       "      <td>5e5d09703d0ec8337863f9ee</td>\n",
       "      <td>29190</td>\n",
       "      <td>29149</td>\n",
       "      <td>41</td>\n",
       "      <td>5e5d09703d0ec8337863f9ee.jpg</td>\n",
       "    </tr>\n",
       "    <tr>\n",
       "      <th>2</th>\n",
       "      <td>5e5d09703d0ec8337863f9f2</td>\n",
       "      <td>6380</td>\n",
       "      <td>6348</td>\n",
       "      <td>32</td>\n",
       "      <td>5e5d09703d0ec8337863f9f2.jpg</td>\n",
       "    </tr>\n",
       "    <tr>\n",
       "      <th>3</th>\n",
       "      <td>5e5d099986556b3036c6dc6d</td>\n",
       "      <td>7610</td>\n",
       "      <td>7788</td>\n",
       "      <td>178</td>\n",
       "      <td>5e5d099986556b3036c6dc6d.jpg</td>\n",
       "    </tr>\n",
       "    <tr>\n",
       "      <th>4</th>\n",
       "      <td>5e5d094386556b3036c6dc5c</td>\n",
       "      <td>22280</td>\n",
       "      <td>22300</td>\n",
       "      <td>20</td>\n",
       "      <td>5e5d094386556b3036c6dc5c.jpg</td>\n",
       "    </tr>\n",
       "  </tbody>\n",
       "</table>\n",
       "</div>"
      ],
      "text/plain": [
       "                         id  pesobalanca  pesodeclarado  dif  \\\n",
       "0  5e5d096a3d0ec8337863f799         7170           7167    3   \n",
       "1  5e5d09703d0ec8337863f9ee        29190          29149   41   \n",
       "2  5e5d09703d0ec8337863f9f2         6380           6348   32   \n",
       "3  5e5d099986556b3036c6dc6d         7610           7788  178   \n",
       "4  5e5d094386556b3036c6dc5c        22280          22300   20   \n",
       "\n",
       "                       filename  \n",
       "0  5e5d096a3d0ec8337863f799.jpg  \n",
       "1  5e5d09703d0ec8337863f9ee.jpg  \n",
       "2  5e5d09703d0ec8337863f9f2.jpg  \n",
       "3  5e5d099986556b3036c6dc6d.jpg  \n",
       "4  5e5d094386556b3036c6dc5c.jpg  "
      ]
     },
     "execution_count": 9,
     "metadata": {},
     "output_type": "execute_result"
    }
   ],
   "source": [
    "df = pd.read_csv('../../bases/pesagensbalanca/pesos.txt')\n",
    "df['dif'] = abs(df['pesobalanca'] - df['pesodeclarado'])\n",
    "df['filename'] = df['id'].map('{}.jpg'.format)\n",
    "df.head()"
   ]
  },
  {
   "cell_type": "code",
   "execution_count": 10,
   "metadata": {
    "ExecuteTime": {
     "end_time": "2020-04-02T19:00:20.529302Z",
     "start_time": "2020-04-02T19:00:20.488026Z"
    }
   },
   "outputs": [
    {
     "data": {
      "text/html": [
       "<div>\n",
       "<style scoped>\n",
       "    .dataframe tbody tr th:only-of-type {\n",
       "        vertical-align: middle;\n",
       "    }\n",
       "\n",
       "    .dataframe tbody tr th {\n",
       "        vertical-align: top;\n",
       "    }\n",
       "\n",
       "    .dataframe thead th {\n",
       "        text-align: right;\n",
       "    }\n",
       "</style>\n",
       "<table border=\"1\" class=\"dataframe\">\n",
       "  <thead>\n",
       "    <tr style=\"text-align: right;\">\n",
       "      <th></th>\n",
       "      <th>pesobalanca</th>\n",
       "      <th>pesodeclarado</th>\n",
       "      <th>dif</th>\n",
       "    </tr>\n",
       "  </thead>\n",
       "  <tbody>\n",
       "    <tr>\n",
       "      <th>count</th>\n",
       "      <td>9317.000000</td>\n",
       "      <td>9317.000000</td>\n",
       "      <td>9317.000000</td>\n",
       "    </tr>\n",
       "    <tr>\n",
       "      <th>mean</th>\n",
       "      <td>18572.832027</td>\n",
       "      <td>18807.056349</td>\n",
       "      <td>1162.008801</td>\n",
       "    </tr>\n",
       "    <tr>\n",
       "      <th>std</th>\n",
       "      <td>8261.590188</td>\n",
       "      <td>8106.655375</td>\n",
       "      <td>3793.829146</td>\n",
       "    </tr>\n",
       "    <tr>\n",
       "      <th>min</th>\n",
       "      <td>0.000000</td>\n",
       "      <td>2070.000000</td>\n",
       "      <td>0.000000</td>\n",
       "    </tr>\n",
       "    <tr>\n",
       "      <th>25%</th>\n",
       "      <td>11300.000000</td>\n",
       "      <td>11453.000000</td>\n",
       "      <td>72.000000</td>\n",
       "    </tr>\n",
       "    <tr>\n",
       "      <th>50%</th>\n",
       "      <td>19600.000000</td>\n",
       "      <td>19960.000000</td>\n",
       "      <td>175.000000</td>\n",
       "    </tr>\n",
       "    <tr>\n",
       "      <th>75%</th>\n",
       "      <td>25270.000000</td>\n",
       "      <td>25575.000000</td>\n",
       "      <td>446.000000</td>\n",
       "    </tr>\n",
       "    <tr>\n",
       "      <th>max</th>\n",
       "      <td>113350.000000</td>\n",
       "      <td>41388.000000</td>\n",
       "      <td>94730.000000</td>\n",
       "    </tr>\n",
       "  </tbody>\n",
       "</table>\n",
       "</div>"
      ],
      "text/plain": [
       "         pesobalanca  pesodeclarado           dif\n",
       "count    9317.000000    9317.000000   9317.000000\n",
       "mean    18572.832027   18807.056349   1162.008801\n",
       "std      8261.590188    8106.655375   3793.829146\n",
       "min         0.000000    2070.000000      0.000000\n",
       "25%     11300.000000   11453.000000     72.000000\n",
       "50%     19600.000000   19960.000000    175.000000\n",
       "75%     25270.000000   25575.000000    446.000000\n",
       "max    113350.000000   41388.000000  94730.000000"
      ]
     },
     "execution_count": 10,
     "metadata": {},
     "output_type": "execute_result"
    }
   ],
   "source": [
    "df.describe()"
   ]
  },
  {
   "cell_type": "code",
   "execution_count": 11,
   "metadata": {
    "ExecuteTime": {
     "end_time": "2020-04-02T19:00:20.538237Z",
     "start_time": "2020-04-02T19:00:20.531377Z"
    }
   },
   "outputs": [
    {
     "data": {
      "text/plain": [
       "8734"
      ]
     },
     "execution_count": 11,
     "metadata": {},
     "output_type": "execute_result"
    }
   ],
   "source": [
    "df[df['dif'] < 4000]['dif'].count() # Pegar somente os pesos que batem declarado x balança"
   ]
  },
  {
   "cell_type": "code",
   "execution_count": 12,
   "metadata": {
    "ExecuteTime": {
     "end_time": "2020-04-02T19:00:20.594739Z",
     "start_time": "2020-04-02T19:00:20.541178Z"
    }
   },
   "outputs": [
    {
     "data": {
      "text/plain": [
       "8104"
      ]
     },
     "execution_count": 12,
     "metadata": {},
     "output_type": "execute_result"
    }
   ],
   "source": [
    "df[df['dif'] < 1000]['dif'].count() # Pegar somente os pesos que batem declarado x balança"
   ]
  },
  {
   "cell_type": "code",
   "execution_count": 13,
   "metadata": {
    "ExecuteTime": {
     "end_time": "2020-04-02T19:00:20.622593Z",
     "start_time": "2020-04-02T19:00:20.599852Z"
    }
   },
   "outputs": [],
   "source": [
    "df_filtered = df[df['dif'] < 1000]\n",
    "splitmask = np.random.rand(len(df_filtered)) < 0.9\n",
    "df_train = df_filtered[splitmask]\n",
    "df_val = df_filtered[~splitmask]"
   ]
  },
  {
   "cell_type": "code",
   "execution_count": 14,
   "metadata": {
    "ExecuteTime": {
     "end_time": "2020-04-02T19:00:21.047143Z",
     "start_time": "2020-04-02T19:00:20.625038Z"
    }
   },
   "outputs": [
    {
     "name": "stdout",
     "output_type": "stream",
     "text": [
      "Found 7347 validated image filenames.\n",
      "Found 757 validated image filenames.\n"
     ]
    }
   ],
   "source": [
    "train_datagen = ImageDataGenerator(\n",
    "    rescale=1./255,\n",
    "    horizontal_flip=True,\n",
    ")\n",
    "\n",
    "train_generator = train_datagen.flow_from_dataframe(\n",
    "    dataframe=df_train,\n",
    "    directory='../../bases/pesagensbalanca/pesagensbalanca_cropped',\n",
    "    target_size=(144, 288),\n",
    "    batch_size=64,\n",
    "    x_col='filename',\n",
    "    y_col=\"pesobalanca\",\n",
    "    shuffle=False,\n",
    "    class_mode='other' \n",
    ")\n",
    "\n",
    "val_generator = train_datagen.flow_from_dataframe(\n",
    "    dataframe=df_val,\n",
    "    directory='../../bases/pesagensbalanca/pesagensbalanca_cropped',\n",
    "    target_size=(144, 288),\n",
    "    batch_size=64,\n",
    "    x_col='filename',\n",
    "    y_col=\"pesobalanca\",\n",
    "    shuffle=False,\n",
    "    class_mode='other' \n",
    ")"
   ]
  },
  {
   "cell_type": "markdown",
   "metadata": {},
   "source": [
    "## Train "
   ]
  },
  {
   "cell_type": "code",
   "execution_count": 15,
   "metadata": {
    "ExecuteTime": {
     "end_time": "2020-04-02T19:00:21.089444Z",
     "start_time": "2020-04-02T19:00:21.048857Z"
    }
   },
   "outputs": [],
   "source": [
    "regression_model.compile(optimizer=optimizers.Adam(lr=0.001),\n",
    "                         loss='mean_absolute_error', metrics=['mse', 'mae'])\n",
    "reduce_lr = ReduceLROnPlateau(monitor='val_loss', factor=0.1, patience=4,\n",
    "                          verbose=1, min_delta=1e-2, mode='min')"
   ]
  },
  {
   "cell_type": "code",
   "execution_count": 16,
   "metadata": {
    "ExecuteTime": {
     "end_time": "2020-04-02T20:19:37.126713Z",
     "start_time": "2020-04-02T19:00:21.091096Z"
    }
   },
   "outputs": [
    {
     "name": "stdout",
     "output_type": "stream",
     "text": [
      "Train for 115 steps, validate for 11 steps\n",
      "Epoch 1/50\n",
      "115/115 [==============================] - 289s 3s/step - loss: 417135614.7671 - mse: 417172448.0000 - mae: 18811.0645 - val_loss: 408262760.7273 - val_mse: 408262752.0000 - val_mae: 18442.7734\n",
      "Epoch 2/50\n",
      "115/115 [==============================] - 158s 1s/step - loss: 416270171.9539 - mse: 416306784.0000 - mae: 18789.5723 - val_loss: 406916331.6364 - val_mse: 406916320.0000 - val_mae: 18406.3965\n",
      "Epoch 3/50\n",
      "115/115 [==============================] - 119s 1s/step - loss: 414930489.4598 - mse: 414968448.0000 - mae: 18755.9609 - val_loss: 405158882.9091 - val_mse: 405158880.0000 - val_mae: 18364.1738\n",
      "Epoch 4/50\n",
      "115/115 [==============================] - 119s 1s/step - loss: 413000157.1608 - mse: 413039072.0000 - mae: 18708.2930 - val_loss: 403102141.0909 - val_mse: 403102112.0000 - val_mae: 18312.2168\n",
      "Epoch 5/50\n",
      "115/115 [==============================] - 113s 984ms/step - loss: 410454471.0602 - mse: 410491360.0000 - mae: 18645.8438 - val_loss: 400021111.2727 - val_mse: 400021088.0000 - val_mae: 18238.8008\n",
      "Epoch 6/50\n",
      "115/115 [==============================] - 105s 910ms/step - loss: 407236554.7037 - mse: 407274752.0000 - mae: 18565.6836 - val_loss: 397670193.4545 - val_mse: 397670176.0000 - val_mae: 18173.0879\n",
      "Epoch 7/50\n",
      "115/115 [==============================] - 117s 1s/step - loss: 403563026.5750 - mse: 403601984.0000 - mae: 18471.1758 - val_loss: 393790475.6364 - val_mse: 393790464.0000 - val_mae: 18073.6328\n",
      "Epoch 8/50\n",
      "115/115 [==============================] - 94s 816ms/step - loss: 399318310.8587 - mse: 399353920.0000 - mae: 18361.7539 - val_loss: 390149931.6364 - val_mse: 390149920.0000 - val_mae: 17975.7070\n",
      "Epoch 9/50\n",
      "115/115 [==============================] - 93s 810ms/step - loss: 394516968.9208 - mse: 394550944.0000 - mae: 18236.8438 - val_loss: 385077518.5455 - val_mse: 385077536.0000 - val_mae: 17843.3008\n",
      "Epoch 10/50\n",
      "115/115 [==============================] - 98s 851ms/step - loss: 389155101.9530 - mse: 389195456.0000 - mae: 18097.0098 - val_loss: 378875403.6364 - val_mse: 378875424.0000 - val_mae: 17679.4707\n",
      "Epoch 11/50\n",
      "115/115 [==============================] - 90s 786ms/step - loss: 383409075.6840 - mse: 383450624.0000 - mae: 17947.5469 - val_loss: 371965986.9091 - val_mse: 371965984.0000 - val_mae: 17498.7578\n",
      "Epoch 12/50\n",
      "115/115 [==============================] - 96s 832ms/step - loss: 377438136.6825 - mse: 377473536.0000 - mae: 17785.3086 - val_loss: 367762001.4545 - val_mse: 367762016.0000 - val_mae: 17375.9590\n",
      "Epoch 13/50\n",
      "115/115 [==============================] - 93s 807ms/step - loss: 370808603.9988 - mse: 370847264.0000 - mae: 17605.6445 - val_loss: 362305870.5455 - val_mse: 362305856.0000 - val_mae: 17218.4824\n",
      "Epoch 14/50\n",
      "115/115 [==============================] - 85s 737ms/step - loss: 364077515.0528 - mse: 364117120.0000 - mae: 17421.7773 - val_loss: 351923032.7273 - val_mse: 351923040.0000 - val_mae: 16949.4355\n",
      "Epoch 15/50\n",
      "115/115 [==============================] - 83s 718ms/step - loss: 356865585.3779 - mse: 356906784.0000 - mae: 17221.9434 - val_loss: 348776340.3636 - val_mse: 348776352.0000 - val_mae: 16833.2578\n",
      "Epoch 16/50\n",
      "115/115 [==============================] - 81s 709ms/step - loss: 349561281.6101 - mse: 349597920.0000 - mae: 17016.1973 - val_loss: 337949008.0000 - val_mse: 337948992.0000 - val_mae: 16546.1582\n",
      "Epoch 17/50\n",
      "115/115 [==============================] - 83s 726ms/step - loss: 341677046.9572 - mse: 341711648.0000 - mae: 16793.7871 - val_loss: 333336904.7273 - val_mse: 333336896.0000 - val_mae: 16391.3789\n",
      "Epoch 18/50\n",
      "115/115 [==============================] - 82s 716ms/step - loss: 333915113.6320 - mse: 333945760.0000 - mae: 16569.0918 - val_loss: 314441255.2727 - val_mse: 314441280.0000 - val_mae: 15895.1729\n",
      "Epoch 19/50\n",
      "115/115 [==============================] - 80s 695ms/step - loss: 325844885.7321 - mse: 325885984.0000 - mae: 16334.6650 - val_loss: 318958861.0909 - val_mse: 318958880.0000 - val_mae: 15956.9619\n",
      "Epoch 20/50\n",
      "115/115 [==============================] - 81s 701ms/step - loss: 317690289.4129 - mse: 317721216.0000 - mae: 16089.3643 - val_loss: 313584834.9091 - val_mse: 313584832.0000 - val_mae: 15774.6494\n",
      "Epoch 21/50\n",
      "115/115 [==============================] - 81s 705ms/step - loss: 309244206.3101 - mse: 309277888.0000 - mae: 15836.5449 - val_loss: 300695470.5455 - val_mse: 300695456.0000 - val_mae: 15417.3086\n",
      "Epoch 22/50\n",
      "115/115 [==============================] - 81s 705ms/step - loss: 300923328.1875 - mse: 300949600.0000 - mae: 15581.9844 - val_loss: 298413713.4545 - val_mse: 298413696.0000 - val_mae: 15300.9209\n",
      "Epoch 23/50\n",
      "115/115 [==============================] - 78s 674ms/step - loss: 292502569.9216 - mse: 292532288.0000 - mae: 15319.4170 - val_loss: 283285652.3636 - val_mse: 283285664.0000 - val_mae: 14872.5557\n",
      "Epoch 24/50\n",
      "115/115 [==============================] - 79s 686ms/step - loss: 283668540.6894 - mse: 283698432.0000 - mae: 15040.7861 - val_loss: 273399608.7273 - val_mse: 273399584.0000 - val_mae: 14565.5254\n",
      "Epoch 25/50\n",
      "115/115 [==============================] - 78s 681ms/step - loss: 274825706.2463 - mse: 274853760.0000 - mae: 14769.5117 - val_loss: 266805669.8182 - val_mse: 266805664.0000 - val_mae: 14349.1221\n",
      "Epoch 26/50\n",
      "115/115 [==============================] - 79s 690ms/step - loss: 266343620.8580 - mse: 266368288.0000 - mae: 14486.9219 - val_loss: 262536690.9091 - val_mse: 262536704.0000 - val_mae: 14157.8252\n",
      "Epoch 27/50\n",
      "115/115 [==============================] - 80s 696ms/step - loss: 257949904.4262 - mse: 257979280.0000 - mae: 14210.0762 - val_loss: 254401191.2727 - val_mse: 254401184.0000 - val_mae: 13876.6240\n",
      "Epoch 28/50\n",
      "115/115 [==============================] - 80s 693ms/step - loss: 250423372.8495 - mse: 250455328.0000 - mae: 13939.2598 - val_loss: 244225376.0000 - val_mse: 244225376.0000 - val_mae: 13541.9004\n",
      "Epoch 29/50\n",
      "115/115 [==============================] - 79s 685ms/step - loss: 241245849.5862 - mse: 241290640.0000 - mae: 13635.6914 - val_loss: 229058501.8182 - val_mse: 229058512.0000 - val_mae: 13088.1465\n",
      "Epoch 30/50\n",
      "115/115 [==============================] - 79s 687ms/step - loss: 233092281.5103 - mse: 233116240.0000 - mae: 13352.8623 - val_loss: 219376711.2727 - val_mse: 219376688.0000 - val_mae: 12767.3428\n",
      "Epoch 31/50\n",
      "115/115 [==============================] - 81s 701ms/step - loss: 224103418.0611 - mse: 224129520.0000 - mae: 13061.7432 - val_loss: 215705230.5455 - val_mse: 215705232.0000 - val_mae: 12613.6191\n",
      "Epoch 32/50\n",
      "115/115 [==============================] - 80s 695ms/step - loss: 215484443.4545 - mse: 215509616.0000 - mae: 12768.5176 - val_loss: 200403829.8182 - val_mse: 200403824.0000 - val_mae: 12116.0928\n",
      "Epoch 33/50\n",
      "115/115 [==============================] - 81s 701ms/step - loss: 207134215.6777 - mse: 207168704.0000 - mae: 12478.5254 - val_loss: 200900888.7273 - val_mse: 200900880.0000 - val_mae: 12121.8652\n",
      "Epoch 34/50\n",
      "115/115 [==============================] - 79s 684ms/step - loss: 198953506.1288 - mse: 198979856.0000 - mae: 12180.2588 - val_loss: 192219674.1818 - val_mse: 192219664.0000 - val_mae: 11814.8389\n",
      "Epoch 35/50\n",
      "115/115 [==============================] - 80s 692ms/step - loss: 190489148.8803 - mse: 190523200.0000 - mae: 11888.8682 - val_loss: 176974820.3636 - val_mse: 176974832.0000 - val_mae: 11326.1494\n",
      "Epoch 36/50\n",
      "115/115 [==============================] - 78s 681ms/step - loss: 182435268.8736 - mse: 182462448.0000 - mae: 11589.0479 - val_loss: 183581522.9091 - val_mse: 183581504.0000 - val_mae: 11480.2676\n",
      "Epoch 37/50\n",
      "115/115 [==============================] - 77s 674ms/step - loss: 174897931.1848 - mse: 174927168.0000 - mae: 11300.6221 - val_loss: 178024262.5455 - val_mse: 178024256.0000 - val_mae: 11268.8018\n",
      "Epoch 38/50\n",
      "115/115 [==============================] - 81s 704ms/step - loss: 169132266.3570 - mse: 169157280.0000 - mae: 11032.7275 - val_loss: 166490927.2727 - val_mse: 166490944.0000 - val_mae: 10862.9795\n",
      "Epoch 39/50\n",
      "115/115 [==============================] - 96s 832ms/step - loss: 161224783.2803 - mse: 161242752.0000 - mae: 10748.1719 - val_loss: 154053573.0909 - val_mse: 154053568.0000 - val_mae: 10421.5693\n",
      "Epoch 40/50\n"
     ]
    },
    {
     "name": "stdout",
     "output_type": "stream",
     "text": [
      "115/115 [==============================] - 84s 730ms/step - loss: 152310640.8246 - mse: 152348656.0000 - mae: 10425.7344 - val_loss: 141183816.0000 - val_mse: 141183808.0000 - val_mae: 9982.8340\n",
      "Epoch 41/50\n",
      "115/115 [==============================] - 84s 726ms/step - loss: 145746650.9507 - mse: 145777152.0000 - mae: 10176.3672 - val_loss: 138993925.0909 - val_mse: 138993920.0000 - val_mae: 9903.4805\n",
      "Epoch 42/50\n",
      "115/115 [==============================] - 94s 821ms/step - loss: 138559041.0805 - mse: 138583008.0000 - mae: 9892.7236 - val_loss: 133025816.0000 - val_mse: 133025800.0000 - val_mae: 9666.2490\n",
      "Epoch 43/50\n",
      "115/115 [==============================] - 81s 708ms/step - loss: 132266096.2794 - mse: 132295784.0000 - mae: 9649.6162 - val_loss: 130847355.6364 - val_mse: 130847368.0000 - val_mae: 9577.7109\n",
      "Epoch 44/50\n",
      "115/115 [==============================] - 78s 682ms/step - loss: 126130238.6831 - mse: 126152192.0000 - mae: 9405.1953 - val_loss: 117415323.6364 - val_mse: 117415320.0000 - val_mae: 9101.0713\n",
      "Epoch 45/50\n",
      "115/115 [==============================] - 80s 699ms/step - loss: 119927009.0578 - mse: 119941912.0000 - mae: 9179.6045 - val_loss: 105400015.2727 - val_mse: 105400016.0000 - val_mae: 8625.2939\n",
      "Epoch 46/50\n",
      "115/115 [==============================] - 83s 719ms/step - loss: 115761488.7395 - mse: 115786344.0000 - mae: 8956.3340 - val_loss: 133133139.6364 - val_mse: 133133152.0000 - val_mae: 9595.9229\n",
      "Epoch 47/50\n",
      "115/115 [==============================] - 80s 699ms/step - loss: 111010779.4907 - mse: 111030920.0000 - mae: 8776.3896 - val_loss: 96510054.5455 - val_mse: 96510048.0000 - val_mae: 8233.3516\n",
      "Epoch 48/50\n",
      "115/115 [==============================] - 79s 691ms/step - loss: 104232769.7135 - mse: 104258552.0000 - mae: 8520.8369 - val_loss: 103649387.6364 - val_mse: 103649384.0000 - val_mae: 8546.0820\n",
      "Epoch 49/50\n",
      "115/115 [==============================] - 80s 695ms/step - loss: 98642035.5631 - mse: 98660944.0000 - mae: 8301.6562 - val_loss: 88405524.0000 - val_mse: 88405528.0000 - val_mae: 7894.4253\n",
      "Epoch 50/50\n",
      "115/115 [==============================] - 81s 701ms/step - loss: 93714224.8224 - mse: 93747688.0000 - mae: 8086.7095 - val_loss: 89153209.4545 - val_mse: 89153216.0000 - val_mae: 7923.3389\n"
     ]
    },
    {
     "data": {
      "text/plain": [
       "<tensorflow.python.keras.callbacks.History at 0x7f78c0336dd8>"
      ]
     },
     "execution_count": 16,
     "metadata": {},
     "output_type": "execute_result"
    }
   ],
   "source": [
    "regression_model.fit(train_generator, epochs=50,\n",
    "                     callbacks=[reduce_lr],\n",
    "                   validation_data = val_generator,\n",
    "                   validation_steps = val_generator.samples // 64)"
   ]
  },
  {
   "cell_type": "code",
   "execution_count": 17,
   "metadata": {
    "ExecuteTime": {
     "end_time": "2020-04-02T20:19:39.284968Z",
     "start_time": "2020-04-02T20:19:37.134236Z"
    }
   },
   "outputs": [],
   "source": [
    "model.save_weights('gerabasespesagens_cropped.hdf5')"
   ]
  },
  {
   "cell_type": "code",
   "execution_count": 26,
   "metadata": {
    "ExecuteTime": {
     "end_time": "2020-04-02T20:20:18.586856Z",
     "start_time": "2020-04-02T20:20:18.361002Z"
    }
   },
   "outputs": [
    {
     "name": "stdout",
     "output_type": "stream",
     "text": [
      "10863.692 14280\n"
     ]
    },
    {
     "data": {
      "text/plain": [
       "<matplotlib.image.AxesImage at 0x7f78344eb5c0>"
      ]
     },
     "execution_count": 26,
     "metadata": {},
     "output_type": "execute_result"
    },
    {
     "data": {
      "image/png": "[encoded data removed]",
      "text/plain": [
       "<Figure size 432x288 with 1 Axes>"
      ]
     },
     "metadata": {
      "needs_background": "light"
     },
     "output_type": "display_data"
    }
   ],
   "source": [
    "%matplotlib inline\n",
    "import matplotlib.pyplot as plt\n",
    "sample = df.sample()\n",
    "filename = sample['filename'].item()\n",
    "image = Image.open('../../bases/pesagensbalanca/pesagensbalanca_cropped/' + filename)\n",
    "image = image.resize((288, 144), Image.LANCZOS)\n",
    "image_array = np.expand_dims(np.array(image), axis=0) / 255\n",
    "print(regression_model.predict(image_array)[0][0], sample['pesobalanca'].item())\n",
    "plt.imshow(image)"
   ]
  },
  {
   "cell_type": "code",
   "execution_count": null,
   "metadata": {},
   "outputs": [],
   "source": []
  }
 ],
 "metadata": {
  "kernelspec": {
   "display_name": "venv_gym2",
   "language": "python",
   "name": "venv_gym2"
  },
  "language_info": {
   "codemirror_mode": {
    "name": "ipython",
    "version": 3
   },
   "file_extension": ".py",
   "mimetype": "text/x-python",
   "name": "python",
   "nbconvert_exporter": "python",
   "pygments_lexer": "ipython3",
   "version": "3.5.2"
  }
 },
 "nbformat": 4,
 "nbformat_minor": 2
}
