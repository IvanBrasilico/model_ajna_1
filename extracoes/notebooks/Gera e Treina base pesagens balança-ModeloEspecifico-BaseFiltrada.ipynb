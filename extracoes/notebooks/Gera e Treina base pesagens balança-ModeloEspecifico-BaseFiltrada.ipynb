{
 "cells": [
  {
   "cell_type": "code",
   "execution_count": 1,
   "metadata": {
    "ExecuteTime": {
     "end_time": "2020-04-05T11:24:51.870184Z",
     "start_time": "2020-04-05T11:24:51.585107Z"
    }
   },
   "outputs": [],
   "source": [
    "import os\n",
    "import shutil\n",
    "import sys\n",
    "import time\n",
    "from PIL import Image\n",
    "from datetime import date, datetime, timedelta\n",
    "\n",
    "\n",
    "sys.path.insert(0, '..')\n",
    "from utils import mongodb"
   ]
  },
  {
   "cell_type": "code",
   "execution_count": 2,
   "metadata": {
    "ExecuteTime": {
     "end_time": "2020-04-05T11:24:52.427120Z",
     "start_time": "2020-04-05T11:24:52.363420Z"
    }
   },
   "outputs": [],
   "source": [
    "from pesagensbalanca import cursor_pesagensbalanca, extract_to"
   ]
  },
  {
   "cell_type": "markdown",
   "metadata": {},
   "source": [
    "# Gera base de dados de pesagens\n",
    "Necessário acesso ao Banco de Dados ou ao Servidor"
   ]
  },
  {
   "cell_type": "code",
   "execution_count": 3,
   "metadata": {
    "ExecuteTime": {
     "end_time": "2020-04-03T20:26:06.533708Z",
     "start_time": "2020-04-03T20:26:06.531077Z"
    }
   },
   "outputs": [],
   "source": [
    "start = datetime(2020, 3, 1)\n",
    "end = datetime.today()\n",
    "limit = 10\n",
    "s0 = time.time()\n",
    "# cursor = cursor_pesagensbalanca(mongodb, start, end, limit, crop=True)\n",
    "# count = extract_to(cursor, crop=True)\n",
    "s1 = time.time()\n",
    "# print('{:0.2f} segundos para processar {:d} registros'.format((s1 - s0), count))\n"
   ]
  },
  {
   "cell_type": "markdown",
   "metadata": {},
   "source": [
    "# Carregar e montar modelo"
   ]
  },
  {
   "cell_type": "code",
   "execution_count": 3,
   "metadata": {
    "ExecuteTime": {
     "end_time": "2020-04-05T11:25:00.270900Z",
     "start_time": "2020-04-05T11:24:56.265135Z"
    }
   },
   "outputs": [],
   "source": [
    "import pandas as pd\n",
    "import numpy as np\n",
    "\n",
    "from sklearn.preprocessing import StandardScaler\n",
    "from tensorflow.keras import layers\n",
    "from tensorflow.keras import models\n",
    "from tensorflow.keras import optimizers\n",
    "from tensorflow.keras.preprocessing.image import ImageDataGenerator\n",
    "from tensorflow.keras.callbacks import ReduceLROnPlateau\n",
    "\n"
   ]
  },
  {
   "cell_type": "code",
   "execution_count": 4,
   "metadata": {
    "ExecuteTime": {
     "end_time": "2020-04-05T11:25:01.478979Z",
     "start_time": "2020-04-05T11:25:00.274735Z"
    }
   },
   "outputs": [
    {
     "name": "stdout",
     "output_type": "stream",
     "text": [
      "Model: \"sequential\"\n",
      "_________________________________________________________________\n",
      "Layer (type)                 Output Shape              Param #   \n",
      "=================================================================\n",
      "conv2d (Conv2D)              (None, 72, 144, 16)       2368      \n",
      "_________________________________________________________________\n",
      "max_pooling2d (MaxPooling2D) (None, 36, 36, 16)        0         \n",
      "_________________________________________________________________\n",
      "dropout (Dropout)            (None, 36, 36, 16)        0         \n",
      "_________________________________________________________________\n",
      "conv2d_1 (Conv2D)            (None, 18, 18, 16)        6416      \n",
      "_________________________________________________________________\n",
      "dropout_1 (Dropout)          (None, 18, 18, 16)        0         \n",
      "_________________________________________________________________\n",
      "conv2d_2 (Conv2D)            (None, 7, 7, 16)          6416      \n",
      "_________________________________________________________________\n",
      "dropout_2 (Dropout)          (None, 7, 7, 16)          0         \n",
      "_________________________________________________________________\n",
      "average_pooling2d (AveragePo (None, 3, 3, 16)          0         \n",
      "_________________________________________________________________\n",
      "flatten (Flatten)            (None, 144)               0         \n",
      "_________________________________________________________________\n",
      "dense (Dense)                (None, 512)               74240     \n",
      "_________________________________________________________________\n",
      "dense_1 (Dense)              (None, 256)               131328    \n",
      "_________________________________________________________________\n",
      "dropout_3 (Dropout)          (None, 256)               0         \n",
      "_________________________________________________________________\n",
      "dense_2 (Dense)              (None, 1)                 257       \n",
      "=================================================================\n",
      "Total params: 221,025\n",
      "Trainable params: 221,025\n",
      "Non-trainable params: 0\n",
      "_________________________________________________________________\n"
     ]
    }
   ],
   "source": [
    "regression_model = models.Sequential([\n",
    "  layers.Conv2D(16, (7, 7), activation='relu',\n",
    "                padding='same',\n",
    "                strides=(2, 2),\n",
    "                input_shape=(144, 288, 3)),\n",
    "  layers.MaxPooling2D(pool_size=(2, 4)),\n",
    "  layers.Dropout(0.25),\n",
    "  layers.Conv2D(16, (5, 5), \n",
    "                strides=(2, 2),\n",
    "                activation='relu', padding='same'),\n",
    "  layers.Dropout(0.25),\n",
    "  layers.Conv2D(16, (5, 5), \n",
    "                strides=(2, 2),\n",
    "                activation='relu'),\n",
    "  layers.Dropout(0.25),\n",
    "  layers.AvgPool2D(),\n",
    "  layers.Flatten(),\n",
    "  layers.Dense(512, activation='relu'),\n",
    "  layers.Dense(256, activation='relu'),\n",
    "  layers.Dropout(0.4),\n",
    "  layers.Dense(1)\n",
    " \n",
    "])\n",
    "regression_model.summary()\n"
   ]
  },
  {
   "cell_type": "code",
   "execution_count": 6,
   "metadata": {
    "ExecuteTime": {
     "end_time": "2020-04-03T20:26:40.666990Z",
     "start_time": "2020-04-03T20:26:40.665098Z"
    }
   },
   "outputs": [],
   "source": [
    "# regression_model.load_weights('gerabasespesagens_cropped2.hdf5')"
   ]
  },
  {
   "cell_type": "code",
   "execution_count": 7,
   "metadata": {
    "ExecuteTime": {
     "end_time": "2020-04-03T20:26:40.682122Z",
     "start_time": "2020-04-03T20:26:40.668452Z"
    }
   },
   "outputs": [
    {
     "name": "stdout",
     "output_type": "stream",
     "text": [
      "<tensorflow.python.keras.layers.convolutional.Conv2D object at 0x7f1e1026d438> True\n",
      "<tensorflow.python.keras.layers.pooling.MaxPooling2D object at 0x7f1e1026da20> True\n",
      "<tensorflow.python.keras.layers.core.Dropout object at 0x7f1e1026dc18> True\n",
      "<tensorflow.python.keras.layers.convolutional.Conv2D object at 0x7f1e1026dd68> True\n",
      "<tensorflow.python.keras.layers.core.Dropout object at 0x7f1e10275208> True\n",
      "<tensorflow.python.keras.layers.convolutional.Conv2D object at 0x7f1e10275320> True\n",
      "<tensorflow.python.keras.layers.core.Dropout object at 0x7f1e10275780> True\n",
      "<tensorflow.python.keras.layers.pooling.AveragePooling2D object at 0x7f1e10275898> True\n",
      "<tensorflow.python.keras.layers.core.Flatten object at 0x7f1e10275a90> True\n",
      "<tensorflow.python.keras.layers.core.Dense object at 0x7f1e10275be0> True\n",
      "<tensorflow.python.keras.layers.core.Dense object at 0x7f1e10275ef0> True\n",
      "<tensorflow.python.keras.layers.core.Dropout object at 0x7f1e1027a240> True\n",
      "<tensorflow.python.keras.layers.core.Dense object at 0x7f1e1027a358> True\n"
     ]
    }
   ],
   "source": [
    "for layer in regression_model.layers:\n",
    "    print(layer, layer.trainable)\n"
   ]
  },
  {
   "cell_type": "markdown",
   "metadata": {},
   "source": [
    "# Carregar e montar dados para treinamento"
   ]
  },
  {
   "cell_type": "code",
   "execution_count": 5,
   "metadata": {
    "ExecuteTime": {
     "end_time": "2020-04-05T11:25:04.760086Z",
     "start_time": "2020-04-05T11:25:04.660987Z"
    }
   },
   "outputs": [
    {
     "data": {
      "text/html": [
       "<div>\n",
       "<style scoped>\n",
       "    .dataframe tbody tr th:only-of-type {\n",
       "        vertical-align: middle;\n",
       "    }\n",
       "\n",
       "    .dataframe tbody tr th {\n",
       "        vertical-align: top;\n",
       "    }\n",
       "\n",
       "    .dataframe thead th {\n",
       "        text-align: right;\n",
       "    }\n",
       "</style>\n",
       "<table border=\"1\" class=\"dataframe\">\n",
       "  <thead>\n",
       "    <tr style=\"text-align: right;\">\n",
       "      <th></th>\n",
       "      <th>id</th>\n",
       "      <th>pesobalanca</th>\n",
       "      <th>pesodeclarado</th>\n",
       "      <th>dif</th>\n",
       "      <th>filename</th>\n",
       "      <th>preds</th>\n",
       "      <th>dif_pred</th>\n",
       "    </tr>\n",
       "  </thead>\n",
       "  <tbody>\n",
       "    <tr>\n",
       "      <th>1</th>\n",
       "      <td>5e5d09703d0ec8337863f9ee</td>\n",
       "      <td>29190</td>\n",
       "      <td>29149</td>\n",
       "      <td>41</td>\n",
       "      <td>5e5d09703d0ec8337863f9ee.jpg</td>\n",
       "      <td>23781.847656</td>\n",
       "      <td>5408.152344</td>\n",
       "    </tr>\n",
       "    <tr>\n",
       "      <th>3</th>\n",
       "      <td>5e5d099986556b3036c6dc6d</td>\n",
       "      <td>7610</td>\n",
       "      <td>7788</td>\n",
       "      <td>178</td>\n",
       "      <td>5e5d099986556b3036c6dc6d.jpg</td>\n",
       "      <td>7073.970215</td>\n",
       "      <td>536.029785</td>\n",
       "    </tr>\n",
       "    <tr>\n",
       "      <th>4</th>\n",
       "      <td>5e5d094386556b3036c6dc5c</td>\n",
       "      <td>22280</td>\n",
       "      <td>22300</td>\n",
       "      <td>20</td>\n",
       "      <td>5e5d094386556b3036c6dc5c.jpg</td>\n",
       "      <td>23390.078125</td>\n",
       "      <td>1110.078125</td>\n",
       "    </tr>\n",
       "    <tr>\n",
       "      <th>8</th>\n",
       "      <td>5e5d094386556b3036c6dc60</td>\n",
       "      <td>8420</td>\n",
       "      <td>8448</td>\n",
       "      <td>28</td>\n",
       "      <td>5e5d094386556b3036c6dc60.jpg</td>\n",
       "      <td>7730.686035</td>\n",
       "      <td>689.313965</td>\n",
       "    </tr>\n",
       "    <tr>\n",
       "      <th>10</th>\n",
       "      <td>5e5d09703d0ec8337863f9fa</td>\n",
       "      <td>9160</td>\n",
       "      <td>9516</td>\n",
       "      <td>356</td>\n",
       "      <td>5e5d09703d0ec8337863f9fa.jpg</td>\n",
       "      <td>10732.575195</td>\n",
       "      <td>1572.575195</td>\n",
       "    </tr>\n",
       "  </tbody>\n",
       "</table>\n",
       "</div>"
      ],
      "text/plain": [
       "                          id  pesobalanca  pesodeclarado  dif  \\\n",
       "1   5e5d09703d0ec8337863f9ee        29190          29149   41   \n",
       "3   5e5d099986556b3036c6dc6d         7610           7788  178   \n",
       "4   5e5d094386556b3036c6dc5c        22280          22300   20   \n",
       "8   5e5d094386556b3036c6dc60         8420           8448   28   \n",
       "10  5e5d09703d0ec8337863f9fa         9160           9516  356   \n",
       "\n",
       "                        filename         preds     dif_pred  \n",
       "1   5e5d09703d0ec8337863f9ee.jpg  23781.847656  5408.152344  \n",
       "3   5e5d099986556b3036c6dc6d.jpg   7073.970215   536.029785  \n",
       "4   5e5d094386556b3036c6dc5c.jpg  23390.078125  1110.078125  \n",
       "8   5e5d094386556b3036c6dc60.jpg   7730.686035   689.313965  \n",
       "10  5e5d09703d0ec8337863f9fa.jpg  10732.575195  1572.575195  "
      ]
     },
     "execution_count": 5,
     "metadata": {},
     "output_type": "execute_result"
    }
   ],
   "source": [
    "df = pd.read_pickle('df_final_filtered_pesagensbalanca.pkl')\n",
    "df.head()"
   ]
  },
  {
   "cell_type": "code",
   "execution_count": 6,
   "metadata": {
    "ExecuteTime": {
     "end_time": "2020-04-05T11:25:18.874379Z",
     "start_time": "2020-04-05T11:25:18.864352Z"
    }
   },
   "outputs": [
    {
     "name": "stderr",
     "output_type": "stream",
     "text": [
      "/home/ivan/pybr/projeto/venv/lib/python3.5/site-packages/sklearn/utils/validation.py:475: DataConversionWarning: Data with input dtype int64 was converted to float64 by StandardScaler.\n",
      "  warnings.warn(msg, DataConversionWarning)\n"
     ]
    }
   ],
   "source": [
    "scaler = StandardScaler()\n",
    "scaled = scaler.fit_transform(df.pesobalanca.values.reshape(-1, 1))\n"
   ]
  },
  {
   "cell_type": "code",
   "execution_count": 7,
   "metadata": {
    "ExecuteTime": {
     "end_time": "2020-04-05T11:25:20.840102Z",
     "start_time": "2020-04-05T11:25:20.835609Z"
    }
   },
   "outputs": [],
   "source": [
    "df['pesoscaled'] = scaled"
   ]
  },
  {
   "cell_type": "code",
   "execution_count": 8,
   "metadata": {
    "ExecuteTime": {
     "end_time": "2020-04-05T11:25:21.636028Z",
     "start_time": "2020-04-05T11:25:21.579511Z"
    }
   },
   "outputs": [
    {
     "data": {
      "text/html": [
       "<div>\n",
       "<style scoped>\n",
       "    .dataframe tbody tr th:only-of-type {\n",
       "        vertical-align: middle;\n",
       "    }\n",
       "\n",
       "    .dataframe tbody tr th {\n",
       "        vertical-align: top;\n",
       "    }\n",
       "\n",
       "    .dataframe thead th {\n",
       "        text-align: right;\n",
       "    }\n",
       "</style>\n",
       "<table border=\"1\" class=\"dataframe\">\n",
       "  <thead>\n",
       "    <tr style=\"text-align: right;\">\n",
       "      <th></th>\n",
       "      <th>pesobalanca</th>\n",
       "      <th>pesodeclarado</th>\n",
       "      <th>dif</th>\n",
       "      <th>preds</th>\n",
       "      <th>dif_pred</th>\n",
       "      <th>pesoscaled</th>\n",
       "    </tr>\n",
       "  </thead>\n",
       "  <tbody>\n",
       "    <tr>\n",
       "      <th>count</th>\n",
       "      <td>6652.000000</td>\n",
       "      <td>6652.000000</td>\n",
       "      <td>6652.000000</td>\n",
       "      <td>6652.000000</td>\n",
       "      <td>6652.000000</td>\n",
       "      <td>6.652000e+03</td>\n",
       "    </tr>\n",
       "    <tr>\n",
       "      <th>mean</th>\n",
       "      <td>18204.968581</td>\n",
       "      <td>18241.627330</td>\n",
       "      <td>214.162357</td>\n",
       "      <td>17884.900391</td>\n",
       "      <td>2167.843764</td>\n",
       "      <td>-1.068164e-16</td>\n",
       "    </tr>\n",
       "    <tr>\n",
       "      <th>std</th>\n",
       "      <td>7559.530088</td>\n",
       "      <td>7543.995047</td>\n",
       "      <td>205.533548</td>\n",
       "      <td>6904.848633</td>\n",
       "      <td>1561.269670</td>\n",
       "      <td>1.000075e+00</td>\n",
       "    </tr>\n",
       "    <tr>\n",
       "      <th>min</th>\n",
       "      <td>2370.000000</td>\n",
       "      <td>2211.000000</td>\n",
       "      <td>0.000000</td>\n",
       "      <td>4207.561523</td>\n",
       "      <td>0.507812</td>\n",
       "      <td>-2.094860e+00</td>\n",
       "    </tr>\n",
       "    <tr>\n",
       "      <th>25%</th>\n",
       "      <td>11240.000000</td>\n",
       "      <td>11305.750000</td>\n",
       "      <td>62.000000</td>\n",
       "      <td>10990.872559</td>\n",
       "      <td>831.310791</td>\n",
       "      <td>-9.214187e-01</td>\n",
       "    </tr>\n",
       "    <tr>\n",
       "      <th>50%</th>\n",
       "      <td>19695.000000</td>\n",
       "      <td>19790.000000</td>\n",
       "      <td>143.000000</td>\n",
       "      <td>19717.713867</td>\n",
       "      <td>1885.833008</td>\n",
       "      <td>1.971212e-01</td>\n",
       "    </tr>\n",
       "    <tr>\n",
       "      <th>75%</th>\n",
       "      <td>24160.000000</td>\n",
       "      <td>24160.000000</td>\n",
       "      <td>306.000000</td>\n",
       "      <td>24023.826660</td>\n",
       "      <td>3269.851196</td>\n",
       "      <td>7.878108e-01</td>\n",
       "    </tr>\n",
       "    <tr>\n",
       "      <th>max</th>\n",
       "      <td>29980.000000</td>\n",
       "      <td>30291.000000</td>\n",
       "      <td>999.000000</td>\n",
       "      <td>29644.216797</td>\n",
       "      <td>5998.706055</td>\n",
       "      <td>1.557758e+00</td>\n",
       "    </tr>\n",
       "  </tbody>\n",
       "</table>\n",
       "</div>"
      ],
      "text/plain": [
       "        pesobalanca  pesodeclarado          dif         preds     dif_pred  \\\n",
       "count   6652.000000    6652.000000  6652.000000   6652.000000  6652.000000   \n",
       "mean   18204.968581   18241.627330   214.162357  17884.900391  2167.843764   \n",
       "std     7559.530088    7543.995047   205.533548   6904.848633  1561.269670   \n",
       "min     2370.000000    2211.000000     0.000000   4207.561523     0.507812   \n",
       "25%    11240.000000   11305.750000    62.000000  10990.872559   831.310791   \n",
       "50%    19695.000000   19790.000000   143.000000  19717.713867  1885.833008   \n",
       "75%    24160.000000   24160.000000   306.000000  24023.826660  3269.851196   \n",
       "max    29980.000000   30291.000000   999.000000  29644.216797  5998.706055   \n",
       "\n",
       "         pesoscaled  \n",
       "count  6.652000e+03  \n",
       "mean  -1.068164e-16  \n",
       "std    1.000075e+00  \n",
       "min   -2.094860e+00  \n",
       "25%   -9.214187e-01  \n",
       "50%    1.971212e-01  \n",
       "75%    7.878108e-01  \n",
       "max    1.557758e+00  "
      ]
     },
     "execution_count": 8,
     "metadata": {},
     "output_type": "execute_result"
    }
   ],
   "source": [
    "df.describe()"
   ]
  },
  {
   "cell_type": "code",
   "execution_count": 9,
   "metadata": {
    "ExecuteTime": {
     "end_time": "2020-04-05T11:25:32.473090Z",
     "start_time": "2020-04-05T11:25:32.464123Z"
    }
   },
   "outputs": [],
   "source": [
    "splitmask = np.random.rand(len(df)) < 0.8\n",
    "df_train = df[splitmask]\n",
    "df_val = df[~splitmask]"
   ]
  },
  {
   "cell_type": "code",
   "execution_count": 10,
   "metadata": {
    "ExecuteTime": {
     "end_time": "2020-04-05T11:25:35.169363Z",
     "start_time": "2020-04-05T11:25:35.097839Z"
    }
   },
   "outputs": [
    {
     "name": "stdout",
     "output_type": "stream",
     "text": [
      "Found 5359 validated image filenames.\n",
      "Found 1293 validated image filenames.\n"
     ]
    }
   ],
   "source": [
    "train_datagen = ImageDataGenerator(\n",
    "    rescale=1./255,\n",
    "    horizontal_flip=True,\n",
    ")\n",
    "\n",
    "train_generator = train_datagen.flow_from_dataframe(\n",
    "    dataframe=df_train,\n",
    "    directory='../../bases/pesagensbalanca/pesagensbalanca_cropped',\n",
    "    target_size=(144, 288),\n",
    "    batch_size=256,\n",
    "    x_col='filename',\n",
    "    y_col=\"pesoscaled\",\n",
    "    shuffle=False,\n",
    "    class_mode='raw',\n",
    ")\n",
    "\n",
    "val_generator = train_datagen.flow_from_dataframe(\n",
    "    dataframe=df_val,\n",
    "    directory='../../bases/pesagensbalanca/pesagensbalanca_cropped',\n",
    "    target_size=(144, 288),\n",
    "    batch_size=128,\n",
    "    x_col='filename',\n",
    "    y_col=\"pesoscaled\",\n",
    "    shuffle=False,\n",
    "    class_mode='raw',\n",
    ")"
   ]
  },
  {
   "cell_type": "markdown",
   "metadata": {},
   "source": [
    "# Treinar modelo"
   ]
  },
  {
   "cell_type": "code",
   "execution_count": 14,
   "metadata": {
    "ExecuteTime": {
     "end_time": "2020-04-03T20:27:23.268229Z",
     "start_time": "2020-04-03T20:27:23.207467Z"
    }
   },
   "outputs": [],
   "source": [
    "regression_model.compile(optimizer=optimizers.Adam(lr=0.001),\n",
    "                         loss='mean_absolute_error', metrics=['mse', 'mae', 'msle'])\n",
    "reduce_lr = ReduceLROnPlateau(monitor='val_loss', factor=0.2, patience=3,\n",
    "                          verbose=1, mode='min')"
   ]
  },
  {
   "cell_type": "code",
   "execution_count": 15,
   "metadata": {
    "ExecuteTime": {
     "end_time": "2020-04-03T21:15:45.151256Z",
     "start_time": "2020-04-03T20:27:26.086955Z"
    }
   },
   "outputs": [
    {
     "name": "stdout",
     "output_type": "stream",
     "text": [
      "Train for 21 steps, validate for 10 steps\n",
      "Epoch 1/50\n",
      "21/21 [==============================] - 88s 4s/step - loss: 0.5824 - mse: 0.5593 - mae: 0.5804 - msle: 0.0850 - val_loss: 0.4482 - val_mse: 0.3594 - val_mae: 0.4482 - val_msle: 0.0633\n",
      "Epoch 2/50\n",
      "21/21 [==============================] - 59s 3s/step - loss: 0.4326 - mse: 0.3144 - mae: 0.4324 - msle: 0.0547 - val_loss: 0.4027 - val_mse: 0.2728 - val_mae: 0.4027 - val_msle: 0.0493\n",
      "Epoch 3/50\n",
      "21/21 [==============================] - 58s 3s/step - loss: 0.4029 - mse: 0.2668 - mae: 0.4029 - msle: 0.0457 - val_loss: 0.3965 - val_mse: 0.2517 - val_mae: 0.3965 - val_msle: 0.0480\n",
      "Epoch 4/50\n",
      "21/21 [==============================] - 56s 3s/step - loss: 0.3962 - mse: 0.2489 - mae: 0.3962 - msle: 0.0421 - val_loss: 0.3660 - val_mse: 0.2100 - val_mae: 0.3660 - val_msle: 0.0363\n",
      "Epoch 5/50\n",
      "21/21 [==============================] - 58s 3s/step - loss: 0.3826 - mse: 0.2296 - mae: 0.3826 - msle: 0.0381 - val_loss: 0.3477 - val_mse: 0.1844 - val_mae: 0.3477 - val_msle: 0.0342\n",
      "Epoch 6/50\n",
      "21/21 [==============================] - 57s 3s/step - loss: 0.3581 - mse: 0.2016 - mae: 0.3581 - msle: 0.0340 - val_loss: 0.3283 - val_mse: 0.1707 - val_mae: 0.3283 - val_msle: 0.0296\n",
      "Epoch 7/50\n",
      "21/21 [==============================] - 56s 3s/step - loss: 0.3431 - mse: 0.1835 - mae: 0.3432 - msle: 0.0333 - val_loss: 0.3407 - val_mse: 0.1777 - val_mae: 0.3407 - val_msle: 0.0342\n",
      "Epoch 8/50\n",
      "21/21 [==============================] - 56s 3s/step - loss: 0.3470 - mse: 0.1896 - mae: 0.3471 - msle: 0.0339 - val_loss: 0.3253 - val_mse: 0.1682 - val_mae: 0.3253 - val_msle: 0.0314\n",
      "Epoch 9/50\n",
      "21/21 [==============================] - 55s 3s/step - loss: 0.3372 - mse: 0.1794 - mae: 0.3372 - msle: 0.0329 - val_loss: 0.2979 - val_mse: 0.1452 - val_mae: 0.2979 - val_msle: 0.0281\n",
      "Epoch 10/50\n",
      "21/21 [==============================] - 56s 3s/step - loss: 0.3337 - mse: 0.1750 - mae: 0.3337 - msle: 0.0316 - val_loss: 0.3218 - val_mse: 0.1610 - val_mae: 0.3218 - val_msle: 0.0281\n",
      "Epoch 11/50\n",
      "21/21 [==============================] - 56s 3s/step - loss: 0.3212 - mse: 0.1635 - mae: 0.3211 - msle: 0.0291 - val_loss: 0.3138 - val_mse: 0.1640 - val_mae: 0.3138 - val_msle: 0.0301\n",
      "Epoch 12/50\n",
      "21/21 [==============================] - 56s 3s/step - loss: 0.3189 - mse: 0.1664 - mae: 0.3189 - msle: 0.0312 - val_loss: 0.2936 - val_mse: 0.1351 - val_mae: 0.2936 - val_msle: 0.0256\n",
      "Epoch 13/50\n",
      "21/21 [==============================] - 56s 3s/step - loss: 0.3137 - mse: 0.1581 - mae: 0.3135 - msle: 0.0284 - val_loss: 0.2922 - val_mse: 0.1429 - val_mae: 0.2922 - val_msle: 0.0247\n",
      "Epoch 14/50\n",
      "21/21 [==============================] - 56s 3s/step - loss: 0.3129 - mse: 0.1575 - mae: 0.3127 - msle: 0.0293 - val_loss: 0.3002 - val_mse: 0.1455 - val_mae: 0.3002 - val_msle: 0.0276\n",
      "Epoch 15/50\n",
      "21/21 [==============================] - 56s 3s/step - loss: 0.3082 - mse: 0.1542 - mae: 0.3082 - msle: 0.0282 - val_loss: 0.2793 - val_mse: 0.1282 - val_mae: 0.2793 - val_msle: 0.0241\n",
      "Epoch 16/50\n",
      "21/21 [==============================] - 56s 3s/step - loss: 0.3011 - mse: 0.1492 - mae: 0.3011 - msle: 0.0269 - val_loss: 0.2799 - val_mse: 0.1273 - val_mae: 0.2799 - val_msle: 0.0241\n",
      "Epoch 17/50\n",
      "21/21 [==============================] - 56s 3s/step - loss: 0.3019 - mse: 0.1481 - mae: 0.3018 - msle: 0.0272 - val_loss: 0.2715 - val_mse: 0.1268 - val_mae: 0.2715 - val_msle: 0.0232\n",
      "Epoch 18/50\n",
      "21/21 [==============================] - 55s 3s/step - loss: 0.3114 - mse: 0.1547 - mae: 0.3111 - msle: 0.0292 - val_loss: 0.3069 - val_mse: 0.1589 - val_mae: 0.3069 - val_msle: 0.0263\n",
      "Epoch 19/50\n",
      "21/21 [==============================] - 56s 3s/step - loss: 0.3130 - mse: 0.1588 - mae: 0.3130 - msle: 0.0279 - val_loss: 0.2886 - val_mse: 0.1333 - val_mae: 0.2886 - val_msle: 0.0248\n",
      "Epoch 20/50\n",
      "20/21 [===========================>..] - ETA: 2s - loss: 0.3076 - mse: 0.1526 - mae: 0.3076 - msle: 0.0271\n",
      "Epoch 00020: ReduceLROnPlateau reducing learning rate to 0.00020000000949949026.\n",
      "21/21 [==============================] - 56s 3s/step - loss: 0.3083 - mse: 0.1536 - mae: 0.3083 - msle: 0.0272 - val_loss: 0.2775 - val_mse: 0.1350 - val_mae: 0.2775 - val_msle: 0.0246\n",
      "Epoch 21/50\n",
      "21/21 [==============================] - 56s 3s/step - loss: 0.2878 - mse: 0.1368 - mae: 0.2878 - msle: 0.0254 - val_loss: 0.2636 - val_mse: 0.1207 - val_mae: 0.2636 - val_msle: 0.0219\n",
      "Epoch 22/50\n",
      "21/21 [==============================] - 56s 3s/step - loss: 0.2817 - mse: 0.1323 - mae: 0.2816 - msle: 0.0241 - val_loss: 0.2670 - val_mse: 0.1213 - val_mae: 0.2670 - val_msle: 0.0231\n",
      "Epoch 23/50\n",
      "21/21 [==============================] - 56s 3s/step - loss: 0.2889 - mse: 0.1364 - mae: 0.2888 - msle: 0.0249 - val_loss: 0.2649 - val_mse: 0.1215 - val_mae: 0.2649 - val_msle: 0.0224\n",
      "Epoch 24/50\n",
      "20/21 [===========================>..] - ETA: 2s - loss: 0.2817 - mse: 0.1322 - mae: 0.2816 - msle: 0.0245\n",
      "Epoch 00024: ReduceLROnPlateau reducing learning rate to 4.0000001899898055e-05.\n",
      "21/21 [==============================] - 56s 3s/step - loss: 0.2812 - mse: 0.1318 - mae: 0.2812 - msle: 0.0244 - val_loss: 0.2696 - val_mse: 0.1255 - val_mae: 0.2696 - val_msle: 0.0239\n",
      "Epoch 25/50\n",
      "21/21 [==============================] - 56s 3s/step - loss: 0.2822 - mse: 0.1323 - mae: 0.2821 - msle: 0.0242 - val_loss: 0.2631 - val_mse: 0.1213 - val_mae: 0.2631 - val_msle: 0.0226\n",
      "Epoch 26/50\n",
      "21/21 [==============================] - 56s 3s/step - loss: 0.2817 - mse: 0.1314 - mae: 0.2817 - msle: 0.0240 - val_loss: 0.2614 - val_mse: 0.1194 - val_mae: 0.2614 - val_msle: 0.0220\n",
      "Epoch 27/50\n",
      "21/21 [==============================] - 61s 3s/step - loss: 0.2786 - mse: 0.1300 - mae: 0.2785 - msle: 0.0234 - val_loss: 0.2592 - val_mse: 0.1176 - val_mae: 0.2592 - val_msle: 0.0217\n",
      "Epoch 28/50\n",
      "21/21 [==============================] - 57s 3s/step - loss: 0.2810 - mse: 0.1299 - mae: 0.2809 - msle: 0.0238 - val_loss: 0.2596 - val_mse: 0.1189 - val_mae: 0.2596 - val_msle: 0.0216\n",
      "Epoch 29/50\n",
      "21/21 [==============================] - 57s 3s/step - loss: 0.2805 - mse: 0.1302 - mae: 0.2805 - msle: 0.0237 - val_loss: 0.2618 - val_mse: 0.1194 - val_mae: 0.2618 - val_msle: 0.0225\n",
      "Epoch 30/50\n",
      "20/21 [===========================>..] - ETA: 2s - loss: 0.2799 - mse: 0.1299 - mae: 0.2799 - msle: 0.0240\n",
      "Epoch 00030: ReduceLROnPlateau reducing learning rate to 8.000000525498762e-06.\n",
      "21/21 [==============================] - 56s 3s/step - loss: 0.2792 - mse: 0.1291 - mae: 0.2792 - msle: 0.0238 - val_loss: 0.2606 - val_mse: 0.1201 - val_mae: 0.2606 - val_msle: 0.0219\n",
      "Epoch 31/50\n",
      "21/21 [==============================] - 56s 3s/step - loss: 0.2760 - mse: 0.1275 - mae: 0.2760 - msle: 0.0236 - val_loss: 0.2603 - val_mse: 0.1182 - val_mae: 0.2603 - val_msle: 0.0218\n",
      "Epoch 32/50\n",
      "21/21 [==============================] - 57s 3s/step - loss: 0.2767 - mse: 0.1264 - mae: 0.2767 - msle: 0.0231 - val_loss: 0.2585 - val_mse: 0.1192 - val_mae: 0.2585 - val_msle: 0.0224\n",
      "Epoch 33/50\n",
      "21/21 [==============================] - 56s 3s/step - loss: 0.2773 - mse: 0.1286 - mae: 0.2773 - msle: 0.0236 - val_loss: 0.2587 - val_mse: 0.1192 - val_mae: 0.2587 - val_msle: 0.0219\n",
      "Epoch 34/50\n",
      "21/21 [==============================] - 56s 3s/step - loss: 0.2756 - mse: 0.1275 - mae: 0.2756 - msle: 0.0231 - val_loss: 0.2606 - val_mse: 0.1188 - val_mae: 0.2606 - val_msle: 0.0218\n",
      "Epoch 35/50\n",
      "20/21 [===========================>..] - ETA: 2s - loss: 0.2840 - mse: 0.1333 - mae: 0.2837 - msle: 0.0244\n",
      "Epoch 00035: ReduceLROnPlateau reducing learning rate to 1.6000001778593287e-06.\n",
      "21/21 [==============================] - 56s 3s/step - loss: 0.2833 - mse: 0.1328 - mae: 0.2831 - msle: 0.0243 - val_loss: 0.2614 - val_mse: 0.1208 - val_mae: 0.2614 - val_msle: 0.0224\n",
      "Epoch 36/50\n",
      "21/21 [==============================] - 56s 3s/step - loss: 0.2800 - mse: 0.1296 - mae: 0.2799 - msle: 0.0236 - val_loss: 0.2617 - val_mse: 0.1207 - val_mae: 0.2617 - val_msle: 0.0224\n",
      "Epoch 37/50\n",
      "21/21 [==============================] - 56s 3s/step - loss: 0.2783 - mse: 0.1287 - mae: 0.2782 - msle: 0.0238 - val_loss: 0.2599 - val_mse: 0.1190 - val_mae: 0.2599 - val_msle: 0.0216\n",
      "Epoch 38/50\n",
      "20/21 [===========================>..] - ETA: 2s - loss: 0.2795 - mse: 0.1296 - mae: 0.2794 - msle: 0.0240\n",
      "Epoch 00038: ReduceLROnPlateau reducing learning rate to 3.200000264769187e-07.\n",
      "21/21 [==============================] - 57s 3s/step - loss: 0.2796 - mse: 0.1296 - mae: 0.2795 - msle: 0.0239 - val_loss: 0.2635 - val_mse: 0.1212 - val_mae: 0.2635 - val_msle: 0.0227\n",
      "Epoch 39/50\n",
      "21/21 [==============================] - 56s 3s/step - loss: 0.2789 - mse: 0.1303 - mae: 0.2788 - msle: 0.0236 - val_loss: 0.2599 - val_mse: 0.1190 - val_mae: 0.2599 - val_msle: 0.0219\n",
      "Epoch 40/50\n",
      "21/21 [==============================] - 56s 3s/step - loss: 0.2810 - mse: 0.1311 - mae: 0.2809 - msle: 0.0235 - val_loss: 0.2595 - val_mse: 0.1182 - val_mae: 0.2595 - val_msle: 0.0216\n",
      "Epoch 41/50\n",
      "20/21 [===========================>..] - ETA: 2s - loss: 0.2790 - mse: 0.1296 - mae: 0.2789 - msle: 0.0234\n",
      "Epoch 00041: ReduceLROnPlateau reducing learning rate to 6.400000529538374e-08.\n",
      "21/21 [==============================] - 56s 3s/step - loss: 0.2789 - mse: 0.1295 - mae: 0.2788 - msle: 0.0235 - val_loss: 0.2594 - val_mse: 0.1192 - val_mae: 0.2594 - val_msle: 0.0219\n",
      "Epoch 42/50\n",
      "21/21 [==============================] - 56s 3s/step - loss: 0.2786 - mse: 0.1303 - mae: 0.2786 - msle: 0.0241 - val_loss: 0.2605 - val_mse: 0.1200 - val_mae: 0.2605 - val_msle: 0.0222\n",
      "Epoch 43/50\n",
      "21/21 [==============================] - 56s 3s/step - loss: 0.2755 - mse: 0.1272 - mae: 0.2755 - msle: 0.0235 - val_loss: 0.2623 - val_mse: 0.1207 - val_mae: 0.2623 - val_msle: 0.0225\n",
      "Epoch 44/50\n",
      "20/21 [===========================>..] - ETA: 2s - loss: 0.2796 - mse: 0.1304 - mae: 0.2795 - msle: 0.0236\n",
      "Epoch 00044: ReduceLROnPlateau reducing learning rate to 1.2800001059076749e-08.\n",
      "21/21 [==============================] - 56s 3s/step - loss: 0.2800 - mse: 0.1309 - mae: 0.2799 - msle: 0.0237 - val_loss: 0.2601 - val_mse: 0.1187 - val_mae: 0.2601 - val_msle: 0.0219\n",
      "Epoch 45/50\n",
      "21/21 [==============================] - 57s 3s/step - loss: 0.2777 - mse: 0.1293 - mae: 0.2776 - msle: 0.0239 - val_loss: 0.2605 - val_mse: 0.1188 - val_mae: 0.2605 - val_msle: 0.0216\n",
      "Epoch 46/50\n",
      "21/21 [==============================] - 58s 3s/step - loss: 0.2798 - mse: 0.1306 - mae: 0.2797 - msle: 0.0239 - val_loss: 0.2589 - val_mse: 0.1184 - val_mae: 0.2589 - val_msle: 0.0218\n",
      "Epoch 47/50\n",
      "20/21 [===========================>..] - ETA: 2s - loss: 0.2793 - mse: 0.1291 - mae: 0.2792 - msle: 0.0236\n",
      "Epoch 00047: ReduceLROnPlateau reducing learning rate to 2.5600002118153498e-09.\n",
      "21/21 [==============================] - 56s 3s/step - loss: 0.2798 - mse: 0.1295 - mae: 0.2796 - msle: 0.0236 - val_loss: 0.2603 - val_mse: 0.1185 - val_mae: 0.2603 - val_msle: 0.0218\n",
      "Epoch 48/50\n",
      "21/21 [==============================] - 56s 3s/step - loss: 0.2798 - mse: 0.1292 - mae: 0.2797 - msle: 0.0234 - val_loss: 0.2605 - val_mse: 0.1204 - val_mae: 0.2605 - val_msle: 0.0224\n",
      "Epoch 49/50\n",
      "21/21 [==============================] - 58s 3s/step - loss: 0.2778 - mse: 0.1284 - mae: 0.2777 - msle: 0.0242 - val_loss: 0.2628 - val_mse: 0.1213 - val_mae: 0.2628 - val_msle: 0.0228\n",
      "Epoch 50/50\n",
      "20/21 [===========================>..] - ETA: 2s - loss: 0.2763 - mse: 0.1280 - mae: 0.2763 - msle: 0.0237\n",
      "Epoch 00050: ReduceLROnPlateau reducing learning rate to 5.1200004236307e-10.\n",
      "21/21 [==============================] - 57s 3s/step - loss: 0.2763 - mse: 0.1279 - mae: 0.2763 - msle: 0.0237 - val_loss: 0.2598 - val_mse: 0.1195 - val_mae: 0.2598 - val_msle: 0.0220\n"
     ]
    },
    {
     "data": {
      "text/plain": [
       "<tensorflow.python.keras.callbacks.History at 0x7f1e00484f60>"
      ]
     },
     "execution_count": 15,
     "metadata": {},
     "output_type": "execute_result"
    }
   ],
   "source": [
    "regression_model.fit(train_generator, epochs=50, # shuffle=False,\n",
    "                     callbacks=[reduce_lr],\n",
    "                     validation_data = val_generator,\n",
    "                     validation_steps = val_generator.samples // 128)"
   ]
  },
  {
   "cell_type": "code",
   "execution_count": 16,
   "metadata": {
    "ExecuteTime": {
     "end_time": "2020-04-03T21:15:53.455733Z",
     "start_time": "2020-04-03T21:15:53.435352Z"
    }
   },
   "outputs": [],
   "source": [
    "regression_model.save_weights('gerabasespesagens_cropped2_basefiltrada_scaled.hdf5')"
   ]
  },
  {
   "cell_type": "code",
   "execution_count": 11,
   "metadata": {
    "ExecuteTime": {
     "end_time": "2020-04-05T11:25:56.280178Z",
     "start_time": "2020-04-05T11:25:56.252467Z"
    }
   },
   "outputs": [],
   "source": [
    "regression_model.load_weights('gerabasespesagens_cropped2_basefiltrada_scaled.hdf5')"
   ]
  },
  {
   "cell_type": "markdown",
   "metadata": {
    "heading_collapsed": true
   },
   "source": [
    "## Fine tunning"
   ]
  },
  {
   "cell_type": "code",
   "execution_count": 25,
   "metadata": {
    "ExecuteTime": {
     "end_time": "2020-04-03T12:13:29.433920Z",
     "start_time": "2020-04-03T12:13:29.417557Z"
    },
    "hidden": true
   },
   "outputs": [
    {
     "name": "stdout",
     "output_type": "stream",
     "text": [
      "<tensorflow.python.keras.layers.convolutional.Conv2D object at 0x7f9329d44d68> False\n",
      "<tensorflow.python.keras.layers.pooling.MaxPooling2D object at 0x7f9329ccf390> False\n",
      "<tensorflow.python.keras.layers.core.Dropout object at 0x7f9329ccf588> False\n",
      "<tensorflow.python.keras.layers.convolutional.Conv2D object at 0x7f9329ccf6d8> False\n",
      "<tensorflow.python.keras.layers.core.Dropout object at 0x7f9329ccfb38> False\n",
      "<tensorflow.python.keras.layers.convolutional.Conv2D object at 0x7f9329ccfc50> False\n",
      "<tensorflow.python.keras.layers.core.Dropout object at 0x7f9329cdf0f0> False\n",
      "<tensorflow.python.keras.layers.pooling.AveragePooling2D object at 0x7f9329cdf208> False\n",
      "<tensorflow.python.keras.layers.core.Flatten object at 0x7f9329cdf400> False\n",
      "<tensorflow.python.keras.layers.core.Dense object at 0x7f9329cdf550> True\n",
      "<tensorflow.python.keras.layers.core.Dense object at 0x7f9329cdf860> True\n",
      "<tensorflow.python.keras.layers.core.Dropout object at 0x7f9329cdfb70> True\n",
      "<tensorflow.python.keras.layers.core.Dense object at 0x7f9329cdfc88> True\n"
     ]
    }
   ],
   "source": [
    "for layer in regression_model.layers:\n",
    "    layer.trainable = True\n",
    "for layer in regression_model.layers[:-4]:\n",
    "    layer.trainable = False\n",
    "for layer in regression_model.layers:\n",
    "    print(layer, layer.trainable)\n"
   ]
  },
  {
   "cell_type": "code",
   "execution_count": 30,
   "metadata": {
    "ExecuteTime": {
     "end_time": "2020-04-03T12:21:44.883145Z",
     "start_time": "2020-04-03T12:21:44.832612Z"
    },
    "hidden": true
   },
   "outputs": [],
   "source": [
    "regression_model.compile(optimizer=optimizers.SGD(lr=0.001),\n",
    "                         loss='mean_squared_logarithmic_error', metrics=['msle', 'mae', 'mse'])\n",
    "reduce_lr = ReduceLROnPlateau(monitor='val_loss', factor=0.5, patience=2,\n",
    "                          verbose=1, mode='min')"
   ]
  },
  {
   "cell_type": "code",
   "execution_count": 28,
   "metadata": {
    "ExecuteTime": {
     "end_time": "2020-04-03T12:18:18.029170Z",
     "start_time": "2020-04-03T12:18:13.046997Z"
    },
    "hidden": true
   },
   "outputs": [
    {
     "name": "stdout",
     "output_type": "stream",
     "text": [
      "Found 7283 validated image filenames.\n"
     ]
    }
   ],
   "source": [
    "train_generator = train_datagen.flow_from_dataframe(\n",
    "    dataframe=df_train,\n",
    "    directory='../../bases/pesagensbalanca/pesagensbalanca_cropped',\n",
    "    target_size=(144, 288),\n",
    "    batch_size=128,\n",
    "    x_col='filename',\n",
    "    y_col=\"pesobalanca\",\n",
    "    shuffle=False,\n",
    "    class_mode='raw',\n",
    ")\n"
   ]
  },
  {
   "cell_type": "code",
   "execution_count": 31,
   "metadata": {
    "ExecuteTime": {
     "end_time": "2020-04-03T12:46:18.006691Z",
     "start_time": "2020-04-03T12:22:09.041169Z"
    },
    "hidden": true
   },
   "outputs": [
    {
     "name": "stdout",
     "output_type": "stream",
     "text": [
      "Train for 57 steps, validate for 12 steps\n",
      "Epoch 1/20\n",
      "57/57 [==============================] - 71s 1s/step - loss: 0.0947 - msle: 0.0947 - mae: 3608.4629 - mse: 23316486.0000 - val_loss: 0.1091 - val_msle: 0.1091 - val_mae: 3562.4495 - val_mse: 23320314.0000\n",
      "Epoch 2/20\n",
      "57/57 [==============================] - 71s 1s/step - loss: 0.0960 - msle: 0.0960 - mae: 3634.3882 - mse: 23902398.0000 - val_loss: 0.1093 - val_msle: 0.1093 - val_mae: 3560.1953 - val_mse: 23409062.0000\n",
      "Epoch 3/20\n",
      "57/57 [==============================] - 69s 1s/step - loss: 0.0959 - msle: 0.0959 - mae: 3642.7004 - mse: 23762100.0000 - val_loss: 0.1079 - val_msle: 0.1079 - val_mae: 3559.0322 - val_mse: 23223136.0000\n",
      "Epoch 4/20\n",
      "57/57 [==============================] - 68s 1s/step - loss: 0.0953 - msle: 0.0953 - mae: 3632.0486 - mse: 23893478.0000 - val_loss: 0.1082 - val_msle: 0.1082 - val_mae: 3570.1289 - val_mse: 23299914.0000\n",
      "Epoch 5/20\n",
      "57/57 [==============================] - 88s 2s/step - loss: 0.0955 - msle: 0.0955 - mae: 3647.9644 - mse: 23942830.0000 - val_loss: 0.1077 - val_msle: 0.1077 - val_mae: 3559.8801 - val_mse: 23177550.0000\n",
      "Epoch 6/20\n",
      "57/57 [==============================] - 82s 1s/step - loss: 0.0962 - msle: 0.0962 - mae: 3663.9114 - mse: 24051190.0000 - val_loss: 0.1084 - val_msle: 0.1084 - val_mae: 3576.3948 - val_mse: 23368120.0000\n",
      "Epoch 7/20\n",
      "56/57 [============================>.] - ETA: 1s - loss: 0.0958 - msle: 0.0958 - mae: 3642.4663 - mse: 23756436.0000\n",
      "Epoch 00007: ReduceLROnPlateau reducing learning rate to 0.0005000000237487257.\n",
      "57/57 [==============================] - 75s 1s/step - loss: 0.0957 - msle: 0.0957 - mae: 3649.6077 - mse: 23811616.0000 - val_loss: 0.1081 - val_msle: 0.1081 - val_mae: 3570.0051 - val_mse: 23035190.0000\n",
      "Epoch 8/20\n",
      "57/57 [==============================] - 72s 1s/step - loss: 0.0963 - msle: 0.0963 - mae: 3688.8850 - mse: 24120656.0000 - val_loss: 0.1080 - val_msle: 0.1080 - val_mae: 3597.3259 - val_mse: 23412522.0000\n",
      "Epoch 9/20\n",
      "56/57 [============================>.] - ETA: 1s - loss: 0.0958 - msle: 0.0958 - mae: 3694.7253 - mse: 23935766.0000\n",
      "Epoch 00009: ReduceLROnPlateau reducing learning rate to 0.0002500000118743628.\n",
      "57/57 [==============================] - 72s 1s/step - loss: 0.0960 - msle: 0.0960 - mae: 3700.4827 - mse: 24019208.0000 - val_loss: 0.1086 - val_msle: 0.1086 - val_mae: 3587.5818 - val_mse: 23438978.0000\n",
      "Epoch 10/20\n",
      "57/57 [==============================] - 70s 1s/step - loss: 0.0948 - msle: 0.0948 - mae: 3647.3152 - mse: 23678130.0000 - val_loss: 0.1079 - val_msle: 0.1079 - val_mae: 3562.3242 - val_mse: 23302350.0000\n",
      "Epoch 11/20\n",
      "57/57 [==============================] - 69s 1s/step - loss: 0.0936 - msle: 0.0936 - mae: 3644.5615 - mse: 23401316.0000 - val_loss: 0.1073 - val_msle: 0.1073 - val_mae: 3555.0166 - val_mse: 23016992.0000\n",
      "Epoch 12/20\n",
      "57/57 [==============================] - 69s 1s/step - loss: 0.0951 - msle: 0.0951 - mae: 3679.6699 - mse: 24004276.0000 - val_loss: 0.1077 - val_msle: 0.1077 - val_mae: 3560.4417 - val_mse: 23152162.0000\n",
      "Epoch 13/20\n",
      "56/57 [============================>.] - ETA: 1s - loss: 0.0949 - msle: 0.0949 - mae: 3652.0210 - mse: 23497662.0000\n",
      "Epoch 00013: ReduceLROnPlateau reducing learning rate to 0.0001250000059371814.\n",
      "57/57 [==============================] - 69s 1s/step - loss: 0.0950 - msle: 0.0950 - mae: 3659.3501 - mse: 23573314.0000 - val_loss: 0.1078 - val_msle: 0.1078 - val_mae: 3592.5928 - val_mse: 23263226.0000\n",
      "Epoch 14/20\n",
      "57/57 [==============================] - 71s 1s/step - loss: 0.0950 - msle: 0.0950 - mae: 3642.0391 - mse: 23498400.0000 - val_loss: 0.1071 - val_msle: 0.1071 - val_mae: 3566.7332 - val_mse: 23151944.0000\n",
      "Epoch 15/20\n",
      "57/57 [==============================] - 70s 1s/step - loss: 0.0943 - msle: 0.0943 - mae: 3631.8079 - mse: 23322428.0000 - val_loss: 0.1080 - val_msle: 0.1080 - val_mae: 3595.3057 - val_mse: 23449594.0000\n",
      "Epoch 16/20\n",
      "56/57 [============================>.] - ETA: 1s - loss: 0.0943 - msle: 0.0943 - mae: 3651.6238 - mse: 23555504.0000\n",
      "Epoch 00016: ReduceLROnPlateau reducing learning rate to 6.25000029685907e-05.\n",
      "57/57 [==============================] - 68s 1s/step - loss: 0.0944 - msle: 0.0944 - mae: 3657.6921 - mse: 23610342.0000 - val_loss: 0.1081 - val_msle: 0.1081 - val_mae: 3583.7878 - val_mse: 23516310.0000\n",
      "Epoch 17/20\n",
      "57/57 [==============================] - 72s 1s/step - loss: 0.0952 - msle: 0.0952 - mae: 3642.9255 - mse: 23638890.0000 - val_loss: 0.1085 - val_msle: 0.1085 - val_mae: 3591.6428 - val_mse: 23487902.0000\n",
      "Epoch 18/20\n",
      "56/57 [============================>.] - ETA: 1s - loss: 0.0945 - msle: 0.0945 - mae: 3655.2605 - mse: 23732426.0000\n",
      "Epoch 00018: ReduceLROnPlateau reducing learning rate to 3.125000148429535e-05.\n",
      "57/57 [==============================] - 68s 1s/step - loss: 0.0944 - msle: 0.0944 - mae: 3659.3508 - mse: 23771188.0000 - val_loss: 0.1081 - val_msle: 0.1081 - val_mae: 3573.0984 - val_mse: 23345970.0000\n",
      "Epoch 19/20\n",
      "57/57 [==============================] - 73s 1s/step - loss: 0.0961 - msle: 0.0961 - mae: 3692.1499 - mse: 24068660.0000 - val_loss: 0.1086 - val_msle: 0.1086 - val_mae: 3603.9785 - val_mse: 23488554.0000\n",
      "Epoch 20/20\n",
      "56/57 [============================>.] - ETA: 1s - loss: 0.0949 - msle: 0.0949 - mae: 3656.9983 - mse: 23879520.0000\n",
      "Epoch 00020: ReduceLROnPlateau reducing learning rate to 1.5625000742147677e-05.\n",
      "57/57 [==============================] - 77s 1s/step - loss: 0.0951 - msle: 0.0951 - mae: 3663.6902 - mse: 23954798.0000 - val_loss: 0.1075 - val_msle: 0.1075 - val_mae: 3602.1082 - val_mse: 23402186.0000\n"
     ]
    },
    {
     "data": {
      "text/plain": [
       "<tensorflow.python.keras.callbacks.History at 0x7f939fe86898>"
      ]
     },
     "execution_count": 31,
     "metadata": {},
     "output_type": "execute_result"
    }
   ],
   "source": [
    "regression_model.fit(train_generator, epochs=20, shuffle=False,\n",
    "                     callbacks=[reduce_lr],\n",
    "                     validation_data = val_generator,\n",
    "                     validation_steps = val_generator.samples // 64)"
   ]
  },
  {
   "cell_type": "code",
   "execution_count": 67,
   "metadata": {
    "ExecuteTime": {
     "end_time": "2020-04-03T13:36:17.134277Z",
     "start_time": "2020-04-03T13:36:17.073080Z"
    },
    "hidden": true
   },
   "outputs": [],
   "source": [
    "regression_model.compile(optimizer=optimizers.SGD(lr=0.0001),\n",
    "                         loss='mean_absolute_error', metrics=['msle', 'mae', 'mse'])\n",
    "reduce_lr = ReduceLROnPlateau(monitor='val_loss', factor=0.5, patience=2,\n",
    "                          verbose=1, mode='min')"
   ]
  },
  {
   "cell_type": "code",
   "execution_count": 68,
   "metadata": {
    "ExecuteTime": {
     "end_time": "2020-04-03T13:58:49.128551Z",
     "start_time": "2020-04-03T13:36:19.963003Z"
    },
    "hidden": true
   },
   "outputs": [
    {
     "name": "stdout",
     "output_type": "stream",
     "text": [
      "Train for 57 steps, validate for 12 steps\n",
      "Epoch 1/20\n",
      "57/57 [==============================] - 68s 1s/step - loss: 5622.2075 - msle: 0.1992 - mae: 5624.1997 - mse: 55791784.0000 - val_loss: 3756.6118 - val_msle: 0.1211 - val_mae: 3756.6116 - val_mse: 26991670.0000\n",
      "Epoch 2/20\n",
      "57/57 [==============================] - 69s 1s/step - loss: 4039.2813 - msle: 0.1083 - mae: 4039.6230 - mse: 28704642.0000 - val_loss: 3569.9286 - val_msle: 0.1115 - val_mae: 3569.9285 - val_mse: 23872918.0000\n",
      "Epoch 3/20\n",
      "57/57 [==============================] - 68s 1s/step - loss: 3988.0034 - msle: 0.1053 - mae: 3987.5867 - mse: 27424336.0000 - val_loss: 3688.5720 - val_msle: 0.1213 - val_mae: 3688.5723 - val_mse: 26035480.0000\n",
      "Epoch 4/20\n",
      "57/57 [==============================] - 67s 1s/step - loss: 3891.8890 - msle: 0.1026 - mae: 3891.7432 - mse: 26609566.0000 - val_loss: 3542.2460 - val_msle: 0.1098 - val_mae: 3542.2463 - val_mse: 23128936.0000\n",
      "Epoch 5/20\n",
      "57/57 [==============================] - 67s 1s/step - loss: 3853.6981 - msle: 0.1027 - mae: 3853.5623 - mse: 26367744.0000 - val_loss: 3650.7325 - val_msle: 0.1204 - val_mae: 3650.7322 - val_mse: 25428750.0000\n",
      "Epoch 6/20\n",
      "56/57 [============================>.] - ETA: 1s - loss: 3748.6712 - msle: 0.0982 - mae: 3748.6704 - mse: 24742960.0000\n",
      "Epoch 00006: ReduceLROnPlateau reducing learning rate to 4.999999873689376e-05.\n",
      "57/57 [==============================] - 67s 1s/step - loss: 3764.0018 - msle: 0.0985 - mae: 3762.4924 - mse: 24833750.0000 - val_loss: 3602.0475 - val_msle: 0.1175 - val_mae: 3602.0476 - val_mse: 24750680.0000\n",
      "Epoch 7/20\n",
      "57/57 [==============================] - 68s 1s/step - loss: 3682.3303 - msle: 0.0977 - mae: 3682.0134 - mse: 24172022.0000 - val_loss: 3569.0797 - val_msle: 0.1069 - val_mae: 3569.0793 - val_mse: 22903376.0000\n",
      "Epoch 8/20\n",
      "57/57 [==============================] - 68s 1s/step - loss: 3669.1480 - msle: 0.0965 - mae: 3667.9512 - mse: 23896300.0000 - val_loss: 3535.4600 - val_msle: 0.1075 - val_mae: 3535.4602 - val_mse: 22995670.0000\n",
      "Epoch 9/20\n",
      "57/57 [==============================] - 67s 1s/step - loss: 3645.8396 - msle: 0.0964 - mae: 3645.0186 - mse: 23734250.0000 - val_loss: 3530.7960 - val_msle: 0.1092 - val_mae: 3530.7961 - val_mse: 22992938.0000\n",
      "Epoch 10/20\n",
      "57/57 [==============================] - 67s 1s/step - loss: 3674.1624 - msle: 0.0967 - mae: 3673.2100 - mse: 24207526.0000 - val_loss: 3528.8401 - val_msle: 0.1103 - val_mae: 3528.8401 - val_mse: 23352082.0000\n",
      "Epoch 11/20\n",
      "57/57 [==============================] - 67s 1s/step - loss: 3637.7729 - msle: 0.0948 - mae: 3636.9436 - mse: 23636412.0000 - val_loss: 3549.9799 - val_msle: 0.1083 - val_mae: 3549.9797 - val_mse: 22973326.0000\n",
      "Epoch 12/20\n",
      "57/57 [==============================] - 67s 1s/step - loss: 3686.5428 - msle: 0.0968 - mae: 3685.6941 - mse: 24174696.0000 - val_loss: 3514.0920 - val_msle: 0.1088 - val_mae: 3514.0920 - val_mse: 22884904.0000\n",
      "Epoch 13/20\n",
      "57/57 [==============================] - 67s 1s/step - loss: 3632.0104 - msle: 0.0963 - mae: 3631.6216 - mse: 23844394.0000 - val_loss: 3539.5320 - val_msle: 0.1101 - val_mae: 3539.5320 - val_mse: 23183126.0000\n",
      "Epoch 14/20\n",
      "56/57 [============================>.] - ETA: 1s - loss: 3639.5244 - msle: 0.0959 - mae: 3639.5237 - mse: 23781594.0000\n",
      "Epoch 00014: ReduceLROnPlateau reducing learning rate to 2.499999936844688e-05.\n",
      "57/57 [==============================] - 66s 1s/step - loss: 3645.3800 - msle: 0.0959 - mae: 3644.8030 - mse: 23836504.0000 - val_loss: 3515.9760 - val_msle: 0.1093 - val_mae: 3515.9763 - val_mse: 23088942.0000\n",
      "Epoch 15/20\n",
      "57/57 [==============================] - 67s 1s/step - loss: 3640.5874 - msle: 0.0968 - mae: 3640.2993 - mse: 23954126.0000 - val_loss: 3526.3693 - val_msle: 0.1067 - val_mae: 3526.3694 - val_mse: 22749002.0000\n",
      "Epoch 16/20\n",
      "56/57 [============================>.] - ETA: 1s - loss: 3582.5034 - msle: 0.0948 - mae: 3582.5032 - mse: 23006774.0000\n",
      "Epoch 00016: ReduceLROnPlateau reducing learning rate to 1.249999968422344e-05.\n",
      "57/57 [==============================] - 69s 1s/step - loss: 3590.9371 - msle: 0.0948 - mae: 3590.1069 - mse: 23097024.0000 - val_loss: 3546.2712 - val_msle: 0.1069 - val_mae: 3546.2712 - val_mse: 22921176.0000\n",
      "Epoch 17/20\n",
      "57/57 [==============================] - 67s 1s/step - loss: 3615.6541 - msle: 0.0953 - mae: 3614.7908 - mse: 23614178.0000 - val_loss: 3539.1195 - val_msle: 0.1088 - val_mae: 3539.1194 - val_mse: 23189586.0000\n",
      "Epoch 18/20\n",
      "57/57 [==============================] - 67s 1s/step - loss: 3628.2015 - msle: 0.0958 - mae: 3627.6113 - mse: 23599454.0000 - val_loss: 3510.0249 - val_msle: 0.1092 - val_mae: 3510.0251 - val_mse: 23016432.0000\n",
      "Epoch 19/20\n",
      "57/57 [==============================] - 67s 1s/step - loss: 3634.8983 - msle: 0.0952 - mae: 3634.0483 - mse: 23755970.0000 - val_loss: 3551.2371 - val_msle: 0.1091 - val_mae: 3551.2371 - val_mse: 23314026.0000\n",
      "Epoch 20/20\n",
      "56/57 [============================>.] - ETA: 1s - loss: 3637.4419 - msle: 0.0961 - mae: 3637.4419 - mse: 23587600.0000\n",
      "Epoch 00020: ReduceLROnPlateau reducing learning rate to 6.24999984211172e-06.\n",
      "57/57 [==============================] - 67s 1s/step - loss: 3644.7557 - msle: 0.0961 - mae: 3644.0359 - mse: 23668352.0000 - val_loss: 3535.6181 - val_msle: 0.1065 - val_mae: 3535.6184 - val_mse: 22774776.0000\n"
     ]
    },
    {
     "data": {
      "text/plain": [
       "<tensorflow.python.keras.callbacks.History at 0x7f93a4809908>"
      ]
     },
     "execution_count": 68,
     "metadata": {},
     "output_type": "execute_result"
    }
   ],
   "source": [
    "regression_model.fit(train_generator, epochs=20, shuffle=False,\n",
    "                     callbacks=[reduce_lr],\n",
    "                     validation_data = val_generator,\n",
    "                     validation_steps = val_generator.samples // 64)"
   ]
  },
  {
   "cell_type": "code",
   "execution_count": 110,
   "metadata": {
    "ExecuteTime": {
     "end_time": "2020-04-03T14:53:04.772913Z",
     "start_time": "2020-04-03T14:53:04.561209Z"
    },
    "hidden": true
   },
   "outputs": [],
   "source": [
    "regression_model.save_weights('gerabasespesagens_cropped2_finetunning.h5')"
   ]
  },
  {
   "cell_type": "markdown",
   "metadata": {},
   "source": [
    "# Avaliação"
   ]
  },
  {
   "cell_type": "code",
   "execution_count": 14,
   "metadata": {
    "ExecuteTime": {
     "end_time": "2020-04-05T11:26:23.499239Z",
     "start_time": "2020-04-05T11:26:23.141201Z"
    }
   },
   "outputs": [
    {
     "name": "stdout",
     "output_type": "stream",
     "text": [
      "[24119.691] 27250\n"
     ]
    },
    {
     "data": {
      "text/plain": [
       "<matplotlib.image.AxesImage at 0x7f9d31f12f98>"
      ]
     },
     "execution_count": 14,
     "metadata": {},
     "output_type": "execute_result"
    },
    {
     "data": {
      "image/png": "[encoded data removed]",
      "text/plain": [
       "<Figure size 432x288 with 1 Axes>"
      ]
     },
     "metadata": {
      "needs_background": "light"
     },
     "output_type": "display_data"
    }
   ],
   "source": [
    "%matplotlib inline\n",
    "import matplotlib.pyplot as plt\n",
    "sample = df.sample()\n",
    "filename = sample['filename'].item()\n",
    "image = Image.open('../../bases/pesagensbalanca/pesagensbalanca_cropped/' + filename)\n",
    "image = image.resize((288, 144), Image.LANCZOS)\n",
    "image_array = np.expand_dims(np.array(image), axis=0) / 255\n",
    "pred = regression_model.predict(image_array)[0][0]\n",
    "pred_scaled = scaler.inverse_transform([pred])\n",
    "print(pred_scaled, sample['pesobalanca'].item())\n",
    "plt.imshow(image)"
   ]
  },
  {
   "cell_type": "code",
   "execution_count": 15,
   "metadata": {
    "ExecuteTime": {
     "end_time": "2020-04-05T11:27:28.277577Z",
     "start_time": "2020-04-05T11:26:23.744184Z"
    }
   },
   "outputs": [],
   "source": [
    "y_preds_train = regression_model.predict_generator(train_generator)"
   ]
  },
  {
   "cell_type": "code",
   "execution_count": 16,
   "metadata": {
    "ExecuteTime": {
     "end_time": "2020-04-05T11:27:43.741520Z",
     "start_time": "2020-04-05T11:27:28.281200Z"
    }
   },
   "outputs": [],
   "source": [
    "y_preds_val = regression_model.predict_generator(val_generator)"
   ]
  },
  {
   "cell_type": "code",
   "execution_count": 17,
   "metadata": {
    "ExecuteTime": {
     "end_time": "2020-04-05T11:27:43.753298Z",
     "start_time": "2020-04-05T11:27:43.745743Z"
    }
   },
   "outputs": [
    {
     "data": {
      "text/plain": [
       "(1293, 8)"
      ]
     },
     "execution_count": 17,
     "metadata": {},
     "output_type": "execute_result"
    }
   ],
   "source": [
    "df_val.shape"
   ]
  },
  {
   "cell_type": "code",
   "execution_count": 18,
   "metadata": {
    "ExecuteTime": {
     "end_time": "2020-04-05T11:27:44.028241Z",
     "start_time": "2020-04-05T11:27:43.757838Z"
    }
   },
   "outputs": [
    {
     "data": {
      "text/plain": [
       "(1293, 1)"
      ]
     },
     "execution_count": 18,
     "metadata": {},
     "output_type": "execute_result"
    }
   ],
   "source": [
    "y_preds_val.shape"
   ]
  },
  {
   "cell_type": "code",
   "execution_count": 19,
   "metadata": {
    "ExecuteTime": {
     "end_time": "2020-04-05T11:27:44.122490Z",
     "start_time": "2020-04-05T11:27:44.031604Z"
    }
   },
   "outputs": [
    {
     "name": "stderr",
     "output_type": "stream",
     "text": [
      "/home/ivan/pybr/projeto/venv/lib/python3.5/site-packages/ipykernel_launcher.py:1: SettingWithCopyWarning: \n",
      "A value is trying to be set on a copy of a slice from a DataFrame.\n",
      "Try using .loc[row_indexer,col_indexer] = value instead\n",
      "\n",
      "See the caveats in the documentation: http://pandas.pydata.org/pandas-docs/stable/indexing.html#indexing-view-versus-copy\n",
      "  \"\"\"Entry point for launching an IPython kernel.\n"
     ]
    }
   ],
   "source": [
    "df_val['preds'] = scaler.inverse_transform(y_preds_val)"
   ]
  },
  {
   "cell_type": "code",
   "execution_count": 20,
   "metadata": {
    "ExecuteTime": {
     "end_time": "2020-04-05T11:27:44.152461Z",
     "start_time": "2020-04-05T11:27:44.126004Z"
    }
   },
   "outputs": [
    {
     "data": {
      "text/html": [
       "<div>\n",
       "<style scoped>\n",
       "    .dataframe tbody tr th:only-of-type {\n",
       "        vertical-align: middle;\n",
       "    }\n",
       "\n",
       "    .dataframe tbody tr th {\n",
       "        vertical-align: top;\n",
       "    }\n",
       "\n",
       "    .dataframe thead th {\n",
       "        text-align: right;\n",
       "    }\n",
       "</style>\n",
       "<table border=\"1\" class=\"dataframe\">\n",
       "  <thead>\n",
       "    <tr style=\"text-align: right;\">\n",
       "      <th></th>\n",
       "      <th>id</th>\n",
       "      <th>pesobalanca</th>\n",
       "      <th>pesodeclarado</th>\n",
       "      <th>dif</th>\n",
       "      <th>filename</th>\n",
       "      <th>preds</th>\n",
       "      <th>dif_pred</th>\n",
       "      <th>pesoscaled</th>\n",
       "    </tr>\n",
       "  </thead>\n",
       "  <tbody>\n",
       "    <tr>\n",
       "      <th>12</th>\n",
       "      <td>5e5d099b86556b3036c6dcf7</td>\n",
       "      <td>8510</td>\n",
       "      <td>8714</td>\n",
       "      <td>204</td>\n",
       "      <td>5e5d099b86556b3036c6dcf7.jpg</td>\n",
       "      <td>11478.691406</td>\n",
       "      <td>2016.067383</td>\n",
       "      <td>-1.282579</td>\n",
       "    </tr>\n",
       "    <tr>\n",
       "      <th>30</th>\n",
       "      <td>5e5d09703d0ec8337863fa12</td>\n",
       "      <td>22850</td>\n",
       "      <td>22904</td>\n",
       "      <td>54</td>\n",
       "      <td>5e5d09703d0ec8337863fa12.jpg</td>\n",
       "      <td>27726.656250</td>\n",
       "      <td>3220.375000</td>\n",
       "      <td>0.614507</td>\n",
       "    </tr>\n",
       "    <tr>\n",
       "      <th>38</th>\n",
       "      <td>5e5d096a3d0ec8337863f7a9</td>\n",
       "      <td>26960</td>\n",
       "      <td>26776</td>\n",
       "      <td>184</td>\n",
       "      <td>5e5d096a3d0ec8337863f7a9.jpg</td>\n",
       "      <td>25050.500000</td>\n",
       "      <td>4361.814453</td>\n",
       "      <td>1.158232</td>\n",
       "    </tr>\n",
       "    <tr>\n",
       "      <th>39</th>\n",
       "      <td>5e5d096a3d0ec8337863f779</td>\n",
       "      <td>10960</td>\n",
       "      <td>10837</td>\n",
       "      <td>123</td>\n",
       "      <td>5e5d096a3d0ec8337863f779.jpg</td>\n",
       "      <td>10017.161133</td>\n",
       "      <td>756.332031</td>\n",
       "      <td>-0.958461</td>\n",
       "    </tr>\n",
       "    <tr>\n",
       "      <th>46</th>\n",
       "      <td>5e5d096b3d0ec8337863f7c9</td>\n",
       "      <td>23550</td>\n",
       "      <td>23740</td>\n",
       "      <td>190</td>\n",
       "      <td>5e5d096b3d0ec8337863f7c9.jpg</td>\n",
       "      <td>27755.988281</td>\n",
       "      <td>2927.474609</td>\n",
       "      <td>0.707112</td>\n",
       "    </tr>\n",
       "  </tbody>\n",
       "</table>\n",
       "</div>"
      ],
      "text/plain": [
       "                          id  pesobalanca  pesodeclarado  dif  \\\n",
       "12  5e5d099b86556b3036c6dcf7         8510           8714  204   \n",
       "30  5e5d09703d0ec8337863fa12        22850          22904   54   \n",
       "38  5e5d096a3d0ec8337863f7a9        26960          26776  184   \n",
       "39  5e5d096a3d0ec8337863f779        10960          10837  123   \n",
       "46  5e5d096b3d0ec8337863f7c9        23550          23740  190   \n",
       "\n",
       "                        filename         preds     dif_pred  pesoscaled  \n",
       "12  5e5d099b86556b3036c6dcf7.jpg  11478.691406  2016.067383   -1.282579  \n",
       "30  5e5d09703d0ec8337863fa12.jpg  27726.656250  3220.375000    0.614507  \n",
       "38  5e5d096a3d0ec8337863f7a9.jpg  25050.500000  4361.814453    1.158232  \n",
       "39  5e5d096a3d0ec8337863f779.jpg  10017.161133   756.332031   -0.958461  \n",
       "46  5e5d096b3d0ec8337863f7c9.jpg  27755.988281  2927.474609    0.707112  "
      ]
     },
     "execution_count": 20,
     "metadata": {},
     "output_type": "execute_result"
    }
   ],
   "source": [
    "df_val.head()"
   ]
  },
  {
   "cell_type": "code",
   "execution_count": 21,
   "metadata": {
    "ExecuteTime": {
     "end_time": "2020-04-05T11:27:44.252108Z",
     "start_time": "2020-04-05T11:27:44.155686Z"
    }
   },
   "outputs": [
    {
     "name": "stderr",
     "output_type": "stream",
     "text": [
      "/home/ivan/pybr/projeto/venv/lib/python3.5/site-packages/ipykernel_launcher.py:1: SettingWithCopyWarning: \n",
      "A value is trying to be set on a copy of a slice from a DataFrame.\n",
      "Try using .loc[row_indexer,col_indexer] = value instead\n",
      "\n",
      "See the caveats in the documentation: http://pandas.pydata.org/pandas-docs/stable/indexing.html#indexing-view-versus-copy\n",
      "  \"\"\"Entry point for launching an IPython kernel.\n"
     ]
    }
   ],
   "source": [
    "df_val['dif_pred'] = abs(df_val['pesobalanca'] - df_val['preds'])"
   ]
  },
  {
   "cell_type": "code",
   "execution_count": 22,
   "metadata": {
    "ExecuteTime": {
     "end_time": "2020-04-05T11:27:44.302218Z",
     "start_time": "2020-04-05T11:27:44.256335Z"
    }
   },
   "outputs": [
    {
     "data": {
      "text/html": [
       "<div>\n",
       "<style scoped>\n",
       "    .dataframe tbody tr th:only-of-type {\n",
       "        vertical-align: middle;\n",
       "    }\n",
       "\n",
       "    .dataframe tbody tr th {\n",
       "        vertical-align: top;\n",
       "    }\n",
       "\n",
       "    .dataframe thead th {\n",
       "        text-align: right;\n",
       "    }\n",
       "</style>\n",
       "<table border=\"1\" class=\"dataframe\">\n",
       "  <thead>\n",
       "    <tr style=\"text-align: right;\">\n",
       "      <th></th>\n",
       "      <th>pesobalanca</th>\n",
       "      <th>pesodeclarado</th>\n",
       "      <th>dif</th>\n",
       "      <th>preds</th>\n",
       "      <th>dif_pred</th>\n",
       "      <th>pesoscaled</th>\n",
       "    </tr>\n",
       "  </thead>\n",
       "  <tbody>\n",
       "    <tr>\n",
       "      <th>count</th>\n",
       "      <td>1293.000000</td>\n",
       "      <td>1293.000000</td>\n",
       "      <td>1293.000000</td>\n",
       "      <td>1293.000000</td>\n",
       "      <td>1293.000000</td>\n",
       "      <td>1293.000000</td>\n",
       "    </tr>\n",
       "    <tr>\n",
       "      <th>mean</th>\n",
       "      <td>18318.507347</td>\n",
       "      <td>18363.997680</td>\n",
       "      <td>219.309358</td>\n",
       "      <td>18414.128906</td>\n",
       "      <td>1887.850840</td>\n",
       "      <td>0.015020</td>\n",
       "    </tr>\n",
       "    <tr>\n",
       "      <th>std</th>\n",
       "      <td>7549.414613</td>\n",
       "      <td>7531.357979</td>\n",
       "      <td>208.275338</td>\n",
       "      <td>6778.143555</td>\n",
       "      <td>1653.910394</td>\n",
       "      <td>0.998737</td>\n",
       "    </tr>\n",
       "    <tr>\n",
       "      <th>min</th>\n",
       "      <td>2480.000000</td>\n",
       "      <td>2440.000000</td>\n",
       "      <td>0.000000</td>\n",
       "      <td>4225.133789</td>\n",
       "      <td>0.045898</td>\n",
       "      <td>-2.080308</td>\n",
       "    </tr>\n",
       "    <tr>\n",
       "      <th>25%</th>\n",
       "      <td>11660.000000</td>\n",
       "      <td>11600.000000</td>\n",
       "      <td>63.000000</td>\n",
       "      <td>11914.241211</td>\n",
       "      <td>557.063477</td>\n",
       "      <td>-0.865855</td>\n",
       "    </tr>\n",
       "    <tr>\n",
       "      <th>50%</th>\n",
       "      <td>19740.000000</td>\n",
       "      <td>19850.000000</td>\n",
       "      <td>153.000000</td>\n",
       "      <td>20475.013672</td>\n",
       "      <td>1388.701172</td>\n",
       "      <td>0.203074</td>\n",
       "    </tr>\n",
       "    <tr>\n",
       "      <th>75%</th>\n",
       "      <td>24160.000000</td>\n",
       "      <td>24170.000000</td>\n",
       "      <td>302.000000</td>\n",
       "      <td>23986.783203</td>\n",
       "      <td>2852.666016</td>\n",
       "      <td>0.787811</td>\n",
       "    </tr>\n",
       "    <tr>\n",
       "      <th>max</th>\n",
       "      <td>29970.000000</td>\n",
       "      <td>29994.000000</td>\n",
       "      <td>999.000000</td>\n",
       "      <td>29017.429688</td>\n",
       "      <td>9639.851562</td>\n",
       "      <td>1.556435</td>\n",
       "    </tr>\n",
       "  </tbody>\n",
       "</table>\n",
       "</div>"
      ],
      "text/plain": [
       "        pesobalanca  pesodeclarado          dif         preds     dif_pred  \\\n",
       "count   1293.000000    1293.000000  1293.000000   1293.000000  1293.000000   \n",
       "mean   18318.507347   18363.997680   219.309358  18414.128906  1887.850840   \n",
       "std     7549.414613    7531.357979   208.275338   6778.143555  1653.910394   \n",
       "min     2480.000000    2440.000000     0.000000   4225.133789     0.045898   \n",
       "25%    11660.000000   11600.000000    63.000000  11914.241211   557.063477   \n",
       "50%    19740.000000   19850.000000   153.000000  20475.013672  1388.701172   \n",
       "75%    24160.000000   24170.000000   302.000000  23986.783203  2852.666016   \n",
       "max    29970.000000   29994.000000   999.000000  29017.429688  9639.851562   \n",
       "\n",
       "        pesoscaled  \n",
       "count  1293.000000  \n",
       "mean      0.015020  \n",
       "std       0.998737  \n",
       "min      -2.080308  \n",
       "25%      -0.865855  \n",
       "50%       0.203074  \n",
       "75%       0.787811  \n",
       "max       1.556435  "
      ]
     },
     "execution_count": 22,
     "metadata": {},
     "output_type": "execute_result"
    }
   ],
   "source": [
    "df_val.describe()"
   ]
  },
  {
   "cell_type": "code",
   "execution_count": 23,
   "metadata": {
    "ExecuteTime": {
     "end_time": "2020-04-05T11:27:44.314627Z",
     "start_time": "2020-04-05T11:27:44.305916Z"
    }
   },
   "outputs": [
    {
     "data": {
      "text/plain": [
       "array([518, 279, 202, 128, 166])"
      ]
     },
     "execution_count": 23,
     "metadata": {},
     "output_type": "execute_result"
    }
   ],
   "source": [
    "np.bincount(pd.np.digitize(df_val['dif_pred'], bins = [1000, 2000, 3000, 4000]))"
   ]
  },
  {
   "cell_type": "code",
   "execution_count": 24,
   "metadata": {
    "ExecuteTime": {
     "end_time": "2020-04-05T11:27:44.342275Z",
     "start_time": "2020-04-05T11:27:44.317918Z"
    }
   },
   "outputs": [
    {
     "data": {
      "text/plain": [
       "166"
      ]
     },
     "execution_count": 24,
     "metadata": {},
     "output_type": "execute_result"
    }
   ],
   "source": [
    "sum(df_val.dif_pred > 4000)"
   ]
  },
  {
   "cell_type": "code",
   "execution_count": 25,
   "metadata": {
    "ExecuteTime": {
     "end_time": "2020-04-05T11:27:44.439178Z",
     "start_time": "2020-04-05T11:27:44.345598Z"
    }
   },
   "outputs": [
    {
     "name": "stderr",
     "output_type": "stream",
     "text": [
      "/home/ivan/pybr/projeto/venv/lib/python3.5/site-packages/ipykernel_launcher.py:1: SettingWithCopyWarning: \n",
      "A value is trying to be set on a copy of a slice from a DataFrame.\n",
      "Try using .loc[row_indexer,col_indexer] = value instead\n",
      "\n",
      "See the caveats in the documentation: http://pandas.pydata.org/pandas-docs/stable/indexing.html#indexing-view-versus-copy\n",
      "  \"\"\"Entry point for launching an IPython kernel.\n"
     ]
    }
   ],
   "source": [
    "df_train['preds'] = scaler.inverse_transform(y_preds_train)"
   ]
  },
  {
   "cell_type": "code",
   "execution_count": 26,
   "metadata": {
    "ExecuteTime": {
     "end_time": "2020-04-05T11:27:44.540475Z",
     "start_time": "2020-04-05T11:27:44.442641Z"
    }
   },
   "outputs": [
    {
     "name": "stderr",
     "output_type": "stream",
     "text": [
      "/home/ivan/pybr/projeto/venv/lib/python3.5/site-packages/ipykernel_launcher.py:1: SettingWithCopyWarning: \n",
      "A value is trying to be set on a copy of a slice from a DataFrame.\n",
      "Try using .loc[row_indexer,col_indexer] = value instead\n",
      "\n",
      "See the caveats in the documentation: http://pandas.pydata.org/pandas-docs/stable/indexing.html#indexing-view-versus-copy\n",
      "  \"\"\"Entry point for launching an IPython kernel.\n"
     ]
    }
   ],
   "source": [
    "df_train['dif_pred'] = abs(df_train['pesobalanca'] - df_train['preds'])"
   ]
  },
  {
   "cell_type": "code",
   "execution_count": 27,
   "metadata": {
    "ExecuteTime": {
     "end_time": "2020-04-05T11:27:44.589046Z",
     "start_time": "2020-04-05T11:27:44.543714Z"
    }
   },
   "outputs": [
    {
     "data": {
      "text/html": [
       "<div>\n",
       "<style scoped>\n",
       "    .dataframe tbody tr th:only-of-type {\n",
       "        vertical-align: middle;\n",
       "    }\n",
       "\n",
       "    .dataframe tbody tr th {\n",
       "        vertical-align: top;\n",
       "    }\n",
       "\n",
       "    .dataframe thead th {\n",
       "        text-align: right;\n",
       "    }\n",
       "</style>\n",
       "<table border=\"1\" class=\"dataframe\">\n",
       "  <thead>\n",
       "    <tr style=\"text-align: right;\">\n",
       "      <th></th>\n",
       "      <th>pesobalanca</th>\n",
       "      <th>pesodeclarado</th>\n",
       "      <th>dif</th>\n",
       "      <th>preds</th>\n",
       "      <th>dif_pred</th>\n",
       "      <th>pesoscaled</th>\n",
       "    </tr>\n",
       "  </thead>\n",
       "  <tbody>\n",
       "    <tr>\n",
       "      <th>count</th>\n",
       "      <td>5359.000000</td>\n",
       "      <td>5359.000000</td>\n",
       "      <td>5359.000000</td>\n",
       "      <td>5359.000000</td>\n",
       "      <td>5359.000000</td>\n",
       "      <td>5359.000000</td>\n",
       "    </tr>\n",
       "    <tr>\n",
       "      <th>mean</th>\n",
       "      <td>18177.574361</td>\n",
       "      <td>18212.102258</td>\n",
       "      <td>212.920508</td>\n",
       "      <td>18225.839844</td>\n",
       "      <td>1918.167514</td>\n",
       "      <td>-0.003624</td>\n",
       "    </tr>\n",
       "    <tr>\n",
       "      <th>std</th>\n",
       "      <td>7562.417137</td>\n",
       "      <td>7547.445642</td>\n",
       "      <td>204.866791</td>\n",
       "      <td>6735.773438</td>\n",
       "      <td>1669.910334</td>\n",
       "      <td>1.000457</td>\n",
       "    </tr>\n",
       "    <tr>\n",
       "      <th>min</th>\n",
       "      <td>2370.000000</td>\n",
       "      <td>2211.000000</td>\n",
       "      <td>0.000000</td>\n",
       "      <td>3894.776123</td>\n",
       "      <td>0.287109</td>\n",
       "      <td>-2.094860</td>\n",
       "    </tr>\n",
       "    <tr>\n",
       "      <th>25%</th>\n",
       "      <td>11170.000000</td>\n",
       "      <td>11247.000000</td>\n",
       "      <td>62.000000</td>\n",
       "      <td>11505.944824</td>\n",
       "      <td>585.954102</td>\n",
       "      <td>-0.930679</td>\n",
       "    </tr>\n",
       "    <tr>\n",
       "      <th>50%</th>\n",
       "      <td>19690.000000</td>\n",
       "      <td>19790.000000</td>\n",
       "      <td>140.000000</td>\n",
       "      <td>19992.458984</td>\n",
       "      <td>1420.400391</td>\n",
       "      <td>0.196460</td>\n",
       "    </tr>\n",
       "    <tr>\n",
       "      <th>75%</th>\n",
       "      <td>24165.000000</td>\n",
       "      <td>24158.000000</td>\n",
       "      <td>307.000000</td>\n",
       "      <td>23862.916016</td>\n",
       "      <td>2987.787109</td>\n",
       "      <td>0.788472</td>\n",
       "    </tr>\n",
       "    <tr>\n",
       "      <th>max</th>\n",
       "      <td>29980.000000</td>\n",
       "      <td>30291.000000</td>\n",
       "      <td>999.000000</td>\n",
       "      <td>30525.386719</td>\n",
       "      <td>12810.359375</td>\n",
       "      <td>1.557758</td>\n",
       "    </tr>\n",
       "  </tbody>\n",
       "</table>\n",
       "</div>"
      ],
      "text/plain": [
       "        pesobalanca  pesodeclarado          dif         preds      dif_pred  \\\n",
       "count   5359.000000    5359.000000  5359.000000   5359.000000   5359.000000   \n",
       "mean   18177.574361   18212.102258   212.920508  18225.839844   1918.167514   \n",
       "std     7562.417137    7547.445642   204.866791   6735.773438   1669.910334   \n",
       "min     2370.000000    2211.000000     0.000000   3894.776123      0.287109   \n",
       "25%    11170.000000   11247.000000    62.000000  11505.944824    585.954102   \n",
       "50%    19690.000000   19790.000000   140.000000  19992.458984   1420.400391   \n",
       "75%    24165.000000   24158.000000   307.000000  23862.916016   2987.787109   \n",
       "max    29980.000000   30291.000000   999.000000  30525.386719  12810.359375   \n",
       "\n",
       "        pesoscaled  \n",
       "count  5359.000000  \n",
       "mean     -0.003624  \n",
       "std       1.000457  \n",
       "min      -2.094860  \n",
       "25%      -0.930679  \n",
       "50%       0.196460  \n",
       "75%       0.788472  \n",
       "max       1.557758  "
      ]
     },
     "execution_count": 27,
     "metadata": {},
     "output_type": "execute_result"
    }
   ],
   "source": [
    "df_train.describe()"
   ]
  },
  {
   "cell_type": "code",
   "execution_count": 28,
   "metadata": {
    "ExecuteTime": {
     "end_time": "2020-04-05T11:27:44.598343Z",
     "start_time": "2020-04-05T11:27:44.591898Z"
    }
   },
   "outputs": [
    {
     "data": {
      "text/plain": [
       "array([2118, 1173,  736,  665,  667])"
      ]
     },
     "execution_count": 28,
     "metadata": {},
     "output_type": "execute_result"
    }
   ],
   "source": [
    "np.bincount(pd.np.digitize(df_train['dif_pred'], bins = [1000, 2000, 3000, 4000]))"
   ]
  },
  {
   "cell_type": "code",
   "execution_count": 37,
   "metadata": {
    "ExecuteTime": {
     "end_time": "2020-04-05T11:35:22.171147Z",
     "start_time": "2020-04-05T11:35:21.731964Z"
    }
   },
   "outputs": [
    {
     "data": {
      "text/plain": [
       "[<matplotlib.lines.Line2D at 0x7f9bf403add8>]"
      ]
     },
     "execution_count": 37,
     "metadata": {},
     "output_type": "execute_result"
    },
    {
     "data": {
      "image/png": "[encoded data removed]",
      "text/plain": [
       "<Figure size 720x432 with 1 Axes>"
      ]
     },
     "metadata": {
      "needs_background": "light"
     },
     "output_type": "display_data"
    }
   ],
   "source": [
    "plt.figure(figsize=(10,6))\n",
    "df_sorted = df_train.sort_values(by='pesobalanca')\n",
    "x = range(len(df_sorted))\n",
    "plt.scatter(x=x, y=list(df_sorted.preds))\n",
    "plt.plot(list(df_sorted.pesobalanca), color='r')\n"
   ]
  },
  {
   "cell_type": "code",
   "execution_count": 38,
   "metadata": {
    "ExecuteTime": {
     "end_time": "2020-04-05T11:35:30.499320Z",
     "start_time": "2020-04-05T11:35:29.923195Z"
    }
   },
   "outputs": [
    {
     "data": {
      "text/plain": [
       "<matplotlib.collections.PathCollection at 0x7f9d31c20978>"
      ]
     },
     "execution_count": 38,
     "metadata": {},
     "output_type": "execute_result"
    },
    {
     "data": {
      "image/png": "[encoded data removed]",
      "text/plain": [
       "<Figure size 720x432 with 1 Axes>"
      ]
     },
     "metadata": {
      "needs_background": "light"
     },
     "output_type": "display_data"
    }
   ],
   "source": [
    "plt.figure(figsize=(10,6))\n",
    "plt.scatter(x=list(df_sorted.pesobalanca), y=list(df_sorted.preds))\n",
    "plt.scatter(x=list(df_sorted.pesobalanca), y=list(df_sorted.pesobalanca), color='r')"
   ]
  },
  {
   "cell_type": "code",
   "execution_count": 39,
   "metadata": {
    "ExecuteTime": {
     "end_time": "2020-04-05T11:37:08.099386Z",
     "start_time": "2020-04-05T11:37:07.754675Z"
    }
   },
   "outputs": [
    {
     "data": {
      "text/plain": [
       "[<matplotlib.lines.Line2D at 0x7f9bed7a1128>]"
      ]
     },
     "execution_count": 39,
     "metadata": {},
     "output_type": "execute_result"
    },
    {
     "data": {
      "image/png": "[encoded data removed]",
      "text/plain": [
       "<Figure size 720x432 with 1 Axes>"
      ]
     },
     "metadata": {
      "needs_background": "light"
     },
     "output_type": "display_data"
    }
   ],
   "source": [
    "plt.figure(figsize=(10,6))\n",
    "df_sorted = df_val.sort_values(by='pesobalanca')\n",
    "x = range(len(df_sorted))\n",
    "plt.scatter(x=x, y=list(df_sorted.preds))\n",
    "plt.plot(list(df_sorted.pesobalanca), color='r')"
   ]
  },
  {
   "cell_type": "code",
   "execution_count": 40,
   "metadata": {
    "ExecuteTime": {
     "end_time": "2020-04-05T11:37:18.099631Z",
     "start_time": "2020-04-05T11:37:17.661735Z"
    }
   },
   "outputs": [
    {
     "data": {
      "text/plain": [
       "<matplotlib.collections.PathCollection at 0x7f9bece9f6a0>"
      ]
     },
     "execution_count": 40,
     "metadata": {},
     "output_type": "execute_result"
    },
    {
     "data": {
      "image/png": "[encoded data removed]",
      "text/plain": [
       "<Figure size 720x432 with 1 Axes>"
      ]
     },
     "metadata": {
      "needs_background": "light"
     },
     "output_type": "display_data"
    }
   ],
   "source": [
    "plt.figure(figsize=(10,6))\n",
    "plt.scatter(x=list(df_sorted.pesobalanca), y=list(df_sorted.preds))\n",
    "plt.scatter(x=list(df_sorted.pesobalanca), y=list(df_sorted.pesobalanca), color='r')"
   ]
  },
  {
   "cell_type": "code",
   "execution_count": null,
   "metadata": {},
   "outputs": [],
   "source": []
  }
 ],
 "metadata": {
  "kernelspec": {
   "display_name": "venv_gym2",
   "language": "python",
   "name": "venv_gym2"
  },
  "language_info": {
   "codemirror_mode": {
    "name": "ipython",
    "version": 3
   },
   "file_extension": ".py",
   "mimetype": "text/x-python",
   "name": "python",
   "nbconvert_exporter": "python",
   "pygments_lexer": "ipython3",
   "version": "3.5.2"
  }
 },
 "nbformat": 4,
 "nbformat_minor": 2
}
