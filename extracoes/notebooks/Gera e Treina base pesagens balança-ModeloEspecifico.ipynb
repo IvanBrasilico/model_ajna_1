{
 "cells": [
  {
   "cell_type": "code",
   "execution_count": 1,
   "metadata": {
    "ExecuteTime": {
     "end_time": "2020-04-03T11:06:43.678542Z",
     "start_time": "2020-04-03T11:06:42.926226Z"
    }
   },
   "outputs": [],
   "source": [
    "import os\n",
    "import shutil\n",
    "import sys\n",
    "import time\n",
    "from PIL import Image\n",
    "from datetime import date, datetime, timedelta\n",
    "\n",
    "\n",
    "sys.path.insert(0, '..')\n",
    "from utils import mongodb"
   ]
  },
  {
   "cell_type": "code",
   "execution_count": 2,
   "metadata": {
    "ExecuteTime": {
     "end_time": "2020-04-03T11:06:43.836150Z",
     "start_time": "2020-04-03T11:06:43.768183Z"
    }
   },
   "outputs": [],
   "source": [
    "from pesagensbalanca import cursor_pesagensbalanca, extract_to"
   ]
  },
  {
   "cell_type": "markdown",
   "metadata": {
    "heading_collapsed": true
   },
   "source": [
    "# Gera base de dados de pesagens\n",
    "Necessário acesso ao Banco de Dados ou ao Servidor"
   ]
  },
  {
   "cell_type": "code",
   "execution_count": 3,
   "metadata": {
    "ExecuteTime": {
     "end_time": "2020-04-03T11:06:44.685728Z",
     "start_time": "2020-04-03T11:06:44.682987Z"
    },
    "hidden": true
   },
   "outputs": [],
   "source": [
    "start = datetime(2020, 3, 1)\n",
    "end = datetime.today()\n",
    "limit = 10\n",
    "s0 = time.time()\n",
    "# cursor = cursor_pesagensbalanca(mongodb, start, end, limit, crop=True)\n",
    "# count = extract_to(cursor, crop=True)\n",
    "s1 = time.time()\n",
    "# print('{:0.2f} segundos para processar {:d} registros'.format((s1 - s0), count))\n"
   ]
  },
  {
   "cell_type": "markdown",
   "metadata": {
    "heading_collapsed": true
   },
   "source": [
    "# Carregar e montar modelo"
   ]
  },
  {
   "cell_type": "code",
   "execution_count": 4,
   "metadata": {
    "ExecuteTime": {
     "end_time": "2020-04-03T11:06:55.607938Z",
     "start_time": "2020-04-03T11:06:45.736945Z"
    },
    "hidden": true
   },
   "outputs": [],
   "source": [
    "import pandas as pd\n",
    "import numpy as np\n",
    "\n",
    "from tensorflow.keras import layers\n",
    "from tensorflow.keras import models\n",
    "from tensorflow.keras import optimizers\n",
    "from tensorflow.keras.preprocessing.image import ImageDataGenerator\n",
    "from tensorflow.keras.callbacks import ReduceLROnPlateau\n",
    "\n"
   ]
  },
  {
   "cell_type": "code",
   "execution_count": 5,
   "metadata": {
    "ExecuteTime": {
     "end_time": "2020-04-03T11:07:01.157802Z",
     "start_time": "2020-04-03T11:06:55.613132Z"
    },
    "hidden": true
   },
   "outputs": [
    {
     "name": "stdout",
     "output_type": "stream",
     "text": [
      "Model: \"sequential\"\n",
      "_________________________________________________________________\n",
      "Layer (type)                 Output Shape              Param #   \n",
      "=================================================================\n",
      "conv2d (Conv2D)              (None, 72, 144, 16)       2368      \n",
      "_________________________________________________________________\n",
      "max_pooling2d (MaxPooling2D) (None, 36, 36, 16)        0         \n",
      "_________________________________________________________________\n",
      "dropout (Dropout)            (None, 36, 36, 16)        0         \n",
      "_________________________________________________________________\n",
      "conv2d_1 (Conv2D)            (None, 18, 18, 16)        6416      \n",
      "_________________________________________________________________\n",
      "dropout_1 (Dropout)          (None, 18, 18, 16)        0         \n",
      "_________________________________________________________________\n",
      "conv2d_2 (Conv2D)            (None, 7, 7, 16)          6416      \n",
      "_________________________________________________________________\n",
      "dropout_2 (Dropout)          (None, 7, 7, 16)          0         \n",
      "_________________________________________________________________\n",
      "average_pooling2d (AveragePo (None, 3, 3, 16)          0         \n",
      "_________________________________________________________________\n",
      "flatten (Flatten)            (None, 144)               0         \n",
      "_________________________________________________________________\n",
      "dense (Dense)                (None, 512)               74240     \n",
      "_________________________________________________________________\n",
      "dense_1 (Dense)              (None, 256)               131328    \n",
      "_________________________________________________________________\n",
      "dropout_3 (Dropout)          (None, 256)               0         \n",
      "_________________________________________________________________\n",
      "dense_2 (Dense)              (None, 1)                 257       \n",
      "=================================================================\n",
      "Total params: 221,025\n",
      "Trainable params: 221,025\n",
      "Non-trainable params: 0\n",
      "_________________________________________________________________\n"
     ]
    }
   ],
   "source": [
    "regression_model = models.Sequential([\n",
    "  layers.Conv2D(16, (7, 7), activation='relu',\n",
    "                padding='same',\n",
    "                strides=(2, 2),\n",
    "                input_shape=(144, 288, 3)),\n",
    "  layers.MaxPooling2D(pool_size=(2, 4)),\n",
    "  layers.Dropout(0.25),\n",
    "  layers.Conv2D(16, (5, 5), \n",
    "                strides=(2, 2),\n",
    "                activation='relu', padding='same'),\n",
    "  layers.Dropout(0.25),\n",
    "  layers.Conv2D(16, (5, 5), \n",
    "                strides=(2, 2),\n",
    "                activation='relu'),\n",
    "  layers.Dropout(0.25),\n",
    "  layers.AvgPool2D(),\n",
    "  layers.Flatten(),\n",
    "  layers.Dense(512, activation='relu'),\n",
    "  layers.Dense(256, activation='relu'),\n",
    "  layers.Dropout(0.4),\n",
    "  layers.Dense(1)\n",
    " \n",
    "])\n",
    "regression_model.summary()\n"
   ]
  },
  {
   "cell_type": "code",
   "execution_count": 6,
   "metadata": {
    "ExecuteTime": {
     "end_time": "2020-04-03T11:07:01.164223Z",
     "start_time": "2020-04-03T11:07:01.159978Z"
    },
    "hidden": true
   },
   "outputs": [
    {
     "name": "stdout",
     "output_type": "stream",
     "text": [
      "<tensorflow.python.keras.layers.convolutional.Conv2D object at 0x7f9329d44d68> True\n",
      "<tensorflow.python.keras.layers.pooling.MaxPooling2D object at 0x7f9329ccf390> True\n",
      "<tensorflow.python.keras.layers.core.Dropout object at 0x7f9329ccf588> True\n",
      "<tensorflow.python.keras.layers.convolutional.Conv2D object at 0x7f9329ccf6d8> True\n",
      "<tensorflow.python.keras.layers.core.Dropout object at 0x7f9329ccfb38> True\n",
      "<tensorflow.python.keras.layers.convolutional.Conv2D object at 0x7f9329ccfc50> True\n",
      "<tensorflow.python.keras.layers.core.Dropout object at 0x7f9329cdf0f0> True\n",
      "<tensorflow.python.keras.layers.pooling.AveragePooling2D object at 0x7f9329cdf208> True\n",
      "<tensorflow.python.keras.layers.core.Flatten object at 0x7f9329cdf400> True\n",
      "<tensorflow.python.keras.layers.core.Dense object at 0x7f9329cdf550> True\n",
      "<tensorflow.python.keras.layers.core.Dense object at 0x7f9329cdf860> True\n",
      "<tensorflow.python.keras.layers.core.Dropout object at 0x7f9329cdfb70> True\n",
      "<tensorflow.python.keras.layers.core.Dense object at 0x7f9329cdfc88> True\n"
     ]
    }
   ],
   "source": [
    "for layer in regression_model.layers:\n",
    "    print(layer, layer.trainable)\n"
   ]
  },
  {
   "cell_type": "markdown",
   "metadata": {
    "heading_collapsed": true
   },
   "source": [
    "# Carregar e montar dados para treinamento"
   ]
  },
  {
   "cell_type": "code",
   "execution_count": 7,
   "metadata": {
    "ExecuteTime": {
     "end_time": "2020-04-03T11:07:01.292200Z",
     "start_time": "2020-04-03T11:07:01.167070Z"
    },
    "hidden": true
   },
   "outputs": [
    {
     "data": {
      "text/html": [
       "<div>\n",
       "<style scoped>\n",
       "    .dataframe tbody tr th:only-of-type {\n",
       "        vertical-align: middle;\n",
       "    }\n",
       "\n",
       "    .dataframe tbody tr th {\n",
       "        vertical-align: top;\n",
       "    }\n",
       "\n",
       "    .dataframe thead th {\n",
       "        text-align: right;\n",
       "    }\n",
       "</style>\n",
       "<table border=\"1\" class=\"dataframe\">\n",
       "  <thead>\n",
       "    <tr style=\"text-align: right;\">\n",
       "      <th></th>\n",
       "      <th>id</th>\n",
       "      <th>pesobalanca</th>\n",
       "      <th>pesodeclarado</th>\n",
       "      <th>dif</th>\n",
       "      <th>filename</th>\n",
       "    </tr>\n",
       "  </thead>\n",
       "  <tbody>\n",
       "    <tr>\n",
       "      <th>0</th>\n",
       "      <td>5e5d096a3d0ec8337863f799</td>\n",
       "      <td>7170</td>\n",
       "      <td>7167</td>\n",
       "      <td>3</td>\n",
       "      <td>5e5d096a3d0ec8337863f799.jpg</td>\n",
       "    </tr>\n",
       "    <tr>\n",
       "      <th>1</th>\n",
       "      <td>5e5d09703d0ec8337863f9ee</td>\n",
       "      <td>29190</td>\n",
       "      <td>29149</td>\n",
       "      <td>41</td>\n",
       "      <td>5e5d09703d0ec8337863f9ee.jpg</td>\n",
       "    </tr>\n",
       "    <tr>\n",
       "      <th>2</th>\n",
       "      <td>5e5d09703d0ec8337863f9f2</td>\n",
       "      <td>6380</td>\n",
       "      <td>6348</td>\n",
       "      <td>32</td>\n",
       "      <td>5e5d09703d0ec8337863f9f2.jpg</td>\n",
       "    </tr>\n",
       "    <tr>\n",
       "      <th>3</th>\n",
       "      <td>5e5d099986556b3036c6dc6d</td>\n",
       "      <td>7610</td>\n",
       "      <td>7788</td>\n",
       "      <td>178</td>\n",
       "      <td>5e5d099986556b3036c6dc6d.jpg</td>\n",
       "    </tr>\n",
       "    <tr>\n",
       "      <th>4</th>\n",
       "      <td>5e5d094386556b3036c6dc5c</td>\n",
       "      <td>22280</td>\n",
       "      <td>22300</td>\n",
       "      <td>20</td>\n",
       "      <td>5e5d094386556b3036c6dc5c.jpg</td>\n",
       "    </tr>\n",
       "  </tbody>\n",
       "</table>\n",
       "</div>"
      ],
      "text/plain": [
       "                         id  pesobalanca  pesodeclarado  dif  \\\n",
       "0  5e5d096a3d0ec8337863f799         7170           7167    3   \n",
       "1  5e5d09703d0ec8337863f9ee        29190          29149   41   \n",
       "2  5e5d09703d0ec8337863f9f2         6380           6348   32   \n",
       "3  5e5d099986556b3036c6dc6d         7610           7788  178   \n",
       "4  5e5d094386556b3036c6dc5c        22280          22300   20   \n",
       "\n",
       "                       filename  \n",
       "0  5e5d096a3d0ec8337863f799.jpg  \n",
       "1  5e5d09703d0ec8337863f9ee.jpg  \n",
       "2  5e5d09703d0ec8337863f9f2.jpg  \n",
       "3  5e5d099986556b3036c6dc6d.jpg  \n",
       "4  5e5d094386556b3036c6dc5c.jpg  "
      ]
     },
     "execution_count": 7,
     "metadata": {},
     "output_type": "execute_result"
    }
   ],
   "source": [
    "df = pd.read_csv('../../bases/pesagensbalanca/pesos.txt')\n",
    "df['dif'] = abs(df['pesobalanca'] - df['pesodeclarado'])\n",
    "df['filename'] = df['id'].map('{}.jpg'.format)\n",
    "df.head()"
   ]
  },
  {
   "cell_type": "code",
   "execution_count": 8,
   "metadata": {
    "ExecuteTime": {
     "end_time": "2020-04-03T11:07:01.355621Z",
     "start_time": "2020-04-03T11:07:01.293494Z"
    },
    "hidden": true
   },
   "outputs": [
    {
     "data": {
      "text/html": [
       "<div>\n",
       "<style scoped>\n",
       "    .dataframe tbody tr th:only-of-type {\n",
       "        vertical-align: middle;\n",
       "    }\n",
       "\n",
       "    .dataframe tbody tr th {\n",
       "        vertical-align: top;\n",
       "    }\n",
       "\n",
       "    .dataframe thead th {\n",
       "        text-align: right;\n",
       "    }\n",
       "</style>\n",
       "<table border=\"1\" class=\"dataframe\">\n",
       "  <thead>\n",
       "    <tr style=\"text-align: right;\">\n",
       "      <th></th>\n",
       "      <th>pesobalanca</th>\n",
       "      <th>pesodeclarado</th>\n",
       "      <th>dif</th>\n",
       "    </tr>\n",
       "  </thead>\n",
       "  <tbody>\n",
       "    <tr>\n",
       "      <th>count</th>\n",
       "      <td>9317.000000</td>\n",
       "      <td>9317.000000</td>\n",
       "      <td>9317.000000</td>\n",
       "    </tr>\n",
       "    <tr>\n",
       "      <th>mean</th>\n",
       "      <td>18572.832027</td>\n",
       "      <td>18807.056349</td>\n",
       "      <td>1162.008801</td>\n",
       "    </tr>\n",
       "    <tr>\n",
       "      <th>std</th>\n",
       "      <td>8261.590188</td>\n",
       "      <td>8106.655375</td>\n",
       "      <td>3793.829146</td>\n",
       "    </tr>\n",
       "    <tr>\n",
       "      <th>min</th>\n",
       "      <td>0.000000</td>\n",
       "      <td>2070.000000</td>\n",
       "      <td>0.000000</td>\n",
       "    </tr>\n",
       "    <tr>\n",
       "      <th>25%</th>\n",
       "      <td>11300.000000</td>\n",
       "      <td>11453.000000</td>\n",
       "      <td>72.000000</td>\n",
       "    </tr>\n",
       "    <tr>\n",
       "      <th>50%</th>\n",
       "      <td>19600.000000</td>\n",
       "      <td>19960.000000</td>\n",
       "      <td>175.000000</td>\n",
       "    </tr>\n",
       "    <tr>\n",
       "      <th>75%</th>\n",
       "      <td>25270.000000</td>\n",
       "      <td>25575.000000</td>\n",
       "      <td>446.000000</td>\n",
       "    </tr>\n",
       "    <tr>\n",
       "      <th>max</th>\n",
       "      <td>113350.000000</td>\n",
       "      <td>41388.000000</td>\n",
       "      <td>94730.000000</td>\n",
       "    </tr>\n",
       "  </tbody>\n",
       "</table>\n",
       "</div>"
      ],
      "text/plain": [
       "         pesobalanca  pesodeclarado           dif\n",
       "count    9317.000000    9317.000000   9317.000000\n",
       "mean    18572.832027   18807.056349   1162.008801\n",
       "std      8261.590188    8106.655375   3793.829146\n",
       "min         0.000000    2070.000000      0.000000\n",
       "25%     11300.000000   11453.000000     72.000000\n",
       "50%     19600.000000   19960.000000    175.000000\n",
       "75%     25270.000000   25575.000000    446.000000\n",
       "max    113350.000000   41388.000000  94730.000000"
      ]
     },
     "execution_count": 8,
     "metadata": {},
     "output_type": "execute_result"
    }
   ],
   "source": [
    "df.describe()"
   ]
  },
  {
   "cell_type": "code",
   "execution_count": 9,
   "metadata": {
    "ExecuteTime": {
     "end_time": "2020-04-03T11:07:06.609035Z",
     "start_time": "2020-04-03T11:07:06.587982Z"
    },
    "hidden": true
   },
   "outputs": [
    {
     "data": {
      "text/plain": [
       "8734"
      ]
     },
     "execution_count": 9,
     "metadata": {},
     "output_type": "execute_result"
    }
   ],
   "source": [
    "df[df['dif'] < 4000]['dif'].count() # Pegar somente os pesos que batem declarado x balança"
   ]
  },
  {
   "cell_type": "code",
   "execution_count": 10,
   "metadata": {
    "ExecuteTime": {
     "end_time": "2020-04-03T11:07:07.112496Z",
     "start_time": "2020-04-03T11:07:07.096855Z"
    },
    "hidden": true
   },
   "outputs": [
    {
     "data": {
      "text/plain": [
       "8104"
      ]
     },
     "execution_count": 10,
     "metadata": {},
     "output_type": "execute_result"
    }
   ],
   "source": [
    "df[df['dif'] < 1000]['dif'].count() # Pegar somente os pesos que batem declarado x balança"
   ]
  },
  {
   "cell_type": "code",
   "execution_count": 11,
   "metadata": {
    "ExecuteTime": {
     "end_time": "2020-04-03T11:07:07.957917Z",
     "start_time": "2020-04-03T11:07:07.952326Z"
    },
    "hidden": true
   },
   "outputs": [],
   "source": [
    "df_filtered = df[df['dif'] < 1000]\n",
    "splitmask = np.random.rand(len(df_filtered)) < 0.9\n",
    "df_train = df_filtered[splitmask]\n",
    "df_val = df_filtered[~splitmask]"
   ]
  },
  {
   "cell_type": "code",
   "execution_count": 16,
   "metadata": {
    "ExecuteTime": {
     "end_time": "2020-04-03T11:08:36.962533Z",
     "start_time": "2020-04-03T11:08:36.913863Z"
    },
    "hidden": true
   },
   "outputs": [
    {
     "name": "stdout",
     "output_type": "stream",
     "text": [
      "Found 7283 validated image filenames.\n",
      "Found 821 validated image filenames.\n"
     ]
    }
   ],
   "source": [
    "train_datagen = ImageDataGenerator(\n",
    "    rescale=1./255,\n",
    "    horizontal_flip=True,\n",
    ")\n",
    "\n",
    "train_generator = train_datagen.flow_from_dataframe(\n",
    "    dataframe=df_train,\n",
    "    directory='../../bases/pesagensbalanca/pesagensbalanca_cropped',\n",
    "    target_size=(144, 288),\n",
    "    batch_size=64,\n",
    "    x_col='filename',\n",
    "    y_col=\"pesobalanca\",\n",
    "    shuffle=False,\n",
    "    class_mode='raw',\n",
    ")\n",
    "\n",
    "val_generator = train_datagen.flow_from_dataframe(\n",
    "    dataframe=df_val,\n",
    "    directory='../../bases/pesagensbalanca/pesagensbalanca_cropped',\n",
    "    target_size=(144, 288),\n",
    "    batch_size=64,\n",
    "    x_col='filename',\n",
    "    y_col=\"pesobalanca\",\n",
    "    shuffle=False,\n",
    "    class_mode='raw',\n",
    ")"
   ]
  },
  {
   "cell_type": "markdown",
   "metadata": {
    "heading_collapsed": true
   },
   "source": [
    "# Treinar modelo"
   ]
  },
  {
   "cell_type": "code",
   "execution_count": 17,
   "metadata": {
    "ExecuteTime": {
     "end_time": "2020-04-03T11:08:37.891333Z",
     "start_time": "2020-04-03T11:08:37.837848Z"
    },
    "hidden": true
   },
   "outputs": [],
   "source": [
    "regression_model.compile(optimizer=optimizers.Adam(lr=0.002),\n",
    "                         loss='mean_absolute_error', metrics=['mse', 'mae'])\n",
    "reduce_lr = ReduceLROnPlateau(monitor='val_loss', factor=0.2, patience=3,\n",
    "                          verbose=1, mode='min')"
   ]
  },
  {
   "cell_type": "code",
   "execution_count": 19,
   "metadata": {
    "ExecuteTime": {
     "end_time": "2020-04-03T12:11:04.353174Z",
     "start_time": "2020-04-03T11:12:31.960435Z"
    },
    "hidden": true
   },
   "outputs": [
    {
     "name": "stdout",
     "output_type": "stream",
     "text": [
      "Train for 114 steps, validate for 12 steps\n",
      "Epoch 1/50\n",
      "114/114 [==============================] - 71s 627ms/step - loss: 5314.6001 - mse: 48031548.0000 - mae: 5314.4102 - val_loss: 4885.2448 - val_mse: 43807472.0000 - val_mae: 4885.2446\n",
      "Epoch 2/50\n",
      "114/114 [==============================] - 74s 651ms/step - loss: 4966.2870 - mse: 42782924.0000 - mae: 4966.9834 - val_loss: 4612.6586 - val_mse: 37174208.0000 - val_mae: 4612.6582\n",
      "Epoch 3/50\n",
      "114/114 [==============================] - 69s 602ms/step - loss: 4795.7575 - mse: 38960172.0000 - mae: 4795.6753 - val_loss: 4382.1956 - val_mse: 32754432.0000 - val_mae: 4382.1958\n",
      "Epoch 4/50\n",
      "114/114 [==============================] - 71s 625ms/step - loss: 4483.6089 - mse: 34356420.0000 - mae: 4483.6729 - val_loss: 4176.7559 - val_mse: 30156878.0000 - val_mae: 4176.7563\n",
      "Epoch 5/50\n",
      "114/114 [==============================] - 72s 634ms/step - loss: 4349.6299 - mse: 32278584.0000 - mae: 4349.6362 - val_loss: 4097.2538 - val_mse: 29485046.0000 - val_mae: 4097.2534\n",
      "Epoch 6/50\n",
      "114/114 [==============================] - 68s 593ms/step - loss: 4171.7556 - mse: 30273452.0000 - mae: 4171.9502 - val_loss: 4079.2136 - val_mse: 28160744.0000 - val_mae: 4079.2139\n",
      "Epoch 7/50\n",
      "114/114 [==============================] - 67s 584ms/step - loss: 4143.5970 - mse: 29671116.0000 - mae: 4143.8691 - val_loss: 3915.6775 - val_mse: 27750878.0000 - val_mae: 3915.6777\n",
      "Epoch 8/50\n",
      "114/114 [==============================] - 67s 589ms/step - loss: 4119.6332 - mse: 29385132.0000 - mae: 4118.4497 - val_loss: 4111.2567 - val_mse: 28492058.0000 - val_mae: 4111.2573\n",
      "Epoch 9/50\n",
      "114/114 [==============================] - 68s 595ms/step - loss: 4065.6018 - mse: 28591086.0000 - mae: 4065.3003 - val_loss: 4052.1700 - val_mse: 27395630.0000 - val_mae: 4052.1702\n",
      "Epoch 10/50\n",
      "113/114 [============================>.] - ETA: 0s - loss: 3995.8227 - mse: 28002170.0000 - mae: 3995.8232\n",
      "Epoch 00010: ReduceLROnPlateau reducing learning rate to 0.0004000000189989805.\n",
      "114/114 [==============================] - 89s 778ms/step - loss: 3992.8487 - mse: 27967144.0000 - mae: 3993.4451 - val_loss: 4013.7705 - val_mse: 26270314.0000 - val_mae: 4013.7705\n",
      "Epoch 11/50\n",
      "114/114 [==============================] - 74s 653ms/step - loss: 4002.0978 - mse: 27920092.0000 - mae: 4001.0488 - val_loss: 3820.4177 - val_mse: 25447654.0000 - val_mae: 3820.4177\n",
      "Epoch 12/50\n",
      "114/114 [==============================] - 69s 605ms/step - loss: 3874.9480 - mse: 26201912.0000 - mae: 3874.8030 - val_loss: 3743.4110 - val_mse: 25167222.0000 - val_mae: 3743.4109\n",
      "Epoch 13/50\n",
      "114/114 [==============================] - 68s 596ms/step - loss: 3856.3142 - mse: 26031096.0000 - mae: 3856.0925 - val_loss: 3734.0760 - val_mse: 24848514.0000 - val_mae: 3734.0762\n",
      "Epoch 14/50\n",
      "114/114 [==============================] - 72s 635ms/step - loss: 3877.0121 - mse: 26362440.0000 - mae: 3876.5935 - val_loss: 3754.7072 - val_mse: 26197526.0000 - val_mae: 3754.7078\n",
      "Epoch 15/50\n",
      "114/114 [==============================] - 69s 602ms/step - loss: 3844.3303 - mse: 26162972.0000 - mae: 3843.9666 - val_loss: 3688.9604 - val_mse: 24670330.0000 - val_mae: 3688.9602\n",
      "Epoch 16/50\n",
      "114/114 [==============================] - 69s 605ms/step - loss: 3838.5314 - mse: 25695856.0000 - mae: 3838.3120 - val_loss: 3697.7995 - val_mse: 24992686.0000 - val_mae: 3697.7991\n",
      "Epoch 17/50\n",
      "114/114 [==============================] - 68s 598ms/step - loss: 3852.3691 - mse: 26099862.0000 - mae: 3851.6992 - val_loss: 3691.2604 - val_mse: 24862306.0000 - val_mae: 3691.2605\n",
      "Epoch 18/50\n",
      "114/114 [==============================] - 70s 615ms/step - loss: 3796.8023 - mse: 25578058.0000 - mae: 3797.2427 - val_loss: 3684.4903 - val_mse: 25182034.0000 - val_mae: 3684.4902\n",
      "Epoch 19/50\n",
      "114/114 [==============================] - 67s 589ms/step - loss: 3784.6306 - mse: 25052518.0000 - mae: 3784.3677 - val_loss: 3690.3902 - val_mse: 25556064.0000 - val_mae: 3690.3904\n",
      "Epoch 20/50\n",
      "114/114 [==============================] - 67s 584ms/step - loss: 3784.7570 - mse: 25411032.0000 - mae: 3784.7947 - val_loss: 3654.8923 - val_mse: 24458816.0000 - val_mae: 3654.8923\n",
      "Epoch 21/50\n",
      "114/114 [==============================] - 66s 583ms/step - loss: 3795.9406 - mse: 25342318.0000 - mae: 3796.5369 - val_loss: 3682.5135 - val_mse: 24395448.0000 - val_mae: 3682.5137\n",
      "Epoch 22/50\n",
      "114/114 [==============================] - 68s 596ms/step - loss: 3792.5491 - mse: 25324530.0000 - mae: 3792.3184 - val_loss: 3699.9223 - val_mse: 24533640.0000 - val_mae: 3699.9226\n",
      "Epoch 23/50\n",
      "114/114 [==============================] - 68s 598ms/step - loss: 3734.2336 - mse: 24788756.0000 - mae: 3734.1873 - val_loss: 3621.1206 - val_mse: 23980486.0000 - val_mae: 3621.1208\n",
      "Epoch 24/50\n",
      "114/114 [==============================] - 67s 585ms/step - loss: 3784.6911 - mse: 25082682.0000 - mae: 3785.0125 - val_loss: 3622.8790 - val_mse: 24458406.0000 - val_mae: 3622.8789\n",
      "Epoch 25/50\n",
      "114/114 [==============================] - 69s 601ms/step - loss: 3738.0109 - mse: 24819050.0000 - mae: 3738.5884 - val_loss: 3620.3448 - val_mse: 23873128.0000 - val_mae: 3620.3447\n",
      "Epoch 26/50\n",
      "114/114 [==============================] - 68s 596ms/step - loss: 3773.9404 - mse: 25125644.0000 - mae: 3773.7449 - val_loss: 3615.7558 - val_mse: 24180728.0000 - val_mae: 3615.7559\n",
      "Epoch 27/50\n",
      "114/114 [==============================] - 75s 661ms/step - loss: 3744.4735 - mse: 24800148.0000 - mae: 3743.8501 - val_loss: 3608.4029 - val_mse: 24044166.0000 - val_mae: 3608.4026\n",
      "Epoch 28/50\n",
      "114/114 [==============================] - 72s 627ms/step - loss: 3779.0892 - mse: 24869618.0000 - mae: 3779.1423 - val_loss: 3604.8966 - val_mse: 23768752.0000 - val_mae: 3604.8965\n",
      "Epoch 29/50\n",
      "114/114 [==============================] - 77s 678ms/step - loss: 3720.2837 - mse: 24493848.0000 - mae: 3720.4180 - val_loss: 3607.4630 - val_mse: 23876706.0000 - val_mae: 3607.4631\n",
      "Epoch 30/50\n",
      "114/114 [==============================] - 68s 600ms/step - loss: 3724.2443 - mse: 24654786.0000 - mae: 3723.9963 - val_loss: 3676.0709 - val_mse: 23612802.0000 - val_mae: 3676.0710\n",
      "Epoch 31/50\n",
      "113/114 [============================>.] - ETA: 0s - loss: 3729.0733 - mse: 24582822.0000 - mae: 3729.0732\n",
      "Epoch 00031: ReduceLROnPlateau reducing learning rate to 8.000000379979611e-05.\n",
      "114/114 [==============================] - 72s 628ms/step - loss: 3730.9445 - mse: 24591754.0000 - mae: 3730.5698 - val_loss: 3614.9419 - val_mse: 23185282.0000 - val_mae: 3614.9417\n",
      "Epoch 32/50\n",
      "114/114 [==============================] - 68s 593ms/step - loss: 3715.8815 - mse: 24573798.0000 - mae: 3715.5618 - val_loss: 3585.7505 - val_mse: 23600112.0000 - val_mae: 3585.7507\n",
      "Epoch 33/50\n",
      "114/114 [==============================] - 69s 603ms/step - loss: 3689.5250 - mse: 24186228.0000 - mae: 3688.9915 - val_loss: 3598.1127 - val_mse: 23540814.0000 - val_mae: 3598.1125\n",
      "Epoch 34/50\n",
      "114/114 [==============================] - 71s 626ms/step - loss: 3689.2770 - mse: 24497608.0000 - mae: 3689.2717 - val_loss: 3588.1810 - val_mse: 23260086.0000 - val_mae: 3588.1814\n",
      "Epoch 35/50\n",
      "114/114 [==============================] - 71s 625ms/step - loss: 3689.4132 - mse: 24301156.0000 - mae: 3689.7737 - val_loss: 3570.0988 - val_mse: 23450928.0000 - val_mae: 3570.0989\n",
      "Epoch 36/50\n",
      "114/114 [==============================] - 72s 632ms/step - loss: 3675.0863 - mse: 23815434.0000 - mae: 3674.8516 - val_loss: 3544.6689 - val_mse: 23306064.0000 - val_mae: 3544.6689\n",
      "Epoch 37/50\n",
      "114/114 [==============================] - 72s 632ms/step - loss: 3687.5952 - mse: 24313590.0000 - mae: 3687.0498 - val_loss: 3574.5686 - val_mse: 23491478.0000 - val_mae: 3574.5691\n",
      "Epoch 38/50\n",
      "114/114 [==============================] - 70s 616ms/step - loss: 3653.3148 - mse: 23709506.0000 - mae: 3653.0476 - val_loss: 3591.6778 - val_mse: 23229166.0000 - val_mae: 3591.6777\n",
      "Epoch 39/50\n",
      "113/114 [============================>.] - ETA: 0s - loss: 3649.6604 - mse: 23998312.0000 - mae: 3649.6604\n",
      "Epoch 00039: ReduceLROnPlateau reducing learning rate to 1.6000001050997525e-05.\n",
      "114/114 [==============================] - 71s 620ms/step - loss: 3652.1487 - mse: 24014630.0000 - mae: 3651.6501 - val_loss: 3545.1946 - val_mse: 23448038.0000 - val_mae: 3545.1946\n",
      "Epoch 40/50\n"
     ]
    },
    {
     "name": "stdout",
     "output_type": "stream",
     "text": [
      "114/114 [==============================] - 69s 608ms/step - loss: 3628.2092 - mse: 24159418.0000 - mae: 3627.4285 - val_loss: 3610.2058 - val_mse: 23325040.0000 - val_mae: 3610.2061\n",
      "Epoch 41/50\n",
      "114/114 [==============================] - 68s 599ms/step - loss: 3642.8277 - mse: 23990684.0000 - mae: 3642.8516 - val_loss: 3590.9073 - val_mse: 23258506.0000 - val_mae: 3590.9075\n",
      "Epoch 42/50\n",
      "114/114 [==============================] - 68s 594ms/step - loss: 3659.0037 - mse: 23798820.0000 - mae: 3658.4138 - val_loss: 3538.6688 - val_mse: 23062282.0000 - val_mae: 3538.6687\n",
      "Epoch 43/50\n",
      "114/114 [==============================] - 68s 595ms/step - loss: 3659.1972 - mse: 24209062.0000 - mae: 3658.8608 - val_loss: 3573.5027 - val_mse: 23232646.0000 - val_mae: 3573.5027\n",
      "Epoch 44/50\n",
      "114/114 [==============================] - 70s 612ms/step - loss: 3678.3464 - mse: 24285356.0000 - mae: 3678.2192 - val_loss: 3552.7615 - val_mse: 23139678.0000 - val_mae: 3552.7617\n",
      "Epoch 45/50\n",
      "113/114 [============================>.] - ETA: 0s - loss: 3628.2633 - mse: 23549134.0000 - mae: 3628.2625\n",
      "Epoch 00045: ReduceLROnPlateau reducing learning rate to 3.2000003557186575e-06.\n",
      "114/114 [==============================] - 70s 615ms/step - loss: 3627.6675 - mse: 23550596.0000 - mae: 3627.7861 - val_loss: 3552.6338 - val_mse: 23173290.0000 - val_mae: 3552.6335\n",
      "Epoch 46/50\n",
      "114/114 [==============================] - 68s 598ms/step - loss: 3637.4623 - mse: 23514006.0000 - mae: 3637.8423 - val_loss: 3573.8794 - val_mse: 23367210.0000 - val_mae: 3573.8796\n",
      "Epoch 47/50\n",
      "114/114 [==============================] - 74s 646ms/step - loss: 3676.8962 - mse: 24430672.0000 - mae: 3677.0098 - val_loss: 3562.5603 - val_mse: 23494662.0000 - val_mae: 3562.5605\n",
      "Epoch 48/50\n",
      "113/114 [============================>.] - ETA: 0s - loss: 3650.8874 - mse: 23816864.0000 - mae: 3650.8870\n",
      "Epoch 00048: ReduceLROnPlateau reducing learning rate to 6.400000529538374e-07.\n",
      "114/114 [==============================] - 72s 632ms/step - loss: 3649.8490 - mse: 23785962.0000 - mae: 3650.0566 - val_loss: 3567.5743 - val_mse: 23506574.0000 - val_mae: 3567.5740\n",
      "Epoch 49/50\n",
      "114/114 [==============================] - 70s 610ms/step - loss: 3641.8237 - mse: 23803142.0000 - mae: 3641.9580 - val_loss: 3553.6172 - val_mse: 23293056.0000 - val_mae: 3553.6174\n",
      "Epoch 50/50\n",
      "114/114 [==============================] - 71s 623ms/step - loss: 3634.5546 - mse: 23762010.0000 - mae: 3634.1709 - val_loss: 3574.7179 - val_mse: 23631178.0000 - val_mae: 3574.7178\n"
     ]
    },
    {
     "data": {
      "text/plain": [
       "<tensorflow.python.keras.callbacks.History at 0x7f93a5236978>"
      ]
     },
     "execution_count": 19,
     "metadata": {},
     "output_type": "execute_result"
    }
   ],
   "source": [
    "\n",
    "regression_model.fit(train_generator, epochs=50, shuffle=False,\n",
    "                     callbacks=[reduce_lr],\n",
    "                     validation_data = val_generator,\n",
    "                     validation_steps = val_generator.samples // 64)"
   ]
  },
  {
   "cell_type": "code",
   "execution_count": 20,
   "metadata": {
    "ExecuteTime": {
     "end_time": "2020-04-03T12:11:22.476452Z",
     "start_time": "2020-04-03T12:11:22.353082Z"
    },
    "hidden": true
   },
   "outputs": [],
   "source": [
    "#regression_model.save_weights('gerabasespesagens_cropped2.hdf5')"
   ]
  },
  {
   "cell_type": "code",
   "execution_count": 66,
   "metadata": {
    "ExecuteTime": {
     "end_time": "2020-04-03T13:36:03.196248Z",
     "start_time": "2020-04-03T13:36:03.179111Z"
    },
    "hidden": true
   },
   "outputs": [],
   "source": [
    "regression_model.load_weights('gerabasespesagens_cropped2.hdf5')"
   ]
  },
  {
   "cell_type": "markdown",
   "metadata": {
    "hidden": true
   },
   "source": [
    "## Fine tunning"
   ]
  },
  {
   "cell_type": "code",
   "execution_count": 25,
   "metadata": {
    "ExecuteTime": {
     "end_time": "2020-04-03T12:13:29.433920Z",
     "start_time": "2020-04-03T12:13:29.417557Z"
    },
    "hidden": true
   },
   "outputs": [
    {
     "name": "stdout",
     "output_type": "stream",
     "text": [
      "<tensorflow.python.keras.layers.convolutional.Conv2D object at 0x7f9329d44d68> False\n",
      "<tensorflow.python.keras.layers.pooling.MaxPooling2D object at 0x7f9329ccf390> False\n",
      "<tensorflow.python.keras.layers.core.Dropout object at 0x7f9329ccf588> False\n",
      "<tensorflow.python.keras.layers.convolutional.Conv2D object at 0x7f9329ccf6d8> False\n",
      "<tensorflow.python.keras.layers.core.Dropout object at 0x7f9329ccfb38> False\n",
      "<tensorflow.python.keras.layers.convolutional.Conv2D object at 0x7f9329ccfc50> False\n",
      "<tensorflow.python.keras.layers.core.Dropout object at 0x7f9329cdf0f0> False\n",
      "<tensorflow.python.keras.layers.pooling.AveragePooling2D object at 0x7f9329cdf208> False\n",
      "<tensorflow.python.keras.layers.core.Flatten object at 0x7f9329cdf400> False\n",
      "<tensorflow.python.keras.layers.core.Dense object at 0x7f9329cdf550> True\n",
      "<tensorflow.python.keras.layers.core.Dense object at 0x7f9329cdf860> True\n",
      "<tensorflow.python.keras.layers.core.Dropout object at 0x7f9329cdfb70> True\n",
      "<tensorflow.python.keras.layers.core.Dense object at 0x7f9329cdfc88> True\n"
     ]
    }
   ],
   "source": [
    "for layer in regression_model.layers:\n",
    "    layer.trainable = True\n",
    "for layer in regression_model.layers[:-4]:\n",
    "    layer.trainable = False\n",
    "for layer in regression_model.layers:\n",
    "    print(layer, layer.trainable)\n"
   ]
  },
  {
   "cell_type": "code",
   "execution_count": 30,
   "metadata": {
    "ExecuteTime": {
     "end_time": "2020-04-03T12:21:44.883145Z",
     "start_time": "2020-04-03T12:21:44.832612Z"
    },
    "hidden": true
   },
   "outputs": [],
   "source": [
    "regression_model.compile(optimizer=optimizers.SGD(lr=0.001),\n",
    "                         loss='mean_squared_logarithmic_error', metrics=['msle', 'mae', 'mse'])\n",
    "reduce_lr = ReduceLROnPlateau(monitor='val_loss', factor=0.5, patience=2,\n",
    "                          verbose=1, mode='min')"
   ]
  },
  {
   "cell_type": "code",
   "execution_count": 28,
   "metadata": {
    "ExecuteTime": {
     "end_time": "2020-04-03T12:18:18.029170Z",
     "start_time": "2020-04-03T12:18:13.046997Z"
    },
    "hidden": true
   },
   "outputs": [
    {
     "name": "stdout",
     "output_type": "stream",
     "text": [
      "Found 7283 validated image filenames.\n"
     ]
    }
   ],
   "source": [
    "train_generator = train_datagen.flow_from_dataframe(\n",
    "    dataframe=df_train,\n",
    "    directory='../../bases/pesagensbalanca/pesagensbalanca_cropped',\n",
    "    target_size=(144, 288),\n",
    "    batch_size=128,\n",
    "    x_col='filename',\n",
    "    y_col=\"pesobalanca\",\n",
    "    shuffle=False,\n",
    "    class_mode='raw',\n",
    ")\n"
   ]
  },
  {
   "cell_type": "code",
   "execution_count": 31,
   "metadata": {
    "ExecuteTime": {
     "end_time": "2020-04-03T12:46:18.006691Z",
     "start_time": "2020-04-03T12:22:09.041169Z"
    },
    "hidden": true
   },
   "outputs": [
    {
     "name": "stdout",
     "output_type": "stream",
     "text": [
      "Train for 57 steps, validate for 12 steps\n",
      "Epoch 1/20\n",
      "57/57 [==============================] - 71s 1s/step - loss: 0.0947 - msle: 0.0947 - mae: 3608.4629 - mse: 23316486.0000 - val_loss: 0.1091 - val_msle: 0.1091 - val_mae: 3562.4495 - val_mse: 23320314.0000\n",
      "Epoch 2/20\n",
      "57/57 [==============================] - 71s 1s/step - loss: 0.0960 - msle: 0.0960 - mae: 3634.3882 - mse: 23902398.0000 - val_loss: 0.1093 - val_msle: 0.1093 - val_mae: 3560.1953 - val_mse: 23409062.0000\n",
      "Epoch 3/20\n",
      "57/57 [==============================] - 69s 1s/step - loss: 0.0959 - msle: 0.0959 - mae: 3642.7004 - mse: 23762100.0000 - val_loss: 0.1079 - val_msle: 0.1079 - val_mae: 3559.0322 - val_mse: 23223136.0000\n",
      "Epoch 4/20\n",
      "57/57 [==============================] - 68s 1s/step - loss: 0.0953 - msle: 0.0953 - mae: 3632.0486 - mse: 23893478.0000 - val_loss: 0.1082 - val_msle: 0.1082 - val_mae: 3570.1289 - val_mse: 23299914.0000\n",
      "Epoch 5/20\n",
      "57/57 [==============================] - 88s 2s/step - loss: 0.0955 - msle: 0.0955 - mae: 3647.9644 - mse: 23942830.0000 - val_loss: 0.1077 - val_msle: 0.1077 - val_mae: 3559.8801 - val_mse: 23177550.0000\n",
      "Epoch 6/20\n",
      "57/57 [==============================] - 82s 1s/step - loss: 0.0962 - msle: 0.0962 - mae: 3663.9114 - mse: 24051190.0000 - val_loss: 0.1084 - val_msle: 0.1084 - val_mae: 3576.3948 - val_mse: 23368120.0000\n",
      "Epoch 7/20\n",
      "56/57 [============================>.] - ETA: 1s - loss: 0.0958 - msle: 0.0958 - mae: 3642.4663 - mse: 23756436.0000\n",
      "Epoch 00007: ReduceLROnPlateau reducing learning rate to 0.0005000000237487257.\n",
      "57/57 [==============================] - 75s 1s/step - loss: 0.0957 - msle: 0.0957 - mae: 3649.6077 - mse: 23811616.0000 - val_loss: 0.1081 - val_msle: 0.1081 - val_mae: 3570.0051 - val_mse: 23035190.0000\n",
      "Epoch 8/20\n",
      "57/57 [==============================] - 72s 1s/step - loss: 0.0963 - msle: 0.0963 - mae: 3688.8850 - mse: 24120656.0000 - val_loss: 0.1080 - val_msle: 0.1080 - val_mae: 3597.3259 - val_mse: 23412522.0000\n",
      "Epoch 9/20\n",
      "56/57 [============================>.] - ETA: 1s - loss: 0.0958 - msle: 0.0958 - mae: 3694.7253 - mse: 23935766.0000\n",
      "Epoch 00009: ReduceLROnPlateau reducing learning rate to 0.0002500000118743628.\n",
      "57/57 [==============================] - 72s 1s/step - loss: 0.0960 - msle: 0.0960 - mae: 3700.4827 - mse: 24019208.0000 - val_loss: 0.1086 - val_msle: 0.1086 - val_mae: 3587.5818 - val_mse: 23438978.0000\n",
      "Epoch 10/20\n",
      "57/57 [==============================] - 70s 1s/step - loss: 0.0948 - msle: 0.0948 - mae: 3647.3152 - mse: 23678130.0000 - val_loss: 0.1079 - val_msle: 0.1079 - val_mae: 3562.3242 - val_mse: 23302350.0000\n",
      "Epoch 11/20\n",
      "57/57 [==============================] - 69s 1s/step - loss: 0.0936 - msle: 0.0936 - mae: 3644.5615 - mse: 23401316.0000 - val_loss: 0.1073 - val_msle: 0.1073 - val_mae: 3555.0166 - val_mse: 23016992.0000\n",
      "Epoch 12/20\n",
      "57/57 [==============================] - 69s 1s/step - loss: 0.0951 - msle: 0.0951 - mae: 3679.6699 - mse: 24004276.0000 - val_loss: 0.1077 - val_msle: 0.1077 - val_mae: 3560.4417 - val_mse: 23152162.0000\n",
      "Epoch 13/20\n",
      "56/57 [============================>.] - ETA: 1s - loss: 0.0949 - msle: 0.0949 - mae: 3652.0210 - mse: 23497662.0000\n",
      "Epoch 00013: ReduceLROnPlateau reducing learning rate to 0.0001250000059371814.\n",
      "57/57 [==============================] - 69s 1s/step - loss: 0.0950 - msle: 0.0950 - mae: 3659.3501 - mse: 23573314.0000 - val_loss: 0.1078 - val_msle: 0.1078 - val_mae: 3592.5928 - val_mse: 23263226.0000\n",
      "Epoch 14/20\n",
      "57/57 [==============================] - 71s 1s/step - loss: 0.0950 - msle: 0.0950 - mae: 3642.0391 - mse: 23498400.0000 - val_loss: 0.1071 - val_msle: 0.1071 - val_mae: 3566.7332 - val_mse: 23151944.0000\n",
      "Epoch 15/20\n",
      "57/57 [==============================] - 70s 1s/step - loss: 0.0943 - msle: 0.0943 - mae: 3631.8079 - mse: 23322428.0000 - val_loss: 0.1080 - val_msle: 0.1080 - val_mae: 3595.3057 - val_mse: 23449594.0000\n",
      "Epoch 16/20\n",
      "56/57 [============================>.] - ETA: 1s - loss: 0.0943 - msle: 0.0943 - mae: 3651.6238 - mse: 23555504.0000\n",
      "Epoch 00016: ReduceLROnPlateau reducing learning rate to 6.25000029685907e-05.\n",
      "57/57 [==============================] - 68s 1s/step - loss: 0.0944 - msle: 0.0944 - mae: 3657.6921 - mse: 23610342.0000 - val_loss: 0.1081 - val_msle: 0.1081 - val_mae: 3583.7878 - val_mse: 23516310.0000\n",
      "Epoch 17/20\n",
      "57/57 [==============================] - 72s 1s/step - loss: 0.0952 - msle: 0.0952 - mae: 3642.9255 - mse: 23638890.0000 - val_loss: 0.1085 - val_msle: 0.1085 - val_mae: 3591.6428 - val_mse: 23487902.0000\n",
      "Epoch 18/20\n",
      "56/57 [============================>.] - ETA: 1s - loss: 0.0945 - msle: 0.0945 - mae: 3655.2605 - mse: 23732426.0000\n",
      "Epoch 00018: ReduceLROnPlateau reducing learning rate to 3.125000148429535e-05.\n",
      "57/57 [==============================] - 68s 1s/step - loss: 0.0944 - msle: 0.0944 - mae: 3659.3508 - mse: 23771188.0000 - val_loss: 0.1081 - val_msle: 0.1081 - val_mae: 3573.0984 - val_mse: 23345970.0000\n",
      "Epoch 19/20\n",
      "57/57 [==============================] - 73s 1s/step - loss: 0.0961 - msle: 0.0961 - mae: 3692.1499 - mse: 24068660.0000 - val_loss: 0.1086 - val_msle: 0.1086 - val_mae: 3603.9785 - val_mse: 23488554.0000\n",
      "Epoch 20/20\n",
      "56/57 [============================>.] - ETA: 1s - loss: 0.0949 - msle: 0.0949 - mae: 3656.9983 - mse: 23879520.0000\n",
      "Epoch 00020: ReduceLROnPlateau reducing learning rate to 1.5625000742147677e-05.\n",
      "57/57 [==============================] - 77s 1s/step - loss: 0.0951 - msle: 0.0951 - mae: 3663.6902 - mse: 23954798.0000 - val_loss: 0.1075 - val_msle: 0.1075 - val_mae: 3602.1082 - val_mse: 23402186.0000\n"
     ]
    },
    {
     "data": {
      "text/plain": [
       "<tensorflow.python.keras.callbacks.History at 0x7f939fe86898>"
      ]
     },
     "execution_count": 31,
     "metadata": {},
     "output_type": "execute_result"
    }
   ],
   "source": [
    "regression_model.fit(train_generator, epochs=20, shuffle=False,\n",
    "                     callbacks=[reduce_lr],\n",
    "                     validation_data = val_generator,\n",
    "                     validation_steps = val_generator.samples // 64)"
   ]
  },
  {
   "cell_type": "code",
   "execution_count": 67,
   "metadata": {
    "ExecuteTime": {
     "end_time": "2020-04-03T13:36:17.134277Z",
     "start_time": "2020-04-03T13:36:17.073080Z"
    },
    "hidden": true
   },
   "outputs": [],
   "source": [
    "regression_model.compile(optimizer=optimizers.SGD(lr=0.0001),\n",
    "                         loss='mean_absolute_error', metrics=['msle', 'mae', 'mse'])\n",
    "reduce_lr = ReduceLROnPlateau(monitor='val_loss', factor=0.5, patience=2,\n",
    "                          verbose=1, mode='min')"
   ]
  },
  {
   "cell_type": "code",
   "execution_count": 68,
   "metadata": {
    "ExecuteTime": {
     "end_time": "2020-04-03T13:58:49.128551Z",
     "start_time": "2020-04-03T13:36:19.963003Z"
    },
    "hidden": true
   },
   "outputs": [
    {
     "name": "stdout",
     "output_type": "stream",
     "text": [
      "Train for 57 steps, validate for 12 steps\n",
      "Epoch 1/20\n",
      "57/57 [==============================] - 68s 1s/step - loss: 5622.2075 - msle: 0.1992 - mae: 5624.1997 - mse: 55791784.0000 - val_loss: 3756.6118 - val_msle: 0.1211 - val_mae: 3756.6116 - val_mse: 26991670.0000\n",
      "Epoch 2/20\n",
      "57/57 [==============================] - 69s 1s/step - loss: 4039.2813 - msle: 0.1083 - mae: 4039.6230 - mse: 28704642.0000 - val_loss: 3569.9286 - val_msle: 0.1115 - val_mae: 3569.9285 - val_mse: 23872918.0000\n",
      "Epoch 3/20\n",
      "57/57 [==============================] - 68s 1s/step - loss: 3988.0034 - msle: 0.1053 - mae: 3987.5867 - mse: 27424336.0000 - val_loss: 3688.5720 - val_msle: 0.1213 - val_mae: 3688.5723 - val_mse: 26035480.0000\n",
      "Epoch 4/20\n",
      "57/57 [==============================] - 67s 1s/step - loss: 3891.8890 - msle: 0.1026 - mae: 3891.7432 - mse: 26609566.0000 - val_loss: 3542.2460 - val_msle: 0.1098 - val_mae: 3542.2463 - val_mse: 23128936.0000\n",
      "Epoch 5/20\n",
      "57/57 [==============================] - 67s 1s/step - loss: 3853.6981 - msle: 0.1027 - mae: 3853.5623 - mse: 26367744.0000 - val_loss: 3650.7325 - val_msle: 0.1204 - val_mae: 3650.7322 - val_mse: 25428750.0000\n",
      "Epoch 6/20\n",
      "56/57 [============================>.] - ETA: 1s - loss: 3748.6712 - msle: 0.0982 - mae: 3748.6704 - mse: 24742960.0000\n",
      "Epoch 00006: ReduceLROnPlateau reducing learning rate to 4.999999873689376e-05.\n",
      "57/57 [==============================] - 67s 1s/step - loss: 3764.0018 - msle: 0.0985 - mae: 3762.4924 - mse: 24833750.0000 - val_loss: 3602.0475 - val_msle: 0.1175 - val_mae: 3602.0476 - val_mse: 24750680.0000\n",
      "Epoch 7/20\n",
      "57/57 [==============================] - 68s 1s/step - loss: 3682.3303 - msle: 0.0977 - mae: 3682.0134 - mse: 24172022.0000 - val_loss: 3569.0797 - val_msle: 0.1069 - val_mae: 3569.0793 - val_mse: 22903376.0000\n",
      "Epoch 8/20\n",
      "57/57 [==============================] - 68s 1s/step - loss: 3669.1480 - msle: 0.0965 - mae: 3667.9512 - mse: 23896300.0000 - val_loss: 3535.4600 - val_msle: 0.1075 - val_mae: 3535.4602 - val_mse: 22995670.0000\n",
      "Epoch 9/20\n",
      "57/57 [==============================] - 67s 1s/step - loss: 3645.8396 - msle: 0.0964 - mae: 3645.0186 - mse: 23734250.0000 - val_loss: 3530.7960 - val_msle: 0.1092 - val_mae: 3530.7961 - val_mse: 22992938.0000\n",
      "Epoch 10/20\n",
      "57/57 [==============================] - 67s 1s/step - loss: 3674.1624 - msle: 0.0967 - mae: 3673.2100 - mse: 24207526.0000 - val_loss: 3528.8401 - val_msle: 0.1103 - val_mae: 3528.8401 - val_mse: 23352082.0000\n",
      "Epoch 11/20\n",
      "57/57 [==============================] - 67s 1s/step - loss: 3637.7729 - msle: 0.0948 - mae: 3636.9436 - mse: 23636412.0000 - val_loss: 3549.9799 - val_msle: 0.1083 - val_mae: 3549.9797 - val_mse: 22973326.0000\n",
      "Epoch 12/20\n",
      "57/57 [==============================] - 67s 1s/step - loss: 3686.5428 - msle: 0.0968 - mae: 3685.6941 - mse: 24174696.0000 - val_loss: 3514.0920 - val_msle: 0.1088 - val_mae: 3514.0920 - val_mse: 22884904.0000\n",
      "Epoch 13/20\n",
      "57/57 [==============================] - 67s 1s/step - loss: 3632.0104 - msle: 0.0963 - mae: 3631.6216 - mse: 23844394.0000 - val_loss: 3539.5320 - val_msle: 0.1101 - val_mae: 3539.5320 - val_mse: 23183126.0000\n",
      "Epoch 14/20\n",
      "56/57 [============================>.] - ETA: 1s - loss: 3639.5244 - msle: 0.0959 - mae: 3639.5237 - mse: 23781594.0000\n",
      "Epoch 00014: ReduceLROnPlateau reducing learning rate to 2.499999936844688e-05.\n",
      "57/57 [==============================] - 66s 1s/step - loss: 3645.3800 - msle: 0.0959 - mae: 3644.8030 - mse: 23836504.0000 - val_loss: 3515.9760 - val_msle: 0.1093 - val_mae: 3515.9763 - val_mse: 23088942.0000\n",
      "Epoch 15/20\n",
      "57/57 [==============================] - 67s 1s/step - loss: 3640.5874 - msle: 0.0968 - mae: 3640.2993 - mse: 23954126.0000 - val_loss: 3526.3693 - val_msle: 0.1067 - val_mae: 3526.3694 - val_mse: 22749002.0000\n",
      "Epoch 16/20\n",
      "56/57 [============================>.] - ETA: 1s - loss: 3582.5034 - msle: 0.0948 - mae: 3582.5032 - mse: 23006774.0000\n",
      "Epoch 00016: ReduceLROnPlateau reducing learning rate to 1.249999968422344e-05.\n",
      "57/57 [==============================] - 69s 1s/step - loss: 3590.9371 - msle: 0.0948 - mae: 3590.1069 - mse: 23097024.0000 - val_loss: 3546.2712 - val_msle: 0.1069 - val_mae: 3546.2712 - val_mse: 22921176.0000\n",
      "Epoch 17/20\n",
      "57/57 [==============================] - 67s 1s/step - loss: 3615.6541 - msle: 0.0953 - mae: 3614.7908 - mse: 23614178.0000 - val_loss: 3539.1195 - val_msle: 0.1088 - val_mae: 3539.1194 - val_mse: 23189586.0000\n",
      "Epoch 18/20\n",
      "57/57 [==============================] - 67s 1s/step - loss: 3628.2015 - msle: 0.0958 - mae: 3627.6113 - mse: 23599454.0000 - val_loss: 3510.0249 - val_msle: 0.1092 - val_mae: 3510.0251 - val_mse: 23016432.0000\n",
      "Epoch 19/20\n",
      "57/57 [==============================] - 67s 1s/step - loss: 3634.8983 - msle: 0.0952 - mae: 3634.0483 - mse: 23755970.0000 - val_loss: 3551.2371 - val_msle: 0.1091 - val_mae: 3551.2371 - val_mse: 23314026.0000\n",
      "Epoch 20/20\n",
      "56/57 [============================>.] - ETA: 1s - loss: 3637.4419 - msle: 0.0961 - mae: 3637.4419 - mse: 23587600.0000\n",
      "Epoch 00020: ReduceLROnPlateau reducing learning rate to 6.24999984211172e-06.\n",
      "57/57 [==============================] - 67s 1s/step - loss: 3644.7557 - msle: 0.0961 - mae: 3644.0359 - mse: 23668352.0000 - val_loss: 3535.6181 - val_msle: 0.1065 - val_mae: 3535.6184 - val_mse: 22774776.0000\n"
     ]
    },
    {
     "data": {
      "text/plain": [
       "<tensorflow.python.keras.callbacks.History at 0x7f93a4809908>"
      ]
     },
     "execution_count": 68,
     "metadata": {},
     "output_type": "execute_result"
    }
   ],
   "source": [
    "regression_model.fit(train_generator, epochs=20, shuffle=False,\n",
    "                     callbacks=[reduce_lr],\n",
    "                     validation_data = val_generator,\n",
    "                     validation_steps = val_generator.samples // 64)"
   ]
  },
  {
   "cell_type": "code",
   "execution_count": 110,
   "metadata": {
    "ExecuteTime": {
     "end_time": "2020-04-03T14:53:04.772913Z",
     "start_time": "2020-04-03T14:53:04.561209Z"
    },
    "hidden": true
   },
   "outputs": [],
   "source": [
    "regression_model.save_weights('gerabasespesagens_cropped2_finetunning.h5')"
   ]
  },
  {
   "cell_type": "markdown",
   "metadata": {},
   "source": [
    "# Avaliação"
   ]
  },
  {
   "cell_type": "code",
   "execution_count": 76,
   "metadata": {
    "ExecuteTime": {
     "end_time": "2020-04-03T14:20:38.146800Z",
     "start_time": "2020-04-03T14:20:37.956255Z"
    }
   },
   "outputs": [
    {
     "name": "stdout",
     "output_type": "stream",
     "text": [
      "27005.736 33080\n"
     ]
    },
    {
     "data": {
      "text/plain": [
       "<matplotlib.image.AxesImage at 0x7f92945b4518>"
      ]
     },
     "execution_count": 76,
     "metadata": {},
     "output_type": "execute_result"
    },
    {
     "data": {
      "image/png": "[encoded data removed]",
      "text/plain": [
       "<Figure size 432x288 with 1 Axes>"
      ]
     },
     "metadata": {
      "needs_background": "light"
     },
     "output_type": "display_data"
    }
   ],
   "source": [
    "%matplotlib inline\n",
    "import matplotlib.pyplot as plt\n",
    "sample = df.sample()\n",
    "filename = sample['filename'].item()\n",
    "image = Image.open('../../bases/pesagensbalanca/pesagensbalanca_cropped/' + filename)\n",
    "image = image.resize((288, 144), Image.LANCZOS)\n",
    "image_array = np.expand_dims(np.array(image), axis=0) / 255\n",
    "print(regression_model.predict(image_array)[0][0], sample['pesobalanca'].item())\n",
    "plt.imshow(image)"
   ]
  },
  {
   "cell_type": "code",
   "execution_count": 77,
   "metadata": {
    "ExecuteTime": {
     "end_time": "2020-04-03T14:21:57.086978Z",
     "start_time": "2020-04-03T14:20:51.460658Z"
    }
   },
   "outputs": [],
   "source": [
    "y_preds_train = regression_model.predict_generator(train_generator)"
   ]
  },
  {
   "cell_type": "code",
   "execution_count": 78,
   "metadata": {
    "ExecuteTime": {
     "end_time": "2020-04-03T14:22:04.239923Z",
     "start_time": "2020-04-03T14:21:57.088490Z"
    }
   },
   "outputs": [],
   "source": [
    "y_preds_val = regression_model.predict_generator(val_generator)"
   ]
  },
  {
   "cell_type": "code",
   "execution_count": 79,
   "metadata": {
    "ExecuteTime": {
     "end_time": "2020-04-03T14:22:04.254525Z",
     "start_time": "2020-04-03T14:22:04.242505Z"
    }
   },
   "outputs": [
    {
     "data": {
      "text/plain": [
       "array([[ 6538.6704],\n",
       "       [13871.25  ],\n",
       "       [21020.834 ],\n",
       "       [25824.309 ],\n",
       "       [25157.842 ],\n",
       "       [25276.031 ],\n",
       "       [25443.627 ],\n",
       "       [25259.895 ],\n",
       "       [12617.661 ],\n",
       "       [10279.668 ],\n",
       "       [26854.678 ],\n",
       "       [21940.8   ],\n",
       "       [21770.543 ],\n",
       "       [23646.258 ],\n",
       "       [19837.63  ],\n",
       "       [24095.764 ],\n",
       "       [ 8858.457 ],\n",
       "       [20432.658 ],\n",
       "       [26490.451 ],\n",
       "       [25442.19  ],\n",
       "       [25216.484 ],\n",
       "       [20608.164 ],\n",
       "       [28917.5   ],\n",
       "       [23866.887 ],\n",
       "       [25491.14  ],\n",
       "       [21208.648 ],\n",
       "       [18805.682 ],\n",
       "       [14859.157 ],\n",
       "       [ 7197.9536],\n",
       "       [23698.812 ],\n",
       "       [ 9212.141 ],\n",
       "       [11088.537 ],\n",
       "       [26690.47  ],\n",
       "       [24804.396 ],\n",
       "       [28298.07  ],\n",
       "       [ 5434.56  ],\n",
       "       [15902.843 ],\n",
       "       [12628.849 ],\n",
       "       [ 8763.088 ],\n",
       "       [18327.2   ],\n",
       "       [24499.793 ],\n",
       "       [ 5597.6562],\n",
       "       [ 8012.284 ],\n",
       "       [ 7736.317 ],\n",
       "       [23927.393 ],\n",
       "       [22423.717 ],\n",
       "       [13215.214 ],\n",
       "       [15298.718 ],\n",
       "       [16087.186 ],\n",
       "       [23396.734 ],\n",
       "       [24710.66  ],\n",
       "       [ 7039.3916],\n",
       "       [20119.24  ],\n",
       "       [ 6950.9595],\n",
       "       [22821.334 ],\n",
       "       [20331.152 ],\n",
       "       [21299.775 ],\n",
       "       [22899.508 ],\n",
       "       [24153.586 ],\n",
       "       [24996.38  ],\n",
       "       [20227.123 ],\n",
       "       [12902.282 ],\n",
       "       [20331.16  ],\n",
       "       [12077.994 ],\n",
       "       [24130.02  ],\n",
       "       [ 6759.915 ],\n",
       "       [21014.72  ],\n",
       "       [22560.463 ],\n",
       "       [15780.179 ],\n",
       "       [24028.596 ],\n",
       "       [20233.27  ],\n",
       "       [26105.482 ],\n",
       "       [11797.059 ],\n",
       "       [29222.666 ],\n",
       "       [19741.227 ],\n",
       "       [17236.9   ],\n",
       "       [19391.15  ],\n",
       "       [19046.246 ],\n",
       "       [10807.618 ],\n",
       "       [11668.035 ],\n",
       "       [14380.103 ],\n",
       "       [25161.88  ],\n",
       "       [25196.637 ],\n",
       "       [25314.201 ],\n",
       "       [20372.2   ],\n",
       "       [11826.927 ],\n",
       "       [26997.346 ],\n",
       "       [25480.781 ],\n",
       "       [27354.648 ],\n",
       "       [ 9249.823 ],\n",
       "       [26090.434 ],\n",
       "       [11872.357 ],\n",
       "       [25249.367 ],\n",
       "       [ 8204.203 ],\n",
       "       [20017.135 ],\n",
       "       [17899.145 ],\n",
       "       [15300.562 ],\n",
       "       [20612.928 ],\n",
       "       [ 8306.788 ],\n",
       "       [17029.846 ],\n",
       "       [26089.848 ],\n",
       "       [17378.04  ],\n",
       "       [19227.42  ],\n",
       "       [16157.455 ],\n",
       "       [18337.35  ],\n",
       "       [ 7043.738 ],\n",
       "       [27451.023 ],\n",
       "       [ 9471.181 ],\n",
       "       [14531.806 ],\n",
       "       [ 6174.868 ],\n",
       "       [23136.793 ],\n",
       "       [11415.489 ],\n",
       "       [19400.744 ],\n",
       "       [19981.883 ],\n",
       "       [20295.236 ],\n",
       "       [16942.836 ],\n",
       "       [12543.513 ],\n",
       "       [25123.695 ],\n",
       "       [15146.66  ],\n",
       "       [26846.916 ],\n",
       "       [17470.46  ],\n",
       "       [21581.121 ],\n",
       "       [19603.584 ],\n",
       "       [18121.61  ],\n",
       "       [ 9096.59  ],\n",
       "       [ 5441.1177],\n",
       "       [17128.008 ],\n",
       "       [24638.195 ],\n",
       "       [19908.729 ],\n",
       "       [23062.32  ],\n",
       "       [17083.676 ],\n",
       "       [20540.469 ],\n",
       "       [ 7042.8804],\n",
       "       [25111.95  ],\n",
       "       [20330.016 ],\n",
       "       [12232.671 ],\n",
       "       [22169.729 ],\n",
       "       [25097.082 ],\n",
       "       [ 9777.87  ],\n",
       "       [19184.52  ],\n",
       "       [ 8302.821 ],\n",
       "       [23636.16  ],\n",
       "       [20567.012 ],\n",
       "       [15684.208 ],\n",
       "       [23604.686 ],\n",
       "       [23640.947 ],\n",
       "       [24106.246 ],\n",
       "       [24109.838 ],\n",
       "       [24485.957 ],\n",
       "       [14088.227 ],\n",
       "       [22293.875 ],\n",
       "       [17112.566 ],\n",
       "       [25579.879 ],\n",
       "       [17492.805 ],\n",
       "       [24477.201 ],\n",
       "       [ 7424.1616],\n",
       "       [17322.049 ],\n",
       "       [24903.854 ],\n",
       "       [23017.05  ],\n",
       "       [25893.531 ],\n",
       "       [16831.564 ],\n",
       "       [17062.635 ],\n",
       "       [ 6257.231 ],\n",
       "       [27302.639 ],\n",
       "       [21651.307 ],\n",
       "       [16388.469 ],\n",
       "       [11875.946 ],\n",
       "       [24172.256 ],\n",
       "       [25009.912 ],\n",
       "       [21092.832 ],\n",
       "       [18018.326 ],\n",
       "       [10692.598 ],\n",
       "       [23137.727 ],\n",
       "       [10370.2705],\n",
       "       [18752.873 ],\n",
       "       [23480.734 ],\n",
       "       [23933.59  ],\n",
       "       [24901.035 ],\n",
       "       [23042.143 ],\n",
       "       [13660.041 ],\n",
       "       [25690.188 ],\n",
       "       [16415.762 ],\n",
       "       [25857.057 ],\n",
       "       [18469.85  ],\n",
       "       [ 7903.9624],\n",
       "       [17536.926 ],\n",
       "       [19599.02  ],\n",
       "       [ 5325.1875],\n",
       "       [24566.545 ],\n",
       "       [21441.943 ],\n",
       "       [ 8742.451 ],\n",
       "       [ 7055.3394],\n",
       "       [24965.719 ],\n",
       "       [16498.982 ],\n",
       "       [ 6407.336 ],\n",
       "       [ 7449.984 ],\n",
       "       [ 9528.864 ],\n",
       "       [ 6221.213 ],\n",
       "       [24201.746 ],\n",
       "       [ 8851.219 ],\n",
       "       [ 7342.38  ],\n",
       "       [19406.705 ],\n",
       "       [20715.258 ],\n",
       "       [24948.965 ],\n",
       "       [19438.393 ],\n",
       "       [23894.4   ],\n",
       "       [19097.256 ],\n",
       "       [17641.498 ],\n",
       "       [19133.156 ],\n",
       "       [ 6801.3765],\n",
       "       [ 7323.581 ],\n",
       "       [20086.574 ],\n",
       "       [27656.62  ],\n",
       "       [ 8447.609 ],\n",
       "       [24989.57  ],\n",
       "       [18880.148 ],\n",
       "       [22566.07  ],\n",
       "       [23327.904 ],\n",
       "       [18945.26  ],\n",
       "       [26604.645 ],\n",
       "       [12819.504 ],\n",
       "       [13648.726 ],\n",
       "       [21463.43  ],\n",
       "       [23408.6   ],\n",
       "       [24699.16  ],\n",
       "       [19309.943 ],\n",
       "       [21872.014 ],\n",
       "       [ 7111.0312],\n",
       "       [ 8307.445 ],\n",
       "       [21633.643 ],\n",
       "       [17352.    ],\n",
       "       [23730.863 ],\n",
       "       [13412.928 ],\n",
       "       [24918.85  ],\n",
       "       [10612.388 ],\n",
       "       [ 8356.66  ],\n",
       "       [10099.979 ],\n",
       "       [22768.97  ],\n",
       "       [28046.082 ],\n",
       "       [26129.805 ],\n",
       "       [21464.9   ],\n",
       "       [20378.365 ],\n",
       "       [10733.378 ],\n",
       "       [23981.264 ],\n",
       "       [16270.005 ],\n",
       "       [20810.564 ],\n",
       "       [25259.512 ],\n",
       "       [13366.062 ],\n",
       "       [ 7923.5283],\n",
       "       [23244.02  ],\n",
       "       [12825.375 ],\n",
       "       [23074.56  ],\n",
       "       [ 8223.645 ],\n",
       "       [22824.957 ],\n",
       "       [ 6511.4204],\n",
       "       [24598.037 ],\n",
       "       [19137.303 ],\n",
       "       [21811.096 ],\n",
       "       [20957.883 ],\n",
       "       [13450.03  ],\n",
       "       [19181.637 ],\n",
       "       [19581.49  ],\n",
       "       [ 9513.041 ],\n",
       "       [25315.084 ],\n",
       "       [10942.676 ],\n",
       "       [22781.979 ],\n",
       "       [ 7950.2944],\n",
       "       [24564.777 ],\n",
       "       [24228.402 ],\n",
       "       [21468.258 ],\n",
       "       [16893.443 ],\n",
       "       [19744.908 ],\n",
       "       [23020.955 ],\n",
       "       [22733.943 ],\n",
       "       [ 8129.0503],\n",
       "       [21876.219 ],\n",
       "       [18354.76  ],\n",
       "       [23041.945 ],\n",
       "       [19639.898 ],\n",
       "       [23593.562 ],\n",
       "       [ 8259.854 ],\n",
       "       [21017.459 ],\n",
       "       [21507.906 ],\n",
       "       [25332.223 ],\n",
       "       [23661.861 ],\n",
       "       [22199.588 ],\n",
       "       [11840.987 ],\n",
       "       [25189.273 ],\n",
       "       [17706.34  ],\n",
       "       [12978.09  ],\n",
       "       [ 9903.6045],\n",
       "       [13812.167 ],\n",
       "       [23884.883 ],\n",
       "       [17960.682 ],\n",
       "       [18473.416 ],\n",
       "       [24832.39  ],\n",
       "       [20260.541 ],\n",
       "       [18543.047 ],\n",
       "       [ 8167.3423],\n",
       "       [ 9139.431 ],\n",
       "       [21546.299 ],\n",
       "       [10632.112 ],\n",
       "       [16923.459 ],\n",
       "       [ 8339.342 ],\n",
       "       [17308.506 ],\n",
       "       [21111.436 ],\n",
       "       [24893.438 ],\n",
       "       [25910.277 ],\n",
       "       [ 9881.616 ],\n",
       "       [27993.447 ],\n",
       "       [25343.318 ],\n",
       "       [23836.535 ],\n",
       "       [20425.549 ],\n",
       "       [ 7329.985 ],\n",
       "       [ 8341.851 ],\n",
       "       [21970.152 ],\n",
       "       [23037.299 ],\n",
       "       [15662.177 ],\n",
       "       [24196.299 ],\n",
       "       [ 7063.886 ],\n",
       "       [10471.597 ],\n",
       "       [23580.82  ],\n",
       "       [24772.654 ],\n",
       "       [15429.752 ],\n",
       "       [10310.532 ],\n",
       "       [15658.381 ],\n",
       "       [25358.037 ],\n",
       "       [12391.254 ],\n",
       "       [ 9943.822 ],\n",
       "       [21716.258 ],\n",
       "       [23656.514 ],\n",
       "       [26371.05  ],\n",
       "       [15498.706 ],\n",
       "       [ 7904.183 ],\n",
       "       [ 8646.148 ],\n",
       "       [ 8847.817 ],\n",
       "       [22040.309 ],\n",
       "       [26908.258 ],\n",
       "       [ 6570.803 ],\n",
       "       [24931.215 ],\n",
       "       [21587.252 ],\n",
       "       [22865.262 ],\n",
       "       [27258.973 ],\n",
       "       [17700.3   ],\n",
       "       [ 7416.008 ],\n",
       "       [20610.955 ],\n",
       "       [13619.016 ],\n",
       "       [22739.652 ],\n",
       "       [22943.541 ],\n",
       "       [14692.981 ],\n",
       "       [24625.973 ],\n",
       "       [25774.105 ],\n",
       "       [25472.365 ],\n",
       "       [22699.332 ],\n",
       "       [13668.285 ],\n",
       "       [ 6469.4834],\n",
       "       [13726.523 ],\n",
       "       [25301.908 ],\n",
       "       [15398.424 ],\n",
       "       [26110.95  ],\n",
       "       [22388.443 ],\n",
       "       [23328.42  ],\n",
       "       [20515.834 ],\n",
       "       [ 7914.5996],\n",
       "       [20404.455 ],\n",
       "       [24022.926 ],\n",
       "       [25824.752 ],\n",
       "       [24791.488 ],\n",
       "       [20001.404 ],\n",
       "       [25604.062 ],\n",
       "       [ 6201.8447],\n",
       "       [ 7359.555 ],\n",
       "       [25068.844 ],\n",
       "       [23487.254 ],\n",
       "       [24073.758 ],\n",
       "       [26990.967 ],\n",
       "       [23613.094 ],\n",
       "       [25922.283 ],\n",
       "       [21947.441 ],\n",
       "       [25087.32  ],\n",
       "       [24301.982 ],\n",
       "       [21330.486 ],\n",
       "       [ 7455.1797],\n",
       "       [27450.945 ],\n",
       "       [27090.371 ],\n",
       "       [23251.523 ],\n",
       "       [14936.76  ],\n",
       "       [22858.992 ],\n",
       "       [19901.273 ],\n",
       "       [21232.219 ],\n",
       "       [17788.143 ],\n",
       "       [18981.645 ],\n",
       "       [ 8326.608 ],\n",
       "       [27863.643 ],\n",
       "       [12443.301 ],\n",
       "       [18928.191 ],\n",
       "       [21646.979 ],\n",
       "       [23276.697 ],\n",
       "       [15321.202 ],\n",
       "       [17770.527 ],\n",
       "       [20831.047 ],\n",
       "       [23723.383 ],\n",
       "       [ 7867.58  ],\n",
       "       [ 6673.4077],\n",
       "       [23167.54  ],\n",
       "       [22892.018 ],\n",
       "       [17984.82  ],\n",
       "       [28090.404 ],\n",
       "       [23716.04  ],\n",
       "       [25440.326 ],\n",
       "       [25144.13  ],\n",
       "       [23743.451 ],\n",
       "       [20967.994 ],\n",
       "       [ 6308.496 ],\n",
       "       [ 9811.025 ],\n",
       "       [17677.678 ],\n",
       "       [18157.215 ],\n",
       "       [16436.352 ],\n",
       "       [20803.06  ],\n",
       "       [25419.049 ],\n",
       "       [19818.635 ],\n",
       "       [12393.823 ],\n",
       "       [ 9413.201 ],\n",
       "       [17171.527 ],\n",
       "       [23129.602 ],\n",
       "       [ 8171.166 ],\n",
       "       [10260.734 ],\n",
       "       [22932.207 ],\n",
       "       [17847.746 ],\n",
       "       [26478.71  ],\n",
       "       [16162.262 ],\n",
       "       [ 7343.154 ],\n",
       "       [15143.122 ],\n",
       "       [18929.639 ],\n",
       "       [19062.244 ],\n",
       "       [ 8568.389 ],\n",
       "       [ 7440.838 ],\n",
       "       [19837.57  ],\n",
       "       [25971.805 ],\n",
       "       [ 6125.844 ],\n",
       "       [19262.656 ],\n",
       "       [18655.43  ],\n",
       "       [17873.043 ],\n",
       "       [10610.746 ],\n",
       "       [27047.957 ],\n",
       "       [18148.176 ],\n",
       "       [14461.012 ],\n",
       "       [16999.295 ],\n",
       "       [23271.201 ],\n",
       "       [19909.467 ],\n",
       "       [24498.652 ],\n",
       "       [14713.747 ],\n",
       "       [24313.861 ],\n",
       "       [26479.986 ],\n",
       "       [28684.406 ],\n",
       "       [17792.553 ],\n",
       "       [22334.71  ],\n",
       "       [23277.436 ],\n",
       "       [27495.08  ],\n",
       "       [16849.658 ],\n",
       "       [25410.43  ],\n",
       "       [23798.691 ],\n",
       "       [22222.537 ],\n",
       "       [15029.288 ],\n",
       "       [17987.625 ],\n",
       "       [10375.145 ],\n",
       "       [27252.889 ],\n",
       "       [23961.682 ],\n",
       "       [25040.207 ],\n",
       "       [18478.328 ],\n",
       "       [26972.69  ],\n",
       "       [18428.416 ],\n",
       "       [ 9690.297 ],\n",
       "       [25769.559 ],\n",
       "       [22810.662 ],\n",
       "       [ 9205.154 ],\n",
       "       [24222.86  ],\n",
       "       [26426.455 ],\n",
       "       [20531.85  ],\n",
       "       [22722.057 ],\n",
       "       [21904.592 ],\n",
       "       [22616.795 ],\n",
       "       [23849.688 ],\n",
       "       [28438.512 ],\n",
       "       [21905.895 ],\n",
       "       [14058.517 ],\n",
       "       [26564.492 ],\n",
       "       [23181.43  ],\n",
       "       [23411.887 ],\n",
       "       [22503.996 ],\n",
       "       [23042.8   ],\n",
       "       [20344.676 ],\n",
       "       [25552.611 ],\n",
       "       [24849.45  ],\n",
       "       [ 8459.213 ],\n",
       "       [23980.08  ],\n",
       "       [14254.21  ],\n",
       "       [22031.113 ],\n",
       "       [23259.713 ],\n",
       "       [18776.52  ],\n",
       "       [21855.023 ],\n",
       "       [17717.387 ],\n",
       "       [24041.44  ],\n",
       "       [ 7949.22  ],\n",
       "       [22531.1   ],\n",
       "       [15193.238 ],\n",
       "       [19549.285 ],\n",
       "       [25836.477 ],\n",
       "       [21039.559 ],\n",
       "       [27053.684 ],\n",
       "       [15728.258 ],\n",
       "       [11957.1455],\n",
       "       [26249.686 ],\n",
       "       [16756.559 ],\n",
       "       [ 6968.475 ],\n",
       "       [ 6173.329 ],\n",
       "       [18207.744 ],\n",
       "       [ 7412.744 ],\n",
       "       [27228.992 ],\n",
       "       [23564.924 ],\n",
       "       [17667.496 ],\n",
       "       [14561.175 ],\n",
       "       [ 6443.0117],\n",
       "       [23737.963 ],\n",
       "       [22460.342 ],\n",
       "       [12712.322 ],\n",
       "       [15261.543 ],\n",
       "       [26032.023 ],\n",
       "       [23730.605 ],\n",
       "       [26189.584 ],\n",
       "       [ 7828.355 ],\n",
       "       [14487.925 ],\n",
       "       [ 9418.344 ],\n",
       "       [20458.775 ],\n",
       "       [22772.955 ],\n",
       "       [23159.576 ],\n",
       "       [ 8237.104 ],\n",
       "       [ 5353.9116],\n",
       "       [ 6965.4736],\n",
       "       [15960.675 ],\n",
       "       [29755.143 ],\n",
       "       [ 8817.508 ],\n",
       "       [ 9430.628 ],\n",
       "       [25610.305 ],\n",
       "       [25952.506 ],\n",
       "       [19374.283 ],\n",
       "       [ 6949.599 ],\n",
       "       [ 6020.2046],\n",
       "       [17706.746 ],\n",
       "       [11035.121 ],\n",
       "       [26101.887 ],\n",
       "       [25585.967 ],\n",
       "       [ 5623.206 ],\n",
       "       [11812.49  ],\n",
       "       [25661.81  ],\n",
       "       [23663.41  ],\n",
       "       [ 9814.206 ],\n",
       "       [27101.744 ],\n",
       "       [26770.979 ],\n",
       "       [26625.84  ],\n",
       "       [ 6473.7573],\n",
       "       [23529.703 ],\n",
       "       [25390.193 ],\n",
       "       [25555.305 ],\n",
       "       [22479.01  ],\n",
       "       [23236.922 ],\n",
       "       [11009.409 ],\n",
       "       [ 9433.228 ],\n",
       "       [23491.61  ],\n",
       "       [24232.123 ],\n",
       "       [22408.686 ],\n",
       "       [23120.76  ],\n",
       "       [23918.451 ],\n",
       "       [21945.514 ],\n",
       "       [19912.86  ],\n",
       "       [20508.535 ],\n",
       "       [21293.012 ],\n",
       "       [20421.613 ],\n",
       "       [ 7995.345 ],\n",
       "       [21873.209 ],\n",
       "       [18674.49  ],\n",
       "       [17222.55  ],\n",
       "       [24693.943 ],\n",
       "       [22759.93  ],\n",
       "       [25142.717 ],\n",
       "       [22115.984 ],\n",
       "       [ 8292.419 ],\n",
       "       [22047.545 ],\n",
       "       [25422.021 ],\n",
       "       [23491.031 ],\n",
       "       [23034.607 ],\n",
       "       [15558.272 ],\n",
       "       [26101.797 ],\n",
       "       [21214.463 ],\n",
       "       [20120.033 ],\n",
       "       [ 6945.7373],\n",
       "       [ 8172.7427],\n",
       "       [24505.238 ],\n",
       "       [21700.906 ],\n",
       "       [22298.82  ],\n",
       "       [26336.389 ],\n",
       "       [15636.668 ],\n",
       "       [16200.194 ],\n",
       "       [17064.38  ],\n",
       "       [19127.89  ],\n",
       "       [ 5475.781 ],\n",
       "       [16492.182 ],\n",
       "       [24237.957 ],\n",
       "       [15556.231 ],\n",
       "       [23852.75  ],\n",
       "       [23885.816 ],\n",
       "       [25462.104 ],\n",
       "       [20153.488 ],\n",
       "       [27930.672 ],\n",
       "       [25594.46  ],\n",
       "       [24890.564 ],\n",
       "       [24507.25  ],\n",
       "       [25491.707 ],\n",
       "       [23334.287 ],\n",
       "       [ 6055.0996],\n",
       "       [ 9134.132 ],\n",
       "       [22889.936 ],\n",
       "       [ 7848.7065],\n",
       "       [20020.506 ],\n",
       "       [ 9654.518 ],\n",
       "       [24255.346 ],\n",
       "       [26000.203 ],\n",
       "       [10461.433 ],\n",
       "       [ 9240.936 ],\n",
       "       [23785.896 ],\n",
       "       [22034.275 ],\n",
       "       [24880.867 ],\n",
       "       [25322.072 ],\n",
       "       [ 5242.4126],\n",
       "       [22500.78  ],\n",
       "       [27036.312 ],\n",
       "       [ 6680.8945],\n",
       "       [ 5746.2744],\n",
       "       [11857.371 ],\n",
       "       [20201.027 ],\n",
       "       [ 6130.595 ],\n",
       "       [20509.229 ],\n",
       "       [ 5805.5503],\n",
       "       [24499.393 ],\n",
       "       [15226.24  ],\n",
       "       [ 7044.607 ],\n",
       "       [26168.162 ],\n",
       "       [21072.205 ],\n",
       "       [26684.104 ],\n",
       "       [21796.71  ],\n",
       "       [17532.363 ],\n",
       "       [23884.006 ],\n",
       "       [26178.314 ],\n",
       "       [ 6743.982 ],\n",
       "       [ 5315.2637],\n",
       "       [ 7166.9624],\n",
       "       [ 6905.106 ],\n",
       "       [21334.656 ],\n",
       "       [22992.074 ],\n",
       "       [11204.399 ],\n",
       "       [ 5626.794 ],\n",
       "       [23568.68  ],\n",
       "       [ 6332.818 ],\n",
       "       [14531.485 ],\n",
       "       [ 9905.68  ],\n",
       "       [22443.346 ],\n",
       "       [23004.664 ],\n",
       "       [21687.559 ],\n",
       "       [24780.56  ],\n",
       "       [ 8454.71  ],\n",
       "       [24101.844 ],\n",
       "       [23542.324 ],\n",
       "       [24278.213 ],\n",
       "       [11821.627 ],\n",
       "       [ 8205.451 ],\n",
       "       [20406.86  ],\n",
       "       [18213.219 ],\n",
       "       [23178.627 ],\n",
       "       [25598.68  ],\n",
       "       [25259.543 ],\n",
       "       [24947.031 ],\n",
       "       [ 9695.651 ],\n",
       "       [23859.559 ],\n",
       "       [25271.658 ],\n",
       "       [26367.455 ],\n",
       "       [21764.586 ],\n",
       "       [25074.365 ],\n",
       "       [ 9777.488 ],\n",
       "       [21350.234 ],\n",
       "       [22809.174 ],\n",
       "       [ 7150.219 ],\n",
       "       [16881.73  ],\n",
       "       [24784.096 ],\n",
       "       [25691.592 ],\n",
       "       [21866.447 ],\n",
       "       [ 8344.985 ],\n",
       "       [22816.725 ],\n",
       "       [24433.648 ],\n",
       "       [12628.441 ],\n",
       "       [24503.02  ],\n",
       "       [ 7011.035 ],\n",
       "       [14955.58  ],\n",
       "       [24157.18  ],\n",
       "       [17319.748 ],\n",
       "       [16862.855 ],\n",
       "       [ 9916.77  ],\n",
       "       [24220.348 ],\n",
       "       [23251.049 ],\n",
       "       [22891.95  ],\n",
       "       [11510.244 ],\n",
       "       [ 9428.119 ],\n",
       "       [ 8063.414 ],\n",
       "       [26122.365 ],\n",
       "       [18862.656 ],\n",
       "       [25259.857 ],\n",
       "       [ 6279.1494],\n",
       "       [15949.582 ],\n",
       "       [20886.979 ],\n",
       "       [17812.07  ],\n",
       "       [ 7909.4097],\n",
       "       [22600.998 ],\n",
       "       [19487.162 ],\n",
       "       [18059.904 ],\n",
       "       [ 7301.4624],\n",
       "       [ 7696.7256],\n",
       "       [23997.107 ],\n",
       "       [14881.026 ],\n",
       "       [15001.393 ],\n",
       "       [24337.771 ],\n",
       "       [20691.342 ],\n",
       "       [ 5763.022 ],\n",
       "       [24271.3   ],\n",
       "       [10675.34  ],\n",
       "       [16380.581 ],\n",
       "       [23971.045 ],\n",
       "       [25223.014 ],\n",
       "       [22780.396 ],\n",
       "       [21147.63  ],\n",
       "       [21143.607 ],\n",
       "       [22679.557 ],\n",
       "       [20311.463 ],\n",
       "       [19507.242 ],\n",
       "       [ 6824.397 ],\n",
       "       [ 6027.2563],\n",
       "       [19678.262 ],\n",
       "       [22989.207 ],\n",
       "       [19522.684 ],\n",
       "       [22138.625 ],\n",
       "       [ 6909.807 ],\n",
       "       [15189.268 ],\n",
       "       [13227.252 ],\n",
       "       [ 8722.486 ],\n",
       "       [15325.019 ],\n",
       "       [23684.371 ],\n",
       "       [10961.376 ],\n",
       "       [28896.002 ],\n",
       "       [21006.557 ],\n",
       "       [13828.662 ],\n",
       "       [12250.577 ],\n",
       "       [18806.889 ],\n",
       "       [15966.341 ],\n",
       "       [22570.96  ],\n",
       "       [22581.902 ],\n",
       "       [23145.316 ],\n",
       "       [ 9433.894 ],\n",
       "       [23672.416 ],\n",
       "       [ 7008.5435],\n",
       "       [26159.547 ],\n",
       "       [25447.205 ],\n",
       "       [ 8294.191 ],\n",
       "       [28585.807 ],\n",
       "       [12847.452 ],\n",
       "       [22875.13  ],\n",
       "       [16396.662 ],\n",
       "       [ 7401.0645],\n",
       "       [12333.671 ],\n",
       "       [17124.48  ],\n",
       "       [11099.771 ],\n",
       "       [26389.434 ],\n",
       "       [ 5544.549 ],\n",
       "       [22837.492 ],\n",
       "       [25369.428 ],\n",
       "       [25636.27  ],\n",
       "       [25242.793 ],\n",
       "       [22626.    ],\n",
       "       [ 8608.987 ],\n",
       "       [20948.99  ],\n",
       "       [24282.633 ],\n",
       "       [14039.818 ],\n",
       "       [22010.736 ],\n",
       "       [14462.51  ],\n",
       "       [26615.63  ],\n",
       "       [19885.203 ],\n",
       "       [16144.549 ],\n",
       "       [26906.012 ],\n",
       "       [25841.547 ],\n",
       "       [21959.377 ],\n",
       "       [23422.031 ],\n",
       "       [21423.979 ],\n",
       "       [14773.327 ],\n",
       "       [25788.658 ],\n",
       "       [27044.453 ],\n",
       "       [22638.684 ],\n",
       "       [14370.17  ],\n",
       "       [ 5940.9272],\n",
       "       [23458.855 ],\n",
       "       [25330.    ],\n",
       "       [ 8707.761 ],\n",
       "       [24779.37  ],\n",
       "       [23877.295 ],\n",
       "       [20055.814 ],\n",
       "       [21848.143 ],\n",
       "       [25069.076 ],\n",
       "       [14121.586 ],\n",
       "       [ 5610.3184],\n",
       "       [20242.707 ],\n",
       "       [18043.68  ],\n",
       "       [11688.904 ],\n",
       "       [20124.385 ],\n",
       "       [ 7478.3237],\n",
       "       [21506.547 ]], dtype=float32)"
      ]
     },
     "execution_count": 79,
     "metadata": {},
     "output_type": "execute_result"
    }
   ],
   "source": [
    "y_preds_val"
   ]
  },
  {
   "cell_type": "code",
   "execution_count": 80,
   "metadata": {
    "ExecuteTime": {
     "end_time": "2020-04-03T14:22:04.288522Z",
     "start_time": "2020-04-03T14:22:04.256072Z"
    }
   },
   "outputs": [
    {
     "data": {
      "text/plain": [
       "(821, 7)"
      ]
     },
     "execution_count": 80,
     "metadata": {},
     "output_type": "execute_result"
    }
   ],
   "source": [
    "df_val.shape"
   ]
  },
  {
   "cell_type": "code",
   "execution_count": 81,
   "metadata": {
    "ExecuteTime": {
     "end_time": "2020-04-03T14:22:04.313476Z",
     "start_time": "2020-04-03T14:22:04.291085Z"
    }
   },
   "outputs": [
    {
     "data": {
      "text/plain": [
       "(821, 1)"
      ]
     },
     "execution_count": 81,
     "metadata": {},
     "output_type": "execute_result"
    }
   ],
   "source": [
    "y_preds_val.shape"
   ]
  },
  {
   "cell_type": "code",
   "execution_count": 82,
   "metadata": {
    "ExecuteTime": {
     "end_time": "2020-04-03T14:22:04.478932Z",
     "start_time": "2020-04-03T14:22:04.315385Z"
    }
   },
   "outputs": [
    {
     "name": "stderr",
     "output_type": "stream",
     "text": [
      "/home/ivan/pybr/projeto/venv/lib/python3.5/site-packages/ipykernel_launcher.py:1: SettingWithCopyWarning: \n",
      "A value is trying to be set on a copy of a slice from a DataFrame.\n",
      "Try using .loc[row_indexer,col_indexer] = value instead\n",
      "\n",
      "See the caveats in the documentation: http://pandas.pydata.org/pandas-docs/stable/indexing.html#indexing-view-versus-copy\n",
      "  \"\"\"Entry point for launching an IPython kernel.\n"
     ]
    }
   ],
   "source": [
    "df_val['preds'] = y_preds_val"
   ]
  },
  {
   "cell_type": "code",
   "execution_count": 84,
   "metadata": {
    "ExecuteTime": {
     "end_time": "2020-04-03T14:22:04.714632Z",
     "start_time": "2020-04-03T14:22:04.682933Z"
    }
   },
   "outputs": [
    {
     "data": {
      "text/html": [
       "<div>\n",
       "<style scoped>\n",
       "    .dataframe tbody tr th:only-of-type {\n",
       "        vertical-align: middle;\n",
       "    }\n",
       "\n",
       "    .dataframe tbody tr th {\n",
       "        vertical-align: top;\n",
       "    }\n",
       "\n",
       "    .dataframe thead th {\n",
       "        text-align: right;\n",
       "    }\n",
       "</style>\n",
       "<table border=\"1\" class=\"dataframe\">\n",
       "  <thead>\n",
       "    <tr style=\"text-align: right;\">\n",
       "      <th></th>\n",
       "      <th>id</th>\n",
       "      <th>pesobalanca</th>\n",
       "      <th>pesodeclarado</th>\n",
       "      <th>dif</th>\n",
       "      <th>filename</th>\n",
       "      <th>preds</th>\n",
       "      <th>dif_pred</th>\n",
       "    </tr>\n",
       "  </thead>\n",
       "  <tbody>\n",
       "    <tr>\n",
       "      <th>0</th>\n",
       "      <td>5e5d096a3d0ec8337863f799</td>\n",
       "      <td>7170</td>\n",
       "      <td>7167</td>\n",
       "      <td>3</td>\n",
       "      <td>5e5d096a3d0ec8337863f799.jpg</td>\n",
       "      <td>6538.670410</td>\n",
       "      <td>878.515137</td>\n",
       "    </tr>\n",
       "    <tr>\n",
       "      <th>14</th>\n",
       "      <td>5e5d09703d0ec8337863f9fe</td>\n",
       "      <td>11680</td>\n",
       "      <td>11705</td>\n",
       "      <td>25</td>\n",
       "      <td>5e5d09703d0ec8337863f9fe.jpg</td>\n",
       "      <td>13871.250000</td>\n",
       "      <td>2084.910156</td>\n",
       "    </tr>\n",
       "    <tr>\n",
       "      <th>23</th>\n",
       "      <td>5e5d09693d0ec8337863f703</td>\n",
       "      <td>24260</td>\n",
       "      <td>24156</td>\n",
       "      <td>104</td>\n",
       "      <td>5e5d09693d0ec8337863f703.jpg</td>\n",
       "      <td>21020.833984</td>\n",
       "      <td>3429.355469</td>\n",
       "    </tr>\n",
       "    <tr>\n",
       "      <th>47</th>\n",
       "      <td>5e5d096c3d0ec8337863f805</td>\n",
       "      <td>25740</td>\n",
       "      <td>25825</td>\n",
       "      <td>85</td>\n",
       "      <td>5e5d096c3d0ec8337863f805.jpg</td>\n",
       "      <td>25824.308594</td>\n",
       "      <td>119.167969</td>\n",
       "    </tr>\n",
       "    <tr>\n",
       "      <th>59</th>\n",
       "      <td>5e5d096c3d0ec8337863f809</td>\n",
       "      <td>12470</td>\n",
       "      <td>12563</td>\n",
       "      <td>93</td>\n",
       "      <td>5e5d096c3d0ec8337863f809.jpg</td>\n",
       "      <td>25157.841797</td>\n",
       "      <td>11524.681641</td>\n",
       "    </tr>\n",
       "  </tbody>\n",
       "</table>\n",
       "</div>"
      ],
      "text/plain": [
       "                          id  pesobalanca  pesodeclarado  dif  \\\n",
       "0   5e5d096a3d0ec8337863f799         7170           7167    3   \n",
       "14  5e5d09703d0ec8337863f9fe        11680          11705   25   \n",
       "23  5e5d09693d0ec8337863f703        24260          24156  104   \n",
       "47  5e5d096c3d0ec8337863f805        25740          25825   85   \n",
       "59  5e5d096c3d0ec8337863f809        12470          12563   93   \n",
       "\n",
       "                        filename         preds      dif_pred  \n",
       "0   5e5d096a3d0ec8337863f799.jpg   6538.670410    878.515137  \n",
       "14  5e5d09703d0ec8337863f9fe.jpg  13871.250000   2084.910156  \n",
       "23  5e5d09693d0ec8337863f703.jpg  21020.833984   3429.355469  \n",
       "47  5e5d096c3d0ec8337863f805.jpg  25824.308594    119.167969  \n",
       "59  5e5d096c3d0ec8337863f809.jpg  25157.841797  11524.681641  "
      ]
     },
     "execution_count": 84,
     "metadata": {},
     "output_type": "execute_result"
    }
   ],
   "source": [
    "df_val.head()"
   ]
  },
  {
   "cell_type": "code",
   "execution_count": 85,
   "metadata": {
    "ExecuteTime": {
     "end_time": "2020-04-03T14:22:04.870264Z",
     "start_time": "2020-04-03T14:22:04.717139Z"
    }
   },
   "outputs": [
    {
     "name": "stderr",
     "output_type": "stream",
     "text": [
      "/home/ivan/pybr/projeto/venv/lib/python3.5/site-packages/ipykernel_launcher.py:1: SettingWithCopyWarning: \n",
      "A value is trying to be set on a copy of a slice from a DataFrame.\n",
      "Try using .loc[row_indexer,col_indexer] = value instead\n",
      "\n",
      "See the caveats in the documentation: http://pandas.pydata.org/pandas-docs/stable/indexing.html#indexing-view-versus-copy\n",
      "  \"\"\"Entry point for launching an IPython kernel.\n"
     ]
    }
   ],
   "source": [
    "df_val['dif_pred'] = abs(df_val['pesobalanca'] - df_val['preds'])"
   ]
  },
  {
   "cell_type": "code",
   "execution_count": 86,
   "metadata": {
    "ExecuteTime": {
     "end_time": "2020-04-03T14:22:05.235614Z",
     "start_time": "2020-04-03T14:22:04.873280Z"
    }
   },
   "outputs": [
    {
     "data": {
      "text/html": [
       "<div>\n",
       "<style scoped>\n",
       "    .dataframe tbody tr th:only-of-type {\n",
       "        vertical-align: middle;\n",
       "    }\n",
       "\n",
       "    .dataframe tbody tr th {\n",
       "        vertical-align: top;\n",
       "    }\n",
       "\n",
       "    .dataframe thead th {\n",
       "        text-align: right;\n",
       "    }\n",
       "</style>\n",
       "<table border=\"1\" class=\"dataframe\">\n",
       "  <thead>\n",
       "    <tr style=\"text-align: right;\">\n",
       "      <th></th>\n",
       "      <th>pesobalanca</th>\n",
       "      <th>pesodeclarado</th>\n",
       "      <th>dif</th>\n",
       "      <th>preds</th>\n",
       "      <th>dif_pred</th>\n",
       "    </tr>\n",
       "  </thead>\n",
       "  <tbody>\n",
       "    <tr>\n",
       "      <th>count</th>\n",
       "      <td>821.000000</td>\n",
       "      <td>821.000000</td>\n",
       "      <td>821.000000</td>\n",
       "      <td>821.000000</td>\n",
       "      <td>821.000000</td>\n",
       "    </tr>\n",
       "    <tr>\n",
       "      <th>mean</th>\n",
       "      <td>18672.019488</td>\n",
       "      <td>18689.483557</td>\n",
       "      <td>198.855055</td>\n",
       "      <td>18566.238281</td>\n",
       "      <td>3560.715656</td>\n",
       "    </tr>\n",
       "    <tr>\n",
       "      <th>std</th>\n",
       "      <td>8003.655553</td>\n",
       "      <td>7984.234718</td>\n",
       "      <td>194.378396</td>\n",
       "      <td>6607.412598</td>\n",
       "      <td>3308.199097</td>\n",
       "    </tr>\n",
       "    <tr>\n",
       "      <th>min</th>\n",
       "      <td>2210.000000</td>\n",
       "      <td>2527.000000</td>\n",
       "      <td>0.000000</td>\n",
       "      <td>5242.412598</td>\n",
       "      <td>1.658203</td>\n",
       "    </tr>\n",
       "    <tr>\n",
       "      <th>25%</th>\n",
       "      <td>11260.000000</td>\n",
       "      <td>11436.000000</td>\n",
       "      <td>56.000000</td>\n",
       "      <td>13366.061523</td>\n",
       "      <td>1102.654297</td>\n",
       "    </tr>\n",
       "    <tr>\n",
       "      <th>50%</th>\n",
       "      <td>20070.000000</td>\n",
       "      <td>19961.000000</td>\n",
       "      <td>133.000000</td>\n",
       "      <td>20425.548828</td>\n",
       "      <td>2646.953125</td>\n",
       "    </tr>\n",
       "    <tr>\n",
       "      <th>75%</th>\n",
       "      <td>25080.000000</td>\n",
       "      <td>25108.000000</td>\n",
       "      <td>280.000000</td>\n",
       "      <td>23933.589844</td>\n",
       "      <td>4899.012695</td>\n",
       "    </tr>\n",
       "    <tr>\n",
       "      <th>max</th>\n",
       "      <td>33720.000000</td>\n",
       "      <td>33840.000000</td>\n",
       "      <td>954.000000</td>\n",
       "      <td>29755.142578</td>\n",
       "      <td>23745.451172</td>\n",
       "    </tr>\n",
       "  </tbody>\n",
       "</table>\n",
       "</div>"
      ],
      "text/plain": [
       "        pesobalanca  pesodeclarado         dif         preds      dif_pred\n",
       "count    821.000000     821.000000  821.000000    821.000000    821.000000\n",
       "mean   18672.019488   18689.483557  198.855055  18566.238281   3560.715656\n",
       "std     8003.655553    7984.234718  194.378396   6607.412598   3308.199097\n",
       "min     2210.000000    2527.000000    0.000000   5242.412598      1.658203\n",
       "25%    11260.000000   11436.000000   56.000000  13366.061523   1102.654297\n",
       "50%    20070.000000   19961.000000  133.000000  20425.548828   2646.953125\n",
       "75%    25080.000000   25108.000000  280.000000  23933.589844   4899.012695\n",
       "max    33720.000000   33840.000000  954.000000  29755.142578  23745.451172"
      ]
     },
     "execution_count": 86,
     "metadata": {},
     "output_type": "execute_result"
    }
   ],
   "source": [
    "df_val.describe()"
   ]
  },
  {
   "cell_type": "code",
   "execution_count": 87,
   "metadata": {
    "ExecuteTime": {
     "end_time": "2020-04-03T14:22:05.257066Z",
     "start_time": "2020-04-03T14:22:05.242870Z"
    }
   },
   "outputs": [
    {
     "data": {
      "text/plain": [
       "array([183, 153, 103, 114, 268])"
      ]
     },
     "execution_count": 87,
     "metadata": {},
     "output_type": "execute_result"
    }
   ],
   "source": [
    "np.bincount(pd.np.digitize(df_val['dif_pred'], bins = [1000, 2000, 3000, 4000, 24000]))"
   ]
  },
  {
   "cell_type": "code",
   "execution_count": 88,
   "metadata": {
    "ExecuteTime": {
     "end_time": "2020-04-03T14:22:05.274258Z",
     "start_time": "2020-04-03T14:22:05.263316Z"
    }
   },
   "outputs": [
    {
     "data": {
      "text/plain": [
       "268"
      ]
     },
     "execution_count": 88,
     "metadata": {},
     "output_type": "execute_result"
    }
   ],
   "source": [
    "sum(df_val.dif_pred > 4000)"
   ]
  },
  {
   "cell_type": "code",
   "execution_count": 89,
   "metadata": {
    "ExecuteTime": {
     "end_time": "2020-04-03T14:22:05.443887Z",
     "start_time": "2020-04-03T14:22:05.280797Z"
    }
   },
   "outputs": [
    {
     "name": "stderr",
     "output_type": "stream",
     "text": [
      "/home/ivan/pybr/projeto/venv/lib/python3.5/site-packages/ipykernel_launcher.py:1: SettingWithCopyWarning: \n",
      "A value is trying to be set on a copy of a slice from a DataFrame.\n",
      "Try using .loc[row_indexer,col_indexer] = value instead\n",
      "\n",
      "See the caveats in the documentation: http://pandas.pydata.org/pandas-docs/stable/indexing.html#indexing-view-versus-copy\n",
      "  \"\"\"Entry point for launching an IPython kernel.\n"
     ]
    }
   ],
   "source": [
    "df_train['preds'] = y_preds_train"
   ]
  },
  {
   "cell_type": "code",
   "execution_count": 90,
   "metadata": {
    "ExecuteTime": {
     "end_time": "2020-04-03T14:22:05.692414Z",
     "start_time": "2020-04-03T14:22:05.445812Z"
    }
   },
   "outputs": [
    {
     "name": "stderr",
     "output_type": "stream",
     "text": [
      "/home/ivan/pybr/projeto/venv/lib/python3.5/site-packages/ipykernel_launcher.py:1: SettingWithCopyWarning: \n",
      "A value is trying to be set on a copy of a slice from a DataFrame.\n",
      "Try using .loc[row_indexer,col_indexer] = value instead\n",
      "\n",
      "See the caveats in the documentation: http://pandas.pydata.org/pandas-docs/stable/indexing.html#indexing-view-versus-copy\n",
      "  \"\"\"Entry point for launching an IPython kernel.\n"
     ]
    }
   ],
   "source": [
    "df_train['dif_pred'] = abs(df_train['pesobalanca'] - df_train['preds'])"
   ]
  },
  {
   "cell_type": "code",
   "execution_count": 91,
   "metadata": {
    "ExecuteTime": {
     "end_time": "2020-04-03T14:22:05.752887Z",
     "start_time": "2020-04-03T14:22:05.693792Z"
    }
   },
   "outputs": [
    {
     "data": {
      "text/html": [
       "<div>\n",
       "<style scoped>\n",
       "    .dataframe tbody tr th:only-of-type {\n",
       "        vertical-align: middle;\n",
       "    }\n",
       "\n",
       "    .dataframe tbody tr th {\n",
       "        vertical-align: top;\n",
       "    }\n",
       "\n",
       "    .dataframe thead th {\n",
       "        text-align: right;\n",
       "    }\n",
       "</style>\n",
       "<table border=\"1\" class=\"dataframe\">\n",
       "  <thead>\n",
       "    <tr style=\"text-align: right;\">\n",
       "      <th></th>\n",
       "      <th>pesobalanca</th>\n",
       "      <th>pesodeclarado</th>\n",
       "      <th>dif</th>\n",
       "      <th>preds</th>\n",
       "      <th>dif_pred</th>\n",
       "    </tr>\n",
       "  </thead>\n",
       "  <tbody>\n",
       "    <tr>\n",
       "      <th>count</th>\n",
       "      <td>7283.000000</td>\n",
       "      <td>7283.000000</td>\n",
       "      <td>7283.000000</td>\n",
       "      <td>7283.000000</td>\n",
       "      <td>7283.000000</td>\n",
       "    </tr>\n",
       "    <tr>\n",
       "      <th>mean</th>\n",
       "      <td>18788.154469</td>\n",
       "      <td>18813.464232</td>\n",
       "      <td>216.550460</td>\n",
       "      <td>18516.132812</td>\n",
       "      <td>3246.304222</td>\n",
       "    </tr>\n",
       "    <tr>\n",
       "      <th>std</th>\n",
       "      <td>7986.566802</td>\n",
       "      <td>7964.783981</td>\n",
       "      <td>209.536006</td>\n",
       "      <td>6645.578613</td>\n",
       "      <td>3002.994304</td>\n",
       "    </tr>\n",
       "    <tr>\n",
       "      <th>min</th>\n",
       "      <td>2370.000000</td>\n",
       "      <td>2211.000000</td>\n",
       "      <td>0.000000</td>\n",
       "      <td>3793.148682</td>\n",
       "      <td>0.507812</td>\n",
       "    </tr>\n",
       "    <tr>\n",
       "      <th>25%</th>\n",
       "      <td>11590.000000</td>\n",
       "      <td>11592.000000</td>\n",
       "      <td>62.000000</td>\n",
       "      <td>12535.391602</td>\n",
       "      <td>1022.928223</td>\n",
       "    </tr>\n",
       "    <tr>\n",
       "      <th>50%</th>\n",
       "      <td>19870.000000</td>\n",
       "      <td>19850.000000</td>\n",
       "      <td>143.000000</td>\n",
       "      <td>20746.548828</td>\n",
       "      <td>2444.554688</td>\n",
       "    </tr>\n",
       "    <tr>\n",
       "      <th>75%</th>\n",
       "      <td>25400.000000</td>\n",
       "      <td>25452.000000</td>\n",
       "      <td>308.000000</td>\n",
       "      <td>24080.070312</td>\n",
       "      <td>4481.205566</td>\n",
       "    </tr>\n",
       "    <tr>\n",
       "      <th>max</th>\n",
       "      <td>34500.000000</td>\n",
       "      <td>33972.000000</td>\n",
       "      <td>999.000000</td>\n",
       "      <td>30071.160156</td>\n",
       "      <td>25037.117676</td>\n",
       "    </tr>\n",
       "  </tbody>\n",
       "</table>\n",
       "</div>"
      ],
      "text/plain": [
       "        pesobalanca  pesodeclarado          dif         preds      dif_pred\n",
       "count   7283.000000    7283.000000  7283.000000   7283.000000   7283.000000\n",
       "mean   18788.154469   18813.464232   216.550460  18516.132812   3246.304222\n",
       "std     7986.566802    7964.783981   209.536006   6645.578613   3002.994304\n",
       "min     2370.000000    2211.000000     0.000000   3793.148682      0.507812\n",
       "25%    11590.000000   11592.000000    62.000000  12535.391602   1022.928223\n",
       "50%    19870.000000   19850.000000   143.000000  20746.548828   2444.554688\n",
       "75%    25400.000000   25452.000000   308.000000  24080.070312   4481.205566\n",
       "max    34500.000000   33972.000000   999.000000  30071.160156  25037.117676"
      ]
     },
     "execution_count": 91,
     "metadata": {},
     "output_type": "execute_result"
    }
   ],
   "source": [
    "df_train.describe()"
   ]
  },
  {
   "cell_type": "code",
   "execution_count": 59,
   "metadata": {
    "ExecuteTime": {
     "end_time": "2020-04-03T13:04:47.978318Z",
     "start_time": "2020-04-03T13:04:47.973832Z"
    }
   },
   "outputs": [
    {
     "data": {
      "text/plain": [
       "array([1768, 1360, 1093,  874, 2187,    1])"
      ]
     },
     "execution_count": 59,
     "metadata": {},
     "output_type": "execute_result"
    }
   ],
   "source": [
    "np.bincount(pd.np.digitize(df_train['dif_pred'], bins = [1000, 2000, 3000, 4000, 24000]))"
   ]
  },
  {
   "cell_type": "code",
   "execution_count": 107,
   "metadata": {
    "ExecuteTime": {
     "end_time": "2020-04-03T14:32:45.443517Z",
     "start_time": "2020-04-03T14:32:45.196019Z"
    }
   },
   "outputs": [
    {
     "data": {
      "text/plain": [
       "[<matplotlib.lines.Line2D at 0x7f92ac122780>]"
      ]
     },
     "execution_count": 107,
     "metadata": {},
     "output_type": "execute_result"
    },
    {
     "data": {
      "image/png": "[encoded data removed]",
      "text/plain": [
       "<Figure size 432x288 with 1 Axes>"
      ]
     },
     "metadata": {
      "needs_background": "light"
     },
     "output_type": "display_data"
    }
   ],
   "source": [
    "df_sorted = df_train.sort_values(by='pesobalanca')\n",
    "x = range(len(df_sorted))\n",
    "plt.scatter(x=x, y=list(df_sorted.preds))\n",
    "plt.plot(list(df_sorted.pesobalanca), color='r')\n"
   ]
  },
  {
   "cell_type": "code",
   "execution_count": 108,
   "metadata": {
    "ExecuteTime": {
     "end_time": "2020-04-03T14:33:38.242924Z",
     "start_time": "2020-04-03T14:33:38.044456Z"
    }
   },
   "outputs": [
    {
     "data": {
      "text/plain": [
       "[<matplotlib.lines.Line2D at 0x7f92ac1577b8>]"
      ]
     },
     "execution_count": 108,
     "metadata": {},
     "output_type": "execute_result"
    },
    {
     "data": {
      "image/png": "[encoded data removed]",
      "text/plain": [
       "<Figure size 432x288 with 1 Axes>"
      ]
     },
     "metadata": {
      "needs_background": "light"
     },
     "output_type": "display_data"
    }
   ],
   "source": [
    "df_sorted = df_val.sort_values(by='pesobalanca')\n",
    "x = range(len(df_sorted))\n",
    "plt.scatter(x=x, y=list(df_sorted.preds))\n",
    "plt.plot(list(df_sorted.pesobalanca), color='r')"
   ]
  },
  {
   "cell_type": "markdown",
   "metadata": {},
   "source": [
    "Os gráficos sugerem que os maiores erros estão nas cargas com peso de balança menor que 10.000 ou maiores que 30.000.\n",
    "\n",
    "Isto parece explicitar erros ou fraudes na base. Assim, seria interessante rodar novamente eliminando exemplos em que o erro esteja muito alto ou o peso esteja muito alto ou muito baixo."
   ]
  },
  {
   "cell_type": "code",
   "execution_count": 144,
   "metadata": {
    "ExecuteTime": {
     "end_time": "2020-04-03T16:21:32.047209Z",
     "start_time": "2020-04-03T16:21:32.041554Z"
    }
   },
   "outputs": [
    {
     "data": {
      "text/plain": [
       "(8104, 7)"
      ]
     },
     "execution_count": 144,
     "metadata": {},
     "output_type": "execute_result"
    }
   ],
   "source": [
    "df_final = pd.concat((df_train, df_val))\n",
    "df_final.shape"
   ]
  },
  {
   "cell_type": "code",
   "execution_count": 146,
   "metadata": {
    "ExecuteTime": {
     "end_time": "2020-04-03T16:21:38.598689Z",
     "start_time": "2020-04-03T16:21:38.591729Z"
    }
   },
   "outputs": [
    {
     "data": {
      "text/plain": [
       "(6652, 7)"
      ]
     },
     "execution_count": 146,
     "metadata": {},
     "output_type": "execute_result"
    }
   ],
   "source": [
    "df_final_filtered = df_final[\n",
    "    (df_final.pesobalanca > 1000) &\n",
    "    (df_final.pesobalanca < 30000) &\n",
    "    (df_final.dif_pred < 6000)]\n",
    "\n",
    "df_final_filtered.shape"
   ]
  },
  {
   "cell_type": "code",
   "execution_count": 148,
   "metadata": {
    "ExecuteTime": {
     "end_time": "2020-04-03T17:36:26.297497Z",
     "start_time": "2020-04-03T17:36:26.285314Z"
    }
   },
   "outputs": [],
   "source": [
    "df_final_filtered.to_pickle('df_final_filtered_pesagensbalanca.pkl')"
   ]
  },
  {
   "cell_type": "code",
   "execution_count": 133,
   "metadata": {
    "ExecuteTime": {
     "end_time": "2020-04-03T16:19:51.900673Z",
     "start_time": "2020-04-03T16:19:51.892668Z"
    }
   },
   "outputs": [
    {
     "data": {
      "text/plain": [
       "(8104, 7)"
      ]
     },
     "execution_count": 133,
     "metadata": {},
     "output_type": "execute_result"
    }
   ],
   "source": []
  },
  {
   "cell_type": "code",
   "execution_count": 134,
   "metadata": {
    "ExecuteTime": {
     "end_time": "2020-04-03T16:19:52.388062Z",
     "start_time": "2020-04-03T16:19:52.379373Z"
    }
   },
   "outputs": [
    {
     "data": {
      "text/plain": [
       "(2086, 7)"
      ]
     },
     "execution_count": 134,
     "metadata": {},
     "output_type": "execute_result"
    }
   ],
   "source": []
  },
  {
   "cell_type": "code",
   "execution_count": null,
   "metadata": {},
   "outputs": [],
   "source": []
  }
 ],
 "metadata": {
  "kernelspec": {
   "display_name": "venv_gym2",
   "language": "python",
   "name": "venv_gym2"
  },
  "language_info": {
   "codemirror_mode": {
    "name": "ipython",
    "version": 3
   },
   "file_extension": ".py",
   "mimetype": "text/x-python",
   "name": "python",
   "nbconvert_exporter": "python",
   "pygments_lexer": "ipython3",
   "version": "3.5.2"
  }
 },
 "nbformat": 4,
 "nbformat_minor": 2
}
