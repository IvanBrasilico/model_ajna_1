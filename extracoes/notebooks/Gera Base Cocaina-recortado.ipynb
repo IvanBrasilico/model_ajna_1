{
 "cells": [
  {
   "cell_type": "code",
   "execution_count": 1,
   "metadata": {
    "ExecuteTime": {
     "end_time": "2020-03-25T12:07:38.622847Z",
     "start_time": "2020-03-25T12:07:38.426268Z"
    }
   },
   "outputs": [],
   "source": [
    "import os\n",
    "import shutil\n",
    "import sys\n",
    "import time\n",
    "from PIL import Image\n",
    "from datetime import date, datetime, timedelta\n",
    "\n",
    "\n",
    "sys.path.insert(0, '..')\n",
    "from utils import mongodb"
   ]
  },
  {
   "cell_type": "code",
   "execution_count": 2,
   "metadata": {
    "ExecuteTime": {
     "end_time": "2020-03-25T12:07:39.061309Z",
     "start_time": "2020-03-25T12:07:39.041661Z"
    }
   },
   "outputs": [],
   "source": [
    "from cocaina import cursor_cocaina, extract_to"
   ]
  },
  {
   "cell_type": "markdown",
   "metadata": {},
   "source": [
    "## Generate cocaina database\n",
    "\n",
    "#### Necessário acesso ao Servidor ajna.labin.rf08.srf (e habilitação no AJNA) ou acesso ao Servidor mongo.labin.rf08.srf (e senha do banco)"
   ]
  },
  {
   "cell_type": "code",
   "execution_count": 3,
   "metadata": {
    "ExecuteTime": {
     "end_time": "2020-03-25T12:07:40.304667Z",
     "start_time": "2020-03-25T12:07:40.300915Z"
    }
   },
   "outputs": [],
   "source": [
    "# if os.path.exists('cocaina'):\n",
    "#    shutil.rmtree('cocaina')"
   ]
  },
  {
   "cell_type": "code",
   "execution_count": 4,
   "metadata": {
    "ExecuteTime": {
     "end_time": "2020-03-25T12:08:00.514021Z",
     "start_time": "2020-03-25T12:07:40.868185Z"
    }
   },
   "outputs": [
    {
     "name": "stdout",
     "output_type": "stream",
     "text": [
      "{'metadata.tags.tag': {'$eq': '1'}, 'metadata.contentType': 'image/jpeg', 'metadata.dataescaneamento': {'$lt': datetime.datetime(2020, 3, 25, 9, 7, 40, 875706), '$gte': datetime.datetime(2016, 1, 1, 0, 0)}}\n",
      "0 cocaina/COCAINA\n",
      "1 cocaina/COCAINA\n",
      "2 cocaina/COCAINA\n",
      "3 cocaina/COCAINA\n",
      "4 cocaina/COCAINA\n",
      "5 cocaina/COCAINA\n",
      "6 cocaina/COCAINA\n",
      "7 cocaina/COCAINA\n",
      "8 cocaina/COCAINA\n",
      "9 cocaina/COCAINA\n",
      "10 cocaina/COCAINA\n",
      "11 cocaina/COCAINA\n",
      "12 cocaina/COCAINA\n",
      "13 cocaina/COCAINA\n",
      "14 cocaina/COCAINA\n",
      "15 cocaina/COCAINA\n",
      "(600, 386)  - abortando...\n",
      "17 cocaina/COCAINA\n",
      "18 cocaina/COCAINA\n",
      "19 cocaina/COCAINA\n",
      "20 cocaina/COCAINA\n",
      "21 cocaina/COCAINA\n",
      "22 cocaina/COCAINA\n",
      "23 cocaina/COCAINA\n",
      "24 cocaina/COCAINA\n",
      "25 cocaina/COCAINA\n",
      "26 cocaina/COCAINA\n",
      "27 cocaina/COCAINA\n",
      "(600, 351)  - abortando...\n",
      "29 cocaina/COCAINA\n",
      "(600, 376)  - abortando...\n",
      "31 cocaina/COCAINA\n",
      "32 cocaina/COCAINA\n",
      "33 cocaina/COCAINA\n",
      "34 cocaina/COCAINA\n",
      "35 cocaina/COCAINA\n",
      "36 cocaina/COCAINA\n",
      "37 cocaina/COCAINA\n",
      "38 cocaina/COCAINA\n",
      "39 cocaina/COCAINA\n",
      "40 cocaina/COCAINA\n",
      "41 cocaina/COCAINA\n",
      "(2063, 1216)  - abortando...\n",
      "43 cocaina/COCAINA\n",
      "(1917, 1216)  - abortando...\n",
      "45 cocaina/COCAINA\n",
      "46 cocaina/COCAINA\n",
      "47 cocaina/COCAINA\n",
      "48 cocaina/COCAINA\n",
      "49 cocaina/COCAINA\n",
      "50 cocaina/COCAINA\n",
      "51 cocaina/COCAINA\n",
      "(600, 352)  - abortando...\n",
      "53 cocaina/COCAINA\n",
      "54 cocaina/COCAINA\n",
      "(1748, 1216)  - abortando...\n",
      "56 cocaina/COCAINA\n",
      "57 cocaina/COCAINA\n",
      "58 cocaina/COCAINA\n",
      "(2079, 1216)  - abortando...\n",
      "60 cocaina/COCAINA\n",
      "61 cocaina/COCAINA\n",
      "62 cocaina/COCAINA\n",
      "(1991, 1216)  - abortando...\n",
      "64 cocaina/COCAINA\n",
      "(1639, 1216)  - abortando...\n",
      "66 cocaina/COCAINA\n",
      "67 cocaina/COCAINA\n",
      "68 cocaina/COCAINA\n",
      "(1984, 1216)  - abortando...\n",
      "70 cocaina/COCAINA\n",
      "71 cocaina/COCAINA\n",
      "72 cocaina/COCAINA\n",
      "73 cocaina/COCAINA\n",
      "74 cocaina/COCAINA\n",
      "75 cocaina/COCAINA\n",
      "76 cocaina/COCAINA\n",
      "77 cocaina/COCAINA\n",
      "78 cocaina/COCAINA\n",
      "79 cocaina/COCAINA\n",
      "80 cocaina/COCAINA\n",
      "81 cocaina/COCAINA\n",
      "82 cocaina/COCAINA\n",
      "83 cocaina/COCAINA\n",
      "84 cocaina/COCAINA\n",
      "85 cocaina/COCAINA\n",
      "86 cocaina/COCAINA\n",
      "87 cocaina/COCAINA\n",
      "88 cocaina/COCAINA\n",
      "(1874, 1216)  - abortando...\n",
      "(2084, 1216)  - abortando...\n",
      "(2040, 1216)  - abortando...\n",
      "92 cocaina/COCAINA\n",
      "93 cocaina/COCAINA\n",
      "94 cocaina/COCAINA\n",
      "95 cocaina/COCAINA\n",
      "96 cocaina/COCAINA\n",
      "97 cocaina/COCAINA\n",
      "98 cocaina/COCAINA\n",
      "99 cocaina/COCAINA\n",
      "100 cocaina/COCAINA\n",
      "101 cocaina/COCAINA\n",
      "102 cocaina/COCAINA\n",
      "103 cocaina/COCAINA\n",
      "(1624, 1216)  - abortando...\n",
      "(2160, 1216)  - abortando...\n",
      "106 cocaina/COCAINA\n",
      "107 cocaina/COCAINA\n",
      "108 cocaina/COCAINA\n",
      "109 cocaina/COCAINA\n",
      "110 cocaina/COCAINA\n",
      "111 cocaina/COCAINA\n",
      "112 cocaina/COCAINA\n",
      "113 cocaina/COCAINA\n",
      "114 cocaina/COCAINA\n",
      "115 cocaina/COCAINA\n",
      "116 cocaina/COCAINA\n",
      "117 cocaina/COCAINA\n",
      "118 cocaina/COCAINA\n",
      "119 cocaina/COCAINA\n",
      "(1791, 1216)  - abortando...\n",
      "121 cocaina/COCAINA\n",
      "(1755, 1216)  - abortando...\n",
      "123 cocaina/COCAINA\n",
      "(1791, 1216)  - abortando...\n",
      "125 cocaina/COCAINA\n",
      "(2098, 1216)  - abortando...\n",
      "(592, 400)  - abortando...\n",
      "128 cocaina/COCAINA\n",
      "129 cocaina/COCAINA\n",
      "130 cocaina/COCAINA\n",
      "(459, 400)  - abortando...\n",
      "132 cocaina/COCAINA\n",
      "133 cocaina/COCAINA\n",
      "134 cocaina/COCAINA\n",
      "135 cocaina/COCAINA\n",
      "136 cocaina/COCAINA\n",
      "137 cocaina/COCAINA\n",
      "138 cocaina/COCAINA\n",
      "139 cocaina/COCAINA\n",
      "140 cocaina/COCAINA\n",
      "141 cocaina/COCAINA\n",
      "(575, 400)  - abortando...\n",
      "143 cocaina/COCAINA\n",
      "144 cocaina/COCAINA\n",
      "145 cocaina/COCAINA\n",
      "146 cocaina/COCAINA\n",
      "147 cocaina/COCAINA\n",
      "148 cocaina/COCAINA\n",
      "149 cocaina/COCAINA\n",
      "(1611, 1216)  - abortando...\n",
      "151 cocaina/COCAINA\n",
      "152 cocaina/COCAINA\n",
      "153 cocaina/COCAINA\n",
      "154 cocaina/COCAINA\n",
      "155 cocaina/COCAINA\n",
      "156 cocaina/COCAINA\n",
      "157 cocaina/COCAINA\n",
      "158 cocaina/COCAINA\n",
      "159 cocaina/COCAINA\n",
      "(582, 400)  - abortando...\n",
      "161 cocaina/COCAINA\n",
      "162 cocaina/COCAINA\n",
      "163 cocaina/COCAINA\n",
      "164 cocaina/COCAINA\n",
      "165 cocaina/COCAINA\n",
      "(1435, 1216)  - abortando...\n",
      "167 cocaina/COCAINA\n",
      "168 cocaina/COCAINA\n",
      "169 cocaina/COCAINA\n",
      "170 cocaina/COCAINA\n",
      "{'metadata.contentType': 'image/jpeg', '$or': [{'metadata.tags.tag': {'$exists': False}}, {'metadata.tags.tag': {'$ne': '1'}}], 'metadata.carga.conhecimento.conhecimento': '151707130574300'}\n",
      "170 cocaina/SEMCOCAINA\n",
      "171 cocaina/COCAINA\n",
      "{'metadata.contentType': 'image/jpeg', '$or': [{'metadata.tags.tag': {'$exists': False}}, {'metadata.tags.tag': {'$ne': '1'}}], 'metadata.carga.conhecimento.conhecimento': '151707131654889'}\n",
      "171 cocaina/SEMCOCAINA\n",
      "172 cocaina/COCAINA\n",
      "{'metadata.contentType': 'image/jpeg', '$or': [{'metadata.tags.tag': {'$exists': False}}, {'metadata.tags.tag': {'$ne': '1'}}], 'metadata.carga.conhecimento.conhecimento': '151707128609134'}\n",
      "{'metadata.carga.ncm.ncm': {'$eq': {'ncm': '4009', 'descricao': 'tubos de borracha vulcanizada nao endurecida, mesmo providos dos respectivos acessorios (por exemplo, juntas, cotovelos, flanges, unioes).', 'item': '0002', '_id': ObjectId('5c5349a11004b33a1643505f'), 'conhecimento': '151707128609134'}}, 'metadata.contentType': 'image/jpeg', '$or': [{'metadata.tags.tag': {'$exists': False}}, {'metadata.tags.tag': {'$ne': '1'}}], 'metadata.dataescaneamento': {'$lt': datetime.datetime(2020, 3, 25, 9, 7, 40, 875706), '$gte': datetime.datetime(2016, 1, 1, 0, 0)}}\n",
      "19.64 segundos para processar 172 registros\n"
     ]
    }
   ],
   "source": [
    "start = datetime(2016, 1, 1)\n",
    "end = datetime.today()\n",
    "limit = 500\n",
    "s0 = time.time()\n",
    "cursor = cursor_cocaina(mongodb, start, end, limit, crop=False)\n",
    "count = extract_to(mongodb, 'cocaina', cursor, start, end)\n",
    "s1 = time.time()\n",
    "print('{:0.2f} segundos para processar {:d} registros'.format((s1 - s0), count))\n"
   ]
  },
  {
   "cell_type": "markdown",
   "metadata": {},
   "source": [
    "### Exportar pré processadas para visualização e cópia\n",
    "\n",
    "#### Esta parte é para gerar arquivos em tamanho menor, possibilitando a cópia e compartilhamento (PenDrive, GoogleDrive, ReceitaDrive)"
   ]
  },
  {
   "cell_type": "code",
   "execution_count": null,
   "metadata": {
    "ExecuteTime": {
     "end_time": "2020-03-20T01:44:04.822180Z",
     "start_time": "2020-03-20T01:44:04.759699Z"
    }
   },
   "outputs": [],
   "source": [
    "if not os.path.exists('transformed_cocaina'):\n",
    "    os.mkdir('transformed_cocaina')\n",
    "    os.mkdir('transformed_cocaina/COCAINA')\n",
    "    os.mkdir('transformed_cocaina/SEM_COCAINA')\n",
    "\n",
    "train_datagen = ImageDataGenerator(\n",
    "    rescale=1./255,\n",
    "    width_shift_range=0.05,\n",
    "    height_shift_range=0.05,\n",
    "    brightness_range=[0.9, 1.1],\n",
    "    fill_mode='nearest',\n",
    "    horizontal_flip=True,\n",
    ")"
   ]
  },
  {
   "cell_type": "code",
   "execution_count": null,
   "metadata": {
    "ExecuteTime": {
     "end_time": "2020-03-20T01:44:25.361370Z",
     "start_time": "2020-03-20T01:44:06.332145Z"
    }
   },
   "outputs": [],
   "source": [
    "for classe in ('COCAINA', 'SEMCOCAINA'):\n",
    "    for i, batch in enumerate(train_datagen.flow_from_directory(\n",
    "        'cocaina',\n",
    "        target_size=(144, 288),\n",
    "        batch_size=10, \n",
    "        save_to_dir = 'transformed_cocaina/' + classe,\n",
    "        classes=[classe])):\n",
    "        if i > 40:\n",
    "            break"
   ]
  },
  {
   "cell_type": "markdown",
   "metadata": {},
   "source": [
    "## Example: Training a very basic convolutional network"
   ]
  },
  {
   "cell_type": "code",
   "execution_count": null,
   "metadata": {
    "ExecuteTime": {
     "end_time": "2020-03-20T01:44:44.810823Z",
     "start_time": "2020-03-20T01:44:44.806320Z"
    }
   },
   "outputs": [],
   "source": [
    "from tensorflow.keras import layers\n",
    "from tensorflow.keras import models\n",
    "from tensorflow.keras import optimizers\n",
    "from tensorflow.keras.preprocessing.image import ImageDataGenerator\n",
    "from tensorflow.keras.callbacks import ReduceLROnPlateau\n"
   ]
  },
  {
   "cell_type": "code",
   "execution_count": null,
   "metadata": {
    "ExecuteTime": {
     "end_time": "2020-03-20T01:51:22.435868Z",
     "start_time": "2020-03-20T01:51:22.226313Z"
    }
   },
   "outputs": [],
   "source": [
    "model = models.Sequential([\n",
    "  layers.Conv2D(16, (5, 5), activation='relu',\n",
    "                padding='same',\n",
    "                input_shape=(144, 288, 3)),\n",
    "  layers.MaxPooling2D(pool_size=(2, 4)),\n",
    "  layers.Dropout(0.25),\n",
    "  layers.Conv2D(32, (3, 3), activation='relu', padding='same'),\n",
    "  layers.MaxPooling2D(pool_size=(2, 2)),\n",
    "  layers.Dropout(0.25),\n",
    "  layers.Conv2D(64, (3, 3), activation='relu'),\n",
    "  layers.MaxPooling2D(pool_size=(2, 2)),\n",
    "  layers.Dropout(0.25),\n",
    "  layers.Conv2D(128, (3, 3), activation='relu'),\n",
    "  layers.Conv2D(128, (3, 3), activation='relu'),\n",
    "  layers.Conv2D(128, (1, 1), activation='relu'),\n",
    "  layers.MaxPooling2D(pool_size=(2, 2)),\n",
    "  layers.Dropout(0.25),\n",
    "  layers.Conv2D(256, (3, 3), activation='relu'),\n",
    "  layers.Conv2D(256, (3, 3), activation='relu'),\n",
    "  layers.Conv2D(512, (1, 1), activation='relu'),\n",
    "  layers.Flatten(),\n",
    "  layers.Dense(512, activation='relu'),\n",
    "  layers.Dropout(0.4),\n",
    "  layers.Dense(1, activation='sigmoid')\n",
    " \n",
    "])\n",
    "\n",
    "model.compile(optimizer=optimizers.RMSprop(lr=0.0001), loss='binary_crossentropy', metrics=['acc'])\n",
    "model.summary()"
   ]
  },
  {
   "cell_type": "code",
   "execution_count": null,
   "metadata": {
    "ExecuteTime": {
     "end_time": "2020-03-20T01:51:44.784149Z",
     "start_time": "2020-03-20T01:51:44.559485Z"
    }
   },
   "outputs": [],
   "source": [
    "train_datagen = ImageDataGenerator(\n",
    "    rescale=1./255,\n",
    "    width_shift_range=0.05,\n",
    "    height_shift_range=0.05,\n",
    "    brightness_range=[0.9, 1.1],\n",
    "    fill_mode='nearest',\n",
    "    horizontal_flip=True,\n",
    "    validation_split=0.2\n",
    ")\n",
    "\n",
    "train_generator = train_datagen.flow_from_directory(\n",
    "    'cocaina',\n",
    "    target_size=(144, 288),\n",
    "    batch_size=128,\n",
    "    class_mode='binary',\n",
    "    subset='training'\n",
    ")\n",
    "validation_generator = train_datagen.flow_from_directory(\n",
    "    'cocaina',\n",
    "    target_size=(144, 288),\n",
    "    batch_size=60,\n",
    "    class_mode='binary',\n",
    "    subset='validation'\n",
    ")\n"
   ]
  },
  {
   "cell_type": "code",
   "execution_count": null,
   "metadata": {
    "ExecuteTime": {
     "end_time": "2020-03-20T02:08:39.290166Z",
     "start_time": "2020-03-20T01:51:56.810163Z"
    }
   },
   "outputs": [],
   "source": [
    "reduce_lr = ReduceLROnPlateau(monitor='val_loss', factor=0.2, patience=5,\n",
    "                              verbose=1, min_delta=1e-2, mode='min')\n",
    "\n",
    "model.fit_generator(train_generator, epochs=50,\n",
    "                    callbacks=[reduce_lr],\n",
    "                   validation_data = validation_generator,\n",
    "                   validation_steps = validation_generator.samples // 60)"
   ]
  },
  {
   "cell_type": "code",
   "execution_count": null,
   "metadata": {
    "ExecuteTime": {
     "end_time": "2020-03-20T02:08:39.574442Z",
     "start_time": "2020-03-20T02:08:39.299318Z"
    }
   },
   "outputs": [],
   "source": [
    "model.save_weights('gerabasescocaina.hdf5')"
   ]
  },
  {
   "cell_type": "code",
   "execution_count": null,
   "metadata": {
    "ExecuteTime": {
     "end_time": "2020-03-20T02:08:40.059752Z",
     "start_time": "2020-03-20T02:08:39.578241Z"
    }
   },
   "outputs": [],
   "source": [
    "#Fine tunning\n",
    "for layer in model.layers:\n",
    "    layer.trainable = True\n",
    "\n",
    "for layer in model.layers[:-7]:\n",
    "    layer.trainable = False\n",
    "\n",
    "reduce_lr = ReduceLROnPlateau(monitor='val_loss', factor=0.1, patience=4,\n",
    "                          verbose=1, min_delta=1e-2, mode='min')\n",
    "\n",
    "model.compile(optimizer=optimizers.Adam(lr=0.000001), loss='binary_crossentropy', metrics=['acc'])\n",
    "for l in model.layers:\n",
    "    print(l.name, l.trainable)"
   ]
  },
  {
   "cell_type": "code",
   "execution_count": null,
   "metadata": {
    "ExecuteTime": {
     "end_time": "2020-03-20T02:15:09.210258Z",
     "start_time": "2020-03-20T02:08:40.062648Z"
    }
   },
   "outputs": [],
   "source": [
    "model.fit_generator(train_generator, epochs=20,\n",
    "                    callbacks=[reduce_lr],\n",
    "                   validation_data = validation_generator,\n",
    "                   validation_steps = validation_generator.samples // 88)"
   ]
  },
  {
   "cell_type": "code",
   "execution_count": null,
   "metadata": {
    "ExecuteTime": {
     "end_time": "2020-03-20T02:15:09.305110Z",
     "start_time": "2020-03-20T02:15:09.212092Z"
    }
   },
   "outputs": [],
   "source": [
    "model.save_weights('gerabasescocaina_tunned.hdf5')"
   ]
  },
  {
   "cell_type": "code",
   "execution_count": null,
   "metadata": {},
   "outputs": [],
   "source": []
  }
 ],
 "metadata": {
  "kernelspec": {
   "display_name": "Python 3",
   "language": "python",
   "name": "python3"
  },
  "language_info": {
   "codemirror_mode": {
    "name": "ipython",
    "version": 3
   },
   "file_extension": ".py",
   "mimetype": "text/x-python",
   "name": "python",
   "nbconvert_exporter": "python",
   "pygments_lexer": "ipython3",
   "version": "3.5.2"
  }
 },
 "nbformat": 4,
 "nbformat_minor": 2
}
