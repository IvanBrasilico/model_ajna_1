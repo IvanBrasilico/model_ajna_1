{
 "cells": [
  {
   "cell_type": "code",
   "execution_count": null,
   "metadata": {
    "ExecuteTime": {
     "end_time": "2020-03-24T16:30:58.840999Z",
     "start_time": "2020-03-24T16:30:58.584089Z"
    }
   },
   "outputs": [],
   "source": [
    "import os\n",
    "import shutil\n",
    "import sys\n",
    "import time\n",
    "from PIL import Image\n",
    "from datetime import date, datetime, timedelta\n",
    "\n",
    "\n",
    "sys.path.insert(0, '..')\n",
    "from utils import mongodb"
   ]
  },
  {
   "cell_type": "code",
   "execution_count": null,
   "metadata": {
    "ExecuteTime": {
     "end_time": "2020-03-24T16:30:59.016285Z",
     "start_time": "2020-03-24T16:30:58.987341Z"
    }
   },
   "outputs": [],
   "source": [
    "from cocaina import cursor_cocaina, extract_to"
   ]
  },
  {
   "cell_type": "markdown",
   "metadata": {},
   "source": [
    "## Generate cocaina database\n",
    "\n",
    "#### Necessário acesso ao Servidor ajna.labin.rf08.srf (e habilitação no AJNA) ou acesso ao Servidor mongo.labin.rf08.srf (e senha do banco)"
   ]
  },
  {
   "cell_type": "code",
   "execution_count": null,
   "metadata": {
    "ExecuteTime": {
     "end_time": "2020-03-24T16:30:59.986021Z",
     "start_time": "2020-03-24T16:30:59.984090Z"
    }
   },
   "outputs": [],
   "source": [
    "#if os.path.exists('cocaina'):\n",
    "#    shutil.rmtree('vazios')"
   ]
  },
  {
   "cell_type": "code",
   "execution_count": null,
   "metadata": {
    "ExecuteTime": {
     "end_time": "2020-03-24T16:31:27.277991Z",
     "start_time": "2020-03-24T16:31:00.580204Z"
    }
   },
   "outputs": [],
   "source": [
    "start = datetime(2016, 1, 1)\n",
    "end = datetime.today()\n",
    "limit = 500\n",
    "for label in (True, False):\n",
    "    s0 = time.time()\n",
    "    cursor = cursor_cocaina(mongodb, start, end, limit, label)\n",
    "    count = extract_to(mongodb, 'cocaina', cursor, start, end)\n",
    "    s1 = time.time()\n",
    "    print('{:0.2f} segundos para processar {:d} registros'.format((s1 - s0), count))\n"
   ]
  },
  {
   "cell_type": "code",
   "execution_count": null,
   "metadata": {
    "ExecuteTime": {
     "end_time": "2020-03-24T16:10:12.255866Z",
     "start_time": "2020-03-24T16:10:12.253469Z"
    }
   },
   "outputs": [],
   "source": [
    "print(count)"
   ]
  },
  {
   "cell_type": "code",
   "execution_count": null,
   "metadata": {
    "ExecuteTime": {
     "end_time": "2020-03-24T16:10:12.271604Z",
     "start_time": "2020-03-24T16:10:12.259113Z"
    }
   },
   "outputs": [],
   "source": [
    "print(len(list(cursor)))"
   ]
  },
  {
   "cell_type": "markdown",
   "metadata": {},
   "source": [
    "### Exportar pré processadas para visualização e cópia\n",
    "\n",
    "#### Esta parte é para gerar arquivos em tamanho menor, possibilitando a cópia e compartilhamento (PenDrive, GoogleDrive, ReceitaDrive)"
   ]
  },
  {
   "cell_type": "code",
   "execution_count": null,
   "metadata": {
    "ExecuteTime": {
     "end_time": "2020-03-20T01:44:04.822180Z",
     "start_time": "2020-03-20T01:44:04.759699Z"
    }
   },
   "outputs": [],
   "source": [
    "if not os.path.exists('transformed_cocaina'):\n",
    "    os.mkdir('transformed_cocaina')\n",
    "    os.mkdir('transformed_cocaina/COCAINA')\n",
    "    os.mkdir('transformed_cocaina/SEM_COCAINA')\n",
    "\n",
    "train_datagen = ImageDataGenerator(\n",
    "    rescale=1./255,\n",
    "    width_shift_range=0.05,\n",
    "    height_shift_range=0.05,\n",
    "    brightness_range=[0.9, 1.1],\n",
    "    fill_mode='nearest',\n",
    "    horizontal_flip=True,\n",
    ")"
   ]
  },
  {
   "cell_type": "code",
   "execution_count": null,
   "metadata": {
    "ExecuteTime": {
     "end_time": "2020-03-20T01:44:25.361370Z",
     "start_time": "2020-03-20T01:44:06.332145Z"
    }
   },
   "outputs": [],
   "source": [
    "for classe in ('COCAINA', 'SEMCOCAINA'):\n",
    "    for i, batch in enumerate(train_datagen.flow_from_directory(\n",
    "        'cocaina',\n",
    "        target_size=(144, 288),\n",
    "        batch_size=10, \n",
    "        save_to_dir = 'transformed_cocaina/' + classe,\n",
    "        classes=[classe])):\n",
    "        if i > 40:\n",
    "            break"
   ]
  },
  {
   "cell_type": "markdown",
   "metadata": {},
   "source": [
    "## Example: Training a very basic convolutional network"
   ]
  },
  {
   "cell_type": "code",
   "execution_count": null,
   "metadata": {
    "ExecuteTime": {
     "end_time": "2020-03-20T01:44:44.810823Z",
     "start_time": "2020-03-20T01:44:44.806320Z"
    }
   },
   "outputs": [],
   "source": [
    "from tensorflow.keras import layers\n",
    "from tensorflow.keras import models\n",
    "from tensorflow.keras import optimizers\n",
    "from tensorflow.keras.preprocessing.image import ImageDataGenerator\n",
    "from tensorflow.keras.callbacks import ReduceLROnPlateau\n"
   ]
  },
  {
   "cell_type": "code",
   "execution_count": null,
   "metadata": {
    "ExecuteTime": {
     "end_time": "2020-03-20T01:51:22.435868Z",
     "start_time": "2020-03-20T01:51:22.226313Z"
    }
   },
   "outputs": [],
   "source": [
    "model = models.Sequential([\n",
    "  layers.Conv2D(16, (5, 5), activation='relu',\n",
    "                padding='same',\n",
    "                input_shape=(144, 288, 3)),\n",
    "  layers.MaxPooling2D(pool_size=(2, 4)),\n",
    "  layers.Dropout(0.25),\n",
    "  layers.Conv2D(32, (3, 3), activation='relu', padding='same'),\n",
    "  layers.MaxPooling2D(pool_size=(2, 2)),\n",
    "  layers.Dropout(0.25),\n",
    "  layers.Conv2D(64, (3, 3), activation='relu'),\n",
    "  layers.MaxPooling2D(pool_size=(2, 2)),\n",
    "  layers.Dropout(0.25),\n",
    "  layers.Conv2D(128, (3, 3), activation='relu'),\n",
    "  layers.Conv2D(128, (3, 3), activation='relu'),\n",
    "  layers.Conv2D(128, (1, 1), activation='relu'),\n",
    "  layers.MaxPooling2D(pool_size=(2, 2)),\n",
    "  layers.Dropout(0.25),\n",
    "  layers.Conv2D(256, (3, 3), activation='relu'),\n",
    "  layers.Conv2D(256, (3, 3), activation='relu'),\n",
    "  layers.Conv2D(512, (1, 1), activation='relu'),\n",
    "  layers.Flatten(),\n",
    "  layers.Dense(512, activation='relu'),\n",
    "  layers.Dropout(0.4),\n",
    "  layers.Dense(1, activation='sigmoid')\n",
    " \n",
    "])\n",
    "\n",
    "model.compile(optimizer=optimizers.RMSprop(lr=0.0001), loss='binary_crossentropy', metrics=['acc'])\n",
    "model.summary()"
   ]
  },
  {
   "cell_type": "code",
   "execution_count": null,
   "metadata": {
    "ExecuteTime": {
     "end_time": "2020-03-20T01:51:44.784149Z",
     "start_time": "2020-03-20T01:51:44.559485Z"
    }
   },
   "outputs": [],
   "source": [
    "train_datagen = ImageDataGenerator(\n",
    "    rescale=1./255,\n",
    "    width_shift_range=0.05,\n",
    "    height_shift_range=0.05,\n",
    "    brightness_range=[0.9, 1.1],\n",
    "    fill_mode='nearest',\n",
    "    horizontal_flip=True,\n",
    "    validation_split=0.2\n",
    ")\n",
    "\n",
    "train_generator = train_datagen.flow_from_directory(\n",
    "    'cocaina',\n",
    "    target_size=(144, 288),\n",
    "    batch_size=128,\n",
    "    class_mode='binary',\n",
    "    subset='training'\n",
    ")\n",
    "validation_generator = train_datagen.flow_from_directory(\n",
    "    'cocaina',\n",
    "    target_size=(144, 288),\n",
    "    batch_size=60,\n",
    "    class_mode='binary',\n",
    "    subset='validation'\n",
    ")\n"
   ]
  },
  {
   "cell_type": "code",
   "execution_count": null,
   "metadata": {
    "ExecuteTime": {
     "end_time": "2020-03-20T02:08:39.290166Z",
     "start_time": "2020-03-20T01:51:56.810163Z"
    }
   },
   "outputs": [],
   "source": [
    "reduce_lr = ReduceLROnPlateau(monitor='val_loss', factor=0.2, patience=5,\n",
    "                              verbose=1, min_delta=1e-2, mode='min')\n",
    "\n",
    "model.fit_generator(train_generator, epochs=50,\n",
    "                    callbacks=[reduce_lr],\n",
    "                   validation_data = validation_generator,\n",
    "                   validation_steps = validation_generator.samples // 60)"
   ]
  },
  {
   "cell_type": "code",
   "execution_count": null,
   "metadata": {
    "ExecuteTime": {
     "end_time": "2020-03-20T02:08:39.574442Z",
     "start_time": "2020-03-20T02:08:39.299318Z"
    }
   },
   "outputs": [],
   "source": [
    "model.save_weights('gerabasescocaina.hdf5')"
   ]
  },
  {
   "cell_type": "code",
   "execution_count": null,
   "metadata": {
    "ExecuteTime": {
     "end_time": "2020-03-20T02:08:40.059752Z",
     "start_time": "2020-03-20T02:08:39.578241Z"
    }
   },
   "outputs": [],
   "source": [
    "#Fine tunning\n",
    "for layer in model.layers:\n",
    "    layer.trainable = True\n",
    "\n",
    "for layer in model.layers[:-7]:\n",
    "    layer.trainable = False\n",
    "\n",
    "reduce_lr = ReduceLROnPlateau(monitor='val_loss', factor=0.1, patience=4,\n",
    "                          verbose=1, min_delta=1e-2, mode='min')\n",
    "\n",
    "model.compile(optimizer=optimizers.Adam(lr=0.000001), loss='binary_crossentropy', metrics=['acc'])\n",
    "for l in model.layers:\n",
    "    print(l.name, l.trainable)"
   ]
  },
  {
   "cell_type": "code",
   "execution_count": null,
   "metadata": {
    "ExecuteTime": {
     "end_time": "2020-03-20T02:15:09.210258Z",
     "start_time": "2020-03-20T02:08:40.062648Z"
    }
   },
   "outputs": [],
   "source": [
    "model.fit_generator(train_generator, epochs=20,\n",
    "                    callbacks=[reduce_lr],\n",
    "                   validation_data = validation_generator,\n",
    "                   validation_steps = validation_generator.samples // 88)"
   ]
  },
  {
   "cell_type": "code",
   "execution_count": null,
   "metadata": {
    "ExecuteTime": {
     "end_time": "2020-03-20T02:15:09.305110Z",
     "start_time": "2020-03-20T02:15:09.212092Z"
    }
   },
   "outputs": [],
   "source": [
    "model.save_weights('gerabasescocaina_tunned.hdf5')"
   ]
  },
  {
   "cell_type": "code",
   "execution_count": null,
   "metadata": {},
   "outputs": [],
   "source": []
  }
 ],
 "metadata": {
  "kernelspec": {
   "display_name": "Python 3",
   "language": "python",
   "name": "python3"
  },
  "language_info": {
   "codemirror_mode": {
    "name": "ipython",
    "version": 3
   },
   "file_extension": ".py",
   "mimetype": "text/x-python",
   "name": "python",
   "nbconvert_exporter": "python",
   "pygments_lexer": "ipython3",
   "version": "3.5.2"
  }
 },
 "nbformat": 4,
 "nbformat_minor": 2
}
