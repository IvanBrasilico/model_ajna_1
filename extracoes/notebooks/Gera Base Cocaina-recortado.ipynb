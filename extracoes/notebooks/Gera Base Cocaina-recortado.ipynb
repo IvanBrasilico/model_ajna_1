{
 "cells": [
  {
   "cell_type": "code",
   "execution_count": 1,
   "metadata": {
    "ExecuteTime": {
     "end_time": "2020-03-24T14:07:27.275102Z",
     "start_time": "2020-03-24T14:07:26.884295Z"
    }
   },
   "outputs": [],
   "source": [
    "import os\n",
    "import shutil\n",
    "import sys\n",
    "import time\n",
    "from PIL import Image\n",
    "from datetime import date, datetime, timedelta\n",
    "\n",
    "\n",
    "sys.path.insert(0, '..')\n",
    "from utils import mongodb"
   ]
  },
  {
   "cell_type": "code",
   "execution_count": 2,
   "metadata": {
    "ExecuteTime": {
     "end_time": "2020-03-24T14:07:37.215552Z",
     "start_time": "2020-03-24T14:07:37.212860Z"
    }
   },
   "outputs": [],
   "source": [
    "from cocaina import cursor_cocaina, extract_to"
   ]
  },
  {
   "cell_type": "markdown",
   "metadata": {},
   "source": [
    "## Generate cocaina database\n",
    "\n",
    "#### Necessário acesso ao Servidor ajna.labin.rf08.srf (e habilitação no AJNA) ou acesso ao Servidor mongo.labin.rf08.srf (e senha do banco)"
   ]
  },
  {
   "cell_type": "code",
   "execution_count": null,
   "metadata": {},
   "outputs": [],
   "source": [
    "#if os.path.exists('cocaina'):\n",
    "#    shutil.rmtree('vazios')"
   ]
  },
  {
   "cell_type": "code",
   "execution_count": 3,
   "metadata": {
    "ExecuteTime": {
     "end_time": "2020-03-19T15:04:38.541815Z",
     "start_time": "2020-03-19T15:04:13.698295Z"
    }
   },
   "outputs": [
    {
     "name": "stdout",
     "output_type": "stream",
     "text": [
      "(600, 365)  - abortando...\n",
      "(600, 365)  - abortando...\n",
      "(600, 357)  - abortando...\n",
      "(25, 400)  - abortando...\n",
      "(14, 400)  - abortando...\n",
      "(600, 338)  - abortando...\n",
      "(600, 350)  - abortando...\n",
      "(600, 337)  - abortando...\n",
      "(600, 352)  - abortando...\n",
      "(600, 338)  - abortando...\n",
      "(600, 352)  - abortando...\n",
      "(600, 335)  - abortando...\n",
      "(600, 350)  - abortando...\n",
      "(512, 400)  - abortando...\n",
      "(538, 400)  - abortando...\n",
      "(600, 346)  - abortando...\n",
      "(600, 349)  - abortando...\n",
      "(600, 345)  - abortando...\n",
      "(600, 375)  - abortando...\n",
      "(600, 341)  - abortando...\n",
      "(600, 376)  - abortando...\n",
      "(600, 390)  - abortando...\n",
      "(600, 387)  - abortando...\n",
      "(600, 381)  - abortando...\n",
      "(600, 338)  - abortando...\n",
      "(600, 348)  - abortando...\n",
      "(600, 338)  - abortando...\n",
      "(600, 367)  - abortando...\n",
      "(600, 334)  - abortando...\n",
      "(600, 337)  - abortando...\n",
      "(600, 342)  - abortando...\n",
      "499 arquivos exportados...\n",
      "8.79 segundos para processar 499 registros\n",
      "(600, 353)  - abortando...\n",
      "(600, 357)  - abortando...\n",
      "(600, 343)  - abortando...\n",
      "(600, 358)  - abortando...\n",
      "(563, 400)  - abortando...\n",
      "(393, 400)  - abortando...\n",
      "(471, 400)  - abortando...\n",
      "(600, 338)  - abortando...\n",
      "(595, 400)  - abortando...\n",
      "(600, 363)  - abortando...\n",
      "(498, 400)  - abortando...\n",
      "(514, 400)  - abortando...\n",
      "(600, 366)  - abortando...\n",
      "(463, 400)  - abortando...\n",
      "(501, 400)  - abortando...\n",
      "(600, 340)  - abortando...\n",
      "(600, 352)  - abortando...\n",
      "(600, 372)  - abortando...\n",
      "(600, 340)  - abortando...\n",
      "499 arquivos exportados...\n",
      "15.64 segundos para processar 499 registros\n"
     ]
    }
   ],
   "source": [
    "start = datetime(2017, 7, 1)\n",
    "end = datetime.today()\n",
    "limit = 500\n",
    "for label in (True, False):\n",
    "    s0 = time.time()\n",
    "    cursor = cursor_vazio_nvazio(mongodb, start, end, limit, label)\n",
    "    count = extract_to(cursor)\n",
    "    s1 = time.time()\n",
    "    print('{:0.2f} segundos para processar {:d} registros'.format((s1 - s0), count))\n"
   ]
  },
  {
   "cell_type": "markdown",
   "metadata": {},
   "source": [
    "### Exportar pré processadas para visualização e cópia\n",
    "\n",
    "#### Esta parte é para gerar arquivos em tamanho menor, possibilitando a cópia e compartilhamento (PenDrive, GoogleDrive, ReceitaDrive)"
   ]
  },
  {
   "cell_type": "code",
   "execution_count": 85,
   "metadata": {
    "ExecuteTime": {
     "end_time": "2020-03-20T01:44:04.822180Z",
     "start_time": "2020-03-20T01:44:04.759699Z"
    }
   },
   "outputs": [],
   "source": [
    "if not os.path.exists('transformed_vazios'):\n",
    "    os.mkdir('transformed_vazios')\n",
    "    os.mkdir('transformed_vazios/NVAZIO')\n",
    "    os.mkdir('transformed_vazios/VAZIO')\n",
    "\n",
    "train_datagen = ImageDataGenerator(\n",
    "    rescale=1./255,\n",
    "    width_shift_range=0.05,\n",
    "    height_shift_range=0.05,\n",
    "    brightness_range=[0.9, 1.1],\n",
    "    fill_mode='nearest',\n",
    "    horizontal_flip=True,\n",
    ")"
   ]
  },
  {
   "cell_type": "code",
   "execution_count": 86,
   "metadata": {
    "ExecuteTime": {
     "end_time": "2020-03-20T01:44:25.361370Z",
     "start_time": "2020-03-20T01:44:06.332145Z"
    }
   },
   "outputs": [
    {
     "name": "stdout",
     "output_type": "stream",
     "text": [
      "Found 480 images belonging to 1 classes.\n",
      "Found 464 images belonging to 1 classes.\n"
     ]
    }
   ],
   "source": [
    "for classe in ('NVAZIO', 'VAZIO'):\n",
    "    for i, batch in enumerate(train_datagen.flow_from_directory(\n",
    "        'vazios',\n",
    "        target_size=(144, 288),\n",
    "        batch_size=10, \n",
    "        save_to_dir = 'transformed_vazios/' + classe,\n",
    "        classes=[classe])):\n",
    "        if i > 40:\n",
    "            break"
   ]
  },
  {
   "cell_type": "markdown",
   "metadata": {},
   "source": [
    "## Example: Training a very basic convolutional network"
   ]
  },
  {
   "cell_type": "code",
   "execution_count": 87,
   "metadata": {
    "ExecuteTime": {
     "end_time": "2020-03-20T01:44:44.810823Z",
     "start_time": "2020-03-20T01:44:44.806320Z"
    }
   },
   "outputs": [],
   "source": [
    "from tensorflow.keras import layers\n",
    "from tensorflow.keras import models\n",
    "from tensorflow.keras import optimizers\n",
    "from tensorflow.keras.preprocessing.image import ImageDataGenerator\n",
    "from tensorflow.keras.callbacks import ReduceLROnPlateau\n"
   ]
  },
  {
   "cell_type": "code",
   "execution_count": 94,
   "metadata": {
    "ExecuteTime": {
     "end_time": "2020-03-20T01:51:22.435868Z",
     "start_time": "2020-03-20T01:51:22.226313Z"
    }
   },
   "outputs": [
    {
     "name": "stdout",
     "output_type": "stream",
     "text": [
      "Model: \"sequential_26\"\n",
      "_________________________________________________________________\n",
      "Layer (type)                 Output Shape              Param #   \n",
      "=================================================================\n",
      "conv2d_233 (Conv2D)          (None, 144, 288, 16)      1216      \n",
      "_________________________________________________________________\n",
      "max_pooling2d_104 (MaxPoolin (None, 72, 72, 16)        0         \n",
      "_________________________________________________________________\n",
      "dropout_127 (Dropout)        (None, 72, 72, 16)        0         \n",
      "_________________________________________________________________\n",
      "conv2d_234 (Conv2D)          (None, 72, 72, 32)        4640      \n",
      "_________________________________________________________________\n",
      "max_pooling2d_105 (MaxPoolin (None, 36, 36, 32)        0         \n",
      "_________________________________________________________________\n",
      "dropout_128 (Dropout)        (None, 36, 36, 32)        0         \n",
      "_________________________________________________________________\n",
      "conv2d_235 (Conv2D)          (None, 34, 34, 64)        18496     \n",
      "_________________________________________________________________\n",
      "max_pooling2d_106 (MaxPoolin (None, 17, 17, 64)        0         \n",
      "_________________________________________________________________\n",
      "dropout_129 (Dropout)        (None, 17, 17, 64)        0         \n",
      "_________________________________________________________________\n",
      "conv2d_236 (Conv2D)          (None, 15, 15, 128)       73856     \n",
      "_________________________________________________________________\n",
      "conv2d_237 (Conv2D)          (None, 13, 13, 128)       147584    \n",
      "_________________________________________________________________\n",
      "conv2d_238 (Conv2D)          (None, 13, 13, 128)       16512     \n",
      "_________________________________________________________________\n",
      "max_pooling2d_107 (MaxPoolin (None, 6, 6, 128)         0         \n",
      "_________________________________________________________________\n",
      "dropout_130 (Dropout)        (None, 6, 6, 128)         0         \n",
      "_________________________________________________________________\n",
      "conv2d_239 (Conv2D)          (None, 4, 4, 256)         295168    \n",
      "_________________________________________________________________\n",
      "conv2d_240 (Conv2D)          (None, 2, 2, 256)         590080    \n",
      "_________________________________________________________________\n",
      "conv2d_241 (Conv2D)          (None, 2, 2, 512)         131584    \n",
      "_________________________________________________________________\n",
      "flatten_26 (Flatten)         (None, 2048)              0         \n",
      "_________________________________________________________________\n",
      "dense_52 (Dense)             (None, 512)               1049088   \n",
      "_________________________________________________________________\n",
      "dropout_131 (Dropout)        (None, 512)               0         \n",
      "_________________________________________________________________\n",
      "dense_53 (Dense)             (None, 1)                 513       \n",
      "=================================================================\n",
      "Total params: 2,328,737\n",
      "Trainable params: 2,328,737\n",
      "Non-trainable params: 0\n",
      "_________________________________________________________________\n"
     ]
    }
   ],
   "source": [
    "model = models.Sequential([\n",
    "  layers.Conv2D(16, (5, 5), activation='relu',\n",
    "                padding='same',\n",
    "                input_shape=(144, 288, 3)),\n",
    "  layers.MaxPooling2D(pool_size=(2, 4)),\n",
    "  layers.Dropout(0.25),\n",
    "  layers.Conv2D(32, (3, 3), activation='relu', padding='same'),\n",
    "  layers.MaxPooling2D(pool_size=(2, 2)),\n",
    "  layers.Dropout(0.25),\n",
    "  layers.Conv2D(64, (3, 3), activation='relu'),\n",
    "  layers.MaxPooling2D(pool_size=(2, 2)),\n",
    "  layers.Dropout(0.25),\n",
    "  layers.Conv2D(128, (3, 3), activation='relu'),\n",
    "  layers.Conv2D(128, (3, 3), activation='relu'),\n",
    "  layers.Conv2D(128, (1, 1), activation='relu'),\n",
    "  layers.MaxPooling2D(pool_size=(2, 2)),\n",
    "  layers.Dropout(0.25),\n",
    "  layers.Conv2D(256, (3, 3), activation='relu'),\n",
    "  layers.Conv2D(256, (3, 3), activation='relu'),\n",
    "  layers.Conv2D(512, (1, 1), activation='relu'),\n",
    "  layers.Flatten(),\n",
    "  layers.Dense(512, activation='relu'),\n",
    "  layers.Dropout(0.4),\n",
    "  layers.Dense(1, activation='sigmoid')\n",
    " \n",
    "])\n",
    "\n",
    "model.compile(optimizer=optimizers.RMSprop(lr=0.0001), loss='binary_crossentropy', metrics=['acc'])\n",
    "model.summary()"
   ]
  },
  {
   "cell_type": "code",
   "execution_count": 95,
   "metadata": {
    "ExecuteTime": {
     "end_time": "2020-03-20T01:51:44.784149Z",
     "start_time": "2020-03-20T01:51:44.559485Z"
    }
   },
   "outputs": [
    {
     "name": "stdout",
     "output_type": "stream",
     "text": [
      "Found 756 images belonging to 2 classes.\n",
      "Found 188 images belonging to 2 classes.\n"
     ]
    }
   ],
   "source": [
    "train_datagen = ImageDataGenerator(\n",
    "    rescale=1./255,\n",
    "    width_shift_range=0.05,\n",
    "    height_shift_range=0.05,\n",
    "    brightness_range=[0.9, 1.1],\n",
    "    fill_mode='nearest',\n",
    "    horizontal_flip=True,\n",
    "    validation_split=0.2\n",
    ")\n",
    "\n",
    "train_generator = train_datagen.flow_from_directory(\n",
    "    'vazios',\n",
    "    target_size=(144, 288),\n",
    "    batch_size=128,\n",
    "    class_mode='binary',\n",
    "    subset='training'\n",
    ")\n",
    "validation_generator = train_datagen.flow_from_directory(\n",
    "    'vazios',\n",
    "    target_size=(144, 288),\n",
    "    batch_size=60,\n",
    "    class_mode='binary',\n",
    "    subset='validation'\n",
    ")\n"
   ]
  },
  {
   "cell_type": "code",
   "execution_count": 96,
   "metadata": {
    "ExecuteTime": {
     "end_time": "2020-03-20T02:08:39.290166Z",
     "start_time": "2020-03-20T01:51:56.810163Z"
    }
   },
   "outputs": [
    {
     "name": "stdout",
     "output_type": "stream",
     "text": [
      "Epoch 1/50\n",
      "6/6 [==============================] - 22s 4s/step - loss: 0.6557 - acc: 0.5701 - val_loss: 0.6491 - val_acc: 0.5611\n",
      "Epoch 2/50\n",
      "6/6 [==============================] - 21s 3s/step - loss: 0.5515 - acc: 0.7672 - val_loss: 0.6218 - val_acc: 0.5111\n",
      "Epoch 3/50\n",
      "6/6 [==============================] - 20s 3s/step - loss: 0.4805 - acc: 0.7751 - val_loss: 0.4839 - val_acc: 0.8944\n",
      "Epoch 4/50\n",
      "6/6 [==============================] - 20s 3s/step - loss: 0.3947 - acc: 0.8452 - val_loss: 0.4763 - val_acc: 0.8389\n",
      "Epoch 5/50\n",
      "6/6 [==============================] - 21s 3s/step - loss: 0.3117 - acc: 0.8823 - val_loss: 0.4456 - val_acc: 0.8056\n",
      "Epoch 6/50\n",
      "6/6 [==============================] - 21s 3s/step - loss: 0.2502 - acc: 0.9127 - val_loss: 0.3247 - val_acc: 0.9333\n",
      "Epoch 7/50\n",
      "6/6 [==============================] - 20s 3s/step - loss: 0.3830 - acc: 0.8492 - val_loss: 0.3949 - val_acc: 0.8833\n",
      "Epoch 8/50\n",
      "6/6 [==============================] - 20s 3s/step - loss: 0.2130 - acc: 0.9259 - val_loss: 0.3186 - val_acc: 0.9222\n",
      "Epoch 9/50\n",
      "6/6 [==============================] - 20s 3s/step - loss: 0.2616 - acc: 0.9048 - val_loss: 0.3352 - val_acc: 0.9000\n",
      "Epoch 10/50\n",
      "6/6 [==============================] - 20s 3s/step - loss: 0.1978 - acc: 0.9392 - val_loss: 0.3167 - val_acc: 0.8667\n",
      "Epoch 11/50\n",
      "6/6 [==============================] - 20s 3s/step - loss: 0.1818 - acc: 0.9299 - val_loss: 0.2529 - val_acc: 0.9167\n",
      "Epoch 12/50\n",
      "6/6 [==============================] - 20s 3s/step - loss: 0.3757 - acc: 0.8545 - val_loss: 0.3567 - val_acc: 0.8444\n",
      "Epoch 13/50\n",
      "6/6 [==============================] - 20s 3s/step - loss: 0.2236 - acc: 0.9114 - val_loss: 0.3105 - val_acc: 0.9222\n",
      "Epoch 14/50\n",
      "6/6 [==============================] - 20s 3s/step - loss: 0.1696 - acc: 0.9444 - val_loss: 0.2634 - val_acc: 0.9778\n",
      "Epoch 15/50\n",
      "6/6 [==============================] - 20s 3s/step - loss: 0.1678 - acc: 0.9497 - val_loss: 0.2307 - val_acc: 0.9333\n",
      "Epoch 16/50\n",
      "6/6 [==============================] - 21s 3s/step - loss: 0.1846 - acc: 0.9418 - val_loss: 0.2371 - val_acc: 0.9667\n",
      "Epoch 17/50\n",
      "6/6 [==============================] - 20s 3s/step - loss: 0.1535 - acc: 0.9563 - val_loss: 0.2294 - val_acc: 0.9778\n",
      "Epoch 18/50\n",
      "6/6 [==============================] - 20s 3s/step - loss: 0.2340 - acc: 0.9193 - val_loss: 0.2412 - val_acc: 0.9444\n",
      "Epoch 19/50\n",
      "6/6 [==============================] - 20s 3s/step - loss: 0.1333 - acc: 0.9550 - val_loss: 0.2094 - val_acc: 0.9278\n",
      "Epoch 20/50\n",
      "6/6 [==============================] - 20s 3s/step - loss: 0.2648 - acc: 0.8929 - val_loss: 0.2584 - val_acc: 0.9000\n",
      "Epoch 21/50\n",
      "6/6 [==============================] - 20s 3s/step - loss: 0.1560 - acc: 0.9484 - val_loss: 0.2564 - val_acc: 0.9667\n",
      "Epoch 22/50\n",
      "6/6 [==============================] - 20s 3s/step - loss: 0.1262 - acc: 0.9656 - val_loss: 0.2024 - val_acc: 0.9556\n",
      "Epoch 23/50\n",
      "6/6 [==============================] - 20s 3s/step - loss: 0.1119 - acc: 0.9630 - val_loss: 0.2055 - val_acc: 0.9278\n",
      "Epoch 24/50\n",
      "6/6 [==============================] - 20s 3s/step - loss: 0.1501 - acc: 0.9550 - val_loss: 0.1691 - val_acc: 0.9556\n",
      "Epoch 25/50\n",
      "6/6 [==============================] - 20s 3s/step - loss: 0.0962 - acc: 0.9656 - val_loss: 0.1642 - val_acc: 0.9500\n",
      "Epoch 26/50\n",
      "6/6 [==============================] - 20s 3s/step - loss: 0.1641 - acc: 0.9511 - val_loss: 0.2096 - val_acc: 0.9444\n",
      "Epoch 27/50\n",
      "6/6 [==============================] - 20s 3s/step - loss: 0.1088 - acc: 0.9696 - val_loss: 0.1722 - val_acc: 0.9333\n",
      "Epoch 28/50\n",
      "6/6 [==============================] - 20s 3s/step - loss: 0.1084 - acc: 0.9709 - val_loss: 0.1471 - val_acc: 0.9722\n",
      "Epoch 29/50\n",
      "6/6 [==============================] - 20s 3s/step - loss: 0.1500 - acc: 0.9484 - val_loss: 0.1833 - val_acc: 0.9389\n",
      "Epoch 30/50\n",
      "6/6 [==============================] - 20s 3s/step - loss: 0.1038 - acc: 0.9616 - val_loss: 0.1506 - val_acc: 0.9667\n",
      "Epoch 31/50\n",
      "6/6 [==============================] - 20s 3s/step - loss: 0.0989 - acc: 0.9709 - val_loss: 0.1495 - val_acc: 0.9667\n",
      "Epoch 32/50\n",
      "6/6 [==============================] - 20s 3s/step - loss: 0.0789 - acc: 0.9775 - val_loss: 0.1303 - val_acc: 0.9611\n",
      "Epoch 33/50\n",
      "6/6 [==============================] - 20s 3s/step - loss: 0.0921 - acc: 0.9656 - val_loss: 0.1522 - val_acc: 0.9833\n",
      "Epoch 34/50\n",
      "6/6 [==============================] - 20s 3s/step - loss: 0.1249 - acc: 0.9656 - val_loss: 0.1644 - val_acc: 0.9778\n",
      "Epoch 35/50\n",
      "6/6 [==============================] - 20s 3s/step - loss: 0.0732 - acc: 0.9775 - val_loss: 0.1303 - val_acc: 0.9722\n",
      "Epoch 36/50\n",
      "6/6 [==============================] - 20s 3s/step - loss: 0.0972 - acc: 0.9749 - val_loss: 0.1294 - val_acc: 0.9667\n",
      "Epoch 37/50\n",
      "5/6 [========================>.....] - ETA: 2s - loss: 0.1088 - acc: 0.9618\n",
      "Epoch 00037: ReduceLROnPlateau reducing learning rate to 1.9999999494757503e-05.\n",
      "6/6 [==============================] - 20s 3s/step - loss: 0.1022 - acc: 0.9643 - val_loss: 0.1372 - val_acc: 0.9722\n",
      "Epoch 38/50\n",
      "6/6 [==============================] - 20s 3s/step - loss: 0.0690 - acc: 0.9802 - val_loss: 0.1390 - val_acc: 0.9833\n",
      "Epoch 39/50\n",
      "6/6 [==============================] - 20s 3s/step - loss: 0.0587 - acc: 0.9841 - val_loss: 0.1212 - val_acc: 0.9889\n",
      "Epoch 40/50\n",
      "6/6 [==============================] - 20s 3s/step - loss: 0.0553 - acc: 0.9828 - val_loss: 0.1198 - val_acc: 0.9833\n",
      "Epoch 41/50\n",
      "6/6 [==============================] - 20s 3s/step - loss: 0.0702 - acc: 0.9841 - val_loss: 0.1182 - val_acc: 0.9778\n",
      "Epoch 42/50\n",
      "6/6 [==============================] - 20s 3s/step - loss: 0.0722 - acc: 0.9802 - val_loss: 0.1148 - val_acc: 0.9833\n",
      "Epoch 43/50\n",
      "6/6 [==============================] - 20s 3s/step - loss: 0.0548 - acc: 0.9815 - val_loss: 0.1090 - val_acc: 0.9889\n",
      "Epoch 44/50\n",
      "6/6 [==============================] - 20s 3s/step - loss: 0.0729 - acc: 0.9802 - val_loss: 0.1203 - val_acc: 0.9833\n",
      "Epoch 45/50\n",
      "6/6 [==============================] - 20s 3s/step - loss: 0.0558 - acc: 0.9868 - val_loss: 0.1071 - val_acc: 0.9778\n",
      "Epoch 46/50\n",
      "6/6 [==============================] - 20s 3s/step - loss: 0.0635 - acc: 0.9815 - val_loss: 0.1062 - val_acc: 0.9833\n",
      "Epoch 47/50\n",
      "6/6 [==============================] - 20s 3s/step - loss: 0.0692 - acc: 0.9788 - val_loss: 0.0987 - val_acc: 0.9833\n",
      "Epoch 48/50\n",
      "6/6 [==============================] - 20s 3s/step - loss: 0.0523 - acc: 0.9868 - val_loss: 0.1055 - val_acc: 0.9833\n",
      "Epoch 49/50\n",
      "6/6 [==============================] - 20s 3s/step - loss: 0.0494 - acc: 0.9841 - val_loss: 0.1031 - val_acc: 0.9778\n",
      "Epoch 50/50\n",
      "6/6 [==============================] - 20s 3s/step - loss: 0.0674 - acc: 0.9775 - val_loss: 0.1016 - val_acc: 0.9833\n"
     ]
    },
    {
     "data": {
      "text/plain": [
       "<tensorflow.python.keras.callbacks.History at 0x7fc53ef14c18>"
      ]
     },
     "execution_count": 96,
     "metadata": {},
     "output_type": "execute_result"
    }
   ],
   "source": [
    "reduce_lr = ReduceLROnPlateau(monitor='val_loss', factor=0.2, patience=5,\n",
    "                              verbose=1, min_delta=1e-2, mode='min')\n",
    "\n",
    "model.fit_generator(train_generator, epochs=50,\n",
    "                    callbacks=[reduce_lr],\n",
    "                   validation_data = validation_generator,\n",
    "                   validation_steps = validation_generator.samples // 60)"
   ]
  },
  {
   "cell_type": "code",
   "execution_count": 97,
   "metadata": {
    "ExecuteTime": {
     "end_time": "2020-03-20T02:08:39.574442Z",
     "start_time": "2020-03-20T02:08:39.299318Z"
    }
   },
   "outputs": [],
   "source": [
    "model.save_weights('gerabasesvazios.hdf5')"
   ]
  },
  {
   "cell_type": "code",
   "execution_count": 98,
   "metadata": {
    "ExecuteTime": {
     "end_time": "2020-03-20T02:08:40.059752Z",
     "start_time": "2020-03-20T02:08:39.578241Z"
    }
   },
   "outputs": [
    {
     "name": "stdout",
     "output_type": "stream",
     "text": [
      "conv2d_233 False\n",
      "max_pooling2d_104 False\n",
      "dropout_127 False\n",
      "conv2d_234 False\n",
      "max_pooling2d_105 False\n",
      "dropout_128 False\n",
      "conv2d_235 False\n",
      "max_pooling2d_106 False\n",
      "dropout_129 False\n",
      "conv2d_236 False\n",
      "conv2d_237 False\n",
      "conv2d_238 False\n",
      "max_pooling2d_107 False\n",
      "dropout_130 False\n",
      "conv2d_239 True\n",
      "conv2d_240 True\n",
      "conv2d_241 True\n",
      "flatten_26 True\n",
      "dense_52 True\n",
      "dropout_131 True\n",
      "dense_53 True\n"
     ]
    }
   ],
   "source": [
    "#Fine tunning\n",
    "for layer in model.layers:\n",
    "    layer.trainable = True\n",
    "\n",
    "for layer in model.layers[:-7]:\n",
    "    layer.trainable = False\n",
    "\n",
    "reduce_lr = ReduceLROnPlateau(monitor='val_loss', factor=0.1, patience=4,\n",
    "                          verbose=1, min_delta=1e-2, mode='min')\n",
    "\n",
    "model.compile(optimizer=optimizers.Adam(lr=0.000001), loss='binary_crossentropy', metrics=['acc'])\n",
    "for l in model.layers:\n",
    "    print(l.name, l.trainable)"
   ]
  },
  {
   "cell_type": "code",
   "execution_count": 99,
   "metadata": {
    "ExecuteTime": {
     "end_time": "2020-03-20T02:15:09.210258Z",
     "start_time": "2020-03-20T02:08:40.062648Z"
    }
   },
   "outputs": [
    {
     "name": "stdout",
     "output_type": "stream",
     "text": [
      "Epoch 1/20\n",
      "6/6 [==============================] - 21s 4s/step - loss: 0.0596 - acc: 0.9802 - val_loss: 0.1052 - val_acc: 0.9833\n",
      "Epoch 2/20\n",
      "6/6 [==============================] - 19s 3s/step - loss: 0.0580 - acc: 0.9828 - val_loss: 0.1232 - val_acc: 0.9750\n",
      "Epoch 3/20\n",
      "6/6 [==============================] - 19s 3s/step - loss: 0.0607 - acc: 0.9802 - val_loss: 0.1129 - val_acc: 0.9833\n",
      "Epoch 4/20\n",
      "6/6 [==============================] - 19s 3s/step - loss: 0.0606 - acc: 0.9802 - val_loss: 0.1056 - val_acc: 0.9750\n",
      "Epoch 5/20\n",
      "5/6 [========================>.....] - ETA: 2s - loss: 0.0528 - acc: 0.9812\n",
      "Epoch 00005: ReduceLROnPlateau reducing learning rate to 9.999999974752428e-08.\n",
      "6/6 [==============================] - 19s 3s/step - loss: 0.0631 - acc: 0.9788 - val_loss: 0.1132 - val_acc: 0.9750\n",
      "Epoch 6/20\n",
      "6/6 [==============================] - 20s 3s/step - loss: 0.0496 - acc: 0.9854 - val_loss: 0.1171 - val_acc: 0.9750\n",
      "Epoch 7/20\n",
      "6/6 [==============================] - 19s 3s/step - loss: 0.0622 - acc: 0.9828 - val_loss: 0.1254 - val_acc: 0.9750\n",
      "Epoch 8/20\n",
      "6/6 [==============================] - 19s 3s/step - loss: 0.0550 - acc: 0.9854 - val_loss: 0.1152 - val_acc: 0.9833\n",
      "Epoch 9/20\n",
      "5/6 [========================>.....] - ETA: 2s - loss: 0.0513 - acc: 0.9859\n",
      "Epoch 00009: ReduceLROnPlateau reducing learning rate to 1.0000000116860975e-08.\n",
      "6/6 [==============================] - 19s 3s/step - loss: 0.0471 - acc: 0.9868 - val_loss: 0.1164 - val_acc: 0.9833\n",
      "Epoch 10/20\n",
      "6/6 [==============================] - 19s 3s/step - loss: 0.0600 - acc: 0.9854 - val_loss: 0.1158 - val_acc: 0.9750\n",
      "Epoch 11/20\n",
      "6/6 [==============================] - 19s 3s/step - loss: 0.0573 - acc: 0.9854 - val_loss: 0.1177 - val_acc: 0.9833\n",
      "Epoch 12/20\n",
      "6/6 [==============================] - 19s 3s/step - loss: 0.0558 - acc: 0.9802 - val_loss: 0.1225 - val_acc: 0.9750\n",
      "Epoch 13/20\n",
      "5/6 [========================>.....] - ETA: 2s - loss: 0.0521 - acc: 0.9844\n",
      "Epoch 00013: ReduceLROnPlateau reducing learning rate to 9.999999939225292e-10.\n",
      "6/6 [==============================] - 19s 3s/step - loss: 0.0535 - acc: 0.9841 - val_loss: 0.1166 - val_acc: 0.9833\n",
      "Epoch 14/20\n",
      "6/6 [==============================] - 19s 3s/step - loss: 0.0610 - acc: 0.9802 - val_loss: 0.1194 - val_acc: 0.9750\n",
      "Epoch 15/20\n",
      "6/6 [==============================] - 19s 3s/step - loss: 0.0547 - acc: 0.9788 - val_loss: 0.1095 - val_acc: 0.9833\n",
      "Epoch 16/20\n",
      "6/6 [==============================] - 19s 3s/step - loss: 0.0465 - acc: 0.9868 - val_loss: 0.1204 - val_acc: 0.9750\n",
      "Epoch 17/20\n",
      "5/6 [========================>.....] - ETA: 2s - loss: 0.0568 - acc: 0.9825\n",
      "Epoch 00017: ReduceLROnPlateau reducing learning rate to 9.999999717180686e-11.\n",
      "6/6 [==============================] - 19s 3s/step - loss: 0.0600 - acc: 0.9815 - val_loss: 0.1171 - val_acc: 0.9750\n",
      "Epoch 18/20\n",
      "6/6 [==============================] - 19s 3s/step - loss: 0.0622 - acc: 0.9841 - val_loss: 0.1188 - val_acc: 0.9750\n",
      "Epoch 19/20\n",
      "6/6 [==============================] - 19s 3s/step - loss: 0.0675 - acc: 0.9788 - val_loss: 0.1221 - val_acc: 0.9750\n",
      "Epoch 20/20\n",
      "6/6 [==============================] - 19s 3s/step - loss: 0.0513 - acc: 0.9815 - val_loss: 0.1151 - val_acc: 0.9833\n"
     ]
    },
    {
     "data": {
      "text/plain": [
       "<tensorflow.python.keras.callbacks.History at 0x7fc53e9a6940>"
      ]
     },
     "execution_count": 99,
     "metadata": {},
     "output_type": "execute_result"
    }
   ],
   "source": [
    "model.fit_generator(train_generator, epochs=20,\n",
    "                    callbacks=[reduce_lr],\n",
    "                   validation_data = validation_generator,\n",
    "                   validation_steps = validation_generator.samples // 88)"
   ]
  },
  {
   "cell_type": "code",
   "execution_count": 100,
   "metadata": {
    "ExecuteTime": {
     "end_time": "2020-03-20T02:15:09.305110Z",
     "start_time": "2020-03-20T02:15:09.212092Z"
    }
   },
   "outputs": [],
   "source": [
    "model.save_weights('gerabasesvazios_tunned.hdf5')"
   ]
  },
  {
   "cell_type": "code",
   "execution_count": null,
   "metadata": {},
   "outputs": [],
   "source": []
  }
 ],
 "metadata": {
  "kernelspec": {
   "display_name": "Python 3",
   "language": "python",
   "name": "python3"
  },
  "language_info": {
   "codemirror_mode": {
    "name": "ipython",
    "version": 3
   },
   "file_extension": ".py",
   "mimetype": "text/x-python",
   "name": "python",
   "nbconvert_exporter": "python",
   "pygments_lexer": "ipython3",
   "version": "3.5.2"
  }
 },
 "nbformat": 4,
 "nbformat_minor": 2
}
