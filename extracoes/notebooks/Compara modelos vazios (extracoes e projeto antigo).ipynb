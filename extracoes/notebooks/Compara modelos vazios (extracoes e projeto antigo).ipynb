{
 "cells": [
  {
   "cell_type": "code",
   "execution_count": 1,
   "metadata": {
    "ExecuteTime": {
     "end_time": "2020-04-06T15:44:33.168905Z",
     "start_time": "2020-04-06T15:44:32.591892Z"
    }
   },
   "outputs": [],
   "source": [
    "import numpy as np\n",
    "import os\n",
    "from PIL import Image"
   ]
  },
  {
   "cell_type": "code",
   "execution_count": 8,
   "metadata": {
    "ExecuteTime": {
     "end_time": "2020-04-06T16:21:08.056330Z",
     "start_time": "2020-04-06T16:21:08.021913Z"
    }
   },
   "outputs": [
    {
     "name": "stdout",
     "output_type": "stream",
     "text": [
      "Model: \"sequential\"\n",
      "_________________________________________________________________\n",
      "Layer (type)                 Output Shape              Param #   \n",
      "=================================================================\n",
      "conv2d (Conv2D)              (None, 144, 288, 16)      1216      \n",
      "_________________________________________________________________\n",
      "max_pooling2d (MaxPooling2D) (None, 72, 72, 16)        0         \n",
      "_________________________________________________________________\n",
      "dropout (Dropout)            (None, 72, 72, 16)        0         \n",
      "_________________________________________________________________\n",
      "conv2d_1 (Conv2D)            (None, 72, 72, 32)        4640      \n",
      "_________________________________________________________________\n",
      "max_pooling2d_1 (MaxPooling2 (None, 36, 36, 32)        0         \n",
      "_________________________________________________________________\n",
      "dropout_1 (Dropout)          (None, 36, 36, 32)        0         \n",
      "_________________________________________________________________\n",
      "conv2d_2 (Conv2D)            (None, 34, 34, 64)        18496     \n",
      "_________________________________________________________________\n",
      "max_pooling2d_2 (MaxPooling2 (None, 17, 17, 64)        0         \n",
      "_________________________________________________________________\n",
      "dropout_2 (Dropout)          (None, 17, 17, 64)        0         \n",
      "_________________________________________________________________\n",
      "conv2d_3 (Conv2D)            (None, 15, 15, 128)       73856     \n",
      "_________________________________________________________________\n",
      "conv2d_4 (Conv2D)            (None, 13, 13, 128)       147584    \n",
      "_________________________________________________________________\n",
      "conv2d_5 (Conv2D)            (None, 13, 13, 128)       16512     \n",
      "_________________________________________________________________\n",
      "max_pooling2d_3 (MaxPooling2 (None, 6, 6, 128)         0         \n",
      "_________________________________________________________________\n",
      "dropout_3 (Dropout)          (None, 6, 6, 128)         0         \n",
      "_________________________________________________________________\n",
      "conv2d_6 (Conv2D)            (None, 4, 4, 256)         295168    \n",
      "_________________________________________________________________\n",
      "conv2d_7 (Conv2D)            (None, 2, 2, 256)         590080    \n",
      "_________________________________________________________________\n",
      "conv2d_8 (Conv2D)            (None, 2, 2, 512)         131584    \n",
      "_________________________________________________________________\n",
      "flatten (Flatten)            (None, 2048)              0         \n",
      "_________________________________________________________________\n",
      "dense (Dense)                (None, 512)               1049088   \n",
      "_________________________________________________________________\n",
      "dropout_4 (Dropout)          (None, 512)               0         \n",
      "_________________________________________________________________\n",
      "dense_1 (Dense)              (None, 1)                 513       \n",
      "=================================================================\n",
      "Total params: 2,328,737\n",
      "Trainable params: 2,328,737\n",
      "Non-trainable params: 0\n",
      "_________________________________________________________________\n"
     ]
    }
   ],
   "source": [
    "# Melhor modelo vazio extrações\n",
    "from model01 import model\n",
    "model.load_weights('gerabasesvazios_cropped_tunned.hdf5')\n",
    "SIZE = (288, 144)\n",
    "\n",
    "def prepare_images(filenames, path, size=SIZE):\n",
    "    images = np.zeros((len(filenames), size[1], size[0], 3))\n",
    "    for ind, filename in enumerate(filenames):\n",
    "        image = Image.open(os.path.join(path, filename))\n",
    "        image = image.resize(size, Image.LANCZOS)\n",
    "        image_array = np.array(image) / 255\n",
    "        images[ind, :, :, :] = image_array\n",
    "    return images\n",
    "model.summary()"
   ]
  },
  {
   "cell_type": "code",
   "execution_count": 9,
   "metadata": {
    "ExecuteTime": {
     "end_time": "2020-04-06T16:21:23.735284Z",
     "start_time": "2020-04-06T16:21:23.562907Z"
    }
   },
   "outputs": [
    {
     "name": "stdout",
     "output_type": "stream",
     "text": [
      "Model: \"sequential_2\"\n",
      "_________________________________________________________________\n",
      "Layer (type)                 Output Shape              Param #   \n",
      "=================================================================\n",
      "conv2d_15 (Conv2D)           (None, 224, 224, 16)      448       \n",
      "_________________________________________________________________\n",
      "max_pooling2d_9 (MaxPooling2 (None, 112, 112, 16)      0         \n",
      "_________________________________________________________________\n",
      "conv2d_16 (Conv2D)           (None, 112, 112, 32)      4640      \n",
      "_________________________________________________________________\n",
      "max_pooling2d_10 (MaxPooling (None, 56, 56, 32)        0         \n",
      "_________________________________________________________________\n",
      "dropout_10 (Dropout)         (None, 56, 56, 32)        0         \n",
      "_________________________________________________________________\n",
      "conv2d_17 (Conv2D)           (None, 56, 56, 64)        18496     \n",
      "_________________________________________________________________\n",
      "max_pooling2d_11 (MaxPooling (None, 28, 28, 64)        0         \n",
      "_________________________________________________________________\n",
      "dropout_11 (Dropout)         (None, 28, 28, 64)        0         \n",
      "_________________________________________________________________\n",
      "conv2d_18 (Conv2D)           (None, 28, 28, 128)       73856     \n",
      "_________________________________________________________________\n",
      "max_pooling2d_12 (MaxPooling (None, 14, 14, 128)       0         \n",
      "_________________________________________________________________\n",
      "dropout_12 (Dropout)         (None, 14, 14, 128)       0         \n",
      "_________________________________________________________________\n",
      "conv2d_19 (Conv2D)           (None, 12, 12, 128)       147584    \n",
      "_________________________________________________________________\n",
      "max_pooling2d_13 (MaxPooling (None, 6, 6, 128)         0         \n",
      "_________________________________________________________________\n",
      "dropout_13 (Dropout)         (None, 6, 6, 128)         0         \n",
      "_________________________________________________________________\n",
      "conv2d_20 (Conv2D)           (None, 4, 4, 256)         295168    \n",
      "_________________________________________________________________\n",
      "flatten_2 (Flatten)          (None, 4096)              0         \n",
      "_________________________________________________________________\n",
      "dense_4 (Dense)              (None, 256)               1048832   \n",
      "_________________________________________________________________\n",
      "dropout_14 (Dropout)         (None, 256)               0         \n",
      "_________________________________________________________________\n",
      "dense_5 (Dense)              (None, 1)                 257       \n",
      "=================================================================\n",
      "Total params: 1,589,281\n",
      "Trainable params: 1,589,281\n",
      "Non-trainable params: 0\n",
      "_________________________________________________________________\n"
     ]
    }
   ],
   "source": [
    "# melhor modelo do notebook 01b3\n",
    "import tensorflow as tf\n",
    "from tensorflow.keras.layers import Dense, Dropout, Flatten\n",
    "from tensorflow.keras.layers import Conv2D, MaxPooling2D\n",
    "SIZE2 = (224, 224)\n",
    "\n",
    "model2 = tf.keras.models.Sequential([\n",
    "  tf.keras.layers.Conv2D(16, (3, 3),\n",
    "                         padding='same',\n",
    "                         activation='relu',\n",
    "                         input_shape=(*SIZE2, 3)),\n",
    "  MaxPooling2D(pool_size=(2, 2)),\n",
    "  Conv2D(32, (3, 3), padding='same', activation='relu'),\n",
    "  MaxPooling2D(pool_size=(2, 2)),\n",
    "  Dropout(0.2),\n",
    "  Conv2D(64, (3, 3), padding='same', activation='relu'),\n",
    "  MaxPooling2D(pool_size=(2, 2)),\n",
    "  Dropout(0.25),\n",
    "  Conv2D(128, (3, 3), padding='same', activation='relu'),\n",
    "  MaxPooling2D(pool_size=(2, 2)),\n",
    "  Dropout(0.25),\n",
    "  Conv2D(128, (3, 3), activation='relu'),\n",
    "  MaxPooling2D(pool_size=(2, 2)),\n",
    "  Dropout(0.25),\n",
    "  Conv2D(256, (3, 3), activation='relu'),\n",
    "  Flatten(),\n",
    "  Dense(256, activation='relu'),\n",
    "  Dropout(0.4),\n",
    "  Dense(1, activation='sigmoid')\n",
    " \n",
    "])\n",
    "model2.load_weights(os.path.join('..', '..', 'models', 'B3modelweights.17-0.08.hdf5'))\n",
    "model2.summary()"
   ]
  },
  {
   "cell_type": "code",
   "execution_count": 4,
   "metadata": {
    "ExecuteTime": {
     "end_time": "2020-04-06T15:44:51.294555Z",
     "start_time": "2020-04-06T15:44:51.284811Z"
    }
   },
   "outputs": [],
   "source": [
    "VAZIOS_PATH = 'vazios_cropped/VAZIO'\n",
    "NVAZIOS_PATH = 'vazios_cropped/NVAZIO'\n",
    "\n",
    "caminho_bases = os.path.join('..', '..', 'bases', 'vazios')\n",
    "VAZIOS_PATH2 = os.path.join(caminho_bases, 'train', 'vazio')\n",
    "NVAZIOS_PATH2 = os.path.join(caminho_bases, 'test', 'nvazio')"
   ]
  },
  {
   "cell_type": "code",
   "execution_count": 78,
   "metadata": {
    "ExecuteTime": {
     "end_time": "2020-04-06T15:38:48.971019Z",
     "start_time": "2020-04-06T15:38:40.281152Z"
    }
   },
   "outputs": [],
   "source": [
    "vazios = prepare_images(os.listdir(VAZIOS_PATH)[:1024], VAZIOS_PATH, SIZE)\n",
    "vazios2 = prepare_images(os.listdir(VAZIOS_PATH2)[:1024], VAZIOS_PATH2, SIZE)\n",
    "\n",
    "preds = model.predict(vazios)\n",
    "preds2 = model.predict(vazios2)"
   ]
  },
  {
   "cell_type": "code",
   "execution_count": 68,
   "metadata": {
    "ExecuteTime": {
     "end_time": "2020-04-06T15:33:50.319857Z",
     "start_time": "2020-04-06T15:33:23.530854Z"
    }
   },
   "outputs": [],
   "source": [
    "vazios = prepare_images(os.listdir(VAZIOS_PATH)[:1024], VAZIOS_PATH, SIZE2)\n",
    "vazios2 = prepare_images(os.listdir(VAZIOS_PATH2)[:1024], VAZIOS_PATH2, SIZE2)\n",
    "\n",
    "preds_model2 = model2.predict(vazios)\n",
    "preds2_model2 = model2.predict(vazios2)"
   ]
  },
  {
   "cell_type": "code",
   "execution_count": 83,
   "metadata": {
    "ExecuteTime": {
     "end_time": "2020-04-06T15:40:51.870572Z",
     "start_time": "2020-04-06T15:40:51.862739Z"
    }
   },
   "outputs": [
    {
     "name": "stdout",
     "output_type": "stream",
     "text": [
      "[1.]\n",
      "[1.]\n",
      "[0.99784017]\n",
      "[1.]\n"
     ]
    }
   ],
   "source": [
    "print(sum(preds >= 0.5) / len(preds))\n",
    "print(sum(preds2 >= 0.5)/ len(preds2))\n",
    "print(sum(preds_model2 >= 0.5)/ len(preds_model2))\n",
    "print(sum(preds2_model2 >= 0.5)/ len(preds2_model2))\n"
   ]
  },
  {
   "cell_type": "code",
   "execution_count": 5,
   "metadata": {
    "ExecuteTime": {
     "end_time": "2020-04-06T15:45:02.579537Z",
     "start_time": "2020-04-06T15:44:51.311040Z"
    }
   },
   "outputs": [],
   "source": [
    "nvazios = prepare_images(os.listdir(NVAZIOS_PATH)[:1024], NVAZIOS_PATH, SIZE)\n",
    "nvazios2 = prepare_images(os.listdir(NVAZIOS_PATH2)[:1024], NVAZIOS_PATH2, SIZE)\n",
    "\n",
    "preds = model.predict(nvazios)\n",
    "preds2 = model.predict(nvazios2)"
   ]
  },
  {
   "cell_type": "code",
   "execution_count": 6,
   "metadata": {
    "ExecuteTime": {
     "end_time": "2020-04-06T15:45:09.363693Z",
     "start_time": "2020-04-06T15:45:02.581329Z"
    }
   },
   "outputs": [],
   "source": [
    "nvazios = prepare_images(os.listdir(NVAZIOS_PATH)[:1024], NVAZIOS_PATH, SIZE2)\n",
    "nvazios2 = prepare_images(os.listdir(NVAZIOS_PATH2)[:1024], NVAZIOS_PATH2, SIZE2)\n",
    "\n",
    "preds_model2 = model2.predict(nvazios)\n",
    "preds2_model2 = model2.predict(nvazios2)"
   ]
  },
  {
   "cell_type": "code",
   "execution_count": 7,
   "metadata": {
    "ExecuteTime": {
     "end_time": "2020-04-06T15:45:09.378524Z",
     "start_time": "2020-04-06T15:45:09.367234Z"
    }
   },
   "outputs": [
    {
     "name": "stdout",
     "output_type": "stream",
     "text": [
      "[0.93347193]\n",
      "[0.859375]\n",
      "[0.995842]\n",
      "[0.92578125]\n"
     ]
    }
   ],
   "source": [
    "print(sum(preds < 0.5) / len(preds))\n",
    "print(sum(preds2 < 0.5)/ len(preds2))\n",
    "print(sum(preds_model2 < 0.5)/ len(preds_model2))\n",
    "print(sum(preds2_model2 < 0.5)/ len(preds2_model2))\n"
   ]
  },
  {
   "cell_type": "code",
   "execution_count": null,
   "metadata": {},
   "outputs": [],
   "source": []
  }
 ],
 "metadata": {
  "kernelspec": {
   "display_name": "venv_gym2",
   "language": "python",
   "name": "venv_gym2"
  },
  "language_info": {
   "codemirror_mode": {
    "name": "ipython",
    "version": 3
   },
   "file_extension": ".py",
   "mimetype": "text/x-python",
   "name": "python",
   "nbconvert_exporter": "python",
   "pygments_lexer": "ipython3",
   "version": "3.5.2"
  }
 },
 "nbformat": 4,
 "nbformat_minor": 2
}
