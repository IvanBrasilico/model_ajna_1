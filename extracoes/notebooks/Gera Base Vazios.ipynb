{
 "cells": [
  {
   "cell_type": "code",
   "execution_count": 6,
   "metadata": {
    "ExecuteTime": {
     "end_time": "2020-03-19T10:39:21.291824Z",
     "start_time": "2020-03-19T10:39:21.284742Z"
    }
   },
   "outputs": [],
   "source": [
    "import os\n",
    "import shutil\n",
    "import sys\n",
    "import time\n",
    "from PIL import Image\n",
    "from datetime import date, datetime, timedelta\n",
    "\n",
    "\n",
    "sys.path.insert(0, '..')\n",
    "from utils import mongodb\n",
    "from vazios_cheios import cursor_vazio_nvazio, extract_to\n"
   ]
  },
  {
   "cell_type": "code",
   "execution_count": 7,
   "metadata": {
    "ExecuteTime": {
     "end_time": "2020-03-19T10:39:21.702704Z",
     "start_time": "2020-03-19T10:39:21.688280Z"
    }
   },
   "outputs": [],
   "source": [
    "#if os.path.exists('vazios'):\n",
    "#    shutil.rmtree('vazios')"
   ]
  },
  {
   "cell_type": "markdown",
   "metadata": {},
   "source": [
    "## Generate vazios database"
   ]
  },
  {
   "cell_type": "code",
   "execution_count": 8,
   "metadata": {
    "ExecuteTime": {
     "end_time": "2020-03-19T10:39:25.846354Z",
     "start_time": "2020-03-19T10:39:24.124938Z"
    }
   },
   "outputs": [
    {
     "name": "stdout",
     "output_type": "stream",
     "text": [
      "(600, 365)  - abortando...\n",
      "(600, 365)  - abortando...\n",
      "99 arquivos exportados...\n",
      "0.83 segundos para processar 99 registros\n",
      "(600, 353)  - abortando...\n",
      "(600, 357)  - abortando...\n",
      "(600, 343)  - abortando...\n",
      "99 arquivos exportados...\n",
      "0.89 segundos para processar 99 registros\n"
     ]
    }
   ],
   "source": [
    "start = datetime(2017, 7, 1)\n",
    "end = datetime.today()\n",
    "limit = 100\n",
    "for label in (True, False):\n",
    "    s0 = time.time()\n",
    "    cursor = cursor_vazio_nvazio(mongodb, start, end, limit, label)\n",
    "    count = extract_to(cursor)\n",
    "    s1 = time.time()\n",
    "    print('{:0.2f} segundos para processar {:d} registros'.format((s1 - s0), count))\n"
   ]
  },
  {
   "cell_type": "markdown",
   "metadata": {},
   "source": [
    "## Example: Training a very basic convolutional network"
   ]
  },
  {
   "cell_type": "code",
   "execution_count": 9,
   "metadata": {
    "ExecuteTime": {
     "end_time": "2020-03-19T10:42:27.239613Z",
     "start_time": "2020-03-19T10:42:03.183599Z"
    }
   },
   "outputs": [
    {
     "ename": "ImportError",
     "evalue": "No module named 'tensorflow.keras'",
     "output_type": "error",
     "traceback": [
      "\u001b[0;31m---------------------------------------------------------------------------\u001b[0m",
      "\u001b[0;31mImportError\u001b[0m                               Traceback (most recent call last)",
      "\u001b[0;32m<ipython-input-9-5168cc246807>\u001b[0m in \u001b[0;36m<module>\u001b[0;34m\u001b[0m\n\u001b[0;32m----> 1\u001b[0;31m \u001b[0;32mfrom\u001b[0m \u001b[0mtensorflow\u001b[0m\u001b[0;34m.\u001b[0m\u001b[0mkeras\u001b[0m \u001b[0;32mimport\u001b[0m \u001b[0mlayers\u001b[0m\u001b[0;34m\u001b[0m\u001b[0m\n\u001b[0m",
      "\u001b[0;31mImportError\u001b[0m: No module named 'tensorflow.keras'"
     ]
    }
   ],
   "source": [
    "from tensorflow.keras import layers"
   ]
  },
  {
   "cell_type": "code",
   "execution_count": null,
   "metadata": {},
   "outputs": [],
   "source": [
    "def conv_pool(x, size):\n",
    "    x = layers.Conv2d(3, 3, size)(x)\n",
    "    x = layers.MaxPool2d(2, 2)(x)"
   ]
  },
  {
   "cell_type": "code",
   "execution_count": 11,
   "metadata": {
    "ExecuteTime": {
     "end_time": "2020-03-19T10:43:02.529157Z",
     "start_time": "2020-03-19T10:43:02.330423Z"
    }
   },
   "outputs": [
    {
     "name": "stdout",
     "output_type": "stream",
     "text": [
      "/home/ivan/PycharmProjects/bhadrasana2/bhadrasana-venv/bin/python\r\n"
     ]
    }
   ],
   "source": [
    "!which python"
   ]
  },
  {
   "cell_type": "code",
   "execution_count": null,
   "metadata": {},
   "outputs": [],
   "source": []
  }
 ],
 "metadata": {
  "kernelspec": {
   "display_name": "Python 3",
   "language": "python",
   "name": "python3"
  },
  "language_info": {
   "codemirror_mode": {
    "name": "ipython",
    "version": 3
   },
   "file_extension": ".py",
   "mimetype": "text/x-python",
   "name": "python",
   "nbconvert_exporter": "python",
   "pygments_lexer": "ipython3",
   "version": "3.5.2"
  }
 },
 "nbformat": 4,
 "nbformat_minor": 2
}
