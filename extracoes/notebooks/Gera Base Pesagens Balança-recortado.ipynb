{
 "cells": [
  {
   "cell_type": "code",
   "execution_count": 2,
   "metadata": {
    "ExecuteTime": {
     "end_time": "2020-03-21T19:57:56.089981Z",
     "start_time": "2020-03-21T19:57:56.083777Z"
    }
   },
   "outputs": [],
   "source": [
    "import os\n",
    "import shutil\n",
    "import sys\n",
    "import time\n",
    "from PIL import Image\n",
    "from datetime import date, datetime, timedelta\n",
    "\n",
    "sys.path.insert(0, '..')\n",
    "from utils import mongodb\n",
    "from pesagensbalanca import cursor_pesagensbalanca, extract_to"
   ]
  },
  {
   "cell_type": "markdown",
   "metadata": {},
   "source": [
    "## Generate vazios database\n",
    "\n",
    "#### Necessário acesso ao Servidor ajna.labin.rf08.srf (e habilitação no AJNA) ou acesso ao Servidor mongo.labin.rf08.srf (e senha do banco)"
   ]
  },
  {
   "cell_type": "code",
   "execution_count": 4,
   "metadata": {
    "ExecuteTime": {
     "end_time": "2020-03-20T12:02:34.534089Z",
     "start_time": "2020-03-20T12:02:34.532314Z"
    }
   },
   "outputs": [],
   "source": [
    "#if os.path.exists('pesagensbalanca_cropped'):\n",
    "#    shutil.rmtree('pesagensbalanca_cropped')\n",
    "#    os.remove('pesos.txt')"
   ]
  },
  {
   "cell_type": "code",
   "execution_count": 3,
   "metadata": {
    "ExecuteTime": {
     "end_time": "2020-03-21T20:00:58.522082Z",
     "start_time": "2020-03-21T20:00:20.764342Z"
    }
   },
   "outputs": [
    {
     "ename": "KeyError",
     "evalue": "'pesagens'",
     "output_type": "error",
     "traceback": [
      "\u001b[0;31m---------------------------------------------------------------------------\u001b[0m",
      "\u001b[0;31mKeyError\u001b[0m                                  Traceback (most recent call last)",
      "\u001b[0;32m<ipython-input-3-7b51768e1e19>\u001b[0m in \u001b[0;36m<module>\u001b[0;34m\u001b[0m\n\u001b[1;32m      4\u001b[0m \u001b[0ms0\u001b[0m \u001b[0;34m=\u001b[0m \u001b[0mtime\u001b[0m\u001b[0;34m.\u001b[0m\u001b[0mtime\u001b[0m\u001b[0;34m(\u001b[0m\u001b[0;34m)\u001b[0m\u001b[0;34m\u001b[0m\u001b[0m\n\u001b[1;32m      5\u001b[0m \u001b[0mcursor\u001b[0m \u001b[0;34m=\u001b[0m \u001b[0mcursor_pesagensbalanca\u001b[0m\u001b[0;34m(\u001b[0m\u001b[0mmongodb\u001b[0m\u001b[0;34m,\u001b[0m \u001b[0mstart\u001b[0m\u001b[0;34m,\u001b[0m \u001b[0mend\u001b[0m\u001b[0;34m,\u001b[0m \u001b[0mlimit\u001b[0m\u001b[0;34m,\u001b[0m \u001b[0mcrop\u001b[0m\u001b[0;34m=\u001b[0m\u001b[0;32mTrue\u001b[0m\u001b[0;34m)\u001b[0m\u001b[0;34m\u001b[0m\u001b[0m\n\u001b[0;32m----> 6\u001b[0;31m \u001b[0mcount\u001b[0m \u001b[0;34m=\u001b[0m \u001b[0mextract_to\u001b[0m\u001b[0;34m(\u001b[0m\u001b[0mcursor\u001b[0m\u001b[0;34m,\u001b[0m \u001b[0mcrop\u001b[0m\u001b[0;34m=\u001b[0m\u001b[0;32mTrue\u001b[0m\u001b[0;34m)\u001b[0m\u001b[0;34m\u001b[0m\u001b[0m\n\u001b[0m\u001b[1;32m      7\u001b[0m \u001b[0ms1\u001b[0m \u001b[0;34m=\u001b[0m \u001b[0mtime\u001b[0m\u001b[0;34m.\u001b[0m\u001b[0mtime\u001b[0m\u001b[0;34m(\u001b[0m\u001b[0;34m)\u001b[0m\u001b[0;34m\u001b[0m\u001b[0m\n\u001b[1;32m      8\u001b[0m \u001b[0mprint\u001b[0m\u001b[0;34m(\u001b[0m\u001b[0;34m'{:0.2f} segundos para processar {:d} registros'\u001b[0m\u001b[0;34m.\u001b[0m\u001b[0mformat\u001b[0m\u001b[0;34m(\u001b[0m\u001b[0;34m(\u001b[0m\u001b[0ms1\u001b[0m \u001b[0;34m-\u001b[0m \u001b[0ms0\u001b[0m\u001b[0;34m)\u001b[0m\u001b[0;34m,\u001b[0m \u001b[0mcount\u001b[0m\u001b[0;34m)\u001b[0m\u001b[0;34m)\u001b[0m\u001b[0;34m\u001b[0m\u001b[0m\n",
      "\u001b[0;32m~/pybr/projeto/extracoes/pesagensbalanca.py\u001b[0m in \u001b[0;36mextract_to\u001b[0;34m(rows, crop, min_ratio)\u001b[0m\n\u001b[1;32m     57\u001b[0m     \u001b[0;32mwith\u001b[0m \u001b[0mopen\u001b[0m\u001b[0;34m(\u001b[0m\u001b[0;34m'pesos.txt'\u001b[0m\u001b[0;34m,\u001b[0m \u001b[0;34m'w'\u001b[0m\u001b[0;34m)\u001b[0m \u001b[0;32mas\u001b[0m \u001b[0mpeso_out\u001b[0m\u001b[0;34m:\u001b[0m\u001b[0;34m\u001b[0m\u001b[0m\n\u001b[1;32m     58\u001b[0m         \u001b[0mpeso_out\u001b[0m\u001b[0;34m.\u001b[0m\u001b[0mwrite\u001b[0m\u001b[0;34m(\u001b[0m\u001b[0;34m'id,peso'\u001b[0m \u001b[0;34m+\u001b[0m \u001b[0;34m'\\n'\u001b[0m\u001b[0;34m)\u001b[0m\u001b[0;34m\u001b[0m\u001b[0m\n\u001b[0;32m---> 59\u001b[0;31m         \u001b[0;32mfor\u001b[0m \u001b[0mcount\u001b[0m\u001b[0;34m,\u001b[0m \u001b[0mrow\u001b[0m \u001b[0;32min\u001b[0m \u001b[0menumerate\u001b[0m\u001b[0;34m(\u001b[0m\u001b[0mrows\u001b[0m\u001b[0;34m)\u001b[0m\u001b[0;34m:\u001b[0m\u001b[0;34m\u001b[0m\u001b[0m\n\u001b[0m\u001b[1;32m     60\u001b[0m             \u001b[0m_id\u001b[0m \u001b[0;34m=\u001b[0m \u001b[0mrow\u001b[0m\u001b[0;34m[\u001b[0m\u001b[0;34m'_id'\u001b[0m\u001b[0;34m]\u001b[0m\u001b[0;34m\u001b[0m\u001b[0m\n\u001b[1;32m     61\u001b[0m             \u001b[0mpesobalanca\u001b[0m \u001b[0;34m=\u001b[0m \u001b[0mget_peso_balanca\u001b[0m\u001b[0;34m(\u001b[0m\u001b[0mrow\u001b[0m\u001b[0;34m[\u001b[0m\u001b[0;34m'metadata'\u001b[0m\u001b[0;34m]\u001b[0m\u001b[0;34m[\u001b[0m\u001b[0;34m'pesagens'\u001b[0m\u001b[0;34m]\u001b[0m\u001b[0;34m)\u001b[0m\u001b[0;34m\u001b[0m\u001b[0m\n",
      "\u001b[0;31mKeyError\u001b[0m: 'pesagens'"
     ]
    }
   ],
   "source": [
    "start = datetime(2017, 7, 1)\n",
    "end = datetime.today()\n",
    "limit = 500\n",
    "s0 = time.time()\n",
    "cursor = cursor_pesagensbalanca(mongodb, start, end, limit, crop=True)\n",
    "count = extract_to(cursor, crop=True)\n",
    "s1 = time.time()\n",
    "print('{:0.2f} segundos para processar {:d} registros'.format((s1 - s0), count))\n"
   ]
  },
  {
   "cell_type": "markdown",
   "metadata": {},
   "source": [
    "## Example: Training a very basic convolutional network"
   ]
  },
  {
   "cell_type": "code",
   "execution_count": 2,
   "metadata": {
    "ExecuteTime": {
     "end_time": "2020-03-20T12:11:05.966239Z",
     "start_time": "2020-03-20T12:11:03.065687Z"
    }
   },
   "outputs": [],
   "source": [
    "from tensorflow.keras import layers\n",
    "from tensorflow.keras import models\n",
    "from tensorflow.keras import optimizers\n",
    "from tensorflow.keras.preprocessing.image import ImageDataGenerator\n",
    "from tensorflow.keras.callbacks import ReduceLROnPlateau\n"
   ]
  },
  {
   "cell_type": "code",
   "execution_count": 3,
   "metadata": {
    "ExecuteTime": {
     "end_time": "2020-03-20T12:11:08.308240Z",
     "start_time": "2020-03-20T12:11:05.967807Z"
    }
   },
   "outputs": [
    {
     "name": "stdout",
     "output_type": "stream",
     "text": [
      "Model: \"sequential\"\n",
      "_________________________________________________________________\n",
      "Layer (type)                 Output Shape              Param #   \n",
      "=================================================================\n",
      "conv2d (Conv2D)              (None, 144, 288, 16)      1216      \n",
      "_________________________________________________________________\n",
      "max_pooling2d (MaxPooling2D) (None, 72, 72, 16)        0         \n",
      "_________________________________________________________________\n",
      "dropout (Dropout)            (None, 72, 72, 16)        0         \n",
      "_________________________________________________________________\n",
      "conv2d_1 (Conv2D)            (None, 72, 72, 32)        4640      \n",
      "_________________________________________________________________\n",
      "max_pooling2d_1 (MaxPooling2 (None, 36, 36, 32)        0         \n",
      "_________________________________________________________________\n",
      "dropout_1 (Dropout)          (None, 36, 36, 32)        0         \n",
      "_________________________________________________________________\n",
      "conv2d_2 (Conv2D)            (None, 34, 34, 64)        18496     \n",
      "_________________________________________________________________\n",
      "max_pooling2d_2 (MaxPooling2 (None, 17, 17, 64)        0         \n",
      "_________________________________________________________________\n",
      "dropout_2 (Dropout)          (None, 17, 17, 64)        0         \n",
      "_________________________________________________________________\n",
      "conv2d_3 (Conv2D)            (None, 15, 15, 128)       73856     \n",
      "_________________________________________________________________\n",
      "conv2d_4 (Conv2D)            (None, 13, 13, 128)       147584    \n",
      "_________________________________________________________________\n",
      "conv2d_5 (Conv2D)            (None, 13, 13, 128)       16512     \n",
      "_________________________________________________________________\n",
      "max_pooling2d_3 (MaxPooling2 (None, 6, 6, 128)         0         \n",
      "_________________________________________________________________\n",
      "dropout_3 (Dropout)          (None, 6, 6, 128)         0         \n",
      "_________________________________________________________________\n",
      "conv2d_6 (Conv2D)            (None, 4, 4, 256)         295168    \n",
      "_________________________________________________________________\n",
      "conv2d_7 (Conv2D)            (None, 2, 2, 256)         590080    \n",
      "_________________________________________________________________\n",
      "conv2d_8 (Conv2D)            (None, 2, 2, 512)         131584    \n",
      "_________________________________________________________________\n",
      "flatten (Flatten)            (None, 2048)              0         \n",
      "_________________________________________________________________\n",
      "dense (Dense)                (None, 512)               1049088   \n",
      "_________________________________________________________________\n",
      "dropout_4 (Dropout)          (None, 512)               0         \n",
      "_________________________________________________________________\n",
      "dense_1 (Dense)              (None, 1)                 513       \n",
      "=================================================================\n",
      "Total params: 2,328,737\n",
      "Trainable params: 2,328,737\n",
      "Non-trainable params: 0\n",
      "_________________________________________________________________\n"
     ]
    }
   ],
   "source": [
    "model = models.Sequential([\n",
    "  layers.Conv2D(16, (5, 5), activation='relu',\n",
    "                padding='same',\n",
    "                input_shape=(144, 288, 3)),\n",
    "  layers.MaxPooling2D(pool_size=(2, 4)),\n",
    "  layers.Dropout(0.25),\n",
    "  layers.Conv2D(32, (3, 3), activation='relu', padding='same'),\n",
    "  layers.MaxPooling2D(pool_size=(2, 2)),\n",
    "  layers.Dropout(0.25),\n",
    "  layers.Conv2D(64, (3, 3), activation='relu'),\n",
    "  layers.MaxPooling2D(pool_size=(2, 2)),\n",
    "  layers.Dropout(0.25),\n",
    "  layers.Conv2D(128, (3, 3), activation='relu'),\n",
    "  layers.Conv2D(128, (3, 3), activation='relu'),\n",
    "  layers.Conv2D(128, (1, 1), activation='relu'),\n",
    "  layers.MaxPooling2D(pool_size=(2, 2)),\n",
    "  layers.Dropout(0.25),\n",
    "  layers.Conv2D(256, (3, 3), activation='relu'),\n",
    "  layers.Conv2D(256, (3, 3), activation='relu'),\n",
    "  layers.Conv2D(512, (1, 1), activation='relu'),\n",
    "  layers.Flatten(),\n",
    "  layers.Dense(512, activation='relu'),\n",
    "  layers.Dropout(0.4),\n",
    "  layers.Dense(1)\n",
    " \n",
    "])\n",
    "\n",
    "model.compile(optimizer=optimizers.Adam(lr=0.001), loss='mean_squared_error', metrics=['mse'])\n",
    "model.summary()"
   ]
  },
  {
   "cell_type": "code",
   "execution_count": null,
   "metadata": {},
   "outputs": [],
   "source": [
    "df = pd.read_csv('pesos.txt')\n",
    "df.head()"
   ]
  },
  {
   "cell_type": "code",
   "execution_count": 4,
   "metadata": {
    "ExecuteTime": {
     "end_time": "2020-03-20T12:11:08.551468Z",
     "start_time": "2020-03-20T12:11:08.310704Z"
    }
   },
   "outputs": [
    {
     "name": "stdout",
     "output_type": "stream",
     "text": [
      "Found 756 images belonging to 2 classes.\n",
      "Found 188 images belonging to 2 classes.\n"
     ]
    }
   ],
   "source": [
    "train_datagen = ImageDataGenerator(\n",
    "    rescale=1./255,\n",
    "    width_shift_range=0.05,\n",
    "    height_shift_range=0.05,\n",
    "    brightness_range=[0.9, 1.1],\n",
    "    fill_mode='nearest',\n",
    "    horizontal_flip=True,\n",
    "    validation_split=0.2\n",
    ")\n",
    "\n",
    "train_generator = train_datagen.flow_from_dataframe(\n",
    "    dataframe=df, directory='pesagensbalanca_cropped',\n",
    "    x_col='id', y_col='peso', has_ext=False,\n",
    "    class_mode=\"other\", target_size=(144, 288),\n",
    "    batch_size=128,\n",
    "    subset='training'\n",
    ")\n",
    "train_generator = train_datagen.flow_from_dataframe(\n",
    "    dataframe=df, directory='pesagensbalanca_cropped',\n",
    "    x_col='id', y_col='peso', has_ext=False,\n",
    "    class_mode=\"other\", target_size=(144, 288),\n",
    "    batch_size=128,\n",
    "    subset='validation'\n",
    ")\n"
   ]
  },
  {
   "cell_type": "code",
   "execution_count": 5,
   "metadata": {
    "ExecuteTime": {
     "end_time": "2020-03-20T12:19:40.065317Z",
     "start_time": "2020-03-20T12:11:08.556755Z"
    }
   },
   "outputs": [
    {
     "name": "stdout",
     "output_type": "stream",
     "text": [
      "Train for 6 steps, validate for 3 steps\n",
      "Epoch 1/50\n",
      "6/6 [==============================] - 16s 3s/step - loss: 0.6244 - acc: 0.6508 - val_loss: 0.6163 - val_acc: 0.6833\n",
      "Epoch 2/50\n",
      "6/6 [==============================] - 10s 2s/step - loss: 0.5399 - acc: 0.7434 - val_loss: 0.5776 - val_acc: 0.8444\n",
      "Epoch 3/50\n",
      "6/6 [==============================] - 10s 2s/step - loss: 0.4429 - acc: 0.8267 - val_loss: 0.5215 - val_acc: 0.8278\n",
      "Epoch 4/50\n",
      "6/6 [==============================] - 11s 2s/step - loss: 0.4264 - acc: 0.8016 - val_loss: 0.5061 - val_acc: 0.7944\n",
      "Epoch 5/50\n",
      "6/6 [==============================] - 10s 2s/step - loss: 0.3415 - acc: 0.8558 - val_loss: 0.4364 - val_acc: 0.8833\n",
      "Epoch 6/50\n",
      "6/6 [==============================] - 10s 2s/step - loss: 0.2478 - acc: 0.8981 - val_loss: 0.4808 - val_acc: 0.7889\n",
      "Epoch 7/50\n",
      "6/6 [==============================] - 10s 2s/step - loss: 0.2989 - acc: 0.9074 - val_loss: 0.3537 - val_acc: 0.8444\n",
      "Epoch 8/50\n",
      "6/6 [==============================] - 10s 2s/step - loss: 0.3070 - acc: 0.8823 - val_loss: 0.3737 - val_acc: 0.8667\n",
      "Epoch 9/50\n",
      "6/6 [==============================] - 10s 2s/step - loss: 0.2589 - acc: 0.9101 - val_loss: 0.3586 - val_acc: 0.9222\n",
      "Epoch 10/50\n",
      "6/6 [==============================] - 10s 2s/step - loss: 0.2530 - acc: 0.9034 - val_loss: 0.3714 - val_acc: 0.8389\n",
      "Epoch 11/50\n",
      "6/6 [==============================] - 10s 2s/step - loss: 0.2640 - acc: 0.9074 - val_loss: 0.3465 - val_acc: 0.8944\n",
      "Epoch 12/50\n",
      "5/6 [========================>.....] - ETA: 1s - loss: 0.2604 - acc: 0.9047\n",
      "Epoch 00012: ReduceLROnPlateau reducing learning rate to 1.9999999494757503e-05.\n",
      "6/6 [==============================] - 11s 2s/step - loss: 0.2782 - acc: 0.8968 - val_loss: 0.3701 - val_acc: 0.8556\n",
      "Epoch 13/50\n",
      "6/6 [==============================] - 10s 2s/step - loss: 0.2298 - acc: 0.8995 - val_loss: 0.3604 - val_acc: 0.8833\n",
      "Epoch 14/50\n",
      "6/6 [==============================] - 10s 2s/step - loss: 0.1992 - acc: 0.9286 - val_loss: 0.3337 - val_acc: 0.9111\n",
      "Epoch 15/50\n",
      "6/6 [==============================] - 10s 2s/step - loss: 0.1756 - acc: 0.9365 - val_loss: 0.3131 - val_acc: 0.9111\n",
      "Epoch 16/50\n",
      "6/6 [==============================] - 10s 2s/step - loss: 0.1521 - acc: 0.9563 - val_loss: 0.2838 - val_acc: 0.9167\n",
      "Epoch 17/50\n",
      "6/6 [==============================] - 10s 2s/step - loss: 0.1445 - acc: 0.9563 - val_loss: 0.2602 - val_acc: 0.9389\n",
      "Epoch 18/50\n",
      "6/6 [==============================] - 9s 2s/step - loss: 0.1359 - acc: 0.9537 - val_loss: 0.2448 - val_acc: 0.9222\n",
      "Epoch 19/50\n",
      "6/6 [==============================] - 10s 2s/step - loss: 0.1333 - acc: 0.9497 - val_loss: 0.2223 - val_acc: 0.9444\n",
      "Epoch 20/50\n",
      "6/6 [==============================] - 10s 2s/step - loss: 0.1276 - acc: 0.9630 - val_loss: 0.2379 - val_acc: 0.9111\n",
      "Epoch 21/50\n",
      "6/6 [==============================] - 9s 2s/step - loss: 0.1397 - acc: 0.9577 - val_loss: 0.2165 - val_acc: 0.9278\n",
      "Epoch 22/50\n",
      "6/6 [==============================] - 9s 2s/step - loss: 0.1162 - acc: 0.9643 - val_loss: 0.2386 - val_acc: 0.8944\n",
      "Epoch 23/50\n",
      "6/6 [==============================] - 9s 2s/step - loss: 0.1207 - acc: 0.9577 - val_loss: 0.2169 - val_acc: 0.9111\n",
      "Epoch 24/50\n",
      "6/6 [==============================] - 9s 2s/step - loss: 0.1047 - acc: 0.9630 - val_loss: 0.1976 - val_acc: 0.9500\n",
      "Epoch 25/50\n",
      "6/6 [==============================] - 10s 2s/step - loss: 0.1244 - acc: 0.9577 - val_loss: 0.1953 - val_acc: 0.9556\n",
      "Epoch 26/50\n",
      "6/6 [==============================] - 10s 2s/step - loss: 0.1002 - acc: 0.9762 - val_loss: 0.1996 - val_acc: 0.9278\n",
      "Epoch 27/50\n",
      "6/6 [==============================] - 11s 2s/step - loss: 0.1121 - acc: 0.9683 - val_loss: 0.2266 - val_acc: 0.9000\n",
      "Epoch 28/50\n",
      "6/6 [==============================] - 10s 2s/step - loss: 0.1054 - acc: 0.9656 - val_loss: 0.2078 - val_acc: 0.9222\n",
      "Epoch 29/50\n",
      "5/6 [========================>.....] - ETA: 1s - loss: 0.1404 - acc: 0.9506\n",
      "Epoch 00029: ReduceLROnPlateau reducing learning rate to 3.999999898951501e-06.\n",
      "6/6 [==============================] - 11s 2s/step - loss: 0.1459 - acc: 0.9458 - val_loss: 0.2066 - val_acc: 0.9333\n",
      "Epoch 30/50\n",
      "6/6 [==============================] - 10s 2s/step - loss: 0.0909 - acc: 0.9775 - val_loss: 0.1999 - val_acc: 0.9500\n",
      "Epoch 31/50\n",
      "6/6 [==============================] - 10s 2s/step - loss: 0.0930 - acc: 0.9709 - val_loss: 0.1855 - val_acc: 0.9444\n",
      "Epoch 32/50\n",
      "6/6 [==============================] - 9s 2s/step - loss: 0.1015 - acc: 0.9735 - val_loss: 0.2071 - val_acc: 0.9222\n",
      "Epoch 33/50\n",
      "6/6 [==============================] - 9s 2s/step - loss: 0.1114 - acc: 0.9656 - val_loss: 0.2085 - val_acc: 0.9222\n",
      "Epoch 34/50\n",
      "6/6 [==============================] - 11s 2s/step - loss: 0.0929 - acc: 0.9762 - val_loss: 0.1937 - val_acc: 0.9333\n",
      "Epoch 35/50\n",
      "6/6 [==============================] - 10s 2s/step - loss: 0.1040 - acc: 0.9669 - val_loss: 0.2096 - val_acc: 0.9167\n",
      "Epoch 36/50\n",
      "5/6 [========================>.....] - ETA: 1s - loss: 0.0929 - acc: 0.9766\n",
      "Epoch 00036: ReduceLROnPlateau reducing learning rate to 7.999999979801942e-07.\n",
      "6/6 [==============================] - 9s 2s/step - loss: 0.0939 - acc: 0.9762 - val_loss: 0.1943 - val_acc: 0.9222\n",
      "Epoch 37/50\n",
      "6/6 [==============================] - 10s 2s/step - loss: 0.1067 - acc: 0.9696 - val_loss: 0.1857 - val_acc: 0.9500\n",
      "Epoch 38/50\n",
      "6/6 [==============================] - 11s 2s/step - loss: 0.0989 - acc: 0.9722 - val_loss: 0.1909 - val_acc: 0.9389\n",
      "Epoch 39/50\n",
      "6/6 [==============================] - 10s 2s/step - loss: 0.0970 - acc: 0.9656 - val_loss: 0.1925 - val_acc: 0.9333\n",
      "Epoch 40/50\n",
      "6/6 [==============================] - 10s 2s/step - loss: 0.0981 - acc: 0.9683 - val_loss: 0.1836 - val_acc: 0.9444\n",
      "Epoch 41/50\n",
      "5/6 [========================>.....] - ETA: 1s - loss: 0.0938 - acc: 0.9777\n",
      "Epoch 00041: ReduceLROnPlateau reducing learning rate to 1.600000018697756e-07.\n",
      "6/6 [==============================] - 9s 2s/step - loss: 0.0955 - acc: 0.9775 - val_loss: 0.1934 - val_acc: 0.9333\n",
      "Epoch 42/50\n",
      "6/6 [==============================] - 9s 2s/step - loss: 0.0988 - acc: 0.9735 - val_loss: 0.1806 - val_acc: 0.9389\n",
      "Epoch 43/50\n",
      "6/6 [==============================] - 9s 2s/step - loss: 0.1020 - acc: 0.9616 - val_loss: 0.1863 - val_acc: 0.9500\n",
      "Epoch 44/50\n",
      "6/6 [==============================] - 10s 2s/step - loss: 0.0931 - acc: 0.9696 - val_loss: 0.1967 - val_acc: 0.9333\n",
      "Epoch 45/50\n",
      "6/6 [==============================] - 10s 2s/step - loss: 0.0843 - acc: 0.9749 - val_loss: 0.1955 - val_acc: 0.9278\n",
      "Epoch 46/50\n",
      "5/6 [========================>.....] - ETA: 1s - loss: 0.0933 - acc: 0.9713\n",
      "Epoch 00046: ReduceLROnPlateau reducing learning rate to 3.199999980552093e-08.\n",
      "6/6 [==============================] - 9s 2s/step - loss: 0.0900 - acc: 0.9709 - val_loss: 0.2075 - val_acc: 0.9222\n",
      "Epoch 47/50\n",
      "6/6 [==============================] - 9s 2s/step - loss: 0.0994 - acc: 0.9683 - val_loss: 0.1967 - val_acc: 0.9278\n",
      "Epoch 48/50\n",
      "6/6 [==============================] - 11s 2s/step - loss: 0.1154 - acc: 0.9603 - val_loss: 0.2046 - val_acc: 0.9278\n",
      "Epoch 49/50\n",
      "6/6 [==============================] - 10s 2s/step - loss: 0.0854 - acc: 0.9735 - val_loss: 0.1968 - val_acc: 0.9389\n",
      "Epoch 50/50\n",
      "6/6 [==============================] - 10s 2s/step - loss: 0.0998 - acc: 0.9696 - val_loss: 0.1932 - val_acc: 0.9389\n"
     ]
    },
    {
     "data": {
      "text/plain": [
       "<tensorflow.python.keras.callbacks.History at 0x7ff87019f438>"
      ]
     },
     "execution_count": 5,
     "metadata": {},
     "output_type": "execute_result"
    }
   ],
   "source": [
    "\n",
    "model.fit(train_generator, epochs=50,\n",
    "         validation_data = validation_generator,\n",
    "         validation_steps = validation_generator.samples // 128)"
   ]
  },
  {
   "cell_type": "code",
   "execution_count": 6,
   "metadata": {
    "ExecuteTime": {
     "end_time": "2020-03-20T12:19:40.212486Z",
     "start_time": "2020-03-20T12:19:40.067659Z"
    }
   },
   "outputs": [],
   "source": [
    "model.save_weights('gerabasespesagens_cropped.hdf5')"
   ]
  },
  {
   "cell_type": "code",
   "execution_count": 7,
   "metadata": {
    "ExecuteTime": {
     "end_time": "2020-03-20T12:19:40.594354Z",
     "start_time": "2020-03-20T12:19:40.214190Z"
    }
   },
   "outputs": [
    {
     "name": "stdout",
     "output_type": "stream",
     "text": [
      "conv2d False\n",
      "max_pooling2d False\n",
      "dropout False\n",
      "conv2d_1 False\n",
      "max_pooling2d_1 False\n",
      "dropout_1 False\n",
      "conv2d_2 False\n",
      "max_pooling2d_2 False\n",
      "dropout_2 False\n",
      "conv2d_3 False\n",
      "conv2d_4 False\n",
      "conv2d_5 False\n",
      "max_pooling2d_3 False\n",
      "dropout_3 False\n",
      "conv2d_6 True\n",
      "conv2d_7 True\n",
      "conv2d_8 True\n",
      "flatten True\n",
      "dense True\n",
      "dropout_4 True\n",
      "dense_1 True\n"
     ]
    }
   ],
   "source": [
    "#Fine tunning\n",
    "for layer in model.layers:\n",
    "    layer.trainable = True\n",
    "\n",
    "for layer in model.layers[:-7]:\n",
    "    layer.trainable = False\n",
    "\n",
    "reduce_lr = ReduceLROnPlateau(monitor='val_mse', factor=0.1, patience=4,\n",
    "                          verbose=1, min_delta=1e-2, mode='min')\n",
    "\n",
    "model.compile(optimizer=optimizers.Adam(lr=0.000001), loss='mean_squared_error', metrics=['mse'])\n",
    "for l in model.layers:\n",
    "    print(l.name, l.trainable)"
   ]
  },
  {
   "cell_type": "code",
   "execution_count": 8,
   "metadata": {
    "ExecuteTime": {
     "end_time": "2020-03-20T12:22:28.139116Z",
     "start_time": "2020-03-20T12:19:40.595801Z"
    }
   },
   "outputs": [
    {
     "name": "stdout",
     "output_type": "stream",
     "text": [
      "Epoch 1/20\n",
      "6/6 [==============================] - 10s 2s/step - loss: 0.0885 - acc: 0.9749 - val_loss: 0.1888 - val_acc: 0.9333\n",
      "Epoch 2/20\n",
      "6/6 [==============================] - 8s 1s/step - loss: 0.0949 - acc: 0.9630 - val_loss: 0.1966 - val_acc: 0.9333\n",
      "Epoch 3/20\n",
      "6/6 [==============================] - 8s 1s/step - loss: 0.0902 - acc: 0.9722 - val_loss: 0.1939 - val_acc: 0.9278\n",
      "Epoch 4/20\n",
      "6/6 [==============================] - 7s 1s/step - loss: 0.0944 - acc: 0.9735 - val_loss: 0.1951 - val_acc: 0.9278\n",
      "Epoch 5/20\n",
      "5/6 [========================>.....] - ETA: 0s - loss: 0.0952 - acc: 0.9781\n",
      "Epoch 00005: ReduceLROnPlateau reducing learning rate to 9.999999974752428e-08.\n",
      "6/6 [==============================] - 8s 1s/step - loss: 0.0909 - acc: 0.9802 - val_loss: 0.1961 - val_acc: 0.9389\n",
      "Epoch 6/20\n",
      "6/6 [==============================] - 8s 1s/step - loss: 0.0911 - acc: 0.9669 - val_loss: 0.2009 - val_acc: 0.9278\n",
      "Epoch 7/20\n",
      "6/6 [==============================] - 8s 1s/step - loss: 0.1100 - acc: 0.9630 - val_loss: 0.2029 - val_acc: 0.9278\n",
      "Epoch 8/20\n",
      "6/6 [==============================] - 8s 1s/step - loss: 0.0999 - acc: 0.9735 - val_loss: 0.2087 - val_acc: 0.9222\n",
      "Epoch 9/20\n",
      "5/6 [========================>.....] - ETA: 0s - loss: 0.0925 - acc: 0.9682\n",
      "Epoch 00009: ReduceLROnPlateau reducing learning rate to 1.0000000116860975e-08.\n",
      "6/6 [==============================] - 8s 1s/step - loss: 0.0907 - acc: 0.9683 - val_loss: 0.1978 - val_acc: 0.9111\n",
      "Epoch 10/20\n",
      "6/6 [==============================] - 9s 2s/step - loss: 0.0908 - acc: 0.9630 - val_loss: 0.2036 - val_acc: 0.9278\n",
      "Epoch 11/20\n",
      "6/6 [==============================] - 8s 1s/step - loss: 0.0987 - acc: 0.9696 - val_loss: 0.1978 - val_acc: 0.9278\n",
      "Epoch 12/20\n",
      "6/6 [==============================] - 7s 1s/step - loss: 0.0945 - acc: 0.9735 - val_loss: 0.2065 - val_acc: 0.9278\n",
      "Epoch 13/20\n",
      "5/6 [========================>.....] - ETA: 0s - loss: 0.1040 - acc: 0.9703\n",
      "Epoch 00013: ReduceLROnPlateau reducing learning rate to 9.999999939225292e-10.\n",
      "6/6 [==============================] - 8s 1s/step - loss: 0.1001 - acc: 0.9696 - val_loss: 0.1994 - val_acc: 0.9333\n",
      "Epoch 14/20\n",
      "6/6 [==============================] - 8s 1s/step - loss: 0.1064 - acc: 0.9643 - val_loss: 0.1975 - val_acc: 0.9278\n",
      "Epoch 15/20\n",
      "6/6 [==============================] - 8s 1s/step - loss: 0.0886 - acc: 0.9683 - val_loss: 0.1908 - val_acc: 0.9444\n",
      "Epoch 16/20\n",
      "6/6 [==============================] - 11s 2s/step - loss: 0.0990 - acc: 0.9709 - val_loss: 0.1982 - val_acc: 0.9278\n",
      "Epoch 17/20\n",
      "5/6 [========================>.....] - ETA: 1s - loss: 0.0786 - acc: 0.9777\n",
      "Epoch 00017: ReduceLROnPlateau reducing learning rate to 9.999999717180686e-11.\n",
      "6/6 [==============================] - 11s 2s/step - loss: 0.0816 - acc: 0.9749 - val_loss: 0.2018 - val_acc: 0.9222\n",
      "Epoch 18/20\n",
      "6/6 [==============================] - 9s 2s/step - loss: 0.0890 - acc: 0.9762 - val_loss: 0.2042 - val_acc: 0.9278\n",
      "Epoch 19/20\n",
      "6/6 [==============================] - 9s 1s/step - loss: 0.1001 - acc: 0.9696 - val_loss: 0.2001 - val_acc: 0.9278\n",
      "Epoch 20/20\n",
      "6/6 [==============================] - 8s 1s/step - loss: 0.0920 - acc: 0.9722 - val_loss: 0.1999 - val_acc: 0.9222\n"
     ]
    },
    {
     "data": {
      "text/plain": [
       "<tensorflow.python.keras.callbacks.History at 0x7ff824101b70>"
      ]
     },
     "execution_count": 8,
     "metadata": {},
     "output_type": "execute_result"
    }
   ],
   "source": [
    "model.fit_generator(train_generator, epochs=20,\n",
    "                    callbacks=[reduce_lr],\n",
    "                   validation_data = validation_generator,\n",
    "                   validation_steps = validation_generator.samples // 128)"
   ]
  },
  {
   "cell_type": "code",
   "execution_count": 11,
   "metadata": {
    "ExecuteTime": {
     "end_time": "2020-03-20T11:49:19.623309Z",
     "start_time": "2020-03-20T11:49:19.591749Z"
    }
   },
   "outputs": [],
   "source": [
    "model.save_weights('gerabasespesagens_cropped_tunned.hdf5')"
   ]
  },
  {
   "cell_type": "code",
   "execution_count": null,
   "metadata": {},
   "outputs": [],
   "source": []
  }
 ],
 "metadata": {
  "kernelspec": {
   "display_name": "Python 3",
   "language": "python",
   "name": "python3"
  },
  "language_info": {
   "codemirror_mode": {
    "name": "ipython",
    "version": 3
   },
   "file_extension": ".py",
   "mimetype": "text/x-python",
   "name": "python",
   "nbconvert_exporter": "python",
   "pygments_lexer": "ipython3",
   "version": "3.5.2"
  }
 },
 "nbformat": 4,
 "nbformat_minor": 2
}
