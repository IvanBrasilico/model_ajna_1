{
 "cells": [
  {
   "cell_type": "code",
   "execution_count": 1,
   "metadata": {
    "ExecuteTime": {
     "end_time": "2020-04-06T12:34:06.147066Z",
     "start_time": "2020-04-06T12:34:05.481045Z"
    }
   },
   "outputs": [],
   "source": [
    "import os\n",
    "import shutil\n",
    "import sys\n",
    "import time\n",
    "from PIL import Image\n",
    "from datetime import date, datetime, timedelta\n",
    "\n",
    "\n",
    "sys.path.insert(0, '..')\n",
    "from utils import mongodb"
   ]
  },
  {
   "cell_type": "code",
   "execution_count": 2,
   "metadata": {
    "ExecuteTime": {
     "end_time": "2020-04-06T12:34:06.383392Z",
     "start_time": "2020-04-06T12:34:06.149737Z"
    }
   },
   "outputs": [],
   "source": [
    "from pesagensbalanca import cursor_pesagensbalanca, extract_to"
   ]
  },
  {
   "cell_type": "markdown",
   "metadata": {
    "heading_collapsed": true
   },
   "source": [
    "# Gera base de dados de pesagens\n",
    "Necessário acesso ao Banco de Dados ou ao Servidor"
   ]
  },
  {
   "cell_type": "code",
   "execution_count": 3,
   "metadata": {
    "ExecuteTime": {
     "end_time": "2020-04-06T12:34:08.163557Z",
     "start_time": "2020-04-06T12:34:08.159566Z"
    },
    "hidden": true
   },
   "outputs": [],
   "source": [
    "start = datetime(2020, 3, 1)\n",
    "end = datetime.today()\n",
    "limit = 10\n",
    "s0 = time.time()\n",
    "# cursor = cursor_pesagensbalanca(mongodb, start, end, limit, crop=True)\n",
    "# count = extract_to(cursor, crop=True)\n",
    "s1 = time.time()\n",
    "# print('{:0.2f} segundos para processar {:d} registros'.format((s1 - s0), count))\n"
   ]
  },
  {
   "cell_type": "markdown",
   "metadata": {
    "heading_collapsed": true
   },
   "source": [
    "# Carregar e montar modelo"
   ]
  },
  {
   "cell_type": "code",
   "execution_count": 4,
   "metadata": {
    "ExecuteTime": {
     "end_time": "2020-04-06T12:34:22.591157Z",
     "start_time": "2020-04-06T12:34:09.609293Z"
    },
    "hidden": true
   },
   "outputs": [],
   "source": [
    "import pandas as pd\n",
    "import numpy as np\n",
    "\n",
    "from sklearn.preprocessing import StandardScaler\n",
    "from tensorflow.keras import callbacks\n",
    "from tensorflow.keras import layers\n",
    "from tensorflow.keras import models\n",
    "from tensorflow.keras import optimizers\n",
    "from tensorflow.keras.preprocessing.image import ImageDataGenerator\n",
    "from tensorflow.keras.callbacks import ReduceLROnPlateau\n",
    "\n"
   ]
  },
  {
   "cell_type": "code",
   "execution_count": 5,
   "metadata": {
    "ExecuteTime": {
     "end_time": "2020-04-06T12:34:42.099065Z",
     "start_time": "2020-04-06T12:34:22.592700Z"
    },
    "hidden": true
   },
   "outputs": [
    {
     "name": "stdout",
     "output_type": "stream",
     "text": [
      "Model: \"sequential\"\n",
      "_________________________________________________________________\n",
      "Layer (type)                 Output Shape              Param #   \n",
      "=================================================================\n",
      "conv2d (Conv2D)              (None, 72, 144, 16)       2368      \n",
      "_________________________________________________________________\n",
      "max_pooling2d (MaxPooling2D) (None, 36, 36, 16)        0         \n",
      "_________________________________________________________________\n",
      "dropout (Dropout)            (None, 36, 36, 16)        0         \n",
      "_________________________________________________________________\n",
      "conv2d_1 (Conv2D)            (None, 18, 18, 16)        6416      \n",
      "_________________________________________________________________\n",
      "dropout_1 (Dropout)          (None, 18, 18, 16)        0         \n",
      "_________________________________________________________________\n",
      "conv2d_2 (Conv2D)            (None, 7, 7, 16)          6416      \n",
      "_________________________________________________________________\n",
      "dropout_2 (Dropout)          (None, 7, 7, 16)          0         \n",
      "_________________________________________________________________\n",
      "average_pooling2d (AveragePo (None, 3, 3, 16)          0         \n",
      "_________________________________________________________________\n",
      "flatten (Flatten)            (None, 144)               0         \n",
      "_________________________________________________________________\n",
      "dense (Dense)                (None, 512)               74240     \n",
      "_________________________________________________________________\n",
      "dense_1 (Dense)              (None, 256)               131328    \n",
      "_________________________________________________________________\n",
      "dropout_3 (Dropout)          (None, 256)               0         \n",
      "_________________________________________________________________\n",
      "dense_2 (Dense)              (None, 1)                 257       \n",
      "=================================================================\n",
      "Total params: 221,025\n",
      "Trainable params: 221,025\n",
      "Non-trainable params: 0\n",
      "_________________________________________________________________\n"
     ]
    }
   ],
   "source": [
    "regression_model = models.Sequential([\n",
    "  layers.Conv2D(16, (7, 7), activation='relu',\n",
    "                padding='same',\n",
    "                strides=(2, 2),\n",
    "                input_shape=(144, 288, 3)),\n",
    "  layers.MaxPooling2D(pool_size=(2, 4)),\n",
    "  layers.Dropout(0.25),\n",
    "  layers.Conv2D(16, (5, 5), \n",
    "                strides=(2, 2),\n",
    "                activation='relu', padding='same'),\n",
    "  layers.Dropout(0.25),\n",
    "  layers.Conv2D(16, (5, 5), \n",
    "                strides=(2, 2),\n",
    "                activation='relu'),\n",
    "  layers.Dropout(0.25),\n",
    "  layers.AvgPool2D(),\n",
    "  layers.Flatten(),\n",
    "  layers.Dense(512, activation='relu'),\n",
    "  layers.Dense(256, activation='relu'),\n",
    "  layers.Dropout(0.4),\n",
    "  layers.Dense(1)\n",
    " \n",
    "])\n",
    "regression_model.summary()\n"
   ]
  },
  {
   "cell_type": "code",
   "execution_count": 17,
   "metadata": {
    "ExecuteTime": {
     "end_time": "2020-04-05T18:58:16.040106Z",
     "start_time": "2020-04-05T18:58:16.036199Z"
    },
    "hidden": true
   },
   "outputs": [],
   "source": [
    "# regression_model.load_weights('gerabasespesagens_cropped2.hdf5')"
   ]
  },
  {
   "cell_type": "code",
   "execution_count": 18,
   "metadata": {
    "ExecuteTime": {
     "end_time": "2020-04-05T18:58:16.714687Z",
     "start_time": "2020-04-05T18:58:16.698270Z"
    },
    "hidden": true
   },
   "outputs": [
    {
     "name": "stdout",
     "output_type": "stream",
     "text": [
      "<tensorflow.python.keras.layers.convolutional.Conv2D object at 0x7f8b84319f60> True\n",
      "<tensorflow.python.keras.layers.pooling.MaxPooling2D object at 0x7f8b8431c438> True\n",
      "<tensorflow.python.keras.layers.core.Dropout object at 0x7f8b8431c5f8> True\n",
      "<tensorflow.python.keras.layers.convolutional.Conv2D object at 0x7f8b8431c710> True\n",
      "<tensorflow.python.keras.layers.core.Dropout object at 0x7f8b8431cb70> True\n",
      "<tensorflow.python.keras.layers.convolutional.Conv2D object at 0x7f8b8431cc88> True\n",
      "<tensorflow.python.keras.layers.core.Dropout object at 0x7f8b8431d128> True\n",
      "<tensorflow.python.keras.layers.pooling.AveragePooling2D object at 0x7f8b8431d240> True\n",
      "<tensorflow.python.keras.layers.core.Flatten object at 0x7f8b8431d438> True\n",
      "<tensorflow.python.keras.layers.core.Dense object at 0x7f8b8431d550> True\n",
      "<tensorflow.python.keras.layers.core.Dense object at 0x7f8b8431d860> True\n",
      "<tensorflow.python.keras.layers.core.Dropout object at 0x7f8b8431db70> True\n",
      "<tensorflow.python.keras.layers.core.Dense object at 0x7f8b8431dc88> True\n"
     ]
    }
   ],
   "source": [
    "for layer in regression_model.layers:\n",
    "    print(layer, layer.trainable)\n"
   ]
  },
  {
   "cell_type": "markdown",
   "metadata": {
    "heading_collapsed": true
   },
   "source": [
    "# Carregar e montar dados para treinamento"
   ]
  },
  {
   "cell_type": "code",
   "execution_count": 9,
   "metadata": {
    "ExecuteTime": {
     "end_time": "2020-04-06T12:36:05.637654Z",
     "start_time": "2020-04-06T12:36:05.626628Z"
    },
    "hidden": true
   },
   "outputs": [
    {
     "data": {
      "text/html": [
       "<div>\n",
       "<style scoped>\n",
       "    .dataframe tbody tr th:only-of-type {\n",
       "        vertical-align: middle;\n",
       "    }\n",
       "\n",
       "    .dataframe tbody tr th {\n",
       "        vertical-align: top;\n",
       "    }\n",
       "\n",
       "    .dataframe thead th {\n",
       "        text-align: right;\n",
       "    }\n",
       "</style>\n",
       "<table border=\"1\" class=\"dataframe\">\n",
       "  <thead>\n",
       "    <tr style=\"text-align: right;\">\n",
       "      <th></th>\n",
       "      <th>id</th>\n",
       "      <th>pesobalanca</th>\n",
       "      <th>pesodeclarado</th>\n",
       "      <th>dif</th>\n",
       "      <th>filename</th>\n",
       "      <th>preds</th>\n",
       "      <th>dif_pred</th>\n",
       "    </tr>\n",
       "  </thead>\n",
       "  <tbody>\n",
       "    <tr>\n",
       "      <th>1</th>\n",
       "      <td>5e5d09703d0ec8337863f9ee</td>\n",
       "      <td>29190</td>\n",
       "      <td>29149</td>\n",
       "      <td>41</td>\n",
       "      <td>5e5d09703d0ec8337863f9ee.jpg</td>\n",
       "      <td>23781.847656</td>\n",
       "      <td>5408.152344</td>\n",
       "    </tr>\n",
       "    <tr>\n",
       "      <th>3</th>\n",
       "      <td>5e5d099986556b3036c6dc6d</td>\n",
       "      <td>7610</td>\n",
       "      <td>7788</td>\n",
       "      <td>178</td>\n",
       "      <td>5e5d099986556b3036c6dc6d.jpg</td>\n",
       "      <td>7073.970215</td>\n",
       "      <td>536.029785</td>\n",
       "    </tr>\n",
       "    <tr>\n",
       "      <th>4</th>\n",
       "      <td>5e5d094386556b3036c6dc5c</td>\n",
       "      <td>22280</td>\n",
       "      <td>22300</td>\n",
       "      <td>20</td>\n",
       "      <td>5e5d094386556b3036c6dc5c.jpg</td>\n",
       "      <td>23390.078125</td>\n",
       "      <td>1110.078125</td>\n",
       "    </tr>\n",
       "    <tr>\n",
       "      <th>8</th>\n",
       "      <td>5e5d094386556b3036c6dc60</td>\n",
       "      <td>8420</td>\n",
       "      <td>8448</td>\n",
       "      <td>28</td>\n",
       "      <td>5e5d094386556b3036c6dc60.jpg</td>\n",
       "      <td>7730.686035</td>\n",
       "      <td>689.313965</td>\n",
       "    </tr>\n",
       "    <tr>\n",
       "      <th>10</th>\n",
       "      <td>5e5d09703d0ec8337863f9fa</td>\n",
       "      <td>9160</td>\n",
       "      <td>9516</td>\n",
       "      <td>356</td>\n",
       "      <td>5e5d09703d0ec8337863f9fa.jpg</td>\n",
       "      <td>10732.575195</td>\n",
       "      <td>1572.575195</td>\n",
       "    </tr>\n",
       "  </tbody>\n",
       "</table>\n",
       "</div>"
      ],
      "text/plain": [
       "                          id  pesobalanca  pesodeclarado  dif  \\\n",
       "1   5e5d09703d0ec8337863f9ee        29190          29149   41   \n",
       "3   5e5d099986556b3036c6dc6d         7610           7788  178   \n",
       "4   5e5d094386556b3036c6dc5c        22280          22300   20   \n",
       "8   5e5d094386556b3036c6dc60         8420           8448   28   \n",
       "10  5e5d09703d0ec8337863f9fa         9160           9516  356   \n",
       "\n",
       "                        filename         preds     dif_pred  \n",
       "1   5e5d09703d0ec8337863f9ee.jpg  23781.847656  5408.152344  \n",
       "3   5e5d099986556b3036c6dc6d.jpg   7073.970215   536.029785  \n",
       "4   5e5d094386556b3036c6dc5c.jpg  23390.078125  1110.078125  \n",
       "8   5e5d094386556b3036c6dc60.jpg   7730.686035   689.313965  \n",
       "10  5e5d09703d0ec8337863f9fa.jpg  10732.575195  1572.575195  "
      ]
     },
     "execution_count": 9,
     "metadata": {},
     "output_type": "execute_result"
    }
   ],
   "source": [
    "df = pd.read_pickle('df_final_filtered_pesagensbalanca.pkl')\n",
    "df.head()"
   ]
  },
  {
   "cell_type": "code",
   "execution_count": 10,
   "metadata": {
    "ExecuteTime": {
     "end_time": "2020-04-06T12:36:07.325649Z",
     "start_time": "2020-04-06T12:36:07.299661Z"
    },
    "hidden": true
   },
   "outputs": [
    {
     "name": "stderr",
     "output_type": "stream",
     "text": [
      "/home/ivan/pybr/projeto/venv/lib/python3.5/site-packages/sklearn/utils/validation.py:475: DataConversionWarning: Data with input dtype int64 was converted to float64 by StandardScaler.\n",
      "  warnings.warn(msg, DataConversionWarning)\n"
     ]
    }
   ],
   "source": [
    "scaler = StandardScaler()\n",
    "scaled = scaler.fit_transform(df.pesobalanca.values.reshape(-1, 1))\n"
   ]
  },
  {
   "cell_type": "code",
   "execution_count": 11,
   "metadata": {
    "ExecuteTime": {
     "end_time": "2020-04-06T12:36:07.759653Z",
     "start_time": "2020-04-06T12:36:07.751965Z"
    },
    "hidden": true
   },
   "outputs": [],
   "source": [
    "df['pesoscaled'] = scaled"
   ]
  },
  {
   "cell_type": "code",
   "execution_count": 12,
   "metadata": {
    "ExecuteTime": {
     "end_time": "2020-04-06T12:36:08.918862Z",
     "start_time": "2020-04-06T12:36:08.802698Z"
    },
    "hidden": true
   },
   "outputs": [
    {
     "data": {
      "text/html": [
       "<div>\n",
       "<style scoped>\n",
       "    .dataframe tbody tr th:only-of-type {\n",
       "        vertical-align: middle;\n",
       "    }\n",
       "\n",
       "    .dataframe tbody tr th {\n",
       "        vertical-align: top;\n",
       "    }\n",
       "\n",
       "    .dataframe thead th {\n",
       "        text-align: right;\n",
       "    }\n",
       "</style>\n",
       "<table border=\"1\" class=\"dataframe\">\n",
       "  <thead>\n",
       "    <tr style=\"text-align: right;\">\n",
       "      <th></th>\n",
       "      <th>pesobalanca</th>\n",
       "      <th>pesodeclarado</th>\n",
       "      <th>dif</th>\n",
       "      <th>preds</th>\n",
       "      <th>dif_pred</th>\n",
       "      <th>pesoscaled</th>\n",
       "    </tr>\n",
       "  </thead>\n",
       "  <tbody>\n",
       "    <tr>\n",
       "      <th>count</th>\n",
       "      <td>6652.000000</td>\n",
       "      <td>6652.000000</td>\n",
       "      <td>6652.000000</td>\n",
       "      <td>6652.000000</td>\n",
       "      <td>6652.000000</td>\n",
       "      <td>6.652000e+03</td>\n",
       "    </tr>\n",
       "    <tr>\n",
       "      <th>mean</th>\n",
       "      <td>18204.968581</td>\n",
       "      <td>18241.627330</td>\n",
       "      <td>214.162357</td>\n",
       "      <td>17884.900391</td>\n",
       "      <td>2167.843764</td>\n",
       "      <td>-1.068164e-16</td>\n",
       "    </tr>\n",
       "    <tr>\n",
       "      <th>std</th>\n",
       "      <td>7559.530088</td>\n",
       "      <td>7543.995047</td>\n",
       "      <td>205.533548</td>\n",
       "      <td>6904.848633</td>\n",
       "      <td>1561.269670</td>\n",
       "      <td>1.000075e+00</td>\n",
       "    </tr>\n",
       "    <tr>\n",
       "      <th>min</th>\n",
       "      <td>2370.000000</td>\n",
       "      <td>2211.000000</td>\n",
       "      <td>0.000000</td>\n",
       "      <td>4207.561523</td>\n",
       "      <td>0.507812</td>\n",
       "      <td>-2.094860e+00</td>\n",
       "    </tr>\n",
       "    <tr>\n",
       "      <th>25%</th>\n",
       "      <td>11240.000000</td>\n",
       "      <td>11305.750000</td>\n",
       "      <td>62.000000</td>\n",
       "      <td>10990.872559</td>\n",
       "      <td>831.310791</td>\n",
       "      <td>-9.214187e-01</td>\n",
       "    </tr>\n",
       "    <tr>\n",
       "      <th>50%</th>\n",
       "      <td>19695.000000</td>\n",
       "      <td>19790.000000</td>\n",
       "      <td>143.000000</td>\n",
       "      <td>19717.713867</td>\n",
       "      <td>1885.833008</td>\n",
       "      <td>1.971212e-01</td>\n",
       "    </tr>\n",
       "    <tr>\n",
       "      <th>75%</th>\n",
       "      <td>24160.000000</td>\n",
       "      <td>24160.000000</td>\n",
       "      <td>306.000000</td>\n",
       "      <td>24023.826660</td>\n",
       "      <td>3269.851196</td>\n",
       "      <td>7.878108e-01</td>\n",
       "    </tr>\n",
       "    <tr>\n",
       "      <th>max</th>\n",
       "      <td>29980.000000</td>\n",
       "      <td>30291.000000</td>\n",
       "      <td>999.000000</td>\n",
       "      <td>29644.216797</td>\n",
       "      <td>5998.706055</td>\n",
       "      <td>1.557758e+00</td>\n",
       "    </tr>\n",
       "  </tbody>\n",
       "</table>\n",
       "</div>"
      ],
      "text/plain": [
       "        pesobalanca  pesodeclarado          dif         preds     dif_pred  \\\n",
       "count   6652.000000    6652.000000  6652.000000   6652.000000  6652.000000   \n",
       "mean   18204.968581   18241.627330   214.162357  17884.900391  2167.843764   \n",
       "std     7559.530088    7543.995047   205.533548   6904.848633  1561.269670   \n",
       "min     2370.000000    2211.000000     0.000000   4207.561523     0.507812   \n",
       "25%    11240.000000   11305.750000    62.000000  10990.872559   831.310791   \n",
       "50%    19695.000000   19790.000000   143.000000  19717.713867  1885.833008   \n",
       "75%    24160.000000   24160.000000   306.000000  24023.826660  3269.851196   \n",
       "max    29980.000000   30291.000000   999.000000  29644.216797  5998.706055   \n",
       "\n",
       "         pesoscaled  \n",
       "count  6.652000e+03  \n",
       "mean  -1.068164e-16  \n",
       "std    1.000075e+00  \n",
       "min   -2.094860e+00  \n",
       "25%   -9.214187e-01  \n",
       "50%    1.971212e-01  \n",
       "75%    7.878108e-01  \n",
       "max    1.557758e+00  "
      ]
     },
     "execution_count": 12,
     "metadata": {},
     "output_type": "execute_result"
    }
   ],
   "source": [
    "df.describe()"
   ]
  },
  {
   "cell_type": "code",
   "execution_count": 13,
   "metadata": {
    "ExecuteTime": {
     "end_time": "2020-04-06T12:36:15.707010Z",
     "start_time": "2020-04-06T12:36:15.700998Z"
    },
    "hidden": true
   },
   "outputs": [],
   "source": [
    "splitmask = np.random.rand(len(df)) < 0.8\n",
    "df_train = df[splitmask]\n",
    "df_val = df[~splitmask]"
   ]
  },
  {
   "cell_type": "code",
   "execution_count": 14,
   "metadata": {
    "ExecuteTime": {
     "end_time": "2020-04-06T12:36:17.607344Z",
     "start_time": "2020-04-06T12:36:17.533709Z"
    },
    "hidden": true
   },
   "outputs": [
    {
     "name": "stdout",
     "output_type": "stream",
     "text": [
      "Found 5308 validated image filenames.\n",
      "Found 1344 validated image filenames.\n"
     ]
    }
   ],
   "source": [
    "train_datagen = ImageDataGenerator(\n",
    "    rescale=1./255,\n",
    "    horizontal_flip=True,\n",
    ")\n",
    "\n",
    "train_generator = train_datagen.flow_from_dataframe(\n",
    "    dataframe=df_train,\n",
    "    directory='../../bases/pesagensbalanca/pesagensbalanca_cropped',\n",
    "    target_size=(144, 288),\n",
    "    batch_size=256,\n",
    "    x_col='filename',\n",
    "    y_col=\"pesoscaled\",\n",
    "    shuffle=False,\n",
    "    class_mode='raw',\n",
    ")\n",
    "\n",
    "val_generator = train_datagen.flow_from_dataframe(\n",
    "    dataframe=df_val,\n",
    "    directory='../../bases/pesagensbalanca/pesagensbalanca_cropped',\n",
    "    target_size=(144, 288),\n",
    "    batch_size=128,\n",
    "    x_col='filename',\n",
    "    y_col=\"pesoscaled\",\n",
    "    shuffle=False,\n",
    "    class_mode='raw',\n",
    ")"
   ]
  },
  {
   "cell_type": "code",
   "execution_count": 14,
   "metadata": {
    "ExecuteTime": {
     "end_time": "2020-04-05T18:51:53.311023Z",
     "start_time": "2020-04-05T18:51:53.245597Z"
    },
    "hidden": true
   },
   "outputs": [],
   "source": []
  },
  {
   "cell_type": "code",
   "execution_count": 35,
   "metadata": {
    "ExecuteTime": {
     "end_time": "2020-04-05T19:15:11.918231Z",
     "start_time": "2020-04-05T19:13:34.861799Z"
    },
    "hidden": true
   },
   "outputs": [
    {
     "name": "stdout",
     "output_type": "stream",
     "text": [
      "0 0.0 0.9531647\n",
      "1 2.5e-06 0.95482135\n",
      "2 5e-06 0.9652383\n",
      "3 7.500000000000001e-06 0.8636926\n",
      "4 1e-05 0.7581468\n",
      "5 1.25e-05 0.8452565\n",
      "6 1.5000000000000002e-05 0.85642695\n",
      "7 1.75e-05 0.8120496\n",
      "8 2e-05 0.8335457\n",
      "9 2.25e-05 0.9590044\n",
      "10 2.5e-05 0.8069035\n",
      "11 2.75e-05 0.8369831\n",
      "12 3.0000000000000004e-05 0.8682989\n",
      "13 3.2500000000000004e-05 0.78822047\n",
      "14 3.5e-05 0.89375705\n",
      "15 3.7500000000000003e-05 0.9335689\n",
      "16 4e-05 1.0370041\n",
      "17 4.25e-05 0.8151682\n",
      "18 4.5e-05 0.80402714\n",
      "19 4.75e-05 0.9121613\n",
      "20 5e-05 0.759274\n",
      "21 5.250000000000001e-05 0.9485689\n",
      "22 5.5e-05 0.95359325\n",
      "23 5.75e-05 0.96620935\n",
      "24 6.000000000000001e-05 0.8613446\n",
      "25 6.25e-05 0.7631954\n",
      "26 6.500000000000001e-05 0.8446597\n",
      "27 6.75e-05 0.8565626\n",
      "28 7e-05 0.8083486\n",
      "29 7.25e-05 0.83384037\n",
      "30 7.500000000000001e-05 0.95957637\n",
      "31 7.750000000000001e-05 0.80468154\n",
      "32 8e-05 0.8370583\n",
      "33 8.25e-05 0.86680394\n",
      "34 8.5e-05 0.7935507\n",
      "35 8.75e-05 0.8945095\n",
      "36 9e-05 0.93524504\n",
      "37 9.25e-05 1.0382667\n",
      "38 9.5e-05 0.8140478\n",
      "39 9.750000000000001e-05 0.80217797\n",
      "40 0.0001 0.91332775\n"
     ]
    }
   ],
   "source": [
    "def get_learning_rate(num_batch, num_batches, lr):\n",
    "    new_lr = lr / (num_batches - num_batch)\n",
    "    print(new_lr, num_batch, num_batches)\n",
    "    return new_lr\n",
    "\n",
    "regression_model.compile(optimizer=optimizers.SGD(lr=0.0001),\n",
    "                         loss='mean_absolute_error', metrics=['mse', 'mae', 'msle'])\n",
    "\n",
    "for ind in range(41):\n",
    "    X, y = next(train_generator)\n",
    "    lr = 0.0001 * ind / 40\n",
    "    regression_model.optimizer.lr = lr\n",
    "    loss = regression_model.train_on_batch(X, y)\n",
    "    print(ind, lr, loss[0])\n",
    "\n"
   ]
  },
  {
   "cell_type": "markdown",
   "metadata": {
    "heading_collapsed": true
   },
   "source": [
    "# Treinar modelo"
   ]
  },
  {
   "cell_type": "code",
   "execution_count": 36,
   "metadata": {
    "ExecuteTime": {
     "end_time": "2020-04-05T19:15:11.971621Z",
     "start_time": "2020-04-05T19:15:11.919956Z"
    },
    "hidden": true
   },
   "outputs": [],
   "source": [
    "regression_model.compile(optimizer=optimizers.Adam(lr=0.001),\n",
    "                         loss='mean_absolute_error', metrics=['mse', 'mae', 'msle'])\n",
    "reduce_lr = ReduceLROnPlateau(monitor='val_loss', factor=0.2, patience=3,\n",
    "                          verbose=1, mode='min')"
   ]
  },
  {
   "cell_type": "code",
   "execution_count": 37,
   "metadata": {
    "ExecuteTime": {
     "end_time": "2020-04-05T19:33:59.431206Z",
     "start_time": "2020-04-05T19:15:11.973418Z"
    },
    "hidden": true
   },
   "outputs": [
    {
     "name": "stdout",
     "output_type": "stream",
     "text": [
      "Train for 21 steps, validate for 10 steps\n",
      "Epoch 1/20\n",
      "21/21 [==============================] - 57s 3s/step - loss: 0.5842 - mse: 0.5494 - mae: 0.5855 - msle: 0.0856 - val_loss: 0.4285 - val_mse: 0.3058 - val_mae: 0.4285 - val_msle: 0.0618\n",
      "Epoch 2/20\n",
      "21/21 [==============================] - 57s 3s/step - loss: 0.4217 - mse: 0.2862 - mae: 0.4215 - msle: 0.0494 - val_loss: 0.3802 - val_mse: 0.2242 - val_mae: 0.3802 - val_msle: 0.0437\n",
      "Epoch 3/20\n",
      "21/21 [==============================] - 56s 3s/step - loss: 0.3989 - mse: 0.2517 - mae: 0.3988 - msle: 0.0424 - val_loss: 0.3742 - val_mse: 0.2145 - val_mae: 0.3742 - val_msle: 0.0378\n",
      "Epoch 4/20\n",
      "21/21 [==============================] - 56s 3s/step - loss: 0.3822 - mse: 0.2292 - mae: 0.3821 - msle: 0.0397 - val_loss: 0.3672 - val_mse: 0.2048 - val_mae: 0.3672 - val_msle: 0.0417\n",
      "Epoch 5/20\n",
      "21/21 [==============================] - 55s 3s/step - loss: 0.3691 - mse: 0.2145 - mae: 0.3688 - msle: 0.0381 - val_loss: 0.3707 - val_mse: 0.2112 - val_mae: 0.3707 - val_msle: 0.0373\n",
      "Epoch 6/20\n",
      "21/21 [==============================] - 56s 3s/step - loss: 0.3643 - mse: 0.2088 - mae: 0.3645 - msle: 0.0368 - val_loss: 0.3392 - val_mse: 0.1801 - val_mae: 0.3392 - val_msle: 0.0333\n",
      "Epoch 7/20\n",
      "21/21 [==============================] - 55s 3s/step - loss: 0.3453 - mse: 0.1882 - mae: 0.3447 - msle: 0.0333 - val_loss: 0.3520 - val_mse: 0.1920 - val_mae: 0.3520 - val_msle: 0.0324\n",
      "Epoch 8/20\n",
      "21/21 [==============================] - 55s 3s/step - loss: 0.3697 - mse: 0.2132 - mae: 0.3697 - msle: 0.0378 - val_loss: 0.3581 - val_mse: 0.1958 - val_mae: 0.3581 - val_msle: 0.0411\n",
      "Epoch 9/20\n",
      "21/21 [==============================] - 57s 3s/step - loss: 0.3457 - mse: 0.1888 - mae: 0.3454 - msle: 0.0344 - val_loss: 0.3273 - val_mse: 0.1729 - val_mae: 0.3273 - val_msle: 0.0303\n",
      "Epoch 10/20\n",
      "21/21 [==============================] - 56s 3s/step - loss: 0.3318 - mse: 0.1746 - mae: 0.3319 - msle: 0.0310 - val_loss: 0.3148 - val_mse: 0.1589 - val_mae: 0.3148 - val_msle: 0.0297\n",
      "Epoch 11/20\n",
      "21/21 [==============================] - 56s 3s/step - loss: 0.3290 - mse: 0.1725 - mae: 0.3288 - msle: 0.0313 - val_loss: 0.3342 - val_mse: 0.1791 - val_mae: 0.3342 - val_msle: 0.0290\n",
      "Epoch 12/20\n",
      "21/21 [==============================] - 55s 3s/step - loss: 0.3244 - mse: 0.1677 - mae: 0.3245 - msle: 0.0300 - val_loss: 0.3001 - val_mse: 0.1512 - val_mae: 0.3001 - val_msle: 0.0280\n",
      "Epoch 13/20\n",
      "21/21 [==============================] - 55s 3s/step - loss: 0.3108 - mse: 0.1561 - mae: 0.3108 - msle: 0.0285 - val_loss: 0.2936 - val_mse: 0.1453 - val_mae: 0.2936 - val_msle: 0.0278\n",
      "Epoch 14/20\n",
      "21/21 [==============================] - 56s 3s/step - loss: 0.3150 - mse: 0.1589 - mae: 0.3148 - msle: 0.0283 - val_loss: 0.3076 - val_mse: 0.1548 - val_mae: 0.3076 - val_msle: 0.0281\n",
      "Epoch 15/20\n",
      "21/21 [==============================] - 57s 3s/step - loss: 0.3152 - mse: 0.1586 - mae: 0.3153 - msle: 0.0284 - val_loss: 0.2812 - val_mse: 0.1330 - val_mae: 0.2812 - val_msle: 0.0257\n",
      "Epoch 16/20\n",
      "21/21 [==============================] - 57s 3s/step - loss: 0.3003 - mse: 0.1465 - mae: 0.3001 - msle: 0.0266 - val_loss: 0.3062 - val_mse: 0.1532 - val_mae: 0.3062 - val_msle: 0.0259\n",
      "Epoch 17/20\n",
      "21/21 [==============================] - 56s 3s/step - loss: 0.3082 - mse: 0.1517 - mae: 0.3084 - msle: 0.0278 - val_loss: 0.2859 - val_mse: 0.1336 - val_mae: 0.2859 - val_msle: 0.0253\n",
      "Epoch 18/20\n",
      "21/21 [==============================] - 56s 3s/step - loss: 0.2961 - mse: 0.1412 - mae: 0.2962 - msle: 0.0266 - val_loss: 0.2792 - val_mse: 0.1284 - val_mae: 0.2792 - val_msle: 0.0271\n",
      "Epoch 19/20\n",
      "21/21 [==============================] - 56s 3s/step - loss: 0.2938 - mse: 0.1395 - mae: 0.2935 - msle: 0.0267 - val_loss: 0.2965 - val_mse: 0.1402 - val_mae: 0.2965 - val_msle: 0.0264\n",
      "Epoch 20/20\n",
      "21/21 [==============================] - 56s 3s/step - loss: 0.2925 - mse: 0.1409 - mae: 0.2926 - msle: 0.0263 - val_loss: 0.2706 - val_mse: 0.1247 - val_mae: 0.2706 - val_msle: 0.0256\n"
     ]
    },
    {
     "data": {
      "text/plain": [
       "<tensorflow.python.keras.callbacks.History at 0x7f8c8c778358>"
      ]
     },
     "execution_count": 37,
     "metadata": {},
     "output_type": "execute_result"
    }
   ],
   "source": [
    "regression_model.fit(train_generator, epochs=30, shuffle=False,\n",
    "                     callbacks=[reduce_lr],\n",
    "                     validation_data = val_generator,\n",
    "                     validation_steps = val_generator.samples // 128)"
   ]
  },
  {
   "cell_type": "code",
   "execution_count": 38,
   "metadata": {
    "ExecuteTime": {
     "end_time": "2020-04-05T19:33:59.453503Z",
     "start_time": "2020-04-05T19:33:59.433710Z"
    },
    "hidden": true
   },
   "outputs": [],
   "source": [
    "regression_model.save_weights('gerabasespesagens_cropped2_basefiltrada_scaled_warmup.hdf5')"
   ]
  },
  {
   "cell_type": "code",
   "execution_count": 39,
   "metadata": {
    "ExecuteTime": {
     "end_time": "2020-04-05T19:33:59.569495Z",
     "start_time": "2020-04-05T19:33:59.455114Z"
    },
    "hidden": true
   },
   "outputs": [],
   "source": [
    "regression_model.compile(optimizer=optimizers.Adam(lr=0.0006),\n",
    "                         loss='mean_absolute_error', metrics=['mse', 'mae', 'msle'])\n",
    "reduce_lr = ReduceLROnPlateau(monitor='val_loss', factor=0.5, patience=2,\n",
    "                          verbose=1, mode='min')"
   ]
  },
  {
   "cell_type": "code",
   "execution_count": 40,
   "metadata": {
    "ExecuteTime": {
     "end_time": "2020-04-05T19:54:41.724009Z",
     "start_time": "2020-04-05T19:33:59.571095Z"
    },
    "hidden": true
   },
   "outputs": [
    {
     "name": "stdout",
     "output_type": "stream",
     "text": [
      "Train for 21 steps, validate for 10 steps\n",
      "Epoch 1/20\n",
      "21/21 [==============================] - 70s 3s/step - loss: 0.2991 - mse: 0.1434 - mae: 0.2993 - msle: 0.0276 - val_loss: 0.2682 - val_mse: 0.1232 - val_mae: 0.2682 - val_msle: 0.0254\n",
      "Epoch 2/20\n",
      "21/21 [==============================] - 60s 3s/step - loss: 0.2838 - mse: 0.1323 - mae: 0.2840 - msle: 0.0254 - val_loss: 0.2733 - val_mse: 0.1245 - val_mae: 0.2733 - val_msle: 0.0251\n",
      "Epoch 3/20\n",
      "21/21 [==============================] - 61s 3s/step - loss: 0.2795 - mse: 0.1291 - mae: 0.2797 - msle: 0.0245 - val_loss: 0.2624 - val_mse: 0.1189 - val_mae: 0.2624 - val_msle: 0.0247\n",
      "Epoch 4/20\n",
      "21/21 [==============================] - 58s 3s/step - loss: 0.2830 - mse: 0.1312 - mae: 0.2831 - msle: 0.0252 - val_loss: 0.2767 - val_mse: 0.1248 - val_mae: 0.2767 - val_msle: 0.0256\n",
      "Epoch 5/20\n",
      "20/21 [===========================>..] - ETA: 2s - loss: 0.2789 - mse: 0.1280 - mae: 0.2789 - msle: 0.0243\n",
      "Epoch 00005: ReduceLROnPlateau reducing learning rate to 0.0003000000142492354.\n",
      "21/21 [==============================] - 58s 3s/step - loss: 0.2787 - mse: 0.1276 - mae: 0.2787 - msle: 0.0242 - val_loss: 0.2700 - val_mse: 0.1203 - val_mae: 0.2700 - val_msle: 0.0246\n",
      "Epoch 6/20\n",
      "21/21 [==============================] - 56s 3s/step - loss: 0.2746 - mse: 0.1240 - mae: 0.2747 - msle: 0.0243 - val_loss: 0.2605 - val_mse: 0.1171 - val_mae: 0.2605 - val_msle: 0.0245\n",
      "Epoch 7/20\n",
      "21/21 [==============================] - 56s 3s/step - loss: 0.2713 - mse: 0.1243 - mae: 0.2715 - msle: 0.0236 - val_loss: 0.2593 - val_mse: 0.1151 - val_mae: 0.2593 - val_msle: 0.0245\n",
      "Epoch 8/20\n",
      "21/21 [==============================] - 56s 3s/step - loss: 0.2694 - mse: 0.1204 - mae: 0.2695 - msle: 0.0233 - val_loss: 0.2573 - val_mse: 0.1157 - val_mae: 0.2573 - val_msle: 0.0241\n",
      "Epoch 9/20\n",
      "21/21 [==============================] - 57s 3s/step - loss: 0.2713 - mse: 0.1221 - mae: 0.2715 - msle: 0.0243 - val_loss: 0.2651 - val_mse: 0.1184 - val_mae: 0.2651 - val_msle: 0.0248\n",
      "Epoch 10/20\n",
      "20/21 [===========================>..] - ETA: 2s - loss: 0.2698 - mse: 0.1216 - mae: 0.2698 - msle: 0.0242\n",
      "Epoch 00010: ReduceLROnPlateau reducing learning rate to 0.0001500000071246177.\n",
      "21/21 [==============================] - 61s 3s/step - loss: 0.2696 - mse: 0.1214 - mae: 0.2696 - msle: 0.0241 - val_loss: 0.2587 - val_mse: 0.1167 - val_mae: 0.2587 - val_msle: 0.0245\n",
      "Epoch 11/20\n",
      "21/21 [==============================] - 56s 3s/step - loss: 0.2648 - mse: 0.1170 - mae: 0.2649 - msle: 0.0229 - val_loss: 0.2504 - val_mse: 0.1116 - val_mae: 0.2504 - val_msle: 0.0237\n",
      "Epoch 12/20\n",
      "21/21 [==============================] - 60s 3s/step - loss: 0.2630 - mse: 0.1168 - mae: 0.2630 - msle: 0.0223 - val_loss: 0.2531 - val_mse: 0.1136 - val_mae: 0.2531 - val_msle: 0.0244\n",
      "Epoch 13/20\n",
      "21/21 [==============================] - 56s 3s/step - loss: 0.2651 - mse: 0.1177 - mae: 0.2653 - msle: 0.0228 - val_loss: 0.2491 - val_mse: 0.1095 - val_mae: 0.2491 - val_msle: 0.0240\n",
      "Epoch 14/20\n",
      "21/21 [==============================] - 58s 3s/step - loss: 0.2656 - mse: 0.1170 - mae: 0.2655 - msle: 0.0224 - val_loss: 0.2515 - val_mse: 0.1112 - val_mae: 0.2515 - val_msle: 0.0240\n",
      "Epoch 15/20\n",
      "21/21 [==============================] - 58s 3s/step - loss: 0.2643 - mse: 0.1164 - mae: 0.2642 - msle: 0.0228 - val_loss: 0.2484 - val_mse: 0.1093 - val_mae: 0.2484 - val_msle: 0.0232\n",
      "Epoch 16/20\n",
      "21/21 [==============================] - 58s 3s/step - loss: 0.2648 - mse: 0.1159 - mae: 0.2650 - msle: 0.0221 - val_loss: 0.2485 - val_mse: 0.1091 - val_mae: 0.2485 - val_msle: 0.0233\n",
      "Epoch 17/20\n",
      "20/21 [===========================>..] - ETA: 2s - loss: 0.2634 - mse: 0.1158 - mae: 0.2636 - msle: 0.0231\n",
      "Epoch 00017: ReduceLROnPlateau reducing learning rate to 7.500000356230885e-05.\n",
      "21/21 [==============================] - 57s 3s/step - loss: 0.2631 - mse: 0.1159 - mae: 0.2633 - msle: 0.0230 - val_loss: 0.2554 - val_mse: 0.1143 - val_mae: 0.2554 - val_msle: 0.0240\n",
      "Epoch 18/20\n",
      "21/21 [==============================] - 58s 3s/step - loss: 0.2610 - mse: 0.1134 - mae: 0.2611 - msle: 0.0220 - val_loss: 0.2488 - val_mse: 0.1092 - val_mae: 0.2488 - val_msle: 0.0239\n",
      "Epoch 19/20\n",
      "21/21 [==============================] - 58s 3s/step - loss: 0.2596 - mse: 0.1133 - mae: 0.2597 - msle: 0.0223 - val_loss: 0.2443 - val_mse: 0.1066 - val_mae: 0.2443 - val_msle: 0.0228\n",
      "Epoch 20/20\n",
      "21/21 [==============================] - 60s 3s/step - loss: 0.2599 - mse: 0.1147 - mae: 0.2600 - msle: 0.0224 - val_loss: 0.2461 - val_mse: 0.1073 - val_mae: 0.2461 - val_msle: 0.0236\n"
     ]
    },
    {
     "data": {
      "text/plain": [
       "<tensorflow.python.keras.callbacks.History at 0x7f8c6a87df28>"
      ]
     },
     "execution_count": 40,
     "metadata": {},
     "output_type": "execute_result"
    }
   ],
   "source": [
    "regression_model.fit(train_generator, epochs=30,\n",
    "                     callbacks=[reduce_lr],\n",
    "                     validation_data = val_generator,\n",
    "                     validation_steps = val_generator.samples // 128)"
   ]
  },
  {
   "cell_type": "code",
   "execution_count": 41,
   "metadata": {
    "ExecuteTime": {
     "end_time": "2020-04-05T19:54:43.883543Z",
     "start_time": "2020-04-05T19:54:41.800960Z"
    },
    "hidden": true
   },
   "outputs": [],
   "source": [
    "regression_model.compile(optimizer=optimizers.Adam(lr=0.0003),\n",
    "                         loss='mean_absolute_error', metrics=['mse', 'mae', 'msle'])\n",
    "reduce_lr = ReduceLROnPlateau(monitor='val_loss', factor=1/3, patience=2,\n",
    "                          verbose=1, mode='min')"
   ]
  },
  {
   "cell_type": "code",
   "execution_count": 42,
   "metadata": {
    "ExecuteTime": {
     "end_time": "2020-04-05T20:23:36.717832Z",
     "start_time": "2020-04-05T19:54:43.886555Z"
    },
    "hidden": true
   },
   "outputs": [
    {
     "name": "stdout",
     "output_type": "stream",
     "text": [
      "Train for 21 steps, validate for 10 steps\n",
      "Epoch 1/30\n",
      "21/21 [==============================] - 59s 3s/step - loss: 0.2645 - mse: 0.1178 - mae: 0.2647 - msle: 0.0233 - val_loss: 0.2474 - val_mse: 0.1091 - val_mae: 0.2474 - val_msle: 0.0238\n",
      "Epoch 2/30\n",
      "21/21 [==============================] - 58s 3s/step - loss: 0.2624 - mse: 0.1174 - mae: 0.2626 - msle: 0.0226 - val_loss: 0.2496 - val_mse: 0.1106 - val_mae: 0.2496 - val_msle: 0.0248\n",
      "Epoch 3/30\n",
      "20/21 [===========================>..] - ETA: 2s - loss: 0.2635 - mse: 0.1150 - mae: 0.2634 - msle: 0.0225\n",
      "Epoch 00003: ReduceLROnPlateau reducing learning rate to 0.00010000000474974513.\n",
      "21/21 [==============================] - 59s 3s/step - loss: 0.2636 - mse: 0.1153 - mae: 0.2636 - msle: 0.0222 - val_loss: 0.2531 - val_mse: 0.1128 - val_mae: 0.2531 - val_msle: 0.0241\n",
      "Epoch 4/30\n",
      "21/21 [==============================] - 57s 3s/step - loss: 0.2614 - mse: 0.1145 - mae: 0.2614 - msle: 0.0221 - val_loss: 0.2491 - val_mse: 0.1104 - val_mae: 0.2491 - val_msle: 0.0236\n",
      "Epoch 5/30\n",
      "21/21 [==============================] - 59s 3s/step - loss: 0.2607 - mse: 0.1139 - mae: 0.2606 - msle: 0.0223 - val_loss: 0.2439 - val_mse: 0.1068 - val_mae: 0.2439 - val_msle: 0.0235\n",
      "Epoch 6/30\n",
      "21/21 [==============================] - 56s 3s/step - loss: 0.2595 - mse: 0.1129 - mae: 0.2596 - msle: 0.0218 - val_loss: 0.2464 - val_mse: 0.1076 - val_mae: 0.2464 - val_msle: 0.0231\n",
      "Epoch 7/30\n",
      "21/21 [==============================] - 56s 3s/step - loss: 0.2572 - mse: 0.1112 - mae: 0.2575 - msle: 0.0218 - val_loss: 0.2371 - val_mse: 0.1013 - val_mae: 0.2371 - val_msle: 0.0224\n",
      "Epoch 8/30\n",
      "21/21 [==============================] - 56s 3s/step - loss: 0.2610 - mse: 0.1143 - mae: 0.2612 - msle: 0.0221 - val_loss: 0.2422 - val_mse: 0.1046 - val_mae: 0.2422 - val_msle: 0.0224\n",
      "Epoch 9/30\n",
      "20/21 [===========================>..] - ETA: 2s - loss: 0.2565 - mse: 0.1106 - mae: 0.2566 - msle: 0.0217\n",
      "Epoch 00009: ReduceLROnPlateau reducing learning rate to 3.3333334916581706e-05.\n",
      "21/21 [==============================] - 56s 3s/step - loss: 0.2570 - mse: 0.1108 - mae: 0.2571 - msle: 0.0216 - val_loss: 0.2410 - val_mse: 0.1055 - val_mae: 0.2410 - val_msle: 0.0227\n",
      "Epoch 10/30\n",
      "21/21 [==============================] - 57s 3s/step - loss: 0.2556 - mse: 0.1100 - mae: 0.2557 - msle: 0.0213 - val_loss: 0.2423 - val_mse: 0.1044 - val_mae: 0.2423 - val_msle: 0.0229\n",
      "Epoch 11/30\n",
      "20/21 [===========================>..] - ETA: 2s - loss: 0.2521 - mse: 0.1085 - mae: 0.2522 - msle: 0.0215\n",
      "Epoch 00011: ReduceLROnPlateau reducing learning rate to 1.1111111234640703e-05.\n",
      "21/21 [==============================] - 56s 3s/step - loss: 0.2527 - mse: 0.1087 - mae: 0.2529 - msle: 0.0214 - val_loss: 0.2441 - val_mse: 0.1065 - val_mae: 0.2441 - val_msle: 0.0230\n",
      "Epoch 12/30\n",
      "21/21 [==============================] - 56s 3s/step - loss: 0.2550 - mse: 0.1100 - mae: 0.2552 - msle: 0.0212 - val_loss: 0.2389 - val_mse: 0.1024 - val_mae: 0.2389 - val_msle: 0.0225\n",
      "Epoch 13/30\n",
      "20/21 [===========================>..] - ETA: 2s - loss: 0.2520 - mse: 0.1081 - mae: 0.2522 - msle: 0.0217\n",
      "Epoch 00013: ReduceLROnPlateau reducing learning rate to 3.703703744880234e-06.\n",
      "21/21 [==============================] - 55s 3s/step - loss: 0.2535 - mse: 0.1091 - mae: 0.2536 - msle: 0.0217 - val_loss: 0.2409 - val_mse: 0.1053 - val_mae: 0.2409 - val_msle: 0.0231\n",
      "Epoch 14/30\n",
      "21/21 [==============================] - 56s 3s/step - loss: 0.2539 - mse: 0.1082 - mae: 0.2539 - msle: 0.0210 - val_loss: 0.2398 - val_mse: 0.1031 - val_mae: 0.2398 - val_msle: 0.0225\n",
      "Epoch 15/30\n",
      "20/21 [===========================>..] - ETA: 2s - loss: 0.2597 - mse: 0.1129 - mae: 0.2596 - msle: 0.0218\n",
      "Epoch 00015: ReduceLROnPlateau reducing learning rate to 1.2345678896963364e-06.\n",
      "21/21 [==============================] - 55s 3s/step - loss: 0.2579 - mse: 0.1115 - mae: 0.2579 - msle: 0.0217 - val_loss: 0.2424 - val_mse: 0.1063 - val_mae: 0.2424 - val_msle: 0.0228\n",
      "Epoch 16/30\n",
      "21/21 [==============================] - 58s 3s/step - loss: 0.2543 - mse: 0.1083 - mae: 0.2543 - msle: 0.0216 - val_loss: 0.2382 - val_mse: 0.1016 - val_mae: 0.2382 - val_msle: 0.0223\n",
      "Epoch 17/30\n",
      "20/21 [===========================>..] - ETA: 2s - loss: 0.2551 - mse: 0.1110 - mae: 0.2550 - msle: 0.0218\n",
      "Epoch 00017: ReduceLROnPlateau reducing learning rate to 4.1152262989877875e-07.\n",
      "21/21 [==============================] - 56s 3s/step - loss: 0.2543 - mse: 0.1106 - mae: 0.2542 - msle: 0.0217 - val_loss: 0.2444 - val_mse: 0.1075 - val_mae: 0.2444 - val_msle: 0.0233\n",
      "Epoch 18/30\n",
      "21/21 [==============================] - 56s 3s/step - loss: 0.2534 - mse: 0.1086 - mae: 0.2535 - msle: 0.0211 - val_loss: 0.2424 - val_mse: 0.1053 - val_mae: 0.2424 - val_msle: 0.0228\n",
      "Epoch 19/30\n",
      "20/21 [===========================>..] - ETA: 2s - loss: 0.2531 - mse: 0.1084 - mae: 0.2531 - msle: 0.0212\n",
      "Epoch 00019: ReduceLROnPlateau reducing learning rate to 1.3717420680829187e-07.\n",
      "21/21 [==============================] - 55s 3s/step - loss: 0.2532 - mse: 0.1085 - mae: 0.2532 - msle: 0.0214 - val_loss: 0.2409 - val_mse: 0.1041 - val_mae: 0.2409 - val_msle: 0.0221\n",
      "Epoch 20/30\n",
      "21/21 [==============================] - 56s 3s/step - loss: 0.2551 - mse: 0.1098 - mae: 0.2552 - msle: 0.0210 - val_loss: 0.2463 - val_mse: 0.1085 - val_mae: 0.2463 - val_msle: 0.0236\n",
      "Epoch 21/30\n",
      "20/21 [===========================>..] - ETA: 2s - loss: 0.2532 - mse: 0.1091 - mae: 0.2534 - msle: 0.0213\n",
      "Epoch 00021: ReduceLROnPlateau reducing learning rate to 4.572473718174781e-08.\n",
      "21/21 [==============================] - 55s 3s/step - loss: 0.2534 - mse: 0.1093 - mae: 0.2536 - msle: 0.0214 - val_loss: 0.2438 - val_mse: 0.1076 - val_mae: 0.2438 - val_msle: 0.0233\n",
      "Epoch 22/30\n",
      "21/21 [==============================] - 56s 3s/step - loss: 0.2533 - mse: 0.1079 - mae: 0.2535 - msle: 0.0215 - val_loss: 0.2414 - val_mse: 0.1040 - val_mae: 0.2414 - val_msle: 0.0226\n",
      "Epoch 23/30\n",
      "20/21 [===========================>..] - ETA: 2s - loss: 0.2539 - mse: 0.1091 - mae: 0.2538 - msle: 0.0214\n",
      "Epoch 00023: ReduceLROnPlateau reducing learning rate to 1.524157866583664e-08.\n",
      "21/21 [==============================] - 55s 3s/step - loss: 0.2551 - mse: 0.1101 - mae: 0.2550 - msle: 0.0217 - val_loss: 0.2427 - val_mse: 0.1048 - val_mae: 0.2427 - val_msle: 0.0225\n",
      "Epoch 24/30\n",
      "21/21 [==============================] - 55s 3s/step - loss: 0.2567 - mse: 0.1110 - mae: 0.2569 - msle: 0.0215 - val_loss: 0.2416 - val_mse: 0.1047 - val_mae: 0.2416 - val_msle: 0.0230\n",
      "Epoch 25/30\n",
      "20/21 [===========================>..] - ETA: 2s - loss: 0.2545 - mse: 0.1095 - mae: 0.2547 - msle: 0.0213\n",
      "Epoch 00025: ReduceLROnPlateau reducing learning rate to 5.080526221945547e-09.\n",
      "21/21 [==============================] - 56s 3s/step - loss: 0.2547 - mse: 0.1095 - mae: 0.2548 - msle: 0.0213 - val_loss: 0.2415 - val_mse: 0.1059 - val_mae: 0.2415 - val_msle: 0.0227\n",
      "Epoch 26/30\n",
      "21/21 [==============================] - 56s 3s/step - loss: 0.2536 - mse: 0.1078 - mae: 0.2537 - msle: 0.0214 - val_loss: 0.2403 - val_mse: 0.1042 - val_mae: 0.2403 - val_msle: 0.0226\n",
      "Epoch 27/30\n",
      "20/21 [===========================>..] - ETA: 2s - loss: 0.2586 - mse: 0.1122 - mae: 0.2588 - msle: 0.0221\n",
      "Epoch 00027: ReduceLROnPlateau reducing learning rate to 1.6935087406485156e-09.\n",
      "21/21 [==============================] - 55s 3s/step - loss: 0.2575 - mse: 0.1116 - mae: 0.2576 - msle: 0.0220 - val_loss: 0.2404 - val_mse: 0.1037 - val_mae: 0.2404 - val_msle: 0.0220\n",
      "Epoch 28/30\n",
      "21/21 [==============================] - 55s 3s/step - loss: 0.2537 - mse: 0.1080 - mae: 0.2536 - msle: 0.0215 - val_loss: 0.2432 - val_mse: 0.1050 - val_mae: 0.2432 - val_msle: 0.0229\n",
      "Epoch 29/30\n",
      "20/21 [===========================>..] - ETA: 2s - loss: 0.2509 - mse: 0.1072 - mae: 0.2512 - msle: 0.0213\n",
      "Epoch 00029: ReduceLROnPlateau reducing learning rate to 5.645029258853166e-10.\n",
      "21/21 [==============================] - 56s 3s/step - loss: 0.2525 - mse: 0.1084 - mae: 0.2527 - msle: 0.0213 - val_loss: 0.2452 - val_mse: 0.1074 - val_mae: 0.2452 - val_msle: 0.0230\n",
      "Epoch 30/30\n",
      "21/21 [==============================] - 55s 3s/step - loss: 0.2569 - mse: 0.1113 - mae: 0.2569 - msle: 0.0213 - val_loss: 0.2415 - val_mse: 0.1048 - val_mae: 0.2415 - val_msle: 0.0229\n"
     ]
    },
    {
     "data": {
      "text/plain": [
       "<tensorflow.python.keras.callbacks.History at 0x7f8b7c6c0128>"
      ]
     },
     "execution_count": 42,
     "metadata": {},
     "output_type": "execute_result"
    }
   ],
   "source": [
    "regression_model.fit(train_generator, epochs=30,\n",
    "                     callbacks=[reduce_lr],\n",
    "                     validation_data = val_generator,\n",
    "                     validation_steps = val_generator.samples // 128)"
   ]
  },
  {
   "cell_type": "code",
   "execution_count": 43,
   "metadata": {
    "ExecuteTime": {
     "end_time": "2020-04-05T20:23:37.627336Z",
     "start_time": "2020-04-05T20:23:36.786662Z"
    },
    "hidden": true
   },
   "outputs": [],
   "source": [
    "# regression_model.save_weights('gerabasespesagens_cropped2_basefiltrada_scaled_warmup_tunned.hdf5')"
   ]
  },
  {
   "cell_type": "code",
   "execution_count": 6,
   "metadata": {
    "ExecuteTime": {
     "end_time": "2020-04-06T12:34:42.111378Z",
     "start_time": "2020-04-06T12:34:42.100519Z"
    },
    "hidden": true
   },
   "outputs": [],
   "source": [
    "regression_model.load_weights('gerabasespesagens_cropped2_basefiltrada_scaled_warmup_tunned.hdf5')"
   ]
  },
  {
   "cell_type": "markdown",
   "metadata": {
    "heading_collapsed": true,
    "hidden": true
   },
   "source": [
    "## Fine tunning"
   ]
  },
  {
   "cell_type": "code",
   "execution_count": 25,
   "metadata": {
    "ExecuteTime": {
     "end_time": "2020-04-03T12:13:29.433920Z",
     "start_time": "2020-04-03T12:13:29.417557Z"
    },
    "hidden": true
   },
   "outputs": [
    {
     "name": "stdout",
     "output_type": "stream",
     "text": [
      "<tensorflow.python.keras.layers.convolutional.Conv2D object at 0x7f9329d44d68> False\n",
      "<tensorflow.python.keras.layers.pooling.MaxPooling2D object at 0x7f9329ccf390> False\n",
      "<tensorflow.python.keras.layers.core.Dropout object at 0x7f9329ccf588> False\n",
      "<tensorflow.python.keras.layers.convolutional.Conv2D object at 0x7f9329ccf6d8> False\n",
      "<tensorflow.python.keras.layers.core.Dropout object at 0x7f9329ccfb38> False\n",
      "<tensorflow.python.keras.layers.convolutional.Conv2D object at 0x7f9329ccfc50> False\n",
      "<tensorflow.python.keras.layers.core.Dropout object at 0x7f9329cdf0f0> False\n",
      "<tensorflow.python.keras.layers.pooling.AveragePooling2D object at 0x7f9329cdf208> False\n",
      "<tensorflow.python.keras.layers.core.Flatten object at 0x7f9329cdf400> False\n",
      "<tensorflow.python.keras.layers.core.Dense object at 0x7f9329cdf550> True\n",
      "<tensorflow.python.keras.layers.core.Dense object at 0x7f9329cdf860> True\n",
      "<tensorflow.python.keras.layers.core.Dropout object at 0x7f9329cdfb70> True\n",
      "<tensorflow.python.keras.layers.core.Dense object at 0x7f9329cdfc88> True\n"
     ]
    }
   ],
   "source": [
    "for layer in regression_model.layers:\n",
    "    layer.trainable = True\n",
    "for layer in regression_model.layers[:-4]:\n",
    "    layer.trainable = False\n",
    "for layer in regression_model.layers:\n",
    "    print(layer, layer.trainable)\n"
   ]
  },
  {
   "cell_type": "code",
   "execution_count": 30,
   "metadata": {
    "ExecuteTime": {
     "end_time": "2020-04-03T12:21:44.883145Z",
     "start_time": "2020-04-03T12:21:44.832612Z"
    },
    "hidden": true
   },
   "outputs": [],
   "source": [
    "regression_model.compile(optimizer=optimizers.SGD(lr=0.001),\n",
    "                         loss='mean_squared_logarithmic_error', metrics=['msle', 'mae', 'mse'])\n",
    "reduce_lr = ReduceLROnPlateau(monitor='val_loss', factor=0.5, patience=2,\n",
    "                          verbose=1, mode='min')"
   ]
  },
  {
   "cell_type": "code",
   "execution_count": 28,
   "metadata": {
    "ExecuteTime": {
     "end_time": "2020-04-03T12:18:18.029170Z",
     "start_time": "2020-04-03T12:18:13.046997Z"
    },
    "hidden": true
   },
   "outputs": [
    {
     "name": "stdout",
     "output_type": "stream",
     "text": [
      "Found 7283 validated image filenames.\n"
     ]
    }
   ],
   "source": [
    "train_generator = train_datagen.flow_from_dataframe(\n",
    "    dataframe=df_train,\n",
    "    directory='../../bases/pesagensbalanca/pesagensbalanca_cropped',\n",
    "    target_size=(144, 288),\n",
    "    batch_size=128,\n",
    "    x_col='filename',\n",
    "    y_col=\"pesobalanca\",\n",
    "    shuffle=False,\n",
    "    class_mode='raw',\n",
    ")\n"
   ]
  },
  {
   "cell_type": "code",
   "execution_count": 31,
   "metadata": {
    "ExecuteTime": {
     "end_time": "2020-04-03T12:46:18.006691Z",
     "start_time": "2020-04-03T12:22:09.041169Z"
    },
    "hidden": true
   },
   "outputs": [
    {
     "name": "stdout",
     "output_type": "stream",
     "text": [
      "Train for 57 steps, validate for 12 steps\n",
      "Epoch 1/20\n",
      "57/57 [==============================] - 71s 1s/step - loss: 0.0947 - msle: 0.0947 - mae: 3608.4629 - mse: 23316486.0000 - val_loss: 0.1091 - val_msle: 0.1091 - val_mae: 3562.4495 - val_mse: 23320314.0000\n",
      "Epoch 2/20\n",
      "57/57 [==============================] - 71s 1s/step - loss: 0.0960 - msle: 0.0960 - mae: 3634.3882 - mse: 23902398.0000 - val_loss: 0.1093 - val_msle: 0.1093 - val_mae: 3560.1953 - val_mse: 23409062.0000\n",
      "Epoch 3/20\n",
      "57/57 [==============================] - 69s 1s/step - loss: 0.0959 - msle: 0.0959 - mae: 3642.7004 - mse: 23762100.0000 - val_loss: 0.1079 - val_msle: 0.1079 - val_mae: 3559.0322 - val_mse: 23223136.0000\n",
      "Epoch 4/20\n",
      "57/57 [==============================] - 68s 1s/step - loss: 0.0953 - msle: 0.0953 - mae: 3632.0486 - mse: 23893478.0000 - val_loss: 0.1082 - val_msle: 0.1082 - val_mae: 3570.1289 - val_mse: 23299914.0000\n",
      "Epoch 5/20\n",
      "57/57 [==============================] - 88s 2s/step - loss: 0.0955 - msle: 0.0955 - mae: 3647.9644 - mse: 23942830.0000 - val_loss: 0.1077 - val_msle: 0.1077 - val_mae: 3559.8801 - val_mse: 23177550.0000\n",
      "Epoch 6/20\n",
      "57/57 [==============================] - 82s 1s/step - loss: 0.0962 - msle: 0.0962 - mae: 3663.9114 - mse: 24051190.0000 - val_loss: 0.1084 - val_msle: 0.1084 - val_mae: 3576.3948 - val_mse: 23368120.0000\n",
      "Epoch 7/20\n",
      "56/57 [============================>.] - ETA: 1s - loss: 0.0958 - msle: 0.0958 - mae: 3642.4663 - mse: 23756436.0000\n",
      "Epoch 00007: ReduceLROnPlateau reducing learning rate to 0.0005000000237487257.\n",
      "57/57 [==============================] - 75s 1s/step - loss: 0.0957 - msle: 0.0957 - mae: 3649.6077 - mse: 23811616.0000 - val_loss: 0.1081 - val_msle: 0.1081 - val_mae: 3570.0051 - val_mse: 23035190.0000\n",
      "Epoch 8/20\n",
      "57/57 [==============================] - 72s 1s/step - loss: 0.0963 - msle: 0.0963 - mae: 3688.8850 - mse: 24120656.0000 - val_loss: 0.1080 - val_msle: 0.1080 - val_mae: 3597.3259 - val_mse: 23412522.0000\n",
      "Epoch 9/20\n",
      "56/57 [============================>.] - ETA: 1s - loss: 0.0958 - msle: 0.0958 - mae: 3694.7253 - mse: 23935766.0000\n",
      "Epoch 00009: ReduceLROnPlateau reducing learning rate to 0.0002500000118743628.\n",
      "57/57 [==============================] - 72s 1s/step - loss: 0.0960 - msle: 0.0960 - mae: 3700.4827 - mse: 24019208.0000 - val_loss: 0.1086 - val_msle: 0.1086 - val_mae: 3587.5818 - val_mse: 23438978.0000\n",
      "Epoch 10/20\n",
      "57/57 [==============================] - 70s 1s/step - loss: 0.0948 - msle: 0.0948 - mae: 3647.3152 - mse: 23678130.0000 - val_loss: 0.1079 - val_msle: 0.1079 - val_mae: 3562.3242 - val_mse: 23302350.0000\n",
      "Epoch 11/20\n",
      "57/57 [==============================] - 69s 1s/step - loss: 0.0936 - msle: 0.0936 - mae: 3644.5615 - mse: 23401316.0000 - val_loss: 0.1073 - val_msle: 0.1073 - val_mae: 3555.0166 - val_mse: 23016992.0000\n",
      "Epoch 12/20\n",
      "57/57 [==============================] - 69s 1s/step - loss: 0.0951 - msle: 0.0951 - mae: 3679.6699 - mse: 24004276.0000 - val_loss: 0.1077 - val_msle: 0.1077 - val_mae: 3560.4417 - val_mse: 23152162.0000\n",
      "Epoch 13/20\n",
      "56/57 [============================>.] - ETA: 1s - loss: 0.0949 - msle: 0.0949 - mae: 3652.0210 - mse: 23497662.0000\n",
      "Epoch 00013: ReduceLROnPlateau reducing learning rate to 0.0001250000059371814.\n",
      "57/57 [==============================] - 69s 1s/step - loss: 0.0950 - msle: 0.0950 - mae: 3659.3501 - mse: 23573314.0000 - val_loss: 0.1078 - val_msle: 0.1078 - val_mae: 3592.5928 - val_mse: 23263226.0000\n",
      "Epoch 14/20\n",
      "57/57 [==============================] - 71s 1s/step - loss: 0.0950 - msle: 0.0950 - mae: 3642.0391 - mse: 23498400.0000 - val_loss: 0.1071 - val_msle: 0.1071 - val_mae: 3566.7332 - val_mse: 23151944.0000\n",
      "Epoch 15/20\n",
      "57/57 [==============================] - 70s 1s/step - loss: 0.0943 - msle: 0.0943 - mae: 3631.8079 - mse: 23322428.0000 - val_loss: 0.1080 - val_msle: 0.1080 - val_mae: 3595.3057 - val_mse: 23449594.0000\n",
      "Epoch 16/20\n",
      "56/57 [============================>.] - ETA: 1s - loss: 0.0943 - msle: 0.0943 - mae: 3651.6238 - mse: 23555504.0000\n",
      "Epoch 00016: ReduceLROnPlateau reducing learning rate to 6.25000029685907e-05.\n",
      "57/57 [==============================] - 68s 1s/step - loss: 0.0944 - msle: 0.0944 - mae: 3657.6921 - mse: 23610342.0000 - val_loss: 0.1081 - val_msle: 0.1081 - val_mae: 3583.7878 - val_mse: 23516310.0000\n",
      "Epoch 17/20\n",
      "57/57 [==============================] - 72s 1s/step - loss: 0.0952 - msle: 0.0952 - mae: 3642.9255 - mse: 23638890.0000 - val_loss: 0.1085 - val_msle: 0.1085 - val_mae: 3591.6428 - val_mse: 23487902.0000\n",
      "Epoch 18/20\n",
      "56/57 [============================>.] - ETA: 1s - loss: 0.0945 - msle: 0.0945 - mae: 3655.2605 - mse: 23732426.0000\n",
      "Epoch 00018: ReduceLROnPlateau reducing learning rate to 3.125000148429535e-05.\n",
      "57/57 [==============================] - 68s 1s/step - loss: 0.0944 - msle: 0.0944 - mae: 3659.3508 - mse: 23771188.0000 - val_loss: 0.1081 - val_msle: 0.1081 - val_mae: 3573.0984 - val_mse: 23345970.0000\n",
      "Epoch 19/20\n",
      "57/57 [==============================] - 73s 1s/step - loss: 0.0961 - msle: 0.0961 - mae: 3692.1499 - mse: 24068660.0000 - val_loss: 0.1086 - val_msle: 0.1086 - val_mae: 3603.9785 - val_mse: 23488554.0000\n",
      "Epoch 20/20\n",
      "56/57 [============================>.] - ETA: 1s - loss: 0.0949 - msle: 0.0949 - mae: 3656.9983 - mse: 23879520.0000\n",
      "Epoch 00020: ReduceLROnPlateau reducing learning rate to 1.5625000742147677e-05.\n",
      "57/57 [==============================] - 77s 1s/step - loss: 0.0951 - msle: 0.0951 - mae: 3663.6902 - mse: 23954798.0000 - val_loss: 0.1075 - val_msle: 0.1075 - val_mae: 3602.1082 - val_mse: 23402186.0000\n"
     ]
    },
    {
     "data": {
      "text/plain": [
       "<tensorflow.python.keras.callbacks.History at 0x7f939fe86898>"
      ]
     },
     "execution_count": 31,
     "metadata": {},
     "output_type": "execute_result"
    }
   ],
   "source": [
    "regression_model.fit(train_generator, epochs=20, shuffle=False,\n",
    "                     callbacks=[reduce_lr],\n",
    "                     validation_data = val_generator,\n",
    "                     validation_steps = val_generator.samples // 64)"
   ]
  },
  {
   "cell_type": "code",
   "execution_count": 67,
   "metadata": {
    "ExecuteTime": {
     "end_time": "2020-04-03T13:36:17.134277Z",
     "start_time": "2020-04-03T13:36:17.073080Z"
    },
    "hidden": true
   },
   "outputs": [],
   "source": [
    "regression_model.compile(optimizer=optimizers.SGD(lr=0.0001),\n",
    "                         loss='mean_absolute_error', metrics=['msle', 'mae', 'mse'])\n",
    "reduce_lr = ReduceLROnPlateau(monitor='val_loss', factor=0.5, patience=2,\n",
    "                          verbose=1, mode='min')"
   ]
  },
  {
   "cell_type": "code",
   "execution_count": 68,
   "metadata": {
    "ExecuteTime": {
     "end_time": "2020-04-03T13:58:49.128551Z",
     "start_time": "2020-04-03T13:36:19.963003Z"
    },
    "hidden": true
   },
   "outputs": [
    {
     "name": "stdout",
     "output_type": "stream",
     "text": [
      "Train for 57 steps, validate for 12 steps\n",
      "Epoch 1/20\n",
      "57/57 [==============================] - 68s 1s/step - loss: 5622.2075 - msle: 0.1992 - mae: 5624.1997 - mse: 55791784.0000 - val_loss: 3756.6118 - val_msle: 0.1211 - val_mae: 3756.6116 - val_mse: 26991670.0000\n",
      "Epoch 2/20\n",
      "57/57 [==============================] - 69s 1s/step - loss: 4039.2813 - msle: 0.1083 - mae: 4039.6230 - mse: 28704642.0000 - val_loss: 3569.9286 - val_msle: 0.1115 - val_mae: 3569.9285 - val_mse: 23872918.0000\n",
      "Epoch 3/20\n",
      "57/57 [==============================] - 68s 1s/step - loss: 3988.0034 - msle: 0.1053 - mae: 3987.5867 - mse: 27424336.0000 - val_loss: 3688.5720 - val_msle: 0.1213 - val_mae: 3688.5723 - val_mse: 26035480.0000\n",
      "Epoch 4/20\n",
      "57/57 [==============================] - 67s 1s/step - loss: 3891.8890 - msle: 0.1026 - mae: 3891.7432 - mse: 26609566.0000 - val_loss: 3542.2460 - val_msle: 0.1098 - val_mae: 3542.2463 - val_mse: 23128936.0000\n",
      "Epoch 5/20\n",
      "57/57 [==============================] - 67s 1s/step - loss: 3853.6981 - msle: 0.1027 - mae: 3853.5623 - mse: 26367744.0000 - val_loss: 3650.7325 - val_msle: 0.1204 - val_mae: 3650.7322 - val_mse: 25428750.0000\n",
      "Epoch 6/20\n",
      "56/57 [============================>.] - ETA: 1s - loss: 3748.6712 - msle: 0.0982 - mae: 3748.6704 - mse: 24742960.0000\n",
      "Epoch 00006: ReduceLROnPlateau reducing learning rate to 4.999999873689376e-05.\n",
      "57/57 [==============================] - 67s 1s/step - loss: 3764.0018 - msle: 0.0985 - mae: 3762.4924 - mse: 24833750.0000 - val_loss: 3602.0475 - val_msle: 0.1175 - val_mae: 3602.0476 - val_mse: 24750680.0000\n",
      "Epoch 7/20\n",
      "57/57 [==============================] - 68s 1s/step - loss: 3682.3303 - msle: 0.0977 - mae: 3682.0134 - mse: 24172022.0000 - val_loss: 3569.0797 - val_msle: 0.1069 - val_mae: 3569.0793 - val_mse: 22903376.0000\n",
      "Epoch 8/20\n",
      "57/57 [==============================] - 68s 1s/step - loss: 3669.1480 - msle: 0.0965 - mae: 3667.9512 - mse: 23896300.0000 - val_loss: 3535.4600 - val_msle: 0.1075 - val_mae: 3535.4602 - val_mse: 22995670.0000\n",
      "Epoch 9/20\n",
      "57/57 [==============================] - 67s 1s/step - loss: 3645.8396 - msle: 0.0964 - mae: 3645.0186 - mse: 23734250.0000 - val_loss: 3530.7960 - val_msle: 0.1092 - val_mae: 3530.7961 - val_mse: 22992938.0000\n",
      "Epoch 10/20\n",
      "57/57 [==============================] - 67s 1s/step - loss: 3674.1624 - msle: 0.0967 - mae: 3673.2100 - mse: 24207526.0000 - val_loss: 3528.8401 - val_msle: 0.1103 - val_mae: 3528.8401 - val_mse: 23352082.0000\n",
      "Epoch 11/20\n",
      "57/57 [==============================] - 67s 1s/step - loss: 3637.7729 - msle: 0.0948 - mae: 3636.9436 - mse: 23636412.0000 - val_loss: 3549.9799 - val_msle: 0.1083 - val_mae: 3549.9797 - val_mse: 22973326.0000\n",
      "Epoch 12/20\n",
      "57/57 [==============================] - 67s 1s/step - loss: 3686.5428 - msle: 0.0968 - mae: 3685.6941 - mse: 24174696.0000 - val_loss: 3514.0920 - val_msle: 0.1088 - val_mae: 3514.0920 - val_mse: 22884904.0000\n",
      "Epoch 13/20\n",
      "57/57 [==============================] - 67s 1s/step - loss: 3632.0104 - msle: 0.0963 - mae: 3631.6216 - mse: 23844394.0000 - val_loss: 3539.5320 - val_msle: 0.1101 - val_mae: 3539.5320 - val_mse: 23183126.0000\n",
      "Epoch 14/20\n",
      "56/57 [============================>.] - ETA: 1s - loss: 3639.5244 - msle: 0.0959 - mae: 3639.5237 - mse: 23781594.0000\n",
      "Epoch 00014: ReduceLROnPlateau reducing learning rate to 2.499999936844688e-05.\n",
      "57/57 [==============================] - 66s 1s/step - loss: 3645.3800 - msle: 0.0959 - mae: 3644.8030 - mse: 23836504.0000 - val_loss: 3515.9760 - val_msle: 0.1093 - val_mae: 3515.9763 - val_mse: 23088942.0000\n",
      "Epoch 15/20\n",
      "57/57 [==============================] - 67s 1s/step - loss: 3640.5874 - msle: 0.0968 - mae: 3640.2993 - mse: 23954126.0000 - val_loss: 3526.3693 - val_msle: 0.1067 - val_mae: 3526.3694 - val_mse: 22749002.0000\n",
      "Epoch 16/20\n",
      "56/57 [============================>.] - ETA: 1s - loss: 3582.5034 - msle: 0.0948 - mae: 3582.5032 - mse: 23006774.0000\n",
      "Epoch 00016: ReduceLROnPlateau reducing learning rate to 1.249999968422344e-05.\n",
      "57/57 [==============================] - 69s 1s/step - loss: 3590.9371 - msle: 0.0948 - mae: 3590.1069 - mse: 23097024.0000 - val_loss: 3546.2712 - val_msle: 0.1069 - val_mae: 3546.2712 - val_mse: 22921176.0000\n",
      "Epoch 17/20\n",
      "57/57 [==============================] - 67s 1s/step - loss: 3615.6541 - msle: 0.0953 - mae: 3614.7908 - mse: 23614178.0000 - val_loss: 3539.1195 - val_msle: 0.1088 - val_mae: 3539.1194 - val_mse: 23189586.0000\n",
      "Epoch 18/20\n",
      "57/57 [==============================] - 67s 1s/step - loss: 3628.2015 - msle: 0.0958 - mae: 3627.6113 - mse: 23599454.0000 - val_loss: 3510.0249 - val_msle: 0.1092 - val_mae: 3510.0251 - val_mse: 23016432.0000\n",
      "Epoch 19/20\n",
      "57/57 [==============================] - 67s 1s/step - loss: 3634.8983 - msle: 0.0952 - mae: 3634.0483 - mse: 23755970.0000 - val_loss: 3551.2371 - val_msle: 0.1091 - val_mae: 3551.2371 - val_mse: 23314026.0000\n",
      "Epoch 20/20\n",
      "56/57 [============================>.] - ETA: 1s - loss: 3637.4419 - msle: 0.0961 - mae: 3637.4419 - mse: 23587600.0000\n",
      "Epoch 00020: ReduceLROnPlateau reducing learning rate to 6.24999984211172e-06.\n",
      "57/57 [==============================] - 67s 1s/step - loss: 3644.7557 - msle: 0.0961 - mae: 3644.0359 - mse: 23668352.0000 - val_loss: 3535.6181 - val_msle: 0.1065 - val_mae: 3535.6184 - val_mse: 22774776.0000\n"
     ]
    },
    {
     "data": {
      "text/plain": [
       "<tensorflow.python.keras.callbacks.History at 0x7f93a4809908>"
      ]
     },
     "execution_count": 68,
     "metadata": {},
     "output_type": "execute_result"
    }
   ],
   "source": [
    "regression_model.fit(train_generator, epochs=20, shuffle=False,\n",
    "                     callbacks=[reduce_lr],\n",
    "                     validation_data = val_generator,\n",
    "                     validation_steps = val_generator.samples // 64)"
   ]
  },
  {
   "cell_type": "code",
   "execution_count": 110,
   "metadata": {
    "ExecuteTime": {
     "end_time": "2020-04-03T14:53:04.772913Z",
     "start_time": "2020-04-03T14:53:04.561209Z"
    },
    "hidden": true
   },
   "outputs": [],
   "source": [
    "regression_model.save_weights('gerabasespesagens_cropped2_finetunning.h5')"
   ]
  },
  {
   "cell_type": "markdown",
   "metadata": {
    "heading_collapsed": true
   },
   "source": [
    "# Avaliação"
   ]
  },
  {
   "cell_type": "code",
   "execution_count": 38,
   "metadata": {
    "ExecuteTime": {
     "end_time": "2020-04-06T12:56:29.028672Z",
     "start_time": "2020-04-06T12:56:29.025920Z"
    },
    "hidden": true
   },
   "outputs": [
    {
     "name": "stdout",
     "output_type": "stream",
     "text": [
      "[18204.96858088] [7558.96185212]\n"
     ]
    }
   ],
   "source": [
    "mean = scaler.mean_\n",
    "scale = scaler.scale_\n",
    "print(mean, scale)"
   ]
  },
  {
   "cell_type": "code",
   "execution_count": 41,
   "metadata": {
    "ExecuteTime": {
     "end_time": "2020-04-06T12:56:46.955293Z",
     "start_time": "2020-04-06T12:56:46.761322Z"
    },
    "hidden": true
   },
   "outputs": [
    {
     "name": "stdout",
     "output_type": "stream",
     "text": [
      "[18547.469] 19350\n"
     ]
    },
    {
     "data": {
      "text/plain": [
       "<matplotlib.image.AxesImage at 0x7f235c6545f8>"
      ]
     },
     "execution_count": 41,
     "metadata": {},
     "output_type": "execute_result"
    },
    {
     "data": {
      "image/png": "[encoded data removed]",
      "text/plain": [
       "<Figure size 432x288 with 1 Axes>"
      ]
     },
     "metadata": {
      "needs_background": "light"
     },
     "output_type": "display_data"
    }
   ],
   "source": [
    "%matplotlib inline\n",
    "import matplotlib.pyplot as plt\n",
    "sample = df.sample()\n",
    "filename = sample['filename'].item()\n",
    "image = Image.open('../../bases/pesagensbalanca/pesagensbalanca_cropped/' + filename)\n",
    "image = image.resize((288, 144), Image.LANCZOS)\n",
    "image_array = np.expand_dims(np.array(image), axis=0) / 255\n",
    "pred = regression_model.predict(image_array)[0][0]\n",
    "pred_scaled = scaler.inverse_transform([pred])\n",
    "print(pred_scaled, sample['pesobalanca'].item())\n",
    "plt.imshow(image)"
   ]
  },
  {
   "cell_type": "code",
   "execution_count": 42,
   "metadata": {
    "ExecuteTime": {
     "end_time": "2020-04-06T12:57:10.186692Z",
     "start_time": "2020-04-06T12:57:10.183401Z"
    },
    "hidden": true
   },
   "outputs": [
    {
     "data": {
      "text/plain": [
       "array([18547.4690703])"
      ]
     },
     "execution_count": 42,
     "metadata": {},
     "output_type": "execute_result"
    }
   ],
   "source": [
    "pred * scale + mean"
   ]
  },
  {
   "cell_type": "code",
   "execution_count": 16,
   "metadata": {
    "ExecuteTime": {
     "end_time": "2020-04-06T12:37:23.262222Z",
     "start_time": "2020-04-06T12:36:34.330569Z"
    },
    "hidden": true
   },
   "outputs": [],
   "source": [
    "y_preds_train = regression_model.predict_generator(train_generator)"
   ]
  },
  {
   "cell_type": "code",
   "execution_count": 17,
   "metadata": {
    "ExecuteTime": {
     "end_time": "2020-04-06T12:37:36.475222Z",
     "start_time": "2020-04-06T12:37:23.263880Z"
    },
    "hidden": true
   },
   "outputs": [],
   "source": [
    "y_preds_val = regression_model.predict_generator(val_generator)"
   ]
  },
  {
   "cell_type": "code",
   "execution_count": 18,
   "metadata": {
    "ExecuteTime": {
     "end_time": "2020-04-06T12:37:36.481569Z",
     "start_time": "2020-04-06T12:37:36.477036Z"
    },
    "hidden": true
   },
   "outputs": [
    {
     "data": {
      "text/plain": [
       "(1344, 8)"
      ]
     },
     "execution_count": 18,
     "metadata": {},
     "output_type": "execute_result"
    }
   ],
   "source": [
    "df_val.shape"
   ]
  },
  {
   "cell_type": "code",
   "execution_count": 19,
   "metadata": {
    "ExecuteTime": {
     "end_time": "2020-04-06T12:37:36.790074Z",
     "start_time": "2020-04-06T12:37:36.483441Z"
    },
    "hidden": true
   },
   "outputs": [
    {
     "data": {
      "text/plain": [
       "(1344, 1)"
      ]
     },
     "execution_count": 19,
     "metadata": {},
     "output_type": "execute_result"
    }
   ],
   "source": [
    "y_preds_val.shape"
   ]
  },
  {
   "cell_type": "code",
   "execution_count": 20,
   "metadata": {
    "ExecuteTime": {
     "end_time": "2020-04-06T12:37:36.922192Z",
     "start_time": "2020-04-06T12:37:36.791425Z"
    },
    "hidden": true
   },
   "outputs": [
    {
     "name": "stderr",
     "output_type": "stream",
     "text": [
      "/home/ivan/pybr/projeto/venv/lib/python3.5/site-packages/ipykernel_launcher.py:1: SettingWithCopyWarning: \n",
      "A value is trying to be set on a copy of a slice from a DataFrame.\n",
      "Try using .loc[row_indexer,col_indexer] = value instead\n",
      "\n",
      "See the caveats in the documentation: http://pandas.pydata.org/pandas-docs/stable/indexing.html#indexing-view-versus-copy\n",
      "  \"\"\"Entry point for launching an IPython kernel.\n"
     ]
    }
   ],
   "source": [
    "df_val['preds'] = scaler.inverse_transform(y_preds_val)"
   ]
  },
  {
   "cell_type": "code",
   "execution_count": 21,
   "metadata": {
    "ExecuteTime": {
     "end_time": "2020-04-06T12:37:36.973961Z",
     "start_time": "2020-04-06T12:37:36.923624Z"
    },
    "hidden": true
   },
   "outputs": [
    {
     "data": {
      "text/html": [
       "<div>\n",
       "<style scoped>\n",
       "    .dataframe tbody tr th:only-of-type {\n",
       "        vertical-align: middle;\n",
       "    }\n",
       "\n",
       "    .dataframe tbody tr th {\n",
       "        vertical-align: top;\n",
       "    }\n",
       "\n",
       "    .dataframe thead th {\n",
       "        text-align: right;\n",
       "    }\n",
       "</style>\n",
       "<table border=\"1\" class=\"dataframe\">\n",
       "  <thead>\n",
       "    <tr style=\"text-align: right;\">\n",
       "      <th></th>\n",
       "      <th>id</th>\n",
       "      <th>pesobalanca</th>\n",
       "      <th>pesodeclarado</th>\n",
       "      <th>dif</th>\n",
       "      <th>filename</th>\n",
       "      <th>preds</th>\n",
       "      <th>dif_pred</th>\n",
       "      <th>pesoscaled</th>\n",
       "    </tr>\n",
       "  </thead>\n",
       "  <tbody>\n",
       "    <tr>\n",
       "      <th>21</th>\n",
       "      <td>5e5d096a3d0ec8337863f791</td>\n",
       "      <td>21770</td>\n",
       "      <td>21700</td>\n",
       "      <td>70</td>\n",
       "      <td>5e5d096a3d0ec8337863f791.jpg</td>\n",
       "      <td>22792.464844</td>\n",
       "      <td>2710.771484</td>\n",
       "      <td>0.471630</td>\n",
       "    </tr>\n",
       "    <tr>\n",
       "      <th>29</th>\n",
       "      <td>5e5d096a3d0ec8337863f79d</td>\n",
       "      <td>22120</td>\n",
       "      <td>22148</td>\n",
       "      <td>28</td>\n",
       "      <td>5e5d096a3d0ec8337863f79d.jpg</td>\n",
       "      <td>21466.755859</td>\n",
       "      <td>2698.906250</td>\n",
       "      <td>0.517932</td>\n",
       "    </tr>\n",
       "    <tr>\n",
       "      <th>38</th>\n",
       "      <td>5e5d096a3d0ec8337863f7a9</td>\n",
       "      <td>26960</td>\n",
       "      <td>26776</td>\n",
       "      <td>184</td>\n",
       "      <td>5e5d096a3d0ec8337863f7a9.jpg</td>\n",
       "      <td>24661.103516</td>\n",
       "      <td>4361.814453</td>\n",
       "      <td>1.158232</td>\n",
       "    </tr>\n",
       "    <tr>\n",
       "      <th>44</th>\n",
       "      <td>5e5d096b3d0ec8337863f7b5</td>\n",
       "      <td>22750</td>\n",
       "      <td>22354</td>\n",
       "      <td>396</td>\n",
       "      <td>5e5d096b3d0ec8337863f7b5.jpg</td>\n",
       "      <td>22041.738281</td>\n",
       "      <td>715.941406</td>\n",
       "      <td>0.601277</td>\n",
       "    </tr>\n",
       "    <tr>\n",
       "      <th>50</th>\n",
       "      <td>5e5d096a3d0ec8337863f771</td>\n",
       "      <td>23460</td>\n",
       "      <td>23445</td>\n",
       "      <td>15</td>\n",
       "      <td>5e5d096a3d0ec8337863f771.jpg</td>\n",
       "      <td>22602.923828</td>\n",
       "      <td>18.792969</td>\n",
       "      <td>0.695205</td>\n",
       "    </tr>\n",
       "  </tbody>\n",
       "</table>\n",
       "</div>"
      ],
      "text/plain": [
       "                          id  pesobalanca  pesodeclarado  dif  \\\n",
       "21  5e5d096a3d0ec8337863f791        21770          21700   70   \n",
       "29  5e5d096a3d0ec8337863f79d        22120          22148   28   \n",
       "38  5e5d096a3d0ec8337863f7a9        26960          26776  184   \n",
       "44  5e5d096b3d0ec8337863f7b5        22750          22354  396   \n",
       "50  5e5d096a3d0ec8337863f771        23460          23445   15   \n",
       "\n",
       "                        filename         preds     dif_pred  pesoscaled  \n",
       "21  5e5d096a3d0ec8337863f791.jpg  22792.464844  2710.771484    0.471630  \n",
       "29  5e5d096a3d0ec8337863f79d.jpg  21466.755859  2698.906250    0.517932  \n",
       "38  5e5d096a3d0ec8337863f7a9.jpg  24661.103516  4361.814453    1.158232  \n",
       "44  5e5d096b3d0ec8337863f7b5.jpg  22041.738281   715.941406    0.601277  \n",
       "50  5e5d096a3d0ec8337863f771.jpg  22602.923828    18.792969    0.695205  "
      ]
     },
     "execution_count": 21,
     "metadata": {},
     "output_type": "execute_result"
    }
   ],
   "source": [
    "df_val.head()"
   ]
  },
  {
   "cell_type": "code",
   "execution_count": 22,
   "metadata": {
    "ExecuteTime": {
     "end_time": "2020-04-06T12:37:37.093292Z",
     "start_time": "2020-04-06T12:37:36.975614Z"
    },
    "hidden": true
   },
   "outputs": [
    {
     "name": "stderr",
     "output_type": "stream",
     "text": [
      "/home/ivan/pybr/projeto/venv/lib/python3.5/site-packages/ipykernel_launcher.py:1: SettingWithCopyWarning: \n",
      "A value is trying to be set on a copy of a slice from a DataFrame.\n",
      "Try using .loc[row_indexer,col_indexer] = value instead\n",
      "\n",
      "See the caveats in the documentation: http://pandas.pydata.org/pandas-docs/stable/indexing.html#indexing-view-versus-copy\n",
      "  \"\"\"Entry point for launching an IPython kernel.\n"
     ]
    }
   ],
   "source": [
    "df_val['dif_pred'] = abs(df_val['pesobalanca'] - df_val['preds'])"
   ]
  },
  {
   "cell_type": "code",
   "execution_count": 23,
   "metadata": {
    "ExecuteTime": {
     "end_time": "2020-04-06T12:37:47.124612Z",
     "start_time": "2020-04-06T12:37:47.102123Z"
    },
    "hidden": true
   },
   "outputs": [
    {
     "data": {
      "text/html": [
       "<div>\n",
       "<style scoped>\n",
       "    .dataframe tbody tr th:only-of-type {\n",
       "        vertical-align: middle;\n",
       "    }\n",
       "\n",
       "    .dataframe tbody tr th {\n",
       "        vertical-align: top;\n",
       "    }\n",
       "\n",
       "    .dataframe thead th {\n",
       "        text-align: right;\n",
       "    }\n",
       "</style>\n",
       "<table border=\"1\" class=\"dataframe\">\n",
       "  <thead>\n",
       "    <tr style=\"text-align: right;\">\n",
       "      <th></th>\n",
       "      <th>pesobalanca</th>\n",
       "      <th>pesodeclarado</th>\n",
       "      <th>dif</th>\n",
       "      <th>preds</th>\n",
       "      <th>dif_pred</th>\n",
       "      <th>pesoscaled</th>\n",
       "    </tr>\n",
       "  </thead>\n",
       "  <tbody>\n",
       "    <tr>\n",
       "      <th>count</th>\n",
       "      <td>1344.000000</td>\n",
       "      <td>1344.000000</td>\n",
       "      <td>1344.000000</td>\n",
       "      <td>1344.000000</td>\n",
       "      <td>1344.000000</td>\n",
       "      <td>1344.000000</td>\n",
       "    </tr>\n",
       "    <tr>\n",
       "      <th>mean</th>\n",
       "      <td>18327.865327</td>\n",
       "      <td>18367.426339</td>\n",
       "      <td>222.071429</td>\n",
       "      <td>18299.316406</td>\n",
       "      <td>1727.174556</td>\n",
       "      <td>0.016258</td>\n",
       "    </tr>\n",
       "    <tr>\n",
       "      <th>std</th>\n",
       "      <td>7530.509492</td>\n",
       "      <td>7513.439805</td>\n",
       "      <td>212.120340</td>\n",
       "      <td>6997.949219</td>\n",
       "      <td>1487.007330</td>\n",
       "      <td>0.996236</td>\n",
       "    </tr>\n",
       "    <tr>\n",
       "      <th>min</th>\n",
       "      <td>2430.000000</td>\n",
       "      <td>2481.000000</td>\n",
       "      <td>0.000000</td>\n",
       "      <td>1509.804565</td>\n",
       "      <td>1.898438</td>\n",
       "      <td>-2.086923</td>\n",
       "    </tr>\n",
       "    <tr>\n",
       "      <th>25%</th>\n",
       "      <td>11310.000000</td>\n",
       "      <td>11464.750000</td>\n",
       "      <td>64.000000</td>\n",
       "      <td>11004.139893</td>\n",
       "      <td>587.117432</td>\n",
       "      <td>-0.912158</td>\n",
       "    </tr>\n",
       "    <tr>\n",
       "      <th>50%</th>\n",
       "      <td>19710.000000</td>\n",
       "      <td>19817.500000</td>\n",
       "      <td>150.000000</td>\n",
       "      <td>20591.000977</td>\n",
       "      <td>1307.716797</td>\n",
       "      <td>0.199106</td>\n",
       "    </tr>\n",
       "    <tr>\n",
       "      <th>75%</th>\n",
       "      <td>24212.500000</td>\n",
       "      <td>24224.500000</td>\n",
       "      <td>308.250000</td>\n",
       "      <td>24042.435547</td>\n",
       "      <td>2479.537109</td>\n",
       "      <td>0.794756</td>\n",
       "    </tr>\n",
       "    <tr>\n",
       "      <th>max</th>\n",
       "      <td>29950.000000</td>\n",
       "      <td>30144.000000</td>\n",
       "      <td>999.000000</td>\n",
       "      <td>29956.519531</td>\n",
       "      <td>12332.507812</td>\n",
       "      <td>1.553789</td>\n",
       "    </tr>\n",
       "  </tbody>\n",
       "</table>\n",
       "</div>"
      ],
      "text/plain": [
       "        pesobalanca  pesodeclarado          dif         preds      dif_pred  \\\n",
       "count   1344.000000    1344.000000  1344.000000   1344.000000   1344.000000   \n",
       "mean   18327.865327   18367.426339   222.071429  18299.316406   1727.174556   \n",
       "std     7530.509492    7513.439805   212.120340   6997.949219   1487.007330   \n",
       "min     2430.000000    2481.000000     0.000000   1509.804565      1.898438   \n",
       "25%    11310.000000   11464.750000    64.000000  11004.139893    587.117432   \n",
       "50%    19710.000000   19817.500000   150.000000  20591.000977   1307.716797   \n",
       "75%    24212.500000   24224.500000   308.250000  24042.435547   2479.537109   \n",
       "max    29950.000000   30144.000000   999.000000  29956.519531  12332.507812   \n",
       "\n",
       "        pesoscaled  \n",
       "count  1344.000000  \n",
       "mean      0.016258  \n",
       "std       0.996236  \n",
       "min      -2.086923  \n",
       "25%      -0.912158  \n",
       "50%       0.199106  \n",
       "75%       0.794756  \n",
       "max       1.553789  "
      ]
     },
     "execution_count": 23,
     "metadata": {},
     "output_type": "execute_result"
    }
   ],
   "source": [
    "df_val.describe()"
   ]
  },
  {
   "cell_type": "code",
   "execution_count": 24,
   "metadata": {
    "ExecuteTime": {
     "end_time": "2020-04-06T12:37:49.850666Z",
     "start_time": "2020-04-06T12:37:49.845318Z"
    },
    "hidden": true
   },
   "outputs": [
    {
     "data": {
      "text/plain": [
       "array([536, 349, 215, 128, 116])"
      ]
     },
     "execution_count": 24,
     "metadata": {},
     "output_type": "execute_result"
    }
   ],
   "source": [
    "np.bincount(pd.np.digitize(df_val['dif_pred'], bins = [1000, 2000, 3000, 4000]))"
   ]
  },
  {
   "cell_type": "code",
   "execution_count": 25,
   "metadata": {
    "ExecuteTime": {
     "end_time": "2020-04-06T12:37:57.637802Z",
     "start_time": "2020-04-06T12:37:57.634337Z"
    },
    "hidden": true
   },
   "outputs": [
    {
     "data": {
      "text/plain": [
       "116"
      ]
     },
     "execution_count": 25,
     "metadata": {},
     "output_type": "execute_result"
    }
   ],
   "source": [
    "sum(df_val.dif_pred > 4000)"
   ]
  },
  {
   "cell_type": "code",
   "execution_count": 26,
   "metadata": {
    "ExecuteTime": {
     "end_time": "2020-04-06T12:38:00.176168Z",
     "start_time": "2020-04-06T12:38:00.104385Z"
    },
    "hidden": true
   },
   "outputs": [
    {
     "name": "stderr",
     "output_type": "stream",
     "text": [
      "/home/ivan/pybr/projeto/venv/lib/python3.5/site-packages/ipykernel_launcher.py:1: SettingWithCopyWarning: \n",
      "A value is trying to be set on a copy of a slice from a DataFrame.\n",
      "Try using .loc[row_indexer,col_indexer] = value instead\n",
      "\n",
      "See the caveats in the documentation: http://pandas.pydata.org/pandas-docs/stable/indexing.html#indexing-view-versus-copy\n",
      "  \"\"\"Entry point for launching an IPython kernel.\n"
     ]
    }
   ],
   "source": [
    "df_train['preds'] = scaler.inverse_transform(y_preds_train)"
   ]
  },
  {
   "cell_type": "code",
   "execution_count": 27,
   "metadata": {
    "ExecuteTime": {
     "end_time": "2020-04-06T12:38:00.682992Z",
     "start_time": "2020-04-06T12:38:00.604712Z"
    },
    "hidden": true
   },
   "outputs": [
    {
     "name": "stderr",
     "output_type": "stream",
     "text": [
      "/home/ivan/pybr/projeto/venv/lib/python3.5/site-packages/ipykernel_launcher.py:1: SettingWithCopyWarning: \n",
      "A value is trying to be set on a copy of a slice from a DataFrame.\n",
      "Try using .loc[row_indexer,col_indexer] = value instead\n",
      "\n",
      "See the caveats in the documentation: http://pandas.pydata.org/pandas-docs/stable/indexing.html#indexing-view-versus-copy\n",
      "  \"\"\"Entry point for launching an IPython kernel.\n"
     ]
    }
   ],
   "source": [
    "df_train['dif_pred'] = abs(df_train['pesobalanca'] - df_train['preds'])"
   ]
  },
  {
   "cell_type": "code",
   "execution_count": 28,
   "metadata": {
    "ExecuteTime": {
     "end_time": "2020-04-06T12:38:12.080628Z",
     "start_time": "2020-04-06T12:38:12.055915Z"
    },
    "hidden": true
   },
   "outputs": [
    {
     "data": {
      "text/html": [
       "<div>\n",
       "<style scoped>\n",
       "    .dataframe tbody tr th:only-of-type {\n",
       "        vertical-align: middle;\n",
       "    }\n",
       "\n",
       "    .dataframe tbody tr th {\n",
       "        vertical-align: top;\n",
       "    }\n",
       "\n",
       "    .dataframe thead th {\n",
       "        text-align: right;\n",
       "    }\n",
       "</style>\n",
       "<table border=\"1\" class=\"dataframe\">\n",
       "  <thead>\n",
       "    <tr style=\"text-align: right;\">\n",
       "      <th></th>\n",
       "      <th>pesobalanca</th>\n",
       "      <th>pesodeclarado</th>\n",
       "      <th>dif</th>\n",
       "      <th>preds</th>\n",
       "      <th>dif_pred</th>\n",
       "      <th>pesoscaled</th>\n",
       "    </tr>\n",
       "  </thead>\n",
       "  <tbody>\n",
       "    <tr>\n",
       "      <th>count</th>\n",
       "      <td>5308.000000</td>\n",
       "      <td>5308.000000</td>\n",
       "      <td>5308.000000</td>\n",
       "      <td>5308.000000</td>\n",
       "      <td>5308.000000</td>\n",
       "      <td>5308.000000</td>\n",
       "    </tr>\n",
       "    <tr>\n",
       "      <th>mean</th>\n",
       "      <td>18173.850791</td>\n",
       "      <td>18209.774680</td>\n",
       "      <td>212.159759</td>\n",
       "      <td>18161.566406</td>\n",
       "      <td>1729.720702</td>\n",
       "      <td>-0.004117</td>\n",
       "    </tr>\n",
       "    <tr>\n",
       "      <th>std</th>\n",
       "      <td>7567.251231</td>\n",
       "      <td>7552.085294</td>\n",
       "      <td>203.803761</td>\n",
       "      <td>7018.432129</td>\n",
       "      <td>1543.738114</td>\n",
       "      <td>1.001097</td>\n",
       "    </tr>\n",
       "    <tr>\n",
       "      <th>min</th>\n",
       "      <td>2370.000000</td>\n",
       "      <td>2211.000000</td>\n",
       "      <td>0.000000</td>\n",
       "      <td>1602.654175</td>\n",
       "      <td>0.156250</td>\n",
       "      <td>-2.094860</td>\n",
       "    </tr>\n",
       "    <tr>\n",
       "      <th>25%</th>\n",
       "      <td>11205.000000</td>\n",
       "      <td>11250.500000</td>\n",
       "      <td>62.000000</td>\n",
       "      <td>10928.436523</td>\n",
       "      <td>549.743652</td>\n",
       "      <td>-0.926049</td>\n",
       "    </tr>\n",
       "    <tr>\n",
       "      <th>50%</th>\n",
       "      <td>19690.000000</td>\n",
       "      <td>19777.000000</td>\n",
       "      <td>140.000000</td>\n",
       "      <td>20324.028320</td>\n",
       "      <td>1267.336914</td>\n",
       "      <td>0.196460</td>\n",
       "    </tr>\n",
       "    <tr>\n",
       "      <th>75%</th>\n",
       "      <td>24142.500000</td>\n",
       "      <td>24147.000000</td>\n",
       "      <td>305.000000</td>\n",
       "      <td>23905.467773</td>\n",
       "      <td>2510.841064</td>\n",
       "      <td>0.785496</td>\n",
       "    </tr>\n",
       "    <tr>\n",
       "      <th>max</th>\n",
       "      <td>29980.000000</td>\n",
       "      <td>30291.000000</td>\n",
       "      <td>999.000000</td>\n",
       "      <td>30765.099609</td>\n",
       "      <td>12978.962891</td>\n",
       "      <td>1.557758</td>\n",
       "    </tr>\n",
       "  </tbody>\n",
       "</table>\n",
       "</div>"
      ],
      "text/plain": [
       "        pesobalanca  pesodeclarado          dif         preds      dif_pred  \\\n",
       "count   5308.000000    5308.000000  5308.000000   5308.000000   5308.000000   \n",
       "mean   18173.850791   18209.774680   212.159759  18161.566406   1729.720702   \n",
       "std     7567.251231    7552.085294   203.803761   7018.432129   1543.738114   \n",
       "min     2370.000000    2211.000000     0.000000   1602.654175      0.156250   \n",
       "25%    11205.000000   11250.500000    62.000000  10928.436523    549.743652   \n",
       "50%    19690.000000   19777.000000   140.000000  20324.028320   1267.336914   \n",
       "75%    24142.500000   24147.000000   305.000000  23905.467773   2510.841064   \n",
       "max    29980.000000   30291.000000   999.000000  30765.099609  12978.962891   \n",
       "\n",
       "        pesoscaled  \n",
       "count  5308.000000  \n",
       "mean     -0.004117  \n",
       "std       1.001097  \n",
       "min      -2.094860  \n",
       "25%      -0.926049  \n",
       "50%       0.196460  \n",
       "75%       0.785496  \n",
       "max       1.557758  "
      ]
     },
     "execution_count": 28,
     "metadata": {},
     "output_type": "execute_result"
    }
   ],
   "source": [
    "df_train.describe()"
   ]
  },
  {
   "cell_type": "code",
   "execution_count": 29,
   "metadata": {
    "ExecuteTime": {
     "end_time": "2020-04-06T12:38:14.926341Z",
     "start_time": "2020-04-06T12:38:14.922111Z"
    },
    "hidden": true
   },
   "outputs": [
    {
     "data": {
      "text/plain": [
       "array([2223, 1298,  793,  486,  508])"
      ]
     },
     "execution_count": 29,
     "metadata": {},
     "output_type": "execute_result"
    }
   ],
   "source": [
    "np.bincount(pd.np.digitize(df_train['dif_pred'], bins = [1000, 2000, 3000, 4000]))"
   ]
  },
  {
   "cell_type": "code",
   "execution_count": 30,
   "metadata": {
    "ExecuteTime": {
     "end_time": "2020-04-06T12:38:17.082207Z",
     "start_time": "2020-04-06T12:38:16.861287Z"
    },
    "hidden": true
   },
   "outputs": [
    {
     "data": {
      "text/plain": [
       "[<matplotlib.lines.Line2D at 0x7f249e415be0>]"
      ]
     },
     "execution_count": 30,
     "metadata": {},
     "output_type": "execute_result"
    },
    {
     "data": {
      "image/png": "[encoded data removed]",
      "text/plain": [
       "<Figure size 720x432 with 1 Axes>"
      ]
     },
     "metadata": {
      "needs_background": "light"
     },
     "output_type": "display_data"
    }
   ],
   "source": [
    "plt.figure(figsize=(10,6))\n",
    "df_sorted = df_train.sort_values(by='pesobalanca')\n",
    "x = range(len(df_sorted))\n",
    "plt.scatter(x=x, y=list(df_sorted.preds))\n",
    "plt.plot(list(df_sorted.pesobalanca), color='r')\n"
   ]
  },
  {
   "cell_type": "code",
   "execution_count": 31,
   "metadata": {
    "ExecuteTime": {
     "end_time": "2020-04-06T12:38:21.354666Z",
     "start_time": "2020-04-06T12:38:21.046922Z"
    },
    "hidden": true
   },
   "outputs": [
    {
     "data": {
      "text/plain": [
       "<matplotlib.collections.PathCollection at 0x7f249e38f160>"
      ]
     },
     "execution_count": 31,
     "metadata": {},
     "output_type": "execute_result"
    },
    {
     "data": {
      "image/png": "[encoded data removed]",
      "text/plain": [
       "<Figure size 720x432 with 1 Axes>"
      ]
     },
     "metadata": {
      "needs_background": "light"
     },
     "output_type": "display_data"
    }
   ],
   "source": [
    "plt.figure(figsize=(10,6))\n",
    "plt.scatter(x=list(df_sorted.pesobalanca), y=list(df_sorted.preds))\n",
    "plt.scatter(x=list(df_sorted.pesobalanca), y=list(df_sorted.pesobalanca), color='r')"
   ]
  },
  {
   "cell_type": "code",
   "execution_count": 32,
   "metadata": {
    "ExecuteTime": {
     "end_time": "2020-04-06T12:38:23.451709Z",
     "start_time": "2020-04-06T12:38:23.261422Z"
    },
    "hidden": true
   },
   "outputs": [
    {
     "data": {
      "text/plain": [
       "[<matplotlib.lines.Line2D at 0x7f249e3be240>]"
      ]
     },
     "execution_count": 32,
     "metadata": {},
     "output_type": "execute_result"
    },
    {
     "data": {
      "image/png": "[encoded data removed]",
      "text/plain": [
       "<Figure size 720x432 with 1 Axes>"
      ]
     },
     "metadata": {
      "needs_background": "light"
     },
     "output_type": "display_data"
    }
   ],
   "source": [
    "plt.figure(figsize=(10,6))\n",
    "df_sorted = df_val.sort_values(by='pesobalanca')\n",
    "x = range(len(df_sorted))\n",
    "plt.scatter(x=x, y=list(df_sorted.preds))\n",
    "plt.plot(list(df_sorted.pesobalanca), color='r')"
   ]
  },
  {
   "cell_type": "code",
   "execution_count": 33,
   "metadata": {
    "ExecuteTime": {
     "end_time": "2020-04-06T12:38:24.827358Z",
     "start_time": "2020-04-06T12:38:24.579817Z"
    },
    "hidden": true
   },
   "outputs": [
    {
     "data": {
      "text/plain": [
       "<matplotlib.collections.PathCollection at 0x7f249e353b70>"
      ]
     },
     "execution_count": 33,
     "metadata": {},
     "output_type": "execute_result"
    },
    {
     "data": {
      "image/png": "[encoded data removed]",
      "text/plain": [
       "<Figure size 720x432 with 1 Axes>"
      ]
     },
     "metadata": {
      "needs_background": "light"
     },
     "output_type": "display_data"
    }
   ],
   "source": [
    "plt.figure(figsize=(10,6))\n",
    "plt.scatter(x=list(df_sorted.pesobalanca), y=list(df_sorted.preds))\n",
    "plt.scatter(x=list(df_sorted.pesobalanca), y=list(df_sorted.pesobalanca), color='r')"
   ]
  },
  {
   "cell_type": "markdown",
   "metadata": {},
   "source": [
    "# Exportar para tensorflow serving"
   ]
  },
  {
   "cell_type": "code",
   "execution_count": 36,
   "metadata": {
    "ExecuteTime": {
     "end_time": "2020-04-06T12:55:11.297437Z",
     "start_time": "2020-04-06T12:55:11.293564Z"
    }
   },
   "outputs": [
    {
     "name": "stdout",
     "output_type": "stream",
     "text": [
      "[18204.96858088] [7558.96185212]\n"
     ]
    }
   ],
   "source": [
    "# Os valores abaixo precisam ser guardados e a predição colocada na escala correta com:\n",
    "# pred * scale + mean\n",
    "print(scaler.mean_, scaler.scale_)"
   ]
  },
  {
   "cell_type": "code",
   "execution_count": 34,
   "metadata": {
    "ExecuteTime": {
     "end_time": "2020-04-06T12:52:55.857843Z",
     "start_time": "2020-04-06T12:52:55.722280Z"
    }
   },
   "outputs": [],
   "source": [
    "from tensorflow.keras import layers\n",
    "from tensorflow.keras import models\n",
    "\n",
    "regression_model = models.Sequential([\n",
    "  layers.Conv2D(16, (7, 7), activation='relu',\n",
    "                padding='same',\n",
    "                strides=(2, 2),\n",
    "                input_shape=(144, 288, 3)),\n",
    "  layers.MaxPooling2D(pool_size=(2, 4)),\n",
    "  layers.Dropout(0.25),\n",
    "  layers.Conv2D(16, (5, 5), \n",
    "                strides=(2, 2),\n",
    "                activation='relu', padding='same'),\n",
    "  layers.Dropout(0.25),\n",
    "  layers.Conv2D(16, (5, 5), \n",
    "                strides=(2, 2),\n",
    "                activation='relu'),\n",
    "  layers.Dropout(0.25),\n",
    "  layers.AvgPool2D(),\n",
    "  layers.Flatten(),\n",
    "  layers.Dense(512, activation='relu'),\n",
    "  layers.Dense(256, activation='relu'),\n",
    "  layers.Dropout(0.4),\n",
    "  layers.Dense(1)\n",
    " \n",
    "])\n",
    "regression_model.load_weights('gerabasespesagens_cropped2_basefiltrada_scaled_warmup_tunned.hdf5')"
   ]
  },
  {
   "cell_type": "code",
   "execution_count": 47,
   "metadata": {
    "ExecuteTime": {
     "end_time": "2020-04-06T13:08:46.144519Z",
     "start_time": "2020-04-06T13:08:45.127344Z"
    }
   },
   "outputs": [
    {
     "name": "stdout",
     "output_type": "stream",
     "text": [
      "export_path = ./tfserving/peso/1\n",
      "\n",
      "\n",
      "Saved model:\n",
      "total 192\n",
      "drwxr-xr-x 2 ivan ivan   4096 Abr  6 10:08 assets\n",
      "-rw-rw-r-- 1 ivan ivan 185367 Abr  6 10:08 saved_model.pb\n",
      "drwxr-xr-x 2 ivan ivan   4096 Abr  6 10:08 variables\n"
     ]
    }
   ],
   "source": [
    "import tensorflow as tf\n",
    "\n",
    "\n",
    "MODEL_DIR = './tfserving'\n",
    "version = 1\n",
    "export_path = os.path.join(MODEL_DIR, 'peso', str(version))\n",
    "print('export_path = {}\\n'.format(export_path))\n",
    "\n",
    "tf.keras.models.save_model(\n",
    "    regression_model,\n",
    "    export_path,\n",
    "    overwrite=True,\n",
    "    include_optimizer=False,\n",
    "    save_format=None,\n",
    "    signatures=None,\n",
    "    options=None\n",
    ")\n",
    "\n",
    "print('\\nSaved model:')\n",
    "!ls -l {export_path}"
   ]
  },
  {
   "cell_type": "code",
   "execution_count": 20,
   "metadata": {
    "ExecuteTime": {
     "end_time": "2020-04-06T13:35:09.641594Z",
     "start_time": "2020-04-06T13:35:09.122517Z"
    }
   },
   "outputs": [],
   "source": [
    "# Executar na linha de comando:\n",
    "# tensorflow_model_server   --rest_api_port=8501  --model_name='peso'  --model_base_path=\"tfserving/peso/1\"\n",
    "import numpy as np\n",
    "import os\n",
    "import requests\n",
    "from PIL import Image\n",
    "\n",
    "IMAGE_PATH = '../../bases/pesagensbalanca/pesagensbalanca_cropped/'\n",
    "\n",
    "def prepare_images(filenames):\n",
    "    images = list()\n",
    "    for filename in filenames:\n",
    "        image = Image.open(os.path.join(IMAGE_PATH, filename))\n",
    "        image = image.resize((288, 144), Image.LANCZOS)\n",
    "        image_array = np.array(image) / 255\n",
    "        images.append(image_array.tolist())\n",
    "    return images\n",
    "\n",
    "        \n",
    "def rescale(pred):\n",
    "    peso = pred * 7558.96 + 18204.96\n",
    "    return peso\n",
    "\n",
    "images = prepare_images(os.listdir(IMAGE_PATH)[:16])"
   ]
  },
  {
   "cell_type": "code",
   "execution_count": 29,
   "metadata": {
    "ExecuteTime": {
     "end_time": "2020-04-06T14:18:06.153785Z",
     "start_time": "2020-04-06T14:18:04.786705Z"
    }
   },
   "outputs": [
    {
     "name": "stdout",
     "output_type": "stream",
     "text": [
      "{\n",
      "    \"predictions\": [[-0.0945815518], [1.31291544], [-0.892532349], [0.566698611], [0.791771054], [-0.356804579], [-1.11517954], [0.648615181], [-1.4110328], [-0.415910274], [-1.18397748], [0.289904267], [1.09787583], [0.625535965], [0.0675639287], [0.5964185]\n",
      "    ]\n",
      "}\n"
     ]
    }
   ],
   "source": [
    "\n",
    "json_batch = {\"signature_name\": \"serving_default\", \"instances\": images}\n",
    "r = requests.post('http://localhost:8501/v1/models/peso:predict', json=json_batch)\n",
    "print(r.text)"
   ]
  },
  {
   "cell_type": "code",
   "execution_count": 30,
   "metadata": {
    "ExecuteTime": {
     "end_time": "2020-04-06T14:18:08.208791Z",
     "start_time": "2020-04-06T14:18:08.206081Z"
    }
   },
   "outputs": [
    {
     "name": "stdout",
     "output_type": "stream",
     "text": [
      "[17490.021833205872, 28129.235294342398, 11458.34367520296, 22488.612132604558, 24189.92572634384, 15507.888459522159, 9775.362464321599, 23107.81620857176, 7539.0195061119975, 15061.110875244958, 9255.321587779199, 20396.334758082317, 26503.7594839368, 22933.3613379964, 18715.67303448615, 22713.26358476]\n"
     ]
    }
   ],
   "source": [
    "predictions = r.json()['predictions']\n",
    "print([rescale(pred[0]) for pred in predictions])"
   ]
  },
  {
   "cell_type": "code",
   "execution_count": null,
   "metadata": {
    "ExecuteTime": {
     "end_time": "2020-04-06T14:00:16.657880Z",
     "start_time": "2020-04-06T14:00:16.654519Z"
    }
   },
   "outputs": [],
   "source": [
    "# To serve multiple models, create a file like:\n",
    "#tfserving/model_config.config\n",
    "\n",
    "model_config_list: {\n",
    "  config: {\n",
    "    name: \"peso\" ,\n",
    "    base_path: \"/home/ivan/pybr/projeto/extracoes/notebooks/tfserving/peso\" ,\n",
    "    model_platform: \" tensorflow\" \n",
    "  },\n",
    "  config: {\n",
    "    name: \"vazio\",\n",
    "    base_path: \"/home/ivan/pybr/projeto/extracoes/notebooks/tfserving/vazio\",\n",
    "    model_platform: \"tensorflow\" \n",
    "  }\n",
    "}"
   ]
  },
  {
   "cell_type": "code",
   "execution_count": null,
   "metadata": {},
   "outputs": [],
   "source": []
  }
 ],
 "metadata": {
  "kernelspec": {
   "display_name": "venv_gym2",
   "language": "python",
   "name": "venv_gym2"
  },
  "language_info": {
   "codemirror_mode": {
    "name": "ipython",
    "version": 3
   },
   "file_extension": ".py",
   "mimetype": "text/x-python",
   "name": "python",
   "nbconvert_exporter": "python",
   "pygments_lexer": "ipython3",
   "version": "3.5.2"
  }
 },
 "nbformat": 4,
 "nbformat_minor": 2
}
