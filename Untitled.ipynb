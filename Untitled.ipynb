{
 "cells": [
  {
   "cell_type": "code",
   "execution_count": 1,
   "metadata": {
    "ExecuteTime": {
     "end_time": "2019-10-10T20:18:53.682741Z",
     "start_time": "2019-10-10T20:17:42.314512Z"
    }
   },
   "outputs": [],
   "source": [
    "import tensorflow as tf\n",
    "import numpy as np"
   ]
  },
  {
   "cell_type": "code",
   "execution_count": 2,
   "metadata": {
    "ExecuteTime": {
     "end_time": "2019-10-10T20:18:53.698497Z",
     "start_time": "2019-10-10T20:18:53.685792Z"
    }
   },
   "outputs": [
    {
     "data": {
      "text/plain": [
       "'2.0.0-rc0'"
      ]
     },
     "execution_count": 2,
     "metadata": {},
     "output_type": "execute_result"
    }
   ],
   "source": [
    "tf.__version__"
   ]
  },
  {
   "cell_type": "code",
   "execution_count": 3,
   "metadata": {
    "ExecuteTime": {
     "end_time": "2019-10-10T20:19:08.362754Z",
     "start_time": "2019-10-10T20:19:08.347138Z"
    }
   },
   "outputs": [],
   "source": [
    "from tensorflow.keras import layers\n",
    "from tensorflow.keras import Sequential\n",
    "from tensorflow.keras.optimizers import SGD, Adam"
   ]
  },
  {
   "cell_type": "code",
   "execution_count": 4,
   "metadata": {
    "ExecuteTime": {
     "end_time": "2019-10-10T20:20:24.318508Z",
     "start_time": "2019-10-10T20:19:09.121490Z"
    }
   },
   "outputs": [
    {
     "name": "stdout",
     "output_type": "stream",
     "text": [
      "Model: \"sequential\"\n",
      "_________________________________________________________________\n",
      "Layer (type)                 Output Shape              Param #   \n",
      "=================================================================\n",
      "dense (Dense)                (None, 200)               400       \n",
      "_________________________________________________________________\n",
      "dense_1 (Dense)              (None, 100)               20100     \n",
      "_________________________________________________________________\n",
      "dense_2 (Dense)              (None, 1)                 101       \n",
      "=================================================================\n",
      "Total params: 20,601\n",
      "Trainable params: 20,601\n",
      "Non-trainable params: 0\n",
      "_________________________________________________________________\n"
     ]
    }
   ],
   "source": [
    "model = Sequential()\n",
    "model.add(layers.Dense(200, activation='relu', input_shape=(1,)))\n",
    "model.add(layers.Dense(100, activation='relu'))\n",
    "model.add(layers.Dense(1))\n",
    "model.summary()"
   ]
  },
  {
   "cell_type": "code",
   "execution_count": 5,
   "metadata": {
    "ExecuteTime": {
     "end_time": "2019-10-10T20:20:24.328357Z",
     "start_time": "2019-10-10T20:20:24.323962Z"
    }
   },
   "outputs": [],
   "source": [
    "x = np.arange(1, 200, dtype=float)"
   ]
  },
  {
   "cell_type": "code",
   "execution_count": 6,
   "metadata": {
    "ExecuteTime": {
     "end_time": "2019-10-10T20:20:24.371303Z",
     "start_time": "2019-10-10T20:20:24.331049Z"
    }
   },
   "outputs": [],
   "source": [
    "y = x ** (1/2)"
   ]
  },
  {
   "cell_type": "code",
   "execution_count": 7,
   "metadata": {
    "ExecuteTime": {
     "end_time": "2019-10-10T20:20:24.469272Z",
     "start_time": "2019-10-10T20:20:24.376456Z"
    }
   },
   "outputs": [],
   "source": [
    "model.compile(optimizer=Adam(lr=0.0001),\n",
    "              loss='mean_absolute_error', metrics=['mae'])"
   ]
  },
  {
   "cell_type": "code",
   "execution_count": 16,
   "metadata": {
    "ExecuteTime": {
     "end_time": "2019-10-10T20:36:43.057656Z",
     "start_time": "2019-10-10T20:36:35.577158Z"
    }
   },
   "outputs": [
    {
     "data": {
      "text/plain": [
       "<tensorflow.python.keras.callbacks.History at 0x7fc3e8169208>"
      ]
     },
     "execution_count": 16,
     "metadata": {},
     "output_type": "execute_result"
    }
   ],
   "source": [
    "model.fit(x, y, epochs=1000, batch_size=100, verbose=0)"
   ]
  },
  {
   "cell_type": "code",
   "execution_count": 17,
   "metadata": {
    "ExecuteTime": {
     "end_time": "2019-10-10T20:36:43.136645Z",
     "start_time": "2019-10-10T20:36:43.061097Z"
    }
   },
   "outputs": [
    {
     "name": "stdout",
     "output_type": "stream",
     "text": [
      "\r",
      "199/1 [==================================================================================================================================================================================================================================================================================================================================================================================================================================================================================================================================================================================================================================================================================================================================================================================================================================================================================================================================================================================================================================================================================================================================================================================================================================================================================================================================================================================================================================================================================================================================================================================================================================================================================================================================================================================================================================================================================================================================================================================================================================================================================================================================================================================================================================================================================================================================================================================================================================================================================================================================================================================================================================================================================================================================================================================================================================================================================================================================================================================================================================================================================================================================================================================================================================================================================================================================================================================================================================================================================================================================================================================================================================================================================================================================================================================================================================================================================================================================================================================================================================================================================================================================================================================================================================================================================================================================================================================================================================================================================================================================================================================================================================================================================================================================================================================================================================================================================================================================================================================================================================================================================================================================================================================================================================================================================================================================================================================================================================================================================================================================================================================================================================================================================================================================================================================================================================================================================================================================================================================================================================================================================================================================================================================================================] - 0s 84us/sample - loss: 0.3238 - mae: 0.1997\n"
     ]
    },
    {
     "data": {
      "text/plain": [
       "[0.199728671180543, 0.19972867]"
      ]
     },
     "execution_count": 17,
     "metadata": {},
     "output_type": "execute_result"
    }
   ],
   "source": [
    "model.evaluate(x, y)"
   ]
  },
  {
   "cell_type": "code",
   "execution_count": 13,
   "metadata": {
    "ExecuteTime": {
     "end_time": "2019-10-10T20:21:11.385218Z",
     "start_time": "2019-10-10T20:21:11.315621Z"
    }
   },
   "outputs": [
    {
     "data": {
      "text/plain": [
       "array([[2.997398]], dtype=float32)"
      ]
     },
     "execution_count": 13,
     "metadata": {},
     "output_type": "execute_result"
    }
   ],
   "source": [
    "model.predict(np.array([9]))"
   ]
  },
  {
   "cell_type": "code",
   "execution_count": 388,
   "metadata": {
    "ExecuteTime": {
     "end_time": "2019-10-10T18:26:30.943114Z",
     "start_time": "2019-10-10T18:26:30.915513Z"
    }
   },
   "outputs": [
    {
     "data": {
      "text/plain": [
       "[(1.0, 1.0),\n",
       " (2.0, 1.4142135623730951),\n",
       " (3.0, 1.7320508075688772),\n",
       " (4.0, 2.0),\n",
       " (5.0, 2.23606797749979),\n",
       " (6.0, 2.449489742783178),\n",
       " (7.0, 2.6457513110645907),\n",
       " (8.0, 2.8284271247461903),\n",
       " (9.0, 3.0),\n",
       " (10.0, 3.1622776601683795),\n",
       " (11.0, 3.3166247903554),\n",
       " (12.0, 3.4641016151377544),\n",
       " (13.0, 3.605551275463989),\n",
       " (14.0, 3.7416573867739413),\n",
       " (15.0, 3.872983346207417),\n",
       " (16.0, 4.0),\n",
       " (17.0, 4.123105625617661),\n",
       " (18.0, 4.242640687119285),\n",
       " (19.0, 4.358898943540674),\n",
       " (20.0, 4.47213595499958),\n",
       " (21.0, 4.58257569495584),\n",
       " (22.0, 4.69041575982343),\n",
       " (23.0, 4.795831523312719),\n",
       " (24.0, 4.898979485566356),\n",
       " (25.0, 5.0),\n",
       " (26.0, 5.0990195135927845),\n",
       " (27.0, 5.196152422706632),\n",
       " (28.0, 5.291502622129181),\n",
       " (29.0, 5.385164807134504),\n",
       " (30.0, 5.477225575051661),\n",
       " (31.0, 5.5677643628300215),\n",
       " (32.0, 5.656854249492381),\n",
       " (33.0, 5.744562646538029),\n",
       " (34.0, 5.830951894845301),\n",
       " (35.0, 5.916079783099616),\n",
       " (36.0, 6.0),\n",
       " (37.0, 6.082762530298219),\n",
       " (38.0, 6.164414002968976),\n",
       " (39.0, 6.244997998398398),\n",
       " (40.0, 6.324555320336759),\n",
       " (41.0, 6.4031242374328485),\n",
       " (42.0, 6.48074069840786),\n",
       " (43.0, 6.557438524302),\n",
       " (44.0, 6.6332495807108),\n",
       " (45.0, 6.708203932499369),\n",
       " (46.0, 6.782329983125268),\n",
       " (47.0, 6.855654600401044),\n",
       " (48.0, 6.928203230275509),\n",
       " (49.0, 7.0),\n",
       " (50.0, 7.0710678118654755),\n",
       " (51.0, 7.14142842854285),\n",
       " (52.0, 7.211102550927978),\n",
       " (53.0, 7.280109889280518),\n",
       " (54.0, 7.3484692283495345),\n",
       " (55.0, 7.416198487095663),\n",
       " (56.0, 7.483314773547883),\n",
       " (57.0, 7.54983443527075),\n",
       " (58.0, 7.615773105863909),\n",
       " (59.0, 7.681145747868608),\n",
       " (60.0, 7.745966692414834),\n",
       " (61.0, 7.810249675906654),\n",
       " (62.0, 7.874007874011811),\n",
       " (63.0, 7.937253933193772),\n",
       " (64.0, 8.0),\n",
       " (65.0, 8.06225774829855),\n",
       " (66.0, 8.12403840463596),\n",
       " (67.0, 8.18535277187245),\n",
       " (68.0, 8.246211251235321),\n",
       " (69.0, 8.306623862918075),\n",
       " (70.0, 8.366600265340756),\n",
       " (71.0, 8.426149773176359),\n",
       " (72.0, 8.48528137423857),\n",
       " (73.0, 8.54400374531753),\n",
       " (74.0, 8.602325267042627),\n",
       " (75.0, 8.660254037844387),\n",
       " (76.0, 8.717797887081348),\n",
       " (77.0, 8.774964387392123),\n",
       " (78.0, 8.831760866327848),\n",
       " (79.0, 8.888194417315589),\n",
       " (80.0, 8.94427190999916),\n",
       " (81.0, 9.0),\n",
       " (82.0, 9.055385138137417),\n",
       " (83.0, 9.1104335791443),\n",
       " (84.0, 9.16515138991168),\n",
       " (85.0, 9.219544457292887),\n",
       " (86.0, 9.273618495495704),\n",
       " (87.0, 9.327379053088816),\n",
       " (88.0, 9.38083151964686),\n",
       " (89.0, 9.433981132056603),\n",
       " (90.0, 9.486832980505138),\n",
       " (91.0, 9.539392014169456),\n",
       " (92.0, 9.591663046625438),\n",
       " (93.0, 9.643650760992955),\n",
       " (94.0, 9.695359714832659),\n",
       " (95.0, 9.746794344808963),\n",
       " (96.0, 9.797958971132712),\n",
       " (97.0, 9.848857801796104),\n",
       " (98.0, 9.899494936611665),\n",
       " (99.0, 9.9498743710662),\n",
       " (100.0, 10.0),\n",
       " (101.0, 10.04987562112089),\n",
       " (102.0, 10.099504938362077),\n",
       " (103.0, 10.14889156509222),\n",
       " (104.0, 10.198039027185569),\n",
       " (105.0, 10.246950765959598),\n",
       " (106.0, 10.295630140987),\n",
       " (107.0, 10.344080432788601),\n",
       " (108.0, 10.392304845413264),\n",
       " (109.0, 10.44030650891055),\n",
       " (110.0, 10.488088481701515),\n",
       " (111.0, 10.535653752852738),\n",
       " (112.0, 10.583005244258363),\n",
       " (113.0, 10.63014581273465),\n",
       " (114.0, 10.677078252031311),\n",
       " (115.0, 10.723805294763608),\n",
       " (116.0, 10.770329614269007),\n",
       " (117.0, 10.816653826391969),\n",
       " (118.0, 10.862780491200215),\n",
       " (119.0, 10.908712114635714),\n",
       " (120.0, 10.954451150103322),\n",
       " (121.0, 11.0),\n",
       " (122.0, 11.045361017187261),\n",
       " (123.0, 11.090536506409418),\n",
       " (124.0, 11.135528725660043),\n",
       " (125.0, 11.180339887498949),\n",
       " (126.0, 11.224972160321824),\n",
       " (127.0, 11.269427669584644),\n",
       " (128.0, 11.313708498984761),\n",
       " (129.0, 11.357816691600547),\n",
       " (130.0, 11.40175425099138),\n",
       " (131.0, 11.445523142259598),\n",
       " (132.0, 11.489125293076057),\n",
       " (133.0, 11.532562594670797),\n",
       " (134.0, 11.575836902790225),\n",
       " (135.0, 11.61895003862225),\n",
       " (136.0, 11.661903789690601),\n",
       " (137.0, 11.704699910719626),\n",
       " (138.0, 11.74734012447073),\n",
       " (139.0, 11.789826122551595),\n",
       " (140.0, 11.832159566199232),\n",
       " (141.0, 11.874342087037917),\n",
       " (142.0, 11.916375287812984),\n",
       " (143.0, 11.958260743101398),\n",
       " (144.0, 12.0),\n",
       " (145.0, 12.041594578792296),\n",
       " (146.0, 12.083045973594572),\n",
       " (147.0, 12.12435565298214),\n",
       " (148.0, 12.165525060596439),\n",
       " (149.0, 12.206555615733702),\n",
       " (150.0, 12.24744871391589),\n",
       " (151.0, 12.288205727444508),\n",
       " (152.0, 12.328828005937952),\n",
       " (153.0, 12.36931687685298),\n",
       " (154.0, 12.409673645990857),\n",
       " (155.0, 12.449899597988733),\n",
       " (156.0, 12.489995996796797),\n",
       " (157.0, 12.529964086141668),\n",
       " (158.0, 12.569805089976535),\n",
       " (159.0, 12.609520212918492),\n",
       " (160.0, 12.649110640673518),\n",
       " (161.0, 12.68857754044952),\n",
       " (162.0, 12.727922061357855),\n",
       " (163.0, 12.767145334803704),\n",
       " (164.0, 12.806248474865697),\n",
       " (165.0, 12.84523257866513),\n",
       " (166.0, 12.884098726725126),\n",
       " (167.0, 12.922847983320086),\n",
       " (168.0, 12.96148139681572),\n",
       " (169.0, 13.0),\n",
       " (170.0, 13.038404810405298),\n",
       " (171.0, 13.076696830622021),\n",
       " (172.0, 13.114877048604),\n",
       " (173.0, 13.152946437965905),\n",
       " (174.0, 13.19090595827292),\n",
       " (175.0, 13.228756555322953),\n",
       " (176.0, 13.2664991614216),\n",
       " (177.0, 13.30413469565007),\n",
       " (178.0, 13.341664064126334),\n",
       " (179.0, 13.379088160259652),\n",
       " (180.0, 13.416407864998739),\n",
       " (181.0, 13.45362404707371),\n",
       " (182.0, 13.490737563232042),\n",
       " (183.0, 13.527749258468683),\n",
       " (184.0, 13.564659966250536),\n",
       " (185.0, 13.601470508735444),\n",
       " (186.0, 13.638181696985855),\n",
       " (187.0, 13.674794331177344),\n",
       " (188.0, 13.711309200802088),\n",
       " (189.0, 13.74772708486752),\n",
       " (190.0, 13.784048752090222),\n",
       " (191.0, 13.820274961085254),\n",
       " (192.0, 13.856406460551018),\n",
       " (193.0, 13.892443989449804),\n",
       " (194.0, 13.92838827718412),\n",
       " (195.0, 13.96424004376894),\n",
       " (196.0, 14.0),\n",
       " (197.0, 14.035668847618199),\n",
       " (198.0, 14.071247279470288),\n",
       " (199.0, 14.106735979665885)]"
      ]
     },
     "execution_count": 388,
     "metadata": {},
     "output_type": "execute_result"
    }
   ],
   "source": [
    "list(zip(x, y))"
   ]
  },
  {
   "cell_type": "code",
   "execution_count": 14,
   "metadata": {
    "ExecuteTime": {
     "end_time": "2019-10-10T20:21:23.289238Z",
     "start_time": "2019-10-10T20:21:23.224364Z"
    }
   },
   "outputs": [
    {
     "data": {
      "text/plain": [
       "array([[3.9936852]], dtype=float32)"
      ]
     },
     "execution_count": 14,
     "metadata": {},
     "output_type": "execute_result"
    }
   ],
   "source": [
    "model.predict(np.array([16]))"
   ]
  },
  {
   "cell_type": "code",
   "execution_count": 15,
   "metadata": {
    "ExecuteTime": {
     "end_time": "2019-10-10T20:21:24.349282Z",
     "start_time": "2019-10-10T20:21:24.291555Z"
    }
   },
   "outputs": [
    {
     "data": {
      "text/plain": [
       "array([[1.9742789]], dtype=float32)"
      ]
     },
     "execution_count": 15,
     "metadata": {},
     "output_type": "execute_result"
    }
   ],
   "source": [
    "model.predict(np.array([4]))"
   ]
  },
  {
   "cell_type": "code",
   "execution_count": null,
   "metadata": {
    "ExecuteTime": {
     "end_time": "2020-03-30T14:55:05.964065Z",
     "start_time": "2020-03-30T14:55:04.495912Z"
    }
   },
   "outputs": [],
   "source": [
    "import requests\n",
    "\n",
    "text = \"2. THE MEASURE OF ALL THINGS\\n\" \\\n",
    "\"An Introduction to Scaling\\n\" \n",
    "\n",
    "headers = {'Content-Type': 'application/json'}\n",
    "\n",
    "\n",
    "payload = {\"profileId\":None,\n",
    "           \"owner\":\"Systran\",\n",
    "           \"domain\":None,\n",
    "           \"size\":\"M\",\n",
    "           'input': text, \"source\":\"en\", \"target\":\"pt\"}"
   ]
  },
  {
   "cell_type": "code",
   "execution_count": 26,
   "metadata": {
    "ExecuteTime": {
     "end_time": "2020-03-30T15:04:19.213000Z",
     "start_time": "2020-03-30T15:04:17.944567Z"
    }
   },
   "outputs": [
    {
     "name": "stdout",
     "output_type": "stream",
     "text": [
      "404\n",
      "-1\n",
      "3619\n"
     ]
    }
   ],
   "source": [
    "response = requests.get(\"https://translate.systran.net/translate/html\",\n",
    "                        json=payload,\n",
    "                        headers=headers)\n",
    "print(response.status_code)\n",
    "print(response.text.lower().find('medida'))\n",
    "print(response.text.lower().find('404'))"
   ]
  },
  {
   "cell_type": "code",
   "execution_count": 27,
   "metadata": {
    "ExecuteTime": {
     "end_time": "2020-03-30T15:04:30.000365Z",
     "start_time": "2020-03-30T15:04:28.269239Z"
    }
   },
   "outputs": [
    {
     "name": "stdout",
     "output_type": "stream",
     "text": [
      "403\n",
      "-1\n",
      "-1\n"
     ]
    }
   ],
   "source": [
    "response = requests.post(\"https://translate.systran.net/translate/html\",\n",
    "                        json=payload,\n",
    "                        headers=headers)\n",
    "print(response.status_code)\n",
    "print(response.text.lower().find('medida'))\n",
    "print(response.text.lower().find('404'))"
   ]
  },
  {
   "cell_type": "code",
   "execution_count": 11,
   "metadata": {
    "ExecuteTime": {
     "end_time": "2020-03-30T14:53:52.002897Z",
     "start_time": "2020-03-30T14:53:51.995567Z"
    }
   },
   "outputs": [
    {
     "data": {
      "text/plain": [
       "'<!DOCTYPE html><html><head><meta charset=\"utf-8\"><title>Not Found</title><meta http-equiv=\"X-UA-Compatible\" content=\"IE=edge\"><meta name=\"viewport\" content=\"width=device-width, initial-scale=1.0\"><meta name=\"description\" content=\"Use SYSTRAN Translate, the first free online translator providing in-domain translation models trained by a network of worldwide experts\"><meta name=\"author\" content=\"SYSTRAN\"><link rel=\"apple-touch-icon\" sizes=\"180x180\" href=\"/images/favicons/apple-touch-icon.png?v=5y57r4n2020new\"><link rel=\"icon\" type=\"image/png\" sizes=\"32x32\" href=\"/images/favicons/favicon-32x32.png?v=5y57r4n2020\"><link rel=\"icon\" type=\"image/png\" sizes=\"16x16\" href=\"/images/favicons/favicon-16x16.png?v=5y57r4n2020\"><link rel=\"manifest\" href=\"/images/favicons/site.webmanifest?v=5y57r4n2020\"><link rel=\"mask-icon\" href=\"/images/favicons/safari-pinned-tab.svg?v=5y57r4n2020\" color=\"#5bbad5\"><link rel=\"shortcut icon\" href=\"/images/favicon.ico?v=5y57r4n2020\"><meta name=\"msapplication-TileColor\" content=\"#da532c\"><meta name=\"msapplication-config\" content=\"/images/favicons/browserconfig.xml?v=5y57r4n2020\"><link rel=\"alternate\" type=\"application/atom+xml\" href=\"/feed/b9106aa7-99e9-4444-a15c-a48ea1b0fc2c?lang=en\" title=\"Use SYSTRAN Translate, the first free online translator providing in-domain translation models trained by a network of worldwide experts - Notifications\"><link rel=\"stylesheet\" href=\"/components/bootstrap/css/bootstrap.min.css\"><link rel=\"stylesheet\" href=\"/components/bootstrap/css/bootstrap-theme.min.css\"><link rel=\"stylesheet\" href=\"/components/Font-Awesome/css/font-awesome.min.css\"><link rel=\"stylesheet\" href=\"/stylesheets/style.css\"><link rel=\"stylesheet\" href=\"/stylesheets/custom.css\"><!-- HTML5 shim, for IE6-8 support of HTML5 elements--><!--if lt IE 9script(src=\\'/components/html5shiv/js/html5shiv.js\\')\\nscript(src=\\'/components/respond/js/respond.min.js\\')\\n--></head><body><div role=\"navigation\" class=\"navbar navbar-default navbar-fixed-top\"><div class=\"container\"><div class=\"navbar-header\"><!--button.navbar-toggle(type=\\'button\\', data-toggle=\\'collapse\\', data-target=\\'#navBar\\')--><!--  span.icon-bar--><!--  span.icon-bar--><!--  span.icon-bar--><a href=\"/\" aria-label=\"SYSTRAN Pure Neural® Server\" id=\"headerlogo_ses\" class=\"navbar-brand\"></a><h3 class=\"navbar-text\"></h3></div><div id=\"navBar\" class=\"navbar-collapse collapse\"><ul class=\"nav navbar-nav navbar-right auto-flip rightNavBar\"><li><a href=\"/information\" aria-label=\"Information\" title=\"Information\"><i class=\"fa fa-info fa-lg\"></i></a></li><li class=\"signLink\"><a href=\"/signin\">Sign in</a></li><li class=\"dropdown languagesList\"><a href=\"javascript:void(0)\" data-toggle=\"dropdown\" title=\"Language\" id=\"language\" class=\"dropdown-toggle\"><i class=\"fa fa-globe fa-lg\"></i><span class=\"visible-xs-inline dropdownLabel\">Language</span><b class=\"caret\"></b></a><ul class=\"dropdown-menu\"><li><a href=\"?lang=en\" class=\"locale\">English</a></li><li><a href=\"?lang=fr\" class=\"locale\">Français</a></li><li><a href=\"?lang=de\" class=\"locale\">Deutsch</a></li><li><a href=\"?lang=es\" class=\"locale\">Español</a></li><li><a href=\"?lang=ja\" class=\"locale\">日本語</a></li><li><a href=\"?lang=ko\" class=\"locale\">한국어</a></li><li><a href=\"?lang=ar\" class=\"locale\">العربية</a></li></ul></li></ul></div></div></div><div id=\"navbar-alert-container\"><div id=\"navbar-alert\" class=\"container\"></div></div><div id=\"menuAndMain\" class=\"container\"><div class=\"row\"><div id=\"navMenu\" class=\"col-md-12 navMenu\"><ul class=\"nav nav-tabs\"></ul></div></div><div class=\"row\"><div class=\"col-md-offset-3 col-md-6 alert alert-danger\"><h4 class=\"text-center\"><em>404</em>&nbsp; { message: \\'Not Found\\', statusCode: 404 }</h4></div></div></div><div id=\"globalContainer\" class=\"container\"></div><footer><div><p class=\"version\"><strong>SYSTRAN Pure Neural® Server 9.5.1</strong></p><p>SYSTRAN ©2019 All rights reserved</p><p><a href=\"/eula/EULA_SYSTRAN_EnterpriseServer_EN.pdf\" target=\"_blank\">License Agreement</a></p></div><div id=\"backToTop\"><a href=\"#top\" class=\"label label-warning text-uppercase\">Back to top</a></div></footer><script src=\"/javascripts/bundles/common.bundle.js\"></script><script src=\"/javascripts/bundles/babel-polyfill.bundle.js\"></script><script src=\"/components/jquery/jquery-1.11.2.min.js\"></script><script src=\"/components/jquery-migrate/jquery-migrate-1.2.1.min.js\"></script><script src=\"/components/handlebars/handlebars.js\"></script><script src=\"/components/bootstrap/js/bootstrap.min.js\"></script><script src=\"/components/moment.js/js/moment-with-langs.min.js\"></script><script src=\"/components/jquery-hashchange/jquery.ba-hashchange.min.js\"></script><script src=\"/javascripts/common.js\"></script><script src=\"/javascripts/services/common.js\"></script><script type=\"text/javascript\">window.i18nSendMissing = false;\\nwindow.INITIAL_STATE = {\"roles\":{\"permissions\":[{\"name\":\"translation box\",\"description\":\"TT010-Text Translation\"},{\"name\":\"user\",\"description\":\"IN001-Access Personal Information\"},{\"name\":\"information\",\"description\":\"IN020-View Information Page\"},{\"name\":\"user api keys\",\"description\":\"IN041-Manage Personal API Keys\"},{\"name\":\"user api credentials\",\"description\":\"IN042-Manage Personal API Credentials\"},{\"name\":\"user active applications\",\"description\":\"IN043-Manage Personal Active Applications\"}]},\"users\":{\"connected\":{\"name\":{\"givenName\":\"anonymous\"},\"provider\":\"local\",\"enable\":true,\"email\":\"anonymous@systran.fr\",\"groups\":[],\"roles\":[{\"id\":\"5d0b907805f29c5ff73c5c10\",\"name\":\"Anonymous\"}],\"displayName\":\"anonymous\",\"groupRoles\":[],\"id\":\"0\",\"authorizations\":{\"isSuper\":false,\"permissions\":{\"translation box\":true,\"information\":true,\"user\":true,\"user api keys\":true,\"user api credentials\":true,\"user active applications\":true},\"userId\":\"0\"},\"preferences\":{\"notificationLevel\":\"info\",\"tgtLanguagePreference\":\"en\",\"srcLanguagePreference\":\"auto\",\"localizationLanguage\":\"auto\"}}}};\\n</script><script src=\"/i18next/i18next.js\" type=\"text/javascript\"></script><script src=\"/javascripts/locales.js\"></script><script src=\"/javascripts/langs.js\"></script><script src=\"/javascripts/router.js\"></script><script src=\"/javascripts/helpers.js\"></script><script type=\"text/javascript\">window.locale = \\'en\\';\\nif (window.locale === \\'zh\\')\\n  moment.lang(\\'zh-cn\\');\\nelse\\n  moment.lang(window.locale);\\n</script><script type=\"text/javascript\">$.ajaxSetup({ headers: { \\'X-CSRF-Token\\': \\'7X1G6J3y-k2B8JfEs21FV3XqUoj4c8IBWvyA\\' } });\\nwindow.csrfToken = \\'7X1G6J3y-k2B8JfEs21FV3XqUoj4c8IBWvyA\\';</script></body></html>'"
      ]
     },
     "execution_count": 11,
     "metadata": {},
     "output_type": "execute_result"
    }
   ],
   "source": [
    "response.text"
   ]
  },
  {
   "cell_type": "code",
   "execution_count": 12,
   "metadata": {
    "ExecuteTime": {
     "end_time": "2020-03-30T14:54:00.542424Z",
     "start_time": "2020-03-30T14:54:00.539295Z"
    }
   },
   "outputs": [
    {
     "data": {
      "text/plain": [
       "-1"
      ]
     },
     "execution_count": 12,
     "metadata": {},
     "output_type": "execute_result"
    }
   ],
   "source": [
    "response.text.lower().find('medida')"
   ]
  },
  {
   "cell_type": "code",
   "execution_count": 13,
   "metadata": {
    "ExecuteTime": {
     "end_time": "2020-03-30T14:54:10.693043Z",
     "start_time": "2020-03-30T14:54:10.682560Z"
    }
   },
   "outputs": [
    {
     "data": {
      "text/plain": [
       "3619"
      ]
     },
     "execution_count": 13,
     "metadata": {},
     "output_type": "execute_result"
    }
   ],
   "source": []
  },
  {
   "cell_type": "code",
   "execution_count": 17,
   "metadata": {
    "ExecuteTime": {
     "end_time": "2020-03-30T14:57:56.118673Z",
     "start_time": "2020-03-30T14:57:53.815843Z"
    }
   },
   "outputs": [],
   "source": [
    "r = requests.get('https://translate.systran.net/translationTools/text')"
   ]
  },
  {
   "cell_type": "code",
   "execution_count": 19,
   "metadata": {
    "ExecuteTime": {
     "end_time": "2020-03-30T14:58:04.191759Z",
     "start_time": "2020-03-30T14:58:04.179560Z"
    }
   },
   "outputs": [
    {
     "data": {
      "text/plain": [
       "{'Set-Cookie': 'lang=en; Max-Age=28800; Path=/; Expires=Mon, 30 Mar 2020 22:57:54 GMT; HttpOnly, ses.sid=s%3AX6dvm14TVbFLH6deRXKSd0T4rr8DSCS6.3XPs3VXr5mndkWVLm1hAWUZUrIMLxqrlQ3TdUuqRxlw; Path=/; Expires=Mon, 30 Mar 2020 22:57:55 GMT; HttpOnly', 'Transfer-Encoding': 'chunked', 'X-Frame-Options': 'deny', 'Content-Encoding': 'gzip', 'X-Content-Type-Options': 'nosniff', 'Strict-Transport-Security': 'max-age=15768000', 'Cache-Control': 'no-cache=\"Set-Cookie, Set-Cookie2\"', 'X-IPLB-Instance': '31226', 'Vary': 'Accept-Encoding', 'Content-Type': 'text/html; charset=utf-8', 'ETag': 'W/\"8706-IKzTtqsPYuoEQsT29SMDDKB3wWA\"', 'Date': 'Mon, 30 Mar 2020 14:57:54 GMT'}"
      ]
     },
     "execution_count": 19,
     "metadata": {},
     "output_type": "execute_result"
    }
   ],
   "source": [
    "r.headers"
   ]
  },
  {
   "cell_type": "code",
   "execution_count": 25,
   "metadata": {
    "ExecuteTime": {
     "end_time": "2020-03-30T15:04:00.065226Z",
     "start_time": "2020-03-30T15:03:57.528599Z"
    }
   },
   "outputs": [
    {
     "name": "stdout",
     "output_type": "stream",
     "text": [
      "{'Set-Cookie': 'lang=en; Max-Age=28800; Path=/; Expires=Mon, 30 Mar 2020 23:03:58 GMT; HttpOnly, ses.sid=s%3AxSOIbYh39hhdFrjyr8Afo6p_IYntZK1l.Q1KVRzQ3n06i5ia811xJlD6muBRyXuJU1rGSTIXI%2BWU; Path=/; Expires=Mon, 30 Mar 2020 23:03:59 GMT; HttpOnly', 'Transfer-Encoding': 'chunked', 'X-Frame-Options': 'deny', 'Content-Encoding': 'gzip', 'X-Content-Type-Options': 'nosniff', 'Strict-Transport-Security': 'max-age=15768000', 'Cache-Control': 'no-cache=\"Set-Cookie, Set-Cookie2\"', 'X-IPLB-Instance': '31225', 'Vary': 'Accept-Encoding', 'Content-Type': 'text/html; charset=utf-8', 'ETag': 'W/\"8706-s777UBqThfQM4A7DqnfyC2iSJKo\"', 'Date': 'Mon, 30 Mar 2020 15:03:58 GMT'}\n",
      "{'Transfer-Encoding': 'chunked', 'Strict-Transport-Security': 'max-age=15768000', 'X-IPLB-Instance': '31225', 'Content-Encoding': 'gzip', 'Vary': 'X-HTTP-Method-Override, Accept-Encoding', 'Content-Type': 'text/html; charset=utf-8', 'ETag': 'W/\"1298-VUC6VU1/Jb/FwaeJKk/wh+ZeIdQ\"', 'Date': 'Mon, 30 Mar 2020 15:03:59 GMT'}\n",
      "403\n",
      "-1\n",
      "-1\n"
     ]
    }
   ],
   "source": [
    "s = requests.Session()\n",
    "r = s.get('https://translate.systran.net/translationTools/text')\n",
    "# print(r.text)\n",
    "print(r.headers)\n",
    "response = s.post(\"https://translate.systran.net/translate/html\",\n",
    "                        json=payload,\n",
    "                        headers=headers)\n",
    "print(response.headers)\n",
    "print(response.status_code)\n",
    "print(response.text.lower().find('medida'))\n",
    "print(response.text.lower().find('403'))"
   ]
  },
  {
   "cell_type": "code",
   "execution_count": 24,
   "metadata": {
    "ExecuteTime": {
     "end_time": "2020-03-30T15:01:55.296521Z",
     "start_time": "2020-03-30T15:01:55.293184Z"
    }
   },
   "outputs": [
    {
     "data": {
      "text/plain": [
       "'<!DOCTYPE html><html><head><meta charset=\"utf-8\"><title>Forbidden</title><meta http-equiv=\"X-UA-Compatible\" content=\"IE=edge\"><meta name=\"viewport\" content=\"width=device-width, initial-scale=1.0\"><meta name=\"description\" content=\"undefined\"><meta name=\"author\" content=\"SYSTRAN\"><link rel=\"apple-touch-icon\" sizes=\"180x180\" href=\"/images/favicons/apple-touch-icon.png?v=5y57r4n2020new\"><link rel=\"icon\" type=\"image/png\" sizes=\"32x32\" href=\"/images/favicons/favicon-32x32.png?v=5y57r4n2020\"><link rel=\"icon\" type=\"image/png\" sizes=\"16x16\" href=\"/images/favicons/favicon-16x16.png?v=5y57r4n2020\"><link rel=\"manifest\" href=\"/images/favicons/site.webmanifest?v=5y57r4n2020\"><link rel=\"mask-icon\" href=\"/images/favicons/safari-pinned-tab.svg?v=5y57r4n2020\" color=\"#5bbad5\"><link rel=\"shortcut icon\" href=\"/images/favicon.ico?v=5y57r4n2020\"><meta name=\"msapplication-TileColor\" content=\"#da532c\"><meta name=\"msapplication-config\" content=\"/images/favicons/browserconfig.xml?v=5y57r4n2020\"><link rel=\"stylesheet\" href=\"/components/bootstrap/css/bootstrap.min.css\"><link rel=\"stylesheet\" href=\"/components/bootstrap/css/bootstrap-theme.min.css\"><link rel=\"stylesheet\" href=\"/components/Font-Awesome/css/font-awesome.min.css\"><link rel=\"stylesheet\" href=\"/stylesheets/style.css\"><link rel=\"stylesheet\" href=\"/stylesheets/custom.css\"><!-- HTML5 shim, for IE6-8 support of HTML5 elements--><!--if lt IE 9script(src=\\'/components/html5shiv/js/html5shiv.js\\')\\nscript(src=\\'/components/respond/js/respond.min.js\\')\\n--></head><body><div role=\"navigation\" class=\"navbar navbar-default navbar-fixed-top\"><div class=\"container\"><div class=\"navbar-header\"><!--button.navbar-toggle(type=\\'button\\', data-toggle=\\'collapse\\', data-target=\\'#navBar\\')--><!--  span.icon-bar--><!--  span.icon-bar--><!--  span.icon-bar--><a href=\"/\" aria-label=\"SYSTRAN Pure Neural® Server\" id=\"headerlogo_ses\" class=\"navbar-brand\"></a><h3 class=\"navbar-text\"></h3></div><div id=\"navBar\" class=\"navbar-collapse collapse\"><ul class=\"nav navbar-nav navbar-right auto-flip rightNavBar\"><li class=\"signLink\"><a href=\"/signin\">Sign in</a></li><li class=\"dropdown languagesList\"><a href=\"javascript:void(0)\" data-toggle=\"dropdown\" title=\"Language\" id=\"language\" class=\"dropdown-toggle\"><i class=\"fa fa-globe fa-lg\"></i><span class=\"visible-xs-inline dropdownLabel\">Language</span><b class=\"caret\"></b></a><ul class=\"dropdown-menu\"><li><a href=\"?lang=en\" class=\"locale\">English</a></li><li><a href=\"?lang=fr\" class=\"locale\">Français</a></li><li><a href=\"?lang=de\" class=\"locale\">Deutsch</a></li><li><a href=\"?lang=es\" class=\"locale\">Español</a></li><li><a href=\"?lang=ja\" class=\"locale\">日本語</a></li><li><a href=\"?lang=ko\" class=\"locale\">한국어</a></li><li><a href=\"?lang=ar\" class=\"locale\">العربية</a></li></ul></li></ul></div></div></div><div id=\"navbar-alert-container\"><div id=\"navbar-alert\" class=\"container\"></div></div><div id=\"menuAndMain\" class=\"container\"><div class=\"row\"><div id=\"navMenu\" class=\"col-md-12 navMenu\"><ul class=\"nav nav-tabs\"></ul></div></div><div class=\"row\"><div class=\"col-md-offset-3 col-md-6 alert alert-danger\"><h4 class=\"text-center\"><em>403</em>&nbsp; { statusCode: 403, message: \\'Forbidden\\' }</h4></div></div></div><div id=\"globalContainer\" class=\"container\"></div><footer><div><p class=\"version\"><strong>SYSTRAN Pure Neural® Server 9.5.1</strong></p><p>SYSTRAN ©2019 All rights reserved</p><p><a href=\"/eula/EULA_SYSTRAN_EnterpriseServer_EN.pdf\" target=\"_blank\">License Agreement</a></p></div><div id=\"backToTop\"><a href=\"#top\" class=\"label label-warning text-uppercase\">Back to top</a></div></footer><script src=\"/javascripts/bundles/common.bundle.js\"></script><script src=\"/javascripts/bundles/babel-polyfill.bundle.js\"></script><script src=\"/components/jquery/jquery-1.11.2.min.js\"></script><script src=\"/components/jquery-migrate/jquery-migrate-1.2.1.min.js\"></script><script src=\"/components/handlebars/handlebars.js\"></script><script src=\"/components/bootstrap/js/bootstrap.min.js\"></script><script src=\"/components/moment.js/js/moment-with-langs.min.js\"></script><script src=\"/components/jquery-hashchange/jquery.ba-hashchange.min.js\"></script><script src=\"/javascripts/common.js\"></script><script src=\"/javascripts/services/common.js\"></script><script type=\"text/javascript\">window.i18nSendMissing = false;\\nwindow.INITIAL_STATE = ;\\n</script><script src=\"/i18next/i18next.js\" type=\"text/javascript\"></script><script src=\"/javascripts/locales.js\"></script><script src=\"/javascripts/langs.js\"></script><script src=\"/javascripts/router.js\"></script><script src=\"/javascripts/helpers.js\"></script><script type=\"text/javascript\">window.locale = \\'\\';\\nif (window.locale === \\'zh\\')\\n  moment.lang(\\'zh-cn\\');\\nelse\\n  moment.lang(window.locale);\\n</script></body></html>'"
      ]
     },
     "execution_count": 24,
     "metadata": {},
     "output_type": "execute_result"
    }
   ],
   "source": [
    "response.text"
   ]
  },
  {
   "cell_type": "code",
   "execution_count": 28,
   "metadata": {
    "ExecuteTime": {
     "end_time": "2020-03-30T15:09:28.103722Z",
     "start_time": "2020-03-30T15:09:26.262764Z"
    }
   },
   "outputs": [],
   "source": []
  },
  {
   "cell_type": "code",
   "execution_count": 32,
   "metadata": {
    "ExecuteTime": {
     "end_time": "2020-03-30T15:12:41.309065Z",
     "start_time": "2020-03-30T15:12:39.322808Z"
    }
   },
   "outputs": [
    {
     "name": "stdout",
     "output_type": "stream",
     "text": [
      "200\n",
      "-1\n"
     ]
    }
   ],
   "source": [
    "htmlresponse = requests.get('https://translate.systran.net/translationTools/text?owner=Systran&size=M&input=2.+THE+MEASURE+OF+ALL+THINGS')\n",
    "print(htmlresponse.status_code)\n",
    "print(htmlresponse.text.lower().find('medida'))"
   ]
  },
  {
   "cell_type": "code",
   "execution_count": 31,
   "metadata": {
    "ExecuteTime": {
     "end_time": "2020-03-30T15:11:58.139674Z",
     "start_time": "2020-03-30T15:11:58.125208Z"
    }
   },
   "outputs": [
    {
     "data": {
      "text/plain": [
       "-1"
      ]
     },
     "execution_count": 31,
     "metadata": {},
     "output_type": "execute_result"
    }
   ],
   "source": []
  },
  {
   "cell_type": "code",
   "execution_count": null,
   "metadata": {},
   "outputs": [],
   "source": []
  }
 ],
 "metadata": {
  "kernelspec": {
   "display_name": "Python 3",
   "language": "python",
   "name": "python3"
  },
  "language_info": {
   "codemirror_mode": {
    "name": "ipython",
    "version": 3
   },
   "file_extension": ".py",
   "mimetype": "text/x-python",
   "name": "python",
   "nbconvert_exporter": "python",
   "pygments_lexer": "ipython3",
   "version": "3.5.2"
  }
 },
 "nbformat": 4,
 "nbformat_minor": 2
}
