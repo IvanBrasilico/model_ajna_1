{
 "cells": [
  {
   "cell_type": "markdown",
   "metadata": {},
   "source": [
    "# Baseado nos testes anteriores com esta base e com a base ChestXRay:\n",
    "\n",
    "* Extrair features para numpy a partir da base \"limpa\" (usada também no notebook 01b3)\n",
    "   * Rodar com maxpool e com avgpool para poder comparar\n",
    "* Rodar keras_tuner e comparar resultados com melhor resultado da rede simples\n",
    "\n",
    "### Os resultados da rede simples treinada do zero foram bons, mas caso os resultados com rede pré treinada na imagenet sejam bons, pode ser um método universal para vários classificadores, buscas e análises pré extrair features via rede pré treinada, salvando em Banco de Dados."
   ]
  },
  {
   "cell_type": "code",
   "execution_count": 14,
   "metadata": {},
   "outputs": [],
   "source": [
    "import numpy as np\n",
    "import os\n",
    "import tensorflow as tf\n",
    "from tensorflow.keras.applications.densenet import DenseNet121\n",
    "from tensorflow.keras.preprocessing.image import ImageDataGenerator\n",
    "from tensorflow.keras.callbacks import EarlyStopping, ModelCheckpoint, \\\n",
    "    ReduceLROnPlateau, TensorBoard\n",
    "from tensorflow.keras.optimizers import RMSprop\n",
    "\n",
    "from utils import report_classes\n",
    "import time\n",
    "\n",
    "\n",
    "caminho_bases = os.path.join('..', 'bases', 'vazios_augmented2')\n",
    "caminho_train = os.path.join(caminho_bases, 'train')\n",
    "caminho_test = os.path.join(caminho_bases, 'test')\n",
    "\n",
    "MODEL_DIR = '../models_featureextraction'\n",
    "LOG_DIR = '../logs/02c3/'\n",
    "SIZE = (224, 224)\n",
    "destino_bases = os.path.join('..', 'bases', 'vazios_featureextraction_filtered')\n",
    "if not os.path.exists(MODEL_DIR):\n",
    "    os.mkdir(MODEL_DIR)\n",
    "if not os.path.exists(destino_bases):\n",
    "    os.mkdir(destino_bases)\n"
   ]
  },
  {
   "cell_type": "markdown",
   "metadata": {},
   "source": [
    "# Callbacks"
   ]
  },
  {
   "cell_type": "code",
   "execution_count": 34,
   "metadata": {},
   "outputs": [],
   "source": [
    "tensorboard_logs = TensorBoard(log_dir=LOG_DIR, histogram_freq=1,\n",
    "                               write_graph=False, write_images=False,\n",
    "                               update_freq='epoch')\n",
    "mcp_save = ModelCheckpoint(os.path.join(MODEL_DIR, \n",
    "                                        'Transfermodelweights02c3.{epoch:02d}-{val_loss:.2f}.hdf5'),\n",
    "                           save_best_only=True, monitor='val_loss', mode='min')\n",
    "early_stop = EarlyStopping(monitor='val_loss', patience=10, verbose=0, mode='min')\n",
    "reduce_lr = ReduceLROnPlateau(monitor='val_loss', factor=0.5, patience=2,\n",
    "                              verbose=1, mode='min')\n"
   ]
  },
  {
   "cell_type": "markdown",
   "metadata": {},
   "source": [
    "# Model for feature extraction"
   ]
  },
  {
   "cell_type": "code",
   "execution_count": 3,
   "metadata": {},
   "outputs": [],
   "source": [
    "# create the base pre-trained model\n",
    "base_model = DenseNet121(weights='imagenet',\n",
    "                         input_shape=(*SIZE, 3), \n",
    "                         include_top=False,\n",
    "                         pooling='max')"
   ]
  },
  {
   "cell_type": "markdown",
   "metadata": {},
   "source": [
    "# DataGenerators"
   ]
  },
  {
   "cell_type": "code",
   "execution_count": 4,
   "metadata": {},
   "outputs": [
    {
     "name": "stdout",
     "output_type": "stream",
     "text": [
      "Found 41016 images belonging to 2 classes.\n"
     ]
    }
   ],
   "source": [
    "train_datagen = ImageDataGenerator(\n",
    "    rescale=1./255,\n",
    ")\n",
    "train_generator = train_datagen.flow_from_directory(\n",
    "    caminho_train,\n",
    "    target_size=SIZE,\n",
    "    batch_size=64,\n",
    "    class_mode='binary',\n",
    "    shuffle=False\n",
    ")"
   ]
  },
  {
   "cell_type": "code",
   "execution_count": 5,
   "metadata": {},
   "outputs": [
    {
     "name": "stdout",
     "output_type": "stream",
     "text": [
      "Found 4544 images belonging to 2 classes.\n"
     ]
    }
   ],
   "source": [
    "validation_datagen = ImageDataGenerator(\n",
    "    rescale=1./255,\n",
    ")\n",
    "\n",
    "validation_generator = validation_datagen.flow_from_directory(\n",
    "    caminho_test,\n",
    "    target_size=SIZE,\n",
    "    batch_size=64,\n",
    "    class_mode='binary',\n",
    "    shuffle=False\n",
    ")"
   ]
  },
  {
   "cell_type": "markdown",
   "metadata": {},
   "source": [
    "# Extract features to np"
   ]
  },
  {
   "cell_type": "code",
   "execution_count": 6,
   "metadata": {},
   "outputs": [],
   "source": [
    "FEATURES_DIR = destino_bases"
   ]
  },
  {
   "cell_type": "code",
   "execution_count": 4,
   "metadata": {},
   "outputs": [],
   "source": [
    "# Se tiver sido gerado anteriormente, basta ler do disco\n",
    "with open(os.path.join(FEATURES_DIR, 'features_train.np'), 'rb') as features_in:\n",
    "    features_train = np.load(features_in)\n",
    "with open(os.path.join(FEATURES_DIR, 'y_train.np'), 'rb') as y_in:\n",
    "    y_train = np.load(y_in)\n",
    "with open(os.path.join(FEATURES_DIR, 'features_test.np'), 'rb') as features_in:\n",
    "    features_test = np.load(features_in)\n",
    "with open(os.path.join(FEATURES_DIR, 'y_test.np'), 'rb') as y_in:\n",
    "    y_test = np.load(y_in)"
   ]
  },
  {
   "cell_type": "code",
   "execution_count": 7,
   "metadata": {},
   "outputs": [],
   "source": [
    "def extract_features(generator, model):\n",
    "    generator.reset()\n",
    "    n_images = len(generator.filenames)\n",
    "    batch_size = generator.batch_size\n",
    "    m = batch_size *  (n_images // batch_size)  # Arredondar para não ficar espaço vazio\n",
    "    n = model.output.shape[1]\n",
    "    features = np.zeros((m, n), np.float32)\n",
    "    y_ = np.zeros((m, 1), np.float32)\n",
    "    print(n_images, m, batch_size, m // batch_size)\n",
    "    for ind in range(m // batch_size):\n",
    "        batch, y_batch = next(generator)\n",
    "        features_batch = base_model.predict(batch)\n",
    "        features[ind * batch_size: (ind * batch_size) + batch_size, :] = features_batch\n",
    "        y_[ind * batch_size: (ind * batch_size) + batch_size, 0] = y_batch\n",
    "    print('last batch setted elements %s:%s' % ((ind * batch_size), ((ind * batch_size) + batch_size)))\n",
    "    return features, y_"
   ]
  },
  {
   "cell_type": "code",
   "execution_count": 8,
   "metadata": {},
   "outputs": [
    {
     "name": "stdout",
     "output_type": "stream",
     "text": [
      "41016 40960 64 640\n",
      "last batch setted elements 40896:40960\n"
     ]
    }
   ],
   "source": [
    "features_train, y_train = extract_features(train_generator, base_model)"
   ]
  },
  {
   "cell_type": "code",
   "execution_count": 9,
   "metadata": {},
   "outputs": [
    {
     "name": "stdout",
     "output_type": "stream",
     "text": [
      "(40960, 1024)\n",
      "(40960, 1)\n"
     ]
    }
   ],
   "source": [
    "print(features_train.shape)\n",
    "print(y_train.shape)"
   ]
  },
  {
   "cell_type": "code",
   "execution_count": 10,
   "metadata": {},
   "outputs": [
    {
     "name": "stdout",
     "output_type": "stream",
     "text": [
      "4544 4544 64 71\n",
      "last batch setted elements 4480:4544\n"
     ]
    }
   ],
   "source": [
    "features_test, y_test = extract_features(validation_generator, base_model)"
   ]
  },
  {
   "cell_type": "code",
   "execution_count": 11,
   "metadata": {},
   "outputs": [
    {
     "name": "stdout",
     "output_type": "stream",
     "text": [
      "(4544, 1024)\n",
      "(4544, 1)\n"
     ]
    }
   ],
   "source": [
    "print(features_test.shape)\n",
    "print(y_test.shape)"
   ]
  },
  {
   "cell_type": "code",
   "execution_count": 12,
   "metadata": {},
   "outputs": [
    {
     "data": {
      "text/plain": [
       "'../bases/vazios_featureextraction_filtered/features_train.np'"
      ]
     },
     "execution_count": 12,
     "metadata": {},
     "output_type": "execute_result"
    }
   ],
   "source": [
    "os.path.join(FEATURES_DIR, 'features_train.np')"
   ]
  },
  {
   "cell_type": "code",
   "execution_count": 15,
   "metadata": {},
   "outputs": [],
   "source": [
    "with open(os.path.join(FEATURES_DIR, 'features_train.np'), 'bw') as features_out:\n",
    "    np.save(features_out, features_train)\n",
    "with open(os.path.join(FEATURES_DIR, 'y_train.np'), 'bw') as y_out:\n",
    "    np.save(y_out, y_train)"
   ]
  },
  {
   "cell_type": "code",
   "execution_count": 16,
   "metadata": {},
   "outputs": [],
   "source": [
    "with open(os.path.join(FEATURES_DIR, 'features_test.np'), 'bw') as features_out:\n",
    "    np.save(features_out, features_test)\n",
    "with open(os.path.join(FEATURES_DIR, 'y_test.np'), 'bw') as y_out:\n",
    "    np.save(y_out, y_test)"
   ]
  },
  {
   "cell_type": "markdown",
   "metadata": {},
   "source": [
    "# Model for feature extraction (AvgPooling)"
   ]
  },
  {
   "cell_type": "code",
   "execution_count": 17,
   "metadata": {},
   "outputs": [],
   "source": [
    "# create the base pre-trained model\n",
    "base_model_avg = DenseNet121(weights='imagenet',\n",
    "                         input_shape=(*SIZE, 3), \n",
    "                         include_top=False,\n",
    "                         pooling='avg')"
   ]
  },
  {
   "cell_type": "markdown",
   "metadata": {},
   "source": [
    "# Extract features to np (AvgPooling)"
   ]
  },
  {
   "cell_type": "code",
   "execution_count": 10,
   "metadata": {},
   "outputs": [],
   "source": [
    "# Se tiver sido gerado anteriormente, basta ler do disco\n",
    "with open(os.path.join(FEATURES_DIR, 'features_train_avg.np'), 'rb') as features_in:\n",
    "    features_train_avg = np.load(features_in)\n",
    "with open(os.path.join(FEATURES_DIR, 'y_train_avg.np'), 'rb') as y_in:\n",
    "    y_train_avg = np.load(y_in)\n",
    "with open(os.path.join(FEATURES_DIR, 'features_test_avg.np'), 'rb') as features_in:\n",
    "    features_test_avg = np.load(features_in)\n",
    "with open(os.path.join(FEATURES_DIR, 'y_test_avg.np'), 'rb') as y_in:\n",
    "    y_test_avg = np.load(y_in)"
   ]
  },
  {
   "cell_type": "code",
   "execution_count": 18,
   "metadata": {},
   "outputs": [
    {
     "name": "stdout",
     "output_type": "stream",
     "text": [
      "41016 40960 64 640\n",
      "last batch setted elements 40896:40960\n"
     ]
    }
   ],
   "source": [
    "features_train_avg, y_train_avg = extract_features(train_generator, base_model_avg)"
   ]
  },
  {
   "cell_type": "code",
   "execution_count": 19,
   "metadata": {},
   "outputs": [
    {
     "name": "stdout",
     "output_type": "stream",
     "text": [
      "(40960, 1024)\n",
      "(40960, 1)\n"
     ]
    }
   ],
   "source": [
    "print(features_train_avg.shape)\n",
    "print(y_train_avg.shape)"
   ]
  },
  {
   "cell_type": "code",
   "execution_count": 20,
   "metadata": {},
   "outputs": [
    {
     "name": "stdout",
     "output_type": "stream",
     "text": [
      "4544 4544 64 71\n",
      "last batch setted elements 4480:4544\n"
     ]
    }
   ],
   "source": [
    "features_test_avg, y_test_avg = extract_features(validation_generator, base_model_avg)"
   ]
  },
  {
   "cell_type": "code",
   "execution_count": 21,
   "metadata": {},
   "outputs": [
    {
     "name": "stdout",
     "output_type": "stream",
     "text": [
      "(4544, 1024)\n",
      "(4544, 1)\n"
     ]
    }
   ],
   "source": [
    "print(features_test_avg.shape)\n",
    "print(y_test_avg.shape)"
   ]
  },
  {
   "cell_type": "code",
   "execution_count": 22,
   "metadata": {},
   "outputs": [],
   "source": [
    "with open(os.path.join(FEATURES_DIR, 'features_train_avg.np'), 'bw') as features_out:\n",
    "    np.save(features_out, features_train_avg)\n",
    "with open(os.path.join(FEATURES_DIR, 'y_train_avg.np'), 'bw') as y_out:\n",
    "    np.save(y_out, y_train_avg)"
   ]
  },
  {
   "cell_type": "code",
   "execution_count": 23,
   "metadata": {},
   "outputs": [],
   "source": [
    "with open(os.path.join(FEATURES_DIR, 'features_test_avg.np'), 'bw') as features_out:\n",
    "    np.save(features_out, features_test_avg)\n",
    "with open(os.path.join(FEATURES_DIR, 'y_test_avg.np'), 'bw') as y_out:\n",
    "    np.save(y_out, y_test_avg)"
   ]
  },
  {
   "cell_type": "markdown",
   "metadata": {},
   "source": [
    "# Liberar memória"
   ]
  },
  {
   "cell_type": "code",
   "execution_count": 24,
   "metadata": {},
   "outputs": [],
   "source": [
    "del base_model\n",
    "del base_model_avg"
   ]
  },
  {
   "cell_type": "markdown",
   "metadata": {},
   "source": [
    "# Model RandomSearch KerasTuner"
   ]
  },
  {
   "cell_type": "code",
   "execution_count": 26,
   "metadata": {},
   "outputs": [],
   "source": [
    "from kerastuner.tuners import RandomSearch\n",
    "\n",
    "def build_model(hp):\n",
    "    model = tf.keras.Sequential()\n",
    "    model.add(tf.keras.layers.Dense(units=128,\n",
    "                           activation='relu',\n",
    "                           input_shape=(1024,)))\n",
    "    model.add(tf.keras.layers.Dropout(0.2))\n",
    "    model.add(tf.keras.layers.Dense(units=128,\n",
    "                           activation='relu'))\n",
    "    model.add(tf.keras.layers.Dropout(hp.Choice('rate',\n",
    "                                      values=[0.2, 0.4])))\n",
    "    model.add(tf.keras.layers.Dense(1, activation='sigmoid'))\n",
    "    model.compile(\n",
    "        optimizer=tf.keras.optimizers.Adam(\n",
    "            hp.Choice('learning_rate',\n",
    "                      values=[0.0001, 0.00004, 0.00001])),\n",
    "        loss='binary_crossentropy',\n",
    "        metrics=['accuracy'])\n",
    "    return model"
   ]
  },
  {
   "cell_type": "code",
   "execution_count": 27,
   "metadata": {},
   "outputs": [],
   "source": [
    "tuner = RandomSearch(\n",
    "    build_model,\n",
    "    objective='val_accuracy',\n",
    "    max_trials=4,\n",
    "    executions_per_trial=2,\n",
    "    directory='kerastunerlogs',\n",
    "    project_name='Vazios')"
   ]
  },
  {
   "cell_type": "code",
   "execution_count": 28,
   "metadata": {},
   "outputs": [
    {
     "data": {
      "text/html": [
       "<span style=\"color:#4527A0\"><h1 style=\"font-size:18px\">Search space summary</h1></span>"
      ],
      "text/plain": [
       "<IPython.core.display.HTML object>"
      ]
     },
     "metadata": {},
     "output_type": "display_data"
    },
    {
     "data": {
      "text/html": [
       "<span style=\"color:cyan\"> |-Default search space size: 2</span>"
      ],
      "text/plain": [
       "<IPython.core.display.HTML object>"
      ]
     },
     "metadata": {},
     "output_type": "display_data"
    },
    {
     "data": {
      "text/html": [
       "<span style=\"color:#7E57C2\"><h2 style=\"font-size:16px\">rate (Choice)</h2></span>"
      ],
      "text/plain": [
       "<IPython.core.display.HTML object>"
      ]
     },
     "metadata": {},
     "output_type": "display_data"
    },
    {
     "data": {
      "text/html": [
       "<span style=\"color:cyan\"> |-default: 0.2</span>"
      ],
      "text/plain": [
       "<IPython.core.display.HTML object>"
      ]
     },
     "metadata": {},
     "output_type": "display_data"
    },
    {
     "data": {
      "text/html": [
       "<span style=\"color:blue\"> |-values: [0.2, 0.4]</span>"
      ],
      "text/plain": [
       "<IPython.core.display.HTML object>"
      ]
     },
     "metadata": {},
     "output_type": "display_data"
    },
    {
     "data": {
      "text/html": [
       "<span style=\"color:#7E57C2\"><h2 style=\"font-size:16px\">learning_rate (Choice)</h2></span>"
      ],
      "text/plain": [
       "<IPython.core.display.HTML object>"
      ]
     },
     "metadata": {},
     "output_type": "display_data"
    },
    {
     "data": {
      "text/html": [
       "<span style=\"color:cyan\"> |-default: 0.0001</span>"
      ],
      "text/plain": [
       "<IPython.core.display.HTML object>"
      ]
     },
     "metadata": {},
     "output_type": "display_data"
    },
    {
     "data": {
      "text/html": [
       "<span style=\"color:blue\"> |-values: [0.0001, 4e-05, 1e-05]</span>"
      ],
      "text/plain": [
       "<IPython.core.display.HTML object>"
      ]
     },
     "metadata": {},
     "output_type": "display_data"
    }
   ],
   "source": [
    "tuner.search_space_summary()"
   ]
  },
  {
   "cell_type": "markdown",
   "metadata": {},
   "source": [
    "# Tuner - Teste com MaxPool"
   ]
  },
  {
   "cell_type": "code",
   "execution_count": 29,
   "metadata": {},
   "outputs": [
    {
     "data": {
      "text/html": [
       "<span style=\"color:#4527A0\"><h1 style=\"font-size:18px\">New model</h1></span>"
      ],
      "text/plain": [
       "<IPython.core.display.HTML object>"
      ]
     },
     "metadata": {},
     "output_type": "display_data"
    },
    {
     "data": {
      "text/html": [
       "<span style=\"color:#4527A0\"><h1 style=\"font-size:18px\">Trial summary</h1></span>"
      ],
      "text/plain": [
       "<IPython.core.display.HTML object>"
      ]
     },
     "metadata": {},
     "output_type": "display_data"
    },
    {
     "data": {
      "text/html": [
       "<span style=\"color:#7E57C2\"><h2 style=\"font-size:16px\">Hp values:</h2></span>"
      ],
      "text/plain": [
       "<IPython.core.display.HTML object>"
      ]
     },
     "metadata": {},
     "output_type": "display_data"
    },
    {
     "data": {
      "text/html": [
       "<span style=\"color:cyan\"> |-learning_rate: 0.0001</span>"
      ],
      "text/plain": [
       "<IPython.core.display.HTML object>"
      ]
     },
     "metadata": {},
     "output_type": "display_data"
    },
    {
     "data": {
      "text/html": [
       "<span style=\"color:blue\"> |-rate: 0.2</span>"
      ],
      "text/plain": [
       "<IPython.core.display.HTML object>"
      ]
     },
     "metadata": {},
     "output_type": "display_data"
    },
    {
     "data": {
      "text/html": [
       "<span style=\"color:#7E57C2\"><h2 style=\"font-size:16px\">Execution 1/2</h2></span>"
      ],
      "text/plain": [
       "<IPython.core.display.HTML object>"
      ]
     },
     "metadata": {},
     "output_type": "display_data"
    },
    {
     "name": "stderr",
     "output_type": "stream",
     "text": [
      "WARNING: Logging before flag parsing goes to stderr.\n",
      "W0711 10:36:41.924328 139874563942144 deprecation.py:323] From /home/ivan/pybr/projeto/venv/lib/python3.5/site-packages/tensorflow/python/ops/math_grad.py:1250: add_dispatch_support.<locals>.wrapper (from tensorflow.python.ops.array_ops) is deprecated and will be removed in a future version.\n",
      "Instructions for updating:\n",
      "Use tf.where in 2.0, which has the same broadcast rule as np.where\n"
     ]
    },
    {
     "data": {
      "application/vnd.jupyter.widget-view+json": {
       "model_id": "b727b928454f4301802ad5ad0ba74e0c",
       "version_major": 2,
       "version_minor": 0
      },
      "text/plain": [
       "HBox(children=(IntProgress(value=0, max=1280), HTML(value='')))"
      ]
     },
     "metadata": {},
     "output_type": "display_data"
    },
    {
     "name": "stdout",
     "output_type": "stream",
     "text": [
      "\n"
     ]
    },
    {
     "data": {
      "application/vnd.jupyter.widget-view+json": {
       "model_id": "0e6e97b231334a81a2de5b74b57d0f59",
       "version_major": 2,
       "version_minor": 0
      },
      "text/plain": [
       "HBox(children=(IntProgress(value=0, max=1280), HTML(value='')))"
      ]
     },
     "metadata": {},
     "output_type": "display_data"
    },
    {
     "name": "stdout",
     "output_type": "stream",
     "text": [
      "\n"
     ]
    },
    {
     "data": {
      "application/vnd.jupyter.widget-view+json": {
       "model_id": "0180f85beba74096ab2f48147807c70a",
       "version_major": 2,
       "version_minor": 0
      },
      "text/plain": [
       "HBox(children=(IntProgress(value=0, max=1280), HTML(value='')))"
      ]
     },
     "metadata": {},
     "output_type": "display_data"
    },
    {
     "name": "stdout",
     "output_type": "stream",
     "text": [
      "\n"
     ]
    },
    {
     "data": {
      "application/vnd.jupyter.widget-view+json": {
       "model_id": "f58a9f45f6e9415b971583b8d82d71ea",
       "version_major": 2,
       "version_minor": 0
      },
      "text/plain": [
       "HBox(children=(IntProgress(value=0, max=1280), HTML(value='')))"
      ]
     },
     "metadata": {},
     "output_type": "display_data"
    },
    {
     "name": "stdout",
     "output_type": "stream",
     "text": [
      "\n"
     ]
    },
    {
     "data": {
      "application/vnd.jupyter.widget-view+json": {
       "model_id": "5d8d4be0ff8f447aa7cff44976dd992b",
       "version_major": 2,
       "version_minor": 0
      },
      "text/plain": [
       "HBox(children=(IntProgress(value=0, max=1280), HTML(value='')))"
      ]
     },
     "metadata": {},
     "output_type": "display_data"
    },
    {
     "name": "stdout",
     "output_type": "stream",
     "text": [
      "\n"
     ]
    },
    {
     "data": {
      "application/vnd.jupyter.widget-view+json": {
       "model_id": "207afe31b1b641cc8dc16021818f4b5a",
       "version_major": 2,
       "version_minor": 0
      },
      "text/plain": [
       "HBox(children=(IntProgress(value=0, max=1280), HTML(value='')))"
      ]
     },
     "metadata": {},
     "output_type": "display_data"
    },
    {
     "name": "stdout",
     "output_type": "stream",
     "text": [
      "\n"
     ]
    },
    {
     "data": {
      "application/vnd.jupyter.widget-view+json": {
       "model_id": "78882f7a1cd5481bb1cb0da730ec2989",
       "version_major": 2,
       "version_minor": 0
      },
      "text/plain": [
       "HBox(children=(IntProgress(value=0, max=1280), HTML(value='')))"
      ]
     },
     "metadata": {},
     "output_type": "display_data"
    },
    {
     "name": "stderr",
     "output_type": "stream",
     "text": [
      "W0711 10:37:37.166069 139874563942144 callbacks.py:241] Method (on_train_batch_end) is slow compared to the batch update (0.153246). Check your callbacks.\n",
      "W0711 10:37:37.295309 139874563942144 callbacks.py:241] Method (on_train_batch_end) is slow compared to the batch update (0.150812). Check your callbacks.\n",
      "W0711 10:37:37.399058 139874563942144 callbacks.py:241] Method (on_train_batch_end) is slow compared to the batch update (0.150812). Check your callbacks.\n",
      "W0711 10:37:37.653579 139874563942144 callbacks.py:241] Method (on_train_batch_end) is slow compared to the batch update (0.195113). Check your callbacks.\n",
      "W0711 10:37:37.679944 139874563942144 callbacks.py:241] Method (on_train_batch_end) is slow compared to the batch update (0.195113). Check your callbacks.\n",
      "W0711 10:37:38.036134 139874563942144 callbacks.py:241] Method (on_train_batch_end) is slow compared to the batch update (0.225051). Check your callbacks.\n",
      "W0711 10:37:38.264166 139874563942144 callbacks.py:241] Method (on_train_batch_end) is slow compared to the batch update (0.212972). Check your callbacks.\n",
      "W0711 10:37:38.289293 139874563942144 callbacks.py:241] Method (on_train_batch_end) is slow compared to the batch update (0.195113). Check your callbacks.\n",
      "W0711 10:37:38.385463 139874563942144 callbacks.py:241] Method (on_train_batch_end) is slow compared to the batch update (0.150812). Check your callbacks.\n",
      "W0711 10:37:38.412355 139874563942144 callbacks.py:241] Method (on_train_batch_end) is slow compared to the batch update (0.105854). Check your callbacks.\n"
     ]
    },
    {
     "name": "stdout",
     "output_type": "stream",
     "text": [
      "\n"
     ]
    },
    {
     "data": {
      "application/vnd.jupyter.widget-view+json": {
       "model_id": "647c42c633f8435f9692cedf2d6c5640",
       "version_major": 2,
       "version_minor": 0
      },
      "text/plain": [
       "HBox(children=(IntProgress(value=0, max=1280), HTML(value='')))"
      ]
     },
     "metadata": {},
     "output_type": "display_data"
    },
    {
     "name": "stdout",
     "output_type": "stream",
     "text": [
      "\n"
     ]
    },
    {
     "data": {
      "application/vnd.jupyter.widget-view+json": {
       "model_id": "44aae8924bc24b869c8018a1d54d5cee",
       "version_major": 2,
       "version_minor": 0
      },
      "text/plain": [
       "HBox(children=(IntProgress(value=0, max=1280), HTML(value='')))"
      ]
     },
     "metadata": {},
     "output_type": "display_data"
    },
    {
     "name": "stdout",
     "output_type": "stream",
     "text": [
      "\n"
     ]
    },
    {
     "data": {
      "application/vnd.jupyter.widget-view+json": {
       "model_id": "1f960949db954e34870b7c779c016605",
       "version_major": 2,
       "version_minor": 0
      },
      "text/plain": [
       "HBox(children=(IntProgress(value=0, max=1280), HTML(value='')))"
      ]
     },
     "metadata": {},
     "output_type": "display_data"
    },
    {
     "name": "stdout",
     "output_type": "stream",
     "text": [
      "\n"
     ]
    },
    {
     "data": {
      "text/html": [
       "<span style=\"color:#7E57C2\"><h2 style=\"font-size:16px\">Execution 2/2</h2></span>"
      ],
      "text/plain": [
       "<IPython.core.display.HTML object>"
      ]
     },
     "metadata": {},
     "output_type": "display_data"
    },
    {
     "data": {
      "application/vnd.jupyter.widget-view+json": {
       "model_id": "6ed31f9740164e82a25b4cad9e6f7099",
       "version_major": 2,
       "version_minor": 0
      },
      "text/plain": [
       "HBox(children=(IntProgress(value=0, max=1280), HTML(value='')))"
      ]
     },
     "metadata": {},
     "output_type": "display_data"
    },
    {
     "name": "stdout",
     "output_type": "stream",
     "text": [
      "\n"
     ]
    },
    {
     "data": {
      "application/vnd.jupyter.widget-view+json": {
       "model_id": "5ea2bb3755fa477a9cb64e078c8355ec",
       "version_major": 2,
       "version_minor": 0
      },
      "text/plain": [
       "HBox(children=(IntProgress(value=0, max=1280), HTML(value='')))"
      ]
     },
     "metadata": {},
     "output_type": "display_data"
    },
    {
     "name": "stdout",
     "output_type": "stream",
     "text": [
      "\n"
     ]
    },
    {
     "data": {
      "application/vnd.jupyter.widget-view+json": {
       "model_id": "73e6dcff5047432083771305b58bdbe4",
       "version_major": 2,
       "version_minor": 0
      },
      "text/plain": [
       "HBox(children=(IntProgress(value=0, max=1280), HTML(value='')))"
      ]
     },
     "metadata": {},
     "output_type": "display_data"
    },
    {
     "name": "stdout",
     "output_type": "stream",
     "text": [
      "\n"
     ]
    },
    {
     "data": {
      "application/vnd.jupyter.widget-view+json": {
       "model_id": "d65b27647f794a54842bee7ce38eadbc",
       "version_major": 2,
       "version_minor": 0
      },
      "text/plain": [
       "HBox(children=(IntProgress(value=0, max=1280), HTML(value='')))"
      ]
     },
     "metadata": {},
     "output_type": "display_data"
    },
    {
     "name": "stdout",
     "output_type": "stream",
     "text": [
      "\n"
     ]
    },
    {
     "data": {
      "application/vnd.jupyter.widget-view+json": {
       "model_id": "40429062ef6b48b0baa638f368f83b6c",
       "version_major": 2,
       "version_minor": 0
      },
      "text/plain": [
       "HBox(children=(IntProgress(value=0, max=1280), HTML(value='')))"
      ]
     },
     "metadata": {},
     "output_type": "display_data"
    },
    {
     "name": "stderr",
     "output_type": "stream",
     "text": [
      "W0711 10:38:49.651655 139874563942144 callbacks.py:241] Method (on_train_batch_end) is slow compared to the batch update (0.156142). Check your callbacks.\n"
     ]
    },
    {
     "name": "stdout",
     "output_type": "stream",
     "text": [
      "\n"
     ]
    },
    {
     "data": {
      "application/vnd.jupyter.widget-view+json": {
       "model_id": "58df693e2ae04856b9ae919b93d525b5",
       "version_major": 2,
       "version_minor": 0
      },
      "text/plain": [
       "HBox(children=(IntProgress(value=0, max=1280), HTML(value='')))"
      ]
     },
     "metadata": {},
     "output_type": "display_data"
    },
    {
     "name": "stdout",
     "output_type": "stream",
     "text": [
      "\n"
     ]
    },
    {
     "data": {
      "application/vnd.jupyter.widget-view+json": {
       "model_id": "c1d6496f4f01466da01c108087f4dd6f",
       "version_major": 2,
       "version_minor": 0
      },
      "text/plain": [
       "HBox(children=(IntProgress(value=0, max=1280), HTML(value='')))"
      ]
     },
     "metadata": {},
     "output_type": "display_data"
    },
    {
     "name": "stdout",
     "output_type": "stream",
     "text": [
      "\n"
     ]
    },
    {
     "data": {
      "application/vnd.jupyter.widget-view+json": {
       "model_id": "4105f5c59ddb4fe3b0c148c7b062005a",
       "version_major": 2,
       "version_minor": 0
      },
      "text/plain": [
       "HBox(children=(IntProgress(value=0, max=1280), HTML(value='')))"
      ]
     },
     "metadata": {},
     "output_type": "display_data"
    },
    {
     "name": "stdout",
     "output_type": "stream",
     "text": [
      "\n"
     ]
    },
    {
     "data": {
      "application/vnd.jupyter.widget-view+json": {
       "model_id": "a8e7790858b94dc4ab681cb7a11e85b1",
       "version_major": 2,
       "version_minor": 0
      },
      "text/plain": [
       "HBox(children=(IntProgress(value=0, max=1280), HTML(value='')))"
      ]
     },
     "metadata": {},
     "output_type": "display_data"
    },
    {
     "name": "stdout",
     "output_type": "stream",
     "text": [
      "\n"
     ]
    },
    {
     "data": {
      "application/vnd.jupyter.widget-view+json": {
       "model_id": "1b3f75a2bb4d4d89bcdff1beb92a987a",
       "version_major": 2,
       "version_minor": 0
      },
      "text/plain": [
       "HBox(children=(IntProgress(value=0, max=1280), HTML(value='')))"
      ]
     },
     "metadata": {},
     "output_type": "display_data"
    },
    {
     "name": "stdout",
     "output_type": "stream",
     "text": [
      "\n"
     ]
    },
    {
     "data": {
      "text/html": [
       "<table>\n",
       "<thead>\n",
       "<tr><th>Name                                         </th><th>Best model                             </th><th>Current model                          </th></tr>\n",
       "</thead>\n",
       "<tbody>\n",
       "<tr><td>accuracy                                     </td><td>0.9725                                 </td><td>0.9725                                 </td></tr>\n",
       "<tr><td><span style=\"color:green\">val_accuracy</span></td><td><span style=\"color:green\">0.9769</span></td><td><span style=\"color:green\">0.9769</span></td></tr>\n",
       "<tr><td>val_loss                                     </td><td>0.0856                                 </td><td>0.0856                                 </td></tr>\n",
       "<tr><td>loss                                         </td><td>0.096                                  </td><td>0.096                                  </td></tr>\n",
       "</tbody>\n",
       "</table>"
      ],
      "text/plain": [
       "<IPython.core.display.HTML object>"
      ]
     },
     "metadata": {},
     "output_type": "display_data"
    },
    {
     "data": {
      "text/html": [
       "<span style=\"color:#64DD17\"><span style=\"font-size:14px\"><b>3/4 trials left</b></span></span>"
      ],
      "text/plain": [
       "<IPython.core.display.HTML object>"
      ]
     },
     "metadata": {},
     "output_type": "display_data"
    },
    {
     "data": {
      "text/html": [
       "<span style=\"color:#4527A0\"><h1 style=\"font-size:18px\">New model</h1></span>"
      ],
      "text/plain": [
       "<IPython.core.display.HTML object>"
      ]
     },
     "metadata": {},
     "output_type": "display_data"
    },
    {
     "data": {
      "text/html": [
       "<span style=\"color:#4527A0\"><h1 style=\"font-size:18px\">Trial summary</h1></span>"
      ],
      "text/plain": [
       "<IPython.core.display.HTML object>"
      ]
     },
     "metadata": {},
     "output_type": "display_data"
    },
    {
     "data": {
      "text/html": [
       "<span style=\"color:#7E57C2\"><h2 style=\"font-size:16px\">Hp values:</h2></span>"
      ],
      "text/plain": [
       "<IPython.core.display.HTML object>"
      ]
     },
     "metadata": {},
     "output_type": "display_data"
    },
    {
     "data": {
      "text/html": [
       "<span style=\"color:cyan\"> |-learning_rate: 4e-05</span>"
      ],
      "text/plain": [
       "<IPython.core.display.HTML object>"
      ]
     },
     "metadata": {},
     "output_type": "display_data"
    },
    {
     "data": {
      "text/html": [
       "<span style=\"color:blue\"> |-rate: 0.2</span>"
      ],
      "text/plain": [
       "<IPython.core.display.HTML object>"
      ]
     },
     "metadata": {},
     "output_type": "display_data"
    },
    {
     "data": {
      "text/html": [
       "<span style=\"color:#7E57C2\"><h2 style=\"font-size:16px\">Execution 1/2</h2></span>"
      ],
      "text/plain": [
       "<IPython.core.display.HTML object>"
      ]
     },
     "metadata": {},
     "output_type": "display_data"
    },
    {
     "data": {
      "application/vnd.jupyter.widget-view+json": {
       "model_id": "3e8a82a15e6f4d668f0806dfe27be0ad",
       "version_major": 2,
       "version_minor": 0
      },
      "text/plain": [
       "HBox(children=(IntProgress(value=0, max=1280), HTML(value='')))"
      ]
     },
     "metadata": {},
     "output_type": "display_data"
    },
    {
     "name": "stdout",
     "output_type": "stream",
     "text": [
      "\n"
     ]
    },
    {
     "data": {
      "application/vnd.jupyter.widget-view+json": {
       "model_id": "a46e08f4485b4aa79abf33397f860502",
       "version_major": 2,
       "version_minor": 0
      },
      "text/plain": [
       "HBox(children=(IntProgress(value=0, max=1280), HTML(value='')))"
      ]
     },
     "metadata": {},
     "output_type": "display_data"
    },
    {
     "name": "stdout",
     "output_type": "stream",
     "text": [
      "\n"
     ]
    },
    {
     "data": {
      "application/vnd.jupyter.widget-view+json": {
       "model_id": "2661c340270748b28f28cb43b77236c4",
       "version_major": 2,
       "version_minor": 0
      },
      "text/plain": [
       "HBox(children=(IntProgress(value=0, max=1280), HTML(value='')))"
      ]
     },
     "metadata": {},
     "output_type": "display_data"
    },
    {
     "name": "stdout",
     "output_type": "stream",
     "text": [
      "\n"
     ]
    },
    {
     "data": {
      "application/vnd.jupyter.widget-view+json": {
       "model_id": "5570c2bced354244ba1eebd769375de4",
       "version_major": 2,
       "version_minor": 0
      },
      "text/plain": [
       "HBox(children=(IntProgress(value=0, max=1280), HTML(value='')))"
      ]
     },
     "metadata": {},
     "output_type": "display_data"
    },
    {
     "name": "stdout",
     "output_type": "stream",
     "text": [
      "\n"
     ]
    },
    {
     "data": {
      "application/vnd.jupyter.widget-view+json": {
       "model_id": "12b7c6220c9a40688fca76b22e4f9008",
       "version_major": 2,
       "version_minor": 0
      },
      "text/plain": [
       "HBox(children=(IntProgress(value=0, max=1280), HTML(value='')))"
      ]
     },
     "metadata": {},
     "output_type": "display_data"
    },
    {
     "name": "stdout",
     "output_type": "stream",
     "text": [
      "\n"
     ]
    },
    {
     "data": {
      "application/vnd.jupyter.widget-view+json": {
       "model_id": "b014e2f44d41427da90d6efb4f8f384d",
       "version_major": 2,
       "version_minor": 0
      },
      "text/plain": [
       "HBox(children=(IntProgress(value=0, max=1280), HTML(value='')))"
      ]
     },
     "metadata": {},
     "output_type": "display_data"
    },
    {
     "name": "stdout",
     "output_type": "stream",
     "text": [
      "\n"
     ]
    },
    {
     "data": {
      "application/vnd.jupyter.widget-view+json": {
       "model_id": "b086ff1be19f432a8ae7488bd95a2216",
       "version_major": 2,
       "version_minor": 0
      },
      "text/plain": [
       "HBox(children=(IntProgress(value=0, max=1280), HTML(value='')))"
      ]
     },
     "metadata": {},
     "output_type": "display_data"
    },
    {
     "name": "stdout",
     "output_type": "stream",
     "text": [
      "\n"
     ]
    },
    {
     "data": {
      "application/vnd.jupyter.widget-view+json": {
       "model_id": "726a25992fbf4802bddf61e8926b723b",
       "version_major": 2,
       "version_minor": 0
      },
      "text/plain": [
       "HBox(children=(IntProgress(value=0, max=1280), HTML(value='')))"
      ]
     },
     "metadata": {},
     "output_type": "display_data"
    },
    {
     "name": "stdout",
     "output_type": "stream",
     "text": [
      "\n"
     ]
    },
    {
     "data": {
      "application/vnd.jupyter.widget-view+json": {
       "model_id": "6f361dfa30ab41908082202804f34af2",
       "version_major": 2,
       "version_minor": 0
      },
      "text/plain": [
       "HBox(children=(IntProgress(value=0, max=1280), HTML(value='')))"
      ]
     },
     "metadata": {},
     "output_type": "display_data"
    },
    {
     "name": "stdout",
     "output_type": "stream",
     "text": [
      "\n"
     ]
    },
    {
     "data": {
      "application/vnd.jupyter.widget-view+json": {
       "model_id": "1185d8c1c2ec49d2a35540c8fdaefe5c",
       "version_major": 2,
       "version_minor": 0
      },
      "text/plain": [
       "HBox(children=(IntProgress(value=0, max=1280), HTML(value='')))"
      ]
     },
     "metadata": {},
     "output_type": "display_data"
    },
    {
     "name": "stdout",
     "output_type": "stream",
     "text": [
      "\n"
     ]
    },
    {
     "data": {
      "text/html": [
       "<span style=\"color:#7E57C2\"><h2 style=\"font-size:16px\">Execution 2/2</h2></span>"
      ],
      "text/plain": [
       "<IPython.core.display.HTML object>"
      ]
     },
     "metadata": {},
     "output_type": "display_data"
    },
    {
     "data": {
      "application/vnd.jupyter.widget-view+json": {
       "model_id": "a528d33e9c654b37976a8971328f5975",
       "version_major": 2,
       "version_minor": 0
      },
      "text/plain": [
       "HBox(children=(IntProgress(value=0, max=1280), HTML(value='')))"
      ]
     },
     "metadata": {},
     "output_type": "display_data"
    },
    {
     "name": "stdout",
     "output_type": "stream",
     "text": [
      "\n"
     ]
    },
    {
     "data": {
      "application/vnd.jupyter.widget-view+json": {
       "model_id": "1bf82b22f2524f448a6fe9fd2f3ba511",
       "version_major": 2,
       "version_minor": 0
      },
      "text/plain": [
       "HBox(children=(IntProgress(value=0, max=1280), HTML(value='')))"
      ]
     },
     "metadata": {},
     "output_type": "display_data"
    },
    {
     "name": "stdout",
     "output_type": "stream",
     "text": [
      "\n"
     ]
    },
    {
     "data": {
      "application/vnd.jupyter.widget-view+json": {
       "model_id": "38cde0f93eea47de9d4ea4ca337bd694",
       "version_major": 2,
       "version_minor": 0
      },
      "text/plain": [
       "HBox(children=(IntProgress(value=0, max=1280), HTML(value='')))"
      ]
     },
     "metadata": {},
     "output_type": "display_data"
    },
    {
     "name": "stdout",
     "output_type": "stream",
     "text": [
      "\n"
     ]
    },
    {
     "data": {
      "application/vnd.jupyter.widget-view+json": {
       "model_id": "01c9e322da414c1fb4333972d61dab19",
       "version_major": 2,
       "version_minor": 0
      },
      "text/plain": [
       "HBox(children=(IntProgress(value=0, max=1280), HTML(value='')))"
      ]
     },
     "metadata": {},
     "output_type": "display_data"
    },
    {
     "name": "stdout",
     "output_type": "stream",
     "text": [
      "\n"
     ]
    },
    {
     "data": {
      "application/vnd.jupyter.widget-view+json": {
       "model_id": "16ce1ea3b03b4ff7959f4b97c5d72aec",
       "version_major": 2,
       "version_minor": 0
      },
      "text/plain": [
       "HBox(children=(IntProgress(value=0, max=1280), HTML(value='')))"
      ]
     },
     "metadata": {},
     "output_type": "display_data"
    },
    {
     "name": "stdout",
     "output_type": "stream",
     "text": [
      "\n"
     ]
    },
    {
     "data": {
      "application/vnd.jupyter.widget-view+json": {
       "model_id": "c9c9def7f70b4140886dc1c89b717858",
       "version_major": 2,
       "version_minor": 0
      },
      "text/plain": [
       "HBox(children=(IntProgress(value=0, max=1280), HTML(value='')))"
      ]
     },
     "metadata": {},
     "output_type": "display_data"
    },
    {
     "name": "stdout",
     "output_type": "stream",
     "text": [
      "\n"
     ]
    },
    {
     "data": {
      "application/vnd.jupyter.widget-view+json": {
       "model_id": "9ebb520c57074d28a056ab947b0f60e3",
       "version_major": 2,
       "version_minor": 0
      },
      "text/plain": [
       "HBox(children=(IntProgress(value=0, max=1280), HTML(value='')))"
      ]
     },
     "metadata": {},
     "output_type": "display_data"
    },
    {
     "name": "stderr",
     "output_type": "stream",
     "text": [
      "W0711 10:43:28.109876 139874563942144 callbacks.py:241] Method (on_train_batch_end) is slow compared to the batch update (0.119309). Check your callbacks.\n",
      "W0711 10:43:28.129471 139874563942144 callbacks.py:241] Method (on_train_batch_end) is slow compared to the batch update (0.119309). Check your callbacks.\n",
      "W0711 10:43:28.146935 139874563942144 callbacks.py:241] Method (on_train_batch_end) is slow compared to the batch update (0.119309). Check your callbacks.\n",
      "W0711 10:43:28.164630 139874563942144 callbacks.py:241] Method (on_train_batch_end) is slow compared to the batch update (0.119309). Check your callbacks.\n"
     ]
    },
    {
     "name": "stdout",
     "output_type": "stream",
     "text": [
      "\n"
     ]
    },
    {
     "data": {
      "application/vnd.jupyter.widget-view+json": {
       "model_id": "e847f994f3fc46d9b555324d9570f565",
       "version_major": 2,
       "version_minor": 0
      },
      "text/plain": [
       "HBox(children=(IntProgress(value=0, max=1280), HTML(value='')))"
      ]
     },
     "metadata": {},
     "output_type": "display_data"
    },
    {
     "name": "stdout",
     "output_type": "stream",
     "text": [
      "\n"
     ]
    },
    {
     "data": {
      "application/vnd.jupyter.widget-view+json": {
       "model_id": "29b7abff2e6e42199daba189b9979afc",
       "version_major": 2,
       "version_minor": 0
      },
      "text/plain": [
       "HBox(children=(IntProgress(value=0, max=1280), HTML(value='')))"
      ]
     },
     "metadata": {},
     "output_type": "display_data"
    },
    {
     "name": "stdout",
     "output_type": "stream",
     "text": [
      "\n"
     ]
    },
    {
     "data": {
      "application/vnd.jupyter.widget-view+json": {
       "model_id": "d9a76792bc48431a866af92e813545c3",
       "version_major": 2,
       "version_minor": 0
      },
      "text/plain": [
       "HBox(children=(IntProgress(value=0, max=1280), HTML(value='')))"
      ]
     },
     "metadata": {},
     "output_type": "display_data"
    },
    {
     "name": "stdout",
     "output_type": "stream",
     "text": [
      "\n"
     ]
    },
    {
     "data": {
      "text/html": [
       "<table>\n",
       "<thead>\n",
       "<tr><th>Name                                       </th><th>Best model                           </th><th>Current model                        </th></tr>\n",
       "</thead>\n",
       "<tbody>\n",
       "<tr><td>accuracy                                   </td><td>0.9725                               </td><td>0.9707                               </td></tr>\n",
       "<tr><td><span style=\"color:red\">val_accuracy</span></td><td><span style=\"color:red\">0.9769</span></td><td><span style=\"color:red\">0.9765</span></td></tr>\n",
       "<tr><td>val_loss                                   </td><td>0.085                                </td><td>0.085                                </td></tr>\n",
       "<tr><td>loss                                       </td><td>0.096                                </td><td>0.104                                </td></tr>\n",
       "</tbody>\n",
       "</table>"
      ],
      "text/plain": [
       "<IPython.core.display.HTML object>"
      ]
     },
     "metadata": {},
     "output_type": "display_data"
    },
    {
     "data": {
      "text/html": [
       "<span style=\"color:#64DD17\"><span style=\"font-size:14px\"><b>2/4 trials left</b></span></span>"
      ],
      "text/plain": [
       "<IPython.core.display.HTML object>"
      ]
     },
     "metadata": {},
     "output_type": "display_data"
    },
    {
     "data": {
      "text/html": [
       "<span style=\"color:#4527A0\"><h1 style=\"font-size:18px\">New model</h1></span>"
      ],
      "text/plain": [
       "<IPython.core.display.HTML object>"
      ]
     },
     "metadata": {},
     "output_type": "display_data"
    },
    {
     "data": {
      "text/html": [
       "<span style=\"color:#4527A0\"><h1 style=\"font-size:18px\">Trial summary</h1></span>"
      ],
      "text/plain": [
       "<IPython.core.display.HTML object>"
      ]
     },
     "metadata": {},
     "output_type": "display_data"
    },
    {
     "data": {
      "text/html": [
       "<span style=\"color:#7E57C2\"><h2 style=\"font-size:16px\">Hp values:</h2></span>"
      ],
      "text/plain": [
       "<IPython.core.display.HTML object>"
      ]
     },
     "metadata": {},
     "output_type": "display_data"
    },
    {
     "data": {
      "text/html": [
       "<span style=\"color:cyan\"> |-learning_rate: 1e-05</span>"
      ],
      "text/plain": [
       "<IPython.core.display.HTML object>"
      ]
     },
     "metadata": {},
     "output_type": "display_data"
    },
    {
     "data": {
      "text/html": [
       "<span style=\"color:blue\"> |-rate: 0.2</span>"
      ],
      "text/plain": [
       "<IPython.core.display.HTML object>"
      ]
     },
     "metadata": {},
     "output_type": "display_data"
    },
    {
     "data": {
      "text/html": [
       "<span style=\"color:#7E57C2\"><h2 style=\"font-size:16px\">Execution 1/2</h2></span>"
      ],
      "text/plain": [
       "<IPython.core.display.HTML object>"
      ]
     },
     "metadata": {},
     "output_type": "display_data"
    },
    {
     "data": {
      "application/vnd.jupyter.widget-view+json": {
       "model_id": "5d615d69b3e14898bb645f5ac5f6be23",
       "version_major": 2,
       "version_minor": 0
      },
      "text/plain": [
       "HBox(children=(IntProgress(value=0, max=1280), HTML(value='')))"
      ]
     },
     "metadata": {},
     "output_type": "display_data"
    },
    {
     "name": "stdout",
     "output_type": "stream",
     "text": [
      "\n"
     ]
    },
    {
     "data": {
      "application/vnd.jupyter.widget-view+json": {
       "model_id": "6d9a7f7d31c749a59890af4c5b109846",
       "version_major": 2,
       "version_minor": 0
      },
      "text/plain": [
       "HBox(children=(IntProgress(value=0, max=1280), HTML(value='')))"
      ]
     },
     "metadata": {},
     "output_type": "display_data"
    },
    {
     "name": "stderr",
     "output_type": "stream",
     "text": [
      "W0711 10:44:30.771238 139874563942144 callbacks.py:241] Method (on_train_batch_end) is slow compared to the batch update (0.137267). Check your callbacks.\n"
     ]
    },
    {
     "name": "stdout",
     "output_type": "stream",
     "text": [
      "\n"
     ]
    },
    {
     "data": {
      "application/vnd.jupyter.widget-view+json": {
       "model_id": "ea8d88d5e9c246acab3b116b312c50c1",
       "version_major": 2,
       "version_minor": 0
      },
      "text/plain": [
       "HBox(children=(IntProgress(value=0, max=1280), HTML(value='')))"
      ]
     },
     "metadata": {},
     "output_type": "display_data"
    },
    {
     "name": "stdout",
     "output_type": "stream",
     "text": [
      "\n"
     ]
    },
    {
     "data": {
      "application/vnd.jupyter.widget-view+json": {
       "model_id": "583b5864ab3b4721b87f5b87a8b5ee8d",
       "version_major": 2,
       "version_minor": 0
      },
      "text/plain": [
       "HBox(children=(IntProgress(value=0, max=1280), HTML(value='')))"
      ]
     },
     "metadata": {},
     "output_type": "display_data"
    },
    {
     "name": "stdout",
     "output_type": "stream",
     "text": [
      "\n"
     ]
    },
    {
     "data": {
      "application/vnd.jupyter.widget-view+json": {
       "model_id": "c95bcec2f19246d29a1ffdbacaf54776",
       "version_major": 2,
       "version_minor": 0
      },
      "text/plain": [
       "HBox(children=(IntProgress(value=0, max=1280), HTML(value='')))"
      ]
     },
     "metadata": {},
     "output_type": "display_data"
    },
    {
     "name": "stdout",
     "output_type": "stream",
     "text": [
      "\n"
     ]
    },
    {
     "data": {
      "application/vnd.jupyter.widget-view+json": {
       "model_id": "17b4021a5f844a6280e9847ba10e8f2d",
       "version_major": 2,
       "version_minor": 0
      },
      "text/plain": [
       "HBox(children=(IntProgress(value=0, max=1280), HTML(value='')))"
      ]
     },
     "metadata": {},
     "output_type": "display_data"
    },
    {
     "name": "stdout",
     "output_type": "stream",
     "text": [
      "\n"
     ]
    },
    {
     "data": {
      "application/vnd.jupyter.widget-view+json": {
       "model_id": "5c579aafe19043fd98d892689046b02c",
       "version_major": 2,
       "version_minor": 0
      },
      "text/plain": [
       "HBox(children=(IntProgress(value=0, max=1280), HTML(value='')))"
      ]
     },
     "metadata": {},
     "output_type": "display_data"
    },
    {
     "name": "stdout",
     "output_type": "stream",
     "text": [
      "\n"
     ]
    },
    {
     "data": {
      "application/vnd.jupyter.widget-view+json": {
       "model_id": "e3720c0b01fb4f359d2dc0de9b17ded8",
       "version_major": 2,
       "version_minor": 0
      },
      "text/plain": [
       "HBox(children=(IntProgress(value=0, max=1280), HTML(value='')))"
      ]
     },
     "metadata": {},
     "output_type": "display_data"
    },
    {
     "name": "stdout",
     "output_type": "stream",
     "text": [
      "\n"
     ]
    },
    {
     "data": {
      "application/vnd.jupyter.widget-view+json": {
       "model_id": "2fcb86c5029f4387a1159568e164d9c0",
       "version_major": 2,
       "version_minor": 0
      },
      "text/plain": [
       "HBox(children=(IntProgress(value=0, max=1280), HTML(value='')))"
      ]
     },
     "metadata": {},
     "output_type": "display_data"
    },
    {
     "name": "stdout",
     "output_type": "stream",
     "text": [
      "\n"
     ]
    },
    {
     "data": {
      "application/vnd.jupyter.widget-view+json": {
       "model_id": "61d16265949049408dddc99911e56109",
       "version_major": 2,
       "version_minor": 0
      },
      "text/plain": [
       "HBox(children=(IntProgress(value=0, max=1280), HTML(value='')))"
      ]
     },
     "metadata": {},
     "output_type": "display_data"
    },
    {
     "name": "stderr",
     "output_type": "stream",
     "text": [
      "W0711 10:46:42.989434 139874563942144 callbacks.py:241] Method (on_train_batch_end) is slow compared to the batch update (0.222543). Check your callbacks.\n",
      "W0711 10:46:43.028332 139874563942144 callbacks.py:241] Method (on_train_batch_end) is slow compared to the batch update (0.126002). Check your callbacks.\n"
     ]
    },
    {
     "name": "stdout",
     "output_type": "stream",
     "text": [
      "\n"
     ]
    },
    {
     "data": {
      "text/html": [
       "<span style=\"color:#7E57C2\"><h2 style=\"font-size:16px\">Execution 2/2</h2></span>"
      ],
      "text/plain": [
       "<IPython.core.display.HTML object>"
      ]
     },
     "metadata": {},
     "output_type": "display_data"
    },
    {
     "data": {
      "application/vnd.jupyter.widget-view+json": {
       "model_id": "fe08595a849f4d37ba2d8e6054c21690",
       "version_major": 2,
       "version_minor": 0
      },
      "text/plain": [
       "HBox(children=(IntProgress(value=0, max=1280), HTML(value='')))"
      ]
     },
     "metadata": {},
     "output_type": "display_data"
    },
    {
     "name": "stdout",
     "output_type": "stream",
     "text": [
      "\n"
     ]
    },
    {
     "data": {
      "application/vnd.jupyter.widget-view+json": {
       "model_id": "ce7de101548a453d99b3e5ca566acd6a",
       "version_major": 2,
       "version_minor": 0
      },
      "text/plain": [
       "HBox(children=(IntProgress(value=0, max=1280), HTML(value='')))"
      ]
     },
     "metadata": {},
     "output_type": "display_data"
    },
    {
     "name": "stdout",
     "output_type": "stream",
     "text": [
      "\n"
     ]
    },
    {
     "data": {
      "application/vnd.jupyter.widget-view+json": {
       "model_id": "b54a4f6e901a4ad89947b5c53ae2fe1d",
       "version_major": 2,
       "version_minor": 0
      },
      "text/plain": [
       "HBox(children=(IntProgress(value=0, max=1280), HTML(value='')))"
      ]
     },
     "metadata": {},
     "output_type": "display_data"
    },
    {
     "name": "stdout",
     "output_type": "stream",
     "text": [
      "\n"
     ]
    },
    {
     "data": {
      "application/vnd.jupyter.widget-view+json": {
       "model_id": "7f81913f0e7044a9b69203d3e6ada8a5",
       "version_major": 2,
       "version_minor": 0
      },
      "text/plain": [
       "HBox(children=(IntProgress(value=0, max=1280), HTML(value='')))"
      ]
     },
     "metadata": {},
     "output_type": "display_data"
    },
    {
     "name": "stdout",
     "output_type": "stream",
     "text": [
      "\n"
     ]
    },
    {
     "data": {
      "application/vnd.jupyter.widget-view+json": {
       "model_id": "b822161200ec4dbabdb4eec288a67a1a",
       "version_major": 2,
       "version_minor": 0
      },
      "text/plain": [
       "HBox(children=(IntProgress(value=0, max=1280), HTML(value='')))"
      ]
     },
     "metadata": {},
     "output_type": "display_data"
    },
    {
     "name": "stdout",
     "output_type": "stream",
     "text": [
      "\n"
     ]
    },
    {
     "data": {
      "application/vnd.jupyter.widget-view+json": {
       "model_id": "712216f881d0449e8899b69a6dca09f5",
       "version_major": 2,
       "version_minor": 0
      },
      "text/plain": [
       "HBox(children=(IntProgress(value=0, max=1280), HTML(value='')))"
      ]
     },
     "metadata": {},
     "output_type": "display_data"
    },
    {
     "name": "stderr",
     "output_type": "stream",
     "text": [
      "W0711 10:48:46.912892 139874563942144 callbacks.py:241] Method (on_train_batch_end) is slow compared to the batch update (0.137347). Check your callbacks.\n",
      "W0711 10:48:47.057203 139874563942144 callbacks.py:241] Method (on_train_batch_end) is slow compared to the batch update (0.157456). Check your callbacks.\n",
      "W0711 10:48:47.181962 139874563942144 callbacks.py:241] Method (on_train_batch_end) is slow compared to the batch update (0.157456). Check your callbacks.\n",
      "W0711 10:48:47.322173 139874563942144 callbacks.py:241] Method (on_train_batch_end) is slow compared to the batch update (0.157975). Check your callbacks.\n",
      "W0711 10:48:47.491384 139874563942144 callbacks.py:241] Method (on_train_batch_end) is slow compared to the batch update (0.171870). Check your callbacks.\n",
      "W0711 10:48:47.619903 139874563942144 callbacks.py:241] Method (on_train_batch_end) is slow compared to the batch update (0.146793). Check your callbacks.\n",
      "W0711 10:48:47.757087 139874563942144 callbacks.py:241] Method (on_train_batch_end) is slow compared to the batch update (0.132380). Check your callbacks.\n",
      "W0711 10:48:47.874465 139874563942144 callbacks.py:241] Method (on_train_batch_end) is slow compared to the batch update (0.130730). Check your callbacks.\n",
      "W0711 10:48:47.998641 139874563942144 callbacks.py:241] Method (on_train_batch_end) is slow compared to the batch update (0.124701). Check your callbacks.\n",
      "W0711 10:48:48.026426 139874563942144 callbacks.py:241] Method (on_train_batch_end) is slow compared to the batch update (0.124701). Check your callbacks.\n",
      "W0711 10:48:48.049613 139874563942144 callbacks.py:241] Method (on_train_batch_end) is slow compared to the batch update (0.118323). Check your callbacks.\n",
      "W0711 10:48:48.067902 139874563942144 callbacks.py:241] Method (on_train_batch_end) is slow compared to the batch update (0.116823). Check your callbacks.\n",
      "W0711 10:48:48.082764 139874563942144 callbacks.py:241] Method (on_train_batch_end) is slow compared to the batch update (0.113296). Check your callbacks.\n"
     ]
    },
    {
     "name": "stdout",
     "output_type": "stream",
     "text": [
      "\n"
     ]
    },
    {
     "data": {
      "application/vnd.jupyter.widget-view+json": {
       "model_id": "a3b9c56d343a42dd956bf52ebe07d332",
       "version_major": 2,
       "version_minor": 0
      },
      "text/plain": [
       "HBox(children=(IntProgress(value=0, max=1280), HTML(value='')))"
      ]
     },
     "metadata": {},
     "output_type": "display_data"
    },
    {
     "name": "stdout",
     "output_type": "stream",
     "text": [
      "\n"
     ]
    },
    {
     "data": {
      "application/vnd.jupyter.widget-view+json": {
       "model_id": "c5da54aa39394e0399ffbc2f9be966b7",
       "version_major": 2,
       "version_minor": 0
      },
      "text/plain": [
       "HBox(children=(IntProgress(value=0, max=1280), HTML(value='')))"
      ]
     },
     "metadata": {},
     "output_type": "display_data"
    },
    {
     "name": "stdout",
     "output_type": "stream",
     "text": [
      "\n"
     ]
    },
    {
     "data": {
      "application/vnd.jupyter.widget-view+json": {
       "model_id": "ec705506bdcf4f22b37cbbbabcaba501",
       "version_major": 2,
       "version_minor": 0
      },
      "text/plain": [
       "HBox(children=(IntProgress(value=0, max=1280), HTML(value='')))"
      ]
     },
     "metadata": {},
     "output_type": "display_data"
    },
    {
     "name": "stdout",
     "output_type": "stream",
     "text": [
      "\n"
     ]
    },
    {
     "data": {
      "application/vnd.jupyter.widget-view+json": {
       "model_id": "41ffb35425f543128c61b784bc57ef83",
       "version_major": 2,
       "version_minor": 0
      },
      "text/plain": [
       "HBox(children=(IntProgress(value=0, max=1280), HTML(value='')))"
      ]
     },
     "metadata": {},
     "output_type": "display_data"
    },
    {
     "name": "stdout",
     "output_type": "stream",
     "text": [
      "\n"
     ]
    },
    {
     "data": {
      "text/html": [
       "<table>\n",
       "<thead>\n",
       "<tr><th>Name                                       </th><th>Best model                           </th><th>Current model                        </th></tr>\n",
       "</thead>\n",
       "<tbody>\n",
       "<tr><td>accuracy                                   </td><td>0.9725                               </td><td>0.9634                               </td></tr>\n",
       "<tr><td><span style=\"color:red\">val_accuracy</span></td><td><span style=\"color:red\">0.9769</span></td><td><span style=\"color:red\">0.9735</span></td></tr>\n",
       "<tr><td>val_loss                                   </td><td>0.085                                </td><td>0.0982                               </td></tr>\n",
       "<tr><td>loss                                       </td><td>0.096                                </td><td>0.1293                               </td></tr>\n",
       "</tbody>\n",
       "</table>"
      ],
      "text/plain": [
       "<IPython.core.display.HTML object>"
      ]
     },
     "metadata": {},
     "output_type": "display_data"
    },
    {
     "data": {
      "text/html": [
       "<span style=\"color:#64DD17\"><span style=\"font-size:14px\"><b>1/4 trials left</b></span></span>"
      ],
      "text/plain": [
       "<IPython.core.display.HTML object>"
      ]
     },
     "metadata": {},
     "output_type": "display_data"
    },
    {
     "data": {
      "text/html": [
       "<span style=\"color:#4527A0\"><h1 style=\"font-size:18px\">New model</h1></span>"
      ],
      "text/plain": [
       "<IPython.core.display.HTML object>"
      ]
     },
     "metadata": {},
     "output_type": "display_data"
    },
    {
     "data": {
      "text/html": [
       "<span style=\"color:#4527A0\"><h1 style=\"font-size:18px\">Trial summary</h1></span>"
      ],
      "text/plain": [
       "<IPython.core.display.HTML object>"
      ]
     },
     "metadata": {},
     "output_type": "display_data"
    },
    {
     "data": {
      "text/html": [
       "<span style=\"color:#7E57C2\"><h2 style=\"font-size:16px\">Hp values:</h2></span>"
      ],
      "text/plain": [
       "<IPython.core.display.HTML object>"
      ]
     },
     "metadata": {},
     "output_type": "display_data"
    },
    {
     "data": {
      "text/html": [
       "<span style=\"color:cyan\"> |-learning_rate: 1e-05</span>"
      ],
      "text/plain": [
       "<IPython.core.display.HTML object>"
      ]
     },
     "metadata": {},
     "output_type": "display_data"
    },
    {
     "data": {
      "text/html": [
       "<span style=\"color:blue\"> |-rate: 0.4</span>"
      ],
      "text/plain": [
       "<IPython.core.display.HTML object>"
      ]
     },
     "metadata": {},
     "output_type": "display_data"
    },
    {
     "data": {
      "text/html": [
       "<span style=\"color:#7E57C2\"><h2 style=\"font-size:16px\">Execution 1/2</h2></span>"
      ],
      "text/plain": [
       "<IPython.core.display.HTML object>"
      ]
     },
     "metadata": {},
     "output_type": "display_data"
    },
    {
     "data": {
      "application/vnd.jupyter.widget-view+json": {
       "model_id": "af8b3830fb684cfc91e72ac4eaeea35f",
       "version_major": 2,
       "version_minor": 0
      },
      "text/plain": [
       "HBox(children=(IntProgress(value=0, max=1280), HTML(value='')))"
      ]
     },
     "metadata": {},
     "output_type": "display_data"
    },
    {
     "name": "stdout",
     "output_type": "stream",
     "text": [
      "\n"
     ]
    },
    {
     "data": {
      "application/vnd.jupyter.widget-view+json": {
       "model_id": "97ddb9edb3ad4e1b8f5f1c9d7703b824",
       "version_major": 2,
       "version_minor": 0
      },
      "text/plain": [
       "HBox(children=(IntProgress(value=0, max=1280), HTML(value='')))"
      ]
     },
     "metadata": {},
     "output_type": "display_data"
    },
    {
     "name": "stdout",
     "output_type": "stream",
     "text": [
      "\n"
     ]
    },
    {
     "data": {
      "application/vnd.jupyter.widget-view+json": {
       "model_id": "c1117b8bef1a42df9c55860db2c4589f",
       "version_major": 2,
       "version_minor": 0
      },
      "text/plain": [
       "HBox(children=(IntProgress(value=0, max=1280), HTML(value='')))"
      ]
     },
     "metadata": {},
     "output_type": "display_data"
    },
    {
     "name": "stdout",
     "output_type": "stream",
     "text": [
      "\n"
     ]
    },
    {
     "data": {
      "application/vnd.jupyter.widget-view+json": {
       "model_id": "b2509d70259e4db794caa6a35ea34b29",
       "version_major": 2,
       "version_minor": 0
      },
      "text/plain": [
       "HBox(children=(IntProgress(value=0, max=1280), HTML(value='')))"
      ]
     },
     "metadata": {},
     "output_type": "display_data"
    },
    {
     "name": "stdout",
     "output_type": "stream",
     "text": [
      "\n"
     ]
    },
    {
     "data": {
      "application/vnd.jupyter.widget-view+json": {
       "model_id": "2e249d96d81540cf8b1391431275b3b7",
       "version_major": 2,
       "version_minor": 0
      },
      "text/plain": [
       "HBox(children=(IntProgress(value=0, max=1280), HTML(value='')))"
      ]
     },
     "metadata": {},
     "output_type": "display_data"
    },
    {
     "name": "stdout",
     "output_type": "stream",
     "text": [
      "\n"
     ]
    },
    {
     "data": {
      "application/vnd.jupyter.widget-view+json": {
       "model_id": "32128b4730c348bfa9ad6467efcf4b1e",
       "version_major": 2,
       "version_minor": 0
      },
      "text/plain": [
       "HBox(children=(IntProgress(value=0, max=1280), HTML(value='')))"
      ]
     },
     "metadata": {},
     "output_type": "display_data"
    },
    {
     "name": "stdout",
     "output_type": "stream",
     "text": [
      "\n"
     ]
    },
    {
     "data": {
      "application/vnd.jupyter.widget-view+json": {
       "model_id": "d544232df4f5440dade76fbc99215ca7",
       "version_major": 2,
       "version_minor": 0
      },
      "text/plain": [
       "HBox(children=(IntProgress(value=0, max=1280), HTML(value='')))"
      ]
     },
     "metadata": {},
     "output_type": "display_data"
    },
    {
     "name": "stdout",
     "output_type": "stream",
     "text": [
      "\n"
     ]
    },
    {
     "data": {
      "application/vnd.jupyter.widget-view+json": {
       "model_id": "4265617a30404e2e9e7b1479935cc222",
       "version_major": 2,
       "version_minor": 0
      },
      "text/plain": [
       "HBox(children=(IntProgress(value=0, max=1280), HTML(value='')))"
      ]
     },
     "metadata": {},
     "output_type": "display_data"
    },
    {
     "name": "stdout",
     "output_type": "stream",
     "text": [
      "\n"
     ]
    },
    {
     "data": {
      "application/vnd.jupyter.widget-view+json": {
       "model_id": "4cf6f2eb8e744828a0757ee911723188",
       "version_major": 2,
       "version_minor": 0
      },
      "text/plain": [
       "HBox(children=(IntProgress(value=0, max=1280), HTML(value='')))"
      ]
     },
     "metadata": {},
     "output_type": "display_data"
    },
    {
     "name": "stdout",
     "output_type": "stream",
     "text": [
      "\n"
     ]
    },
    {
     "data": {
      "application/vnd.jupyter.widget-view+json": {
       "model_id": "fc4bd122d78d43efb611464715b705ce",
       "version_major": 2,
       "version_minor": 0
      },
      "text/plain": [
       "HBox(children=(IntProgress(value=0, max=1280), HTML(value='')))"
      ]
     },
     "metadata": {},
     "output_type": "display_data"
    },
    {
     "name": "stdout",
     "output_type": "stream",
     "text": [
      "\n"
     ]
    },
    {
     "data": {
      "text/html": [
       "<span style=\"color:#7E57C2\"><h2 style=\"font-size:16px\">Execution 2/2</h2></span>"
      ],
      "text/plain": [
       "<IPython.core.display.HTML object>"
      ]
     },
     "metadata": {},
     "output_type": "display_data"
    },
    {
     "data": {
      "application/vnd.jupyter.widget-view+json": {
       "model_id": "a6cdefb747ea4bb0b22dea1c5ffd7bae",
       "version_major": 2,
       "version_minor": 0
      },
      "text/plain": [
       "HBox(children=(IntProgress(value=0, max=1280), HTML(value='')))"
      ]
     },
     "metadata": {},
     "output_type": "display_data"
    },
    {
     "name": "stdout",
     "output_type": "stream",
     "text": [
      "\n"
     ]
    },
    {
     "data": {
      "application/vnd.jupyter.widget-view+json": {
       "model_id": "56e2bfc7560546d2b9fce566e6f6eaaf",
       "version_major": 2,
       "version_minor": 0
      },
      "text/plain": [
       "HBox(children=(IntProgress(value=0, max=1280), HTML(value='')))"
      ]
     },
     "metadata": {},
     "output_type": "display_data"
    },
    {
     "name": "stdout",
     "output_type": "stream",
     "text": [
      "\n"
     ]
    },
    {
     "data": {
      "application/vnd.jupyter.widget-view+json": {
       "model_id": "1e396e1669fb4a43aab2b45495845f05",
       "version_major": 2,
       "version_minor": 0
      },
      "text/plain": [
       "HBox(children=(IntProgress(value=0, max=1280), HTML(value='')))"
      ]
     },
     "metadata": {},
     "output_type": "display_data"
    },
    {
     "name": "stdout",
     "output_type": "stream",
     "text": [
      "\n"
     ]
    },
    {
     "data": {
      "application/vnd.jupyter.widget-view+json": {
       "model_id": "e7c82a94939f4fd1b4895d0fb49adc47",
       "version_major": 2,
       "version_minor": 0
      },
      "text/plain": [
       "HBox(children=(IntProgress(value=0, max=1280), HTML(value='')))"
      ]
     },
     "metadata": {},
     "output_type": "display_data"
    },
    {
     "name": "stdout",
     "output_type": "stream",
     "text": [
      "\n"
     ]
    },
    {
     "data": {
      "application/vnd.jupyter.widget-view+json": {
       "model_id": "ec825fa641ad4196beab51e9634fce8c",
       "version_major": 2,
       "version_minor": 0
      },
      "text/plain": [
       "HBox(children=(IntProgress(value=0, max=1280), HTML(value='')))"
      ]
     },
     "metadata": {},
     "output_type": "display_data"
    },
    {
     "name": "stdout",
     "output_type": "stream",
     "text": [
      "\n"
     ]
    },
    {
     "data": {
      "application/vnd.jupyter.widget-view+json": {
       "model_id": "654d4de1049f438ca27f38fe48215378",
       "version_major": 2,
       "version_minor": 0
      },
      "text/plain": [
       "HBox(children=(IntProgress(value=0, max=1280), HTML(value='')))"
      ]
     },
     "metadata": {},
     "output_type": "display_data"
    },
    {
     "name": "stdout",
     "output_type": "stream",
     "text": [
      "\n"
     ]
    },
    {
     "data": {
      "application/vnd.jupyter.widget-view+json": {
       "model_id": "ff156f8a60ba4e9e8e920d91d4d780a0",
       "version_major": 2,
       "version_minor": 0
      },
      "text/plain": [
       "HBox(children=(IntProgress(value=0, max=1280), HTML(value='')))"
      ]
     },
     "metadata": {},
     "output_type": "display_data"
    },
    {
     "name": "stdout",
     "output_type": "stream",
     "text": [
      "\n"
     ]
    },
    {
     "data": {
      "application/vnd.jupyter.widget-view+json": {
       "model_id": "a42f5965114142a289cf5404034779ab",
       "version_major": 2,
       "version_minor": 0
      },
      "text/plain": [
       "HBox(children=(IntProgress(value=0, max=1280), HTML(value='')))"
      ]
     },
     "metadata": {},
     "output_type": "display_data"
    },
    {
     "name": "stdout",
     "output_type": "stream",
     "text": [
      "\n"
     ]
    },
    {
     "data": {
      "application/vnd.jupyter.widget-view+json": {
       "model_id": "524ef9f771584482b2379a36c2fd8674",
       "version_major": 2,
       "version_minor": 0
      },
      "text/plain": [
       "HBox(children=(IntProgress(value=0, max=1280), HTML(value='')))"
      ]
     },
     "metadata": {},
     "output_type": "display_data"
    },
    {
     "name": "stdout",
     "output_type": "stream",
     "text": [
      "\n"
     ]
    },
    {
     "data": {
      "application/vnd.jupyter.widget-view+json": {
       "model_id": "3044cef953bb4bcb833bcb6360b05f72",
       "version_major": 2,
       "version_minor": 0
      },
      "text/plain": [
       "HBox(children=(IntProgress(value=0, max=1280), HTML(value='')))"
      ]
     },
     "metadata": {},
     "output_type": "display_data"
    },
    {
     "name": "stdout",
     "output_type": "stream",
     "text": [
      "\n"
     ]
    },
    {
     "data": {
      "text/html": [
       "<table>\n",
       "<thead>\n",
       "<tr><th>Name                                       </th><th>Best model                           </th><th>Current model                        </th></tr>\n",
       "</thead>\n",
       "<tbody>\n",
       "<tr><td>accuracy                                   </td><td>0.9725                               </td><td>0.962                                </td></tr>\n",
       "<tr><td><span style=\"color:red\">val_accuracy</span></td><td><span style=\"color:red\">0.9769</span></td><td><span style=\"color:red\">0.9722</span></td></tr>\n",
       "<tr><td>val_loss                                   </td><td>0.085                                </td><td>0.1023                               </td></tr>\n",
       "<tr><td>loss                                       </td><td>0.096                                </td><td>0.1375                               </td></tr>\n",
       "</tbody>\n",
       "</table>"
      ],
      "text/plain": [
       "<IPython.core.display.HTML object>"
      ]
     },
     "metadata": {},
     "output_type": "display_data"
    },
    {
     "data": {
      "text/html": [
       "<span style=\"color:#64DD17\"><span style=\"font-size:14px\"><b>Hypertuning complete - results in kerastunerlogs/Vazios</b></span></span>"
      ],
      "text/plain": [
       "<IPython.core.display.HTML object>"
      ]
     },
     "metadata": {},
     "output_type": "display_data"
    }
   ],
   "source": [
    "tuner.search(x=features_train,\n",
    "             y=y_train,\n",
    "             epochs=10,\n",
    "             validation_data=(features_test, y_test),\n",
    "            )"
   ]
  },
  {
   "cell_type": "code",
   "execution_count": 30,
   "metadata": {},
   "outputs": [
    {
     "data": {
      "text/html": [
       "<span style=\"color:#4527A0\"><h1 style=\"font-size:18px\">Results summary</h1></span>"
      ],
      "text/plain": [
       "<IPython.core.display.HTML object>"
      ]
     },
     "metadata": {},
     "output_type": "display_data"
    },
    {
     "data": {
      "text/html": [
       "<span style=\"color:cyan\"> |-Results in kerastunerlogs/Vazios</span>"
      ],
      "text/plain": [
       "<IPython.core.display.HTML object>"
      ]
     },
     "metadata": {},
     "output_type": "display_data"
    },
    {
     "data": {
      "text/html": [
       "<span style=\"color:cyan\"> |-Ran 4 trials</span>"
      ],
      "text/plain": [
       "<IPython.core.display.HTML object>"
      ]
     },
     "metadata": {},
     "output_type": "display_data"
    },
    {
     "data": {
      "text/html": [
       "<span style=\"color:cyan\"> |-Ran 8 executions (2 per trial)</span>"
      ],
      "text/plain": [
       "<IPython.core.display.HTML object>"
      ]
     },
     "metadata": {},
     "output_type": "display_data"
    },
    {
     "data": {
      "text/html": [
       "<span style=\"color:cyan\"> |-Best val_accuracy: 0.9769</span>"
      ],
      "text/plain": [
       "<IPython.core.display.HTML object>"
      ]
     },
     "metadata": {},
     "output_type": "display_data"
    }
   ],
   "source": [
    "tuner.results_summary()"
   ]
  },
  {
   "cell_type": "markdown",
   "metadata": {},
   "source": [
    "# Tuner - Teste com AvgPool"
   ]
  },
  {
   "cell_type": "code",
   "execution_count": 31,
   "metadata": {},
   "outputs": [
    {
     "data": {
      "text/html": [
       "<span style=\"color:#4527A0\"><h1 style=\"font-size:18px\">New model</h1></span>"
      ],
      "text/plain": [
       "<IPython.core.display.HTML object>"
      ]
     },
     "metadata": {},
     "output_type": "display_data"
    },
    {
     "data": {
      "text/html": [
       "<span style=\"color:#4527A0\"><h1 style=\"font-size:18px\">Trial summary</h1></span>"
      ],
      "text/plain": [
       "<IPython.core.display.HTML object>"
      ]
     },
     "metadata": {},
     "output_type": "display_data"
    },
    {
     "data": {
      "text/html": [
       "<span style=\"color:#7E57C2\"><h2 style=\"font-size:16px\">Hp values:</h2></span>"
      ],
      "text/plain": [
       "<IPython.core.display.HTML object>"
      ]
     },
     "metadata": {},
     "output_type": "display_data"
    },
    {
     "data": {
      "text/html": [
       "<span style=\"color:cyan\"> |-learning_rate: 4e-05</span>"
      ],
      "text/plain": [
       "<IPython.core.display.HTML object>"
      ]
     },
     "metadata": {},
     "output_type": "display_data"
    },
    {
     "data": {
      "text/html": [
       "<span style=\"color:blue\"> |-rate: 0.4</span>"
      ],
      "text/plain": [
       "<IPython.core.display.HTML object>"
      ]
     },
     "metadata": {},
     "output_type": "display_data"
    },
    {
     "data": {
      "text/html": [
       "<span style=\"color:#7E57C2\"><h2 style=\"font-size:16px\">Execution 1/2</h2></span>"
      ],
      "text/plain": [
       "<IPython.core.display.HTML object>"
      ]
     },
     "metadata": {},
     "output_type": "display_data"
    },
    {
     "data": {
      "application/vnd.jupyter.widget-view+json": {
       "model_id": "acc37474676c41a69b62d959dbed54f8",
       "version_major": 2,
       "version_minor": 0
      },
      "text/plain": [
       "HBox(children=(IntProgress(value=0, max=1280), HTML(value='')))"
      ]
     },
     "metadata": {},
     "output_type": "display_data"
    },
    {
     "name": "stderr",
     "output_type": "stream",
     "text": [
      "W0711 10:57:56.335516 139874563942144 callbacks.py:241] Method (on_train_batch_end) is slow compared to the batch update (0.117355). Check your callbacks.\n",
      "W0711 10:57:56.358429 139874563942144 callbacks.py:241] Method (on_train_batch_end) is slow compared to the batch update (0.117355). Check your callbacks.\n",
      "W0711 10:57:56.461843 139874563942144 callbacks.py:241] Method (on_train_batch_end) is slow compared to the batch update (0.117355). Check your callbacks.\n",
      "W0711 10:57:56.586942 139874563942144 callbacks.py:241] Method (on_train_batch_end) is slow compared to the batch update (0.121989). Check your callbacks.\n",
      "W0711 10:57:56.638264 139874563942144 callbacks.py:241] Method (on_train_batch_end) is slow compared to the batch update (0.121989). Check your callbacks.\n",
      "W0711 10:57:56.661169 139874563942144 callbacks.py:241] Method (on_train_batch_end) is slow compared to the batch update (0.121989). Check your callbacks.\n",
      "W0711 10:57:56.780300 139874563942144 callbacks.py:241] Method (on_train_batch_end) is slow compared to the batch update (0.116439). Check your callbacks.\n",
      "W0711 10:57:56.885229 139874563942144 callbacks.py:241] Method (on_train_batch_end) is slow compared to the batch update (0.106412). Check your callbacks.\n",
      "W0711 10:57:57.418838 139874563942144 callbacks.py:241] Method (on_train_batch_end) is slow compared to the batch update (0.106412). Check your callbacks.\n",
      "W0711 10:57:57.705025 139874563942144 callbacks.py:241] Method (on_train_batch_end) is slow compared to the batch update (0.106412). Check your callbacks.\n",
      "W0711 10:57:57.921012 139874563942144 callbacks.py:241] Method (on_train_batch_end) is slow compared to the batch update (0.115850). Check your callbacks.\n",
      "W0711 10:57:57.963384 139874563942144 callbacks.py:241] Method (on_train_batch_end) is slow compared to the batch update (0.115850). Check your callbacks.\n",
      "W0711 10:57:57.993691 139874563942144 callbacks.py:241] Method (on_train_batch_end) is slow compared to the batch update (0.108889). Check your callbacks.\n"
     ]
    },
    {
     "name": "stdout",
     "output_type": "stream",
     "text": [
      "\n"
     ]
    },
    {
     "data": {
      "application/vnd.jupyter.widget-view+json": {
       "model_id": "472b97f884c54ad1ba2367e69bbc7b4e",
       "version_major": 2,
       "version_minor": 0
      },
      "text/plain": [
       "HBox(children=(IntProgress(value=0, max=1280), HTML(value='')))"
      ]
     },
     "metadata": {},
     "output_type": "display_data"
    },
    {
     "name": "stderr",
     "output_type": "stream",
     "text": [
      "W0711 10:58:03.945088 139874563942144 callbacks.py:241] Method (on_train_batch_end) is slow compared to the batch update (0.121260). Check your callbacks.\n",
      "W0711 10:58:04.076936 139874563942144 callbacks.py:241] Method (on_train_batch_end) is slow compared to the batch update (0.107612). Check your callbacks.\n",
      "W0711 10:58:04.195679 139874563942144 callbacks.py:241] Method (on_train_batch_end) is slow compared to the batch update (0.110261). Check your callbacks.\n",
      "W0711 10:58:04.218309 139874563942144 callbacks.py:241] Method (on_train_batch_end) is slow compared to the batch update (0.107612). Check your callbacks.\n",
      "W0711 10:58:04.369776 139874563942144 callbacks.py:241] Method (on_train_batch_end) is slow compared to the batch update (0.107612). Check your callbacks.\n"
     ]
    },
    {
     "name": "stdout",
     "output_type": "stream",
     "text": [
      "\n"
     ]
    },
    {
     "data": {
      "application/vnd.jupyter.widget-view+json": {
       "model_id": "60c68b64aabd4d2082081bcd649a1477",
       "version_major": 2,
       "version_minor": 0
      },
      "text/plain": [
       "HBox(children=(IntProgress(value=0, max=1280), HTML(value='')))"
      ]
     },
     "metadata": {},
     "output_type": "display_data"
    },
    {
     "name": "stdout",
     "output_type": "stream",
     "text": [
      "\n"
     ]
    },
    {
     "data": {
      "application/vnd.jupyter.widget-view+json": {
       "model_id": "d48fc0ecca1e44cdb6c28f08d99c80ca",
       "version_major": 2,
       "version_minor": 0
      },
      "text/plain": [
       "HBox(children=(IntProgress(value=0, max=1280), HTML(value='')))"
      ]
     },
     "metadata": {},
     "output_type": "display_data"
    },
    {
     "name": "stdout",
     "output_type": "stream",
     "text": [
      "\n"
     ]
    },
    {
     "data": {
      "application/vnd.jupyter.widget-view+json": {
       "model_id": "75f11bad6f1e4b579fbfe883d441b035",
       "version_major": 2,
       "version_minor": 0
      },
      "text/plain": [
       "HBox(children=(IntProgress(value=0, max=1280), HTML(value='')))"
      ]
     },
     "metadata": {},
     "output_type": "display_data"
    },
    {
     "name": "stdout",
     "output_type": "stream",
     "text": [
      "\n"
     ]
    },
    {
     "data": {
      "application/vnd.jupyter.widget-view+json": {
       "model_id": "60d01414bbf34fd7b0e0bf9a18f7b027",
       "version_major": 2,
       "version_minor": 0
      },
      "text/plain": [
       "HBox(children=(IntProgress(value=0, max=1280), HTML(value='')))"
      ]
     },
     "metadata": {},
     "output_type": "display_data"
    },
    {
     "name": "stdout",
     "output_type": "stream",
     "text": [
      "\n"
     ]
    },
    {
     "data": {
      "application/vnd.jupyter.widget-view+json": {
       "model_id": "169ba0f434bf4bbf8ceddbdb7590a09c",
       "version_major": 2,
       "version_minor": 0
      },
      "text/plain": [
       "HBox(children=(IntProgress(value=0, max=1280), HTML(value='')))"
      ]
     },
     "metadata": {},
     "output_type": "display_data"
    },
    {
     "name": "stdout",
     "output_type": "stream",
     "text": [
      "\n"
     ]
    },
    {
     "data": {
      "application/vnd.jupyter.widget-view+json": {
       "model_id": "7945e5b60de6433fa4decd925989ebce",
       "version_major": 2,
       "version_minor": 0
      },
      "text/plain": [
       "HBox(children=(IntProgress(value=0, max=1280), HTML(value='')))"
      ]
     },
     "metadata": {},
     "output_type": "display_data"
    },
    {
     "name": "stdout",
     "output_type": "stream",
     "text": [
      "\n"
     ]
    },
    {
     "data": {
      "application/vnd.jupyter.widget-view+json": {
       "model_id": "f97f4836ef414fe6ad04e757b43c61b5",
       "version_major": 2,
       "version_minor": 0
      },
      "text/plain": [
       "HBox(children=(IntProgress(value=0, max=1280), HTML(value='')))"
      ]
     },
     "metadata": {},
     "output_type": "display_data"
    },
    {
     "name": "stdout",
     "output_type": "stream",
     "text": [
      "\n"
     ]
    },
    {
     "data": {
      "application/vnd.jupyter.widget-view+json": {
       "model_id": "b59546e4b31a4af0a2a29dcdb6e0950b",
       "version_major": 2,
       "version_minor": 0
      },
      "text/plain": [
       "HBox(children=(IntProgress(value=0, max=1280), HTML(value='')))"
      ]
     },
     "metadata": {},
     "output_type": "display_data"
    },
    {
     "name": "stdout",
     "output_type": "stream",
     "text": [
      "\n"
     ]
    },
    {
     "data": {
      "text/html": [
       "<span style=\"color:#7E57C2\"><h2 style=\"font-size:16px\">Execution 2/2</h2></span>"
      ],
      "text/plain": [
       "<IPython.core.display.HTML object>"
      ]
     },
     "metadata": {},
     "output_type": "display_data"
    },
    {
     "data": {
      "application/vnd.jupyter.widget-view+json": {
       "model_id": "25f8b79263ed4a0980f5dcb94b5ca13e",
       "version_major": 2,
       "version_minor": 0
      },
      "text/plain": [
       "HBox(children=(IntProgress(value=0, max=1280), HTML(value='')))"
      ]
     },
     "metadata": {},
     "output_type": "display_data"
    },
    {
     "name": "stderr",
     "output_type": "stream",
     "text": [
      "W0711 11:01:53.845341 139874563942144 callbacks.py:241] Method (on_train_batch_end) is slow compared to the batch update (0.103318). Check your callbacks.\n",
      "W0711 11:01:53.867009 139874563942144 callbacks.py:241] Method (on_train_batch_end) is slow compared to the batch update (0.103318). Check your callbacks.\n",
      "W0711 11:01:53.892662 139874563942144 callbacks.py:241] Method (on_train_batch_end) is slow compared to the batch update (0.105550). Check your callbacks.\n",
      "W0711 11:01:53.923131 139874563942144 callbacks.py:241] Method (on_train_batch_end) is slow compared to the batch update (0.107287). Check your callbacks.\n",
      "W0711 11:01:53.943017 139874563942144 callbacks.py:241] Method (on_train_batch_end) is slow compared to the batch update (0.107287). Check your callbacks.\n",
      "W0711 11:01:53.965296 139874563942144 callbacks.py:241] Method (on_train_batch_end) is slow compared to the batch update (0.107287). Check your callbacks.\n"
     ]
    },
    {
     "name": "stdout",
     "output_type": "stream",
     "text": [
      "\n"
     ]
    },
    {
     "data": {
      "application/vnd.jupyter.widget-view+json": {
       "model_id": "0fe39c467e944dfbb05d2d4170226d9e",
       "version_major": 2,
       "version_minor": 0
      },
      "text/plain": [
       "HBox(children=(IntProgress(value=0, max=1280), HTML(value='')))"
      ]
     },
     "metadata": {},
     "output_type": "display_data"
    },
    {
     "name": "stdout",
     "output_type": "stream",
     "text": [
      "\n"
     ]
    },
    {
     "data": {
      "application/vnd.jupyter.widget-view+json": {
       "model_id": "3af9a9ceaec943a9bf50631f5a795692",
       "version_major": 2,
       "version_minor": 0
      },
      "text/plain": [
       "HBox(children=(IntProgress(value=0, max=1280), HTML(value='')))"
      ]
     },
     "metadata": {},
     "output_type": "display_data"
    },
    {
     "name": "stdout",
     "output_type": "stream",
     "text": [
      "\n"
     ]
    },
    {
     "data": {
      "application/vnd.jupyter.widget-view+json": {
       "model_id": "b59424c82db14c8bb49e0f583c649f1a",
       "version_major": 2,
       "version_minor": 0
      },
      "text/plain": [
       "HBox(children=(IntProgress(value=0, max=1280), HTML(value='')))"
      ]
     },
     "metadata": {},
     "output_type": "display_data"
    },
    {
     "name": "stderr",
     "output_type": "stream",
     "text": [
      "W0711 11:03:12.925754 139874563942144 callbacks.py:241] Method (on_train_batch_end) is slow compared to the batch update (0.104201). Check your callbacks.\n",
      "W0711 11:03:13.281525 139874563942144 callbacks.py:241] Method (on_train_batch_end) is slow compared to the batch update (0.123613). Check your callbacks.\n",
      "W0711 11:03:13.498928 139874563942144 callbacks.py:241] Method (on_train_batch_end) is slow compared to the batch update (0.149945). Check your callbacks.\n",
      "W0711 11:03:13.623450 139874563942144 callbacks.py:241] Method (on_train_batch_end) is slow compared to the batch update (0.149945). Check your callbacks.\n",
      "W0711 11:03:13.827644 139874563942144 callbacks.py:241] Method (on_train_batch_end) is slow compared to the batch update (0.179289). Check your callbacks.\n",
      "W0711 11:03:14.034577 139874563942144 callbacks.py:241] Method (on_train_batch_end) is slow compared to the batch update (0.190520). Check your callbacks.\n",
      "W0711 11:03:14.133625 139874563942144 callbacks.py:241] Method (on_train_batch_end) is slow compared to the batch update (0.187301). Check your callbacks.\n",
      "W0711 11:03:14.355458 139874563942144 callbacks.py:241] Method (on_train_batch_end) is slow compared to the batch update (0.199289). Check your callbacks.\n",
      "W0711 11:03:14.549424 139874563942144 callbacks.py:241] Method (on_train_batch_end) is slow compared to the batch update (0.199289). Check your callbacks.\n",
      "W0711 11:03:14.780410 139874563942144 callbacks.py:241] Method (on_train_batch_end) is slow compared to the batch update (0.199832). Check your callbacks.\n",
      "W0711 11:03:15.046502 139874563942144 callbacks.py:241] Method (on_train_batch_end) is slow compared to the batch update (0.206365). Check your callbacks.\n",
      "W0711 11:03:15.195679 139874563942144 callbacks.py:241] Method (on_train_batch_end) is slow compared to the batch update (0.199832). Check your callbacks.\n",
      "W0711 11:03:15.224530 139874563942144 callbacks.py:241] Method (on_train_batch_end) is slow compared to the batch update (0.194159). Check your callbacks.\n",
      "W0711 11:03:15.249138 139874563942144 callbacks.py:241] Method (on_train_batch_end) is slow compared to the batch update (0.194159). Check your callbacks.\n",
      "W0711 11:03:15.270509 139874563942144 callbacks.py:241] Method (on_train_batch_end) is slow compared to the batch update (0.164633). Check your callbacks.\n",
      "W0711 11:03:15.291456 139874563942144 callbacks.py:241] Method (on_train_batch_end) is slow compared to the batch update (0.116435). Check your callbacks.\n"
     ]
    },
    {
     "name": "stdout",
     "output_type": "stream",
     "text": [
      "\n"
     ]
    },
    {
     "data": {
      "application/vnd.jupyter.widget-view+json": {
       "model_id": "ed2e3b44a6f64998aa329923d5c3130e",
       "version_major": 2,
       "version_minor": 0
      },
      "text/plain": [
       "HBox(children=(IntProgress(value=0, max=1280), HTML(value='')))"
      ]
     },
     "metadata": {},
     "output_type": "display_data"
    },
    {
     "name": "stderr",
     "output_type": "stream",
     "text": [
      "W0711 11:03:53.027588 139874563942144 callbacks.py:241] Method (on_train_batch_end) is slow compared to the batch update (0.114199). Check your callbacks.\n",
      "W0711 11:03:53.051122 139874563942144 callbacks.py:241] Method (on_train_batch_end) is slow compared to the batch update (0.114199). Check your callbacks.\n",
      "W0711 11:03:53.074674 139874563942144 callbacks.py:241] Method (on_train_batch_end) is slow compared to the batch update (0.114199). Check your callbacks.\n",
      "W0711 11:03:53.096460 139874563942144 callbacks.py:241] Method (on_train_batch_end) is slow compared to the batch update (0.114199). Check your callbacks.\n",
      "W0711 11:03:53.118197 139874563942144 callbacks.py:241] Method (on_train_batch_end) is slow compared to the batch update (0.114199). Check your callbacks.\n"
     ]
    },
    {
     "name": "stdout",
     "output_type": "stream",
     "text": [
      "\n"
     ]
    },
    {
     "data": {
      "application/vnd.jupyter.widget-view+json": {
       "model_id": "2b6d3442b67941338118078adeecd1ce",
       "version_major": 2,
       "version_minor": 0
      },
      "text/plain": [
       "HBox(children=(IntProgress(value=0, max=1280), HTML(value='')))"
      ]
     },
     "metadata": {},
     "output_type": "display_data"
    },
    {
     "name": "stdout",
     "output_type": "stream",
     "text": [
      "\n"
     ]
    },
    {
     "data": {
      "application/vnd.jupyter.widget-view+json": {
       "model_id": "b62d8317f439407eb4f7fa66b9a50c10",
       "version_major": 2,
       "version_minor": 0
      },
      "text/plain": [
       "HBox(children=(IntProgress(value=0, max=1280), HTML(value='')))"
      ]
     },
     "metadata": {},
     "output_type": "display_data"
    },
    {
     "name": "stdout",
     "output_type": "stream",
     "text": [
      "\n"
     ]
    },
    {
     "data": {
      "application/vnd.jupyter.widget-view+json": {
       "model_id": "4411e71ca05a4500875aa2e1ca40bf3d",
       "version_major": 2,
       "version_minor": 0
      },
      "text/plain": [
       "HBox(children=(IntProgress(value=0, max=1280), HTML(value='')))"
      ]
     },
     "metadata": {},
     "output_type": "display_data"
    },
    {
     "name": "stderr",
     "output_type": "stream",
     "text": [
      "W0711 11:05:26.680376 139874563942144 callbacks.py:241] Method (on_train_batch_end) is slow compared to the batch update (0.130610). Check your callbacks.\n",
      "W0711 11:05:26.710361 139874563942144 callbacks.py:241] Method (on_train_batch_end) is slow compared to the batch update (0.130610). Check your callbacks.\n",
      "W0711 11:05:26.734126 139874563942144 callbacks.py:241] Method (on_train_batch_end) is slow compared to the batch update (0.130610). Check your callbacks.\n",
      "W0711 11:05:26.755621 139874563942144 callbacks.py:241] Method (on_train_batch_end) is slow compared to the batch update (0.130610). Check your callbacks.\n"
     ]
    },
    {
     "name": "stdout",
     "output_type": "stream",
     "text": [
      "\n"
     ]
    },
    {
     "data": {
      "application/vnd.jupyter.widget-view+json": {
       "model_id": "85b2b71c988a46f6ac09df86ca10d378",
       "version_major": 2,
       "version_minor": 0
      },
      "text/plain": [
       "HBox(children=(IntProgress(value=0, max=1280), HTML(value='')))"
      ]
     },
     "metadata": {},
     "output_type": "display_data"
    },
    {
     "name": "stdout",
     "output_type": "stream",
     "text": [
      "\n"
     ]
    },
    {
     "data": {
      "application/vnd.jupyter.widget-view+json": {
       "model_id": "407c7213c8514469a3928bd9a3205471",
       "version_major": 2,
       "version_minor": 0
      },
      "text/plain": [
       "HBox(children=(IntProgress(value=0, max=1280), HTML(value='')))"
      ]
     },
     "metadata": {},
     "output_type": "display_data"
    },
    {
     "name": "stderr",
     "output_type": "stream",
     "text": [
      "W0711 11:06:02.182270 139874563942144 callbacks.py:241] Method (on_train_batch_end) is slow compared to the batch update (0.135204). Check your callbacks.\n",
      "W0711 11:06:02.373662 139874563942144 callbacks.py:241] Method (on_train_batch_end) is slow compared to the batch update (0.171264). Check your callbacks.\n",
      "W0711 11:06:02.560433 139874563942144 callbacks.py:241] Method (on_train_batch_end) is slow compared to the batch update (0.183319). Check your callbacks.\n",
      "W0711 11:06:02.671280 139874563942144 callbacks.py:241] Method (on_train_batch_end) is slow compared to the batch update (0.183319). Check your callbacks.\n",
      "W0711 11:06:03.042049 139874563942144 callbacks.py:241] Method (on_train_batch_end) is slow compared to the batch update (0.200401). Check your callbacks.\n",
      "W0711 11:06:03.460793 139874563942144 callbacks.py:241] Method (on_train_batch_end) is slow compared to the batch update (0.200401). Check your callbacks.\n",
      "W0711 11:06:03.812901 139874563942144 callbacks.py:241] Method (on_train_batch_end) is slow compared to the batch update (0.200401). Check your callbacks.\n",
      "W0711 11:06:04.229333 139874563942144 callbacks.py:241] Method (on_train_batch_end) is slow compared to the batch update (0.215303). Check your callbacks.\n",
      "W0711 11:06:04.556750 139874563942144 callbacks.py:241] Method (on_train_batch_end) is slow compared to the batch update (0.268577). Check your callbacks.\n",
      "W0711 11:06:04.883052 139874563942144 callbacks.py:241] Method (on_train_batch_end) is slow compared to the batch update (0.321552). Check your callbacks.\n",
      "W0711 11:06:04.906843 139874563942144 callbacks.py:241] Method (on_train_batch_end) is slow compared to the batch update (0.321552). Check your callbacks.\n",
      "W0711 11:06:04.931799 139874563942144 callbacks.py:241] Method (on_train_batch_end) is slow compared to the batch update (0.321552). Check your callbacks.\n",
      "W0711 11:06:04.953883 139874563942144 callbacks.py:241] Method (on_train_batch_end) is slow compared to the batch update (0.321552). Check your callbacks.\n",
      "W0711 11:06:04.975721 139874563942144 callbacks.py:241] Method (on_train_batch_end) is slow compared to the batch update (0.321552). Check your callbacks.\n",
      "W0711 11:06:04.997369 139874563942144 callbacks.py:241] Method (on_train_batch_end) is slow compared to the batch update (0.171256). Check your callbacks.\n",
      "W0711 11:06:23.498826 139874563942144 callbacks.py:241] Method (on_train_batch_end) is slow compared to the batch update (0.105979). Check your callbacks.\n",
      "W0711 11:06:23.898310 139874563942144 callbacks.py:241] Method (on_train_batch_end) is slow compared to the batch update (0.105979). Check your callbacks.\n",
      "W0711 11:06:23.934234 139874563942144 callbacks.py:241] Method (on_train_batch_end) is slow compared to the batch update (0.105979). Check your callbacks.\n",
      "W0711 11:06:24.106076 139874563942144 callbacks.py:241] Method (on_train_batch_end) is slow compared to the batch update (0.115331). Check your callbacks.\n",
      "W0711 11:06:24.211086 139874563942144 callbacks.py:241] Method (on_train_batch_end) is slow compared to the batch update (0.108123). Check your callbacks.\n",
      "W0711 11:06:24.295357 139874563942144 callbacks.py:241] Method (on_train_batch_end) is slow compared to the batch update (0.108123). Check your callbacks.\n",
      "W0711 11:06:24.617588 139874563942144 callbacks.py:241] Method (on_train_batch_end) is slow compared to the batch update (0.108123). Check your callbacks.\n"
     ]
    },
    {
     "name": "stdout",
     "output_type": "stream",
     "text": [
      "\n"
     ]
    },
    {
     "data": {
      "text/html": [
       "<table>\n",
       "<thead>\n",
       "<tr><th>Name                                       </th><th>Best model                           </th><th>Current model                        </th></tr>\n",
       "</thead>\n",
       "<tbody>\n",
       "<tr><td>accuracy                                   </td><td>0.9725                               </td><td>0.9698                               </td></tr>\n",
       "<tr><td><span style=\"color:red\">val_accuracy</span></td><td><span style=\"color:red\">0.9769</span></td><td><span style=\"color:red\">0.9761</span></td></tr>\n",
       "<tr><td>val_loss                                   </td><td>0.085                                </td><td>0.0851                               </td></tr>\n",
       "<tr><td>loss                                       </td><td>0.096                                </td><td>0.1079                               </td></tr>\n",
       "</tbody>\n",
       "</table>"
      ],
      "text/plain": [
       "<IPython.core.display.HTML object>"
      ]
     },
     "metadata": {},
     "output_type": "display_data"
    },
    {
     "data": {
      "text/html": [
       "<span style=\"color:#64DD17\"><span style=\"font-size:14px\"><b>Hypertuning complete - results in kerastunerlogs/Vazios</b></span></span>"
      ],
      "text/plain": [
       "<IPython.core.display.HTML object>"
      ]
     },
     "metadata": {},
     "output_type": "display_data"
    },
    {
     "name": "stdout",
     "output_type": "stream",
     "text": [
      "Oracle triggered exit\n"
     ]
    }
   ],
   "source": [
    "tuner.search(x=features_train_avg,\n",
    "             y=y_train_avg,\n",
    "             epochs=10,\n",
    "             validation_data=(features_test_avg, y_test_avg),\n",
    "            )"
   ]
  },
  {
   "cell_type": "code",
   "execution_count": 32,
   "metadata": {},
   "outputs": [
    {
     "data": {
      "text/html": [
       "<span style=\"color:#4527A0\"><h1 style=\"font-size:18px\">Results summary</h1></span>"
      ],
      "text/plain": [
       "<IPython.core.display.HTML object>"
      ]
     },
     "metadata": {},
     "output_type": "display_data"
    },
    {
     "data": {
      "text/html": [
       "<span style=\"color:cyan\"> |-Results in kerastunerlogs/Vazios</span>"
      ],
      "text/plain": [
       "<IPython.core.display.HTML object>"
      ]
     },
     "metadata": {},
     "output_type": "display_data"
    },
    {
     "data": {
      "text/html": [
       "<span style=\"color:cyan\"> |-Ran 5 trials</span>"
      ],
      "text/plain": [
       "<IPython.core.display.HTML object>"
      ]
     },
     "metadata": {},
     "output_type": "display_data"
    },
    {
     "data": {
      "text/html": [
       "<span style=\"color:cyan\"> |-Ran 10 executions (2 per trial)</span>"
      ],
      "text/plain": [
       "<IPython.core.display.HTML object>"
      ]
     },
     "metadata": {},
     "output_type": "display_data"
    },
    {
     "data": {
      "text/html": [
       "<span style=\"color:cyan\"> |-Best val_accuracy: 0.9769</span>"
      ],
      "text/plain": [
       "<IPython.core.display.HTML object>"
      ]
     },
     "metadata": {},
     "output_type": "display_data"
    }
   ],
   "source": [
    "tuner.results_summary()"
   ]
  },
  {
   "cell_type": "markdown",
   "metadata": {},
   "source": [
    "# Final Training and validation"
   ]
  },
  {
   "cell_type": "code",
   "execution_count": 33,
   "metadata": {},
   "outputs": [],
   "source": [
    "model = tf.keras.Sequential()\n",
    "model.add(tf.keras.layers.Dense(units=128,\n",
    "                       activation='relu',\n",
    "                       input_shape=(1024,)))\n",
    "model.add(tf.keras.layers.Dropout(0.2))\n",
    "model.add(tf.keras.layers.Dense(units=128,\n",
    "                       activation='relu',\n",
    "                       input_shape=(1024,)))\n",
    "model.add(tf.keras.layers.Dropout(0.2))\n",
    "model.add(tf.keras.layers.Dense(1, activation='sigmoid'))\n",
    "model.compile(\n",
    "    optimizer=tf.keras.optimizers.Adam(learning_rate=0.00004),\n",
    "    loss='binary_crossentropy',\n",
    "    metrics=['accuracy'])\n"
   ]
  },
  {
   "cell_type": "code",
   "execution_count": 16,
   "metadata": {},
   "outputs": [],
   "source": [
    "epoch = 43"
   ]
  },
  {
   "cell_type": "code",
   "execution_count": 61,
   "metadata": {},
   "outputs": [],
   "source": [
    "val_loss = 0.13\n",
    "model.load_weights(\n",
    "    os.path.join(MODEL_DIR,\n",
    "                 'Transfermodelweights02c2.{:02d}-{:.2f}.hdf5'.format(epoch, val_loss)\n",
    "                ))"
   ]
  },
  {
   "cell_type": "code",
   "execution_count": 9,
   "metadata": {},
   "outputs": [
    {
     "name": "stderr",
     "output_type": "stream",
     "text": [
      "WARNING: Logging before flag parsing goes to stderr.\n",
      "W0711 09:23:02.496668 140111535253248 deprecation.py:323] From /home/ivan/pybr/projeto/venv/lib/python3.5/site-packages/tensorflow/python/ops/math_grad.py:1250: add_dispatch_support.<locals>.wrapper (from tensorflow.python.ops.array_ops) is deprecated and will be removed in a future version.\n",
      "Instructions for updating:\n",
      "Use tf.where in 2.0, which has the same broadcast rule as np.where\n"
     ]
    },
    {
     "name": "stdout",
     "output_type": "stream",
     "text": [
      "Train on 20800 samples, validate on 2304 samples\n",
      "Epoch 1/200\n"
     ]
    },
    {
     "name": "stderr",
     "output_type": "stream",
     "text": [
      "W0711 09:23:04.328726 140111535253248 callbacks.py:241] Method (on_train_batch_end) is slow compared to the batch update (0.108159). Check your callbacks.\n"
     ]
    },
    {
     "name": "stdout",
     "output_type": "stream",
     "text": [
      "20800/20800 - 2s - loss: 0.4658 - accuracy: 0.7889 - val_loss: 0.2374 - val_accuracy: 0.9214\n",
      "Epoch 2/200\n",
      "20800/20800 - 0s - loss: 0.2719 - accuracy: 0.9017 - val_loss: 0.2006 - val_accuracy: 0.9319\n",
      "Epoch 3/200\n",
      "20800/20800 - 0s - loss: 0.2317 - accuracy: 0.9227 - val_loss: 0.1855 - val_accuracy: 0.9397\n",
      "Epoch 4/200\n",
      "20800/20800 - 0s - loss: 0.2097 - accuracy: 0.9319 - val_loss: 0.1757 - val_accuracy: 0.9440\n",
      "Epoch 5/200\n",
      "20800/20800 - 0s - loss: 0.1992 - accuracy: 0.9362 - val_loss: 0.1679 - val_accuracy: 0.9462\n",
      "Epoch 6/200\n",
      "20800/20800 - 0s - loss: 0.1889 - accuracy: 0.9401 - val_loss: 0.1643 - val_accuracy: 0.9462\n",
      "Epoch 7/200\n",
      "20800/20800 - 0s - loss: 0.1834 - accuracy: 0.9407 - val_loss: 0.1587 - val_accuracy: 0.9470\n",
      "Epoch 8/200\n",
      "20800/20800 - 0s - loss: 0.1783 - accuracy: 0.9437 - val_loss: 0.1557 - val_accuracy: 0.9510\n",
      "Epoch 9/200\n",
      "20800/20800 - 0s - loss: 0.1712 - accuracy: 0.9473 - val_loss: 0.1535 - val_accuracy: 0.9510\n",
      "Epoch 10/200\n",
      "20800/20800 - 0s - loss: 0.1684 - accuracy: 0.9477 - val_loss: 0.1519 - val_accuracy: 0.9527\n",
      "Epoch 11/200\n",
      "20800/20800 - 0s - loss: 0.1650 - accuracy: 0.9487 - val_loss: 0.1500 - val_accuracy: 0.9492\n",
      "Epoch 12/200\n",
      "20800/20800 - 0s - loss: 0.1640 - accuracy: 0.9494 - val_loss: 0.1490 - val_accuracy: 0.9518\n",
      "Epoch 13/200\n",
      "20800/20800 - 1s - loss: 0.1630 - accuracy: 0.9496 - val_loss: 0.1468 - val_accuracy: 0.9523\n",
      "Epoch 14/200\n",
      "20800/20800 - 0s - loss: 0.1600 - accuracy: 0.9508 - val_loss: 0.1453 - val_accuracy: 0.9523\n",
      "Epoch 15/200\n",
      "20800/20800 - 0s - loss: 0.1582 - accuracy: 0.9519 - val_loss: 0.1441 - val_accuracy: 0.9531\n",
      "Epoch 16/200\n",
      "20800/20800 - 0s - loss: 0.1555 - accuracy: 0.9517 - val_loss: 0.1446 - val_accuracy: 0.9531\n",
      "Epoch 17/200\n",
      "20800/20800 - 0s - loss: 0.1559 - accuracy: 0.9519 - val_loss: 0.1429 - val_accuracy: 0.9531\n",
      "Epoch 18/200\n",
      "20800/20800 - 0s - loss: 0.1532 - accuracy: 0.9525 - val_loss: 0.1418 - val_accuracy: 0.9544\n",
      "Epoch 19/200\n",
      "20800/20800 - 0s - loss: 0.1528 - accuracy: 0.9533 - val_loss: 0.1404 - val_accuracy: 0.9531\n",
      "Epoch 20/200\n",
      "20800/20800 - 0s - loss: 0.1481 - accuracy: 0.9536 - val_loss: 0.1405 - val_accuracy: 0.9540\n",
      "Epoch 21/200\n",
      "20800/20800 - 0s - loss: 0.1490 - accuracy: 0.9532 - val_loss: 0.1389 - val_accuracy: 0.9540\n",
      "Epoch 22/200\n",
      "20800/20800 - 0s - loss: 0.1464 - accuracy: 0.9542 - val_loss: 0.1386 - val_accuracy: 0.9549\n",
      "Epoch 23/200\n",
      "20800/20800 - 0s - loss: 0.1457 - accuracy: 0.9539 - val_loss: 0.1383 - val_accuracy: 0.9544\n",
      "Epoch 24/200\n",
      "20800/20800 - 0s - loss: 0.1434 - accuracy: 0.9541 - val_loss: 0.1378 - val_accuracy: 0.9540\n",
      "Epoch 25/200\n",
      "20800/20800 - 0s - loss: 0.1428 - accuracy: 0.9556 - val_loss: 0.1379 - val_accuracy: 0.9540\n",
      "Epoch 26/200\n",
      "20800/20800 - 0s - loss: 0.1414 - accuracy: 0.9551 - val_loss: 0.1376 - val_accuracy: 0.9540\n",
      "Epoch 27/200\n",
      "20800/20800 - 0s - loss: 0.1404 - accuracy: 0.9548 - val_loss: 0.1377 - val_accuracy: 0.9549\n",
      "Epoch 28/200\n",
      "20800/20800 - 0s - loss: 0.1400 - accuracy: 0.9551 - val_loss: 0.1356 - val_accuracy: 0.9553\n",
      "Epoch 29/200\n",
      "20800/20800 - 0s - loss: 0.1370 - accuracy: 0.9556 - val_loss: 0.1354 - val_accuracy: 0.9549\n",
      "Epoch 30/200\n",
      "20800/20800 - 0s - loss: 0.1378 - accuracy: 0.9563 - val_loss: 0.1356 - val_accuracy: 0.9553\n",
      "Epoch 31/200\n",
      "20800/20800 - 0s - loss: 0.1354 - accuracy: 0.9562 - val_loss: 0.1352 - val_accuracy: 0.9544\n",
      "Epoch 32/200\n",
      "20800/20800 - 0s - loss: 0.1352 - accuracy: 0.9572 - val_loss: 0.1345 - val_accuracy: 0.9553\n",
      "Epoch 33/200\n",
      "20800/20800 - 0s - loss: 0.1340 - accuracy: 0.9568 - val_loss: 0.1333 - val_accuracy: 0.9553\n",
      "Epoch 34/200\n",
      "20800/20800 - 0s - loss: 0.1331 - accuracy: 0.9575 - val_loss: 0.1339 - val_accuracy: 0.9540\n",
      "Epoch 35/200\n",
      "20800/20800 - 0s - loss: 0.1324 - accuracy: 0.9573 - val_loss: 0.1330 - val_accuracy: 0.9557\n",
      "Epoch 36/200\n",
      "20800/20800 - 0s - loss: 0.1330 - accuracy: 0.9567 - val_loss: 0.1325 - val_accuracy: 0.9549\n",
      "Epoch 37/200\n",
      "20800/20800 - 0s - loss: 0.1306 - accuracy: 0.9581 - val_loss: 0.1337 - val_accuracy: 0.9540\n",
      "Epoch 38/200\n",
      "20800/20800 - 0s - loss: 0.1306 - accuracy: 0.9584 - val_loss: 0.1316 - val_accuracy: 0.9553\n",
      "Epoch 39/200\n",
      "20800/20800 - 0s - loss: 0.1283 - accuracy: 0.9576 - val_loss: 0.1313 - val_accuracy: 0.9570\n",
      "Epoch 40/200\n",
      "20800/20800 - 0s - loss: 0.1282 - accuracy: 0.9594 - val_loss: 0.1314 - val_accuracy: 0.9553\n",
      "Epoch 41/200\n",
      "\n",
      "Epoch 00041: ReduceLROnPlateau reducing learning rate to 1.9999999494757503e-05.\n",
      "20800/20800 - 0s - loss: 0.1259 - accuracy: 0.9590 - val_loss: 0.1317 - val_accuracy: 0.9570\n",
      "Epoch 42/200\n",
      "20800/20800 - 0s - loss: 0.1244 - accuracy: 0.9589 - val_loss: 0.1314 - val_accuracy: 0.9566\n",
      "Epoch 43/200\n",
      "20800/20800 - 0s - loss: 0.1238 - accuracy: 0.9607 - val_loss: 0.1309 - val_accuracy: 0.9566\n",
      "Epoch 44/200\n",
      "20800/20800 - 0s - loss: 0.1251 - accuracy: 0.9602 - val_loss: 0.1312 - val_accuracy: 0.9566\n",
      "Epoch 45/200\n",
      "\n",
      "Epoch 00045: ReduceLROnPlateau reducing learning rate to 9.999999747378752e-06.\n",
      "20800/20800 - 0s - loss: 0.1245 - accuracy: 0.9599 - val_loss: 0.1315 - val_accuracy: 0.9557\n",
      "Epoch 46/200\n",
      "20800/20800 - 0s - loss: 0.1224 - accuracy: 0.9600 - val_loss: 0.1315 - val_accuracy: 0.9557\n",
      "Epoch 47/200\n",
      "\n",
      "Epoch 00047: ReduceLROnPlateau reducing learning rate to 4.999999873689376e-06.\n",
      "20800/20800 - 0s - loss: 0.1226 - accuracy: 0.9597 - val_loss: 0.1315 - val_accuracy: 0.9566\n",
      "Epoch 48/200\n",
      "20800/20800 - 0s - loss: 0.1211 - accuracy: 0.9603 - val_loss: 0.1316 - val_accuracy: 0.9562\n",
      "Epoch 49/200\n",
      "\n",
      "Epoch 00049: ReduceLROnPlateau reducing learning rate to 2.499999936844688e-06.\n",
      "20800/20800 - 0s - loss: 0.1212 - accuracy: 0.9610 - val_loss: 0.1316 - val_accuracy: 0.9562\n",
      "Epoch 50/200\n",
      "20800/20800 - 0s - loss: 0.1214 - accuracy: 0.9605 - val_loss: 0.1317 - val_accuracy: 0.9562\n",
      "Epoch 51/200\n",
      "\n",
      "Epoch 00051: ReduceLROnPlateau reducing learning rate to 1.249999968422344e-06.\n",
      "20800/20800 - 0s - loss: 0.1216 - accuracy: 0.9602 - val_loss: 0.1314 - val_accuracy: 0.9566\n",
      "Epoch 52/200\n",
      "20800/20800 - 0s - loss: 0.1209 - accuracy: 0.9607 - val_loss: 0.1315 - val_accuracy: 0.9566\n",
      "Epoch 53/200\n",
      "\n",
      "Epoch 00053: ReduceLROnPlateau reducing learning rate to 6.24999984211172e-07.\n",
      "20800/20800 - 0s - loss: 0.1206 - accuracy: 0.9604 - val_loss: 0.1315 - val_accuracy: 0.9566\n"
     ]
    }
   ],
   "source": [
    "history = model.fit(x=features_train,\n",
    "                    y=y_train,\n",
    "                    batch_size=128,\n",
    "                    initial_epoch=epoch,\n",
    "                    epochs=200,\n",
    "                    verbose=2,\n",
    "                    validation_data=(features_test, y_test),\n",
    "                    callbacks=[early_stop, mcp_save, reduce_lr, tensorboard_logs],\n",
    "                   )"
   ]
  },
  {
   "cell_type": "code",
   "execution_count": 13,
   "metadata": {},
   "outputs": [],
   "source": [
    "model.compile(\n",
    "    optimizer=tf.keras.optimizers.Adam(learning_rate=0.00004),\n",
    "    loss='binary_crossentropy',\n",
    "    metrics=['accuracy'])"
   ]
  },
  {
   "cell_type": "code",
   "execution_count": 14,
   "metadata": {},
   "outputs": [
    {
     "name": "stdout",
     "output_type": "stream",
     "text": [
      "Train on 20800 samples, validate on 2304 samples\n",
      "Epoch 1/200\n",
      "20800/20800 - 1s - loss: 0.1282 - accuracy: 0.9594 - val_loss: 0.1297 - val_accuracy: 0.9583\n",
      "Epoch 2/200\n",
      "20800/20800 - 0s - loss: 0.1266 - accuracy: 0.9588 - val_loss: 0.1291 - val_accuracy: 0.9583\n",
      "Epoch 3/200\n",
      "20800/20800 - 0s - loss: 0.1250 - accuracy: 0.9588 - val_loss: 0.1293 - val_accuracy: 0.9592\n",
      "Epoch 4/200\n",
      "\n",
      "Epoch 00004: ReduceLROnPlateau reducing learning rate to 1.9999999494757503e-05.\n",
      "20800/20800 - 0s - loss: 0.1258 - accuracy: 0.9591 - val_loss: 0.1295 - val_accuracy: 0.9579\n",
      "Epoch 5/200\n",
      "20800/20800 - 0s - loss: 0.1231 - accuracy: 0.9601 - val_loss: 0.1279 - val_accuracy: 0.9588\n",
      "Epoch 6/200\n",
      "20800/20800 - 0s - loss: 0.1213 - accuracy: 0.9600 - val_loss: 0.1273 - val_accuracy: 0.9588\n",
      "Epoch 7/200\n",
      "20800/20800 - 0s - loss: 0.1217 - accuracy: 0.9596 - val_loss: 0.1276 - val_accuracy: 0.9583\n",
      "Epoch 8/200\n",
      "\n",
      "Epoch 00008: ReduceLROnPlateau reducing learning rate to 9.999999747378752e-06.\n",
      "20800/20800 - 0s - loss: 0.1212 - accuracy: 0.9598 - val_loss: 0.1277 - val_accuracy: 0.9596\n",
      "Epoch 9/200\n",
      "20800/20800 - 0s - loss: 0.1206 - accuracy: 0.9600 - val_loss: 0.1278 - val_accuracy: 0.9588\n",
      "Epoch 10/200\n",
      "\n",
      "Epoch 00010: ReduceLROnPlateau reducing learning rate to 4.999999873689376e-06.\n",
      "20800/20800 - 0s - loss: 0.1193 - accuracy: 0.9613 - val_loss: 0.1273 - val_accuracy: 0.9592\n",
      "Epoch 11/200\n",
      "20800/20800 - 0s - loss: 0.1192 - accuracy: 0.9607 - val_loss: 0.1271 - val_accuracy: 0.9588\n",
      "Epoch 12/200\n",
      "20800/20800 - 0s - loss: 0.1206 - accuracy: 0.9611 - val_loss: 0.1271 - val_accuracy: 0.9592\n",
      "Epoch 13/200\n",
      "\n",
      "Epoch 00013: ReduceLROnPlateau reducing learning rate to 2.499999936844688e-06.\n",
      "20800/20800 - 0s - loss: 0.1182 - accuracy: 0.9607 - val_loss: 0.1272 - val_accuracy: 0.9592\n",
      "Epoch 14/200\n",
      "20800/20800 - 0s - loss: 0.1176 - accuracy: 0.9617 - val_loss: 0.1272 - val_accuracy: 0.9592\n",
      "Epoch 15/200\n",
      "\n",
      "Epoch 00015: ReduceLROnPlateau reducing learning rate to 1.249999968422344e-06.\n",
      "20800/20800 - 0s - loss: 0.1197 - accuracy: 0.9607 - val_loss: 0.1273 - val_accuracy: 0.9588\n",
      "Epoch 16/200\n",
      "20800/20800 - 0s - loss: 0.1177 - accuracy: 0.9615 - val_loss: 0.1272 - val_accuracy: 0.9592\n",
      "Epoch 17/200\n",
      "\n",
      "Epoch 00017: ReduceLROnPlateau reducing learning rate to 6.24999984211172e-07.\n",
      "20800/20800 - 0s - loss: 0.1188 - accuracy: 0.9607 - val_loss: 0.1272 - val_accuracy: 0.9592\n",
      "Epoch 18/200\n",
      "20800/20800 - 0s - loss: 0.1184 - accuracy: 0.9610 - val_loss: 0.1272 - val_accuracy: 0.9588\n",
      "Epoch 19/200\n",
      "\n",
      "Epoch 00019: ReduceLROnPlateau reducing learning rate to 3.12499992105586e-07.\n",
      "20800/20800 - 0s - loss: 0.1203 - accuracy: 0.9600 - val_loss: 0.1272 - val_accuracy: 0.9588\n",
      "Epoch 20/200\n",
      "20800/20800 - 0s - loss: 0.1182 - accuracy: 0.9604 - val_loss: 0.1272 - val_accuracy: 0.9588\n",
      "Epoch 21/200\n",
      "\n",
      "Epoch 00021: ReduceLROnPlateau reducing learning rate to 1.56249996052793e-07.\n",
      "20800/20800 - 1s - loss: 0.1180 - accuracy: 0.9604 - val_loss: 0.1272 - val_accuracy: 0.9588\n"
     ]
    }
   ],
   "source": [
    "mcp_save_avg = ModelCheckpoint(os.path.join(MODEL_DIR, \n",
    "                                        'Transfermodelweights02c2avg.{epoch:02d}-{val_loss:.2f}.hdf5'),\n",
    "                           save_best_only=True, monitor='val_loss', mode='min')\n",
    "\n",
    "history = model.fit(x=features_train_avg,\n",
    "                    y=y_train_avg,\n",
    "                    batch_size=128,\n",
    "                    initial_epoch=epoch,\n",
    "                    epochs=200,\n",
    "                    verbose=2,\n",
    "                    validation_data=(features_test_avg, y_test_avg),\n",
    "                    callbacks=[early_stop, mcp_save_avg, reduce_lr, tensorboard_logs],\n",
    "                   )"
   ]
  },
  {
   "cell_type": "code",
   "execution_count": 44,
   "metadata": {},
   "outputs": [
    {
     "name": "stdout",
     "output_type": "stream",
     "text": [
      "{0: 'nvazio', 1: 'vazio'}\n",
      "R/P \t nvazio \t vazio \n",
      "nvazio \t 1077 \t 89\n",
      "vazio \t 11 \t 1127\n",
      "              precision    recall  f1-score   support\n",
      "\n",
      "         0.0       0.99      0.92      0.96      1166\n",
      "         1.0       0.93      0.99      0.96      1138\n",
      "\n",
      "    accuracy                           0.96      2304\n",
      "   macro avg       0.96      0.96      0.96      2304\n",
      "weighted avg       0.96      0.96      0.96      2304\n",
      "\n"
     ]
    }
   ],
   "source": [
    "y_pred = model.predict(features_test)\n",
    "\n",
    "y_pred = y_pred > 0.5\n",
    "\n",
    "classes = {0: 'nvazio', 1: 'vazio'}\n",
    "report_classes(classes, y_test, y_pred)"
   ]
  },
  {
   "cell_type": "code",
   "execution_count": 49,
   "metadata": {},
   "outputs": [
    {
     "name": "stdout",
     "output_type": "stream",
     "text": [
      "{0: 'nvazio', 1: 'vazio'}\n",
      "R/P \t nvazio \t vazio \n",
      "nvazio \t 9745 \t 749\n",
      "vazio \t 40 \t 10266\n",
      "              precision    recall  f1-score   support\n",
      "\n",
      "         0.0       1.00      0.93      0.96     10494\n",
      "         1.0       0.93      1.00      0.96     10306\n",
      "\n",
      "    accuracy                           0.96     20800\n",
      "   macro avg       0.96      0.96      0.96     20800\n",
      "weighted avg       0.96      0.96      0.96     20800\n",
      "\n"
     ]
    }
   ],
   "source": [
    "y_pred_train = model.predict(features_train)\n",
    "\n",
    "y_pred_train = y_pred_train > 0.5\n",
    "\n",
    "report_classes(classes, y_train, y_pred_train)"
   ]
  },
  {
   "cell_type": "code",
   "execution_count": 62,
   "metadata": {},
   "outputs": [
    {
     "name": "stdout",
     "output_type": "stream",
     "text": [
      "Train on 20800 samples, validate on 2304 samples\n",
      "Epoch 1/200\n",
      "20800/20800 - 1s - loss: 0.2577 - accuracy: 0.9542 - val_loss: 0.1488 - val_accuracy: 0.9540\n",
      "Epoch 2/200\n",
      "20800/20800 - 0s - loss: 0.2534 - accuracy: 0.9544 - val_loss: 0.1513 - val_accuracy: 0.9544\n",
      "Epoch 3/200\n",
      "\n",
      "Epoch 00003: ReduceLROnPlateau reducing learning rate to 4.999999873689376e-06.\n",
      "20800/20800 - 0s - loss: 0.2475 - accuracy: 0.9556 - val_loss: 0.1516 - val_accuracy: 0.9540\n",
      "Epoch 4/200\n",
      "20800/20800 - 0s - loss: 0.2496 - accuracy: 0.9544 - val_loss: 0.1532 - val_accuracy: 0.9536\n",
      "Epoch 5/200\n",
      "20800/20800 - 1s - loss: 0.2474 - accuracy: 0.9543 - val_loss: 0.1484 - val_accuracy: 0.9531\n",
      "Epoch 6/200\n",
      "20800/20800 - 1s - loss: 0.2490 - accuracy: 0.9550 - val_loss: 0.1498 - val_accuracy: 0.9540\n",
      "Epoch 7/200\n",
      "\n",
      "Epoch 00007: ReduceLROnPlateau reducing learning rate to 2.499999936844688e-06.\n",
      "20800/20800 - 1s - loss: 0.2470 - accuracy: 0.9551 - val_loss: 0.1521 - val_accuracy: 0.9527\n",
      "Epoch 8/200\n",
      "20800/20800 - 1s - loss: 0.2475 - accuracy: 0.9542 - val_loss: 0.1490 - val_accuracy: 0.9536\n",
      "Epoch 9/200\n",
      "\n",
      "Epoch 00009: ReduceLROnPlateau reducing learning rate to 1.249999968422344e-06.\n",
      "20800/20800 - 1s - loss: 0.2505 - accuracy: 0.9548 - val_loss: 0.1510 - val_accuracy: 0.9536\n",
      "Epoch 10/200\n",
      "20800/20800 - 0s - loss: 0.2451 - accuracy: 0.9554 - val_loss: 0.1507 - val_accuracy: 0.9536\n",
      "Epoch 11/200\n",
      "\n",
      "Epoch 00011: ReduceLROnPlateau reducing learning rate to 6.24999984211172e-07.\n",
      "20800/20800 - 0s - loss: 0.2478 - accuracy: 0.9567 - val_loss: 0.1507 - val_accuracy: 0.9536\n",
      "Epoch 12/200\n",
      "20800/20800 - 0s - loss: 0.2457 - accuracy: 0.9544 - val_loss: 0.1509 - val_accuracy: 0.9531\n",
      "Epoch 13/200\n",
      "\n",
      "Epoch 00013: ReduceLROnPlateau reducing learning rate to 3.12499992105586e-07.\n",
      "20800/20800 - 0s - loss: 0.2450 - accuracy: 0.9542 - val_loss: 0.1507 - val_accuracy: 0.9531\n",
      "Epoch 14/200\n",
      "20800/20800 - 0s - loss: 0.2448 - accuracy: 0.9550 - val_loss: 0.1510 - val_accuracy: 0.9536\n",
      "Epoch 15/200\n",
      "\n",
      "Epoch 00015: ReduceLROnPlateau reducing learning rate to 1.56249996052793e-07.\n",
      "20800/20800 - 0s - loss: 0.2471 - accuracy: 0.9560 - val_loss: 0.1509 - val_accuracy: 0.9536\n"
     ]
    }
   ],
   "source": [
    "model.compile(\n",
    "    optimizer=tf.keras.optimizers.Adam(learning_rate=0.00001),\n",
    "    loss='binary_crossentropy',\n",
    "    metrics=['accuracy']\n",
    ")\n",
    "mcp_save_weights = ModelCheckpoint(\n",
    "    os.path.join(MODEL_DIR, 'Transfermodelweights02c2-classweights.{epoch:02d}-{val_loss:.2f}.hdf5'),\n",
    "                 save_best_only=True, monitor='val_loss', mode='min'\n",
    ")\n",
    "class_weight = {0: 3., 1: 1.}\n",
    "history = model.fit(x=features_train,\n",
    "                    y=y_train,\n",
    "                    batch_size=128,\n",
    "                    class_weight=class_weight,\n",
    "                    initial_epoch=0,\n",
    "                    epochs=200,\n",
    "                    verbose=2,\n",
    "                    validation_data=(features_test, y_test),\n",
    "                    callbacks=[early_stop, mcp_save_weights, reduce_lr, tensorboard_logs],\n",
    "                   )"
   ]
  },
  {
   "cell_type": "code",
   "execution_count": 63,
   "metadata": {},
   "outputs": [
    {
     "name": "stdout",
     "output_type": "stream",
     "text": [
      "{0: 'nvazio', 1: 'vazio'}\n",
      "R/P \t nvazio \t vazio \n",
      "nvazio \t 1095 \t 71\n",
      "vazio \t 36 \t 1102\n",
      "              precision    recall  f1-score   support\n",
      "\n",
      "         0.0       0.97      0.94      0.95      1166\n",
      "         1.0       0.94      0.97      0.95      1138\n",
      "\n",
      "    accuracy                           0.95      2304\n",
      "   macro avg       0.95      0.95      0.95      2304\n",
      "weighted avg       0.95      0.95      0.95      2304\n",
      "\n"
     ]
    }
   ],
   "source": [
    "y_pred = model.predict(features_test)\n",
    "\n",
    "y_pred = y_pred > 0.5\n",
    "\n",
    "classes = {0: 'nvazio', 1: 'vazio'}\n",
    "report_classes(classes, y_test, y_pred)"
   ]
  },
  {
   "cell_type": "code",
   "execution_count": 64,
   "metadata": {},
   "outputs": [
    {
     "name": "stdout",
     "output_type": "stream",
     "text": [
      "{0: 'nvazio', 1: 'vazio'}\n",
      "R/P \t nvazio \t vazio \n",
      "nvazio \t 9918 \t 576\n",
      "vazio \t 217 \t 10089\n",
      "              precision    recall  f1-score   support\n",
      "\n",
      "         0.0       0.98      0.95      0.96     10494\n",
      "         1.0       0.95      0.98      0.96     10306\n",
      "\n",
      "    accuracy                           0.96     20800\n",
      "   macro avg       0.96      0.96      0.96     20800\n",
      "weighted avg       0.96      0.96      0.96     20800\n",
      "\n"
     ]
    }
   ],
   "source": [
    "y_pred_train = model.predict(features_train)\n",
    "\n",
    "y_pred_train = y_pred_train > 0.5\n",
    "\n",
    "report_classes(classes, y_train, y_pred_train)"
   ]
  },
  {
   "cell_type": "code",
   "execution_count": null,
   "metadata": {},
   "outputs": [],
   "source": []
  }
 ],
 "metadata": {
  "kernelspec": {
   "display_name": "venv_gym2",
   "language": "python",
   "name": "venv_gym2"
  },
  "language_info": {
   "codemirror_mode": {
    "name": "ipython",
    "version": 3
   },
   "file_extension": ".py",
   "mimetype": "text/x-python",
   "name": "python",
   "nbconvert_exporter": "python",
   "pygments_lexer": "ipython3",
   "version": "3.5.2"
  }
 },
 "nbformat": 4,
 "nbformat_minor": 2
}
