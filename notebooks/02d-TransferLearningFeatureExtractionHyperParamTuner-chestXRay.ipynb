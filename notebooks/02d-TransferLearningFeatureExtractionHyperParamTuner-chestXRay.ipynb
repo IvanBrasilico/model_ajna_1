{
 "cells": [
  {
   "cell_type": "code",
   "execution_count": 1,
   "metadata": {},
   "outputs": [],
   "source": [
    "import numpy as np\n",
    "import os\n",
    "import tensorflow as tf\n",
    "from tensorflow.keras.callbacks import EarlyStopping, ModelCheckpoint, \\\n",
    "    ReduceLROnPlateau, TensorBoard\n",
    "from tensorflow.keras.optimizers import Adam, RMSprop\n",
    "\n",
    "from utils import get_imagens_erro, report, plot_errors\n",
    "import time\n",
    "\n",
    "MODEL_DIR = '../modelschest'\n",
    "LOG_DIR = '../logs/02d/chestXRay'\n",
    "SIZE = (224, 224)\n",
    "caminho_bases = os.path.join('..', 'bases', 'chest_xray')\n",
    "caminho_train = os.path.join(caminho_bases, 'train')\n",
    "caminho_test = os.path.join(caminho_bases, 'test')"
   ]
  },
  {
   "cell_type": "markdown",
   "metadata": {},
   "source": [
    "# Callbacks"
   ]
  },
  {
   "cell_type": "code",
   "execution_count": 2,
   "metadata": {},
   "outputs": [],
   "source": [
    "tensorboard_logs = TensorBoard(log_dir=LOG_DIR, histogram_freq=1,\n",
    "                               write_graph=False, write_images=False,\n",
    "                               update_freq='epoch')\n",
    "mcp_save = ModelCheckpoint(os.path.join(MODEL_DIR, \n",
    "                                        'Transfermodelweights02d.{epoch:02d}-{val_loss:.2f}.hdf5'),\n",
    "                           save_best_only=True, monitor='val_loss', mode='min')\n",
    "early_stop = EarlyStopping(monitor='val_loss', patience=10, verbose=0, mode='min')\n",
    "reduce_lr = ReduceLROnPlateau(monitor='val_loss', factor=0.25, patience=4,\n",
    "                              verbose=1, min_delta=1e-2, mode='min')\n"
   ]
  },
  {
   "cell_type": "markdown",
   "metadata": {},
   "source": [
    "# Load features to np"
   ]
  },
  {
   "cell_type": "code",
   "execution_count": 2,
   "metadata": {},
   "outputs": [],
   "source": [
    "FEATURES_DIR = os.path.join('..', 'bases', 'chestXRay_02cfeatures')\n",
    "with open(os.path.join(FEATURES_DIR, 'features_train.np'), 'rb') as features_in:\n",
    "    features_train = np.load(features_in)\n",
    "with open(os.path.join(FEATURES_DIR, 'y_train.np'), 'rb') as y_in:\n",
    "    y_train = np.load(y_in)\n",
    "with open(os.path.join(FEATURES_DIR, 'features_test.np'), 'rb') as features_in:\n",
    "    features_test = np.load(features_in)\n",
    "with open(os.path.join(FEATURES_DIR, 'y_test.np'), 'rb') as y_in:\n",
    "    y_test = np.load(y_in)"
   ]
  },
  {
   "cell_type": "markdown",
   "metadata": {},
   "source": [
    "# Model"
   ]
  },
  {
   "cell_type": "code",
   "execution_count": 3,
   "metadata": {},
   "outputs": [],
   "source": [
    "model = tf.keras.models.Sequential([\n",
    "  tf.keras.layers.Dense(256,\n",
    "                        activation='relu',\n",
    "                        kernel_regularizer=tf.keras.regularizers.l1_l2(l2=0.01, l1=0.01),\n",
    "                        kernel_initializer='glorot_normal',\n",
    "                        input_shape=(1024,)),\n",
    "  tf.keras.layers.Dropout(0.33),\n",
    "  tf.keras.layers.Dense(1, activation='sigmoid')\n",
    "])"
   ]
  },
  {
   "cell_type": "code",
   "execution_count": 4,
   "metadata": {},
   "outputs": [
    {
     "name": "stdout",
     "output_type": "stream",
     "text": [
      "Model: \"sequential\"\n",
      "_________________________________________________________________\n",
      "Layer (type)                 Output Shape              Param #   \n",
      "=================================================================\n",
      "dense (Dense)                (None, 256)               262400    \n",
      "_________________________________________________________________\n",
      "dropout (Dropout)            (None, 256)               0         \n",
      "_________________________________________________________________\n",
      "dense_1 (Dense)              (None, 1)                 257       \n",
      "=================================================================\n",
      "Total params: 262,657\n",
      "Trainable params: 262,657\n",
      "Non-trainable params: 0\n",
      "_________________________________________________________________\n"
     ]
    }
   ],
   "source": [
    "model.compile(optimizer=Adam(lr=0.0004), loss='binary_crossentropy', metrics=['acc'])\n",
    "model.summary()"
   ]
  },
  {
   "cell_type": "markdown",
   "metadata": {},
   "source": [
    "# Training and validation"
   ]
  },
  {
   "cell_type": "code",
   "execution_count": 8,
   "metadata": {},
   "outputs": [
    {
     "name": "stdout",
     "output_type": "stream",
     "text": [
      "Optimizer: RMSprop lr: 0.01 Batch Size: 64\n",
      "['Number: 0 - acc: 0.66184413  - val_acc: 0.61513156', 'Number: 2 - acc: 0.7008102  - val_acc: 0.61513156', 'Number: 3 - acc: 0.705054  - val_acc: 0.61513156']\n",
      "Optimizer: RMSprop lr: 0.01 Batch Size: 128\n",
      "['Number: 0 - acc: 0.66358024  - val_acc: 0.59539473', 'Number: 2 - acc: 0.7175926  - val_acc: 0.61513156', 'Number: 3 - acc: 0.72492284  - val_acc: 0.61513156']\n",
      "Optimizer: RMSprop lr: 0.01 Batch Size: 256\n",
      "['Number: 0 - acc: 0.6097608  - val_acc: 0.7450658', 'Number: 2 - acc: 0.7172068  - val_acc: 0.61513156', 'Number: 3 - acc: 0.7355324  - val_acc: 0.7944079']\n",
      "Optimizer: Adam lr: 0.01 Batch Size: 64\n",
      "['Number: 0 - acc: 0.8097994  - val_acc: 0.68914473', 'Number: 2 - acc: 0.86381173  - val_acc: 0.83388156', 'Number: 3 - acc: 0.8458719  - val_acc: 0.8388158']\n",
      "Optimizer: Adam lr: 0.01 Batch Size: 128\n",
      "['Number: 0 - acc: 0.8165509  - val_acc: 0.8190789', 'Number: 2 - acc: 0.8553241  - val_acc: 0.8009868', 'Number: 3 - acc: 0.8159722  - val_acc: 0.7697368']\n",
      "Optimizer: Adam lr: 0.01 Batch Size: 256\n",
      "['Number: 0 - acc: 0.7345679  - val_acc: 0.61513156', 'Number: 2 - acc: 0.8591821  - val_acc: 0.84375', 'Number: 3 - acc: 0.87924385  - val_acc: 0.7006579']\n",
      "Optimizer: RMSprop lr: 0.001 Batch Size: 64\n",
      "['Number: 0 - acc: 0.8580247  - val_acc: 0.7615132', 'Number: 2 - acc: 0.86381173  - val_acc: 0.8190789', 'Number: 3 - acc: 0.8582176  - val_acc: 0.8569079']\n",
      "Optimizer: RMSprop lr: 0.001 Batch Size: 128\n",
      "['Number: 0 - acc: 0.8566744  - val_acc: 0.78453946', 'Number: 2 - acc: 0.8609182  - val_acc: 0.7072368', 'Number: 3 - acc: 0.8576389  - val_acc: 0.74013156']\n",
      "Optimizer: RMSprop lr: 0.001 Batch Size: 256\n",
      "['Number: 0 - acc: 0.84799385  - val_acc: 0.81414473', 'Number: 2 - acc: 0.86477625  - val_acc: 0.6990132', 'Number: 3 - acc: 0.861304  - val_acc: 0.7944079']\n",
      "Optimizer: Adam lr: 0.001 Batch Size: 64\n",
      "['Number: 0 - acc: 0.86361885  - val_acc: 0.8569079', 'Number: 2 - acc: 0.87114197  - val_acc: 0.77960527', 'Number: 3 - acc: 0.86844134  - val_acc: 0.8059211']\n",
      "Optimizer: Adam lr: 0.001 Batch Size: 128\n",
      "['Number: 0 - acc: 0.8722994  - val_acc: 0.8503289', 'Number: 2 - acc: 0.87133485  - val_acc: 0.8700658', 'Number: 3 - acc: 0.8765432  - val_acc: 0.8371711']\n",
      "Optimizer: Adam lr: 0.001 Batch Size: 256\n",
      "['Number: 0 - acc: 0.8761574  - val_acc: 0.86513156', 'Number: 2 - acc: 0.88001543  - val_acc: 0.8815789', 'Number: 3 - acc: 0.8753858  - val_acc: 0.84210527']\n",
      "Optimizer: RMSprop lr: 0.0004 Batch Size: 64\n",
      "['Number: 0 - acc: 0.86419755  - val_acc: 0.8305921', 'Number: 2 - acc: 0.8722994  - val_acc: 0.8371711', 'Number: 3 - acc: 0.86959875  - val_acc: 0.84703946']\n",
      "Optimizer: RMSprop lr: 0.0004 Batch Size: 128\n",
      "['Number: 0 - acc: 0.8680556  - val_acc: 0.75986844', 'Number: 2 - acc: 0.8746142  - val_acc: 0.8634868', 'Number: 3 - acc: 0.87866515  - val_acc: 0.7450658']\n",
      "Optimizer: RMSprop lr: 0.0004 Batch Size: 256\n",
      "['Number: 0 - acc: 0.8761574  - val_acc: 0.84375', 'Number: 2 - acc: 0.86940587  - val_acc: 0.8042763', 'Number: 3 - acc: 0.8771219  - val_acc: 0.8503289']\n",
      "Optimizer: Adam lr: 0.0004 Batch Size: 64\n",
      "['Number: 0 - acc: 0.87924385  - val_acc: 0.80263156', 'Number: 2 - acc: 0.8744213  - val_acc: 0.8552632', 'Number: 3 - acc: 0.8790509  - val_acc: 0.8503289']\n",
      "Optimizer: Adam lr: 0.0004 Batch Size: 128\n",
      "['Number: 0 - acc: 0.8777006  - val_acc: 0.8322368', 'Number: 2 - acc: 0.8777006  - val_acc: 0.8486842', 'Number: 3 - acc: 0.88001543  - val_acc: 0.8305921']\n",
      "Optimizer: Adam lr: 0.0004 Batch Size: 256\n",
      "['Number: 0 - acc: 0.8748071  - val_acc: 0.82236844', 'Number: 2 - acc: 0.8842593  - val_acc: 0.8009868', 'Number: 3 - acc: 0.87924385  - val_acc: 0.81414473']\n",
      "Optimizer: RMSprop lr: 0.0001 Batch Size: 64\n",
      "['Number: 0 - acc: 0.8831019  - val_acc: 0.87828946', 'Number: 2 - acc: 0.8825231  - val_acc: 0.87335527', 'Number: 3 - acc: 0.88040125  - val_acc: 0.87664473']\n",
      "Optimizer: RMSprop lr: 0.0001 Batch Size: 128\n",
      "['Number: 0 - acc: 0.8879244  - val_acc: 0.8125', 'Number: 2 - acc: 0.884838  - val_acc: 0.8684211', 'Number: 3 - acc: 0.88560957  - val_acc: 0.8865132']\n",
      "Optimizer: RMSprop lr: 0.0001 Batch Size: 256\n",
      "['Number: 0 - acc: 0.8879244  - val_acc: 0.8125', 'Number: 2 - acc: 0.88290894  - val_acc: 0.87664473', 'Number: 3 - acc: 0.8778935  - val_acc: 0.8881579']\n",
      "Optimizer: Adam lr: 0.0001 Batch Size: 64\n",
      "['Number: 0 - acc: 0.88155866  - val_acc: 0.8305921', 'Number: 2 - acc: 0.88560957  - val_acc: 0.8667763', 'Number: 3 - acc: 0.8777006  - val_acc: 0.8832237']\n",
      "Optimizer: Adam lr: 0.0001 Batch Size: 128\n",
      "['Number: 0 - acc: 0.8854167  - val_acc: 0.8618421', 'Number: 2 - acc: 0.87982255  - val_acc: 0.86019737', 'Number: 3 - acc: 0.88676697  - val_acc: 0.8799342']\n",
      "Optimizer: Adam lr: 0.0001 Batch Size: 256\n",
      "['Number: 0 - acc: 0.88406634  - val_acc: 0.82894737', 'Number: 2 - acc: 0.88271606  - val_acc: 0.85855263', 'Number: 3 - acc: 0.88618827  - val_acc: 0.86513156']\n",
      "Optimizer: RMSprop lr: 4e-05 Batch Size: 64\n",
      "['Number: 0 - acc: 0.88117284  - val_acc: 0.8355263', 'Number: 2 - acc: 0.88638115  - val_acc: 0.8684211', 'Number: 3 - acc: 0.88271606  - val_acc: 0.86513156']\n",
      "Optimizer: RMSprop lr: 4e-05 Batch Size: 128\n",
      "['Number: 0 - acc: 0.8859954  - val_acc: 0.8569079', 'Number: 2 - acc: 0.8842593  - val_acc: 0.86513156', 'Number: 3 - acc: 0.888696  - val_acc: 0.84375']\n",
      "Optimizer: RMSprop lr: 4e-05 Batch Size: 256\n",
      "['Number: 0 - acc: 0.8784722  - val_acc: 0.875', 'Number: 2 - acc: 0.88290894  - val_acc: 0.8634868', 'Number: 3 - acc: 0.88560957  - val_acc: 0.87664473']\n",
      "Optimizer: Adam lr: 4e-05 Batch Size: 64\n",
      "['Number: 0 - acc: 0.884838  - val_acc: 0.8552632', 'Number: 2 - acc: 0.8784722  - val_acc: 0.8684211', 'Number: 3 - acc: 0.8883102  - val_acc: 0.84539473']\n",
      "Optimizer: Adam lr: 4e-05 Batch Size: 128\n",
      "['Number: 0 - acc: 0.88001543  - val_acc: 0.86019737', 'Number: 2 - acc: 0.88040125  - val_acc: 0.87335527', 'Number: 3 - acc: 0.8888889  - val_acc: 0.86019737']\n",
      "Optimizer: Adam lr: 4e-05 Batch Size: 256\n",
      "['Number: 0 - acc: 0.8854167  - val_acc: 0.8552632', 'Number: 2 - acc: 0.8892747  - val_acc: 0.85361844', 'Number: 3 - acc: 0.8908179  - val_acc: 0.8552632']\n",
      "Optimizer: RMSprop lr: 2e-05 Batch Size: 64\n",
      "['Number: 0 - acc: 0.8836806  - val_acc: 0.8503289', 'Number: 2 - acc: 0.88676697  - val_acc: 0.86019737', 'Number: 3 - acc: 0.884838  - val_acc: 0.8634868']\n",
      "Optimizer: RMSprop lr: 2e-05 Batch Size: 128\n",
      "['Number: 0 - acc: 0.88213736  - val_acc: 0.8618421', 'Number: 2 - acc: 0.88387346  - val_acc: 0.8634868', 'Number: 3 - acc: 0.88406634  - val_acc: 0.86019737']\n",
      "Optimizer: RMSprop lr: 2e-05 Batch Size: 256\n",
      "['Number: 0 - acc: 0.88348764  - val_acc: 0.87335527', 'Number: 2 - acc: 0.8871528  - val_acc: 0.8569079', 'Number: 3 - acc: 0.890625  - val_acc: 0.87335527']\n",
      "Optimizer: Adam lr: 2e-05 Batch Size: 64\n",
      "['Number: 0 - acc: 0.8904321  - val_acc: 0.84539473', 'Number: 2 - acc: 0.88233024  - val_acc: 0.8618421', 'Number: 3 - acc: 0.88618827  - val_acc: 0.85361844']\n",
      "Optimizer: Adam lr: 2e-05 Batch Size: 128\n",
      "['Number: 0 - acc: 0.88695985  - val_acc: 0.8519737', 'Number: 2 - acc: 0.888696  - val_acc: 0.8569079', 'Number: 3 - acc: 0.88445216  - val_acc: 0.87171054']\n",
      "Optimizer: Adam lr: 2e-05 Batch Size: 256\n",
      "['Number: 0 - acc: 0.888696  - val_acc: 0.8618421', 'Number: 2 - acc: 0.88290894  - val_acc: 0.8700658', 'Number: 3 - acc: 0.88233024  - val_acc: 0.87171054']\n",
      "Optimizer: RMSprop lr: 1e-05 Batch Size: 64\n",
      "['Number: 0 - acc: 0.88097996  - val_acc: 0.86019737', 'Number: 2 - acc: 0.8854167  - val_acc: 0.86513156', 'Number: 3 - acc: 0.8888889  - val_acc: 0.8634868']\n",
      "Optimizer: RMSprop lr: 1e-05 Batch Size: 128\n",
      "['Number: 0 - acc: 0.88464504  - val_acc: 0.87171054', 'Number: 2 - acc: 0.8879244  - val_acc: 0.8569079', 'Number: 3 - acc: 0.8896605  - val_acc: 0.8667763']\n",
      "Optimizer: RMSprop lr: 1e-05 Batch Size: 256\n",
      "['Number: 0 - acc: 0.8910108  - val_acc: 0.8519737', 'Number: 2 - acc: 0.8888889  - val_acc: 0.86513156', 'Number: 3 - acc: 0.8904321  - val_acc: 0.86019737']\n",
      "Optimizer: Adam lr: 1e-05 Batch Size: 64\n",
      "['Number: 0 - acc: 0.8908179  - val_acc: 0.8569079', 'Number: 2 - acc: 0.8904321  - val_acc: 0.86513156', 'Number: 3 - acc: 0.8913966  - val_acc: 0.8700658']\n",
      "Optimizer: Adam lr: 1e-05 Batch Size: 128\n",
      "['Number: 0 - acc: 0.8885031  - val_acc: 0.8684211', 'Number: 2 - acc: 0.88695985  - val_acc: 0.8552632', 'Number: 3 - acc: 0.8929398  - val_acc: 0.86513156']\n"
     ]
    },
    {
     "name": "stdout",
     "output_type": "stream",
     "text": [
      "Optimizer: Adam lr: 1e-05 Batch Size: 256\n",
      "['Number: 0 - acc: 0.88348764  - val_acc: 0.8618421', 'Number: 2 - acc: 0.88753855  - val_acc: 0.8634868', 'Number: 3 - acc: 0.880787  - val_acc: 0.8618421']\n",
      "Optimizer: RMSprop lr: 0.01 Batch Size: 64\n",
      "['Number: 0 - acc: 0.7201003  - val_acc: 0.61513156', 'Number: 2 - acc: 0.74054784  - val_acc: 0.61513156', 'Number: 3 - acc: 0.69579476  - val_acc: 0.61513156']\n",
      "Optimizer: RMSprop lr: 0.01 Batch Size: 128\n",
      "['Number: 0 - acc: 0.6703318  - val_acc: 0.61513156', 'Number: 2 - acc: 0.7256944  - val_acc: 0.61513156', 'Number: 3 - acc: 0.71489197  - val_acc: 0.61513156']\n",
      "Optimizer: RMSprop lr: 0.01 Batch Size: 256\n",
      "['Number: 0 - acc: 0.677662  - val_acc: 0.61513156', 'Number: 2 - acc: 0.6533565  - val_acc: 0.61513156', 'Number: 3 - acc: 0.72723764  - val_acc: 0.61513156']\n",
      "Optimizer: Adam lr: 0.01 Batch Size: 64\n",
      "['Number: 0 - acc: 0.802662  - val_acc: 0.7384868', 'Number: 2 - acc: 0.8472222  - val_acc: 0.78453946', 'Number: 3 - acc: 0.8628472  - val_acc: 0.74671054']\n",
      "Optimizer: Adam lr: 0.01 Batch Size: 128\n",
      "['Number: 0 - acc: 0.75385803  - val_acc: 0.8552632', 'Number: 2 - acc: 0.873071  - val_acc: 0.7565789', 'Number: 3 - acc: 0.87943673  - val_acc: 0.8256579']\n",
      "Optimizer: Adam lr: 0.01 Batch Size: 256\n",
      "['Number: 0 - acc: 0.7152778  - val_acc: 0.75', 'Number: 2 - acc: 0.8697917  - val_acc: 0.72039473', 'Number: 3 - acc: 0.8790509  - val_acc: 0.8305921']\n",
      "Optimizer: RMSprop lr: 0.001 Batch Size: 64\n",
      "['Number: 0 - acc: 0.88155866  - val_acc: 0.8503289', 'Number: 2 - acc: 0.888696  - val_acc: 0.79111844', 'Number: 3 - acc: 0.8913966  - val_acc: 0.84703946']\n",
      "Optimizer: RMSprop lr: 0.001 Batch Size: 128\n",
      "['Number: 0 - acc: 0.8813657  - val_acc: 0.83388156', 'Number: 2 - acc: 0.88560957  - val_acc: 0.77138156', 'Number: 3 - acc: 0.8879244  - val_acc: 0.6381579']\n",
      "Optimizer: RMSprop lr: 0.001 Batch Size: 256\n",
      "['Number: 0 - acc: 0.8784722  - val_acc: 0.8190789', 'Number: 2 - acc: 0.8923611  - val_acc: 0.84703946', 'Number: 3 - acc: 0.90084875  - val_acc: 0.7006579']\n",
      "Optimizer: Adam lr: 0.001 Batch Size: 64\n",
      "['Number: 0 - acc: 0.9072145  - val_acc: 0.80921054', 'Number: 2 - acc: 0.91222996  - val_acc: 0.8486842', 'Number: 3 - acc: 0.900463  - val_acc: 0.79605263']\n",
      "Optimizer: Adam lr: 0.001 Batch Size: 128\n",
      "['Number: 0 - acc: 0.91358024  - val_acc: 0.76480263', 'Number: 2 - acc: 0.91222996  - val_acc: 0.86513156', 'Number: 3 - acc: 0.91685957  - val_acc: 0.8569079']\n",
      "Optimizer: Adam lr: 0.001 Batch Size: 256\n",
      "['Number: 0 - acc: 0.91222996  - val_acc: 0.7878289', 'Number: 2 - acc: 0.9166667  - val_acc: 0.82730263', 'Number: 3 - acc: 0.91820985  - val_acc: 0.7894737']\n",
      "Optimizer: RMSprop lr: 0.0004 Batch Size: 64\n",
      "['Number: 0 - acc: 0.9089506  - val_acc: 0.6940789', 'Number: 2 - acc: 0.91570216  - val_acc: 0.8519737', 'Number: 3 - acc: 0.9131944  - val_acc: 0.79769737']\n",
      "Optimizer: RMSprop lr: 0.0004 Batch Size: 128\n",
      "['Number: 0 - acc: 0.9072145  - val_acc: 0.75328946', 'Number: 2 - acc: 0.91531634  - val_acc: 0.6957237', 'Number: 3 - acc: 0.91801697  - val_acc: 0.86019737']\n",
      "Optimizer: RMSprop lr: 0.0004 Batch Size: 256\n",
      "['Number: 0 - acc: 0.9126157  - val_acc: 0.84210527', 'Number: 2 - acc: 0.9149306  - val_acc: 0.85361844', 'Number: 3 - acc: 0.91454476  - val_acc: 0.76644737']\n",
      "Optimizer: Adam lr: 0.0004 Batch Size: 64\n",
      "['Number: 0 - acc: 0.9234182  - val_acc: 0.8240132', 'Number: 2 - acc: 0.92746913  - val_acc: 0.8355263', 'Number: 3 - acc: 0.9230324  - val_acc: 0.8355263']\n",
      "Optimizer: Adam lr: 0.0004 Batch Size: 128\n",
      "['Number: 0 - acc: 0.93016976  - val_acc: 0.8371711', 'Number: 2 - acc: 0.9288194  - val_acc: 0.87664473', 'Number: 3 - acc: 0.92785496  - val_acc: 0.8355263']\n",
      "Optimizer: Adam lr: 0.0004 Batch Size: 256\n",
      "['Number: 0 - acc: 0.9228395  - val_acc: 0.87171054', 'Number: 2 - acc: 0.9293981  - val_acc: 0.82236844', 'Number: 3 - acc: 0.931713  - val_acc: 0.8684211']\n",
      "Optimizer: RMSprop lr: 0.0001 Batch Size: 64\n",
      "['Number: 0 - acc: 0.93094134  - val_acc: 0.86019737', 'Number: 2 - acc: 0.93132716  - val_acc: 0.85361844', 'Number: 3 - acc: 0.9342207  - val_acc: 0.84375']\n",
      "Optimizer: RMSprop lr: 0.0001 Batch Size: 128\n",
      "['Number: 0 - acc: 0.93094134  - val_acc: 0.8256579', 'Number: 2 - acc: 0.93383485  - val_acc: 0.8667763', 'Number: 3 - acc: 0.927662  - val_acc: 0.8075658']\n",
      "Optimizer: RMSprop lr: 0.0001 Batch Size: 256\n",
      "['Number: 0 - acc: 0.93383485  - val_acc: 0.8059211', 'Number: 2 - acc: 0.93132716  - val_acc: 0.8355263', 'Number: 3 - acc: 0.93094134  - val_acc: 0.86513156']\n",
      "Optimizer: Adam lr: 0.0001 Batch Size: 64\n",
      "['Number: 0 - acc: 0.93267745  - val_acc: 0.8684211', 'Number: 2 - acc: 0.93383485  - val_acc: 0.8618421', 'Number: 3 - acc: 0.9322917  - val_acc: 0.84375']\n",
      "Optimizer: Adam lr: 0.0001 Batch Size: 128\n",
      "['Number: 0 - acc: 0.9369213  - val_acc: 0.8684211', 'Number: 2 - acc: 0.9367284  - val_acc: 0.81085527', 'Number: 3 - acc: 0.92843366  - val_acc: 0.8009868']\n",
      "Optimizer: Adam lr: 0.0001 Batch Size: 256\n",
      "['Number: 0 - acc: 0.9361497  - val_acc: 0.84210527', 'Number: 2 - acc: 0.9402006  - val_acc: 0.8569079', 'Number: 3 - acc: 0.93306327  - val_acc: 0.8667763']\n",
      "Optimizer: RMSprop lr: 4e-05 Batch Size: 64\n",
      "['Number: 0 - acc: 0.9340278  - val_acc: 0.84210527', 'Number: 2 - acc: 0.9402006  - val_acc: 0.8700658', 'Number: 3 - acc: 0.93209875  - val_acc: 0.8634868']\n",
      "Optimizer: RMSprop lr: 4e-05 Batch Size: 128\n",
      "['Number: 0 - acc: 0.9357639  - val_acc: 0.8700658', 'Number: 2 - acc: 0.93306327  - val_acc: 0.8667763', 'Number: 3 - acc: 0.9334491  - val_acc: 0.8700658']\n",
      "Optimizer: RMSprop lr: 4e-05 Batch Size: 256\n",
      "['Number: 0 - acc: 0.9384645  - val_acc: 0.8503289', 'Number: 2 - acc: 0.939429  - val_acc: 0.8552632', 'Number: 3 - acc: 0.9392361  - val_acc: 0.84703946']\n",
      "Optimizer: Adam lr: 4e-05 Batch Size: 64\n",
      "['Number: 0 - acc: 0.9375  - val_acc: 0.86513156', 'Number: 2 - acc: 0.9388503  - val_acc: 0.87171054', 'Number: 3 - acc: 0.9363426  - val_acc: 0.8684211']\n",
      "Optimizer: Adam lr: 4e-05 Batch Size: 128\n",
      "['Number: 0 - acc: 0.9382716  - val_acc: 0.8700658', 'Number: 2 - acc: 0.9369213  - val_acc: 0.8618421', 'Number: 3 - acc: 0.9403935  - val_acc: 0.84703946']\n",
      "Optimizer: Adam lr: 4e-05 Batch Size: 256\n",
      "['Number: 0 - acc: 0.9407793  - val_acc: 0.84210527', 'Number: 2 - acc: 0.94232255  - val_acc: 0.84703946', 'Number: 3 - acc: 0.9384645  - val_acc: 0.8634868']\n",
      "Optimizer: RMSprop lr: 2e-05 Batch Size: 64\n",
      "['Number: 0 - acc: 0.9346065  - val_acc: 0.87335527', 'Number: 2 - acc: 0.939429  - val_acc: 0.8503289', 'Number: 3 - acc: 0.939429  - val_acc: 0.87335527']\n",
      "Optimizer: RMSprop lr: 2e-05 Batch Size: 128\n",
      "['Number: 0 - acc: 0.9375  - val_acc: 0.84046054', 'Number: 2 - acc: 0.9378858  - val_acc: 0.87171054', 'Number: 3 - acc: 0.9388503  - val_acc: 0.85361844']\n",
      "Optimizer: RMSprop lr: 2e-05 Batch Size: 256\n",
      "['Number: 0 - acc: 0.93364197  - val_acc: 0.8634868', 'Number: 2 - acc: 0.9376929  - val_acc: 0.8634868', 'Number: 3 - acc: 0.94058645  - val_acc: 0.8552632']\n",
      "Optimizer: Adam lr: 2e-05 Batch Size: 64\n",
      "['Number: 0 - acc: 0.9382716  - val_acc: 0.8634868', 'Number: 2 - acc: 0.9396219  - val_acc: 0.87171054', 'Number: 3 - acc: 0.9340278  - val_acc: 0.87171054']\n",
      "Optimizer: Adam lr: 2e-05 Batch Size: 128\n",
      "['Number: 0 - acc: 0.9398148  - val_acc: 0.85855263', 'Number: 2 - acc: 0.939429  - val_acc: 0.8618421', 'Number: 3 - acc: 0.9390432  - val_acc: 0.8552632']\n",
      "Optimizer: Adam lr: 2e-05 Batch Size: 256\n",
      "['Number: 0 - acc: 0.9386574  - val_acc: 0.8519737', 'Number: 2 - acc: 0.9363426  - val_acc: 0.8634868', 'Number: 3 - acc: 0.9380787  - val_acc: 0.8618421']\n",
      "Optimizer: RMSprop lr: 1e-05 Batch Size: 64\n",
      "['Number: 0 - acc: 0.9407793  - val_acc: 0.8552632', 'Number: 2 - acc: 0.9390432  - val_acc: 0.8618421', 'Number: 3 - acc: 0.9365355  - val_acc: 0.87171054']\n",
      "Optimizer: RMSprop lr: 1e-05 Batch Size: 128\n",
      "['Number: 0 - acc: 0.94174385  - val_acc: 0.8684211', 'Number: 2 - acc: 0.9376929  - val_acc: 0.85855263', 'Number: 3 - acc: 0.9390432  - val_acc: 0.86513156']\n",
      "Optimizer: RMSprop lr: 1e-05 Batch Size: 256\n",
      "['Number: 0 - acc: 0.94116515  - val_acc: 0.87171054', 'Number: 2 - acc: 0.94367284  - val_acc: 0.86513156', 'Number: 3 - acc: 0.9398148  - val_acc: 0.86019737']\n",
      "Optimizer: Adam lr: 1e-05 Batch Size: 64\n",
      "['Number: 0 - acc: 0.939429  - val_acc: 0.8634868', 'Number: 2 - acc: 0.9402006  - val_acc: 0.8634868', 'Number: 3 - acc: 0.9400077  - val_acc: 0.8634868']\n"
     ]
    },
    {
     "name": "stdout",
     "output_type": "stream",
     "text": [
      "Optimizer: Adam lr: 1e-05 Batch Size: 128\n",
      "['Number: 0 - acc: 0.9384645  - val_acc: 0.8618421', 'Number: 2 - acc: 0.9427083  - val_acc: 0.86019737', 'Number: 3 - acc: 0.943287  - val_acc: 0.8618421']\n",
      "Optimizer: Adam lr: 1e-05 Batch Size: 256\n",
      "['Number: 0 - acc: 0.9390432  - val_acc: 0.86513156', 'Number: 2 - acc: 0.94540894  - val_acc: 0.8618421', 'Number: 3 - acc: 0.94135803  - val_acc: 0.8618421']\n",
      "Optimizer: RMSprop lr: 0.01 Batch Size: 64\n",
      "['Number: 0 - acc: 0.6747685  - val_acc: 0.61513156', 'Number: 2 - acc: 0.732446  - val_acc: 0.61513156', 'Number: 3 - acc: 0.7361111  - val_acc: 0.61513156']\n",
      "Optimizer: RMSprop lr: 0.01 Batch Size: 128\n",
      "['Number: 0 - acc: 0.7025463  - val_acc: 0.61513156', 'Number: 2 - acc: 0.7141204  - val_acc: 0.61513156', 'Number: 3 - acc: 0.7083333  - val_acc: 0.61513156']\n",
      "Optimizer: RMSprop lr: 0.01 Batch Size: 256\n",
      "['Number: 0 - acc: 0.5243056  - val_acc: 0.61513156', 'Number: 2 - acc: 0.41666666  - val_acc: 0.3848684', 'Number: 3 - acc: 0.583912  - val_acc: 0.6184211']\n",
      "Optimizer: Adam lr: 0.01 Batch Size: 64\n",
      "['Number: 0 - acc: 0.83314043  - val_acc: 0.70888156', 'Number: 2 - acc: 0.81905866  - val_acc: 0.61513156', 'Number: 3 - acc: 0.7993827  - val_acc: 0.71710527']\n",
      "Optimizer: Adam lr: 0.01 Batch Size: 128\n",
      "['Number: 0 - acc: 0.80189043  - val_acc: 0.7894737', 'Number: 2 - acc: 0.8433642  - val_acc: 0.82894737', 'Number: 3 - acc: 0.8472222  - val_acc: 0.65460527']\n",
      "Optimizer: Adam lr: 0.01 Batch Size: 256\n",
      "['Number: 0 - acc: 0.71045524  - val_acc: 0.61513156', 'Number: 2 - acc: 0.7970679  - val_acc: 0.74013156', 'Number: 3 - acc: 0.8703704  - val_acc: 0.63980263']\n",
      "Optimizer: RMSprop lr: 0.001 Batch Size: 64\n",
      "['Number: 0 - acc: 0.8923611  - val_acc: 0.7730263', 'Number: 2 - acc: 0.8929398  - val_acc: 0.7582237', 'Number: 3 - acc: 0.8933256  - val_acc: 0.67763156']\n",
      "Optimizer: RMSprop lr: 0.001 Batch Size: 128\n",
      "['Number: 0 - acc: 0.88175154  - val_acc: 0.84703946', 'Number: 2 - acc: 0.8921682  - val_acc: 0.7730263', 'Number: 3 - acc: 0.89660496  - val_acc: 0.8618421']\n",
      "Optimizer: RMSprop lr: 0.001 Batch Size: 256\n",
      "['Number: 0 - acc: 0.8859954  - val_acc: 0.8552632', 'Number: 2 - acc: 0.8908179  - val_acc: 0.7269737', 'Number: 3 - acc: 0.8933256  - val_acc: 0.8322368']\n",
      "Optimizer: Adam lr: 0.001 Batch Size: 64\n",
      "['Number: 0 - acc: 0.9047068  - val_acc: 0.85361844', 'Number: 2 - acc: 0.91184413  - val_acc: 0.8174342', 'Number: 3 - acc: 0.9079861  - val_acc: 0.81085527']\n",
      "Optimizer: Adam lr: 0.001 Batch Size: 128\n",
      "['Number: 0 - acc: 0.91049385  - val_acc: 0.7894737', 'Number: 2 - acc: 0.90991515  - val_acc: 0.8240132', 'Number: 3 - acc: 0.9178241  - val_acc: 0.85855263']\n",
      "Optimizer: Adam lr: 0.001 Batch Size: 256\n",
      "['Number: 0 - acc: 0.88580245  - val_acc: 0.8519737', 'Number: 2 - acc: 0.91570216  - val_acc: 0.86019737', 'Number: 3 - acc: 0.91570216  - val_acc: 0.85361844']\n",
      "Optimizer: RMSprop lr: 0.0004 Batch Size: 64\n",
      "['Number: 0 - acc: 0.9064429  - val_acc: 0.875', 'Number: 2 - acc: 0.90933645  - val_acc: 0.7944079', 'Number: 3 - acc: 0.91222996  - val_acc: 0.8190789']\n",
      "Optimizer: RMSprop lr: 0.0004 Batch Size: 128\n",
      "['Number: 0 - acc: 0.9074074  - val_acc: 0.8256579', 'Number: 2 - acc: 0.9166667  - val_acc: 0.6809211', 'Number: 3 - acc: 0.91049385  - val_acc: 0.87664473']\n",
      "Optimizer: RMSprop lr: 0.0004 Batch Size: 256\n",
      "['Number: 0 - acc: 0.90316355  - val_acc: 0.8059211', 'Number: 2 - acc: 0.9184028  - val_acc: 0.8684211', 'Number: 3 - acc: 0.91242284  - val_acc: 0.87335527']\n",
      "Optimizer: Adam lr: 0.0004 Batch Size: 64\n",
      "['Number: 0 - acc: 0.91338736  - val_acc: 0.82730263', 'Number: 2 - acc: 0.91415894  - val_acc: 0.87664473', 'Number: 3 - acc: 0.9197531  - val_acc: 0.8815789']\n",
      "Optimizer: Adam lr: 0.0004 Batch Size: 128\n",
      "['Number: 0 - acc: 0.9239969  - val_acc: 0.8388158', 'Number: 2 - acc: 0.92573303  - val_acc: 0.86019737', 'Number: 3 - acc: 0.92611885  - val_acc: 0.85855263']\n",
      "Optimizer: Adam lr: 0.0004 Batch Size: 256\n",
      "['Number: 0 - acc: 0.92611885  - val_acc: 0.8799342', 'Number: 2 - acc: 0.9195602  - val_acc: 0.84703946', 'Number: 3 - acc: 0.9265046  - val_acc: 0.8486842']\n",
      "Optimizer: RMSprop lr: 0.0001 Batch Size: 64\n",
      "['Number: 0 - acc: 0.93016976  - val_acc: 0.87664473', 'Number: 2 - acc: 0.92611885  - val_acc: 0.87828946', 'Number: 3 - acc: 0.92746913  - val_acc: 0.8700658']\n",
      "Optimizer: RMSprop lr: 0.0001 Batch Size: 128\n",
      "['Number: 0 - acc: 0.92920524  - val_acc: 0.8305921', 'Number: 2 - acc: 0.9259259  - val_acc: 0.875', 'Number: 3 - acc: 0.92804784  - val_acc: 0.80263156']\n",
      "Optimizer: RMSprop lr: 0.0001 Batch Size: 256\n",
      "['Number: 0 - acc: 0.92611885  - val_acc: 0.80263156', 'Number: 2 - acc: 0.93132716  - val_acc: 0.79769737', 'Number: 3 - acc: 0.9311343  - val_acc: 0.81578946']\n",
      "Optimizer: Adam lr: 0.0001 Batch Size: 64\n",
      "['Number: 0 - acc: 0.9305556  - val_acc: 0.87664473', 'Number: 2 - acc: 0.9270833  - val_acc: 0.87664473', 'Number: 3 - acc: 0.9346065  - val_acc: 0.84539473']\n",
      "Optimizer: Adam lr: 0.0001 Batch Size: 128\n",
      "['Number: 0 - acc: 0.927662  - val_acc: 0.87171054', 'Number: 2 - acc: 0.93248457  - val_acc: 0.85361844', 'Number: 3 - acc: 0.9369213  - val_acc: 0.875']\n",
      "Optimizer: Adam lr: 0.0001 Batch Size: 256\n",
      "['Number: 0 - acc: 0.93074846  - val_acc: 0.84046054', 'Number: 2 - acc: 0.93325615  - val_acc: 0.8700658', 'Number: 3 - acc: 0.9293981  - val_acc: 0.8486842']\n",
      "Optimizer: RMSprop lr: 4e-05 Batch Size: 64\n",
      "['Number: 0 - acc: 0.93383485  - val_acc: 0.87664473', 'Number: 2 - acc: 0.93306327  - val_acc: 0.8371711', 'Number: 3 - acc: 0.9359568  - val_acc: 0.8684211']\n",
      "Optimizer: RMSprop lr: 4e-05 Batch Size: 128\n",
      "['Number: 0 - acc: 0.93036264  - val_acc: 0.87664473', 'Number: 2 - acc: 0.9351852  - val_acc: 0.8569079', 'Number: 3 - acc: 0.93036264  - val_acc: 0.8519737']\n",
      "Optimizer: RMSprop lr: 4e-05 Batch Size: 256\n",
      "['Number: 0 - acc: 0.9373071  - val_acc: 0.84703946', 'Number: 2 - acc: 0.92746913  - val_acc: 0.84046054', 'Number: 3 - acc: 0.93074846  - val_acc: 0.84046054']\n",
      "Optimizer: Adam lr: 4e-05 Batch Size: 64\n",
      "['Number: 0 - acc: 0.92862654  - val_acc: 0.8322368', 'Number: 2 - acc: 0.93248457  - val_acc: 0.8388158', 'Number: 3 - acc: 0.93074846  - val_acc: 0.84703946']\n",
      "Optimizer: Adam lr: 4e-05 Batch Size: 128\n",
      "['Number: 0 - acc: 0.9346065  - val_acc: 0.8799342', 'Number: 2 - acc: 0.9342207  - val_acc: 0.8700658', 'Number: 3 - acc: 0.9361497  - val_acc: 0.8667763']\n",
      "Optimizer: Adam lr: 4e-05 Batch Size: 256\n",
      "['Number: 0 - acc: 0.93364197  - val_acc: 0.86513156', 'Number: 2 - acc: 0.9346065  - val_acc: 0.8552632', 'Number: 3 - acc: 0.9340278  - val_acc: 0.84210527']\n",
      "Optimizer: RMSprop lr: 2e-05 Batch Size: 64\n",
      "['Number: 0 - acc: 0.93190587  - val_acc: 0.86513156', 'Number: 2 - acc: 0.9378858  - val_acc: 0.8552632', 'Number: 3 - acc: 0.9351852  - val_acc: 0.8799342']\n",
      "Optimizer: RMSprop lr: 2e-05 Batch Size: 128\n",
      "['Number: 0 - acc: 0.9371142  - val_acc: 0.8799342', 'Number: 2 - acc: 0.93036264  - val_acc: 0.84210527', 'Number: 3 - acc: 0.9251543  - val_acc: 0.8503289']\n",
      "Optimizer: RMSprop lr: 2e-05 Batch Size: 256\n",
      "['Number: 0 - acc: 0.931713  - val_acc: 0.84539473', 'Number: 2 - acc: 0.9334491  - val_acc: 0.8799342', 'Number: 3 - acc: 0.93132716  - val_acc: 0.84539473']\n",
      "Optimizer: Adam lr: 2e-05 Batch Size: 64\n",
      "['Number: 0 - acc: 0.93441355  - val_acc: 0.8667763', 'Number: 2 - acc: 0.92901236  - val_acc: 0.8503289', 'Number: 3 - acc: 0.9328704  - val_acc: 0.85855263']\n",
      "Optimizer: Adam lr: 2e-05 Batch Size: 128\n",
      "['Number: 0 - acc: 0.93441355  - val_acc: 0.8486842', 'Number: 2 - acc: 0.9293981  - val_acc: 0.8799342', 'Number: 3 - acc: 0.93209875  - val_acc: 0.8618421']\n",
      "Optimizer: Adam lr: 2e-05 Batch Size: 256\n",
      "['Number: 0 - acc: 0.93441355  - val_acc: 0.8700658', 'Number: 2 - acc: 0.93248457  - val_acc: 0.8519737', 'Number: 3 - acc: 0.9311343  - val_acc: 0.8700658']\n",
      "Optimizer: RMSprop lr: 1e-05 Batch Size: 64\n",
      "['Number: 0 - acc: 0.9322917  - val_acc: 0.87171054', 'Number: 2 - acc: 0.93016976  - val_acc: 0.87828946', 'Number: 3 - acc: 0.93383485  - val_acc: 0.8700658']\n",
      "Optimizer: RMSprop lr: 1e-05 Batch Size: 128\n",
      "['Number: 0 - acc: 0.931713  - val_acc: 0.8684211', 'Number: 2 - acc: 0.9369213  - val_acc: 0.8684211', 'Number: 3 - acc: 0.92785496  - val_acc: 0.85855263']\n",
      "Optimizer: RMSprop lr: 1e-05 Batch Size: 256\n",
      "['Number: 0 - acc: 0.9349923  - val_acc: 0.87335527', 'Number: 2 - acc: 0.9369213  - val_acc: 0.87664473', 'Number: 3 - acc: 0.93152004  - val_acc: 0.8552632']\n"
     ]
    },
    {
     "name": "stdout",
     "output_type": "stream",
     "text": [
      "Optimizer: Adam lr: 1e-05 Batch Size: 64\n",
      "['Number: 0 - acc: 0.93306327  - val_acc: 0.87171054', 'Number: 2 - acc: 0.9342207  - val_acc: 0.8700658', 'Number: 3 - acc: 0.9347994  - val_acc: 0.8503289']\n",
      "Optimizer: Adam lr: 1e-05 Batch Size: 128\n",
      "['Number: 0 - acc: 0.93364197  - val_acc: 0.8634868', 'Number: 2 - acc: 0.9322917  - val_acc: 0.8569079', 'Number: 3 - acc: 0.9349923  - val_acc: 0.86513156']\n",
      "Optimizer: Adam lr: 1e-05 Batch Size: 256\n",
      "['Number: 0 - acc: 0.9357639  - val_acc: 0.8684211', 'Number: 2 - acc: 0.9357639  - val_acc: 0.8684211', 'Number: 3 - acc: 0.9349923  - val_acc: 0.8684211']\n"
     ]
    }
   ],
   "source": [
    "epochs = 20\n",
    "\n",
    "def get_epoch(history, number):\n",
    "    acc = history['acc'][number]\n",
    "    val_acc = history['val_acc'][number]\n",
    "    return 'Number: %s - acc: %s  - val_acc: %s' % (number, acc, val_acc)\n",
    "    \n",
    "\n",
    "def resume_epochs(history, batch_size):\n",
    "    print('Optimizer: %s lr: %s Batch Size: %s' % (optimizer_function.__name__, lr, batch_size))\n",
    "    print( [get_epoch(history.history, 0), \n",
    "            get_epoch(history.history, len(history.history['acc']) // 2),\n",
    "            get_epoch(history.history, len(history.history['acc']) - 1)\n",
    "           ])\n",
    "\n",
    "best_val_acc = 0\n",
    "best_params = None\n",
    "all_historys = []\n",
    "for trial in range(3):\n",
    "    for lr in [0.01, 0.001, 0.0004, 0.0001, 0.00004, 0.00002, 0.00001]:\n",
    "        for optimizer_function in [RMSprop, Adam]:\n",
    "            for batch_size in [64, 128, 256]:\n",
    "                optimizer=optimizer_function(lr=lr)\n",
    "                model.compile(optimizer=optimizer, loss='binary_crossentropy', metrics=['acc'])\n",
    "                history = model.fit(x=features_train,\n",
    "                                    y=y_train,\n",
    "                                    batch_size=batch_size,\n",
    "                                    epochs=epochs,\n",
    "                                    verbose=0,\n",
    "                                    validation_data=(features_test, y_test),\n",
    "                                   )\n",
    "                resume_epochs(history, batch_size)\n",
    "                mean_val_acc = sum(history.history['val_acc']) / epochs\n",
    "                this_history = {'trial': trial,\n",
    "                                'lr': lr,\n",
    "                                'optimizer': optimizer_function.__name__,\n",
    "                                'batch_size': batch_size,\n",
    "                                'history': history.history,\n",
    "                                'mean_val_acc': mean_val_acc}\n",
    "                all_historys.append(this_history)\n",
    "                for ind, val_acc in enumerate(history.history['val_acc'], 1):\n",
    "                    if val_acc > best_val_acc:\n",
    "                        best_val_acc = val_acc\n",
    "                        best_params = {**this_history,\n",
    "                                       'epochs': ind,\n",
    "                                       'val_acc': val_acc}\n",
    "\n"
   ]
  },
  {
   "cell_type": "code",
   "execution_count": 10,
   "metadata": {},
   "outputs": [
    {
     "data": {
      "text/plain": [
       "{'batch_size': 128,\n",
       " 'epochs': 11,\n",
       " 'history': {'acc': [0.8879244,\n",
       "   0.88522375,\n",
       "   0.884838,\n",
       "   0.88560957,\n",
       "   0.8796296,\n",
       "   0.88406634,\n",
       "   0.8825231,\n",
       "   0.880787,\n",
       "   0.88503087,\n",
       "   0.88233024,\n",
       "   0.88560957,\n",
       "   0.8825231,\n",
       "   0.88001543,\n",
       "   0.88059413,\n",
       "   0.8784722,\n",
       "   0.88522375,\n",
       "   0.8813657,\n",
       "   0.87808645,\n",
       "   0.88445216,\n",
       "   0.8825231],\n",
       "  'loss': [0.42101160869186305,\n",
       "   0.38889007583076574,\n",
       "   0.38890349055513923,\n",
       "   0.38696593119774336,\n",
       "   0.38911284414338476,\n",
       "   0.3899866320468761,\n",
       "   0.38993777408276076,\n",
       "   0.38866366501207705,\n",
       "   0.38730849638397313,\n",
       "   0.389200109022635,\n",
       "   0.3849490737473523,\n",
       "   0.3854871690273285,\n",
       "   0.39020599075305606,\n",
       "   0.3894362457004594,\n",
       "   0.3915067999451249,\n",
       "   0.387226680914561,\n",
       "   0.387485996072675,\n",
       "   0.39432238575852946,\n",
       "   0.38422362230442186,\n",
       "   0.39387339758284295],\n",
       "  'val_acc': [0.8125,\n",
       "   0.8305921,\n",
       "   0.8684211,\n",
       "   0.8865132,\n",
       "   0.87335527,\n",
       "   0.80263156,\n",
       "   0.8256579,\n",
       "   0.89638156,\n",
       "   0.8059211,\n",
       "   0.84210527,\n",
       "   0.8996711,\n",
       "   0.8125,\n",
       "   0.82730263,\n",
       "   0.8569079,\n",
       "   0.86513156,\n",
       "   0.8190789,\n",
       "   0.87335527,\n",
       "   0.79769737,\n",
       "   0.8075658,\n",
       "   0.8684211],\n",
       "  'val_loss': [0.6669451876690513,\n",
       "   0.4931496068050987,\n",
       "   0.599485811434294,\n",
       "   0.4147293253948814,\n",
       "   0.5801380715872112,\n",
       "   0.5849577910021732,\n",
       "   0.6607104884950739,\n",
       "   0.3921565507587634,\n",
       "   0.7048513010928505,\n",
       "   0.48015165956396805,\n",
       "   0.5303127357834264,\n",
       "   0.5581187323520058,\n",
       "   0.6492643324952376,\n",
       "   0.4636770298606471,\n",
       "   0.5962335310484234,\n",
       "   0.565777019450539,\n",
       "   0.5749244407603615,\n",
       "   0.6023038123783312,\n",
       "   0.6995498475275541,\n",
       "   0.4665113499290065]},\n",
       " 'lr': 0.0001,\n",
       " 'mean_val_acc': 0.843585529923439,\n",
       " 'optimizer': 'RMSprop',\n",
       " 'val_acc': 0.8996711}"
      ]
     },
     "execution_count": 10,
     "metadata": {},
     "output_type": "execute_result"
    }
   ],
   "source": [
    "best_params"
   ]
  },
  {
   "cell_type": "code",
   "execution_count": 29,
   "metadata": {},
   "outputs": [
    {
     "data": {
      "text/plain": [
       "{'batch_size': 128,\n",
       " 'epochs': 18,\n",
       " 'lr': 0.0004,\n",
       " 'optimizer': 'Adam',\n",
       " 'val_acc': 0.8930921}"
      ]
     },
     "execution_count": 29,
     "metadata": {},
     "output_type": "execute_result"
    }
   ],
   "source": [
    "best_params"
   ]
  },
  {
   "cell_type": "code",
   "execution_count": 25,
   "metadata": {},
   "outputs": [],
   "source": [
    "sorted_history = sorted(all_historys, key=lambda x:x['mean_val_acc'], reverse=True)"
   ]
  },
  {
   "cell_type": "code",
   "execution_count": 26,
   "metadata": {},
   "outputs": [],
   "source": [
    "import pickle"
   ]
  },
  {
   "cell_type": "code",
   "execution_count": 27,
   "metadata": {},
   "outputs": [],
   "source": [
    "with open('all_historys.pkl', 'wb') as out:\n",
    "    pickle.dump(sorted_history, out)"
   ]
  },
  {
   "cell_type": "code",
   "execution_count": 29,
   "metadata": {},
   "outputs": [],
   "source": [
    "with open('all_historys.pkl', 'rb') as in_history:\n",
    "    sorted_history = pickle.load(in_history)"
   ]
  },
  {
   "cell_type": "code",
   "execution_count": 32,
   "metadata": {},
   "outputs": [],
   "source": [
    "sorted_short_history = []\n",
    "for item in sorted_history:\n",
    "    history_line = item.copy()\n",
    "    history_line.pop('history')\n",
    "    sorted_short_history.append(history_line)"
   ]
  },
  {
   "cell_type": "code",
   "execution_count": 33,
   "metadata": {},
   "outputs": [
    {
     "data": {
      "text/plain": [
       "[{'batch_size': 64,\n",
       "  'lr': 1e-05,\n",
       "  'mean_val_acc': 0.8671052694320679,\n",
       "  'optimizer': 'RMSprop'},\n",
       " {'batch_size': 128,\n",
       "  'lr': 0.0001,\n",
       "  'mean_val_acc': 0.8666118413209916,\n",
       "  'optimizer': 'Adam'},\n",
       " {'batch_size': 128,\n",
       "  'lr': 2e-05,\n",
       "  'mean_val_acc': 0.8663651287555695,\n",
       "  'optimizer': 'RMSprop'},\n",
       " {'batch_size': 256,\n",
       "  'lr': 1e-05,\n",
       "  'mean_val_acc': 0.8662828981876374,\n",
       "  'optimizer': 'RMSprop'},\n",
       " {'batch_size': 128,\n",
       "  'lr': 1e-05,\n",
       "  'mean_val_acc': 0.8662828952074051,\n",
       "  'optimizer': 'Adam'},\n",
       " {'batch_size': 64,\n",
       "  'lr': 2e-05,\n",
       "  'mean_val_acc': 0.8650493383407593,\n",
       "  'optimizer': 'Adam'},\n",
       " {'batch_size': 256,\n",
       "  'lr': 2e-05,\n",
       "  'mean_val_acc': 0.8649671047925949,\n",
       "  'optimizer': 'Adam'},\n",
       " {'batch_size': 128,\n",
       "  'lr': 1e-05,\n",
       "  'mean_val_acc': 0.8648026257753372,\n",
       "  'optimizer': 'RMSprop'},\n",
       " {'batch_size': 256,\n",
       "  'lr': 1e-05,\n",
       "  'mean_val_acc': 0.8647203862667083,\n",
       "  'optimizer': 'Adam'},\n",
       " {'batch_size': 64,\n",
       "  'lr': 2e-05,\n",
       "  'mean_val_acc': 0.864638152718544,\n",
       "  'optimizer': 'RMSprop'},\n",
       " {'batch_size': 256,\n",
       "  'lr': 2e-05,\n",
       "  'mean_val_acc': 0.8645559281110764,\n",
       "  'optimizer': 'RMSprop'},\n",
       " {'batch_size': 64,\n",
       "  'lr': 1e-05,\n",
       "  'mean_val_acc': 0.8640625059604645,\n",
       "  'optimizer': 'Adam'},\n",
       " {'batch_size': 64,\n",
       "  'lr': 0.0001,\n",
       "  'mean_val_acc': 0.8640624940395355,\n",
       "  'optimizer': 'Adam'},\n",
       " {'batch_size': 128,\n",
       "  'lr': 4e-05,\n",
       "  'mean_val_acc': 0.8638980209827423,\n",
       "  'optimizer': 'Adam'},\n",
       " {'batch_size': 256,\n",
       "  'lr': 1e-05,\n",
       "  'mean_val_acc': 0.8638158023357392,\n",
       "  'optimizer': 'Adam'},\n",
       " {'batch_size': 64,\n",
       "  'lr': 4e-05,\n",
       "  'mean_val_acc': 0.8638157904148102,\n",
       "  'optimizer': 'RMSprop'},\n",
       " {'batch_size': 256,\n",
       "  'lr': 1e-05,\n",
       "  'mean_val_acc': 0.8635690748691559,\n",
       "  'optimizer': 'RMSprop'},\n",
       " {'batch_size': 64,\n",
       "  'lr': 4e-05,\n",
       "  'mean_val_acc': 0.8633223682641983,\n",
       "  'optimizer': 'Adam'},\n",
       " {'batch_size': 64,\n",
       "  'lr': 4e-05,\n",
       "  'mean_val_acc': 0.8632401287555694,\n",
       "  'optimizer': 'Adam'},\n",
       " {'batch_size': 64,\n",
       "  'lr': 1e-05,\n",
       "  'mean_val_acc': 0.863240122795105,\n",
       "  'optimizer': 'Adam'},\n",
       " {'batch_size': 128,\n",
       "  'lr': 2e-05,\n",
       "  'mean_val_acc': 0.8630756556987762,\n",
       "  'optimizer': 'RMSprop'},\n",
       " {'batch_size': 128,\n",
       "  'lr': 1e-05,\n",
       "  'mean_val_acc': 0.8630756497383117,\n",
       "  'optimizer': 'Adam'},\n",
       " {'batch_size': 256,\n",
       "  'lr': 2e-05,\n",
       "  'mean_val_acc': 0.8629934221506119,\n",
       "  'optimizer': 'Adam'},\n",
       " {'batch_size': 256,\n",
       "  'lr': 1e-05,\n",
       "  'mean_val_acc': 0.8629934132099152,\n",
       "  'optimizer': 'Adam'},\n",
       " {'batch_size': 64,\n",
       "  'lr': 1e-05,\n",
       "  'mean_val_acc': 0.8626644670963287,\n",
       "  'optimizer': 'RMSprop'},\n",
       " {'batch_size': 128,\n",
       "  'lr': 2e-05,\n",
       "  'mean_val_acc': 0.8625822365283966,\n",
       "  'optimizer': 'Adam'},\n",
       " {'batch_size': 128,\n",
       "  'lr': 1e-05,\n",
       "  'mean_val_acc': 0.8625000089406967,\n",
       "  'optimizer': 'RMSprop'},\n",
       " {'batch_size': 128,\n",
       "  'lr': 4e-05,\n",
       "  'mean_val_acc': 0.862335529923439,\n",
       "  'optimizer': 'Adam'},\n",
       " {'batch_size': 128,\n",
       "  'lr': 1e-05,\n",
       "  'mean_val_acc': 0.8623355209827424,\n",
       "  'optimizer': 'RMSprop'},\n",
       " {'batch_size': 256,\n",
       "  'lr': 4e-05,\n",
       "  'mean_val_acc': 0.8618420988321305,\n",
       "  'optimizer': 'Adam'},\n",
       " {'batch_size': 256,\n",
       "  'lr': 4e-05,\n",
       "  'mean_val_acc': 0.8616776317358017,\n",
       "  'optimizer': 'Adam'},\n",
       " {'batch_size': 64,\n",
       "  'lr': 1e-05,\n",
       "  'mean_val_acc': 0.8614309221506119,\n",
       "  'optimizer': 'RMSprop'},\n",
       " {'batch_size': 64,\n",
       "  'lr': 0.0001,\n",
       "  'mean_val_acc': 0.8614309161901474,\n",
       "  'optimizer': 'RMSprop'},\n",
       " {'batch_size': 128,\n",
       "  'lr': 2e-05,\n",
       "  'mean_val_acc': 0.8611842155456543,\n",
       "  'optimizer': 'Adam'},\n",
       " {'batch_size': 64,\n",
       "  'lr': 2e-05,\n",
       "  'mean_val_acc': 0.8611842095851898,\n",
       "  'optimizer': 'Adam'},\n",
       " {'batch_size': 64,\n",
       "  'lr': 1e-05,\n",
       "  'mean_val_acc': 0.8610197365283966,\n",
       "  'optimizer': 'Adam'},\n",
       " {'batch_size': 256,\n",
       "  'lr': 1e-05,\n",
       "  'mean_val_acc': 0.8606907904148102,\n",
       "  'optimizer': 'RMSprop'},\n",
       " {'batch_size': 64,\n",
       "  'lr': 2e-05,\n",
       "  'mean_val_acc': 0.8603618443012238,\n",
       "  'optimizer': 'RMSprop'},\n",
       " {'batch_size': 64,\n",
       "  'lr': 2e-05,\n",
       "  'mean_val_acc': 0.8600328922271728,\n",
       "  'optimizer': 'RMSprop'},\n",
       " {'batch_size': 128,\n",
       "  'lr': 1e-05,\n",
       "  'mean_val_acc': 0.8599506586790084,\n",
       "  'optimizer': 'Adam'},\n",
       " {'batch_size': 64,\n",
       "  'lr': 4e-05,\n",
       "  'mean_val_acc': 0.8598684251308442,\n",
       "  'optimizer': 'RMSprop'},\n",
       " {'batch_size': 256,\n",
       "  'lr': 0.0001,\n",
       "  'mean_val_acc': 0.8598684221506119,\n",
       "  'optimizer': 'Adam'},\n",
       " {'batch_size': 256,\n",
       "  'lr': 2e-05,\n",
       "  'mean_val_acc': 0.8598684161901474,\n",
       "  'optimizer': 'RMSprop'},\n",
       " {'batch_size': 256,\n",
       "  'lr': 2e-05,\n",
       "  'mean_val_acc': 0.8596217095851898,\n",
       "  'optimizer': 'RMSprop'},\n",
       " {'batch_size': 256,\n",
       "  'lr': 2e-05,\n",
       "  'mean_val_acc': 0.8596217066049576,\n",
       "  'optimizer': 'Adam'},\n",
       " {'batch_size': 128,\n",
       "  'lr': 2e-05,\n",
       "  'mean_val_acc': 0.85953948199749,\n",
       "  'optimizer': 'RMSprop'},\n",
       " {'batch_size': 128,\n",
       "  'lr': 2e-05,\n",
       "  'mean_val_acc': 0.859375,\n",
       "  'optimizer': 'Adam'},\n",
       " {'batch_size': 128,\n",
       "  'lr': 0.0001,\n",
       "  'mean_val_acc': 0.8592927694320679,\n",
       "  'optimizer': 'Adam'},\n",
       " {'batch_size': 64,\n",
       "  'lr': 4e-05,\n",
       "  'mean_val_acc': 0.8591282874345779,\n",
       "  'optimizer': 'RMSprop'},\n",
       " {'batch_size': 128,\n",
       "  'lr': 4e-05,\n",
       "  'mean_val_acc': 0.8590460538864135,\n",
       "  'optimizer': 'RMSprop'},\n",
       " {'batch_size': 256,\n",
       "  'lr': 4e-05,\n",
       "  'mean_val_acc': 0.8590460479259491,\n",
       "  'optimizer': 'RMSprop'},\n",
       " {'batch_size': 128,\n",
       "  'lr': 4e-05,\n",
       "  'mean_val_acc': 0.8585526317358017,\n",
       "  'optimizer': 'Adam'},\n",
       " {'batch_size': 128,\n",
       "  'lr': 0.0001,\n",
       "  'mean_val_acc': 0.858388152718544,\n",
       "  'optimizer': 'RMSprop'},\n",
       " {'batch_size': 128,\n",
       "  'lr': 4e-05,\n",
       "  'mean_val_acc': 0.8581414431333542,\n",
       "  'optimizer': 'RMSprop'},\n",
       " {'batch_size': 128,\n",
       "  'lr': 4e-05,\n",
       "  'mean_val_acc': 0.8580592125654221,\n",
       "  'optimizer': 'RMSprop'},\n",
       " {'batch_size': 64,\n",
       "  'lr': 2e-05,\n",
       "  'mean_val_acc': 0.8580592066049576,\n",
       "  'optimizer': 'Adam'},\n",
       " {'batch_size': 64,\n",
       "  'lr': 4e-05,\n",
       "  'mean_val_acc': 0.8577302724123002,\n",
       "  'optimizer': 'Adam'},\n",
       " {'batch_size': 256,\n",
       "  'lr': 0.0001,\n",
       "  'mean_val_acc': 0.8574835449457169,\n",
       "  'optimizer': 'Adam'},\n",
       " {'batch_size': 256,\n",
       "  'lr': 4e-05,\n",
       "  'mean_val_acc': 0.8573190778493881,\n",
       "  'optimizer': 'RMSprop'},\n",
       " {'batch_size': 256,\n",
       "  'lr': 0.0004,\n",
       "  'mean_val_acc': 0.8571546107530594,\n",
       "  'optimizer': 'Adam'},\n",
       " {'batch_size': 64,\n",
       "  'lr': 0.0001,\n",
       "  'mean_val_acc': 0.8569078981876374,\n",
       "  'optimizer': 'Adam'},\n",
       " {'batch_size': 256,\n",
       "  'lr': 4e-05,\n",
       "  'mean_val_acc': 0.8568256586790085,\n",
       "  'optimizer': 'Adam'},\n",
       " {'batch_size': 64,\n",
       "  'lr': 0.0001,\n",
       "  'mean_val_acc': 0.8568256556987762,\n",
       "  'optimizer': 'RMSprop'},\n",
       " {'batch_size': 256,\n",
       "  'lr': 0.0001,\n",
       "  'mean_val_acc': 0.8555098742246627,\n",
       "  'optimizer': 'Adam'},\n",
       " {'batch_size': 128,\n",
       "  'lr': 0.0004,\n",
       "  'mean_val_acc': 0.8555098652839661,\n",
       "  'optimizer': 'Adam'},\n",
       " {'batch_size': 256,\n",
       "  'lr': 4e-05,\n",
       "  'mean_val_acc': 0.8546875029802322,\n",
       "  'optimizer': 'RMSprop'},\n",
       " {'batch_size': 64,\n",
       "  'lr': 0.0001,\n",
       "  'mean_val_acc': 0.8536184191703796,\n",
       "  'optimizer': 'Adam'},\n",
       " {'batch_size': 256,\n",
       "  'lr': 0.0001,\n",
       "  'mean_val_acc': 0.853536182641983,\n",
       "  'optimizer': 'RMSprop'},\n",
       " {'batch_size': 64,\n",
       "  'lr': 0.0004,\n",
       "  'mean_val_acc': 0.8513157904148102,\n",
       "  'optimizer': 'Adam'},\n",
       " {'batch_size': 128,\n",
       "  'lr': 0.0004,\n",
       "  'mean_val_acc': 0.8512335538864135,\n",
       "  'optimizer': 'Adam'},\n",
       " {'batch_size': 64,\n",
       "  'lr': 0.0001,\n",
       "  'mean_val_acc': 0.8489309161901474,\n",
       "  'optimizer': 'RMSprop'},\n",
       " {'batch_size': 256,\n",
       "  'lr': 0.0004,\n",
       "  'mean_val_acc': 0.8477796107530594,\n",
       "  'optimizer': 'Adam'},\n",
       " {'batch_size': 256,\n",
       "  'lr': 0.0001,\n",
       "  'mean_val_acc': 0.8476973742246627,\n",
       "  'optimizer': 'RMSprop'},\n",
       " {'batch_size': 256,\n",
       "  'lr': 0.001,\n",
       "  'mean_val_acc': 0.8476151317358017,\n",
       "  'optimizer': 'Adam'},\n",
       " {'batch_size': 256,\n",
       "  'lr': 0.0001,\n",
       "  'mean_val_acc': 0.8472039461135864,\n",
       "  'optimizer': 'RMSprop'},\n",
       " {'batch_size': 128,\n",
       "  'lr': 0.0001,\n",
       "  'mean_val_acc': 0.8471217095851898,\n",
       "  'optimizer': 'Adam'},\n",
       " {'batch_size': 128,\n",
       "  'lr': 0.0001,\n",
       "  'mean_val_acc': 0.8467927634716034,\n",
       "  'optimizer': 'RMSprop'},\n",
       " {'batch_size': 256,\n",
       "  'lr': 0.0004,\n",
       "  'mean_val_acc': 0.8465460479259491,\n",
       "  'optimizer': 'Adam'},\n",
       " {'batch_size': 128,\n",
       "  'lr': 0.0001,\n",
       "  'mean_val_acc': 0.843585529923439,\n",
       "  'optimizer': 'RMSprop'},\n",
       " {'batch_size': 128,\n",
       "  'lr': 0.0004,\n",
       "  'mean_val_acc': 0.8430921018123627,\n",
       "  'optimizer': 'Adam'},\n",
       " {'batch_size': 64,\n",
       "  'lr': 0.0004,\n",
       "  'mean_val_acc': 0.8429276257753372,\n",
       "  'optimizer': 'RMSprop'},\n",
       " {'batch_size': 256,\n",
       "  'lr': 0.001,\n",
       "  'mean_val_acc': 0.8415295988321304,\n",
       "  'optimizer': 'Adam'},\n",
       " {'batch_size': 64,\n",
       "  'lr': 0.0004,\n",
       "  'mean_val_acc': 0.8400493443012238,\n",
       "  'optimizer': 'Adam'},\n",
       " {'batch_size': 256,\n",
       "  'lr': 0.001,\n",
       "  'mean_val_acc': 0.838075652718544,\n",
       "  'optimizer': 'Adam'},\n",
       " {'batch_size': 128,\n",
       "  'lr': 0.001,\n",
       "  'mean_val_acc': 0.8351973682641983,\n",
       "  'optimizer': 'Adam'},\n",
       " {'batch_size': 64,\n",
       "  'lr': 0.0004,\n",
       "  'mean_val_acc': 0.8349506497383118,\n",
       "  'optimizer': 'RMSprop'},\n",
       " {'batch_size': 256,\n",
       "  'lr': 0.0004,\n",
       "  'mean_val_acc': 0.8335526317358017,\n",
       "  'optimizer': 'RMSprop'},\n",
       " {'batch_size': 128,\n",
       "  'lr': 0.001,\n",
       "  'mean_val_acc': 0.831496712565422,\n",
       "  'optimizer': 'Adam'},\n",
       " {'batch_size': 128,\n",
       "  'lr': 0.001,\n",
       "  'mean_val_acc': 0.830016452074051,\n",
       "  'optimizer': 'Adam'},\n",
       " {'batch_size': 64,\n",
       "  'lr': 0.0004,\n",
       "  'mean_val_acc': 0.8282072395086288,\n",
       "  'optimizer': 'Adam'},\n",
       " {'batch_size': 64,\n",
       "  'lr': 0.001,\n",
       "  'mean_val_acc': 0.8220394730567933,\n",
       "  'optimizer': 'Adam'},\n",
       " {'batch_size': 64,\n",
       "  'lr': 0.001,\n",
       "  'mean_val_acc': 0.8209703892469407,\n",
       "  'optimizer': 'Adam'},\n",
       " {'batch_size': 64,\n",
       "  'lr': 0.001,\n",
       "  'mean_val_acc': 0.8206414490938186,\n",
       "  'optimizer': 'Adam'},\n",
       " {'batch_size': 128,\n",
       "  'lr': 0.0004,\n",
       "  'mean_val_acc': 0.818338817358017,\n",
       "  'optimizer': 'RMSprop'},\n",
       " {'batch_size': 128,\n",
       "  'lr': 0.0004,\n",
       "  'mean_val_acc': 0.8175986796617508,\n",
       "  'optimizer': 'RMSprop'},\n",
       " {'batch_size': 128,\n",
       "  'lr': 0.001,\n",
       "  'mean_val_acc': 0.812911182641983,\n",
       "  'optimizer': 'RMSprop'},\n",
       " {'batch_size': 256,\n",
       "  'lr': 0.0004,\n",
       "  'mean_val_acc': 0.8123355239629746,\n",
       "  'optimizer': 'RMSprop'},\n",
       " {'batch_size': 128,\n",
       "  'lr': 0.0004,\n",
       "  'mean_val_acc': 0.8116776376962662,\n",
       "  'optimizer': 'RMSprop'},\n",
       " {'batch_size': 256,\n",
       "  'lr': 0.0004,\n",
       "  'mean_val_acc': 0.8114309161901474,\n",
       "  'optimizer': 'RMSprop'},\n",
       " {'batch_size': 64,\n",
       "  'lr': 0.0004,\n",
       "  'mean_val_acc': 0.8071545988321305,\n",
       "  'optimizer': 'RMSprop'},\n",
       " {'batch_size': 64,\n",
       "  'lr': 0.001,\n",
       "  'mean_val_acc': 0.8056743532419205,\n",
       "  'optimizer': 'RMSprop'},\n",
       " {'batch_size': 64,\n",
       "  'lr': 0.001,\n",
       "  'mean_val_acc': 0.7990953922271729,\n",
       "  'optimizer': 'RMSprop'},\n",
       " {'batch_size': 256,\n",
       "  'lr': 0.001,\n",
       "  'mean_val_acc': 0.7922697395086289,\n",
       "  'optimizer': 'RMSprop'},\n",
       " {'batch_size': 256,\n",
       "  'lr': 0.001,\n",
       "  'mean_val_acc': 0.7913651376962662,\n",
       "  'optimizer': 'RMSprop'},\n",
       " {'batch_size': 128,\n",
       "  'lr': 0.01,\n",
       "  'mean_val_acc': 0.7905427664518356,\n",
       "  'optimizer': 'Adam'},\n",
       " {'batch_size': 256,\n",
       "  'lr': 0.001,\n",
       "  'mean_val_acc': 0.7848684251308441,\n",
       "  'optimizer': 'RMSprop'},\n",
       " {'batch_size': 128,\n",
       "  'lr': 0.001,\n",
       "  'mean_val_acc': 0.7837171077728271,\n",
       "  'optimizer': 'RMSprop'},\n",
       " {'batch_size': 256,\n",
       "  'lr': 0.01,\n",
       "  'mean_val_acc': 0.7833059161901474,\n",
       "  'optimizer': 'Adam'},\n",
       " {'batch_size': 64,\n",
       "  'lr': 0.001,\n",
       "  'mean_val_acc': 0.7821546047925949,\n",
       "  'optimizer': 'RMSprop'},\n",
       " {'batch_size': 128,\n",
       "  'lr': 0.01,\n",
       "  'mean_val_acc': 0.7753289461135864,\n",
       "  'optimizer': 'Adam'},\n",
       " {'batch_size': 64,\n",
       "  'lr': 0.01,\n",
       "  'mean_val_acc': 0.7611842036247254,\n",
       "  'optimizer': 'Adam'},\n",
       " {'batch_size': 256,\n",
       "  'lr': 0.01,\n",
       "  'mean_val_acc': 0.7606907904148101,\n",
       "  'optimizer': 'Adam'},\n",
       " {'batch_size': 256,\n",
       "  'lr': 0.01,\n",
       "  'mean_val_acc': 0.7592927664518356,\n",
       "  'optimizer': 'Adam'},\n",
       " {'batch_size': 128,\n",
       "  'lr': 0.01,\n",
       "  'mean_val_acc': 0.7570723623037339,\n",
       "  'optimizer': 'Adam'},\n",
       " {'batch_size': 128,\n",
       "  'lr': 0.001,\n",
       "  'mean_val_acc': 0.7483552604913711,\n",
       "  'optimizer': 'RMSprop'},\n",
       " {'batch_size': 64,\n",
       "  'lr': 0.01,\n",
       "  'mean_val_acc': 0.7157894611358643,\n",
       "  'optimizer': 'Adam'},\n",
       " {'batch_size': 64,\n",
       "  'lr': 0.01,\n",
       "  'mean_val_acc': 0.6830591976642608,\n",
       "  'optimizer': 'Adam'},\n",
       " {'batch_size': 256,\n",
       "  'lr': 0.01,\n",
       "  'mean_val_acc': 0.6323190629482269,\n",
       "  'optimizer': 'RMSprop'},\n",
       " {'batch_size': 64,\n",
       "  'lr': 0.01,\n",
       "  'mean_val_acc': 0.6192434042692184,\n",
       "  'optimizer': 'RMSprop'},\n",
       " {'batch_size': 64,\n",
       "  'lr': 0.01,\n",
       "  'mean_val_acc': 0.6151315569877625,\n",
       "  'optimizer': 'RMSprop'},\n",
       " {'batch_size': 128,\n",
       "  'lr': 0.01,\n",
       "  'mean_val_acc': 0.6151315569877625,\n",
       "  'optimizer': 'RMSprop'},\n",
       " {'batch_size': 256,\n",
       "  'lr': 0.01,\n",
       "  'mean_val_acc': 0.6151315569877625,\n",
       "  'optimizer': 'RMSprop'},\n",
       " {'batch_size': 64,\n",
       "  'lr': 0.01,\n",
       "  'mean_val_acc': 0.6151315569877625,\n",
       "  'optimizer': 'RMSprop'},\n",
       " {'batch_size': 128,\n",
       "  'lr': 0.01,\n",
       "  'mean_val_acc': 0.6036183997988701,\n",
       "  'optimizer': 'RMSprop'},\n",
       " {'batch_size': 128,\n",
       "  'lr': 0.01,\n",
       "  'mean_val_acc': 0.6030427426099777,\n",
       "  'optimizer': 'RMSprop'},\n",
       " {'batch_size': 256,\n",
       "  'lr': 0.01,\n",
       "  'mean_val_acc': 0.5692434042692185,\n",
       "  'optimizer': 'RMSprop'}]"
      ]
     },
     "execution_count": 33,
     "metadata": {},
     "output_type": "execute_result"
    }
   ],
   "source": [
    "sorted_short_history"
   ]
  },
  {
   "cell_type": "code",
   "execution_count": 37,
   "metadata": {},
   "outputs": [],
   "source": [
    "for item in sorted_short_history:\n",
    "    if item.get('val_acc'):\n",
    "        print(item)"
   ]
  },
  {
   "cell_type": "markdown",
   "metadata": {},
   "source": [
    "# KERAS TUNER"
   ]
  },
  {
   "cell_type": "code",
   "execution_count": 3,
   "metadata": {},
   "outputs": [],
   "source": [
    "from kerastuner.tuners import RandomSearch\n",
    "\n",
    "\n",
    "def build_model(hp):\n",
    "    model = tf.keras.Sequential()\n",
    "    model.add(tf.keras.layers.Dense(units=hp.Range('units',\n",
    "                                          min_value=128,\n",
    "                                          max_value=384,\n",
    "                                          step=64),\n",
    "                           kernel_regularizer=tf.keras.regularizers.l1_l2(l2=0.01, l1=0.01),\n",
    "                           activation='relu',\n",
    "                           input_shape=(1024,)))\n",
    "    model.add(tf.keras.layers.Dropout(hp.Choice('rate', values=[0.2, 0.35, 0.5])))\n",
    "    model.add(tf.keras.layers.Dense(1, activation='sigmoid'))\n",
    "    model.compile(\n",
    "        optimizer=tf.keras.optimizers.Adam(\n",
    "            hp.Choice('learning_rate',\n",
    "                      values=[0.0004, 0.0002, 0.0001])),\n",
    "        loss='binary_crossentropy',\n",
    "        metrics=['accuracy'])\n",
    "    return model"
   ]
  },
  {
   "cell_type": "code",
   "execution_count": 4,
   "metadata": {},
   "outputs": [],
   "source": [
    "tuner = RandomSearch(\n",
    "    build_model,\n",
    "    objective='val_accuracy',\n",
    "    max_trials=10,\n",
    "    executions_per_trial=3,\n",
    "    directory='kerastunerlogs',\n",
    "    project_name='chestXRay')"
   ]
  },
  {
   "cell_type": "code",
   "execution_count": 5,
   "metadata": {},
   "outputs": [
    {
     "data": {
      "text/html": [
       "<span style=\"color:#4527A0\"><h1 style=\"font-size:18px\">Search space summary</h1></span>"
      ],
      "text/plain": [
       "<IPython.core.display.HTML object>"
      ]
     },
     "metadata": {},
     "output_type": "display_data"
    },
    {
     "data": {
      "text/html": [
       "<span style=\"color:cyan\"> |-Default search space size: 3</span>"
      ],
      "text/plain": [
       "<IPython.core.display.HTML object>"
      ]
     },
     "metadata": {},
     "output_type": "display_data"
    },
    {
     "data": {
      "text/html": [
       "<span style=\"color:#7E57C2\"><h2 style=\"font-size:16px\">units (Range)</h2></span>"
      ],
      "text/plain": [
       "<IPython.core.display.HTML object>"
      ]
     },
     "metadata": {},
     "output_type": "display_data"
    },
    {
     "data": {
      "text/html": [
       "<span style=\"color:cyan\"> |-default: 128</span>"
      ],
      "text/plain": [
       "<IPython.core.display.HTML object>"
      ]
     },
     "metadata": {},
     "output_type": "display_data"
    },
    {
     "data": {
      "text/html": [
       "<span style=\"color:blue\"> |-max_value: 384</span>"
      ],
      "text/plain": [
       "<IPython.core.display.HTML object>"
      ]
     },
     "metadata": {},
     "output_type": "display_data"
    },
    {
     "data": {
      "text/html": [
       "<span style=\"color:cyan\"> |-min_value: 128</span>"
      ],
      "text/plain": [
       "<IPython.core.display.HTML object>"
      ]
     },
     "metadata": {},
     "output_type": "display_data"
    },
    {
     "data": {
      "text/html": [
       "<span style=\"color:blue\"> |-step: 64</span>"
      ],
      "text/plain": [
       "<IPython.core.display.HTML object>"
      ]
     },
     "metadata": {},
     "output_type": "display_data"
    },
    {
     "data": {
      "text/html": [
       "<span style=\"color:#7E57C2\"><h2 style=\"font-size:16px\">rate (Choice)</h2></span>"
      ],
      "text/plain": [
       "<IPython.core.display.HTML object>"
      ]
     },
     "metadata": {},
     "output_type": "display_data"
    },
    {
     "data": {
      "text/html": [
       "<span style=\"color:cyan\"> |-default: 0.2</span>"
      ],
      "text/plain": [
       "<IPython.core.display.HTML object>"
      ]
     },
     "metadata": {},
     "output_type": "display_data"
    },
    {
     "data": {
      "text/html": [
       "<span style=\"color:blue\"> |-values: [0.2, 0.35, 0.5]</span>"
      ],
      "text/plain": [
       "<IPython.core.display.HTML object>"
      ]
     },
     "metadata": {},
     "output_type": "display_data"
    },
    {
     "data": {
      "text/html": [
       "<span style=\"color:#7E57C2\"><h2 style=\"font-size:16px\">learning_rate (Choice)</h2></span>"
      ],
      "text/plain": [
       "<IPython.core.display.HTML object>"
      ]
     },
     "metadata": {},
     "output_type": "display_data"
    },
    {
     "data": {
      "text/html": [
       "<span style=\"color:cyan\"> |-default: 0.0004</span>"
      ],
      "text/plain": [
       "<IPython.core.display.HTML object>"
      ]
     },
     "metadata": {},
     "output_type": "display_data"
    },
    {
     "data": {
      "text/html": [
       "<span style=\"color:blue\"> |-values: [0.0004, 0.0002, 0.0001]</span>"
      ],
      "text/plain": [
       "<IPython.core.display.HTML object>"
      ]
     },
     "metadata": {},
     "output_type": "display_data"
    }
   ],
   "source": [
    "tuner.search_space_summary()"
   ]
  },
  {
   "cell_type": "code",
   "execution_count": 6,
   "metadata": {},
   "outputs": [
    {
     "data": {
      "text/html": [
       "<span style=\"color:#4527A0\"><h1 style=\"font-size:18px\">New model</h1></span>"
      ],
      "text/plain": [
       "<IPython.core.display.HTML object>"
      ]
     },
     "metadata": {},
     "output_type": "display_data"
    },
    {
     "data": {
      "text/html": [
       "<span style=\"color:#4527A0\"><h1 style=\"font-size:18px\">Trial summary</h1></span>"
      ],
      "text/plain": [
       "<IPython.core.display.HTML object>"
      ]
     },
     "metadata": {},
     "output_type": "display_data"
    },
    {
     "data": {
      "text/html": [
       "<span style=\"color:#7E57C2\"><h2 style=\"font-size:16px\">Hp values:</h2></span>"
      ],
      "text/plain": [
       "<IPython.core.display.HTML object>"
      ]
     },
     "metadata": {},
     "output_type": "display_data"
    },
    {
     "data": {
      "text/html": [
       "<span style=\"color:cyan\"> |-learning_rate: 0.0004</span>"
      ],
      "text/plain": [
       "<IPython.core.display.HTML object>"
      ]
     },
     "metadata": {},
     "output_type": "display_data"
    },
    {
     "data": {
      "text/html": [
       "<span style=\"color:blue\"> |-rate: 0.5</span>"
      ],
      "text/plain": [
       "<IPython.core.display.HTML object>"
      ]
     },
     "metadata": {},
     "output_type": "display_data"
    },
    {
     "data": {
      "text/html": [
       "<span style=\"color:cyan\"> |-units: 192</span>"
      ],
      "text/plain": [
       "<IPython.core.display.HTML object>"
      ]
     },
     "metadata": {},
     "output_type": "display_data"
    },
    {
     "data": {
      "text/html": [
       "<span style=\"color:#7E57C2\"><h2 style=\"font-size:16px\">Execution 1/3</h2></span>"
      ],
      "text/plain": [
       "<IPython.core.display.HTML object>"
      ]
     },
     "metadata": {},
     "output_type": "display_data"
    },
    {
     "name": "stderr",
     "output_type": "stream",
     "text": [
      "WARNING: Logging before flag parsing goes to stderr.\n",
      "W0706 14:34:32.367661 140063488407296 deprecation.py:323] From /home/ivan/pybr/projeto/venv/lib/python3.5/site-packages/tensorflow/python/ops/math_grad.py:1250: add_dispatch_support.<locals>.wrapper (from tensorflow.python.ops.array_ops) is deprecated and will be removed in a future version.\n",
      "Instructions for updating:\n",
      "Use tf.where in 2.0, which has the same broadcast rule as np.where\n"
     ]
    },
    {
     "data": {
      "application/vnd.jupyter.widget-view+json": {
       "model_id": "79dcb1f0404948cf9c2fd0a846fe5346",
       "version_major": 2,
       "version_minor": 0
      },
      "text/plain": [
       "HBox(children=(IntProgress(value=0, max=162), HTML(value='')))"
      ]
     },
     "metadata": {},
     "output_type": "display_data"
    },
    {
     "name": "stdout",
     "output_type": "stream",
     "text": [
      "\n"
     ]
    },
    {
     "data": {
      "application/vnd.jupyter.widget-view+json": {
       "model_id": "4613fba07da74ba5b9a10535e7923662",
       "version_major": 2,
       "version_minor": 0
      },
      "text/plain": [
       "HBox(children=(IntProgress(value=0, max=162), HTML(value='')))"
      ]
     },
     "metadata": {},
     "output_type": "display_data"
    },
    {
     "name": "stdout",
     "output_type": "stream",
     "text": [
      "\n"
     ]
    },
    {
     "data": {
      "application/vnd.jupyter.widget-view+json": {
       "model_id": "2ac50593b8ad46f1b789e99a6b2ad871",
       "version_major": 2,
       "version_minor": 0
      },
      "text/plain": [
       "HBox(children=(IntProgress(value=0, max=162), HTML(value='')))"
      ]
     },
     "metadata": {},
     "output_type": "display_data"
    },
    {
     "name": "stdout",
     "output_type": "stream",
     "text": [
      "\n"
     ]
    },
    {
     "data": {
      "application/vnd.jupyter.widget-view+json": {
       "model_id": "a28dd7bdfbbe4bd284619d09c07ef601",
       "version_major": 2,
       "version_minor": 0
      },
      "text/plain": [
       "HBox(children=(IntProgress(value=0, max=162), HTML(value='')))"
      ]
     },
     "metadata": {},
     "output_type": "display_data"
    },
    {
     "name": "stdout",
     "output_type": "stream",
     "text": [
      "\n"
     ]
    },
    {
     "data": {
      "application/vnd.jupyter.widget-view+json": {
       "model_id": "3e97829692264101806fcb5b61760992",
       "version_major": 2,
       "version_minor": 0
      },
      "text/plain": [
       "HBox(children=(IntProgress(value=0, max=162), HTML(value='')))"
      ]
     },
     "metadata": {},
     "output_type": "display_data"
    },
    {
     "name": "stdout",
     "output_type": "stream",
     "text": [
      "\n"
     ]
    },
    {
     "data": {
      "application/vnd.jupyter.widget-view+json": {
       "model_id": "0782063ea6c943c2987812989f25462e",
       "version_major": 2,
       "version_minor": 0
      },
      "text/plain": [
       "HBox(children=(IntProgress(value=0, max=162), HTML(value='')))"
      ]
     },
     "metadata": {},
     "output_type": "display_data"
    },
    {
     "name": "stdout",
     "output_type": "stream",
     "text": [
      "\n"
     ]
    },
    {
     "data": {
      "application/vnd.jupyter.widget-view+json": {
       "model_id": "3c187f87b6ac4193a192802a1a5372b7",
       "version_major": 2,
       "version_minor": 0
      },
      "text/plain": [
       "HBox(children=(IntProgress(value=0, max=162), HTML(value='')))"
      ]
     },
     "metadata": {},
     "output_type": "display_data"
    },
    {
     "name": "stdout",
     "output_type": "stream",
     "text": [
      "\n"
     ]
    },
    {
     "data": {
      "application/vnd.jupyter.widget-view+json": {
       "model_id": "01ed871589f14159978f0f20db66cbd6",
       "version_major": 2,
       "version_minor": 0
      },
      "text/plain": [
       "HBox(children=(IntProgress(value=0, max=162), HTML(value='')))"
      ]
     },
     "metadata": {},
     "output_type": "display_data"
    },
    {
     "name": "stdout",
     "output_type": "stream",
     "text": [
      "\n"
     ]
    },
    {
     "data": {
      "application/vnd.jupyter.widget-view+json": {
       "model_id": "e29b3a343cb84ef1af0f977d4380ea27",
       "version_major": 2,
       "version_minor": 0
      },
      "text/plain": [
       "HBox(children=(IntProgress(value=0, max=162), HTML(value='')))"
      ]
     },
     "metadata": {},
     "output_type": "display_data"
    },
    {
     "name": "stdout",
     "output_type": "stream",
     "text": [
      "\n"
     ]
    },
    {
     "data": {
      "application/vnd.jupyter.widget-view+json": {
       "model_id": "617a197793a44d98abc0b3068d5e0bdf",
       "version_major": 2,
       "version_minor": 0
      },
      "text/plain": [
       "HBox(children=(IntProgress(value=0, max=162), HTML(value='')))"
      ]
     },
     "metadata": {},
     "output_type": "display_data"
    },
    {
     "name": "stdout",
     "output_type": "stream",
     "text": [
      "\n"
     ]
    },
    {
     "data": {
      "text/html": [
       "<span style=\"color:#7E57C2\"><h2 style=\"font-size:16px\">Execution 2/3</h2></span>"
      ],
      "text/plain": [
       "<IPython.core.display.HTML object>"
      ]
     },
     "metadata": {},
     "output_type": "display_data"
    },
    {
     "data": {
      "application/vnd.jupyter.widget-view+json": {
       "model_id": "0586a094eb1746f98fb85e181b971d11",
       "version_major": 2,
       "version_minor": 0
      },
      "text/plain": [
       "HBox(children=(IntProgress(value=0, max=162), HTML(value='')))"
      ]
     },
     "metadata": {},
     "output_type": "display_data"
    },
    {
     "name": "stdout",
     "output_type": "stream",
     "text": [
      "\n"
     ]
    },
    {
     "data": {
      "application/vnd.jupyter.widget-view+json": {
       "model_id": "63a7fed3d4af40739b6742cdb62ec04b",
       "version_major": 2,
       "version_minor": 0
      },
      "text/plain": [
       "HBox(children=(IntProgress(value=0, max=162), HTML(value='')))"
      ]
     },
     "metadata": {},
     "output_type": "display_data"
    },
    {
     "name": "stdout",
     "output_type": "stream",
     "text": [
      "\n"
     ]
    },
    {
     "data": {
      "application/vnd.jupyter.widget-view+json": {
       "model_id": "c084a0194c92415aa0821f1aa5198e00",
       "version_major": 2,
       "version_minor": 0
      },
      "text/plain": [
       "HBox(children=(IntProgress(value=0, max=162), HTML(value='')))"
      ]
     },
     "metadata": {},
     "output_type": "display_data"
    },
    {
     "name": "stdout",
     "output_type": "stream",
     "text": [
      "\n"
     ]
    },
    {
     "data": {
      "application/vnd.jupyter.widget-view+json": {
       "model_id": "9893ac1b46494c5db31b418905d6210e",
       "version_major": 2,
       "version_minor": 0
      },
      "text/plain": [
       "HBox(children=(IntProgress(value=0, max=162), HTML(value='')))"
      ]
     },
     "metadata": {},
     "output_type": "display_data"
    },
    {
     "name": "stdout",
     "output_type": "stream",
     "text": [
      "\n"
     ]
    },
    {
     "data": {
      "application/vnd.jupyter.widget-view+json": {
       "model_id": "d984a2c1af564674b7b8384593ad9d32",
       "version_major": 2,
       "version_minor": 0
      },
      "text/plain": [
       "HBox(children=(IntProgress(value=0, max=162), HTML(value='')))"
      ]
     },
     "metadata": {},
     "output_type": "display_data"
    },
    {
     "name": "stdout",
     "output_type": "stream",
     "text": [
      "\n"
     ]
    },
    {
     "data": {
      "application/vnd.jupyter.widget-view+json": {
       "model_id": "186baa1aa7204839a55a6b6c0bcfa1e2",
       "version_major": 2,
       "version_minor": 0
      },
      "text/plain": [
       "HBox(children=(IntProgress(value=0, max=162), HTML(value='')))"
      ]
     },
     "metadata": {},
     "output_type": "display_data"
    },
    {
     "name": "stdout",
     "output_type": "stream",
     "text": [
      "\n"
     ]
    },
    {
     "data": {
      "application/vnd.jupyter.widget-view+json": {
       "model_id": "ec08386258be4e69abd5ac0f4285a23c",
       "version_major": 2,
       "version_minor": 0
      },
      "text/plain": [
       "HBox(children=(IntProgress(value=0, max=162), HTML(value='')))"
      ]
     },
     "metadata": {},
     "output_type": "display_data"
    },
    {
     "name": "stdout",
     "output_type": "stream",
     "text": [
      "\n"
     ]
    },
    {
     "data": {
      "application/vnd.jupyter.widget-view+json": {
       "model_id": "5bc8e3b92277459e8b82043209cc63b8",
       "version_major": 2,
       "version_minor": 0
      },
      "text/plain": [
       "HBox(children=(IntProgress(value=0, max=162), HTML(value='')))"
      ]
     },
     "metadata": {},
     "output_type": "display_data"
    },
    {
     "name": "stdout",
     "output_type": "stream",
     "text": [
      "\n"
     ]
    },
    {
     "data": {
      "application/vnd.jupyter.widget-view+json": {
       "model_id": "9fb9d6c866f8410fab3cac7de74fcf47",
       "version_major": 2,
       "version_minor": 0
      },
      "text/plain": [
       "HBox(children=(IntProgress(value=0, max=162), HTML(value='')))"
      ]
     },
     "metadata": {},
     "output_type": "display_data"
    },
    {
     "name": "stdout",
     "output_type": "stream",
     "text": [
      "\n"
     ]
    },
    {
     "data": {
      "application/vnd.jupyter.widget-view+json": {
       "model_id": "e53099e5fb474ac5a47297cac77a69ed",
       "version_major": 2,
       "version_minor": 0
      },
      "text/plain": [
       "HBox(children=(IntProgress(value=0, max=162), HTML(value='')))"
      ]
     },
     "metadata": {},
     "output_type": "display_data"
    },
    {
     "name": "stdout",
     "output_type": "stream",
     "text": [
      "\n"
     ]
    },
    {
     "data": {
      "text/html": [
       "<span style=\"color:#7E57C2\"><h2 style=\"font-size:16px\">Execution 3/3</h2></span>"
      ],
      "text/plain": [
       "<IPython.core.display.HTML object>"
      ]
     },
     "metadata": {},
     "output_type": "display_data"
    },
    {
     "data": {
      "application/vnd.jupyter.widget-view+json": {
       "model_id": "e1037053c24f4b7c9f95e932bf2e97d4",
       "version_major": 2,
       "version_minor": 0
      },
      "text/plain": [
       "HBox(children=(IntProgress(value=0, max=162), HTML(value='')))"
      ]
     },
     "metadata": {},
     "output_type": "display_data"
    },
    {
     "name": "stdout",
     "output_type": "stream",
     "text": [
      "\n"
     ]
    },
    {
     "data": {
      "application/vnd.jupyter.widget-view+json": {
       "model_id": "147c25961ae74d3588c13f72f20500e7",
       "version_major": 2,
       "version_minor": 0
      },
      "text/plain": [
       "HBox(children=(IntProgress(value=0, max=162), HTML(value='')))"
      ]
     },
     "metadata": {},
     "output_type": "display_data"
    },
    {
     "name": "stdout",
     "output_type": "stream",
     "text": [
      "\n"
     ]
    },
    {
     "data": {
      "application/vnd.jupyter.widget-view+json": {
       "model_id": "f4f19bac25c2499fa6a1baa98b6c9b67",
       "version_major": 2,
       "version_minor": 0
      },
      "text/plain": [
       "HBox(children=(IntProgress(value=0, max=162), HTML(value='')))"
      ]
     },
     "metadata": {},
     "output_type": "display_data"
    },
    {
     "name": "stdout",
     "output_type": "stream",
     "text": [
      "\n"
     ]
    },
    {
     "data": {
      "application/vnd.jupyter.widget-view+json": {
       "model_id": "916b1492e07f4a89aecb52084e6c09b1",
       "version_major": 2,
       "version_minor": 0
      },
      "text/plain": [
       "HBox(children=(IntProgress(value=0, max=162), HTML(value='')))"
      ]
     },
     "metadata": {},
     "output_type": "display_data"
    },
    {
     "name": "stdout",
     "output_type": "stream",
     "text": [
      "\n"
     ]
    },
    {
     "data": {
      "application/vnd.jupyter.widget-view+json": {
       "model_id": "26925c9509e14857ae71d55fc26b920f",
       "version_major": 2,
       "version_minor": 0
      },
      "text/plain": [
       "HBox(children=(IntProgress(value=0, max=162), HTML(value='')))"
      ]
     },
     "metadata": {},
     "output_type": "display_data"
    },
    {
     "name": "stdout",
     "output_type": "stream",
     "text": [
      "\n"
     ]
    },
    {
     "data": {
      "application/vnd.jupyter.widget-view+json": {
       "model_id": "32f93c807f0a4e439aae269f06f6a3c6",
       "version_major": 2,
       "version_minor": 0
      },
      "text/plain": [
       "HBox(children=(IntProgress(value=0, max=162), HTML(value='')))"
      ]
     },
     "metadata": {},
     "output_type": "display_data"
    },
    {
     "name": "stdout",
     "output_type": "stream",
     "text": [
      "\n"
     ]
    },
    {
     "data": {
      "application/vnd.jupyter.widget-view+json": {
       "model_id": "a63fc8d7e42d49949252efb498bab31b",
       "version_major": 2,
       "version_minor": 0
      },
      "text/plain": [
       "HBox(children=(IntProgress(value=0, max=162), HTML(value='')))"
      ]
     },
     "metadata": {},
     "output_type": "display_data"
    },
    {
     "name": "stdout",
     "output_type": "stream",
     "text": [
      "\n"
     ]
    },
    {
     "data": {
      "application/vnd.jupyter.widget-view+json": {
       "model_id": "f9cc467f8d0341d2931eb4ca305eb79b",
       "version_major": 2,
       "version_minor": 0
      },
      "text/plain": [
       "HBox(children=(IntProgress(value=0, max=162), HTML(value='')))"
      ]
     },
     "metadata": {},
     "output_type": "display_data"
    },
    {
     "name": "stdout",
     "output_type": "stream",
     "text": [
      "\n"
     ]
    },
    {
     "data": {
      "application/vnd.jupyter.widget-view+json": {
       "model_id": "e6cff9803b1e45edaf1a9be769c63838",
       "version_major": 2,
       "version_minor": 0
      },
      "text/plain": [
       "HBox(children=(IntProgress(value=0, max=162), HTML(value='')))"
      ]
     },
     "metadata": {},
     "output_type": "display_data"
    },
    {
     "name": "stdout",
     "output_type": "stream",
     "text": [
      "\n"
     ]
    },
    {
     "data": {
      "application/vnd.jupyter.widget-view+json": {
       "model_id": "cc571c795ebc499a82484752b04d1409",
       "version_major": 2,
       "version_minor": 0
      },
      "text/plain": [
       "HBox(children=(IntProgress(value=0, max=162), HTML(value='')))"
      ]
     },
     "metadata": {},
     "output_type": "display_data"
    },
    {
     "name": "stdout",
     "output_type": "stream",
     "text": [
      "\n"
     ]
    },
    {
     "data": {
      "text/html": [
       "<table>\n",
       "<thead>\n",
       "<tr><th>Name                                         </th><th>Best model                             </th><th>Current model                          </th></tr>\n",
       "</thead>\n",
       "<tbody>\n",
       "<tr><td>accuracy                                     </td><td>0.9095                                 </td><td>0.9095                                 </td></tr>\n",
       "<tr><td><span style=\"color:green\">val_accuracy</span></td><td><span style=\"color:green\">0.8443</span></td><td><span style=\"color:green\">0.8443</span></td></tr>\n",
       "<tr><td>val_loss                                     </td><td>0.6363                                 </td><td>0.6363                                 </td></tr>\n",
       "<tr><td>loss                                         </td><td>0.5173                                 </td><td>0.5173                                 </td></tr>\n",
       "</tbody>\n",
       "</table>"
      ],
      "text/plain": [
       "<IPython.core.display.HTML object>"
      ]
     },
     "metadata": {},
     "output_type": "display_data"
    },
    {
     "data": {
      "text/html": [
       "<span style=\"color:#64DD17\"><span style=\"font-size:14px\"><b>9/10 trials left</b></span></span>"
      ],
      "text/plain": [
       "<IPython.core.display.HTML object>"
      ]
     },
     "metadata": {},
     "output_type": "display_data"
    },
    {
     "data": {
      "text/html": [
       "<span style=\"color:#4527A0\"><h1 style=\"font-size:18px\">New model</h1></span>"
      ],
      "text/plain": [
       "<IPython.core.display.HTML object>"
      ]
     },
     "metadata": {},
     "output_type": "display_data"
    },
    {
     "data": {
      "text/html": [
       "<span style=\"color:#4527A0\"><h1 style=\"font-size:18px\">Trial summary</h1></span>"
      ],
      "text/plain": [
       "<IPython.core.display.HTML object>"
      ]
     },
     "metadata": {},
     "output_type": "display_data"
    },
    {
     "data": {
      "text/html": [
       "<span style=\"color:#7E57C2\"><h2 style=\"font-size:16px\">Hp values:</h2></span>"
      ],
      "text/plain": [
       "<IPython.core.display.HTML object>"
      ]
     },
     "metadata": {},
     "output_type": "display_data"
    },
    {
     "data": {
      "text/html": [
       "<span style=\"color:cyan\"> |-learning_rate: 0.0004</span>"
      ],
      "text/plain": [
       "<IPython.core.display.HTML object>"
      ]
     },
     "metadata": {},
     "output_type": "display_data"
    },
    {
     "data": {
      "text/html": [
       "<span style=\"color:blue\"> |-rate: 0.35</span>"
      ],
      "text/plain": [
       "<IPython.core.display.HTML object>"
      ]
     },
     "metadata": {},
     "output_type": "display_data"
    },
    {
     "data": {
      "text/html": [
       "<span style=\"color:cyan\"> |-units: 128</span>"
      ],
      "text/plain": [
       "<IPython.core.display.HTML object>"
      ]
     },
     "metadata": {},
     "output_type": "display_data"
    },
    {
     "data": {
      "text/html": [
       "<span style=\"color:#7E57C2\"><h2 style=\"font-size:16px\">Execution 1/3</h2></span>"
      ],
      "text/plain": [
       "<IPython.core.display.HTML object>"
      ]
     },
     "metadata": {},
     "output_type": "display_data"
    },
    {
     "data": {
      "application/vnd.jupyter.widget-view+json": {
       "model_id": "e3d5553f597a4445b86b4a791cd6b6df",
       "version_major": 2,
       "version_minor": 0
      },
      "text/plain": [
       "HBox(children=(IntProgress(value=0, max=162), HTML(value='')))"
      ]
     },
     "metadata": {},
     "output_type": "display_data"
    },
    {
     "name": "stdout",
     "output_type": "stream",
     "text": [
      "\n"
     ]
    },
    {
     "data": {
      "application/vnd.jupyter.widget-view+json": {
       "model_id": "8adca9025ecd4233bb50bd621db6c6f6",
       "version_major": 2,
       "version_minor": 0
      },
      "text/plain": [
       "HBox(children=(IntProgress(value=0, max=162), HTML(value='')))"
      ]
     },
     "metadata": {},
     "output_type": "display_data"
    },
    {
     "name": "stdout",
     "output_type": "stream",
     "text": [
      "\n"
     ]
    },
    {
     "data": {
      "application/vnd.jupyter.widget-view+json": {
       "model_id": "879669f1cd844cb5a5392d7797b97001",
       "version_major": 2,
       "version_minor": 0
      },
      "text/plain": [
       "HBox(children=(IntProgress(value=0, max=162), HTML(value='')))"
      ]
     },
     "metadata": {},
     "output_type": "display_data"
    },
    {
     "name": "stdout",
     "output_type": "stream",
     "text": [
      "\n"
     ]
    },
    {
     "data": {
      "application/vnd.jupyter.widget-view+json": {
       "model_id": "f3a1615709644878990d4ddd8228bfa0",
       "version_major": 2,
       "version_minor": 0
      },
      "text/plain": [
       "HBox(children=(IntProgress(value=0, max=162), HTML(value='')))"
      ]
     },
     "metadata": {},
     "output_type": "display_data"
    },
    {
     "name": "stdout",
     "output_type": "stream",
     "text": [
      "\n"
     ]
    },
    {
     "data": {
      "application/vnd.jupyter.widget-view+json": {
       "model_id": "e7583dd43b6241be91ff7cf31adc90e9",
       "version_major": 2,
       "version_minor": 0
      },
      "text/plain": [
       "HBox(children=(IntProgress(value=0, max=162), HTML(value='')))"
      ]
     },
     "metadata": {},
     "output_type": "display_data"
    },
    {
     "name": "stdout",
     "output_type": "stream",
     "text": [
      "\n"
     ]
    },
    {
     "data": {
      "application/vnd.jupyter.widget-view+json": {
       "model_id": "e40892a440a641a59e311af9a5829a74",
       "version_major": 2,
       "version_minor": 0
      },
      "text/plain": [
       "HBox(children=(IntProgress(value=0, max=162), HTML(value='')))"
      ]
     },
     "metadata": {},
     "output_type": "display_data"
    },
    {
     "name": "stdout",
     "output_type": "stream",
     "text": [
      "\n"
     ]
    },
    {
     "data": {
      "application/vnd.jupyter.widget-view+json": {
       "model_id": "4ca980b562744018a3a30d8b2c56d966",
       "version_major": 2,
       "version_minor": 0
      },
      "text/plain": [
       "HBox(children=(IntProgress(value=0, max=162), HTML(value='')))"
      ]
     },
     "metadata": {},
     "output_type": "display_data"
    },
    {
     "name": "stdout",
     "output_type": "stream",
     "text": [
      "\n"
     ]
    },
    {
     "data": {
      "application/vnd.jupyter.widget-view+json": {
       "model_id": "2d35315fdd144bc1a88580f6dc0ebf5d",
       "version_major": 2,
       "version_minor": 0
      },
      "text/plain": [
       "HBox(children=(IntProgress(value=0, max=162), HTML(value='')))"
      ]
     },
     "metadata": {},
     "output_type": "display_data"
    },
    {
     "name": "stdout",
     "output_type": "stream",
     "text": [
      "\n"
     ]
    },
    {
     "data": {
      "application/vnd.jupyter.widget-view+json": {
       "model_id": "a39c932794a94807af8becb0e6a7c1b3",
       "version_major": 2,
       "version_minor": 0
      },
      "text/plain": [
       "HBox(children=(IntProgress(value=0, max=162), HTML(value='')))"
      ]
     },
     "metadata": {},
     "output_type": "display_data"
    },
    {
     "name": "stdout",
     "output_type": "stream",
     "text": [
      "\n"
     ]
    },
    {
     "data": {
      "application/vnd.jupyter.widget-view+json": {
       "model_id": "fd117d0eab64410991a1bb67fc668e8c",
       "version_major": 2,
       "version_minor": 0
      },
      "text/plain": [
       "HBox(children=(IntProgress(value=0, max=162), HTML(value='')))"
      ]
     },
     "metadata": {},
     "output_type": "display_data"
    },
    {
     "name": "stdout",
     "output_type": "stream",
     "text": [
      "\n"
     ]
    },
    {
     "data": {
      "text/html": [
       "<span style=\"color:#7E57C2\"><h2 style=\"font-size:16px\">Execution 2/3</h2></span>"
      ],
      "text/plain": [
       "<IPython.core.display.HTML object>"
      ]
     },
     "metadata": {},
     "output_type": "display_data"
    },
    {
     "data": {
      "application/vnd.jupyter.widget-view+json": {
       "model_id": "eb5a33e4a2d44e66bb128e8515bd9063",
       "version_major": 2,
       "version_minor": 0
      },
      "text/plain": [
       "HBox(children=(IntProgress(value=0, max=162), HTML(value='')))"
      ]
     },
     "metadata": {},
     "output_type": "display_data"
    },
    {
     "name": "stdout",
     "output_type": "stream",
     "text": [
      "\n"
     ]
    },
    {
     "data": {
      "application/vnd.jupyter.widget-view+json": {
       "model_id": "492385bf2d684005b9dee80bf502a71d",
       "version_major": 2,
       "version_minor": 0
      },
      "text/plain": [
       "HBox(children=(IntProgress(value=0, max=162), HTML(value='')))"
      ]
     },
     "metadata": {},
     "output_type": "display_data"
    },
    {
     "name": "stdout",
     "output_type": "stream",
     "text": [
      "\n"
     ]
    },
    {
     "data": {
      "application/vnd.jupyter.widget-view+json": {
       "model_id": "b4d3caf39a7d45b6bdc4711c9e85f4af",
       "version_major": 2,
       "version_minor": 0
      },
      "text/plain": [
       "HBox(children=(IntProgress(value=0, max=162), HTML(value='')))"
      ]
     },
     "metadata": {},
     "output_type": "display_data"
    },
    {
     "name": "stdout",
     "output_type": "stream",
     "text": [
      "\n"
     ]
    },
    {
     "data": {
      "application/vnd.jupyter.widget-view+json": {
       "model_id": "9eb6df174966419abc15f0ba06c24cb2",
       "version_major": 2,
       "version_minor": 0
      },
      "text/plain": [
       "HBox(children=(IntProgress(value=0, max=162), HTML(value='')))"
      ]
     },
     "metadata": {},
     "output_type": "display_data"
    },
    {
     "name": "stdout",
     "output_type": "stream",
     "text": [
      "\n"
     ]
    },
    {
     "data": {
      "application/vnd.jupyter.widget-view+json": {
       "model_id": "534553a5559a43dcb4ca90705edea021",
       "version_major": 2,
       "version_minor": 0
      },
      "text/plain": [
       "HBox(children=(IntProgress(value=0, max=162), HTML(value='')))"
      ]
     },
     "metadata": {},
     "output_type": "display_data"
    },
    {
     "name": "stdout",
     "output_type": "stream",
     "text": [
      "\n"
     ]
    },
    {
     "data": {
      "application/vnd.jupyter.widget-view+json": {
       "model_id": "61bb57b8b72d4cc9bea20f25e6e54c1d",
       "version_major": 2,
       "version_minor": 0
      },
      "text/plain": [
       "HBox(children=(IntProgress(value=0, max=162), HTML(value='')))"
      ]
     },
     "metadata": {},
     "output_type": "display_data"
    },
    {
     "name": "stdout",
     "output_type": "stream",
     "text": [
      "\n"
     ]
    },
    {
     "data": {
      "application/vnd.jupyter.widget-view+json": {
       "model_id": "200da672192b4418a240e1ab0090107e",
       "version_major": 2,
       "version_minor": 0
      },
      "text/plain": [
       "HBox(children=(IntProgress(value=0, max=162), HTML(value='')))"
      ]
     },
     "metadata": {},
     "output_type": "display_data"
    },
    {
     "name": "stdout",
     "output_type": "stream",
     "text": [
      "\n"
     ]
    },
    {
     "data": {
      "application/vnd.jupyter.widget-view+json": {
       "model_id": "e437b7baa0bf44c194bb89fa5d91ff9e",
       "version_major": 2,
       "version_minor": 0
      },
      "text/plain": [
       "HBox(children=(IntProgress(value=0, max=162), HTML(value='')))"
      ]
     },
     "metadata": {},
     "output_type": "display_data"
    },
    {
     "name": "stdout",
     "output_type": "stream",
     "text": [
      "\n"
     ]
    },
    {
     "data": {
      "application/vnd.jupyter.widget-view+json": {
       "model_id": "f55af747fde340c5bb94d7f5ec9a9002",
       "version_major": 2,
       "version_minor": 0
      },
      "text/plain": [
       "HBox(children=(IntProgress(value=0, max=162), HTML(value='')))"
      ]
     },
     "metadata": {},
     "output_type": "display_data"
    },
    {
     "name": "stdout",
     "output_type": "stream",
     "text": [
      "\n"
     ]
    },
    {
     "data": {
      "application/vnd.jupyter.widget-view+json": {
       "model_id": "198c6fbdfccf4b27807ad7dbae38550d",
       "version_major": 2,
       "version_minor": 0
      },
      "text/plain": [
       "HBox(children=(IntProgress(value=0, max=162), HTML(value='')))"
      ]
     },
     "metadata": {},
     "output_type": "display_data"
    },
    {
     "name": "stdout",
     "output_type": "stream",
     "text": [
      "\n"
     ]
    },
    {
     "data": {
      "text/html": [
       "<span style=\"color:#7E57C2\"><h2 style=\"font-size:16px\">Execution 3/3</h2></span>"
      ],
      "text/plain": [
       "<IPython.core.display.HTML object>"
      ]
     },
     "metadata": {},
     "output_type": "display_data"
    },
    {
     "data": {
      "application/vnd.jupyter.widget-view+json": {
       "model_id": "ad579c79a6c34104bd031fee1d4c7bf5",
       "version_major": 2,
       "version_minor": 0
      },
      "text/plain": [
       "HBox(children=(IntProgress(value=0, max=162), HTML(value='')))"
      ]
     },
     "metadata": {},
     "output_type": "display_data"
    },
    {
     "name": "stdout",
     "output_type": "stream",
     "text": [
      "\n"
     ]
    },
    {
     "data": {
      "application/vnd.jupyter.widget-view+json": {
       "model_id": "5662e290b5ec4775a99f162ea1510dc4",
       "version_major": 2,
       "version_minor": 0
      },
      "text/plain": [
       "HBox(children=(IntProgress(value=0, max=162), HTML(value='')))"
      ]
     },
     "metadata": {},
     "output_type": "display_data"
    },
    {
     "name": "stdout",
     "output_type": "stream",
     "text": [
      "\n"
     ]
    },
    {
     "data": {
      "application/vnd.jupyter.widget-view+json": {
       "model_id": "354f179736ba4b22915990407c44a9ad",
       "version_major": 2,
       "version_minor": 0
      },
      "text/plain": [
       "HBox(children=(IntProgress(value=0, max=162), HTML(value='')))"
      ]
     },
     "metadata": {},
     "output_type": "display_data"
    },
    {
     "name": "stdout",
     "output_type": "stream",
     "text": [
      "\n"
     ]
    },
    {
     "data": {
      "application/vnd.jupyter.widget-view+json": {
       "model_id": "7a1a3bdb48ad4273b9f0aeb4571b400b",
       "version_major": 2,
       "version_minor": 0
      },
      "text/plain": [
       "HBox(children=(IntProgress(value=0, max=162), HTML(value='')))"
      ]
     },
     "metadata": {},
     "output_type": "display_data"
    },
    {
     "name": "stdout",
     "output_type": "stream",
     "text": [
      "\n"
     ]
    },
    {
     "data": {
      "application/vnd.jupyter.widget-view+json": {
       "model_id": "9a92816ef4d0424e8060b5133ca419f1",
       "version_major": 2,
       "version_minor": 0
      },
      "text/plain": [
       "HBox(children=(IntProgress(value=0, max=162), HTML(value='')))"
      ]
     },
     "metadata": {},
     "output_type": "display_data"
    },
    {
     "name": "stdout",
     "output_type": "stream",
     "text": [
      "\n"
     ]
    },
    {
     "data": {
      "application/vnd.jupyter.widget-view+json": {
       "model_id": "36ca3fb53d2941908de7d26025c08ab7",
       "version_major": 2,
       "version_minor": 0
      },
      "text/plain": [
       "HBox(children=(IntProgress(value=0, max=162), HTML(value='')))"
      ]
     },
     "metadata": {},
     "output_type": "display_data"
    },
    {
     "name": "stdout",
     "output_type": "stream",
     "text": [
      "\n"
     ]
    },
    {
     "data": {
      "application/vnd.jupyter.widget-view+json": {
       "model_id": "ed171629baa04f6683554c541d991b73",
       "version_major": 2,
       "version_minor": 0
      },
      "text/plain": [
       "HBox(children=(IntProgress(value=0, max=162), HTML(value='')))"
      ]
     },
     "metadata": {},
     "output_type": "display_data"
    },
    {
     "name": "stdout",
     "output_type": "stream",
     "text": [
      "\n"
     ]
    },
    {
     "data": {
      "application/vnd.jupyter.widget-view+json": {
       "model_id": "bd5364e849fe455bb4ec83324bcdf382",
       "version_major": 2,
       "version_minor": 0
      },
      "text/plain": [
       "HBox(children=(IntProgress(value=0, max=162), HTML(value='')))"
      ]
     },
     "metadata": {},
     "output_type": "display_data"
    },
    {
     "name": "stdout",
     "output_type": "stream",
     "text": [
      "\n"
     ]
    },
    {
     "data": {
      "application/vnd.jupyter.widget-view+json": {
       "model_id": "59fc1d26620e44bbbe13d93e0a343b68",
       "version_major": 2,
       "version_minor": 0
      },
      "text/plain": [
       "HBox(children=(IntProgress(value=0, max=162), HTML(value='')))"
      ]
     },
     "metadata": {},
     "output_type": "display_data"
    },
    {
     "name": "stdout",
     "output_type": "stream",
     "text": [
      "\n"
     ]
    },
    {
     "data": {
      "application/vnd.jupyter.widget-view+json": {
       "model_id": "fdfa765d2c4b401d89758fb2d51f58c9",
       "version_major": 2,
       "version_minor": 0
      },
      "text/plain": [
       "HBox(children=(IntProgress(value=0, max=162), HTML(value='')))"
      ]
     },
     "metadata": {},
     "output_type": "display_data"
    },
    {
     "name": "stdout",
     "output_type": "stream",
     "text": [
      "\n"
     ]
    },
    {
     "data": {
      "text/html": [
       "<table>\n",
       "<thead>\n",
       "<tr><th>Name                                         </th><th>Best model                            </th><th>Current model                         </th></tr>\n",
       "</thead>\n",
       "<tbody>\n",
       "<tr><td>accuracy                                     </td><td>0.9176                                </td><td>0.9176                                </td></tr>\n",
       "<tr><td><span style=\"color:green\">val_accuracy</span></td><td><span style=\"color:green\">0.864</span></td><td><span style=\"color:green\">0.864</span></td></tr>\n",
       "<tr><td>val_loss                                     </td><td>0.5758                                </td><td>0.5758                                </td></tr>\n",
       "<tr><td>loss                                         </td><td>0.4244                                </td><td>0.4244                                </td></tr>\n",
       "</tbody>\n",
       "</table>"
      ],
      "text/plain": [
       "<IPython.core.display.HTML object>"
      ]
     },
     "metadata": {},
     "output_type": "display_data"
    },
    {
     "data": {
      "text/html": [
       "<span style=\"color:#64DD17\"><span style=\"font-size:14px\"><b>8/10 trials left</b></span></span>"
      ],
      "text/plain": [
       "<IPython.core.display.HTML object>"
      ]
     },
     "metadata": {},
     "output_type": "display_data"
    },
    {
     "data": {
      "text/html": [
       "<span style=\"color:#4527A0\"><h1 style=\"font-size:18px\">New model</h1></span>"
      ],
      "text/plain": [
       "<IPython.core.display.HTML object>"
      ]
     },
     "metadata": {},
     "output_type": "display_data"
    },
    {
     "data": {
      "text/html": [
       "<span style=\"color:#4527A0\"><h1 style=\"font-size:18px\">Trial summary</h1></span>"
      ],
      "text/plain": [
       "<IPython.core.display.HTML object>"
      ]
     },
     "metadata": {},
     "output_type": "display_data"
    },
    {
     "data": {
      "text/html": [
       "<span style=\"color:#7E57C2\"><h2 style=\"font-size:16px\">Hp values:</h2></span>"
      ],
      "text/plain": [
       "<IPython.core.display.HTML object>"
      ]
     },
     "metadata": {},
     "output_type": "display_data"
    },
    {
     "data": {
      "text/html": [
       "<span style=\"color:cyan\"> |-learning_rate: 0.0002</span>"
      ],
      "text/plain": [
       "<IPython.core.display.HTML object>"
      ]
     },
     "metadata": {},
     "output_type": "display_data"
    },
    {
     "data": {
      "text/html": [
       "<span style=\"color:blue\"> |-rate: 0.35</span>"
      ],
      "text/plain": [
       "<IPython.core.display.HTML object>"
      ]
     },
     "metadata": {},
     "output_type": "display_data"
    },
    {
     "data": {
      "text/html": [
       "<span style=\"color:cyan\"> |-units: 128</span>"
      ],
      "text/plain": [
       "<IPython.core.display.HTML object>"
      ]
     },
     "metadata": {},
     "output_type": "display_data"
    },
    {
     "data": {
      "text/html": [
       "<span style=\"color:#7E57C2\"><h2 style=\"font-size:16px\">Execution 1/3</h2></span>"
      ],
      "text/plain": [
       "<IPython.core.display.HTML object>"
      ]
     },
     "metadata": {},
     "output_type": "display_data"
    },
    {
     "data": {
      "application/vnd.jupyter.widget-view+json": {
       "model_id": "d75ff7004ef34b26823dffcc59243a4c",
       "version_major": 2,
       "version_minor": 0
      },
      "text/plain": [
       "HBox(children=(IntProgress(value=0, max=162), HTML(value='')))"
      ]
     },
     "metadata": {},
     "output_type": "display_data"
    },
    {
     "name": "stdout",
     "output_type": "stream",
     "text": [
      "\n"
     ]
    },
    {
     "data": {
      "application/vnd.jupyter.widget-view+json": {
       "model_id": "449cf55bdfa24ec18ad0cc0ff8404db7",
       "version_major": 2,
       "version_minor": 0
      },
      "text/plain": [
       "HBox(children=(IntProgress(value=0, max=162), HTML(value='')))"
      ]
     },
     "metadata": {},
     "output_type": "display_data"
    },
    {
     "name": "stdout",
     "output_type": "stream",
     "text": [
      "\n"
     ]
    },
    {
     "data": {
      "application/vnd.jupyter.widget-view+json": {
       "model_id": "1bca5587229446a4a3c56c9fee0d64f3",
       "version_major": 2,
       "version_minor": 0
      },
      "text/plain": [
       "HBox(children=(IntProgress(value=0, max=162), HTML(value='')))"
      ]
     },
     "metadata": {},
     "output_type": "display_data"
    },
    {
     "name": "stdout",
     "output_type": "stream",
     "text": [
      "\n"
     ]
    },
    {
     "data": {
      "application/vnd.jupyter.widget-view+json": {
       "model_id": "21f0ebfa64b548ba974c5ad923803e5b",
       "version_major": 2,
       "version_minor": 0
      },
      "text/plain": [
       "HBox(children=(IntProgress(value=0, max=162), HTML(value='')))"
      ]
     },
     "metadata": {},
     "output_type": "display_data"
    },
    {
     "name": "stdout",
     "output_type": "stream",
     "text": [
      "\n"
     ]
    },
    {
     "data": {
      "application/vnd.jupyter.widget-view+json": {
       "model_id": "49127ec290e148b6bbabc4b588caf294",
       "version_major": 2,
       "version_minor": 0
      },
      "text/plain": [
       "HBox(children=(IntProgress(value=0, max=162), HTML(value='')))"
      ]
     },
     "metadata": {},
     "output_type": "display_data"
    },
    {
     "name": "stdout",
     "output_type": "stream",
     "text": [
      "\n"
     ]
    },
    {
     "data": {
      "application/vnd.jupyter.widget-view+json": {
       "model_id": "4056a787e02a41ed9d53b1625be8832d",
       "version_major": 2,
       "version_minor": 0
      },
      "text/plain": [
       "HBox(children=(IntProgress(value=0, max=162), HTML(value='')))"
      ]
     },
     "metadata": {},
     "output_type": "display_data"
    },
    {
     "name": "stdout",
     "output_type": "stream",
     "text": [
      "\n"
     ]
    },
    {
     "data": {
      "application/vnd.jupyter.widget-view+json": {
       "model_id": "9dcd51afe9d441a4a7fe073df51d6449",
       "version_major": 2,
       "version_minor": 0
      },
      "text/plain": [
       "HBox(children=(IntProgress(value=0, max=162), HTML(value='')))"
      ]
     },
     "metadata": {},
     "output_type": "display_data"
    },
    {
     "name": "stdout",
     "output_type": "stream",
     "text": [
      "\n"
     ]
    },
    {
     "data": {
      "application/vnd.jupyter.widget-view+json": {
       "model_id": "8e69a3a0a8974521a63441ded6093d31",
       "version_major": 2,
       "version_minor": 0
      },
      "text/plain": [
       "HBox(children=(IntProgress(value=0, max=162), HTML(value='')))"
      ]
     },
     "metadata": {},
     "output_type": "display_data"
    },
    {
     "name": "stdout",
     "output_type": "stream",
     "text": [
      "\n"
     ]
    },
    {
     "data": {
      "application/vnd.jupyter.widget-view+json": {
       "model_id": "b5ec2ae051004bceb7a14ecbc0950b00",
       "version_major": 2,
       "version_minor": 0
      },
      "text/plain": [
       "HBox(children=(IntProgress(value=0, max=162), HTML(value='')))"
      ]
     },
     "metadata": {},
     "output_type": "display_data"
    },
    {
     "name": "stdout",
     "output_type": "stream",
     "text": [
      "\n"
     ]
    },
    {
     "data": {
      "application/vnd.jupyter.widget-view+json": {
       "model_id": "c39b46e57cd645529539757967372c7b",
       "version_major": 2,
       "version_minor": 0
      },
      "text/plain": [
       "HBox(children=(IntProgress(value=0, max=162), HTML(value='')))"
      ]
     },
     "metadata": {},
     "output_type": "display_data"
    },
    {
     "name": "stdout",
     "output_type": "stream",
     "text": [
      "\n"
     ]
    },
    {
     "data": {
      "text/html": [
       "<span style=\"color:#7E57C2\"><h2 style=\"font-size:16px\">Execution 2/3</h2></span>"
      ],
      "text/plain": [
       "<IPython.core.display.HTML object>"
      ]
     },
     "metadata": {},
     "output_type": "display_data"
    },
    {
     "data": {
      "application/vnd.jupyter.widget-view+json": {
       "model_id": "d50ec391e54d411cacc61dc10fadbc56",
       "version_major": 2,
       "version_minor": 0
      },
      "text/plain": [
       "HBox(children=(IntProgress(value=0, max=162), HTML(value='')))"
      ]
     },
     "metadata": {},
     "output_type": "display_data"
    },
    {
     "name": "stdout",
     "output_type": "stream",
     "text": [
      "\n"
     ]
    },
    {
     "data": {
      "application/vnd.jupyter.widget-view+json": {
       "model_id": "b85bbcd851a94c2db45d404959ab3b34",
       "version_major": 2,
       "version_minor": 0
      },
      "text/plain": [
       "HBox(children=(IntProgress(value=0, max=162), HTML(value='')))"
      ]
     },
     "metadata": {},
     "output_type": "display_data"
    },
    {
     "name": "stdout",
     "output_type": "stream",
     "text": [
      "\n"
     ]
    },
    {
     "data": {
      "application/vnd.jupyter.widget-view+json": {
       "model_id": "7235dfb964f3499884d49429bc638a38",
       "version_major": 2,
       "version_minor": 0
      },
      "text/plain": [
       "HBox(children=(IntProgress(value=0, max=162), HTML(value='')))"
      ]
     },
     "metadata": {},
     "output_type": "display_data"
    },
    {
     "name": "stdout",
     "output_type": "stream",
     "text": [
      "\n"
     ]
    },
    {
     "data": {
      "application/vnd.jupyter.widget-view+json": {
       "model_id": "3070ca43b97247fba657aa5fd6cf12ba",
       "version_major": 2,
       "version_minor": 0
      },
      "text/plain": [
       "HBox(children=(IntProgress(value=0, max=162), HTML(value='')))"
      ]
     },
     "metadata": {},
     "output_type": "display_data"
    },
    {
     "name": "stdout",
     "output_type": "stream",
     "text": [
      "\n"
     ]
    },
    {
     "data": {
      "application/vnd.jupyter.widget-view+json": {
       "model_id": "3dd408e5a87d4b80a105a47fee023d77",
       "version_major": 2,
       "version_minor": 0
      },
      "text/plain": [
       "HBox(children=(IntProgress(value=0, max=162), HTML(value='')))"
      ]
     },
     "metadata": {},
     "output_type": "display_data"
    },
    {
     "name": "stdout",
     "output_type": "stream",
     "text": [
      "\n"
     ]
    },
    {
     "data": {
      "application/vnd.jupyter.widget-view+json": {
       "model_id": "da82761e601c4e29a4f8503c536b0d23",
       "version_major": 2,
       "version_minor": 0
      },
      "text/plain": [
       "HBox(children=(IntProgress(value=0, max=162), HTML(value='')))"
      ]
     },
     "metadata": {},
     "output_type": "display_data"
    },
    {
     "name": "stdout",
     "output_type": "stream",
     "text": [
      "\n"
     ]
    },
    {
     "data": {
      "application/vnd.jupyter.widget-view+json": {
       "model_id": "cb1c2d3d4f414549b397e83bd3076fb5",
       "version_major": 2,
       "version_minor": 0
      },
      "text/plain": [
       "HBox(children=(IntProgress(value=0, max=162), HTML(value='')))"
      ]
     },
     "metadata": {},
     "output_type": "display_data"
    },
    {
     "name": "stdout",
     "output_type": "stream",
     "text": [
      "\n"
     ]
    },
    {
     "data": {
      "application/vnd.jupyter.widget-view+json": {
       "model_id": "ac2889eec10548e09f5a72fe1548528c",
       "version_major": 2,
       "version_minor": 0
      },
      "text/plain": [
       "HBox(children=(IntProgress(value=0, max=162), HTML(value='')))"
      ]
     },
     "metadata": {},
     "output_type": "display_data"
    },
    {
     "name": "stdout",
     "output_type": "stream",
     "text": [
      "\n"
     ]
    },
    {
     "data": {
      "application/vnd.jupyter.widget-view+json": {
       "model_id": "a035750296934e0c9f4100e7c777d51e",
       "version_major": 2,
       "version_minor": 0
      },
      "text/plain": [
       "HBox(children=(IntProgress(value=0, max=162), HTML(value='')))"
      ]
     },
     "metadata": {},
     "output_type": "display_data"
    },
    {
     "name": "stdout",
     "output_type": "stream",
     "text": [
      "\n"
     ]
    },
    {
     "data": {
      "application/vnd.jupyter.widget-view+json": {
       "model_id": "b097eed4abf7477abddde347f4b444b6",
       "version_major": 2,
       "version_minor": 0
      },
      "text/plain": [
       "HBox(children=(IntProgress(value=0, max=162), HTML(value='')))"
      ]
     },
     "metadata": {},
     "output_type": "display_data"
    },
    {
     "name": "stdout",
     "output_type": "stream",
     "text": [
      "\n"
     ]
    },
    {
     "data": {
      "text/html": [
       "<span style=\"color:#7E57C2\"><h2 style=\"font-size:16px\">Execution 3/3</h2></span>"
      ],
      "text/plain": [
       "<IPython.core.display.HTML object>"
      ]
     },
     "metadata": {},
     "output_type": "display_data"
    },
    {
     "data": {
      "application/vnd.jupyter.widget-view+json": {
       "model_id": "63398bce69de48678c94d88f1b1132fa",
       "version_major": 2,
       "version_minor": 0
      },
      "text/plain": [
       "HBox(children=(IntProgress(value=0, max=162), HTML(value='')))"
      ]
     },
     "metadata": {},
     "output_type": "display_data"
    },
    {
     "name": "stdout",
     "output_type": "stream",
     "text": [
      "\n"
     ]
    },
    {
     "data": {
      "application/vnd.jupyter.widget-view+json": {
       "model_id": "f2c4f1ce348d4d1fb59e424ab4044fbe",
       "version_major": 2,
       "version_minor": 0
      },
      "text/plain": [
       "HBox(children=(IntProgress(value=0, max=162), HTML(value='')))"
      ]
     },
     "metadata": {},
     "output_type": "display_data"
    },
    {
     "name": "stdout",
     "output_type": "stream",
     "text": [
      "\n"
     ]
    },
    {
     "data": {
      "application/vnd.jupyter.widget-view+json": {
       "model_id": "63e7fbc036ba4d84badcca218114e95a",
       "version_major": 2,
       "version_minor": 0
      },
      "text/plain": [
       "HBox(children=(IntProgress(value=0, max=162), HTML(value='')))"
      ]
     },
     "metadata": {},
     "output_type": "display_data"
    },
    {
     "name": "stdout",
     "output_type": "stream",
     "text": [
      "\n"
     ]
    },
    {
     "data": {
      "application/vnd.jupyter.widget-view+json": {
       "model_id": "573651edcd314eb6a82e6f43f8d3d63c",
       "version_major": 2,
       "version_minor": 0
      },
      "text/plain": [
       "HBox(children=(IntProgress(value=0, max=162), HTML(value='')))"
      ]
     },
     "metadata": {},
     "output_type": "display_data"
    },
    {
     "name": "stdout",
     "output_type": "stream",
     "text": [
      "\n"
     ]
    },
    {
     "data": {
      "application/vnd.jupyter.widget-view+json": {
       "model_id": "e86a6d9305ad48e2ae12d7556fc4cf5b",
       "version_major": 2,
       "version_minor": 0
      },
      "text/plain": [
       "HBox(children=(IntProgress(value=0, max=162), HTML(value='')))"
      ]
     },
     "metadata": {},
     "output_type": "display_data"
    },
    {
     "name": "stdout",
     "output_type": "stream",
     "text": [
      "\n"
     ]
    },
    {
     "data": {
      "application/vnd.jupyter.widget-view+json": {
       "model_id": "c2370c924752453a95863ff942832be3",
       "version_major": 2,
       "version_minor": 0
      },
      "text/plain": [
       "HBox(children=(IntProgress(value=0, max=162), HTML(value='')))"
      ]
     },
     "metadata": {},
     "output_type": "display_data"
    },
    {
     "name": "stdout",
     "output_type": "stream",
     "text": [
      "\n"
     ]
    },
    {
     "data": {
      "application/vnd.jupyter.widget-view+json": {
       "model_id": "821c9d633cbb4c5e999327537abe981e",
       "version_major": 2,
       "version_minor": 0
      },
      "text/plain": [
       "HBox(children=(IntProgress(value=0, max=162), HTML(value='')))"
      ]
     },
     "metadata": {},
     "output_type": "display_data"
    },
    {
     "name": "stdout",
     "output_type": "stream",
     "text": [
      "\n"
     ]
    },
    {
     "data": {
      "application/vnd.jupyter.widget-view+json": {
       "model_id": "c10b0e8727ef4096afd161cd96e2bf5c",
       "version_major": 2,
       "version_minor": 0
      },
      "text/plain": [
       "HBox(children=(IntProgress(value=0, max=162), HTML(value='')))"
      ]
     },
     "metadata": {},
     "output_type": "display_data"
    },
    {
     "name": "stdout",
     "output_type": "stream",
     "text": [
      "\n"
     ]
    },
    {
     "data": {
      "application/vnd.jupyter.widget-view+json": {
       "model_id": "2f6998509f1c40c3a865aaa87f317f4f",
       "version_major": 2,
       "version_minor": 0
      },
      "text/plain": [
       "HBox(children=(IntProgress(value=0, max=162), HTML(value='')))"
      ]
     },
     "metadata": {},
     "output_type": "display_data"
    },
    {
     "name": "stdout",
     "output_type": "stream",
     "text": [
      "\n"
     ]
    },
    {
     "data": {
      "application/vnd.jupyter.widget-view+json": {
       "model_id": "1626ad7cd9ff4580aab05458f142c552",
       "version_major": 2,
       "version_minor": 0
      },
      "text/plain": [
       "HBox(children=(IntProgress(value=0, max=162), HTML(value='')))"
      ]
     },
     "metadata": {},
     "output_type": "display_data"
    },
    {
     "name": "stdout",
     "output_type": "stream",
     "text": [
      "\n"
     ]
    },
    {
     "data": {
      "text/html": [
       "<table>\n",
       "<thead>\n",
       "<tr><th>Name                                       </th><th>Best model                          </th><th>Current model                        </th></tr>\n",
       "</thead>\n",
       "<tbody>\n",
       "<tr><td>accuracy                                   </td><td>0.9224                              </td><td>0.9224                               </td></tr>\n",
       "<tr><td><span style=\"color:red\">val_accuracy</span></td><td><span style=\"color:red\">0.864</span></td><td><span style=\"color:red\">0.8443</span></td></tr>\n",
       "<tr><td>val_loss                                   </td><td>0.5758                              </td><td>0.6335                               </td></tr>\n",
       "<tr><td>loss                                       </td><td>0.4244                              </td><td>0.4682                               </td></tr>\n",
       "</tbody>\n",
       "</table>"
      ],
      "text/plain": [
       "<IPython.core.display.HTML object>"
      ]
     },
     "metadata": {},
     "output_type": "display_data"
    },
    {
     "data": {
      "text/html": [
       "<span style=\"color:#64DD17\"><span style=\"font-size:14px\"><b>7/10 trials left</b></span></span>"
      ],
      "text/plain": [
       "<IPython.core.display.HTML object>"
      ]
     },
     "metadata": {},
     "output_type": "display_data"
    },
    {
     "data": {
      "text/html": [
       "<span style=\"color:#4527A0\"><h1 style=\"font-size:18px\">New model</h1></span>"
      ],
      "text/plain": [
       "<IPython.core.display.HTML object>"
      ]
     },
     "metadata": {},
     "output_type": "display_data"
    },
    {
     "data": {
      "text/html": [
       "<span style=\"color:#4527A0\"><h1 style=\"font-size:18px\">Trial summary</h1></span>"
      ],
      "text/plain": [
       "<IPython.core.display.HTML object>"
      ]
     },
     "metadata": {},
     "output_type": "display_data"
    },
    {
     "data": {
      "text/html": [
       "<span style=\"color:#7E57C2\"><h2 style=\"font-size:16px\">Hp values:</h2></span>"
      ],
      "text/plain": [
       "<IPython.core.display.HTML object>"
      ]
     },
     "metadata": {},
     "output_type": "display_data"
    },
    {
     "data": {
      "text/html": [
       "<span style=\"color:cyan\"> |-learning_rate: 0.0002</span>"
      ],
      "text/plain": [
       "<IPython.core.display.HTML object>"
      ]
     },
     "metadata": {},
     "output_type": "display_data"
    },
    {
     "data": {
      "text/html": [
       "<span style=\"color:blue\"> |-rate: 0.35</span>"
      ],
      "text/plain": [
       "<IPython.core.display.HTML object>"
      ]
     },
     "metadata": {},
     "output_type": "display_data"
    },
    {
     "data": {
      "text/html": [
       "<span style=\"color:cyan\"> |-units: 256</span>"
      ],
      "text/plain": [
       "<IPython.core.display.HTML object>"
      ]
     },
     "metadata": {},
     "output_type": "display_data"
    },
    {
     "data": {
      "text/html": [
       "<span style=\"color:#7E57C2\"><h2 style=\"font-size:16px\">Execution 1/3</h2></span>"
      ],
      "text/plain": [
       "<IPython.core.display.HTML object>"
      ]
     },
     "metadata": {},
     "output_type": "display_data"
    },
    {
     "data": {
      "application/vnd.jupyter.widget-view+json": {
       "model_id": "79daa346f6784a0e833345f17df5c8d7",
       "version_major": 2,
       "version_minor": 0
      },
      "text/plain": [
       "HBox(children=(IntProgress(value=0, max=162), HTML(value='')))"
      ]
     },
     "metadata": {},
     "output_type": "display_data"
    },
    {
     "name": "stdout",
     "output_type": "stream",
     "text": [
      "\n"
     ]
    },
    {
     "data": {
      "application/vnd.jupyter.widget-view+json": {
       "model_id": "dc40a150d3d0492bac2f9321c93b67a3",
       "version_major": 2,
       "version_minor": 0
      },
      "text/plain": [
       "HBox(children=(IntProgress(value=0, max=162), HTML(value='')))"
      ]
     },
     "metadata": {},
     "output_type": "display_data"
    },
    {
     "name": "stdout",
     "output_type": "stream",
     "text": [
      "\n"
     ]
    },
    {
     "data": {
      "application/vnd.jupyter.widget-view+json": {
       "model_id": "82dca30965bf4f97b4d13bf598cca82c",
       "version_major": 2,
       "version_minor": 0
      },
      "text/plain": [
       "HBox(children=(IntProgress(value=0, max=162), HTML(value='')))"
      ]
     },
     "metadata": {},
     "output_type": "display_data"
    },
    {
     "name": "stdout",
     "output_type": "stream",
     "text": [
      "\n"
     ]
    },
    {
     "data": {
      "application/vnd.jupyter.widget-view+json": {
       "model_id": "1f34bbfee8c541fbb485f7c1cc303456",
       "version_major": 2,
       "version_minor": 0
      },
      "text/plain": [
       "HBox(children=(IntProgress(value=0, max=162), HTML(value='')))"
      ]
     },
     "metadata": {},
     "output_type": "display_data"
    },
    {
     "name": "stdout",
     "output_type": "stream",
     "text": [
      "\n"
     ]
    },
    {
     "data": {
      "application/vnd.jupyter.widget-view+json": {
       "model_id": "1ebdfcad257f4e71997086916294753f",
       "version_major": 2,
       "version_minor": 0
      },
      "text/plain": [
       "HBox(children=(IntProgress(value=0, max=162), HTML(value='')))"
      ]
     },
     "metadata": {},
     "output_type": "display_data"
    },
    {
     "name": "stdout",
     "output_type": "stream",
     "text": [
      "\n"
     ]
    },
    {
     "data": {
      "application/vnd.jupyter.widget-view+json": {
       "model_id": "f107b2f077f5407d96a791adbcd703a1",
       "version_major": 2,
       "version_minor": 0
      },
      "text/plain": [
       "HBox(children=(IntProgress(value=0, max=162), HTML(value='')))"
      ]
     },
     "metadata": {},
     "output_type": "display_data"
    },
    {
     "name": "stdout",
     "output_type": "stream",
     "text": [
      "\n"
     ]
    },
    {
     "data": {
      "application/vnd.jupyter.widget-view+json": {
       "model_id": "0efdb361792841d78f08c9411f27ddcd",
       "version_major": 2,
       "version_minor": 0
      },
      "text/plain": [
       "HBox(children=(IntProgress(value=0, max=162), HTML(value='')))"
      ]
     },
     "metadata": {},
     "output_type": "display_data"
    },
    {
     "name": "stdout",
     "output_type": "stream",
     "text": [
      "\n"
     ]
    },
    {
     "data": {
      "application/vnd.jupyter.widget-view+json": {
       "model_id": "4f69c27811474a1aa22e3ff00d326cde",
       "version_major": 2,
       "version_minor": 0
      },
      "text/plain": [
       "HBox(children=(IntProgress(value=0, max=162), HTML(value='')))"
      ]
     },
     "metadata": {},
     "output_type": "display_data"
    },
    {
     "name": "stdout",
     "output_type": "stream",
     "text": [
      "\n"
     ]
    },
    {
     "data": {
      "application/vnd.jupyter.widget-view+json": {
       "model_id": "8d7de299a6594c3d968b05cabd916c2f",
       "version_major": 2,
       "version_minor": 0
      },
      "text/plain": [
       "HBox(children=(IntProgress(value=0, max=162), HTML(value='')))"
      ]
     },
     "metadata": {},
     "output_type": "display_data"
    },
    {
     "name": "stdout",
     "output_type": "stream",
     "text": [
      "\n"
     ]
    },
    {
     "data": {
      "application/vnd.jupyter.widget-view+json": {
       "model_id": "4a81e02d80814ab78775def71f34c900",
       "version_major": 2,
       "version_minor": 0
      },
      "text/plain": [
       "HBox(children=(IntProgress(value=0, max=162), HTML(value='')))"
      ]
     },
     "metadata": {},
     "output_type": "display_data"
    },
    {
     "name": "stdout",
     "output_type": "stream",
     "text": [
      "\n"
     ]
    },
    {
     "data": {
      "text/html": [
       "<span style=\"color:#7E57C2\"><h2 style=\"font-size:16px\">Execution 2/3</h2></span>"
      ],
      "text/plain": [
       "<IPython.core.display.HTML object>"
      ]
     },
     "metadata": {},
     "output_type": "display_data"
    },
    {
     "data": {
      "application/vnd.jupyter.widget-view+json": {
       "model_id": "45526e7edcdb45f2961e561b7226b5db",
       "version_major": 2,
       "version_minor": 0
      },
      "text/plain": [
       "HBox(children=(IntProgress(value=0, max=162), HTML(value='')))"
      ]
     },
     "metadata": {},
     "output_type": "display_data"
    },
    {
     "name": "stdout",
     "output_type": "stream",
     "text": [
      "\n"
     ]
    },
    {
     "data": {
      "application/vnd.jupyter.widget-view+json": {
       "model_id": "7d9181ae3bb7419b97ddf3760add2cd1",
       "version_major": 2,
       "version_minor": 0
      },
      "text/plain": [
       "HBox(children=(IntProgress(value=0, max=162), HTML(value='')))"
      ]
     },
     "metadata": {},
     "output_type": "display_data"
    },
    {
     "name": "stdout",
     "output_type": "stream",
     "text": [
      "\n"
     ]
    },
    {
     "data": {
      "application/vnd.jupyter.widget-view+json": {
       "model_id": "0de7b9dfdaa04f55bab942f344ea19d8",
       "version_major": 2,
       "version_minor": 0
      },
      "text/plain": [
       "HBox(children=(IntProgress(value=0, max=162), HTML(value='')))"
      ]
     },
     "metadata": {},
     "output_type": "display_data"
    },
    {
     "name": "stdout",
     "output_type": "stream",
     "text": [
      "\n"
     ]
    },
    {
     "data": {
      "application/vnd.jupyter.widget-view+json": {
       "model_id": "026b091945e34bb9819474ed2ecbd71a",
       "version_major": 2,
       "version_minor": 0
      },
      "text/plain": [
       "HBox(children=(IntProgress(value=0, max=162), HTML(value='')))"
      ]
     },
     "metadata": {},
     "output_type": "display_data"
    },
    {
     "name": "stdout",
     "output_type": "stream",
     "text": [
      "\n"
     ]
    },
    {
     "data": {
      "application/vnd.jupyter.widget-view+json": {
       "model_id": "87d288ebc77845258bde1f338f878f8b",
       "version_major": 2,
       "version_minor": 0
      },
      "text/plain": [
       "HBox(children=(IntProgress(value=0, max=162), HTML(value='')))"
      ]
     },
     "metadata": {},
     "output_type": "display_data"
    },
    {
     "name": "stdout",
     "output_type": "stream",
     "text": [
      "\n"
     ]
    },
    {
     "data": {
      "application/vnd.jupyter.widget-view+json": {
       "model_id": "7ef020bf3d114037a50384cf52ad3039",
       "version_major": 2,
       "version_minor": 0
      },
      "text/plain": [
       "HBox(children=(IntProgress(value=0, max=162), HTML(value='')))"
      ]
     },
     "metadata": {},
     "output_type": "display_data"
    },
    {
     "name": "stdout",
     "output_type": "stream",
     "text": [
      "\n"
     ]
    },
    {
     "data": {
      "application/vnd.jupyter.widget-view+json": {
       "model_id": "03496679838046768a59edbae9b33495",
       "version_major": 2,
       "version_minor": 0
      },
      "text/plain": [
       "HBox(children=(IntProgress(value=0, max=162), HTML(value='')))"
      ]
     },
     "metadata": {},
     "output_type": "display_data"
    },
    {
     "name": "stdout",
     "output_type": "stream",
     "text": [
      "\n"
     ]
    },
    {
     "data": {
      "application/vnd.jupyter.widget-view+json": {
       "model_id": "fcc1edc17ec543eeb49ddc1988cfc3c7",
       "version_major": 2,
       "version_minor": 0
      },
      "text/plain": [
       "HBox(children=(IntProgress(value=0, max=162), HTML(value='')))"
      ]
     },
     "metadata": {},
     "output_type": "display_data"
    },
    {
     "name": "stdout",
     "output_type": "stream",
     "text": [
      "\n"
     ]
    },
    {
     "data": {
      "application/vnd.jupyter.widget-view+json": {
       "model_id": "dad6f39ddd8547d28ea46813099afbe2",
       "version_major": 2,
       "version_minor": 0
      },
      "text/plain": [
       "HBox(children=(IntProgress(value=0, max=162), HTML(value='')))"
      ]
     },
     "metadata": {},
     "output_type": "display_data"
    },
    {
     "name": "stdout",
     "output_type": "stream",
     "text": [
      "\n"
     ]
    },
    {
     "data": {
      "application/vnd.jupyter.widget-view+json": {
       "model_id": "aae004ca3bd140d3bd35d28c12c6479f",
       "version_major": 2,
       "version_minor": 0
      },
      "text/plain": [
       "HBox(children=(IntProgress(value=0, max=162), HTML(value='')))"
      ]
     },
     "metadata": {},
     "output_type": "display_data"
    },
    {
     "name": "stdout",
     "output_type": "stream",
     "text": [
      "\n"
     ]
    },
    {
     "data": {
      "text/html": [
       "<span style=\"color:#7E57C2\"><h2 style=\"font-size:16px\">Execution 3/3</h2></span>"
      ],
      "text/plain": [
       "<IPython.core.display.HTML object>"
      ]
     },
     "metadata": {},
     "output_type": "display_data"
    },
    {
     "data": {
      "application/vnd.jupyter.widget-view+json": {
       "model_id": "341ffcd72f0c469fae7ea2f3e06fdb6d",
       "version_major": 2,
       "version_minor": 0
      },
      "text/plain": [
       "HBox(children=(IntProgress(value=0, max=162), HTML(value='')))"
      ]
     },
     "metadata": {},
     "output_type": "display_data"
    },
    {
     "name": "stdout",
     "output_type": "stream",
     "text": [
      "\n"
     ]
    },
    {
     "data": {
      "application/vnd.jupyter.widget-view+json": {
       "model_id": "90249cb67f594f67b8e42764f86bcf33",
       "version_major": 2,
       "version_minor": 0
      },
      "text/plain": [
       "HBox(children=(IntProgress(value=0, max=162), HTML(value='')))"
      ]
     },
     "metadata": {},
     "output_type": "display_data"
    },
    {
     "name": "stdout",
     "output_type": "stream",
     "text": [
      "\n"
     ]
    },
    {
     "data": {
      "application/vnd.jupyter.widget-view+json": {
       "model_id": "09e5d0c7e151400b879c30bd96630c76",
       "version_major": 2,
       "version_minor": 0
      },
      "text/plain": [
       "HBox(children=(IntProgress(value=0, max=162), HTML(value='')))"
      ]
     },
     "metadata": {},
     "output_type": "display_data"
    },
    {
     "name": "stdout",
     "output_type": "stream",
     "text": [
      "\n"
     ]
    },
    {
     "data": {
      "application/vnd.jupyter.widget-view+json": {
       "model_id": "ed3c4cb331ab4b60b1d085a3a1d13360",
       "version_major": 2,
       "version_minor": 0
      },
      "text/plain": [
       "HBox(children=(IntProgress(value=0, max=162), HTML(value='')))"
      ]
     },
     "metadata": {},
     "output_type": "display_data"
    },
    {
     "name": "stdout",
     "output_type": "stream",
     "text": [
      "\n"
     ]
    },
    {
     "data": {
      "application/vnd.jupyter.widget-view+json": {
       "model_id": "6af9d9fa5c9542598e8e1c3f8daf4844",
       "version_major": 2,
       "version_minor": 0
      },
      "text/plain": [
       "HBox(children=(IntProgress(value=0, max=162), HTML(value='')))"
      ]
     },
     "metadata": {},
     "output_type": "display_data"
    },
    {
     "name": "stdout",
     "output_type": "stream",
     "text": [
      "\n"
     ]
    },
    {
     "data": {
      "application/vnd.jupyter.widget-view+json": {
       "model_id": "59e914b0efa04d4d8070f9a45e0766d7",
       "version_major": 2,
       "version_minor": 0
      },
      "text/plain": [
       "HBox(children=(IntProgress(value=0, max=162), HTML(value='')))"
      ]
     },
     "metadata": {},
     "output_type": "display_data"
    },
    {
     "name": "stdout",
     "output_type": "stream",
     "text": [
      "\n"
     ]
    },
    {
     "data": {
      "application/vnd.jupyter.widget-view+json": {
       "model_id": "3b9e0c2fabba49ceb4517d26c0e85404",
       "version_major": 2,
       "version_minor": 0
      },
      "text/plain": [
       "HBox(children=(IntProgress(value=0, max=162), HTML(value='')))"
      ]
     },
     "metadata": {},
     "output_type": "display_data"
    },
    {
     "name": "stdout",
     "output_type": "stream",
     "text": [
      "\n"
     ]
    },
    {
     "data": {
      "application/vnd.jupyter.widget-view+json": {
       "model_id": "1eb4cce1c0c1440b8c0837c6ba06073e",
       "version_major": 2,
       "version_minor": 0
      },
      "text/plain": [
       "HBox(children=(IntProgress(value=0, max=162), HTML(value='')))"
      ]
     },
     "metadata": {},
     "output_type": "display_data"
    },
    {
     "name": "stdout",
     "output_type": "stream",
     "text": [
      "\n"
     ]
    },
    {
     "data": {
      "application/vnd.jupyter.widget-view+json": {
       "model_id": "b7d5de8892d34c7c9c491a728ab0c2d3",
       "version_major": 2,
       "version_minor": 0
      },
      "text/plain": [
       "HBox(children=(IntProgress(value=0, max=162), HTML(value='')))"
      ]
     },
     "metadata": {},
     "output_type": "display_data"
    },
    {
     "name": "stdout",
     "output_type": "stream",
     "text": [
      "\n"
     ]
    },
    {
     "data": {
      "application/vnd.jupyter.widget-view+json": {
       "model_id": "07e32f41708d40bf9544b2630e28e2db",
       "version_major": 2,
       "version_minor": 0
      },
      "text/plain": [
       "HBox(children=(IntProgress(value=0, max=162), HTML(value='')))"
      ]
     },
     "metadata": {},
     "output_type": "display_data"
    },
    {
     "name": "stdout",
     "output_type": "stream",
     "text": [
      "\n"
     ]
    },
    {
     "data": {
      "text/html": [
       "<table>\n",
       "<thead>\n",
       "<tr><th>Name                                       </th><th>Best model                          </th><th>Current model                        </th></tr>\n",
       "</thead>\n",
       "<tbody>\n",
       "<tr><td>accuracy                                   </td><td>0.9224                              </td><td>0.9215                               </td></tr>\n",
       "<tr><td><span style=\"color:red\">val_accuracy</span></td><td><span style=\"color:red\">0.864</span></td><td><span style=\"color:red\">0.8492</span></td></tr>\n",
       "<tr><td>val_loss                                   </td><td>0.5758                              </td><td>0.7005                               </td></tr>\n",
       "<tr><td>loss                                       </td><td>0.4244                              </td><td>0.5104                               </td></tr>\n",
       "</tbody>\n",
       "</table>"
      ],
      "text/plain": [
       "<IPython.core.display.HTML object>"
      ]
     },
     "metadata": {},
     "output_type": "display_data"
    },
    {
     "data": {
      "text/html": [
       "<span style=\"color:#64DD17\"><span style=\"font-size:14px\"><b>6/10 trials left</b></span></span>"
      ],
      "text/plain": [
       "<IPython.core.display.HTML object>"
      ]
     },
     "metadata": {},
     "output_type": "display_data"
    },
    {
     "data": {
      "text/html": [
       "<span style=\"color:#4527A0\"><h1 style=\"font-size:18px\">New model</h1></span>"
      ],
      "text/plain": [
       "<IPython.core.display.HTML object>"
      ]
     },
     "metadata": {},
     "output_type": "display_data"
    },
    {
     "data": {
      "text/html": [
       "<span style=\"color:#4527A0\"><h1 style=\"font-size:18px\">Trial summary</h1></span>"
      ],
      "text/plain": [
       "<IPython.core.display.HTML object>"
      ]
     },
     "metadata": {},
     "output_type": "display_data"
    },
    {
     "data": {
      "text/html": [
       "<span style=\"color:#7E57C2\"><h2 style=\"font-size:16px\">Hp values:</h2></span>"
      ],
      "text/plain": [
       "<IPython.core.display.HTML object>"
      ]
     },
     "metadata": {},
     "output_type": "display_data"
    },
    {
     "data": {
      "text/html": [
       "<span style=\"color:cyan\"> |-learning_rate: 0.0002</span>"
      ],
      "text/plain": [
       "<IPython.core.display.HTML object>"
      ]
     },
     "metadata": {},
     "output_type": "display_data"
    },
    {
     "data": {
      "text/html": [
       "<span style=\"color:blue\"> |-rate: 0.2</span>"
      ],
      "text/plain": [
       "<IPython.core.display.HTML object>"
      ]
     },
     "metadata": {},
     "output_type": "display_data"
    },
    {
     "data": {
      "text/html": [
       "<span style=\"color:cyan\"> |-units: 320</span>"
      ],
      "text/plain": [
       "<IPython.core.display.HTML object>"
      ]
     },
     "metadata": {},
     "output_type": "display_data"
    },
    {
     "data": {
      "text/html": [
       "<span style=\"color:#7E57C2\"><h2 style=\"font-size:16px\">Execution 1/3</h2></span>"
      ],
      "text/plain": [
       "<IPython.core.display.HTML object>"
      ]
     },
     "metadata": {},
     "output_type": "display_data"
    },
    {
     "data": {
      "application/vnd.jupyter.widget-view+json": {
       "model_id": "e99fc765c37b42dc9a4132214de1ba99",
       "version_major": 2,
       "version_minor": 0
      },
      "text/plain": [
       "HBox(children=(IntProgress(value=0, max=162), HTML(value='')))"
      ]
     },
     "metadata": {},
     "output_type": "display_data"
    },
    {
     "name": "stdout",
     "output_type": "stream",
     "text": [
      "\n"
     ]
    },
    {
     "data": {
      "application/vnd.jupyter.widget-view+json": {
       "model_id": "901a7686feb84221b5911f63bfef6978",
       "version_major": 2,
       "version_minor": 0
      },
      "text/plain": [
       "HBox(children=(IntProgress(value=0, max=162), HTML(value='')))"
      ]
     },
     "metadata": {},
     "output_type": "display_data"
    },
    {
     "name": "stdout",
     "output_type": "stream",
     "text": [
      "\n"
     ]
    },
    {
     "data": {
      "application/vnd.jupyter.widget-view+json": {
       "model_id": "40b1cd86065e41e4bcc2922b794fc472",
       "version_major": 2,
       "version_minor": 0
      },
      "text/plain": [
       "HBox(children=(IntProgress(value=0, max=162), HTML(value='')))"
      ]
     },
     "metadata": {},
     "output_type": "display_data"
    },
    {
     "name": "stdout",
     "output_type": "stream",
     "text": [
      "\n"
     ]
    },
    {
     "data": {
      "application/vnd.jupyter.widget-view+json": {
       "model_id": "24bfe315ae7d4a9ea8add43f190358a8",
       "version_major": 2,
       "version_minor": 0
      },
      "text/plain": [
       "HBox(children=(IntProgress(value=0, max=162), HTML(value='')))"
      ]
     },
     "metadata": {},
     "output_type": "display_data"
    },
    {
     "name": "stdout",
     "output_type": "stream",
     "text": [
      "\n"
     ]
    },
    {
     "data": {
      "application/vnd.jupyter.widget-view+json": {
       "model_id": "0d0a39b9148146909fcef2e787e65e86",
       "version_major": 2,
       "version_minor": 0
      },
      "text/plain": [
       "HBox(children=(IntProgress(value=0, max=162), HTML(value='')))"
      ]
     },
     "metadata": {},
     "output_type": "display_data"
    },
    {
     "name": "stdout",
     "output_type": "stream",
     "text": [
      "\n"
     ]
    },
    {
     "data": {
      "application/vnd.jupyter.widget-view+json": {
       "model_id": "25fe52fa39e74ca98eb8b301c8f5b8ad",
       "version_major": 2,
       "version_minor": 0
      },
      "text/plain": [
       "HBox(children=(IntProgress(value=0, max=162), HTML(value='')))"
      ]
     },
     "metadata": {},
     "output_type": "display_data"
    },
    {
     "name": "stdout",
     "output_type": "stream",
     "text": [
      "\n"
     ]
    },
    {
     "data": {
      "application/vnd.jupyter.widget-view+json": {
       "model_id": "e1e29bfc75444597a402ee814b99ae90",
       "version_major": 2,
       "version_minor": 0
      },
      "text/plain": [
       "HBox(children=(IntProgress(value=0, max=162), HTML(value='')))"
      ]
     },
     "metadata": {},
     "output_type": "display_data"
    },
    {
     "name": "stdout",
     "output_type": "stream",
     "text": [
      "\n"
     ]
    },
    {
     "data": {
      "application/vnd.jupyter.widget-view+json": {
       "model_id": "34c5a0e068e447fa961448cdda5a997b",
       "version_major": 2,
       "version_minor": 0
      },
      "text/plain": [
       "HBox(children=(IntProgress(value=0, max=162), HTML(value='')))"
      ]
     },
     "metadata": {},
     "output_type": "display_data"
    },
    {
     "name": "stdout",
     "output_type": "stream",
     "text": [
      "\n"
     ]
    },
    {
     "data": {
      "application/vnd.jupyter.widget-view+json": {
       "model_id": "ad20184edb7a43b6a0b24fb2b09a2d81",
       "version_major": 2,
       "version_minor": 0
      },
      "text/plain": [
       "HBox(children=(IntProgress(value=0, max=162), HTML(value='')))"
      ]
     },
     "metadata": {},
     "output_type": "display_data"
    },
    {
     "name": "stdout",
     "output_type": "stream",
     "text": [
      "\n"
     ]
    },
    {
     "data": {
      "application/vnd.jupyter.widget-view+json": {
       "model_id": "dd5d6d4d552540c8a7203b93aa3e9bf0",
       "version_major": 2,
       "version_minor": 0
      },
      "text/plain": [
       "HBox(children=(IntProgress(value=0, max=162), HTML(value='')))"
      ]
     },
     "metadata": {},
     "output_type": "display_data"
    },
    {
     "name": "stdout",
     "output_type": "stream",
     "text": [
      "\n"
     ]
    },
    {
     "data": {
      "text/html": [
       "<span style=\"color:#7E57C2\"><h2 style=\"font-size:16px\">Execution 2/3</h2></span>"
      ],
      "text/plain": [
       "<IPython.core.display.HTML object>"
      ]
     },
     "metadata": {},
     "output_type": "display_data"
    },
    {
     "data": {
      "application/vnd.jupyter.widget-view+json": {
       "model_id": "df0df3ec180d4b958eb0ada70f4883d4",
       "version_major": 2,
       "version_minor": 0
      },
      "text/plain": [
       "HBox(children=(IntProgress(value=0, max=162), HTML(value='')))"
      ]
     },
     "metadata": {},
     "output_type": "display_data"
    },
    {
     "name": "stdout",
     "output_type": "stream",
     "text": [
      "\n"
     ]
    },
    {
     "data": {
      "application/vnd.jupyter.widget-view+json": {
       "model_id": "be793c2d943c483ca276261701c85d43",
       "version_major": 2,
       "version_minor": 0
      },
      "text/plain": [
       "HBox(children=(IntProgress(value=0, max=162), HTML(value='')))"
      ]
     },
     "metadata": {},
     "output_type": "display_data"
    },
    {
     "name": "stdout",
     "output_type": "stream",
     "text": [
      "\n"
     ]
    },
    {
     "data": {
      "application/vnd.jupyter.widget-view+json": {
       "model_id": "3ca119354e6146928158e99ef8e34f4b",
       "version_major": 2,
       "version_minor": 0
      },
      "text/plain": [
       "HBox(children=(IntProgress(value=0, max=162), HTML(value='')))"
      ]
     },
     "metadata": {},
     "output_type": "display_data"
    },
    {
     "name": "stdout",
     "output_type": "stream",
     "text": [
      "\n"
     ]
    },
    {
     "data": {
      "application/vnd.jupyter.widget-view+json": {
       "model_id": "7a8ec70f080b4504be15ab658673b864",
       "version_major": 2,
       "version_minor": 0
      },
      "text/plain": [
       "HBox(children=(IntProgress(value=0, max=162), HTML(value='')))"
      ]
     },
     "metadata": {},
     "output_type": "display_data"
    },
    {
     "name": "stdout",
     "output_type": "stream",
     "text": [
      "\n"
     ]
    },
    {
     "data": {
      "application/vnd.jupyter.widget-view+json": {
       "model_id": "ee053a69240246f58c1af7ce6d41faf0",
       "version_major": 2,
       "version_minor": 0
      },
      "text/plain": [
       "HBox(children=(IntProgress(value=0, max=162), HTML(value='')))"
      ]
     },
     "metadata": {},
     "output_type": "display_data"
    },
    {
     "name": "stdout",
     "output_type": "stream",
     "text": [
      "\n"
     ]
    },
    {
     "data": {
      "application/vnd.jupyter.widget-view+json": {
       "model_id": "a15a60b8ac5142819e9bd7d0745aa9d2",
       "version_major": 2,
       "version_minor": 0
      },
      "text/plain": [
       "HBox(children=(IntProgress(value=0, max=162), HTML(value='')))"
      ]
     },
     "metadata": {},
     "output_type": "display_data"
    },
    {
     "name": "stdout",
     "output_type": "stream",
     "text": [
      "\n"
     ]
    },
    {
     "data": {
      "application/vnd.jupyter.widget-view+json": {
       "model_id": "5724cb22ac8043c6b306c9402294c338",
       "version_major": 2,
       "version_minor": 0
      },
      "text/plain": [
       "HBox(children=(IntProgress(value=0, max=162), HTML(value='')))"
      ]
     },
     "metadata": {},
     "output_type": "display_data"
    },
    {
     "name": "stdout",
     "output_type": "stream",
     "text": [
      "\n"
     ]
    },
    {
     "data": {
      "application/vnd.jupyter.widget-view+json": {
       "model_id": "191f20d9d82c4aa0a174e62cfb13a59f",
       "version_major": 2,
       "version_minor": 0
      },
      "text/plain": [
       "HBox(children=(IntProgress(value=0, max=162), HTML(value='')))"
      ]
     },
     "metadata": {},
     "output_type": "display_data"
    },
    {
     "name": "stdout",
     "output_type": "stream",
     "text": [
      "\n"
     ]
    },
    {
     "data": {
      "application/vnd.jupyter.widget-view+json": {
       "model_id": "0b593eb3c2874ab282e9e3a336a562bd",
       "version_major": 2,
       "version_minor": 0
      },
      "text/plain": [
       "HBox(children=(IntProgress(value=0, max=162), HTML(value='')))"
      ]
     },
     "metadata": {},
     "output_type": "display_data"
    },
    {
     "name": "stdout",
     "output_type": "stream",
     "text": [
      "\n"
     ]
    },
    {
     "data": {
      "application/vnd.jupyter.widget-view+json": {
       "model_id": "cebddb19bbd74ded957c4ec888228943",
       "version_major": 2,
       "version_minor": 0
      },
      "text/plain": [
       "HBox(children=(IntProgress(value=0, max=162), HTML(value='')))"
      ]
     },
     "metadata": {},
     "output_type": "display_data"
    },
    {
     "name": "stderr",
     "output_type": "stream",
     "text": [
      "W0706 14:36:48.416752 140063488407296 callbacks.py:241] Method (on_train_batch_end) is slow compared to the batch update (0.105599). Check your callbacks.\n"
     ]
    },
    {
     "name": "stdout",
     "output_type": "stream",
     "text": [
      "\n"
     ]
    },
    {
     "data": {
      "text/html": [
       "<span style=\"color:#7E57C2\"><h2 style=\"font-size:16px\">Execution 3/3</h2></span>"
      ],
      "text/plain": [
       "<IPython.core.display.HTML object>"
      ]
     },
     "metadata": {},
     "output_type": "display_data"
    },
    {
     "data": {
      "application/vnd.jupyter.widget-view+json": {
       "model_id": "fc453e6348bf4a6092eee61b3945b26a",
       "version_major": 2,
       "version_minor": 0
      },
      "text/plain": [
       "HBox(children=(IntProgress(value=0, max=162), HTML(value='')))"
      ]
     },
     "metadata": {},
     "output_type": "display_data"
    },
    {
     "name": "stdout",
     "output_type": "stream",
     "text": [
      "\n"
     ]
    },
    {
     "data": {
      "application/vnd.jupyter.widget-view+json": {
       "model_id": "c2ef611993dc42a8bdb1346cbe61c502",
       "version_major": 2,
       "version_minor": 0
      },
      "text/plain": [
       "HBox(children=(IntProgress(value=0, max=162), HTML(value='')))"
      ]
     },
     "metadata": {},
     "output_type": "display_data"
    },
    {
     "name": "stdout",
     "output_type": "stream",
     "text": [
      "\n"
     ]
    },
    {
     "data": {
      "application/vnd.jupyter.widget-view+json": {
       "model_id": "d971226ee23f4775a97580be6935b9ff",
       "version_major": 2,
       "version_minor": 0
      },
      "text/plain": [
       "HBox(children=(IntProgress(value=0, max=162), HTML(value='')))"
      ]
     },
     "metadata": {},
     "output_type": "display_data"
    },
    {
     "name": "stdout",
     "output_type": "stream",
     "text": [
      "\n"
     ]
    },
    {
     "data": {
      "application/vnd.jupyter.widget-view+json": {
       "model_id": "946c25d6aad74f2ca84e09438ec4972b",
       "version_major": 2,
       "version_minor": 0
      },
      "text/plain": [
       "HBox(children=(IntProgress(value=0, max=162), HTML(value='')))"
      ]
     },
     "metadata": {},
     "output_type": "display_data"
    },
    {
     "name": "stdout",
     "output_type": "stream",
     "text": [
      "\n"
     ]
    },
    {
     "data": {
      "application/vnd.jupyter.widget-view+json": {
       "model_id": "8aafbbbb45434c8d9e92b624c5731e47",
       "version_major": 2,
       "version_minor": 0
      },
      "text/plain": [
       "HBox(children=(IntProgress(value=0, max=162), HTML(value='')))"
      ]
     },
     "metadata": {},
     "output_type": "display_data"
    },
    {
     "name": "stdout",
     "output_type": "stream",
     "text": [
      "\n"
     ]
    },
    {
     "data": {
      "application/vnd.jupyter.widget-view+json": {
       "model_id": "042a21dcb98f484d907359a747e805f4",
       "version_major": 2,
       "version_minor": 0
      },
      "text/plain": [
       "HBox(children=(IntProgress(value=0, max=162), HTML(value='')))"
      ]
     },
     "metadata": {},
     "output_type": "display_data"
    },
    {
     "name": "stdout",
     "output_type": "stream",
     "text": [
      "\n"
     ]
    },
    {
     "data": {
      "application/vnd.jupyter.widget-view+json": {
       "model_id": "f9aea25ed5124b529966c5140db4eb1e",
       "version_major": 2,
       "version_minor": 0
      },
      "text/plain": [
       "HBox(children=(IntProgress(value=0, max=162), HTML(value='')))"
      ]
     },
     "metadata": {},
     "output_type": "display_data"
    },
    {
     "name": "stdout",
     "output_type": "stream",
     "text": [
      "\n"
     ]
    },
    {
     "data": {
      "application/vnd.jupyter.widget-view+json": {
       "model_id": "dd6052ab82de48d2b7049da68032f5b4",
       "version_major": 2,
       "version_minor": 0
      },
      "text/plain": [
       "HBox(children=(IntProgress(value=0, max=162), HTML(value='')))"
      ]
     },
     "metadata": {},
     "output_type": "display_data"
    },
    {
     "name": "stdout",
     "output_type": "stream",
     "text": [
      "\n"
     ]
    },
    {
     "data": {
      "application/vnd.jupyter.widget-view+json": {
       "model_id": "63474a73856a429f8906025854e5f261",
       "version_major": 2,
       "version_minor": 0
      },
      "text/plain": [
       "HBox(children=(IntProgress(value=0, max=162), HTML(value='')))"
      ]
     },
     "metadata": {},
     "output_type": "display_data"
    },
    {
     "name": "stdout",
     "output_type": "stream",
     "text": [
      "\n"
     ]
    },
    {
     "data": {
      "application/vnd.jupyter.widget-view+json": {
       "model_id": "d612ad39ad634dcfa629d78e35400538",
       "version_major": 2,
       "version_minor": 0
      },
      "text/plain": [
       "HBox(children=(IntProgress(value=0, max=162), HTML(value='')))"
      ]
     },
     "metadata": {},
     "output_type": "display_data"
    },
    {
     "name": "stdout",
     "output_type": "stream",
     "text": [
      "\n"
     ]
    },
    {
     "data": {
      "text/html": [
       "<table>\n",
       "<thead>\n",
       "<tr><th>Name                                       </th><th>Best model                          </th><th>Current model                        </th></tr>\n",
       "</thead>\n",
       "<tbody>\n",
       "<tr><td>accuracy                                   </td><td>0.9257                              </td><td>0.9257                               </td></tr>\n",
       "<tr><td><span style=\"color:red\">val_accuracy</span></td><td><span style=\"color:red\">0.864</span></td><td><span style=\"color:red\">0.8322</span></td></tr>\n",
       "<tr><td>val_loss                                   </td><td>0.5758                              </td><td>0.639                                </td></tr>\n",
       "<tr><td>loss                                       </td><td>0.4244                              </td><td>0.4838                               </td></tr>\n",
       "</tbody>\n",
       "</table>"
      ],
      "text/plain": [
       "<IPython.core.display.HTML object>"
      ]
     },
     "metadata": {},
     "output_type": "display_data"
    },
    {
     "data": {
      "text/html": [
       "<span style=\"color:#64DD17\"><span style=\"font-size:14px\"><b>5/10 trials left</b></span></span>"
      ],
      "text/plain": [
       "<IPython.core.display.HTML object>"
      ]
     },
     "metadata": {},
     "output_type": "display_data"
    },
    {
     "data": {
      "text/html": [
       "<span style=\"color:#4527A0\"><h1 style=\"font-size:18px\">New model</h1></span>"
      ],
      "text/plain": [
       "<IPython.core.display.HTML object>"
      ]
     },
     "metadata": {},
     "output_type": "display_data"
    },
    {
     "data": {
      "text/html": [
       "<span style=\"color:#4527A0\"><h1 style=\"font-size:18px\">Trial summary</h1></span>"
      ],
      "text/plain": [
       "<IPython.core.display.HTML object>"
      ]
     },
     "metadata": {},
     "output_type": "display_data"
    },
    {
     "data": {
      "text/html": [
       "<span style=\"color:#7E57C2\"><h2 style=\"font-size:16px\">Hp values:</h2></span>"
      ],
      "text/plain": [
       "<IPython.core.display.HTML object>"
      ]
     },
     "metadata": {},
     "output_type": "display_data"
    },
    {
     "data": {
      "text/html": [
       "<span style=\"color:cyan\"> |-learning_rate: 0.0004</span>"
      ],
      "text/plain": [
       "<IPython.core.display.HTML object>"
      ]
     },
     "metadata": {},
     "output_type": "display_data"
    },
    {
     "data": {
      "text/html": [
       "<span style=\"color:blue\"> |-rate: 0.5</span>"
      ],
      "text/plain": [
       "<IPython.core.display.HTML object>"
      ]
     },
     "metadata": {},
     "output_type": "display_data"
    },
    {
     "data": {
      "text/html": [
       "<span style=\"color:cyan\"> |-units: 320</span>"
      ],
      "text/plain": [
       "<IPython.core.display.HTML object>"
      ]
     },
     "metadata": {},
     "output_type": "display_data"
    },
    {
     "data": {
      "text/html": [
       "<span style=\"color:#7E57C2\"><h2 style=\"font-size:16px\">Execution 1/3</h2></span>"
      ],
      "text/plain": [
       "<IPython.core.display.HTML object>"
      ]
     },
     "metadata": {},
     "output_type": "display_data"
    },
    {
     "data": {
      "application/vnd.jupyter.widget-view+json": {
       "model_id": "99ff8a9d15674914b742304f0d5863d8",
       "version_major": 2,
       "version_minor": 0
      },
      "text/plain": [
       "HBox(children=(IntProgress(value=0, max=162), HTML(value='')))"
      ]
     },
     "metadata": {},
     "output_type": "display_data"
    },
    {
     "name": "stdout",
     "output_type": "stream",
     "text": [
      "\n"
     ]
    },
    {
     "data": {
      "application/vnd.jupyter.widget-view+json": {
       "model_id": "9f92ffad77724db8a4bbc70b198a5b9a",
       "version_major": 2,
       "version_minor": 0
      },
      "text/plain": [
       "HBox(children=(IntProgress(value=0, max=162), HTML(value='')))"
      ]
     },
     "metadata": {},
     "output_type": "display_data"
    },
    {
     "name": "stdout",
     "output_type": "stream",
     "text": [
      "\n"
     ]
    },
    {
     "data": {
      "application/vnd.jupyter.widget-view+json": {
       "model_id": "5bae66a0b6f540ebba3b4ed5067b6da3",
       "version_major": 2,
       "version_minor": 0
      },
      "text/plain": [
       "HBox(children=(IntProgress(value=0, max=162), HTML(value='')))"
      ]
     },
     "metadata": {},
     "output_type": "display_data"
    },
    {
     "name": "stdout",
     "output_type": "stream",
     "text": [
      "\n"
     ]
    },
    {
     "data": {
      "application/vnd.jupyter.widget-view+json": {
       "model_id": "3134de9e36534e9fbe3bf6600e4490f0",
       "version_major": 2,
       "version_minor": 0
      },
      "text/plain": [
       "HBox(children=(IntProgress(value=0, max=162), HTML(value='')))"
      ]
     },
     "metadata": {},
     "output_type": "display_data"
    },
    {
     "name": "stdout",
     "output_type": "stream",
     "text": [
      "\n"
     ]
    },
    {
     "data": {
      "application/vnd.jupyter.widget-view+json": {
       "model_id": "e09aa2b2449b495d8424759ed1181235",
       "version_major": 2,
       "version_minor": 0
      },
      "text/plain": [
       "HBox(children=(IntProgress(value=0, max=162), HTML(value='')))"
      ]
     },
     "metadata": {},
     "output_type": "display_data"
    },
    {
     "name": "stdout",
     "output_type": "stream",
     "text": [
      "\n"
     ]
    },
    {
     "data": {
      "application/vnd.jupyter.widget-view+json": {
       "model_id": "054f40959e594e869a70055cb14e7cf1",
       "version_major": 2,
       "version_minor": 0
      },
      "text/plain": [
       "HBox(children=(IntProgress(value=0, max=162), HTML(value='')))"
      ]
     },
     "metadata": {},
     "output_type": "display_data"
    },
    {
     "name": "stdout",
     "output_type": "stream",
     "text": [
      "\n"
     ]
    },
    {
     "data": {
      "application/vnd.jupyter.widget-view+json": {
       "model_id": "24a5635a82004e3c95d9dd1a5280d271",
       "version_major": 2,
       "version_minor": 0
      },
      "text/plain": [
       "HBox(children=(IntProgress(value=0, max=162), HTML(value='')))"
      ]
     },
     "metadata": {},
     "output_type": "display_data"
    },
    {
     "name": "stdout",
     "output_type": "stream",
     "text": [
      "\n"
     ]
    },
    {
     "data": {
      "application/vnd.jupyter.widget-view+json": {
       "model_id": "7d473d3a0db444bcb6781f17b8fe4fd9",
       "version_major": 2,
       "version_minor": 0
      },
      "text/plain": [
       "HBox(children=(IntProgress(value=0, max=162), HTML(value='')))"
      ]
     },
     "metadata": {},
     "output_type": "display_data"
    },
    {
     "name": "stdout",
     "output_type": "stream",
     "text": [
      "\n"
     ]
    },
    {
     "data": {
      "application/vnd.jupyter.widget-view+json": {
       "model_id": "617cb8c99d6e4ff29b4f75e4ece15e92",
       "version_major": 2,
       "version_minor": 0
      },
      "text/plain": [
       "HBox(children=(IntProgress(value=0, max=162), HTML(value='')))"
      ]
     },
     "metadata": {},
     "output_type": "display_data"
    },
    {
     "name": "stdout",
     "output_type": "stream",
     "text": [
      "\n"
     ]
    },
    {
     "data": {
      "application/vnd.jupyter.widget-view+json": {
       "model_id": "804903dc2d324b65b658dd01df1dfa29",
       "version_major": 2,
       "version_minor": 0
      },
      "text/plain": [
       "HBox(children=(IntProgress(value=0, max=162), HTML(value='')))"
      ]
     },
     "metadata": {},
     "output_type": "display_data"
    },
    {
     "name": "stdout",
     "output_type": "stream",
     "text": [
      "\n"
     ]
    },
    {
     "data": {
      "text/html": [
       "<span style=\"color:#7E57C2\"><h2 style=\"font-size:16px\">Execution 2/3</h2></span>"
      ],
      "text/plain": [
       "<IPython.core.display.HTML object>"
      ]
     },
     "metadata": {},
     "output_type": "display_data"
    },
    {
     "data": {
      "application/vnd.jupyter.widget-view+json": {
       "model_id": "389d48ea834040448bc9c0474e8c5297",
       "version_major": 2,
       "version_minor": 0
      },
      "text/plain": [
       "HBox(children=(IntProgress(value=0, max=162), HTML(value='')))"
      ]
     },
     "metadata": {},
     "output_type": "display_data"
    },
    {
     "name": "stdout",
     "output_type": "stream",
     "text": [
      "\n"
     ]
    },
    {
     "data": {
      "application/vnd.jupyter.widget-view+json": {
       "model_id": "c6f16f159e2b46a19c8762e09fbedeee",
       "version_major": 2,
       "version_minor": 0
      },
      "text/plain": [
       "HBox(children=(IntProgress(value=0, max=162), HTML(value='')))"
      ]
     },
     "metadata": {},
     "output_type": "display_data"
    },
    {
     "name": "stdout",
     "output_type": "stream",
     "text": [
      "\n"
     ]
    },
    {
     "data": {
      "application/vnd.jupyter.widget-view+json": {
       "model_id": "faab7fa12ebf43f0b82f4a4a2bcb456b",
       "version_major": 2,
       "version_minor": 0
      },
      "text/plain": [
       "HBox(children=(IntProgress(value=0, max=162), HTML(value='')))"
      ]
     },
     "metadata": {},
     "output_type": "display_data"
    },
    {
     "name": "stdout",
     "output_type": "stream",
     "text": [
      "\n"
     ]
    },
    {
     "data": {
      "application/vnd.jupyter.widget-view+json": {
       "model_id": "26b6044916e1481ea157120c00a4034a",
       "version_major": 2,
       "version_minor": 0
      },
      "text/plain": [
       "HBox(children=(IntProgress(value=0, max=162), HTML(value='')))"
      ]
     },
     "metadata": {},
     "output_type": "display_data"
    },
    {
     "name": "stdout",
     "output_type": "stream",
     "text": [
      "\n"
     ]
    },
    {
     "data": {
      "application/vnd.jupyter.widget-view+json": {
       "model_id": "bbd43f703a9c4f719f8013f914a0eab4",
       "version_major": 2,
       "version_minor": 0
      },
      "text/plain": [
       "HBox(children=(IntProgress(value=0, max=162), HTML(value='')))"
      ]
     },
     "metadata": {},
     "output_type": "display_data"
    },
    {
     "name": "stdout",
     "output_type": "stream",
     "text": [
      "\n"
     ]
    },
    {
     "data": {
      "application/vnd.jupyter.widget-view+json": {
       "model_id": "ecae1c94399d4b748f32926f628a06c5",
       "version_major": 2,
       "version_minor": 0
      },
      "text/plain": [
       "HBox(children=(IntProgress(value=0, max=162), HTML(value='')))"
      ]
     },
     "metadata": {},
     "output_type": "display_data"
    },
    {
     "name": "stdout",
     "output_type": "stream",
     "text": [
      "\n"
     ]
    },
    {
     "data": {
      "application/vnd.jupyter.widget-view+json": {
       "model_id": "d5522d82654d4e098563a7dfd87a0744",
       "version_major": 2,
       "version_minor": 0
      },
      "text/plain": [
       "HBox(children=(IntProgress(value=0, max=162), HTML(value='')))"
      ]
     },
     "metadata": {},
     "output_type": "display_data"
    },
    {
     "name": "stdout",
     "output_type": "stream",
     "text": [
      "\n"
     ]
    },
    {
     "data": {
      "application/vnd.jupyter.widget-view+json": {
       "model_id": "460c6002d3a7471a8ceb7df8e5ef47c9",
       "version_major": 2,
       "version_minor": 0
      },
      "text/plain": [
       "HBox(children=(IntProgress(value=0, max=162), HTML(value='')))"
      ]
     },
     "metadata": {},
     "output_type": "display_data"
    },
    {
     "name": "stdout",
     "output_type": "stream",
     "text": [
      "\n"
     ]
    },
    {
     "data": {
      "application/vnd.jupyter.widget-view+json": {
       "model_id": "80b7c53e5472487ca3698e2c719e700d",
       "version_major": 2,
       "version_minor": 0
      },
      "text/plain": [
       "HBox(children=(IntProgress(value=0, max=162), HTML(value='')))"
      ]
     },
     "metadata": {},
     "output_type": "display_data"
    },
    {
     "name": "stdout",
     "output_type": "stream",
     "text": [
      "\n"
     ]
    },
    {
     "data": {
      "application/vnd.jupyter.widget-view+json": {
       "model_id": "fe55371aa29d4418af40df86b218b6cf",
       "version_major": 2,
       "version_minor": 0
      },
      "text/plain": [
       "HBox(children=(IntProgress(value=0, max=162), HTML(value='')))"
      ]
     },
     "metadata": {},
     "output_type": "display_data"
    },
    {
     "name": "stdout",
     "output_type": "stream",
     "text": [
      "\n"
     ]
    },
    {
     "data": {
      "text/html": [
       "<span style=\"color:#7E57C2\"><h2 style=\"font-size:16px\">Execution 3/3</h2></span>"
      ],
      "text/plain": [
       "<IPython.core.display.HTML object>"
      ]
     },
     "metadata": {},
     "output_type": "display_data"
    },
    {
     "data": {
      "application/vnd.jupyter.widget-view+json": {
       "model_id": "11c81068f8be43febb52f05aab56e4fd",
       "version_major": 2,
       "version_minor": 0
      },
      "text/plain": [
       "HBox(children=(IntProgress(value=0, max=162), HTML(value='')))"
      ]
     },
     "metadata": {},
     "output_type": "display_data"
    },
    {
     "name": "stdout",
     "output_type": "stream",
     "text": [
      "\n"
     ]
    },
    {
     "data": {
      "application/vnd.jupyter.widget-view+json": {
       "model_id": "ffa70c0605434897853eac9d6ee616d9",
       "version_major": 2,
       "version_minor": 0
      },
      "text/plain": [
       "HBox(children=(IntProgress(value=0, max=162), HTML(value='')))"
      ]
     },
     "metadata": {},
     "output_type": "display_data"
    },
    {
     "name": "stdout",
     "output_type": "stream",
     "text": [
      "\n"
     ]
    },
    {
     "data": {
      "application/vnd.jupyter.widget-view+json": {
       "model_id": "cba4444d5a1b433b821d19436b636816",
       "version_major": 2,
       "version_minor": 0
      },
      "text/plain": [
       "HBox(children=(IntProgress(value=0, max=162), HTML(value='')))"
      ]
     },
     "metadata": {},
     "output_type": "display_data"
    },
    {
     "name": "stdout",
     "output_type": "stream",
     "text": [
      "\n"
     ]
    },
    {
     "data": {
      "application/vnd.jupyter.widget-view+json": {
       "model_id": "92560aed51f14e5e88f3cc5f2767137a",
       "version_major": 2,
       "version_minor": 0
      },
      "text/plain": [
       "HBox(children=(IntProgress(value=0, max=162), HTML(value='')))"
      ]
     },
     "metadata": {},
     "output_type": "display_data"
    },
    {
     "name": "stdout",
     "output_type": "stream",
     "text": [
      "\n"
     ]
    },
    {
     "data": {
      "application/vnd.jupyter.widget-view+json": {
       "model_id": "d6a8cb3437534e4f852b491e1f6d9f3b",
       "version_major": 2,
       "version_minor": 0
      },
      "text/plain": [
       "HBox(children=(IntProgress(value=0, max=162), HTML(value='')))"
      ]
     },
     "metadata": {},
     "output_type": "display_data"
    },
    {
     "name": "stdout",
     "output_type": "stream",
     "text": [
      "\n"
     ]
    },
    {
     "data": {
      "application/vnd.jupyter.widget-view+json": {
       "model_id": "b27bbe1a5e4a4dacac1469eca1960593",
       "version_major": 2,
       "version_minor": 0
      },
      "text/plain": [
       "HBox(children=(IntProgress(value=0, max=162), HTML(value='')))"
      ]
     },
     "metadata": {},
     "output_type": "display_data"
    },
    {
     "name": "stdout",
     "output_type": "stream",
     "text": [
      "\n"
     ]
    },
    {
     "data": {
      "application/vnd.jupyter.widget-view+json": {
       "model_id": "5945d302e4fb4b79a72dbb81d2ce6db0",
       "version_major": 2,
       "version_minor": 0
      },
      "text/plain": [
       "HBox(children=(IntProgress(value=0, max=162), HTML(value='')))"
      ]
     },
     "metadata": {},
     "output_type": "display_data"
    },
    {
     "name": "stdout",
     "output_type": "stream",
     "text": [
      "\n"
     ]
    },
    {
     "data": {
      "application/vnd.jupyter.widget-view+json": {
       "model_id": "1398c17c21d248b5acf7189e9119b7e2",
       "version_major": 2,
       "version_minor": 0
      },
      "text/plain": [
       "HBox(children=(IntProgress(value=0, max=162), HTML(value='')))"
      ]
     },
     "metadata": {},
     "output_type": "display_data"
    },
    {
     "name": "stdout",
     "output_type": "stream",
     "text": [
      "\n"
     ]
    },
    {
     "data": {
      "application/vnd.jupyter.widget-view+json": {
       "model_id": "7eddf0f981104491904cdb3bae51b98f",
       "version_major": 2,
       "version_minor": 0
      },
      "text/plain": [
       "HBox(children=(IntProgress(value=0, max=162), HTML(value='')))"
      ]
     },
     "metadata": {},
     "output_type": "display_data"
    },
    {
     "name": "stdout",
     "output_type": "stream",
     "text": [
      "\n"
     ]
    },
    {
     "data": {
      "application/vnd.jupyter.widget-view+json": {
       "model_id": "5f4fa91e0495451a8057d826c00d9e57",
       "version_major": 2,
       "version_minor": 0
      },
      "text/plain": [
       "HBox(children=(IntProgress(value=0, max=162), HTML(value='')))"
      ]
     },
     "metadata": {},
     "output_type": "display_data"
    },
    {
     "name": "stdout",
     "output_type": "stream",
     "text": [
      "\n"
     ]
    },
    {
     "data": {
      "text/html": [
       "<table>\n",
       "<thead>\n",
       "<tr><th>Name                                       </th><th>Best model                          </th><th>Current model                        </th></tr>\n",
       "</thead>\n",
       "<tbody>\n",
       "<tr><td>accuracy                                   </td><td>0.9257                              </td><td>0.9122                               </td></tr>\n",
       "<tr><td><span style=\"color:red\">val_accuracy</span></td><td><span style=\"color:red\">0.864</span></td><td><span style=\"color:red\">0.8388</span></td></tr>\n",
       "<tr><td>val_loss                                   </td><td>0.5758                              </td><td>0.7544                               </td></tr>\n",
       "<tr><td>loss                                       </td><td>0.4244                              </td><td>0.5912                               </td></tr>\n",
       "</tbody>\n",
       "</table>"
      ],
      "text/plain": [
       "<IPython.core.display.HTML object>"
      ]
     },
     "metadata": {},
     "output_type": "display_data"
    },
    {
     "data": {
      "text/html": [
       "<span style=\"color:#64DD17\"><span style=\"font-size:14px\"><b>4/10 trials left</b></span></span>"
      ],
      "text/plain": [
       "<IPython.core.display.HTML object>"
      ]
     },
     "metadata": {},
     "output_type": "display_data"
    },
    {
     "data": {
      "text/html": [
       "<span style=\"color:#4527A0\"><h1 style=\"font-size:18px\">New model</h1></span>"
      ],
      "text/plain": [
       "<IPython.core.display.HTML object>"
      ]
     },
     "metadata": {},
     "output_type": "display_data"
    },
    {
     "data": {
      "text/html": [
       "<span style=\"color:#4527A0\"><h1 style=\"font-size:18px\">Trial summary</h1></span>"
      ],
      "text/plain": [
       "<IPython.core.display.HTML object>"
      ]
     },
     "metadata": {},
     "output_type": "display_data"
    },
    {
     "data": {
      "text/html": [
       "<span style=\"color:#7E57C2\"><h2 style=\"font-size:16px\">Hp values:</h2></span>"
      ],
      "text/plain": [
       "<IPython.core.display.HTML object>"
      ]
     },
     "metadata": {},
     "output_type": "display_data"
    },
    {
     "data": {
      "text/html": [
       "<span style=\"color:cyan\"> |-learning_rate: 0.0001</span>"
      ],
      "text/plain": [
       "<IPython.core.display.HTML object>"
      ]
     },
     "metadata": {},
     "output_type": "display_data"
    },
    {
     "data": {
      "text/html": [
       "<span style=\"color:blue\"> |-rate: 0.35</span>"
      ],
      "text/plain": [
       "<IPython.core.display.HTML object>"
      ]
     },
     "metadata": {},
     "output_type": "display_data"
    },
    {
     "data": {
      "text/html": [
       "<span style=\"color:cyan\"> |-units: 128</span>"
      ],
      "text/plain": [
       "<IPython.core.display.HTML object>"
      ]
     },
     "metadata": {},
     "output_type": "display_data"
    },
    {
     "data": {
      "text/html": [
       "<span style=\"color:#7E57C2\"><h2 style=\"font-size:16px\">Execution 1/3</h2></span>"
      ],
      "text/plain": [
       "<IPython.core.display.HTML object>"
      ]
     },
     "metadata": {},
     "output_type": "display_data"
    },
    {
     "data": {
      "application/vnd.jupyter.widget-view+json": {
       "model_id": "60cb4321a62f47a89f874c5e98121b98",
       "version_major": 2,
       "version_minor": 0
      },
      "text/plain": [
       "HBox(children=(IntProgress(value=0, max=162), HTML(value='')))"
      ]
     },
     "metadata": {},
     "output_type": "display_data"
    },
    {
     "name": "stdout",
     "output_type": "stream",
     "text": [
      "\n"
     ]
    },
    {
     "data": {
      "application/vnd.jupyter.widget-view+json": {
       "model_id": "0763e502b88a43b59d04373add7b9f98",
       "version_major": 2,
       "version_minor": 0
      },
      "text/plain": [
       "HBox(children=(IntProgress(value=0, max=162), HTML(value='')))"
      ]
     },
     "metadata": {},
     "output_type": "display_data"
    },
    {
     "name": "stdout",
     "output_type": "stream",
     "text": [
      "\n"
     ]
    },
    {
     "data": {
      "application/vnd.jupyter.widget-view+json": {
       "model_id": "402f1383b82e4879b3a69e4dfb82bfb7",
       "version_major": 2,
       "version_minor": 0
      },
      "text/plain": [
       "HBox(children=(IntProgress(value=0, max=162), HTML(value='')))"
      ]
     },
     "metadata": {},
     "output_type": "display_data"
    },
    {
     "name": "stdout",
     "output_type": "stream",
     "text": [
      "\n"
     ]
    },
    {
     "data": {
      "application/vnd.jupyter.widget-view+json": {
       "model_id": "004dfc2a4c2d4245adfaba3555a70270",
       "version_major": 2,
       "version_minor": 0
      },
      "text/plain": [
       "HBox(children=(IntProgress(value=0, max=162), HTML(value='')))"
      ]
     },
     "metadata": {},
     "output_type": "display_data"
    },
    {
     "name": "stdout",
     "output_type": "stream",
     "text": [
      "\n"
     ]
    },
    {
     "data": {
      "application/vnd.jupyter.widget-view+json": {
       "model_id": "704e308a54204ae8920d95a8c3a438fd",
       "version_major": 2,
       "version_minor": 0
      },
      "text/plain": [
       "HBox(children=(IntProgress(value=0, max=162), HTML(value='')))"
      ]
     },
     "metadata": {},
     "output_type": "display_data"
    },
    {
     "name": "stdout",
     "output_type": "stream",
     "text": [
      "\n"
     ]
    },
    {
     "data": {
      "application/vnd.jupyter.widget-view+json": {
       "model_id": "1532a128e8bc4ebda4d58fdc3d02f092",
       "version_major": 2,
       "version_minor": 0
      },
      "text/plain": [
       "HBox(children=(IntProgress(value=0, max=162), HTML(value='')))"
      ]
     },
     "metadata": {},
     "output_type": "display_data"
    },
    {
     "name": "stdout",
     "output_type": "stream",
     "text": [
      "\n"
     ]
    },
    {
     "data": {
      "application/vnd.jupyter.widget-view+json": {
       "model_id": "bba0428d10e74716ae6f0557687d575a",
       "version_major": 2,
       "version_minor": 0
      },
      "text/plain": [
       "HBox(children=(IntProgress(value=0, max=162), HTML(value='')))"
      ]
     },
     "metadata": {},
     "output_type": "display_data"
    },
    {
     "name": "stdout",
     "output_type": "stream",
     "text": [
      "\n"
     ]
    },
    {
     "data": {
      "application/vnd.jupyter.widget-view+json": {
       "model_id": "45cd14baea554b1e8e8fae1400b3a472",
       "version_major": 2,
       "version_minor": 0
      },
      "text/plain": [
       "HBox(children=(IntProgress(value=0, max=162), HTML(value='')))"
      ]
     },
     "metadata": {},
     "output_type": "display_data"
    },
    {
     "name": "stdout",
     "output_type": "stream",
     "text": [
      "\n"
     ]
    },
    {
     "data": {
      "application/vnd.jupyter.widget-view+json": {
       "model_id": "94442922ee1a4b179c29d78c2c5eb52f",
       "version_major": 2,
       "version_minor": 0
      },
      "text/plain": [
       "HBox(children=(IntProgress(value=0, max=162), HTML(value='')))"
      ]
     },
     "metadata": {},
     "output_type": "display_data"
    },
    {
     "name": "stdout",
     "output_type": "stream",
     "text": [
      "\n"
     ]
    },
    {
     "data": {
      "application/vnd.jupyter.widget-view+json": {
       "model_id": "06050d23b3c0441b84413f57188f70c4",
       "version_major": 2,
       "version_minor": 0
      },
      "text/plain": [
       "HBox(children=(IntProgress(value=0, max=162), HTML(value='')))"
      ]
     },
     "metadata": {},
     "output_type": "display_data"
    },
    {
     "name": "stdout",
     "output_type": "stream",
     "text": [
      "\n"
     ]
    },
    {
     "data": {
      "text/html": [
       "<span style=\"color:#7E57C2\"><h2 style=\"font-size:16px\">Execution 2/3</h2></span>"
      ],
      "text/plain": [
       "<IPython.core.display.HTML object>"
      ]
     },
     "metadata": {},
     "output_type": "display_data"
    },
    {
     "data": {
      "application/vnd.jupyter.widget-view+json": {
       "model_id": "16c456eac2f24fc487794b5a050252cc",
       "version_major": 2,
       "version_minor": 0
      },
      "text/plain": [
       "HBox(children=(IntProgress(value=0, max=162), HTML(value='')))"
      ]
     },
     "metadata": {},
     "output_type": "display_data"
    },
    {
     "name": "stdout",
     "output_type": "stream",
     "text": [
      "\n"
     ]
    },
    {
     "data": {
      "application/vnd.jupyter.widget-view+json": {
       "model_id": "3b5ddd6a0fca4ab0a5710e2081eeaa97",
       "version_major": 2,
       "version_minor": 0
      },
      "text/plain": [
       "HBox(children=(IntProgress(value=0, max=162), HTML(value='')))"
      ]
     },
     "metadata": {},
     "output_type": "display_data"
    },
    {
     "name": "stdout",
     "output_type": "stream",
     "text": [
      "\n"
     ]
    },
    {
     "data": {
      "application/vnd.jupyter.widget-view+json": {
       "model_id": "1ad169026d384e35a8944c828826e76b",
       "version_major": 2,
       "version_minor": 0
      },
      "text/plain": [
       "HBox(children=(IntProgress(value=0, max=162), HTML(value='')))"
      ]
     },
     "metadata": {},
     "output_type": "display_data"
    },
    {
     "name": "stdout",
     "output_type": "stream",
     "text": [
      "\n"
     ]
    },
    {
     "data": {
      "application/vnd.jupyter.widget-view+json": {
       "model_id": "3569050dceee497d8f9dd91753421ddc",
       "version_major": 2,
       "version_minor": 0
      },
      "text/plain": [
       "HBox(children=(IntProgress(value=0, max=162), HTML(value='')))"
      ]
     },
     "metadata": {},
     "output_type": "display_data"
    },
    {
     "name": "stdout",
     "output_type": "stream",
     "text": [
      "\n"
     ]
    },
    {
     "data": {
      "application/vnd.jupyter.widget-view+json": {
       "model_id": "dffa73e983a54639975a699fca903184",
       "version_major": 2,
       "version_minor": 0
      },
      "text/plain": [
       "HBox(children=(IntProgress(value=0, max=162), HTML(value='')))"
      ]
     },
     "metadata": {},
     "output_type": "display_data"
    },
    {
     "name": "stdout",
     "output_type": "stream",
     "text": [
      "\n"
     ]
    },
    {
     "data": {
      "application/vnd.jupyter.widget-view+json": {
       "model_id": "6d19de46e9654200ac4aad764c3864d8",
       "version_major": 2,
       "version_minor": 0
      },
      "text/plain": [
       "HBox(children=(IntProgress(value=0, max=162), HTML(value='')))"
      ]
     },
     "metadata": {},
     "output_type": "display_data"
    },
    {
     "name": "stdout",
     "output_type": "stream",
     "text": [
      "\n"
     ]
    },
    {
     "data": {
      "application/vnd.jupyter.widget-view+json": {
       "model_id": "9e16848cf7d747b0bb2d409c7f09579a",
       "version_major": 2,
       "version_minor": 0
      },
      "text/plain": [
       "HBox(children=(IntProgress(value=0, max=162), HTML(value='')))"
      ]
     },
     "metadata": {},
     "output_type": "display_data"
    },
    {
     "name": "stdout",
     "output_type": "stream",
     "text": [
      "\n"
     ]
    },
    {
     "data": {
      "application/vnd.jupyter.widget-view+json": {
       "model_id": "9aa6ffe9563e402695713e8757aab778",
       "version_major": 2,
       "version_minor": 0
      },
      "text/plain": [
       "HBox(children=(IntProgress(value=0, max=162), HTML(value='')))"
      ]
     },
     "metadata": {},
     "output_type": "display_data"
    },
    {
     "name": "stdout",
     "output_type": "stream",
     "text": [
      "\n"
     ]
    },
    {
     "data": {
      "application/vnd.jupyter.widget-view+json": {
       "model_id": "1011a68b62c647318cd22a641d23e71f",
       "version_major": 2,
       "version_minor": 0
      },
      "text/plain": [
       "HBox(children=(IntProgress(value=0, max=162), HTML(value='')))"
      ]
     },
     "metadata": {},
     "output_type": "display_data"
    },
    {
     "name": "stdout",
     "output_type": "stream",
     "text": [
      "\n"
     ]
    },
    {
     "data": {
      "application/vnd.jupyter.widget-view+json": {
       "model_id": "4df69c4c1ecd41c193722807444bc04f",
       "version_major": 2,
       "version_minor": 0
      },
      "text/plain": [
       "HBox(children=(IntProgress(value=0, max=162), HTML(value='')))"
      ]
     },
     "metadata": {},
     "output_type": "display_data"
    },
    {
     "name": "stdout",
     "output_type": "stream",
     "text": [
      "\n"
     ]
    },
    {
     "data": {
      "text/html": [
       "<span style=\"color:#7E57C2\"><h2 style=\"font-size:16px\">Execution 3/3</h2></span>"
      ],
      "text/plain": [
       "<IPython.core.display.HTML object>"
      ]
     },
     "metadata": {},
     "output_type": "display_data"
    },
    {
     "data": {
      "application/vnd.jupyter.widget-view+json": {
       "model_id": "10a14df990cf4c4aa52186a06cb08e4c",
       "version_major": 2,
       "version_minor": 0
      },
      "text/plain": [
       "HBox(children=(IntProgress(value=0, max=162), HTML(value='')))"
      ]
     },
     "metadata": {},
     "output_type": "display_data"
    },
    {
     "name": "stdout",
     "output_type": "stream",
     "text": [
      "\n"
     ]
    },
    {
     "data": {
      "application/vnd.jupyter.widget-view+json": {
       "model_id": "b42e81c89e244e468646643349c92283",
       "version_major": 2,
       "version_minor": 0
      },
      "text/plain": [
       "HBox(children=(IntProgress(value=0, max=162), HTML(value='')))"
      ]
     },
     "metadata": {},
     "output_type": "display_data"
    },
    {
     "name": "stdout",
     "output_type": "stream",
     "text": [
      "\n"
     ]
    },
    {
     "data": {
      "application/vnd.jupyter.widget-view+json": {
       "model_id": "194f0c1ed4e44d7dad811a596ae3e5d4",
       "version_major": 2,
       "version_minor": 0
      },
      "text/plain": [
       "HBox(children=(IntProgress(value=0, max=162), HTML(value='')))"
      ]
     },
     "metadata": {},
     "output_type": "display_data"
    },
    {
     "name": "stdout",
     "output_type": "stream",
     "text": [
      "\n"
     ]
    },
    {
     "data": {
      "application/vnd.jupyter.widget-view+json": {
       "model_id": "45bca9872e6a4d29ad7b83bdd9d5e44c",
       "version_major": 2,
       "version_minor": 0
      },
      "text/plain": [
       "HBox(children=(IntProgress(value=0, max=162), HTML(value='')))"
      ]
     },
     "metadata": {},
     "output_type": "display_data"
    },
    {
     "name": "stdout",
     "output_type": "stream",
     "text": [
      "\n"
     ]
    },
    {
     "data": {
      "application/vnd.jupyter.widget-view+json": {
       "model_id": "5cd9839e97234aacbf2a66d47a02739e",
       "version_major": 2,
       "version_minor": 0
      },
      "text/plain": [
       "HBox(children=(IntProgress(value=0, max=162), HTML(value='')))"
      ]
     },
     "metadata": {},
     "output_type": "display_data"
    },
    {
     "name": "stdout",
     "output_type": "stream",
     "text": [
      "\n"
     ]
    },
    {
     "data": {
      "application/vnd.jupyter.widget-view+json": {
       "model_id": "615161e9cccc49eaa3ef84a232928c02",
       "version_major": 2,
       "version_minor": 0
      },
      "text/plain": [
       "HBox(children=(IntProgress(value=0, max=162), HTML(value='')))"
      ]
     },
     "metadata": {},
     "output_type": "display_data"
    },
    {
     "name": "stdout",
     "output_type": "stream",
     "text": [
      "\n"
     ]
    },
    {
     "data": {
      "application/vnd.jupyter.widget-view+json": {
       "model_id": "ce17db7ba4be4096876be6c49c243d05",
       "version_major": 2,
       "version_minor": 0
      },
      "text/plain": [
       "HBox(children=(IntProgress(value=0, max=162), HTML(value='')))"
      ]
     },
     "metadata": {},
     "output_type": "display_data"
    },
    {
     "name": "stdout",
     "output_type": "stream",
     "text": [
      "\n"
     ]
    },
    {
     "data": {
      "application/vnd.jupyter.widget-view+json": {
       "model_id": "a7a564ffd8de411380d5eb324d1aef94",
       "version_major": 2,
       "version_minor": 0
      },
      "text/plain": [
       "HBox(children=(IntProgress(value=0, max=162), HTML(value='')))"
      ]
     },
     "metadata": {},
     "output_type": "display_data"
    },
    {
     "name": "stdout",
     "output_type": "stream",
     "text": [
      "\n"
     ]
    },
    {
     "data": {
      "application/vnd.jupyter.widget-view+json": {
       "model_id": "872608b7e5444b64bf8490c27e5ef6eb",
       "version_major": 2,
       "version_minor": 0
      },
      "text/plain": [
       "HBox(children=(IntProgress(value=0, max=162), HTML(value='')))"
      ]
     },
     "metadata": {},
     "output_type": "display_data"
    },
    {
     "name": "stdout",
     "output_type": "stream",
     "text": [
      "\n"
     ]
    },
    {
     "data": {
      "application/vnd.jupyter.widget-view+json": {
       "model_id": "a2fd09b0ab61413b8c62d65e0ba2c03e",
       "version_major": 2,
       "version_minor": 0
      },
      "text/plain": [
       "HBox(children=(IntProgress(value=0, max=162), HTML(value='')))"
      ]
     },
     "metadata": {},
     "output_type": "display_data"
    },
    {
     "name": "stderr",
     "output_type": "stream",
     "text": [
      "W0706 14:38:22.759412 140063488407296 callbacks.py:241] Method (on_train_batch_end) is slow compared to the batch update (0.170920). Check your callbacks.\n"
     ]
    },
    {
     "name": "stdout",
     "output_type": "stream",
     "text": [
      "\n"
     ]
    },
    {
     "data": {
      "text/html": [
       "<table>\n",
       "<thead>\n",
       "<tr><th>Name                                       </th><th>Best model                          </th><th>Current model                        </th></tr>\n",
       "</thead>\n",
       "<tbody>\n",
       "<tr><td>accuracy                                   </td><td>0.9288                              </td><td>0.9288                               </td></tr>\n",
       "<tr><td><span style=\"color:red\">val_accuracy</span></td><td><span style=\"color:red\">0.864</span></td><td><span style=\"color:red\">0.8306</span></td></tr>\n",
       "<tr><td>val_loss                                   </td><td>0.5758                              </td><td>1.4777                               </td></tr>\n",
       "<tr><td>loss                                       </td><td>0.4244                              </td><td>1.4223                               </td></tr>\n",
       "</tbody>\n",
       "</table>"
      ],
      "text/plain": [
       "<IPython.core.display.HTML object>"
      ]
     },
     "metadata": {},
     "output_type": "display_data"
    },
    {
     "data": {
      "text/html": [
       "<span style=\"color:#64DD17\"><span style=\"font-size:14px\"><b>3/10 trials left</b></span></span>"
      ],
      "text/plain": [
       "<IPython.core.display.HTML object>"
      ]
     },
     "metadata": {},
     "output_type": "display_data"
    },
    {
     "data": {
      "text/html": [
       "<span style=\"color:#4527A0\"><h1 style=\"font-size:18px\">New model</h1></span>"
      ],
      "text/plain": [
       "<IPython.core.display.HTML object>"
      ]
     },
     "metadata": {},
     "output_type": "display_data"
    },
    {
     "data": {
      "text/html": [
       "<span style=\"color:#4527A0\"><h1 style=\"font-size:18px\">Trial summary</h1></span>"
      ],
      "text/plain": [
       "<IPython.core.display.HTML object>"
      ]
     },
     "metadata": {},
     "output_type": "display_data"
    },
    {
     "data": {
      "text/html": [
       "<span style=\"color:#7E57C2\"><h2 style=\"font-size:16px\">Hp values:</h2></span>"
      ],
      "text/plain": [
       "<IPython.core.display.HTML object>"
      ]
     },
     "metadata": {},
     "output_type": "display_data"
    },
    {
     "data": {
      "text/html": [
       "<span style=\"color:cyan\"> |-learning_rate: 0.0001</span>"
      ],
      "text/plain": [
       "<IPython.core.display.HTML object>"
      ]
     },
     "metadata": {},
     "output_type": "display_data"
    },
    {
     "data": {
      "text/html": [
       "<span style=\"color:blue\"> |-rate: 0.5</span>"
      ],
      "text/plain": [
       "<IPython.core.display.HTML object>"
      ]
     },
     "metadata": {},
     "output_type": "display_data"
    },
    {
     "data": {
      "text/html": [
       "<span style=\"color:cyan\"> |-units: 256</span>"
      ],
      "text/plain": [
       "<IPython.core.display.HTML object>"
      ]
     },
     "metadata": {},
     "output_type": "display_data"
    },
    {
     "data": {
      "text/html": [
       "<span style=\"color:#7E57C2\"><h2 style=\"font-size:16px\">Execution 1/3</h2></span>"
      ],
      "text/plain": [
       "<IPython.core.display.HTML object>"
      ]
     },
     "metadata": {},
     "output_type": "display_data"
    },
    {
     "data": {
      "application/vnd.jupyter.widget-view+json": {
       "model_id": "4f4355de6fb44a159de67f4a463a3842",
       "version_major": 2,
       "version_minor": 0
      },
      "text/plain": [
       "HBox(children=(IntProgress(value=0, max=162), HTML(value='')))"
      ]
     },
     "metadata": {},
     "output_type": "display_data"
    },
    {
     "name": "stdout",
     "output_type": "stream",
     "text": [
      "\n"
     ]
    },
    {
     "data": {
      "application/vnd.jupyter.widget-view+json": {
       "model_id": "b0c28bcf26a44fdbb57b74bbdd40684f",
       "version_major": 2,
       "version_minor": 0
      },
      "text/plain": [
       "HBox(children=(IntProgress(value=0, max=162), HTML(value='')))"
      ]
     },
     "metadata": {},
     "output_type": "display_data"
    },
    {
     "name": "stdout",
     "output_type": "stream",
     "text": [
      "\n"
     ]
    },
    {
     "data": {
      "application/vnd.jupyter.widget-view+json": {
       "model_id": "0d4917966f734881a584bef8e2a41637",
       "version_major": 2,
       "version_minor": 0
      },
      "text/plain": [
       "HBox(children=(IntProgress(value=0, max=162), HTML(value='')))"
      ]
     },
     "metadata": {},
     "output_type": "display_data"
    },
    {
     "name": "stdout",
     "output_type": "stream",
     "text": [
      "\n"
     ]
    },
    {
     "data": {
      "application/vnd.jupyter.widget-view+json": {
       "model_id": "e636585f22e04a9cb2ea742c4148c9e2",
       "version_major": 2,
       "version_minor": 0
      },
      "text/plain": [
       "HBox(children=(IntProgress(value=0, max=162), HTML(value='')))"
      ]
     },
     "metadata": {},
     "output_type": "display_data"
    },
    {
     "name": "stdout",
     "output_type": "stream",
     "text": [
      "\n"
     ]
    },
    {
     "data": {
      "application/vnd.jupyter.widget-view+json": {
       "model_id": "f78ac66f4f37491099214954f8d8c4b8",
       "version_major": 2,
       "version_minor": 0
      },
      "text/plain": [
       "HBox(children=(IntProgress(value=0, max=162), HTML(value='')))"
      ]
     },
     "metadata": {},
     "output_type": "display_data"
    },
    {
     "name": "stdout",
     "output_type": "stream",
     "text": [
      "\n"
     ]
    },
    {
     "data": {
      "application/vnd.jupyter.widget-view+json": {
       "model_id": "527192c914614c8fae7e90df58af96d8",
       "version_major": 2,
       "version_minor": 0
      },
      "text/plain": [
       "HBox(children=(IntProgress(value=0, max=162), HTML(value='')))"
      ]
     },
     "metadata": {},
     "output_type": "display_data"
    },
    {
     "name": "stdout",
     "output_type": "stream",
     "text": [
      "\n"
     ]
    },
    {
     "data": {
      "application/vnd.jupyter.widget-view+json": {
       "model_id": "25e32ea8b5934d5085d45817bf0ae25b",
       "version_major": 2,
       "version_minor": 0
      },
      "text/plain": [
       "HBox(children=(IntProgress(value=0, max=162), HTML(value='')))"
      ]
     },
     "metadata": {},
     "output_type": "display_data"
    },
    {
     "name": "stdout",
     "output_type": "stream",
     "text": [
      "\n"
     ]
    },
    {
     "data": {
      "application/vnd.jupyter.widget-view+json": {
       "model_id": "9c8b1f3d9ff648e4a6063cd7300d721d",
       "version_major": 2,
       "version_minor": 0
      },
      "text/plain": [
       "HBox(children=(IntProgress(value=0, max=162), HTML(value='')))"
      ]
     },
     "metadata": {},
     "output_type": "display_data"
    },
    {
     "name": "stdout",
     "output_type": "stream",
     "text": [
      "\n"
     ]
    },
    {
     "data": {
      "application/vnd.jupyter.widget-view+json": {
       "model_id": "e9e1875d0e3b4307835078afb2c1e545",
       "version_major": 2,
       "version_minor": 0
      },
      "text/plain": [
       "HBox(children=(IntProgress(value=0, max=162), HTML(value='')))"
      ]
     },
     "metadata": {},
     "output_type": "display_data"
    },
    {
     "name": "stdout",
     "output_type": "stream",
     "text": [
      "\n"
     ]
    },
    {
     "data": {
      "application/vnd.jupyter.widget-view+json": {
       "model_id": "8a690d2c8d934dea85cbe431038c5d8a",
       "version_major": 2,
       "version_minor": 0
      },
      "text/plain": [
       "HBox(children=(IntProgress(value=0, max=162), HTML(value='')))"
      ]
     },
     "metadata": {},
     "output_type": "display_data"
    },
    {
     "name": "stdout",
     "output_type": "stream",
     "text": [
      "\n"
     ]
    },
    {
     "data": {
      "text/html": [
       "<span style=\"color:#7E57C2\"><h2 style=\"font-size:16px\">Execution 2/3</h2></span>"
      ],
      "text/plain": [
       "<IPython.core.display.HTML object>"
      ]
     },
     "metadata": {},
     "output_type": "display_data"
    },
    {
     "data": {
      "application/vnd.jupyter.widget-view+json": {
       "model_id": "5cfb71d21d074442b0b796b08cedb444",
       "version_major": 2,
       "version_minor": 0
      },
      "text/plain": [
       "HBox(children=(IntProgress(value=0, max=162), HTML(value='')))"
      ]
     },
     "metadata": {},
     "output_type": "display_data"
    },
    {
     "name": "stdout",
     "output_type": "stream",
     "text": [
      "\n"
     ]
    },
    {
     "data": {
      "application/vnd.jupyter.widget-view+json": {
       "model_id": "154351e1b14f46cc9104c22de9c8fad7",
       "version_major": 2,
       "version_minor": 0
      },
      "text/plain": [
       "HBox(children=(IntProgress(value=0, max=162), HTML(value='')))"
      ]
     },
     "metadata": {},
     "output_type": "display_data"
    },
    {
     "name": "stdout",
     "output_type": "stream",
     "text": [
      "\n"
     ]
    },
    {
     "data": {
      "application/vnd.jupyter.widget-view+json": {
       "model_id": "bc3695c1156640be9f37629bab959f56",
       "version_major": 2,
       "version_minor": 0
      },
      "text/plain": [
       "HBox(children=(IntProgress(value=0, max=162), HTML(value='')))"
      ]
     },
     "metadata": {},
     "output_type": "display_data"
    },
    {
     "name": "stdout",
     "output_type": "stream",
     "text": [
      "\n"
     ]
    },
    {
     "data": {
      "application/vnd.jupyter.widget-view+json": {
       "model_id": "52315f1497334928a3aac8d184fa16e7",
       "version_major": 2,
       "version_minor": 0
      },
      "text/plain": [
       "HBox(children=(IntProgress(value=0, max=162), HTML(value='')))"
      ]
     },
     "metadata": {},
     "output_type": "display_data"
    },
    {
     "name": "stdout",
     "output_type": "stream",
     "text": [
      "\n"
     ]
    },
    {
     "data": {
      "application/vnd.jupyter.widget-view+json": {
       "model_id": "72c808eab1234a40bf1a9cee5b071261",
       "version_major": 2,
       "version_minor": 0
      },
      "text/plain": [
       "HBox(children=(IntProgress(value=0, max=162), HTML(value='')))"
      ]
     },
     "metadata": {},
     "output_type": "display_data"
    },
    {
     "name": "stdout",
     "output_type": "stream",
     "text": [
      "\n"
     ]
    },
    {
     "data": {
      "application/vnd.jupyter.widget-view+json": {
       "model_id": "df0eed7fd5c64f7a96bfd776648bfa3b",
       "version_major": 2,
       "version_minor": 0
      },
      "text/plain": [
       "HBox(children=(IntProgress(value=0, max=162), HTML(value='')))"
      ]
     },
     "metadata": {},
     "output_type": "display_data"
    },
    {
     "name": "stdout",
     "output_type": "stream",
     "text": [
      "\n"
     ]
    },
    {
     "data": {
      "application/vnd.jupyter.widget-view+json": {
       "model_id": "ba6c887a9c044bdc8a146a9d385a925e",
       "version_major": 2,
       "version_minor": 0
      },
      "text/plain": [
       "HBox(children=(IntProgress(value=0, max=162), HTML(value='')))"
      ]
     },
     "metadata": {},
     "output_type": "display_data"
    },
    {
     "name": "stdout",
     "output_type": "stream",
     "text": [
      "\n"
     ]
    },
    {
     "data": {
      "application/vnd.jupyter.widget-view+json": {
       "model_id": "cea79d52fa14459483d6048032809964",
       "version_major": 2,
       "version_minor": 0
      },
      "text/plain": [
       "HBox(children=(IntProgress(value=0, max=162), HTML(value='')))"
      ]
     },
     "metadata": {},
     "output_type": "display_data"
    },
    {
     "name": "stderr",
     "output_type": "stream",
     "text": [
      "W0706 14:38:53.510124 140063488407296 callbacks.py:241] Method (on_train_batch_end) is slow compared to the batch update (0.118936). Check your callbacks.\n",
      "W0706 14:38:53.523058 140063488407296 callbacks.py:241] Method (on_train_batch_end) is slow compared to the batch update (0.118936). Check your callbacks.\n",
      "W0706 14:38:53.572865 140063488407296 callbacks.py:241] Method (on_train_batch_end) is slow compared to the batch update (0.118936). Check your callbacks.\n"
     ]
    },
    {
     "name": "stdout",
     "output_type": "stream",
     "text": [
      "\n"
     ]
    },
    {
     "data": {
      "application/vnd.jupyter.widget-view+json": {
       "model_id": "6bd500801ad64e659dce63765e411761",
       "version_major": 2,
       "version_minor": 0
      },
      "text/plain": [
       "HBox(children=(IntProgress(value=0, max=162), HTML(value='')))"
      ]
     },
     "metadata": {},
     "output_type": "display_data"
    },
    {
     "name": "stdout",
     "output_type": "stream",
     "text": [
      "\n"
     ]
    },
    {
     "data": {
      "application/vnd.jupyter.widget-view+json": {
       "model_id": "c7b4f366d519497bb5ae2ef925a6cf0b",
       "version_major": 2,
       "version_minor": 0
      },
      "text/plain": [
       "HBox(children=(IntProgress(value=0, max=162), HTML(value='')))"
      ]
     },
     "metadata": {},
     "output_type": "display_data"
    },
    {
     "name": "stdout",
     "output_type": "stream",
     "text": [
      "\n"
     ]
    },
    {
     "data": {
      "text/html": [
       "<span style=\"color:#7E57C2\"><h2 style=\"font-size:16px\">Execution 3/3</h2></span>"
      ],
      "text/plain": [
       "<IPython.core.display.HTML object>"
      ]
     },
     "metadata": {},
     "output_type": "display_data"
    },
    {
     "data": {
      "application/vnd.jupyter.widget-view+json": {
       "model_id": "45fae67e52174330b7d464293018864d",
       "version_major": 2,
       "version_minor": 0
      },
      "text/plain": [
       "HBox(children=(IntProgress(value=0, max=162), HTML(value='')))"
      ]
     },
     "metadata": {},
     "output_type": "display_data"
    },
    {
     "name": "stdout",
     "output_type": "stream",
     "text": [
      "\n"
     ]
    },
    {
     "data": {
      "application/vnd.jupyter.widget-view+json": {
       "model_id": "3455bd2c74b349edaf3ad205b73d5c12",
       "version_major": 2,
       "version_minor": 0
      },
      "text/plain": [
       "HBox(children=(IntProgress(value=0, max=162), HTML(value='')))"
      ]
     },
     "metadata": {},
     "output_type": "display_data"
    },
    {
     "name": "stdout",
     "output_type": "stream",
     "text": [
      "\n"
     ]
    },
    {
     "data": {
      "application/vnd.jupyter.widget-view+json": {
       "model_id": "1c87c3583d6140ebad82bde1ba1471ba",
       "version_major": 2,
       "version_minor": 0
      },
      "text/plain": [
       "HBox(children=(IntProgress(value=0, max=162), HTML(value='')))"
      ]
     },
     "metadata": {},
     "output_type": "display_data"
    },
    {
     "name": "stdout",
     "output_type": "stream",
     "text": [
      "\n"
     ]
    },
    {
     "data": {
      "application/vnd.jupyter.widget-view+json": {
       "model_id": "4f908a9072bb474cb965cdf77f5518dd",
       "version_major": 2,
       "version_minor": 0
      },
      "text/plain": [
       "HBox(children=(IntProgress(value=0, max=162), HTML(value='')))"
      ]
     },
     "metadata": {},
     "output_type": "display_data"
    },
    {
     "name": "stdout",
     "output_type": "stream",
     "text": [
      "\n"
     ]
    },
    {
     "data": {
      "application/vnd.jupyter.widget-view+json": {
       "model_id": "e64d9c75ed4f45ff99a94b967d97ca76",
       "version_major": 2,
       "version_minor": 0
      },
      "text/plain": [
       "HBox(children=(IntProgress(value=0, max=162), HTML(value='')))"
      ]
     },
     "metadata": {},
     "output_type": "display_data"
    },
    {
     "name": "stdout",
     "output_type": "stream",
     "text": [
      "\n"
     ]
    },
    {
     "data": {
      "application/vnd.jupyter.widget-view+json": {
       "model_id": "d48a4f556d5146a7bade39dbb638bf35",
       "version_major": 2,
       "version_minor": 0
      },
      "text/plain": [
       "HBox(children=(IntProgress(value=0, max=162), HTML(value='')))"
      ]
     },
     "metadata": {},
     "output_type": "display_data"
    },
    {
     "name": "stdout",
     "output_type": "stream",
     "text": [
      "\n"
     ]
    },
    {
     "data": {
      "application/vnd.jupyter.widget-view+json": {
       "model_id": "7607bc5ac9fc4ec785229d0903377a72",
       "version_major": 2,
       "version_minor": 0
      },
      "text/plain": [
       "HBox(children=(IntProgress(value=0, max=162), HTML(value='')))"
      ]
     },
     "metadata": {},
     "output_type": "display_data"
    },
    {
     "name": "stdout",
     "output_type": "stream",
     "text": [
      "\n"
     ]
    },
    {
     "data": {
      "application/vnd.jupyter.widget-view+json": {
       "model_id": "98ed0caf221244c283d399344c4d7417",
       "version_major": 2,
       "version_minor": 0
      },
      "text/plain": [
       "HBox(children=(IntProgress(value=0, max=162), HTML(value='')))"
      ]
     },
     "metadata": {},
     "output_type": "display_data"
    },
    {
     "name": "stdout",
     "output_type": "stream",
     "text": [
      "\n"
     ]
    },
    {
     "data": {
      "application/vnd.jupyter.widget-view+json": {
       "model_id": "c899eac57fa2439aaa6eb28526af3e87",
       "version_major": 2,
       "version_minor": 0
      },
      "text/plain": [
       "HBox(children=(IntProgress(value=0, max=162), HTML(value='')))"
      ]
     },
     "metadata": {},
     "output_type": "display_data"
    },
    {
     "name": "stdout",
     "output_type": "stream",
     "text": [
      "\n"
     ]
    },
    {
     "data": {
      "application/vnd.jupyter.widget-view+json": {
       "model_id": "d06aa1409bab45aba652f43a301b0b2b",
       "version_major": 2,
       "version_minor": 0
      },
      "text/plain": [
       "HBox(children=(IntProgress(value=0, max=162), HTML(value='')))"
      ]
     },
     "metadata": {},
     "output_type": "display_data"
    },
    {
     "name": "stdout",
     "output_type": "stream",
     "text": [
      "\n"
     ]
    },
    {
     "data": {
      "text/html": [
       "<table>\n",
       "<thead>\n",
       "<tr><th>Name                                       </th><th>Best model                          </th><th>Current model                        </th></tr>\n",
       "</thead>\n",
       "<tbody>\n",
       "<tr><td>accuracy                                   </td><td>0.9288                              </td><td>0.9255                               </td></tr>\n",
       "<tr><td><span style=\"color:red\">val_accuracy</span></td><td><span style=\"color:red\">0.864</span></td><td><span style=\"color:red\">0.8558</span></td></tr>\n",
       "<tr><td>val_loss                                   </td><td>0.5758                              </td><td>1.4848                               </td></tr>\n",
       "<tr><td>loss                                       </td><td>0.4244                              </td><td>1.4673                               </td></tr>\n",
       "</tbody>\n",
       "</table>"
      ],
      "text/plain": [
       "<IPython.core.display.HTML object>"
      ]
     },
     "metadata": {},
     "output_type": "display_data"
    },
    {
     "data": {
      "text/html": [
       "<span style=\"color:#64DD17\"><span style=\"font-size:14px\"><b>2/10 trials left</b></span></span>"
      ],
      "text/plain": [
       "<IPython.core.display.HTML object>"
      ]
     },
     "metadata": {},
     "output_type": "display_data"
    },
    {
     "data": {
      "text/html": [
       "<span style=\"color:#4527A0\"><h1 style=\"font-size:18px\">New model</h1></span>"
      ],
      "text/plain": [
       "<IPython.core.display.HTML object>"
      ]
     },
     "metadata": {},
     "output_type": "display_data"
    },
    {
     "data": {
      "text/html": [
       "<span style=\"color:#4527A0\"><h1 style=\"font-size:18px\">Trial summary</h1></span>"
      ],
      "text/plain": [
       "<IPython.core.display.HTML object>"
      ]
     },
     "metadata": {},
     "output_type": "display_data"
    },
    {
     "data": {
      "text/html": [
       "<span style=\"color:#7E57C2\"><h2 style=\"font-size:16px\">Hp values:</h2></span>"
      ],
      "text/plain": [
       "<IPython.core.display.HTML object>"
      ]
     },
     "metadata": {},
     "output_type": "display_data"
    },
    {
     "data": {
      "text/html": [
       "<span style=\"color:cyan\"> |-learning_rate: 0.0001</span>"
      ],
      "text/plain": [
       "<IPython.core.display.HTML object>"
      ]
     },
     "metadata": {},
     "output_type": "display_data"
    },
    {
     "data": {
      "text/html": [
       "<span style=\"color:blue\"> |-rate: 0.5</span>"
      ],
      "text/plain": [
       "<IPython.core.display.HTML object>"
      ]
     },
     "metadata": {},
     "output_type": "display_data"
    },
    {
     "data": {
      "text/html": [
       "<span style=\"color:cyan\"> |-units: 128</span>"
      ],
      "text/plain": [
       "<IPython.core.display.HTML object>"
      ]
     },
     "metadata": {},
     "output_type": "display_data"
    },
    {
     "data": {
      "text/html": [
       "<span style=\"color:#7E57C2\"><h2 style=\"font-size:16px\">Execution 1/3</h2></span>"
      ],
      "text/plain": [
       "<IPython.core.display.HTML object>"
      ]
     },
     "metadata": {},
     "output_type": "display_data"
    },
    {
     "data": {
      "application/vnd.jupyter.widget-view+json": {
       "model_id": "6345f1a016684f409f0be6815574972b",
       "version_major": 2,
       "version_minor": 0
      },
      "text/plain": [
       "HBox(children=(IntProgress(value=0, max=162), HTML(value='')))"
      ]
     },
     "metadata": {},
     "output_type": "display_data"
    },
    {
     "name": "stdout",
     "output_type": "stream",
     "text": [
      "\n"
     ]
    },
    {
     "data": {
      "application/vnd.jupyter.widget-view+json": {
       "model_id": "df01f1891d3243cf9b6c1ee086b8dbad",
       "version_major": 2,
       "version_minor": 0
      },
      "text/plain": [
       "HBox(children=(IntProgress(value=0, max=162), HTML(value='')))"
      ]
     },
     "metadata": {},
     "output_type": "display_data"
    },
    {
     "name": "stderr",
     "output_type": "stream",
     "text": [
      "W0706 14:39:19.847372 140063488407296 callbacks.py:241] Method (on_train_batch_end) is slow compared to the batch update (0.144399). Check your callbacks.\n",
      "W0706 14:39:20.037859 140063488407296 callbacks.py:241] Method (on_train_batch_end) is slow compared to the batch update (0.172147). Check your callbacks.\n",
      "W0706 14:39:20.153142 140063488407296 callbacks.py:241] Method (on_train_batch_end) is slow compared to the batch update (0.172147). Check your callbacks.\n",
      "W0706 14:39:20.189420 140063488407296 callbacks.py:241] Method (on_train_batch_end) is slow compared to the batch update (0.172147). Check your callbacks.\n",
      "W0706 14:39:20.217148 140063488407296 callbacks.py:241] Method (on_train_batch_end) is slow compared to the batch update (0.172147). Check your callbacks.\n",
      "W0706 14:39:20.235585 140063488407296 callbacks.py:241] Method (on_train_batch_end) is slow compared to the batch update (0.151532). Check your callbacks.\n",
      "W0706 14:39:20.247029 140063488407296 callbacks.py:241] Method (on_train_batch_end) is slow compared to the batch update (0.142039). Check your callbacks.\n"
     ]
    },
    {
     "name": "stdout",
     "output_type": "stream",
     "text": [
      "\n"
     ]
    },
    {
     "data": {
      "application/vnd.jupyter.widget-view+json": {
       "model_id": "1d1912844d7f45e09f0c38e1a0bf7596",
       "version_major": 2,
       "version_minor": 0
      },
      "text/plain": [
       "HBox(children=(IntProgress(value=0, max=162), HTML(value='')))"
      ]
     },
     "metadata": {},
     "output_type": "display_data"
    },
    {
     "name": "stdout",
     "output_type": "stream",
     "text": [
      "\n"
     ]
    },
    {
     "data": {
      "application/vnd.jupyter.widget-view+json": {
       "model_id": "b7ff90b3689443a09dd6b60e4aa71f2f",
       "version_major": 2,
       "version_minor": 0
      },
      "text/plain": [
       "HBox(children=(IntProgress(value=0, max=162), HTML(value='')))"
      ]
     },
     "metadata": {},
     "output_type": "display_data"
    },
    {
     "name": "stdout",
     "output_type": "stream",
     "text": [
      "\n"
     ]
    },
    {
     "data": {
      "application/vnd.jupyter.widget-view+json": {
       "model_id": "6f9fc30c0f5a4804ae1652711a23ff12",
       "version_major": 2,
       "version_minor": 0
      },
      "text/plain": [
       "HBox(children=(IntProgress(value=0, max=162), HTML(value='')))"
      ]
     },
     "metadata": {},
     "output_type": "display_data"
    },
    {
     "name": "stdout",
     "output_type": "stream",
     "text": [
      "\n"
     ]
    },
    {
     "data": {
      "application/vnd.jupyter.widget-view+json": {
       "model_id": "066de2aff12944e3a606866a7b21c271",
       "version_major": 2,
       "version_minor": 0
      },
      "text/plain": [
       "HBox(children=(IntProgress(value=0, max=162), HTML(value='')))"
      ]
     },
     "metadata": {},
     "output_type": "display_data"
    },
    {
     "name": "stdout",
     "output_type": "stream",
     "text": [
      "\n"
     ]
    },
    {
     "data": {
      "application/vnd.jupyter.widget-view+json": {
       "model_id": "7241ff4af3f84d51bf4aac399461b46f",
       "version_major": 2,
       "version_minor": 0
      },
      "text/plain": [
       "HBox(children=(IntProgress(value=0, max=162), HTML(value='')))"
      ]
     },
     "metadata": {},
     "output_type": "display_data"
    },
    {
     "name": "stdout",
     "output_type": "stream",
     "text": [
      "\n"
     ]
    },
    {
     "data": {
      "application/vnd.jupyter.widget-view+json": {
       "model_id": "e4c3f2068efd408c871e4154f47e8e71",
       "version_major": 2,
       "version_minor": 0
      },
      "text/plain": [
       "HBox(children=(IntProgress(value=0, max=162), HTML(value='')))"
      ]
     },
     "metadata": {},
     "output_type": "display_data"
    },
    {
     "name": "stdout",
     "output_type": "stream",
     "text": [
      "\n"
     ]
    },
    {
     "data": {
      "application/vnd.jupyter.widget-view+json": {
       "model_id": "2017e671ca0d472685e3c2842eaf2524",
       "version_major": 2,
       "version_minor": 0
      },
      "text/plain": [
       "HBox(children=(IntProgress(value=0, max=162), HTML(value='')))"
      ]
     },
     "metadata": {},
     "output_type": "display_data"
    },
    {
     "name": "stdout",
     "output_type": "stream",
     "text": [
      "\n"
     ]
    },
    {
     "data": {
      "application/vnd.jupyter.widget-view+json": {
       "model_id": "b3b4e3f68e9b4eb18ad56b627afbb5f2",
       "version_major": 2,
       "version_minor": 0
      },
      "text/plain": [
       "HBox(children=(IntProgress(value=0, max=162), HTML(value='')))"
      ]
     },
     "metadata": {},
     "output_type": "display_data"
    },
    {
     "name": "stdout",
     "output_type": "stream",
     "text": [
      "\n"
     ]
    },
    {
     "data": {
      "text/html": [
       "<span style=\"color:#7E57C2\"><h2 style=\"font-size:16px\">Execution 2/3</h2></span>"
      ],
      "text/plain": [
       "<IPython.core.display.HTML object>"
      ]
     },
     "metadata": {},
     "output_type": "display_data"
    },
    {
     "data": {
      "application/vnd.jupyter.widget-view+json": {
       "model_id": "316e2af798584e9fa82c9a97b13eeb66",
       "version_major": 2,
       "version_minor": 0
      },
      "text/plain": [
       "HBox(children=(IntProgress(value=0, max=162), HTML(value='')))"
      ]
     },
     "metadata": {},
     "output_type": "display_data"
    },
    {
     "name": "stdout",
     "output_type": "stream",
     "text": [
      "\n"
     ]
    },
    {
     "data": {
      "application/vnd.jupyter.widget-view+json": {
       "model_id": "99c06a7ad1c9415abd2ef2d406ef9e1d",
       "version_major": 2,
       "version_minor": 0
      },
      "text/plain": [
       "HBox(children=(IntProgress(value=0, max=162), HTML(value='')))"
      ]
     },
     "metadata": {},
     "output_type": "display_data"
    },
    {
     "name": "stdout",
     "output_type": "stream",
     "text": [
      "\n"
     ]
    },
    {
     "data": {
      "application/vnd.jupyter.widget-view+json": {
       "model_id": "8c62a1e39c7b4a7e98e34ff3916adc70",
       "version_major": 2,
       "version_minor": 0
      },
      "text/plain": [
       "HBox(children=(IntProgress(value=0, max=162), HTML(value='')))"
      ]
     },
     "metadata": {},
     "output_type": "display_data"
    },
    {
     "name": "stdout",
     "output_type": "stream",
     "text": [
      "\n"
     ]
    },
    {
     "data": {
      "application/vnd.jupyter.widget-view+json": {
       "model_id": "2e1c8f7d58584717bd1058aaf788a75b",
       "version_major": 2,
       "version_minor": 0
      },
      "text/plain": [
       "HBox(children=(IntProgress(value=0, max=162), HTML(value='')))"
      ]
     },
     "metadata": {},
     "output_type": "display_data"
    },
    {
     "name": "stdout",
     "output_type": "stream",
     "text": [
      "\n"
     ]
    },
    {
     "data": {
      "application/vnd.jupyter.widget-view+json": {
       "model_id": "bccf35838584485697139b893621fc5e",
       "version_major": 2,
       "version_minor": 0
      },
      "text/plain": [
       "HBox(children=(IntProgress(value=0, max=162), HTML(value='')))"
      ]
     },
     "metadata": {},
     "output_type": "display_data"
    },
    {
     "name": "stdout",
     "output_type": "stream",
     "text": [
      "\n"
     ]
    },
    {
     "data": {
      "application/vnd.jupyter.widget-view+json": {
       "model_id": "d5373ed3a6ef4ac197920167f79cd227",
       "version_major": 2,
       "version_minor": 0
      },
      "text/plain": [
       "HBox(children=(IntProgress(value=0, max=162), HTML(value='')))"
      ]
     },
     "metadata": {},
     "output_type": "display_data"
    },
    {
     "name": "stdout",
     "output_type": "stream",
     "text": [
      "\n"
     ]
    },
    {
     "data": {
      "application/vnd.jupyter.widget-view+json": {
       "model_id": "80ea38ec23e5409384099caaf1f9f580",
       "version_major": 2,
       "version_minor": 0
      },
      "text/plain": [
       "HBox(children=(IntProgress(value=0, max=162), HTML(value='')))"
      ]
     },
     "metadata": {},
     "output_type": "display_data"
    },
    {
     "name": "stdout",
     "output_type": "stream",
     "text": [
      "\n"
     ]
    },
    {
     "data": {
      "application/vnd.jupyter.widget-view+json": {
       "model_id": "e35bd178a2d548f6abbdfc1fc93510ab",
       "version_major": 2,
       "version_minor": 0
      },
      "text/plain": [
       "HBox(children=(IntProgress(value=0, max=162), HTML(value='')))"
      ]
     },
     "metadata": {},
     "output_type": "display_data"
    },
    {
     "name": "stdout",
     "output_type": "stream",
     "text": [
      "\n"
     ]
    },
    {
     "data": {
      "application/vnd.jupyter.widget-view+json": {
       "model_id": "1c1c0d28d4e64da8b9ec9a555e3c2eef",
       "version_major": 2,
       "version_minor": 0
      },
      "text/plain": [
       "HBox(children=(IntProgress(value=0, max=162), HTML(value='')))"
      ]
     },
     "metadata": {},
     "output_type": "display_data"
    },
    {
     "name": "stdout",
     "output_type": "stream",
     "text": [
      "\n"
     ]
    },
    {
     "data": {
      "application/vnd.jupyter.widget-view+json": {
       "model_id": "312fc56ea2204ad7b40223ad2c635f31",
       "version_major": 2,
       "version_minor": 0
      },
      "text/plain": [
       "HBox(children=(IntProgress(value=0, max=162), HTML(value='')))"
      ]
     },
     "metadata": {},
     "output_type": "display_data"
    },
    {
     "name": "stdout",
     "output_type": "stream",
     "text": [
      "\n"
     ]
    },
    {
     "data": {
      "text/html": [
       "<span style=\"color:#7E57C2\"><h2 style=\"font-size:16px\">Execution 3/3</h2></span>"
      ],
      "text/plain": [
       "<IPython.core.display.HTML object>"
      ]
     },
     "metadata": {},
     "output_type": "display_data"
    },
    {
     "data": {
      "application/vnd.jupyter.widget-view+json": {
       "model_id": "f6e0d2b9e88345ce93a91db20128e782",
       "version_major": 2,
       "version_minor": 0
      },
      "text/plain": [
       "HBox(children=(IntProgress(value=0, max=162), HTML(value='')))"
      ]
     },
     "metadata": {},
     "output_type": "display_data"
    },
    {
     "name": "stdout",
     "output_type": "stream",
     "text": [
      "\n"
     ]
    },
    {
     "data": {
      "application/vnd.jupyter.widget-view+json": {
       "model_id": "57baf48759de45a8ad298c8a5cdd4cf7",
       "version_major": 2,
       "version_minor": 0
      },
      "text/plain": [
       "HBox(children=(IntProgress(value=0, max=162), HTML(value='')))"
      ]
     },
     "metadata": {},
     "output_type": "display_data"
    },
    {
     "name": "stdout",
     "output_type": "stream",
     "text": [
      "\n"
     ]
    },
    {
     "data": {
      "application/vnd.jupyter.widget-view+json": {
       "model_id": "c10e5a2e73ff4faa8bf817e5cfb31f3d",
       "version_major": 2,
       "version_minor": 0
      },
      "text/plain": [
       "HBox(children=(IntProgress(value=0, max=162), HTML(value='')))"
      ]
     },
     "metadata": {},
     "output_type": "display_data"
    },
    {
     "name": "stdout",
     "output_type": "stream",
     "text": [
      "\n"
     ]
    },
    {
     "data": {
      "application/vnd.jupyter.widget-view+json": {
       "model_id": "1d3e2528f2684fe2b9f44a5116146cce",
       "version_major": 2,
       "version_minor": 0
      },
      "text/plain": [
       "HBox(children=(IntProgress(value=0, max=162), HTML(value='')))"
      ]
     },
     "metadata": {},
     "output_type": "display_data"
    },
    {
     "name": "stdout",
     "output_type": "stream",
     "text": [
      "\n"
     ]
    },
    {
     "data": {
      "application/vnd.jupyter.widget-view+json": {
       "model_id": "24e406922bb94e4f9cfa1177523e2c27",
       "version_major": 2,
       "version_minor": 0
      },
      "text/plain": [
       "HBox(children=(IntProgress(value=0, max=162), HTML(value='')))"
      ]
     },
     "metadata": {},
     "output_type": "display_data"
    },
    {
     "name": "stdout",
     "output_type": "stream",
     "text": [
      "\n"
     ]
    },
    {
     "data": {
      "application/vnd.jupyter.widget-view+json": {
       "model_id": "32bda2984ff541e88fcbd753d66c968a",
       "version_major": 2,
       "version_minor": 0
      },
      "text/plain": [
       "HBox(children=(IntProgress(value=0, max=162), HTML(value='')))"
      ]
     },
     "metadata": {},
     "output_type": "display_data"
    },
    {
     "name": "stdout",
     "output_type": "stream",
     "text": [
      "\n"
     ]
    },
    {
     "data": {
      "application/vnd.jupyter.widget-view+json": {
       "model_id": "c81fc9cd336d40cfa4c087ddf322bb40",
       "version_major": 2,
       "version_minor": 0
      },
      "text/plain": [
       "HBox(children=(IntProgress(value=0, max=162), HTML(value='')))"
      ]
     },
     "metadata": {},
     "output_type": "display_data"
    },
    {
     "name": "stdout",
     "output_type": "stream",
     "text": [
      "\n"
     ]
    },
    {
     "data": {
      "application/vnd.jupyter.widget-view+json": {
       "model_id": "6c90a7dc2bc64baba66c72b4194c1b93",
       "version_major": 2,
       "version_minor": 0
      },
      "text/plain": [
       "HBox(children=(IntProgress(value=0, max=162), HTML(value='')))"
      ]
     },
     "metadata": {},
     "output_type": "display_data"
    },
    {
     "name": "stdout",
     "output_type": "stream",
     "text": [
      "\n"
     ]
    },
    {
     "data": {
      "application/vnd.jupyter.widget-view+json": {
       "model_id": "3ffc4a951c19476ebf25b13824fb0ccc",
       "version_major": 2,
       "version_minor": 0
      },
      "text/plain": [
       "HBox(children=(IntProgress(value=0, max=162), HTML(value='')))"
      ]
     },
     "metadata": {},
     "output_type": "display_data"
    },
    {
     "name": "stdout",
     "output_type": "stream",
     "text": [
      "\n"
     ]
    },
    {
     "data": {
      "application/vnd.jupyter.widget-view+json": {
       "model_id": "ad5fbc3e5ccb42ddb7985b4c48a7ed30",
       "version_major": 2,
       "version_minor": 0
      },
      "text/plain": [
       "HBox(children=(IntProgress(value=0, max=162), HTML(value='')))"
      ]
     },
     "metadata": {},
     "output_type": "display_data"
    },
    {
     "name": "stdout",
     "output_type": "stream",
     "text": [
      "\n"
     ]
    },
    {
     "data": {
      "text/html": [
       "<table>\n",
       "<thead>\n",
       "<tr><th>Name                                       </th><th>Best model                          </th><th>Current model                        </th></tr>\n",
       "</thead>\n",
       "<tbody>\n",
       "<tr><td>accuracy                                   </td><td>0.9288                              </td><td>0.9208                               </td></tr>\n",
       "<tr><td><span style=\"color:red\">val_accuracy</span></td><td><span style=\"color:red\">0.864</span></td><td><span style=\"color:red\">0.8251</span></td></tr>\n",
       "<tr><td>val_loss                                   </td><td>0.5758                              </td><td>1.6134                               </td></tr>\n",
       "<tr><td>loss                                       </td><td>0.4244                              </td><td>1.572                                </td></tr>\n",
       "</tbody>\n",
       "</table>"
      ],
      "text/plain": [
       "<IPython.core.display.HTML object>"
      ]
     },
     "metadata": {},
     "output_type": "display_data"
    },
    {
     "data": {
      "text/html": [
       "<span style=\"color:#64DD17\"><span style=\"font-size:14px\"><b>1/10 trials left</b></span></span>"
      ],
      "text/plain": [
       "<IPython.core.display.HTML object>"
      ]
     },
     "metadata": {},
     "output_type": "display_data"
    },
    {
     "data": {
      "text/html": [
       "<span style=\"color:#4527A0\"><h1 style=\"font-size:18px\">New model</h1></span>"
      ],
      "text/plain": [
       "<IPython.core.display.HTML object>"
      ]
     },
     "metadata": {},
     "output_type": "display_data"
    },
    {
     "data": {
      "text/html": [
       "<span style=\"color:#4527A0\"><h1 style=\"font-size:18px\">Trial summary</h1></span>"
      ],
      "text/plain": [
       "<IPython.core.display.HTML object>"
      ]
     },
     "metadata": {},
     "output_type": "display_data"
    },
    {
     "data": {
      "text/html": [
       "<span style=\"color:#7E57C2\"><h2 style=\"font-size:16px\">Hp values:</h2></span>"
      ],
      "text/plain": [
       "<IPython.core.display.HTML object>"
      ]
     },
     "metadata": {},
     "output_type": "display_data"
    },
    {
     "data": {
      "text/html": [
       "<span style=\"color:cyan\"> |-learning_rate: 0.0004</span>"
      ],
      "text/plain": [
       "<IPython.core.display.HTML object>"
      ]
     },
     "metadata": {},
     "output_type": "display_data"
    },
    {
     "data": {
      "text/html": [
       "<span style=\"color:blue\"> |-rate: 0.2</span>"
      ],
      "text/plain": [
       "<IPython.core.display.HTML object>"
      ]
     },
     "metadata": {},
     "output_type": "display_data"
    },
    {
     "data": {
      "text/html": [
       "<span style=\"color:cyan\"> |-units: 128</span>"
      ],
      "text/plain": [
       "<IPython.core.display.HTML object>"
      ]
     },
     "metadata": {},
     "output_type": "display_data"
    },
    {
     "data": {
      "text/html": [
       "<span style=\"color:#7E57C2\"><h2 style=\"font-size:16px\">Execution 1/3</h2></span>"
      ],
      "text/plain": [
       "<IPython.core.display.HTML object>"
      ]
     },
     "metadata": {},
     "output_type": "display_data"
    },
    {
     "data": {
      "application/vnd.jupyter.widget-view+json": {
       "model_id": "42ba85f10bc846a3874ca51bfacf4e35",
       "version_major": 2,
       "version_minor": 0
      },
      "text/plain": [
       "HBox(children=(IntProgress(value=0, max=162), HTML(value='')))"
      ]
     },
     "metadata": {},
     "output_type": "display_data"
    },
    {
     "name": "stdout",
     "output_type": "stream",
     "text": [
      "\n"
     ]
    },
    {
     "data": {
      "application/vnd.jupyter.widget-view+json": {
       "model_id": "8f460805f35d4927b538adfce0779b89",
       "version_major": 2,
       "version_minor": 0
      },
      "text/plain": [
       "HBox(children=(IntProgress(value=0, max=162), HTML(value='')))"
      ]
     },
     "metadata": {},
     "output_type": "display_data"
    },
    {
     "name": "stdout",
     "output_type": "stream",
     "text": [
      "\n"
     ]
    },
    {
     "data": {
      "application/vnd.jupyter.widget-view+json": {
       "model_id": "4d789690554b4db58cbe031bbc246cd4",
       "version_major": 2,
       "version_minor": 0
      },
      "text/plain": [
       "HBox(children=(IntProgress(value=0, max=162), HTML(value='')))"
      ]
     },
     "metadata": {},
     "output_type": "display_data"
    },
    {
     "name": "stdout",
     "output_type": "stream",
     "text": [
      "\n"
     ]
    },
    {
     "data": {
      "application/vnd.jupyter.widget-view+json": {
       "model_id": "060e7178ca044be48d00e4c820431d17",
       "version_major": 2,
       "version_minor": 0
      },
      "text/plain": [
       "HBox(children=(IntProgress(value=0, max=162), HTML(value='')))"
      ]
     },
     "metadata": {},
     "output_type": "display_data"
    },
    {
     "name": "stdout",
     "output_type": "stream",
     "text": [
      "\n"
     ]
    },
    {
     "data": {
      "application/vnd.jupyter.widget-view+json": {
       "model_id": "a8aeafdd142d4a68905e660fd00b4789",
       "version_major": 2,
       "version_minor": 0
      },
      "text/plain": [
       "HBox(children=(IntProgress(value=0, max=162), HTML(value='')))"
      ]
     },
     "metadata": {},
     "output_type": "display_data"
    },
    {
     "name": "stdout",
     "output_type": "stream",
     "text": [
      "\n"
     ]
    },
    {
     "data": {
      "application/vnd.jupyter.widget-view+json": {
       "model_id": "c7e9e920618c4ea6a83d70939124d18c",
       "version_major": 2,
       "version_minor": 0
      },
      "text/plain": [
       "HBox(children=(IntProgress(value=0, max=162), HTML(value='')))"
      ]
     },
     "metadata": {},
     "output_type": "display_data"
    },
    {
     "name": "stdout",
     "output_type": "stream",
     "text": [
      "\n"
     ]
    },
    {
     "data": {
      "application/vnd.jupyter.widget-view+json": {
       "model_id": "be3aa54c465e4dc6906a34dbcb1bab3d",
       "version_major": 2,
       "version_minor": 0
      },
      "text/plain": [
       "HBox(children=(IntProgress(value=0, max=162), HTML(value='')))"
      ]
     },
     "metadata": {},
     "output_type": "display_data"
    },
    {
     "name": "stdout",
     "output_type": "stream",
     "text": [
      "\n"
     ]
    },
    {
     "data": {
      "application/vnd.jupyter.widget-view+json": {
       "model_id": "42ee2a989a7c47548f78ebd6225d076d",
       "version_major": 2,
       "version_minor": 0
      },
      "text/plain": [
       "HBox(children=(IntProgress(value=0, max=162), HTML(value='')))"
      ]
     },
     "metadata": {},
     "output_type": "display_data"
    },
    {
     "name": "stdout",
     "output_type": "stream",
     "text": [
      "\n"
     ]
    },
    {
     "data": {
      "application/vnd.jupyter.widget-view+json": {
       "model_id": "2db24687befe4cb4be2cff8024fa5837",
       "version_major": 2,
       "version_minor": 0
      },
      "text/plain": [
       "HBox(children=(IntProgress(value=0, max=162), HTML(value='')))"
      ]
     },
     "metadata": {},
     "output_type": "display_data"
    },
    {
     "name": "stdout",
     "output_type": "stream",
     "text": [
      "\n"
     ]
    },
    {
     "data": {
      "application/vnd.jupyter.widget-view+json": {
       "model_id": "2f475d5d028048e2b1607c63f7406ef6",
       "version_major": 2,
       "version_minor": 0
      },
      "text/plain": [
       "HBox(children=(IntProgress(value=0, max=162), HTML(value='')))"
      ]
     },
     "metadata": {},
     "output_type": "display_data"
    },
    {
     "name": "stdout",
     "output_type": "stream",
     "text": [
      "\n"
     ]
    },
    {
     "data": {
      "text/html": [
       "<span style=\"color:#7E57C2\"><h2 style=\"font-size:16px\">Execution 2/3</h2></span>"
      ],
      "text/plain": [
       "<IPython.core.display.HTML object>"
      ]
     },
     "metadata": {},
     "output_type": "display_data"
    },
    {
     "data": {
      "application/vnd.jupyter.widget-view+json": {
       "model_id": "019320d337fc4f9f84ba469357086d6e",
       "version_major": 2,
       "version_minor": 0
      },
      "text/plain": [
       "HBox(children=(IntProgress(value=0, max=162), HTML(value='')))"
      ]
     },
     "metadata": {},
     "output_type": "display_data"
    },
    {
     "name": "stdout",
     "output_type": "stream",
     "text": [
      "\n"
     ]
    },
    {
     "data": {
      "application/vnd.jupyter.widget-view+json": {
       "model_id": "4fec7aa7291e469aa0e16cbf5c5a43d2",
       "version_major": 2,
       "version_minor": 0
      },
      "text/plain": [
       "HBox(children=(IntProgress(value=0, max=162), HTML(value='')))"
      ]
     },
     "metadata": {},
     "output_type": "display_data"
    },
    {
     "name": "stdout",
     "output_type": "stream",
     "text": [
      "\n"
     ]
    },
    {
     "data": {
      "application/vnd.jupyter.widget-view+json": {
       "model_id": "ea5ae99d2bce44ea88febb43ff019e0c",
       "version_major": 2,
       "version_minor": 0
      },
      "text/plain": [
       "HBox(children=(IntProgress(value=0, max=162), HTML(value='')))"
      ]
     },
     "metadata": {},
     "output_type": "display_data"
    },
    {
     "name": "stdout",
     "output_type": "stream",
     "text": [
      "\n"
     ]
    },
    {
     "data": {
      "application/vnd.jupyter.widget-view+json": {
       "model_id": "fae7e3ac55b04a20ab8b7fc4de881ceb",
       "version_major": 2,
       "version_minor": 0
      },
      "text/plain": [
       "HBox(children=(IntProgress(value=0, max=162), HTML(value='')))"
      ]
     },
     "metadata": {},
     "output_type": "display_data"
    },
    {
     "name": "stdout",
     "output_type": "stream",
     "text": [
      "\n"
     ]
    },
    {
     "data": {
      "application/vnd.jupyter.widget-view+json": {
       "model_id": "742eded385f842b2910785ea89db4fcf",
       "version_major": 2,
       "version_minor": 0
      },
      "text/plain": [
       "HBox(children=(IntProgress(value=0, max=162), HTML(value='')))"
      ]
     },
     "metadata": {},
     "output_type": "display_data"
    },
    {
     "name": "stdout",
     "output_type": "stream",
     "text": [
      "\n"
     ]
    },
    {
     "data": {
      "application/vnd.jupyter.widget-view+json": {
       "model_id": "fd3bdeca2c6f485eb32a5d38308b597a",
       "version_major": 2,
       "version_minor": 0
      },
      "text/plain": [
       "HBox(children=(IntProgress(value=0, max=162), HTML(value='')))"
      ]
     },
     "metadata": {},
     "output_type": "display_data"
    },
    {
     "name": "stdout",
     "output_type": "stream",
     "text": [
      "\n"
     ]
    },
    {
     "data": {
      "application/vnd.jupyter.widget-view+json": {
       "model_id": "55403629b83e406a88a17ed275df61f8",
       "version_major": 2,
       "version_minor": 0
      },
      "text/plain": [
       "HBox(children=(IntProgress(value=0, max=162), HTML(value='')))"
      ]
     },
     "metadata": {},
     "output_type": "display_data"
    },
    {
     "name": "stdout",
     "output_type": "stream",
     "text": [
      "\n"
     ]
    },
    {
     "data": {
      "application/vnd.jupyter.widget-view+json": {
       "model_id": "19185f000fa44a14bd1e6c1a91f18479",
       "version_major": 2,
       "version_minor": 0
      },
      "text/plain": [
       "HBox(children=(IntProgress(value=0, max=162), HTML(value='')))"
      ]
     },
     "metadata": {},
     "output_type": "display_data"
    },
    {
     "name": "stdout",
     "output_type": "stream",
     "text": [
      "\n"
     ]
    },
    {
     "data": {
      "application/vnd.jupyter.widget-view+json": {
       "model_id": "396b426bd92d4f62bf5a49a97876da41",
       "version_major": 2,
       "version_minor": 0
      },
      "text/plain": [
       "HBox(children=(IntProgress(value=0, max=162), HTML(value='')))"
      ]
     },
     "metadata": {},
     "output_type": "display_data"
    },
    {
     "name": "stdout",
     "output_type": "stream",
     "text": [
      "\n"
     ]
    },
    {
     "data": {
      "application/vnd.jupyter.widget-view+json": {
       "model_id": "a9f9a0312994488ba7514f79ccffa0bd",
       "version_major": 2,
       "version_minor": 0
      },
      "text/plain": [
       "HBox(children=(IntProgress(value=0, max=162), HTML(value='')))"
      ]
     },
     "metadata": {},
     "output_type": "display_data"
    },
    {
     "name": "stdout",
     "output_type": "stream",
     "text": [
      "\n"
     ]
    },
    {
     "data": {
      "text/html": [
       "<span style=\"color:#7E57C2\"><h2 style=\"font-size:16px\">Execution 3/3</h2></span>"
      ],
      "text/plain": [
       "<IPython.core.display.HTML object>"
      ]
     },
     "metadata": {},
     "output_type": "display_data"
    },
    {
     "data": {
      "application/vnd.jupyter.widget-view+json": {
       "model_id": "a05b3ccd37334478a52254da4ef6f4f6",
       "version_major": 2,
       "version_minor": 0
      },
      "text/plain": [
       "HBox(children=(IntProgress(value=0, max=162), HTML(value='')))"
      ]
     },
     "metadata": {},
     "output_type": "display_data"
    },
    {
     "name": "stdout",
     "output_type": "stream",
     "text": [
      "\n"
     ]
    },
    {
     "data": {
      "application/vnd.jupyter.widget-view+json": {
       "model_id": "47479768889d42b092330c3ab2525a85",
       "version_major": 2,
       "version_minor": 0
      },
      "text/plain": [
       "HBox(children=(IntProgress(value=0, max=162), HTML(value='')))"
      ]
     },
     "metadata": {},
     "output_type": "display_data"
    },
    {
     "name": "stdout",
     "output_type": "stream",
     "text": [
      "\n"
     ]
    },
    {
     "data": {
      "application/vnd.jupyter.widget-view+json": {
       "model_id": "90c5fa3906af47dc81d1f4472c6aac0b",
       "version_major": 2,
       "version_minor": 0
      },
      "text/plain": [
       "HBox(children=(IntProgress(value=0, max=162), HTML(value='')))"
      ]
     },
     "metadata": {},
     "output_type": "display_data"
    },
    {
     "name": "stdout",
     "output_type": "stream",
     "text": [
      "\n"
     ]
    },
    {
     "data": {
      "application/vnd.jupyter.widget-view+json": {
       "model_id": "053a5668a404454fbc65dc041c62262d",
       "version_major": 2,
       "version_minor": 0
      },
      "text/plain": [
       "HBox(children=(IntProgress(value=0, max=162), HTML(value='')))"
      ]
     },
     "metadata": {},
     "output_type": "display_data"
    },
    {
     "name": "stdout",
     "output_type": "stream",
     "text": [
      "\n"
     ]
    },
    {
     "data": {
      "application/vnd.jupyter.widget-view+json": {
       "model_id": "4141c5b2ed064faabca9696547c5186d",
       "version_major": 2,
       "version_minor": 0
      },
      "text/plain": [
       "HBox(children=(IntProgress(value=0, max=162), HTML(value='')))"
      ]
     },
     "metadata": {},
     "output_type": "display_data"
    },
    {
     "name": "stdout",
     "output_type": "stream",
     "text": [
      "\n"
     ]
    },
    {
     "data": {
      "application/vnd.jupyter.widget-view+json": {
       "model_id": "559c13d55a8f4ca99bd928fdbb5e9925",
       "version_major": 2,
       "version_minor": 0
      },
      "text/plain": [
       "HBox(children=(IntProgress(value=0, max=162), HTML(value='')))"
      ]
     },
     "metadata": {},
     "output_type": "display_data"
    },
    {
     "name": "stdout",
     "output_type": "stream",
     "text": [
      "\n"
     ]
    },
    {
     "data": {
      "application/vnd.jupyter.widget-view+json": {
       "model_id": "2a54cd82aa6b4e619aa127a00f211fe8",
       "version_major": 2,
       "version_minor": 0
      },
      "text/plain": [
       "HBox(children=(IntProgress(value=0, max=162), HTML(value='')))"
      ]
     },
     "metadata": {},
     "output_type": "display_data"
    },
    {
     "name": "stdout",
     "output_type": "stream",
     "text": [
      "\n"
     ]
    },
    {
     "data": {
      "application/vnd.jupyter.widget-view+json": {
       "model_id": "5594a9f50c9b470098462199e292e144",
       "version_major": 2,
       "version_minor": 0
      },
      "text/plain": [
       "HBox(children=(IntProgress(value=0, max=162), HTML(value='')))"
      ]
     },
     "metadata": {},
     "output_type": "display_data"
    },
    {
     "name": "stdout",
     "output_type": "stream",
     "text": [
      "\n"
     ]
    },
    {
     "data": {
      "application/vnd.jupyter.widget-view+json": {
       "model_id": "5620f3a33c764f6db8944a36c3ea3180",
       "version_major": 2,
       "version_minor": 0
      },
      "text/plain": [
       "HBox(children=(IntProgress(value=0, max=162), HTML(value='')))"
      ]
     },
     "metadata": {},
     "output_type": "display_data"
    },
    {
     "name": "stdout",
     "output_type": "stream",
     "text": [
      "\n"
     ]
    },
    {
     "data": {
      "application/vnd.jupyter.widget-view+json": {
       "model_id": "ff9465784262426da21495c4a72e14ec",
       "version_major": 2,
       "version_minor": 0
      },
      "text/plain": [
       "HBox(children=(IntProgress(value=0, max=162), HTML(value='')))"
      ]
     },
     "metadata": {},
     "output_type": "display_data"
    },
    {
     "name": "stdout",
     "output_type": "stream",
     "text": [
      "\n"
     ]
    },
    {
     "data": {
      "text/html": [
       "<table>\n",
       "<thead>\n",
       "<tr><th>Name                                       </th><th>Best model                          </th><th>Current model                        </th></tr>\n",
       "</thead>\n",
       "<tbody>\n",
       "<tr><td>accuracy                                   </td><td>0.9288                              </td><td>0.9231                               </td></tr>\n",
       "<tr><td><span style=\"color:red\">val_accuracy</span></td><td><span style=\"color:red\">0.864</span></td><td><span style=\"color:red\">0.8372</span></td></tr>\n",
       "<tr><td>val_loss                                   </td><td>0.5758                              </td><td>0.6113                               </td></tr>\n",
       "<tr><td>loss                                       </td><td>0.3934                              </td><td>0.3934                               </td></tr>\n",
       "</tbody>\n",
       "</table>"
      ],
      "text/plain": [
       "<IPython.core.display.HTML object>"
      ]
     },
     "metadata": {},
     "output_type": "display_data"
    },
    {
     "data": {
      "text/html": [
       "<span style=\"color:#64DD17\"><span style=\"font-size:14px\"><b>Hypertuning complete - results in kerastunerlogs/chestXRay</b></span></span>"
      ],
      "text/plain": [
       "<IPython.core.display.HTML object>"
      ]
     },
     "metadata": {},
     "output_type": "display_data"
    }
   ],
   "source": [
    "tuner.search(x=features_train,\n",
    "             y=y_train,\n",
    "             epochs=10,\n",
    "             validation_data=(features_test, y_test),\n",
    "            )"
   ]
  },
  {
   "cell_type": "code",
   "execution_count": 18,
   "metadata": {},
   "outputs": [],
   "source": [
    "# Rodada 1"
   ]
  },
  {
   "cell_type": "code",
   "execution_count": 27,
   "metadata": {},
   "outputs": [
    {
     "data": {
      "text/html": [
       "<span style=\"color:#4527A0\"><h1 style=\"font-size:18px\">Results summary</h1></span>"
      ],
      "text/plain": [
       "<IPython.core.display.HTML object>"
      ]
     },
     "metadata": {},
     "output_type": "display_data"
    },
    {
     "data": {
      "text/html": [
       "<span style=\"color:cyan\"> |-Results in kerastunerlogs/chestXRay</span>"
      ],
      "text/plain": [
       "<IPython.core.display.HTML object>"
      ]
     },
     "metadata": {},
     "output_type": "display_data"
    },
    {
     "data": {
      "text/html": [
       "<span style=\"color:cyan\"> |-Ran 10 trials</span>"
      ],
      "text/plain": [
       "<IPython.core.display.HTML object>"
      ]
     },
     "metadata": {},
     "output_type": "display_data"
    },
    {
     "data": {
      "text/html": [
       "<span style=\"color:cyan\"> |-Ran 20 executions (2 per trial)</span>"
      ],
      "text/plain": [
       "<IPython.core.display.HTML object>"
      ]
     },
     "metadata": {},
     "output_type": "display_data"
    },
    {
     "data": {
      "text/html": [
       "<span style=\"color:cyan\"> |-Best val_accuracy: 0.8758</span>"
      ],
      "text/plain": [
       "<IPython.core.display.HTML object>"
      ]
     },
     "metadata": {},
     "output_type": "display_data"
    }
   ],
   "source": [
    "tuner.results_summary()"
   ]
  },
  {
   "cell_type": "code",
   "execution_count": 28,
   "metadata": {},
   "outputs": [],
   "source": [
    "models = tuner.get_best_models(num_models=3)"
   ]
  },
  {
   "cell_type": "code",
   "execution_count": 29,
   "metadata": {},
   "outputs": [
    {
     "name": "stdout",
     "output_type": "stream",
     "text": [
      "Model: \"sequential_1\"\n",
      "_________________________________________________________________\n",
      "Layer (type)                 Output Shape              Param #   \n",
      "=================================================================\n",
      "dense_2 (Dense)              (None, 256)               262400    \n",
      "_________________________________________________________________\n",
      "dropout_1 (Dropout)          (None, 256)               0         \n",
      "_________________________________________________________________\n",
      "dense_3 (Dense)              (None, 1)                 257       \n",
      "=================================================================\n",
      "Total params: 262,657\n",
      "Trainable params: 262,657\n",
      "Non-trainable params: 0\n",
      "_________________________________________________________________\n"
     ]
    }
   ],
   "source": [
    "models[0].summary()"
   ]
  },
  {
   "cell_type": "code",
   "execution_count": 30,
   "metadata": {},
   "outputs": [
    {
     "name": "stdout",
     "output_type": "stream",
     "text": [
      "Model: \"sequential_2\"\n",
      "_________________________________________________________________\n",
      "Layer (type)                 Output Shape              Param #   \n",
      "=================================================================\n",
      "dense_4 (Dense)              (None, 192)               196800    \n",
      "_________________________________________________________________\n",
      "dropout_2 (Dropout)          (None, 192)               0         \n",
      "_________________________________________________________________\n",
      "dense_5 (Dense)              (None, 1)                 193       \n",
      "=================================================================\n",
      "Total params: 196,993\n",
      "Trainable params: 196,993\n",
      "Non-trainable params: 0\n",
      "_________________________________________________________________\n"
     ]
    }
   ],
   "source": [
    "models[1].summary()"
   ]
  },
  {
   "cell_type": "code",
   "execution_count": 31,
   "metadata": {},
   "outputs": [
    {
     "name": "stdout",
     "output_type": "stream",
     "text": [
      "Model: \"sequential_3\"\n",
      "_________________________________________________________________\n",
      "Layer (type)                 Output Shape              Param #   \n",
      "=================================================================\n",
      "dense_6 (Dense)              (None, 192)               196800    \n",
      "_________________________________________________________________\n",
      "dropout_3 (Dropout)          (None, 192)               0         \n",
      "_________________________________________________________________\n",
      "dense_7 (Dense)              (None, 1)                 193       \n",
      "=================================================================\n",
      "Total params: 196,993\n",
      "Trainable params: 196,993\n",
      "Non-trainable params: 0\n",
      "_________________________________________________________________\n"
     ]
    }
   ],
   "source": [
    "models[2].summary()"
   ]
  },
  {
   "cell_type": "code",
   "execution_count": 32,
   "metadata": {},
   "outputs": [
    {
     "name": "stdout",
     "output_type": "stream",
     "text": [
      "0.0002\n",
      "0.0004\n",
      "0.0004\n"
     ]
    }
   ],
   "source": [
    "for n in range(3):\n",
    "    print(tf.keras.backend.eval(models[n].optimizer.lr))"
   ]
  },
  {
   "cell_type": "code",
   "execution_count": null,
   "metadata": {},
   "outputs": [],
   "source": [
    "# Rodada 3"
   ]
  },
  {
   "cell_type": "code",
   "execution_count": 14,
   "metadata": {},
   "outputs": [],
   "source": [
    "models = tuner.get_best_models(num_models=2)"
   ]
  },
  {
   "cell_type": "code",
   "execution_count": 19,
   "metadata": {},
   "outputs": [
    {
     "data": {
      "text/html": [
       "<span style=\"color:#4527A0\"><h1 style=\"font-size:18px\">Results summary</h1></span>"
      ],
      "text/plain": [
       "<IPython.core.display.HTML object>"
      ]
     },
     "metadata": {},
     "output_type": "display_data"
    },
    {
     "data": {
      "text/html": [
       "<span style=\"color:cyan\"> |-Results in kerastunerlogs/chestXRay</span>"
      ],
      "text/plain": [
       "<IPython.core.display.HTML object>"
      ]
     },
     "metadata": {},
     "output_type": "display_data"
    },
    {
     "data": {
      "text/html": [
       "<span style=\"color:cyan\"> |-Ran 10 trials</span>"
      ],
      "text/plain": [
       "<IPython.core.display.HTML object>"
      ]
     },
     "metadata": {},
     "output_type": "display_data"
    },
    {
     "data": {
      "text/html": [
       "<span style=\"color:cyan\"> |-Ran 30 executions (3 per trial)</span>"
      ],
      "text/plain": [
       "<IPython.core.display.HTML object>"
      ]
     },
     "metadata": {},
     "output_type": "display_data"
    },
    {
     "data": {
      "text/html": [
       "<span style=\"color:cyan\"> |-Best val_accuracy: 0.8640</span>"
      ],
      "text/plain": [
       "<IPython.core.display.HTML object>"
      ]
     },
     "metadata": {},
     "output_type": "display_data"
    }
   ],
   "source": [
    "tuner.results_summary()"
   ]
  },
  {
   "cell_type": "code",
   "execution_count": 15,
   "metadata": {},
   "outputs": [
    {
     "name": "stdout",
     "output_type": "stream",
     "text": [
      "Model: \"sequential_3\"\n",
      "_________________________________________________________________\n",
      "Layer (type)                 Output Shape              Param #   \n",
      "=================================================================\n",
      "dense_6 (Dense)              (None, 128)               131200    \n",
      "_________________________________________________________________\n",
      "dropout_3 (Dropout)          (None, 128)               0         \n",
      "_________________________________________________________________\n",
      "dense_7 (Dense)              (None, 1)                 129       \n",
      "=================================================================\n",
      "Total params: 131,329\n",
      "Trainable params: 131,329\n",
      "Non-trainable params: 0\n",
      "_________________________________________________________________\n"
     ]
    }
   ],
   "source": [
    "models[0].summary()"
   ]
  },
  {
   "cell_type": "code",
   "execution_count": 20,
   "metadata": {},
   "outputs": [
    {
     "data": {
      "text/plain": [
       "0.35"
      ]
     },
     "execution_count": 20,
     "metadata": {},
     "output_type": "execute_result"
    }
   ],
   "source": [
    "models[0].layers[1].rate"
   ]
  },
  {
   "cell_type": "code",
   "execution_count": 16,
   "metadata": {},
   "outputs": [
    {
     "name": "stdout",
     "output_type": "stream",
     "text": [
      "Model: \"sequential_4\"\n",
      "_________________________________________________________________\n",
      "Layer (type)                 Output Shape              Param #   \n",
      "=================================================================\n",
      "dense_8 (Dense)              (None, 256)               262400    \n",
      "_________________________________________________________________\n",
      "dropout_4 (Dropout)          (None, 256)               0         \n",
      "_________________________________________________________________\n",
      "dense_9 (Dense)              (None, 1)                 257       \n",
      "=================================================================\n",
      "Total params: 262,657\n",
      "Trainable params: 262,657\n",
      "Non-trainable params: 0\n",
      "_________________________________________________________________\n"
     ]
    }
   ],
   "source": [
    "models[1].summary()"
   ]
  },
  {
   "cell_type": "code",
   "execution_count": 17,
   "metadata": {},
   "outputs": [
    {
     "data": {
      "text/plain": [
       "0.5"
      ]
     },
     "execution_count": 17,
     "metadata": {},
     "output_type": "execute_result"
    }
   ],
   "source": [
    "models[1].layers[1].rate"
   ]
  },
  {
   "cell_type": "code",
   "execution_count": null,
   "metadata": {},
   "outputs": [],
   "source": [
    "\n"
   ]
  },
  {
   "cell_type": "code",
   "execution_count": 8,
   "metadata": {},
   "outputs": [
    {
     "name": "stdout",
     "output_type": "stream",
     "text": [
      "0.0004\n",
      "1e-04\n"
     ]
    }
   ],
   "source": [
    "for n in range(2):\n",
    "    print(tf.keras.backend.eval(models[n].optimizer.lr))"
   ]
  },
  {
   "cell_type": "code",
   "execution_count": null,
   "metadata": {},
   "outputs": [],
   "source": []
  },
  {
   "cell_type": "code",
   "execution_count": 7,
   "metadata": {},
   "outputs": [],
   "source": [
    "models = tuner.get_best_models(num_models=2)"
   ]
  },
  {
   "cell_type": "code",
   "execution_count": 10,
   "metadata": {},
   "outputs": [
    {
     "data": {
      "text/html": [
       "<span style=\"color:#4527A0\"><h1 style=\"font-size:18px\">Results summary</h1></span>"
      ],
      "text/plain": [
       "<IPython.core.display.HTML object>"
      ]
     },
     "metadata": {},
     "output_type": "display_data"
    },
    {
     "data": {
      "text/html": [
       "<span style=\"color:cyan\"> |-Results in kerastunerlogs/chestXRay</span>"
      ],
      "text/plain": [
       "<IPython.core.display.HTML object>"
      ]
     },
     "metadata": {},
     "output_type": "display_data"
    },
    {
     "data": {
      "text/html": [
       "<span style=\"color:cyan\"> |-Ran 5 trials</span>"
      ],
      "text/plain": [
       "<IPython.core.display.HTML object>"
      ]
     },
     "metadata": {},
     "output_type": "display_data"
    },
    {
     "data": {
      "text/html": [
       "<span style=\"color:cyan\"> |-Ran 15 executions (3 per trial)</span>"
      ],
      "text/plain": [
       "<IPython.core.display.HTML object>"
      ]
     },
     "metadata": {},
     "output_type": "display_data"
    },
    {
     "data": {
      "text/html": [
       "<span style=\"color:cyan\"> |-Best val_accuracy: 0.8575</span>"
      ],
      "text/plain": [
       "<IPython.core.display.HTML object>"
      ]
     },
     "metadata": {},
     "output_type": "display_data"
    }
   ],
   "source": [
    "tuner.results_summary()"
   ]
  },
  {
   "cell_type": "code",
   "execution_count": 12,
   "metadata": {},
   "outputs": [
    {
     "name": "stdout",
     "output_type": "stream",
     "text": [
      "Model: \"sequential_1\"\n",
      "_________________________________________________________________\n",
      "Layer (type)                 Output Shape              Param #   \n",
      "=================================================================\n",
      "dense_2 (Dense)              (None, 320)               328000    \n",
      "_________________________________________________________________\n",
      "dropout_1 (Dropout)          (None, 320)               0         \n",
      "_________________________________________________________________\n",
      "dense_3 (Dense)              (None, 1)                 321       \n",
      "=================================================================\n",
      "Total params: 328,321\n",
      "Trainable params: 328,321\n",
      "Non-trainable params: 0\n",
      "_________________________________________________________________\n"
     ]
    }
   ],
   "source": [
    "models[0].summary()"
   ]
  },
  {
   "cell_type": "code",
   "execution_count": 19,
   "metadata": {},
   "outputs": [
    {
     "name": "stdout",
     "output_type": "stream",
     "text": [
      "0.0002\n"
     ]
    }
   ],
   "source": [
    "print(tf.keras.backend.eval(models[0].optimizer.lr))"
   ]
  },
  {
   "cell_type": "code",
   "execution_count": 21,
   "metadata": {},
   "outputs": [
    {
     "name": "stdout",
     "output_type": "stream",
     "text": [
      "Model: \"sequential_2\"\n",
      "_________________________________________________________________\n",
      "Layer (type)                 Output Shape              Param #   \n",
      "=================================================================\n",
      "dense_4 (Dense)              (None, 320)               328000    \n",
      "_________________________________________________________________\n",
      "dropout_2 (Dropout)          (None, 320)               0         \n",
      "_________________________________________________________________\n",
      "dense_5 (Dense)              (None, 1)                 321       \n",
      "=================================================================\n",
      "Total params: 328,321\n",
      "Trainable params: 328,321\n",
      "Non-trainable params: 0\n",
      "_________________________________________________________________\n"
     ]
    }
   ],
   "source": [
    "models[1].summary()"
   ]
  },
  {
   "cell_type": "code",
   "execution_count": 22,
   "metadata": {},
   "outputs": [
    {
     "name": "stdout",
     "output_type": "stream",
     "text": [
      "1e-04\n"
     ]
    }
   ],
   "source": [
    "print(tf.keras.backend.eval(models[1].optimizer.lr))"
   ]
  },
  {
   "cell_type": "markdown",
   "metadata": {},
   "source": [
    "# Acima, foi utilizado tanto gridsearch quanto Random Search para tentar determinar o uso ideal de learningrate e outros hiperparâmetros. \n",
    "\n",
    "## Para finalizar a análise, será testado um treinamento maior e analisado também precision e recall dos modelos em quatro treinamentos: o primeiro com regularização E dropout, o segundo com dropout grande, o terceiro com dropout menor e o quarto sem dropout e sem regularização\n",
    "\n",
    "### Todos utilizarão learning rate de 1e-4 com decay"
   ]
  },
  {
   "cell_type": "code",
   "execution_count": 3,
   "metadata": {},
   "outputs": [],
   "source": [
    "from sklearn.metrics import classification_report, confusion_matrix\n",
    "\n",
    "def test_model(model):\n",
    "    y_pred = model.predict(features_test) > 0.5\n",
    "    print('METRICS ON TEST SET')\n",
    "    print(classification_report(y_test, y_pred, target_names=['NORMAL', 'PNEUMONIA']))\n",
    "    print(confusion_matrix(y_test, y_pred))\n",
    "    y_pred_train = model.predict(features_train) > 0.5\n",
    "    print('METRICS ON TRAIN SET')\n",
    "    print(classification_report(y_train, y_pred_train, target_names=['NORMAL', 'PNEUMONIA']))\n",
    "    print(confusion_matrix(y_train, y_pred_train))"
   ]
  },
  {
   "cell_type": "code",
   "execution_count": 4,
   "metadata": {},
   "outputs": [],
   "source": [
    "early_stop = EarlyStopping(monitor='val_loss', patience=10, verbose=0, mode='min')\n",
    "reduce_lr = ReduceLROnPlateau(monitor='val_accuracy', factor=0.8, patience=3,\n",
    "                              verbose=1, mode='auto')\n"
   ]
  },
  {
   "cell_type": "code",
   "execution_count": 5,
   "metadata": {},
   "outputs": [],
   "source": [
    "models = []\n",
    "historys = []\n",
    "model = tf.keras.Sequential()\n",
    "model.add(tf.keras.layers.Dense(units=256,\n",
    "                       kernel_regularizer=tf.keras.regularizers.l1_l2(l2=0.01, l1=0.01),\n",
    "                       activation='relu',\n",
    "                       input_shape=(1024,)))\n",
    "model.add(tf.keras.layers.Dropout(0.2))\n",
    "model.add(tf.keras.layers.Dense(1, activation='sigmoid'))\n",
    "model.compile(\n",
    "    optimizer=tf.keras.optimizers.Adam(learning_rate=0.0004),\n",
    "    loss='binary_crossentropy',\n",
    "    metrics=['accuracy'])\n",
    "models.append(model)\n",
    "\n",
    "for dropout_rate in [0.4, 0.2, 0]:\n",
    "    model = tf.keras.Sequential()\n",
    "    model.add(tf.keras.layers.Dense(units=256,\n",
    "                           activation='relu',\n",
    "                           input_shape=(1024,)))\n",
    "    model.add(tf.keras.layers.Dropout(dropout_rate))\n",
    "    model.add(tf.keras.layers.Dense(1, activation='sigmoid'))\n",
    "    model.compile(\n",
    "        optimizer=tf.keras.optimizers.Adam(learning_rate=0.0004),\n",
    "        loss='binary_crossentropy',\n",
    "        metrics=['accuracy'])\n",
    "    models.append(model)"
   ]
  },
  {
   "cell_type": "code",
   "execution_count": 6,
   "metadata": {},
   "outputs": [
    {
     "name": "stderr",
     "output_type": "stream",
     "text": [
      "WARNING: Logging before flag parsing goes to stderr.\n",
      "W0707 15:49:04.480043 139748519900928 deprecation.py:323] From /home/ivan/pybr/projeto/venv/lib/python3.5/site-packages/tensorflow/python/ops/math_grad.py:1250: add_dispatch_support.<locals>.wrapper (from tensorflow.python.ops.array_ops) is deprecated and will be removed in a future version.\n",
      "Instructions for updating:\n",
      "Use tf.where in 2.0, which has the same broadcast rule as np.where\n"
     ]
    },
    {
     "name": "stdout",
     "output_type": "stream",
     "text": [
      "Train on 5184 samples, validate on 608 samples\n",
      "Epoch 1/100\n",
      "5184/5184 - 0s - loss: 87.4591 - accuracy: 0.7145 - val_loss: 78.2496 - val_accuracy: 0.6826\n",
      "Epoch 2/100\n",
      "5184/5184 - 0s - loss: 70.4839 - accuracy: 0.8519 - val_loss: 62.2767 - val_accuracy: 0.8306\n",
      "Epoch 3/100\n",
      "5184/5184 - 0s - loss: 55.7412 - accuracy: 0.8802 - val_loss: 48.8534 - val_accuracy: 0.7664\n",
      "Epoch 4/100\n",
      "5184/5184 - 0s - loss: 42.9798 - accuracy: 0.8978 - val_loss: 37.0173 - val_accuracy: 0.8207\n",
      "Epoch 5/100\n",
      "5184/5184 - 0s - loss: 32.2591 - accuracy: 0.9041 - val_loss: 27.3722 - val_accuracy: 0.8536\n",
      "Epoch 6/100\n",
      "5184/5184 - 0s - loss: 23.6079 - accuracy: 0.9128 - val_loss: 19.9115 - val_accuracy: 0.8174\n",
      "Epoch 7/100\n",
      "5184/5184 - 0s - loss: 17.0166 - accuracy: 0.9225 - val_loss: 14.5062 - val_accuracy: 0.7763\n",
      "Epoch 8/100\n",
      "\n",
      "Epoch 00008: ReduceLROnPlateau reducing learning rate to 0.00031999999191612005.\n",
      "5184/5184 - 0s - loss: 12.4402 - accuracy: 0.9252 - val_loss: 11.0077 - val_accuracy: 0.7862\n",
      "Epoch 9/100\n",
      "5184/5184 - 0s - loss: 9.8866 - accuracy: 0.9309 - val_loss: 9.1908 - val_accuracy: 0.8750\n",
      "Epoch 10/100\n",
      "5184/5184 - 0s - loss: 8.4447 - accuracy: 0.9327 - val_loss: 7.9680 - val_accuracy: 0.8487\n",
      "Epoch 11/100\n",
      "5184/5184 - 0s - loss: 7.3074 - accuracy: 0.9317 - val_loss: 7.0321 - val_accuracy: 0.7961\n",
      "Epoch 12/100\n",
      "\n",
      "Epoch 00012: ReduceLROnPlateau reducing learning rate to 0.00025599999353289606.\n",
      "5184/5184 - 0s - loss: 6.3498 - accuracy: 0.9325 - val_loss: 6.0825 - val_accuracy: 0.8240\n",
      "Epoch 13/100\n",
      "5184/5184 - 0s - loss: 5.5782 - accuracy: 0.9315 - val_loss: 5.4774 - val_accuracy: 0.8092\n",
      "Epoch 14/100\n",
      "5184/5184 - 0s - loss: 4.9759 - accuracy: 0.9344 - val_loss: 4.9544 - val_accuracy: 0.7878\n",
      "Epoch 15/100\n",
      "\n",
      "Epoch 00015: ReduceLROnPlateau reducing learning rate to 0.00020479999948292972.\n",
      "5184/5184 - 0s - loss: 4.4586 - accuracy: 0.9313 - val_loss: 4.3551 - val_accuracy: 0.8701\n",
      "Epoch 16/100\n",
      "5184/5184 - 0s - loss: 4.0271 - accuracy: 0.9340 - val_loss: 4.0742 - val_accuracy: 0.8010\n",
      "Epoch 17/100\n",
      "5184/5184 - 0s - loss: 3.6750 - accuracy: 0.9342 - val_loss: 3.7542 - val_accuracy: 0.7961\n",
      "Epoch 18/100\n",
      "\n",
      "Epoch 00018: ReduceLROnPlateau reducing learning rate to 0.00016384000191465022.\n",
      "5184/5184 - 0s - loss: 3.3551 - accuracy: 0.9369 - val_loss: 3.3714 - val_accuracy: 0.8503\n",
      "Epoch 19/100\n",
      "5184/5184 - 0s - loss: 3.0898 - accuracy: 0.9360 - val_loss: 3.1813 - val_accuracy: 0.8191\n",
      "Epoch 20/100\n",
      "5184/5184 - 0s - loss: 2.8718 - accuracy: 0.9361 - val_loss: 2.9418 - val_accuracy: 0.8355\n",
      "Epoch 21/100\n",
      "\n",
      "Epoch 00021: ReduceLROnPlateau reducing learning rate to 0.00013107199920341374.\n",
      "5184/5184 - 0s - loss: 2.6637 - accuracy: 0.9398 - val_loss: 2.7498 - val_accuracy: 0.8339\n",
      "Epoch 22/100\n",
      "5184/5184 - 0s - loss: 2.4960 - accuracy: 0.9371 - val_loss: 2.6119 - val_accuracy: 0.8273\n",
      "Epoch 23/100\n",
      "5184/5184 - 0s - loss: 2.3542 - accuracy: 0.9340 - val_loss: 2.4825 - val_accuracy: 0.8207\n",
      "Epoch 24/100\n",
      "\n",
      "Epoch 00024: ReduceLROnPlateau reducing learning rate to 0.00010485759703442455.\n",
      "5184/5184 - 0s - loss: 2.2187 - accuracy: 0.9334 - val_loss: 2.4385 - val_accuracy: 0.7845\n",
      "Epoch 25/100\n",
      "5184/5184 - 0s - loss: 2.1075 - accuracy: 0.9336 - val_loss: 2.2867 - val_accuracy: 0.8010\n",
      "Epoch 26/100\n",
      "5184/5184 - 0s - loss: 2.0041 - accuracy: 0.9315 - val_loss: 2.1694 - val_accuracy: 0.8109\n",
      "Epoch 27/100\n",
      "\n",
      "Epoch 00027: ReduceLROnPlateau reducing learning rate to 8.38860752992332e-05.\n",
      "5184/5184 - 0s - loss: 1.9126 - accuracy: 0.9334 - val_loss: 2.1050 - val_accuracy: 0.7961\n",
      "Epoch 28/100\n",
      "5184/5184 - 0s - loss: 1.8286 - accuracy: 0.9373 - val_loss: 2.0158 - val_accuracy: 0.8059\n",
      "Epoch 29/100\n",
      "5184/5184 - 0s - loss: 1.7586 - accuracy: 0.9361 - val_loss: 1.9852 - val_accuracy: 0.7911\n",
      "Epoch 30/100\n",
      "\n",
      "Epoch 00030: ReduceLROnPlateau reducing learning rate to 6.710885791108013e-05.\n",
      "5184/5184 - 0s - loss: 1.6974 - accuracy: 0.9325 - val_loss: 1.8917 - val_accuracy: 0.7993\n",
      "Epoch 31/100\n",
      "5184/5184 - 0s - loss: 1.6333 - accuracy: 0.9367 - val_loss: 1.8326 - val_accuracy: 0.8026\n",
      "Epoch 32/100\n",
      "5184/5184 - 0s - loss: 1.5870 - accuracy: 0.9334 - val_loss: 1.7777 - val_accuracy: 0.8059\n",
      "Epoch 33/100\n",
      "\n",
      "Epoch 00033: ReduceLROnPlateau reducing learning rate to 5.3687085164710885e-05.\n",
      "5184/5184 - 0s - loss: 1.5380 - accuracy: 0.9340 - val_loss: 1.7223 - val_accuracy: 0.8141\n",
      "Epoch 34/100\n",
      "5184/5184 - 0s - loss: 1.4920 - accuracy: 0.9365 - val_loss: 1.6954 - val_accuracy: 0.8043\n",
      "Epoch 35/100\n",
      "5184/5184 - 0s - loss: 1.4551 - accuracy: 0.9329 - val_loss: 1.6554 - val_accuracy: 0.8076\n",
      "Epoch 36/100\n",
      "\n",
      "Epoch 00036: ReduceLROnPlateau reducing learning rate to 4.2949669295921926e-05.\n",
      "5184/5184 - 0s - loss: 1.4187 - accuracy: 0.9329 - val_loss: 1.6129 - val_accuracy: 0.8125\n",
      "Epoch 37/100\n",
      "5184/5184 - 0s - loss: 1.3842 - accuracy: 0.9360 - val_loss: 1.5739 - val_accuracy: 0.8174\n",
      "Epoch 38/100\n",
      "5184/5184 - 0s - loss: 1.3558 - accuracy: 0.9313 - val_loss: 1.5428 - val_accuracy: 0.8207\n",
      "Epoch 39/100\n",
      "\n",
      "Epoch 00039: ReduceLROnPlateau reducing learning rate to 3.435973485466093e-05.\n",
      "5184/5184 - 0s - loss: 1.3313 - accuracy: 0.9340 - val_loss: 1.5256 - val_accuracy: 0.8174\n",
      "Epoch 40/100\n",
      "5184/5184 - 0s - loss: 1.3072 - accuracy: 0.9311 - val_loss: 1.5040 - val_accuracy: 0.8158\n",
      "Epoch 41/100\n",
      "5184/5184 - 0s - loss: 1.2847 - accuracy: 0.9373 - val_loss: 1.4836 - val_accuracy: 0.8174\n",
      "Epoch 42/100\n",
      "\n",
      "Epoch 00042: ReduceLROnPlateau reducing learning rate to 2.7487787883728745e-05.\n",
      "5184/5184 - 0s - loss: 1.2663 - accuracy: 0.9304 - val_loss: 1.4704 - val_accuracy: 0.8076\n",
      "Epoch 43/100\n",
      "5184/5184 - 0s - loss: 1.2426 - accuracy: 0.9311 - val_loss: 1.4447 - val_accuracy: 0.8158\n",
      "Epoch 44/100\n",
      "5184/5184 - 0s - loss: 1.2263 - accuracy: 0.9302 - val_loss: 1.4411 - val_accuracy: 0.8043\n",
      "Epoch 45/100\n",
      "\n",
      "Epoch 00045: ReduceLROnPlateau reducing learning rate to 2.199023001594469e-05.\n",
      "5184/5184 - 0s - loss: 1.2109 - accuracy: 0.9309 - val_loss: 1.4147 - val_accuracy: 0.8125\n",
      "Epoch 46/100\n",
      "5184/5184 - 0s - loss: 1.1989 - accuracy: 0.9296 - val_loss: 1.4017 - val_accuracy: 0.8109\n",
      "Epoch 47/100\n",
      "5184/5184 - 0s - loss: 1.1807 - accuracy: 0.9327 - val_loss: 1.3877 - val_accuracy: 0.8125\n",
      "Epoch 48/100\n",
      "\n",
      "Epoch 00048: ReduceLROnPlateau reducing learning rate to 1.7592184303794055e-05.\n",
      "5184/5184 - 0s - loss: 1.1696 - accuracy: 0.9315 - val_loss: 1.3748 - val_accuracy: 0.8125\n",
      "Epoch 49/100\n",
      "5184/5184 - 0s - loss: 1.1562 - accuracy: 0.9346 - val_loss: 1.3653 - val_accuracy: 0.8109\n",
      "Epoch 50/100\n",
      "5184/5184 - 0s - loss: 1.1467 - accuracy: 0.9346 - val_loss: 1.3489 - val_accuracy: 0.8125\n",
      "Epoch 51/100\n",
      "\n",
      "Epoch 00051: ReduceLROnPlateau reducing learning rate to 1.4073748025111855e-05.\n",
      "5184/5184 - 0s - loss: 1.1362 - accuracy: 0.9327 - val_loss: 1.3385 - val_accuracy: 0.8125\n",
      "Epoch 52/100\n",
      "5184/5184 - 0s - loss: 1.1264 - accuracy: 0.9309 - val_loss: 1.3288 - val_accuracy: 0.8125\n",
      "Epoch 53/100\n",
      "5184/5184 - 0s - loss: 1.1212 - accuracy: 0.9311 - val_loss: 1.3241 - val_accuracy: 0.8125\n",
      "Epoch 54/100\n",
      "\n",
      "Epoch 00054: ReduceLROnPlateau reducing learning rate to 1.1258998711127788e-05.\n",
      "5184/5184 - 0s - loss: 1.1127 - accuracy: 0.9333 - val_loss: 1.3172 - val_accuracy: 0.8109\n",
      "Epoch 55/100\n",
      "5184/5184 - 0s - loss: 1.1041 - accuracy: 0.9333 - val_loss: 1.3081 - val_accuracy: 0.8109\n",
      "Epoch 56/100\n",
      "5184/5184 - 0s - loss: 1.0971 - accuracy: 0.9331 - val_loss: 1.3007 - val_accuracy: 0.8109\n",
      "Epoch 57/100\n",
      "\n",
      "Epoch 00057: ReduceLROnPlateau reducing learning rate to 9.00719896890223e-06.\n",
      "5184/5184 - 0s - loss: 1.0905 - accuracy: 0.9365 - val_loss: 1.2947 - val_accuracy: 0.8109\n",
      "Epoch 58/100\n",
      "5184/5184 - 0s - loss: 1.0840 - accuracy: 0.9311 - val_loss: 1.2906 - val_accuracy: 0.8092\n",
      "Epoch 59/100\n",
      "5184/5184 - 0s - loss: 1.0796 - accuracy: 0.9298 - val_loss: 1.2835 - val_accuracy: 0.8092\n",
      "Epoch 60/100\n",
      "\n",
      "Epoch 00060: ReduceLROnPlateau reducing learning rate to 7.205759175121784e-06.\n",
      "5184/5184 - 0s - loss: 1.0738 - accuracy: 0.9342 - val_loss: 1.2792 - val_accuracy: 0.8092\n",
      "Epoch 61/100\n",
      "5184/5184 - 0s - loss: 1.0699 - accuracy: 0.9317 - val_loss: 1.2764 - val_accuracy: 0.8092\n",
      "Epoch 62/100\n",
      "5184/5184 - 0s - loss: 1.0638 - accuracy: 0.9331 - val_loss: 1.2732 - val_accuracy: 0.8076\n",
      "Epoch 63/100\n",
      "\n",
      "Epoch 00063: ReduceLROnPlateau reducing learning rate to 5.764607340097428e-06.\n",
      "5184/5184 - 0s - loss: 1.0621 - accuracy: 0.9307 - val_loss: 1.2661 - val_accuracy: 0.8092\n",
      "Epoch 64/100\n",
      "5184/5184 - 0s - loss: 1.0565 - accuracy: 0.9319 - val_loss: 1.2625 - val_accuracy: 0.8076\n"
     ]
    },
    {
     "name": "stdout",
     "output_type": "stream",
     "text": [
      "Epoch 65/100\n",
      "5184/5184 - 0s - loss: 1.0541 - accuracy: 0.9325 - val_loss: 1.2607 - val_accuracy: 0.8076\n",
      "Epoch 66/100\n",
      "\n",
      "Epoch 00066: ReduceLROnPlateau reducing learning rate to 4.6116860175970945e-06.\n",
      "5184/5184 - 0s - loss: 1.0504 - accuracy: 0.9311 - val_loss: 1.2556 - val_accuracy: 0.8076\n",
      "Epoch 67/100\n",
      "5184/5184 - 0s - loss: 1.0447 - accuracy: 0.9325 - val_loss: 1.2547 - val_accuracy: 0.8076\n",
      "Epoch 68/100\n",
      "5184/5184 - 0s - loss: 1.0444 - accuracy: 0.9321 - val_loss: 1.2494 - val_accuracy: 0.8076\n",
      "Epoch 69/100\n",
      "\n",
      "Epoch 00069: ReduceLROnPlateau reducing learning rate to 3.6893488868372515e-06.\n",
      "5184/5184 - 0s - loss: 1.0436 - accuracy: 0.9300 - val_loss: 1.2486 - val_accuracy: 0.8076\n",
      "Epoch 70/100\n",
      "5184/5184 - 0s - loss: 1.0392 - accuracy: 0.9306 - val_loss: 1.2443 - val_accuracy: 0.8076\n",
      "Epoch 71/100\n",
      "5184/5184 - 0s - loss: 1.0353 - accuracy: 0.9336 - val_loss: 1.2427 - val_accuracy: 0.8076\n",
      "Epoch 72/100\n",
      "\n",
      "Epoch 00072: ReduceLROnPlateau reducing learning rate to 2.9514791094698013e-06.\n",
      "5184/5184 - 0s - loss: 1.0363 - accuracy: 0.9271 - val_loss: 1.2398 - val_accuracy: 0.8076\n",
      "Epoch 73/100\n",
      "5184/5184 - 0s - loss: 1.0313 - accuracy: 0.9344 - val_loss: 1.2401 - val_accuracy: 0.8076\n",
      "Epoch 74/100\n",
      "5184/5184 - 0s - loss: 1.0316 - accuracy: 0.9311 - val_loss: 1.2369 - val_accuracy: 0.8076\n",
      "Epoch 75/100\n",
      "\n",
      "Epoch 00075: ReduceLROnPlateau reducing learning rate to 2.361183214816265e-06.\n",
      "5184/5184 - 0s - loss: 1.0267 - accuracy: 0.9333 - val_loss: 1.2357 - val_accuracy: 0.8076\n",
      "Epoch 76/100\n",
      "5184/5184 - 0s - loss: 1.0251 - accuracy: 0.9321 - val_loss: 1.2336 - val_accuracy: 0.8076\n",
      "Epoch 77/100\n",
      "5184/5184 - 0s - loss: 1.0252 - accuracy: 0.9352 - val_loss: 1.2315 - val_accuracy: 0.8076\n",
      "Epoch 78/100\n",
      "\n",
      "Epoch 00078: ReduceLROnPlateau reducing learning rate to 1.888946644612588e-06.\n",
      "5184/5184 - 0s - loss: 1.0251 - accuracy: 0.9323 - val_loss: 1.2300 - val_accuracy: 0.8076\n",
      "Epoch 79/100\n",
      "5184/5184 - 0s - loss: 1.0200 - accuracy: 0.9327 - val_loss: 1.2290 - val_accuracy: 0.8076\n",
      "Epoch 80/100\n",
      "5184/5184 - 0s - loss: 1.0192 - accuracy: 0.9338 - val_loss: 1.2271 - val_accuracy: 0.8076\n",
      "Epoch 81/100\n",
      "\n",
      "Epoch 00081: ReduceLROnPlateau reducing learning rate to 1.5111572793102823e-06.\n",
      "5184/5184 - 0s - loss: 1.0233 - accuracy: 0.9286 - val_loss: 1.2267 - val_accuracy: 0.8076\n",
      "Epoch 82/100\n",
      "5184/5184 - 0s - loss: 1.0204 - accuracy: 0.9336 - val_loss: 1.2260 - val_accuracy: 0.8076\n",
      "Epoch 83/100\n",
      "5184/5184 - 0s - loss: 1.0180 - accuracy: 0.9340 - val_loss: 1.2252 - val_accuracy: 0.8076\n",
      "Epoch 84/100\n",
      "\n",
      "Epoch 00084: ReduceLROnPlateau reducing learning rate to 1.2089258234482259e-06.\n",
      "5184/5184 - 0s - loss: 1.0168 - accuracy: 0.9329 - val_loss: 1.2245 - val_accuracy: 0.8076\n",
      "Epoch 85/100\n",
      "5184/5184 - 0s - loss: 1.0182 - accuracy: 0.9317 - val_loss: 1.2239 - val_accuracy: 0.8076\n",
      "Epoch 86/100\n",
      "5184/5184 - 0s - loss: 1.0140 - accuracy: 0.9334 - val_loss: 1.2234 - val_accuracy: 0.8076\n",
      "Epoch 87/100\n",
      "\n",
      "Epoch 00087: ReduceLROnPlateau reducing learning rate to 9.671406587585808e-07.\n",
      "5184/5184 - 0s - loss: 1.0142 - accuracy: 0.9329 - val_loss: 1.2224 - val_accuracy: 0.8076\n",
      "Epoch 88/100\n",
      "5184/5184 - 0s - loss: 1.0151 - accuracy: 0.9323 - val_loss: 1.2219 - val_accuracy: 0.8076\n",
      "Epoch 89/100\n",
      "5184/5184 - 0s - loss: 1.0138 - accuracy: 0.9313 - val_loss: 1.2214 - val_accuracy: 0.8076\n",
      "Epoch 90/100\n",
      "\n",
      "Epoch 00090: ReduceLROnPlateau reducing learning rate to 7.737125088169705e-07.\n",
      "5184/5184 - 0s - loss: 1.0148 - accuracy: 0.9323 - val_loss: 1.2203 - val_accuracy: 0.8076\n",
      "Epoch 91/100\n",
      "5184/5184 - 0s - loss: 1.0140 - accuracy: 0.9279 - val_loss: 1.2197 - val_accuracy: 0.8076\n",
      "Epoch 92/100\n",
      "5184/5184 - 0s - loss: 1.0109 - accuracy: 0.9313 - val_loss: 1.2189 - val_accuracy: 0.8076\n",
      "Epoch 93/100\n",
      "\n",
      "Epoch 00093: ReduceLROnPlateau reducing learning rate to 6.189699888636824e-07.\n",
      "5184/5184 - 0s - loss: 1.0132 - accuracy: 0.9307 - val_loss: 1.2181 - val_accuracy: 0.8076\n",
      "Epoch 94/100\n",
      "5184/5184 - 0s - loss: 1.0115 - accuracy: 0.9342 - val_loss: 1.2178 - val_accuracy: 0.8076\n",
      "Epoch 95/100\n",
      "5184/5184 - 0s - loss: 1.0119 - accuracy: 0.9317 - val_loss: 1.2175 - val_accuracy: 0.8076\n",
      "Epoch 96/100\n",
      "\n",
      "Epoch 00096: ReduceLROnPlateau reducing learning rate to 4.951759819959989e-07.\n",
      "5184/5184 - 0s - loss: 1.0125 - accuracy: 0.9313 - val_loss: 1.2175 - val_accuracy: 0.8076\n",
      "Epoch 97/100\n",
      "5184/5184 - 0s - loss: 1.0112 - accuracy: 0.9331 - val_loss: 1.2171 - val_accuracy: 0.8076\n",
      "Epoch 98/100\n",
      "5184/5184 - 0s - loss: 1.0074 - accuracy: 0.9342 - val_loss: 1.2166 - val_accuracy: 0.8076\n",
      "Epoch 99/100\n",
      "\n",
      "Epoch 00099: ReduceLROnPlateau reducing learning rate to 3.9614078559679913e-07.\n",
      "5184/5184 - 0s - loss: 1.0092 - accuracy: 0.9311 - val_loss: 1.2161 - val_accuracy: 0.8076\n",
      "Epoch 100/100\n",
      "5184/5184 - 0s - loss: 1.0114 - accuracy: 0.9336 - val_loss: 1.2159 - val_accuracy: 0.8076\n"
     ]
    }
   ],
   "source": [
    "# Model0: regularização e Dropout\n",
    "historys.append(models[0].fit(x=features_train,\n",
    "                    y=y_train,\n",
    "                    batch_size=256,\n",
    "                    epochs=100,\n",
    "                    verbose=2,\n",
    "                    callbacks=[early_stop, reduce_lr],\n",
    "                    validation_data=(features_test, y_test),\n",
    "                   )\n",
    "               )"
   ]
  },
  {
   "cell_type": "code",
   "execution_count": 7,
   "metadata": {},
   "outputs": [
    {
     "name": "stdout",
     "output_type": "stream",
     "text": [
      "Train on 5184 samples, validate on 608 samples\n",
      "Epoch 1/100\n",
      "5184/5184 - 0s - loss: 0.8020 - accuracy: 0.7496 - val_loss: 0.7672 - val_accuracy: 0.7319\n",
      "Epoch 2/100\n",
      "5184/5184 - 0s - loss: 0.3319 - accuracy: 0.8779 - val_loss: 0.4452 - val_accuracy: 0.8339\n",
      "Epoch 3/100\n",
      "5184/5184 - 0s - loss: 0.2475 - accuracy: 0.8968 - val_loss: 0.4381 - val_accuracy: 0.8240\n",
      "Epoch 4/100\n",
      "5184/5184 - 0s - loss: 0.2043 - accuracy: 0.9176 - val_loss: 0.5296 - val_accuracy: 0.7878\n",
      "Epoch 5/100\n",
      "5184/5184 - 0s - loss: 0.1962 - accuracy: 0.9205 - val_loss: 0.3731 - val_accuracy: 0.8470\n",
      "Epoch 6/100\n",
      "5184/5184 - 0s - loss: 0.1740 - accuracy: 0.9323 - val_loss: 0.4162 - val_accuracy: 0.8306\n",
      "Epoch 7/100\n",
      "5184/5184 - 0s - loss: 0.1704 - accuracy: 0.9321 - val_loss: 0.3886 - val_accuracy: 0.8421\n",
      "Epoch 8/100\n",
      "5184/5184 - 0s - loss: 0.1484 - accuracy: 0.9396 - val_loss: 0.3888 - val_accuracy: 0.8487\n",
      "Epoch 9/100\n",
      "5184/5184 - 0s - loss: 0.1488 - accuracy: 0.9414 - val_loss: 0.3827 - val_accuracy: 0.8454\n",
      "Epoch 10/100\n",
      "5184/5184 - 0s - loss: 0.1390 - accuracy: 0.9487 - val_loss: 0.4033 - val_accuracy: 0.8454\n",
      "Epoch 11/100\n",
      "5184/5184 - 0s - loss: 0.1348 - accuracy: 0.9487 - val_loss: 0.3607 - val_accuracy: 0.8635\n",
      "Epoch 12/100\n",
      "5184/5184 - 0s - loss: 0.1263 - accuracy: 0.9498 - val_loss: 0.3243 - val_accuracy: 0.8750\n",
      "Epoch 13/100\n",
      "5184/5184 - 0s - loss: 0.1247 - accuracy: 0.9510 - val_loss: 0.3806 - val_accuracy: 0.8602\n",
      "Epoch 14/100\n",
      "5184/5184 - 0s - loss: 0.1225 - accuracy: 0.9514 - val_loss: 0.3481 - val_accuracy: 0.8734\n",
      "Epoch 15/100\n",
      "5184/5184 - 0s - loss: 0.1210 - accuracy: 0.9531 - val_loss: 0.2994 - val_accuracy: 0.8849\n",
      "Epoch 16/100\n",
      "5184/5184 - 0s - loss: 0.1168 - accuracy: 0.9562 - val_loss: 0.3806 - val_accuracy: 0.8602\n",
      "Epoch 17/100\n",
      "5184/5184 - 0s - loss: 0.1090 - accuracy: 0.9601 - val_loss: 0.3711 - val_accuracy: 0.8684\n",
      "Epoch 18/100\n",
      "\n",
      "Epoch 00018: ReduceLROnPlateau reducing learning rate to 0.00031999999191612005.\n",
      "5184/5184 - 0s - loss: 0.1024 - accuracy: 0.9603 - val_loss: 0.4133 - val_accuracy: 0.8503\n",
      "Epoch 19/100\n",
      "5184/5184 - 0s - loss: 0.1084 - accuracy: 0.9579 - val_loss: 0.3649 - val_accuracy: 0.8668\n",
      "Epoch 20/100\n",
      "5184/5184 - 0s - loss: 0.1048 - accuracy: 0.9595 - val_loss: 0.3487 - val_accuracy: 0.8701\n",
      "Epoch 21/100\n",
      "\n",
      "Epoch 00021: ReduceLROnPlateau reducing learning rate to 0.00025599999353289606.\n",
      "5184/5184 - 0s - loss: 0.0938 - accuracy: 0.9653 - val_loss: 0.5030 - val_accuracy: 0.8224\n",
      "Epoch 22/100\n",
      "5184/5184 - 0s - loss: 0.0929 - accuracy: 0.9657 - val_loss: 0.3289 - val_accuracy: 0.8799\n",
      "Epoch 23/100\n",
      "5184/5184 - 0s - loss: 0.0893 - accuracy: 0.9662 - val_loss: 0.3701 - val_accuracy: 0.8701\n",
      "Epoch 24/100\n",
      "\n",
      "Epoch 00024: ReduceLROnPlateau reducing learning rate to 0.00020479999948292972.\n",
      "5184/5184 - 0s - loss: 0.0877 - accuracy: 0.9657 - val_loss: 0.3667 - val_accuracy: 0.8734\n",
      "Epoch 25/100\n",
      "5184/5184 - 0s - loss: 0.0891 - accuracy: 0.9674 - val_loss: 0.3984 - val_accuracy: 0.8602\n"
     ]
    }
   ],
   "source": [
    "# Model1: Dropout alto\n",
    "historys.append(models[1].fit(x=features_train,\n",
    "                    y=y_train,\n",
    "                    batch_size=256,\n",
    "                    epochs=100,\n",
    "                    verbose=2,\n",
    "                    callbacks=[early_stop, reduce_lr],\n",
    "                    validation_data=(features_test, y_test),\n",
    "                   )\n",
    "               )"
   ]
  },
  {
   "cell_type": "code",
   "execution_count": 8,
   "metadata": {},
   "outputs": [
    {
     "name": "stdout",
     "output_type": "stream",
     "text": [
      "Train on 5184 samples, validate on 608 samples\n",
      "Epoch 1/100\n",
      "5184/5184 - 0s - loss: 0.4232 - accuracy: 0.8439 - val_loss: 0.6293 - val_accuracy: 0.7697\n",
      "Epoch 2/100\n",
      "5184/5184 - 0s - loss: 0.2296 - accuracy: 0.9151 - val_loss: 0.4920 - val_accuracy: 0.8043\n",
      "Epoch 3/100\n",
      "5184/5184 - 0s - loss: 0.1780 - accuracy: 0.9300 - val_loss: 0.4336 - val_accuracy: 0.8174\n",
      "Epoch 4/100\n",
      "5184/5184 - 0s - loss: 0.1597 - accuracy: 0.9360 - val_loss: 0.3665 - val_accuracy: 0.8586\n",
      "Epoch 5/100\n",
      "5184/5184 - 0s - loss: 0.1492 - accuracy: 0.9387 - val_loss: 0.4547 - val_accuracy: 0.8207\n",
      "Epoch 6/100\n",
      "5184/5184 - 0s - loss: 0.1457 - accuracy: 0.9400 - val_loss: 0.3617 - val_accuracy: 0.8635\n",
      "Epoch 7/100\n",
      "5184/5184 - 0s - loss: 0.1258 - accuracy: 0.9512 - val_loss: 0.3669 - val_accuracy: 0.8520\n",
      "Epoch 8/100\n",
      "5184/5184 - 0s - loss: 0.1143 - accuracy: 0.9578 - val_loss: 0.3699 - val_accuracy: 0.8536\n",
      "Epoch 9/100\n",
      "\n",
      "Epoch 00009: ReduceLROnPlateau reducing learning rate to 0.00031999999191612005.\n",
      "5184/5184 - 0s - loss: 0.1106 - accuracy: 0.9566 - val_loss: 0.4021 - val_accuracy: 0.8454\n",
      "Epoch 10/100\n",
      "5184/5184 - 0s - loss: 0.1088 - accuracy: 0.9583 - val_loss: 0.3623 - val_accuracy: 0.8586\n",
      "Epoch 11/100\n",
      "5184/5184 - 0s - loss: 0.1022 - accuracy: 0.9591 - val_loss: 0.2960 - val_accuracy: 0.9030\n",
      "Epoch 12/100\n",
      "5184/5184 - 0s - loss: 0.1046 - accuracy: 0.9591 - val_loss: 0.2941 - val_accuracy: 0.8980\n",
      "Epoch 13/100\n",
      "5184/5184 - 0s - loss: 0.1082 - accuracy: 0.9570 - val_loss: 0.6270 - val_accuracy: 0.7878\n",
      "Epoch 14/100\n",
      "\n",
      "Epoch 00014: ReduceLROnPlateau reducing learning rate to 0.00025599999353289606.\n",
      "5184/5184 - 0s - loss: 0.1076 - accuracy: 0.9589 - val_loss: 0.4295 - val_accuracy: 0.8306\n",
      "Epoch 15/100\n",
      "5184/5184 - 0s - loss: 0.0874 - accuracy: 0.9684 - val_loss: 0.3963 - val_accuracy: 0.8536\n",
      "Epoch 16/100\n",
      "5184/5184 - 0s - loss: 0.0854 - accuracy: 0.9664 - val_loss: 0.3172 - val_accuracy: 0.8914\n",
      "Epoch 17/100\n",
      "\n",
      "Epoch 00017: ReduceLROnPlateau reducing learning rate to 0.00020479999948292972.\n",
      "5184/5184 - 0s - loss: 0.0866 - accuracy: 0.9686 - val_loss: 0.3593 - val_accuracy: 0.8701\n",
      "Epoch 18/100\n",
      "5184/5184 - 0s - loss: 0.0824 - accuracy: 0.9697 - val_loss: 0.4547 - val_accuracy: 0.8355\n",
      "Epoch 19/100\n",
      "5184/5184 - 0s - loss: 0.0758 - accuracy: 0.9720 - val_loss: 0.3679 - val_accuracy: 0.8651\n",
      "Epoch 20/100\n",
      "\n",
      "Epoch 00020: ReduceLROnPlateau reducing learning rate to 0.00016384000191465022.\n",
      "5184/5184 - 0s - loss: 0.0759 - accuracy: 0.9718 - val_loss: 0.4125 - val_accuracy: 0.8520\n",
      "Epoch 21/100\n",
      "5184/5184 - 0s - loss: 0.0734 - accuracy: 0.9732 - val_loss: 0.3940 - val_accuracy: 0.8602\n",
      "Epoch 22/100\n",
      "5184/5184 - 0s - loss: 0.0769 - accuracy: 0.9705 - val_loss: 0.3674 - val_accuracy: 0.8701\n"
     ]
    }
   ],
   "source": [
    "# Model2: Dropout baixo\n",
    "historys.append(models[2].fit(x=features_train,\n",
    "                    y=y_train,\n",
    "                    batch_size=256,\n",
    "                    epochs=100,\n",
    "                    verbose=2,\n",
    "                    callbacks=[early_stop, reduce_lr],\n",
    "                    validation_data=(features_test, y_test),\n",
    "                   )\n",
    "               )"
   ]
  },
  {
   "cell_type": "code",
   "execution_count": 9,
   "metadata": {},
   "outputs": [
    {
     "name": "stdout",
     "output_type": "stream",
     "text": [
      "Train on 5184 samples, validate on 608 samples\n",
      "Epoch 1/100\n",
      "5184/5184 - 0s - loss: 0.4907 - accuracy: 0.8084 - val_loss: 0.6838 - val_accuracy: 0.7336\n",
      "Epoch 2/100\n",
      "5184/5184 - 0s - loss: 0.2374 - accuracy: 0.8989 - val_loss: 0.6404 - val_accuracy: 0.7632\n",
      "Epoch 3/100\n",
      "5184/5184 - 0s - loss: 0.1892 - accuracy: 0.9242 - val_loss: 0.4896 - val_accuracy: 0.8026\n",
      "Epoch 4/100\n",
      "5184/5184 - 0s - loss: 0.1724 - accuracy: 0.9302 - val_loss: 0.5157 - val_accuracy: 0.7977\n",
      "Epoch 5/100\n",
      "5184/5184 - 0s - loss: 0.1497 - accuracy: 0.9435 - val_loss: 0.3961 - val_accuracy: 0.8421\n",
      "Epoch 6/100\n",
      "5184/5184 - 0s - loss: 0.1362 - accuracy: 0.9497 - val_loss: 0.4683 - val_accuracy: 0.8092\n",
      "Epoch 7/100\n",
      "5184/5184 - 0s - loss: 0.1301 - accuracy: 0.9508 - val_loss: 0.3175 - val_accuracy: 0.8832\n",
      "Epoch 8/100\n",
      "5184/5184 - 0s - loss: 0.1240 - accuracy: 0.9514 - val_loss: 0.4060 - val_accuracy: 0.8470\n",
      "Epoch 9/100\n",
      "5184/5184 - 0s - loss: 0.1159 - accuracy: 0.9581 - val_loss: 0.3152 - val_accuracy: 0.8799\n",
      "Epoch 10/100\n",
      "\n",
      "Epoch 00010: ReduceLROnPlateau reducing learning rate to 0.00031999999191612005.\n",
      "5184/5184 - 0s - loss: 0.1219 - accuracy: 0.9527 - val_loss: 0.6404 - val_accuracy: 0.7714\n",
      "Epoch 11/100\n",
      "5184/5184 - 0s - loss: 0.1192 - accuracy: 0.9545 - val_loss: 0.4814 - val_accuracy: 0.8207\n",
      "Epoch 12/100\n",
      "5184/5184 - 0s - loss: 0.1011 - accuracy: 0.9653 - val_loss: 0.3479 - val_accuracy: 0.8701\n",
      "Epoch 13/100\n",
      "\n",
      "Epoch 00013: ReduceLROnPlateau reducing learning rate to 0.00025599999353289606.\n",
      "5184/5184 - 0s - loss: 0.0951 - accuracy: 0.9643 - val_loss: 0.3921 - val_accuracy: 0.8487\n",
      "Epoch 14/100\n",
      "5184/5184 - 0s - loss: 0.0918 - accuracy: 0.9684 - val_loss: 0.4088 - val_accuracy: 0.8470\n",
      "Epoch 15/100\n",
      "5184/5184 - 0s - loss: 0.0892 - accuracy: 0.9688 - val_loss: 0.3794 - val_accuracy: 0.8503\n",
      "Epoch 16/100\n",
      "\n",
      "Epoch 00016: ReduceLROnPlateau reducing learning rate to 0.00020479999948292972.\n",
      "5184/5184 - 0s - loss: 0.0871 - accuracy: 0.9709 - val_loss: 0.3684 - val_accuracy: 0.8553\n",
      "Epoch 17/100\n",
      "5184/5184 - 0s - loss: 0.0823 - accuracy: 0.9734 - val_loss: 0.3584 - val_accuracy: 0.8586\n",
      "Epoch 18/100\n",
      "5184/5184 - 0s - loss: 0.0814 - accuracy: 0.9738 - val_loss: 0.4676 - val_accuracy: 0.8355\n",
      "Epoch 19/100\n",
      "\n",
      "Epoch 00019: ReduceLROnPlateau reducing learning rate to 0.00016384000191465022.\n",
      "5184/5184 - 0s - loss: 0.0865 - accuracy: 0.9688 - val_loss: 0.5197 - val_accuracy: 0.8257\n"
     ]
    }
   ],
   "source": [
    "# Model3: Sem Dropout \n",
    "historys.append(models[3].fit(x=features_train,\n",
    "                    y=y_train,\n",
    "                    batch_size=256,\n",
    "                    epochs=100,\n",
    "                    verbose=2,\n",
    "                    callbacks=[early_stop, reduce_lr],\n",
    "                    validation_data=(features_test, y_test),\n",
    "                   )\n",
    "               )"
   ]
  },
  {
   "cell_type": "code",
   "execution_count": 10,
   "metadata": {},
   "outputs": [
    {
     "name": "stdout",
     "output_type": "stream",
     "text": [
      "METRICS ON TEST SET\n",
      "              precision    recall  f1-score   support\n",
      "\n",
      "      NORMAL       0.89      0.57      0.69       234\n",
      "   PNEUMONIA       0.78      0.96      0.86       374\n",
      "\n",
      "    accuracy                           0.81       608\n",
      "   macro avg       0.84      0.76      0.78       608\n",
      "weighted avg       0.82      0.81      0.80       608\n",
      "\n",
      "[[133 101]\n",
      " [ 16 358]]\n",
      "METRICS ON TRAIN SET\n",
      "              precision    recall  f1-score   support\n",
      "\n",
      "      NORMAL       0.90      0.86      0.88      1341\n",
      "   PNEUMONIA       0.95      0.97      0.96      3843\n",
      "\n",
      "    accuracy                           0.94      5184\n",
      "   macro avg       0.92      0.91      0.92      5184\n",
      "weighted avg       0.94      0.94      0.94      5184\n",
      "\n",
      "[[1156  185]\n",
      " [ 134 3709]]\n"
     ]
    }
   ],
   "source": [
    "test_model(models[0])"
   ]
  },
  {
   "cell_type": "code",
   "execution_count": 11,
   "metadata": {},
   "outputs": [
    {
     "name": "stdout",
     "output_type": "stream",
     "text": [
      "METRICS ON TEST SET\n",
      "              precision    recall  f1-score   support\n",
      "\n",
      "      NORMAL       0.95      0.67      0.79       234\n",
      "   PNEUMONIA       0.83      0.98      0.90       374\n",
      "\n",
      "    accuracy                           0.86       608\n",
      "   macro avg       0.89      0.82      0.84       608\n",
      "weighted avg       0.87      0.86      0.85       608\n",
      "\n",
      "[[157  77]\n",
      " [  8 366]]\n",
      "METRICS ON TRAIN SET\n",
      "              precision    recall  f1-score   support\n",
      "\n",
      "      NORMAL       0.96      0.95      0.95      1341\n",
      "   PNEUMONIA       0.98      0.99      0.98      3843\n",
      "\n",
      "    accuracy                           0.98      5184\n",
      "   macro avg       0.97      0.97      0.97      5184\n",
      "weighted avg       0.98      0.98      0.98      5184\n",
      "\n",
      "[[1271   70]\n",
      " [  57 3786]]\n"
     ]
    }
   ],
   "source": [
    "test_model(models[1])"
   ]
  },
  {
   "cell_type": "code",
   "execution_count": 12,
   "metadata": {},
   "outputs": [
    {
     "name": "stdout",
     "output_type": "stream",
     "text": [
      "METRICS ON TEST SET\n",
      "              precision    recall  f1-score   support\n",
      "\n",
      "      NORMAL       0.93      0.71      0.81       234\n",
      "   PNEUMONIA       0.84      0.97      0.90       374\n",
      "\n",
      "    accuracy                           0.87       608\n",
      "   macro avg       0.89      0.84      0.86       608\n",
      "weighted avg       0.88      0.87      0.87       608\n",
      "\n",
      "[[167  67]\n",
      " [ 12 362]]\n",
      "METRICS ON TRAIN SET\n",
      "              precision    recall  f1-score   support\n",
      "\n",
      "      NORMAL       0.96      0.97      0.96      1341\n",
      "   PNEUMONIA       0.99      0.99      0.99      3843\n",
      "\n",
      "    accuracy                           0.98      5184\n",
      "   macro avg       0.97      0.98      0.98      5184\n",
      "weighted avg       0.98      0.98      0.98      5184\n",
      "\n",
      "[[1297   44]\n",
      " [  54 3789]]\n"
     ]
    }
   ],
   "source": [
    "test_model(models[2])"
   ]
  },
  {
   "cell_type": "code",
   "execution_count": 13,
   "metadata": {},
   "outputs": [
    {
     "name": "stdout",
     "output_type": "stream",
     "text": [
      "METRICS ON TEST SET\n",
      "              precision    recall  f1-score   support\n",
      "\n",
      "      NORMAL       0.97      0.56      0.71       234\n",
      "   PNEUMONIA       0.78      0.99      0.87       374\n",
      "\n",
      "    accuracy                           0.83       608\n",
      "   macro avg       0.88      0.78      0.79       608\n",
      "weighted avg       0.86      0.83      0.81       608\n",
      "\n",
      "[[132 102]\n",
      " [  4 370]]\n",
      "METRICS ON TRAIN SET\n",
      "              precision    recall  f1-score   support\n",
      "\n",
      "      NORMAL       0.97      0.89      0.93      1341\n",
      "   PNEUMONIA       0.96      0.99      0.98      3843\n",
      "\n",
      "    accuracy                           0.96      5184\n",
      "   macro avg       0.97      0.94      0.95      5184\n",
      "weighted avg       0.96      0.96      0.96      5184\n",
      "\n",
      "[[1190  151]\n",
      " [  33 3810]]\n"
     ]
    }
   ],
   "source": [
    "test_model(models[3])"
   ]
  },
  {
   "cell_type": "markdown",
   "metadata": {},
   "source": [
    "# CONCLUSÕES\n",
    "\n",
    "## Aparentemente, a learningrate ideal ficou em torno de 0.0004 a 0.0001\n",
    "## A regularização prejudicou o aprendizado sem causar grande impacto na generalização\n",
    "## Em primeiro lugar, é preciso buscar um bom resultado no treinamento, para em seguida tentar melhorar a generalização\n",
    "## A utilização de dropout também não causou grande ganho na generalização, impactando negativamente (embora pouco)  o aprendizado\n",
    "## Houve ganho significativo em relação à rede neural simples: (acc: 0,97  - val_acc: 0,88 X acc: 0,95 - val_acc: 0,85) mesmo sem tunning das camadas convolucionais\n",
    "## O desempenho é bem pior na classe NORMAL, provavelmente devido ao dataset estar desbalanceado\n",
    "\n"
   ]
  },
  {
   "cell_type": "markdown",
   "metadata": {},
   "source": [
    "# PRÓXIMOS PASSOS\n",
    "\n",
    "## Utilizar os pesos aprendidos no melhor modelo models[2] para treinar TransferLearning do zero (sem feature extraction) e fazer tunning de algumas camadas convolucionais, utilizando extensamente ImageAugmentation para evitar sobreajuste e compensar desbalancemanto. Utilizar recall de pneumonia como métrica adicional, por ser o mais importante neste caso (tentar algo próximo de 100%)\n",
    "\n",
    "\n"
   ]
  },
  {
   "cell_type": "code",
   "execution_count": 14,
   "metadata": {},
   "outputs": [],
   "source": [
    "models[2].save_weights('../modelschest/02d.h5')"
   ]
  },
  {
   "cell_type": "code",
   "execution_count": null,
   "metadata": {},
   "outputs": [],
   "source": []
  }
 ],
 "metadata": {
  "kernelspec": {
   "display_name": "venv_gym2",
   "language": "python",
   "name": "venv_gym2"
  },
  "language_info": {
   "codemirror_mode": {
    "name": "ipython",
    "version": 3
   },
   "file_extension": ".py",
   "mimetype": "text/x-python",
   "name": "python",
   "nbconvert_exporter": "python",
   "pygments_lexer": "ipython3",
   "version": "3.5.2"
  }
 },
 "nbformat": 4,
 "nbformat_minor": 2
}
