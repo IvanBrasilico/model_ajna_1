{
 "cells": [
  {
   "cell_type": "code",
   "execution_count": 1,
   "metadata": {},
   "outputs": [],
   "source": [
    "import os\n",
    "import zipfile\n",
    "import random\n",
    "import tensorflow as tf\n",
    "from tensorflow.keras.optimizers import Adam\n",
    "from tensorflow.keras.preprocessing.image import ImageDataGenerator\n",
    "\n",
    "from tensorflow.keras.callbacks import EarlyStopping, ModelCheckpoint, \\\n",
    "    ReduceLROnPlateau, TensorBoard\n",
    "\n"
   ]
  },
  {
   "cell_type": "code",
   "execution_count": 2,
   "metadata": {},
   "outputs": [],
   "source": [
    "MODEL_DIR = '../modelschest'\n",
    "LOG_DIR = '../logs/chest/01b/'\n",
    "if not os.path.exists(MODEL_DIR):\n",
    "    os.mkdir(MODEL_DIR)\n",
    "if not os.path.exists(LOG_DIR):\n",
    "    os.mkdir(LOG_DIR)\n",
    "\n",
    "caminho_bases = os.path.join('..', 'bases', 'chest_xray')\n",
    "caminho_train = os.path.join(caminho_bases, 'train')\n",
    "caminho_test = os.path.join(caminho_bases, 'test')\n",
    "SIZE = (224, 224)"
   ]
  },
  {
   "cell_type": "markdown",
   "metadata": {},
   "source": [
    "# Callbacks"
   ]
  },
  {
   "cell_type": "code",
   "execution_count": 3,
   "metadata": {},
   "outputs": [],
   "source": [
    "tensorboard_logs = TensorBoard(log_dir=LOG_DIR, histogram_freq=1,\n",
    "                               write_graph=False, write_images=False,\n",
    "                               update_freq='epoch')\n",
    "mcp_save = ModelCheckpoint(os.path.join(MODEL_DIR, \n",
    "                                        '01b-chest-modelweights.{epoch:02d}-{val_loss:.2f}.hdf5'),\n",
    "                           save_best_only=True, monitor='val_loss', mode='min')\n",
    "early_stop = EarlyStopping(monitor='val_loss', patience=8, verbose=0, mode='min')\n",
    "reduce_lr = ReduceLROnPlateau(monitor='val_loss', factor=0.1, patience=4,\n",
    "                              verbose=1, min_delta=1e-2, mode='min')\n"
   ]
  },
  {
   "cell_type": "markdown",
   "metadata": {},
   "source": [
    "# Model"
   ]
  },
  {
   "cell_type": "code",
   "execution_count": 4,
   "metadata": {},
   "outputs": [
    {
     "name": "stdout",
     "output_type": "stream",
     "text": [
      "Model: \"sequential\"\n",
      "_________________________________________________________________\n",
      "Layer (type)                 Output Shape              Param #   \n",
      "=================================================================\n",
      "conv2d (Conv2D)              (None, 224, 224, 16)      448       \n",
      "_________________________________________________________________\n",
      "max_pooling2d (MaxPooling2D) (None, 112, 112, 16)      0         \n",
      "_________________________________________________________________\n",
      "conv2d_1 (Conv2D)            (None, 112, 112, 32)      4640      \n",
      "_________________________________________________________________\n",
      "max_pooling2d_1 (MaxPooling2 (None, 56, 56, 32)        0         \n",
      "_________________________________________________________________\n",
      "dropout (Dropout)            (None, 56, 56, 32)        0         \n",
      "_________________________________________________________________\n",
      "conv2d_2 (Conv2D)            (None, 56, 56, 64)        18496     \n",
      "_________________________________________________________________\n",
      "max_pooling2d_2 (MaxPooling2 (None, 28, 28, 64)        0         \n",
      "_________________________________________________________________\n",
      "dropout_1 (Dropout)          (None, 28, 28, 64)        0         \n",
      "_________________________________________________________________\n",
      "conv2d_3 (Conv2D)            (None, 28, 28, 128)       73856     \n",
      "_________________________________________________________________\n",
      "max_pooling2d_3 (MaxPooling2 (None, 14, 14, 128)       0         \n",
      "_________________________________________________________________\n",
      "dropout_2 (Dropout)          (None, 14, 14, 128)       0         \n",
      "_________________________________________________________________\n",
      "conv2d_4 (Conv2D)            (None, 12, 12, 128)       147584    \n",
      "_________________________________________________________________\n",
      "max_pooling2d_4 (MaxPooling2 (None, 6, 6, 128)         0         \n",
      "_________________________________________________________________\n",
      "dropout_3 (Dropout)          (None, 6, 6, 128)         0         \n",
      "_________________________________________________________________\n",
      "conv2d_5 (Conv2D)            (None, 4, 4, 256)         295168    \n",
      "_________________________________________________________________\n",
      "flatten (Flatten)            (None, 4096)              0         \n",
      "_________________________________________________________________\n",
      "dense (Dense)                (None, 256)               1048832   \n",
      "_________________________________________________________________\n",
      "dropout_4 (Dropout)          (None, 256)               0         \n",
      "_________________________________________________________________\n",
      "dense_1 (Dense)              (None, 1)                 257       \n",
      "=================================================================\n",
      "Total params: 1,589,281\n",
      "Trainable params: 1,589,281\n",
      "Non-trainable params: 0\n",
      "_________________________________________________________________\n"
     ]
    }
   ],
   "source": [
    "from tensorflow.keras.layers import Dense, Dropout, Flatten\n",
    "from tensorflow.keras.layers import Conv2D, MaxPooling2D\n",
    "\n",
    "model = tf.keras.models.Sequential([\n",
    "  tf.keras.layers.Conv2D(16, (3, 3),\n",
    "                         padding='same',\n",
    "                         activation='relu',\n",
    "                         input_shape=(*SIZE, 3)),\n",
    "  MaxPooling2D(pool_size=(2, 2)),\n",
    "  Conv2D(32, (3, 3), padding='same', activation='relu'),\n",
    "  MaxPooling2D(pool_size=(2, 2)),\n",
    "  Dropout(0.2),\n",
    "  Conv2D(64, (3, 3), padding='same', activation='relu'),\n",
    "  MaxPooling2D(pool_size=(2, 2)),\n",
    "  Dropout(0.25),\n",
    "  Conv2D(128, (3, 3), padding='same', activation='relu'),\n",
    "  MaxPooling2D(pool_size=(2, 2)),\n",
    "  Dropout(0.25),\n",
    "  Conv2D(128, (3, 3), activation='relu'),\n",
    "  MaxPooling2D(pool_size=(2, 2)),\n",
    "  Dropout(0.25),\n",
    "  Conv2D(256, (3, 3), activation='relu'),\n",
    "  Flatten(),\n",
    "  Dense(256, activation='relu', kernel_regularizer=tf.keras.regularizers.l1_l2(l1=0.01, l2=0.01)),\n",
    "  Dropout(0.4),\n",
    "  Dense(1, activation='sigmoid')\n",
    " \n",
    "])\n",
    "\n",
    "model.compile(optimizer=Adam(lr=0.0001), loss='binary_crossentropy', metrics=['acc'])\n",
    "model.summary()"
   ]
  },
  {
   "cell_type": "markdown",
   "metadata": {},
   "source": [
    "# Training and validation"
   ]
  },
  {
   "cell_type": "code",
   "execution_count": 5,
   "metadata": {},
   "outputs": [
    {
     "name": "stdout",
     "output_type": "stream",
     "text": [
      "Found 5216 images belonging to 2 classes.\n",
      "Found 624 images belonging to 2 classes.\n"
     ]
    }
   ],
   "source": [
    "train_datagen = ImageDataGenerator(\n",
    "    rescale=1./255,\n",
    "    width_shift_range=0.1,\n",
    "    height_shift_range=0.1,\n",
    "    brightness_range=[0.9, 1.1],\n",
    "    fill_mode='nearest',\n",
    "    horizontal_flip=True,\n",
    ")\n",
    "train_generator = train_datagen.flow_from_directory(\n",
    "    caminho_train,\n",
    "    target_size=SIZE,\n",
    "    batch_size=64,\n",
    "    class_mode='binary'\n",
    ")\n",
    "\n",
    "validation_datagen = ImageDataGenerator(\n",
    "    rescale=1./255,\n",
    "    # brightness_range=[0.9, 1.1],\n",
    "    fill_mode='nearest',\n",
    "    horizontal_flip=True,\n",
    ")\n",
    "\n",
    "validation_generator = validation_datagen.flow_from_directory(\n",
    "    caminho_test,\n",
    "    target_size=SIZE,\n",
    "    batch_size=32,\n",
    "    class_mode='binary'\n",
    ")"
   ]
  },
  {
   "cell_type": "code",
   "execution_count": 6,
   "metadata": {},
   "outputs": [],
   "source": [
    "epoch = 48\n",
    "val_loss = 0.42\n",
    "model.load_weights(\n",
    "    os.path.join(MODEL_DIR,\n",
    "                 '01b-chest-modelweights.{:02d}-{:.2f}.hdf5'.format(epoch, val_loss)\n",
    "                ))\n"
   ]
  },
  {
   "cell_type": "code",
   "execution_count": 13,
   "metadata": {},
   "outputs": [
    {
     "name": "stdout",
     "output_type": "stream",
     "text": [
      "Epoch 31/50\n",
      "82/82 [==============================] - 169s 2s/step - loss: 0.2342 - acc: 0.9379 - val_loss: 0.4505 - val_acc: 0.8301\n",
      "Epoch 32/50\n",
      "82/82 [==============================] - 133s 2s/step - loss: 0.2353 - acc: 0.9377 - val_loss: 0.4461 - val_acc: 0.8301\n",
      "Epoch 33/50\n",
      "82/82 [==============================] - 130s 2s/step - loss: 0.2293 - acc: 0.9385 - val_loss: 0.4443 - val_acc: 0.8365\n",
      "Epoch 34/50\n",
      "82/82 [==============================] - 133s 2s/step - loss: 0.2330 - acc: 0.9360 - val_loss: 0.4303 - val_acc: 0.8397\n",
      "Epoch 35/50\n",
      "82/82 [==============================] - 136s 2s/step - loss: 0.2333 - acc: 0.9348 - val_loss: 0.4763 - val_acc: 0.8157\n",
      "Epoch 36/50\n",
      "82/82 [==============================] - 128s 2s/step - loss: 0.2284 - acc: 0.9400 - val_loss: 0.4692 - val_acc: 0.8141\n",
      "Epoch 37/50\n",
      "82/82 [==============================] - 137s 2s/step - loss: 0.2297 - acc: 0.9392 - val_loss: 0.4634 - val_acc: 0.8189\n",
      "Epoch 38/50\n",
      "81/82 [============================>.] - ETA: 1s - loss: 0.2282 - acc: 0.9394\n",
      "Epoch 00038: ReduceLROnPlateau reducing learning rate to 9.999999747378752e-07.\n",
      "82/82 [==============================] - 141s 2s/step - loss: 0.2297 - acc: 0.9388 - val_loss: 0.4284 - val_acc: 0.8397\n",
      "Epoch 39/50\n",
      "82/82 [==============================] - 126s 2s/step - loss: 0.2136 - acc: 0.9381 - val_loss: 0.4321 - val_acc: 0.8285\n",
      "Epoch 40/50\n",
      "82/82 [==============================] - 126s 2s/step - loss: 0.2103 - acc: 0.9369 - val_loss: 0.4377 - val_acc: 0.8205\n",
      "Epoch 41/50\n",
      "82/82 [==============================] - 125s 2s/step - loss: 0.2120 - acc: 0.9346 - val_loss: 0.4260 - val_acc: 0.8349\n",
      "Epoch 42/50\n",
      "81/82 [============================>.] - ETA: 1s - loss: 0.2061 - acc: 0.9400\n",
      "Epoch 00042: ReduceLROnPlateau reducing learning rate to 9.999999974752428e-08.\n",
      "82/82 [==============================] - 126s 2s/step - loss: 0.2059 - acc: 0.9400 - val_loss: 0.4264 - val_acc: 0.8317\n",
      "Epoch 43/50\n",
      "82/82 [==============================] - 125s 2s/step - loss: 0.2051 - acc: 0.9398 - val_loss: 0.4263 - val_acc: 0.8333\n",
      "Epoch 44/50\n",
      "82/82 [==============================] - 128s 2s/step - loss: 0.2046 - acc: 0.9429 - val_loss: 0.4296 - val_acc: 0.8317\n",
      "Epoch 45/50\n",
      "82/82 [==============================] - 126s 2s/step - loss: 0.2047 - acc: 0.9400 - val_loss: 0.4251 - val_acc: 0.8237\n",
      "Epoch 46/50\n",
      "81/82 [============================>.] - ETA: 1s - loss: 0.2123 - acc: 0.9373\n",
      "Epoch 00046: ReduceLROnPlateau reducing learning rate to 1.0000000116860975e-08.\n",
      "82/82 [==============================] - 127s 2s/step - loss: 0.2128 - acc: 0.9371 - val_loss: 0.4284 - val_acc: 0.8269\n",
      "Epoch 47/50\n",
      "82/82 [==============================] - 126s 2s/step - loss: 0.2005 - acc: 0.9415 - val_loss: 0.4272 - val_acc: 0.8285\n",
      "Epoch 48/50\n",
      "82/82 [==============================] - 125s 2s/step - loss: 0.2044 - acc: 0.9377 - val_loss: 0.4238 - val_acc: 0.8349\n",
      "Epoch 49/50\n",
      "82/82 [==============================] - 126s 2s/step - loss: 0.2101 - acc: 0.9344 - val_loss: 0.4261 - val_acc: 0.8349\n",
      "Epoch 50/50\n",
      "81/82 [============================>.] - ETA: 1s - loss: 0.2068 - acc: 0.9379\n",
      "Epoch 00050: ReduceLROnPlateau reducing learning rate to 9.999999939225292e-10.\n",
      "82/82 [==============================] - 124s 2s/step - loss: 0.2061 - acc: 0.9383 - val_loss: 0.4280 - val_acc: 0.8333\n"
     ]
    }
   ],
   "source": [
    "history = model.fit_generator(train_generator,\n",
    "                              initial_epoch=epoch,\n",
    "                              epochs=50,\n",
    "                              verbose=1,\n",
    "                              callbacks=[early_stop, mcp_save, reduce_lr, tensorboard_logs],\n",
    "                              validation_data=validation_generator)\n"
   ]
  },
  {
   "cell_type": "markdown",
   "metadata": {},
   "source": [
    "# Treinar novamente com lr maior"
   ]
  },
  {
   "cell_type": "code",
   "execution_count": null,
   "metadata": {},
   "outputs": [
    {
     "name": "stdout",
     "output_type": "stream",
     "text": [
      "Epoch 1/50\n"
     ]
    },
    {
     "name": "stderr",
     "output_type": "stream",
     "text": [
      "WARNING: Logging before flag parsing goes to stderr.\n",
      "W0704 14:33:07.582016 140577737385728 deprecation.py:323] From /home/ivan/pybr/projeto/venv/lib/python3.5/site-packages/tensorflow/python/ops/math_grad.py:1250: add_dispatch_support.<locals>.wrapper (from tensorflow.python.ops.array_ops) is deprecated and will be removed in a future version.\n",
      "Instructions for updating:\n",
      "Use tf.where in 2.0, which has the same broadcast rule as np.where\n"
     ]
    },
    {
     "name": "stdout",
     "output_type": "stream",
     "text": [
      "\r",
      " 1/82 [..............................] - ETA: 9:00 - loss: 0.1781 - acc: 0.9531"
     ]
    },
    {
     "name": "stderr",
     "output_type": "stream",
     "text": [
      "W0704 14:33:12.778831 140577737385728 callbacks.py:241] Method (on_train_batch_end) is slow compared to the batch update (0.464254). Check your callbacks.\n"
     ]
    },
    {
     "name": "stdout",
     "output_type": "stream",
     "text": [
      "82/82 [==============================] - 157s 2s/step - loss: 6.5555 - acc: 0.6413 - val_loss: 1.6545 - val_acc: 0.7340\n",
      "Epoch 2/50\n",
      "81/82 [============================>.] - ETA: 1s - loss: 1.6674 - acc: 0.8259\n",
      "Epoch 00002: ReduceLROnPlateau reducing learning rate to 0.0003333000158309005.\n",
      "82/82 [==============================] - 147s 2s/step - loss: 1.6693 - acc: 0.8265 - val_loss: 1.9700 - val_acc: 0.7965\n",
      "Epoch 3/50\n",
      "80/82 [============================>.] - ETA: 3s - loss: 0.8666 - acc: 0.8915"
     ]
    }
   ],
   "source": [
    "model.compile(optimizer=Adam(lr=0.001), loss='binary_crossentropy', metrics=['acc'])\n",
    "reduce_lr = ReduceLROnPlateau(monitor='val_loss', factor=0.3333, patience=1,\n",
    "                              verbose=1, min_delta=0.1, mode='min')\n",
    "\n",
    "history = model.fit_generator(train_generator,\n",
    "                              initial_epoch=0,\n",
    "                              epochs=50,\n",
    "                              verbose=1,\n",
    "                              callbacks=[early_stop, mcp_save, reduce_lr, tensorboard_logs],\n",
    "                              validation_data=validation_generator)\n"
   ]
  },
  {
   "cell_type": "code",
   "execution_count": null,
   "metadata": {},
   "outputs": [],
   "source": []
  }
 ],
 "metadata": {
  "kernelspec": {
   "display_name": "venv_gym2",
   "language": "python",
   "name": "venv_gym2"
  },
  "language_info": {
   "codemirror_mode": {
    "name": "ipython",
    "version": 3
   },
   "file_extension": ".py",
   "mimetype": "text/x-python",
   "name": "python",
   "nbconvert_exporter": "python",
   "pygments_lexer": "ipython3",
   "version": "3.5.2"
  }
 },
 "nbformat": 4,
 "nbformat_minor": 2
}
