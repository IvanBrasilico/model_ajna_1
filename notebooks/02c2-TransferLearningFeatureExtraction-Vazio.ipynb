{
 "cells": [
  {
   "cell_type": "markdown",
   "metadata": {},
   "source": [
    "# Baseado nos testes anteriores com esta base e com a base ChestXRay:\n",
    "\n",
    "* Extrair features para numpy com imageaugmented bem \"suave\" (teste 01b3)\n",
    "   * Rodar com maxpool e com avgpool para poder comparar\n",
    "* Rodar keras_tuner e comparar resultados com melhor resultado da rede simples\n",
    "* Criar matriz e testar busca interativamente com as features da imagenet\n",
    "* Reduzir com PCA ou T-SNE e testar se prejudica busca\n",
    "* Testar clusterização (para colocar busca em produção mesmo com dezenas de milhões de imagens)\n",
    "\n",
    "### Os resultados da rede simples treinada do zero foram bons, mas caso os resultados com rede pré treinada na imagenet sejam bons, pode ser um método universal para vários classificadores, buscas e análises pré extrair features via rede pré treinada, salvando em Banco de Dados."
   ]
  },
  {
   "cell_type": "code",
   "execution_count": 5,
   "metadata": {},
   "outputs": [],
   "source": [
    "import numpy as np\n",
    "import os\n",
    "import tensorflow as tf\n",
    "from tensorflow.keras.applications.densenet import DenseNet121\n",
    "from tensorflow.keras.preprocessing.image import ImageDataGenerator\n",
    "from tensorflow.keras.callbacks import EarlyStopping, ModelCheckpoint, \\\n",
    "    ReduceLROnPlateau, TensorBoard\n",
    "from tensorflow.keras.optimizers import RMSprop\n",
    "\n",
    "from utils import get_imagens_erro, report, plot_errors\n",
    "import time\n",
    "\n",
    "\n",
    "caminho_bases = os.path.join('..', 'bases', 'vazios')\n",
    "caminho_train = os.path.join(caminho_bases, 'train')\n",
    "caminho_test = os.path.join(caminho_bases, 'test')\n",
    "\n",
    "MODEL_DIR = '../models_featureextraction'\n",
    "LOG_DIR = '../logs/02c2/'\n",
    "SIZE = (224, 224)\n",
    "destino_bases = os.path.join('..', 'bases', 'vazios_featureextraction')\n",
    "if not os.path.exists(MODEL_DIR):\n",
    "    os.mkdir(MODEL_DIR)\n",
    "if not os.path.exists(caminho_bases):\n",
    "    os.mkdir(caminho_bases)\n"
   ]
  },
  {
   "cell_type": "markdown",
   "metadata": {},
   "source": [
    "# Callbacks"
   ]
  },
  {
   "cell_type": "code",
   "execution_count": 106,
   "metadata": {},
   "outputs": [],
   "source": [
    "tensorboard_logs = TensorBoard(log_dir=LOG_DIR, histogram_freq=1,\n",
    "                               write_graph=False, write_images=False,\n",
    "                               update_freq='epoch')\n",
    "mcp_save = ModelCheckpoint(os.path.join(MODEL_DIR, \n",
    "                                        'Transfermodelweights02c2.{epoch:02d}-{val_loss:.2f}.hdf5'),\n",
    "                           save_best_only=True, monitor='val_loss', mode='min')\n",
    "early_stop = EarlyStopping(monitor='val_loss', patience=10, verbose=0, mode='min')\n",
    "reduce_lr = ReduceLROnPlateau(monitor='val_loss', factor=0.5, patience=2,\n",
    "                              verbose=1, mode='min')\n"
   ]
  },
  {
   "cell_type": "markdown",
   "metadata": {},
   "source": [
    "# Model for feature extraction"
   ]
  },
  {
   "cell_type": "code",
   "execution_count": 7,
   "metadata": {},
   "outputs": [],
   "source": [
    "# create the base pre-trained model\n",
    "base_model = DenseNet121(weights='imagenet',\n",
    "                         input_shape=(*SIZE, 3), \n",
    "                         include_top=False,\n",
    "                         pooling='max')"
   ]
  },
  {
   "cell_type": "markdown",
   "metadata": {},
   "source": [
    "# DataGenerators"
   ]
  },
  {
   "cell_type": "code",
   "execution_count": 8,
   "metadata": {},
   "outputs": [
    {
     "name": "stdout",
     "output_type": "stream",
     "text": [
      "Found 20845 images belonging to 2 classes.\n"
     ]
    }
   ],
   "source": [
    "train_datagen = ImageDataGenerator(\n",
    "    rescale=1./255,\n",
    "    width_shift_range=0.1,\n",
    "    height_shift_range=0.05,\n",
    "    brightness_range=[0.95, 1.05],\n",
    "    fill_mode='nearest',\n",
    "    horizontal_flip=True,\n",
    ")\n",
    "train_generator = train_datagen.flow_from_directory(\n",
    "    caminho_train,\n",
    "    target_size=SIZE,\n",
    "    batch_size=64,\n",
    "    class_mode='binary',\n",
    "    shuffle=False\n",
    ")"
   ]
  },
  {
   "cell_type": "code",
   "execution_count": 9,
   "metadata": {},
   "outputs": [
    {
     "name": "stdout",
     "output_type": "stream",
     "text": [
      "Found 2317 images belonging to 2 classes.\n"
     ]
    }
   ],
   "source": [
    "validation_datagen = ImageDataGenerator(\n",
    "    rescale=1./255,\n",
    "    width_shift_range=0.1,\n",
    "    height_shift_range=0.05,\n",
    "    brightness_range=[0.95, 1.05],\n",
    "    fill_mode='nearest',\n",
    "    horizontal_flip=True,\n",
    ")\n",
    "\n",
    "validation_generator = validation_datagen.flow_from_directory(\n",
    "    caminho_test,\n",
    "    target_size=SIZE,\n",
    "    batch_size=64,\n",
    "    class_mode='binary',\n",
    "    shuffle=False\n",
    ")"
   ]
  },
  {
   "cell_type": "markdown",
   "metadata": {},
   "source": [
    "# Extract features to np"
   ]
  },
  {
   "cell_type": "code",
   "execution_count": 10,
   "metadata": {},
   "outputs": [],
   "source": [
    "FEATURES_DIR = destino_bases"
   ]
  },
  {
   "cell_type": "code",
   "execution_count": 4,
   "metadata": {},
   "outputs": [],
   "source": [
    "# Se tiver sido gerado anteriormente, basta ler do disco\n",
    "with open(os.path.join(FEATURES_DIR, 'features_train.np'), 'rb') as features_in:\n",
    "    features_train = np.load(features_in)\n",
    "with open(os.path.join(FEATURES_DIR, 'y_train.np'), 'rb') as y_in:\n",
    "    y_train = np.load(y_in)\n",
    "with open(os.path.join(FEATURES_DIR, 'features_test.np'), 'rb') as features_in:\n",
    "    features_test = np.load(features_in)\n",
    "with open(os.path.join(FEATURES_DIR, 'y_test.np'), 'rb') as y_in:\n",
    "    y_test = np.load(y_in)"
   ]
  },
  {
   "cell_type": "code",
   "execution_count": 35,
   "metadata": {},
   "outputs": [],
   "source": [
    "def extract_features(generator, model):\n",
    "    generator.reset()\n",
    "    n_images = len(generator.filenames)\n",
    "    batch_size = generator.batch_size\n",
    "    m = batch_size *  (n_images // batch_size)  # Arredondar para não ficar espaço vazio\n",
    "    n = model.output.shape[1]\n",
    "    features = np.zeros((m, n), np.float32)\n",
    "    y_ = np.zeros((m, 1), np.float32)\n",
    "    print(n_images, m, batch_size, m // batch_size)\n",
    "    for ind in range(m // batch_size):\n",
    "        batch, y_batch = next(generator)\n",
    "        features_batch = base_model.predict(batch)\n",
    "        features[ind * batch_size: (ind * batch_size) + batch_size, :] = features_batch\n",
    "        y_[ind * batch_size: (ind * batch_size) + batch_size, 0] = y_batch\n",
    "    print('last batch setted elements %s:%s' % ((ind * batch_size), ((ind * batch_size) + batch_size)))\n",
    "    return features, y_"
   ]
  },
  {
   "cell_type": "code",
   "execution_count": 37,
   "metadata": {},
   "outputs": [
    {
     "name": "stdout",
     "output_type": "stream",
     "text": [
      "20845 20800 64 325\n",
      "last batch setted elements 20736:20800\n"
     ]
    }
   ],
   "source": [
    "features_train, y_train = extract_features(train_generator, base_model)"
   ]
  },
  {
   "cell_type": "code",
   "execution_count": 38,
   "metadata": {},
   "outputs": [
    {
     "name": "stdout",
     "output_type": "stream",
     "text": [
      "(20800, 1024)\n",
      "(20800, 1)\n"
     ]
    }
   ],
   "source": [
    "print(features_train.shape)\n",
    "print(y_train.shape)"
   ]
  },
  {
   "cell_type": "code",
   "execution_count": 36,
   "metadata": {},
   "outputs": [
    {
     "name": "stdout",
     "output_type": "stream",
     "text": [
      "2317 2304 64 36\n",
      "last batch setted elements 2240:2304\n"
     ]
    }
   ],
   "source": [
    "features_test, y_test = extract_features(validation_generator, base_model)"
   ]
  },
  {
   "cell_type": "code",
   "execution_count": 39,
   "metadata": {},
   "outputs": [
    {
     "name": "stdout",
     "output_type": "stream",
     "text": [
      "(2304, 1024)\n",
      "(2304, 1)\n"
     ]
    }
   ],
   "source": [
    "print(features_test.shape)\n",
    "print(y_test.shape)"
   ]
  },
  {
   "cell_type": "code",
   "execution_count": 40,
   "metadata": {},
   "outputs": [],
   "source": [
    "with open(os.path.join(FEATURES_DIR, 'features_train.np'), 'bw') as features_out:\n",
    "    np.save(features_out, features_train)\n",
    "with open(os.path.join(FEATURES_DIR, 'y_train.np'), 'bw') as y_out:\n",
    "    np.save(y_out, y_train)"
   ]
  },
  {
   "cell_type": "code",
   "execution_count": 41,
   "metadata": {},
   "outputs": [],
   "source": [
    "with open(os.path.join(FEATURES_DIR, 'features_test.np'), 'bw') as features_out:\n",
    "    np.save(features_out, features_test)\n",
    "with open(os.path.join(FEATURES_DIR, 'y_test.np'), 'bw') as y_out:\n",
    "    np.save(y_out, y_test)"
   ]
  },
  {
   "cell_type": "markdown",
   "metadata": {},
   "source": [
    "# Model for feature extraction (AvgPooling)"
   ]
  },
  {
   "cell_type": "code",
   "execution_count": 42,
   "metadata": {},
   "outputs": [],
   "source": [
    "# create the base pre-trained model\n",
    "base_model_avg = DenseNet121(weights='imagenet',\n",
    "                         input_shape=(*SIZE, 3), \n",
    "                         include_top=False,\n",
    "                         pooling='avg')"
   ]
  },
  {
   "cell_type": "markdown",
   "metadata": {},
   "source": [
    "# Extract features to np (AvgPooling)"
   ]
  },
  {
   "cell_type": "code",
   "execution_count": null,
   "metadata": {},
   "outputs": [],
   "source": [
    "# Se tiver sido gerado anteriormente, basta ler do disco\n",
    "with open(os.path.join(FEATURES_DIR, 'features_train_avg.np'), 'rb') as features_in:\n",
    "    features_train_avg = np.load(features_in)\n",
    "with open(os.path.join(FEATURES_DIR, 'y_train_avg.np'), 'rb') as y_in:\n",
    "    y_train_avg = np.load(y_in)\n",
    "with open(os.path.join(FEATURES_DIR, 'features_test_avg.np'), 'rb') as features_in:\n",
    "    features_test_avg = np.load(features_in)\n",
    "with open(os.path.join(FEATURES_DIR, 'y_test_avg.np'), 'rb') as y_in:\n",
    "    y_test_avg = np.load(y_in)"
   ]
  },
  {
   "cell_type": "code",
   "execution_count": 43,
   "metadata": {},
   "outputs": [
    {
     "name": "stdout",
     "output_type": "stream",
     "text": [
      "20845 20800 64 325\n",
      "last batch setted elements 20736:20800\n"
     ]
    }
   ],
   "source": [
    "features_train_avg, y_train_avg = extract_features(train_generator, base_model_avg)"
   ]
  },
  {
   "cell_type": "code",
   "execution_count": 44,
   "metadata": {},
   "outputs": [
    {
     "name": "stdout",
     "output_type": "stream",
     "text": [
      "(20800, 1024)\n",
      "(20800, 1)\n"
     ]
    }
   ],
   "source": [
    "print(features_train_avg.shape)\n",
    "print(y_train_avg.shape)"
   ]
  },
  {
   "cell_type": "code",
   "execution_count": 45,
   "metadata": {},
   "outputs": [
    {
     "name": "stdout",
     "output_type": "stream",
     "text": [
      "2317 2304 64 36\n",
      "last batch setted elements 2240:2304\n"
     ]
    }
   ],
   "source": [
    "features_test_avg, y_test_avg = extract_features(validation_generator, base_model_avg)"
   ]
  },
  {
   "cell_type": "code",
   "execution_count": 46,
   "metadata": {},
   "outputs": [
    {
     "name": "stdout",
     "output_type": "stream",
     "text": [
      "(2304, 1024)\n",
      "(2304, 1)\n"
     ]
    }
   ],
   "source": [
    "print(features_test_avg.shape)\n",
    "print(y_test_avg.shape)"
   ]
  },
  {
   "cell_type": "code",
   "execution_count": 47,
   "metadata": {},
   "outputs": [],
   "source": [
    "with open(os.path.join(FEATURES_DIR, 'features_train_avg.np'), 'bw') as features_out:\n",
    "    np.save(features_out, features_train_avg)\n",
    "with open(os.path.join(FEATURES_DIR, 'y_train_avg.np'), 'bw') as y_out:\n",
    "    np.save(y_out, y_train_avg)"
   ]
  },
  {
   "cell_type": "code",
   "execution_count": 48,
   "metadata": {},
   "outputs": [],
   "source": [
    "with open(os.path.join(FEATURES_DIR, 'features_test_avg.np'), 'bw') as features_out:\n",
    "    np.save(features_out, features_test_avg)\n",
    "with open(os.path.join(FEATURES_DIR, 'y_test_avg.np'), 'bw') as y_out:\n",
    "    np.save(y_out, y_test_avg)"
   ]
  },
  {
   "cell_type": "markdown",
   "metadata": {},
   "source": [
    "# Liberar memória"
   ]
  },
  {
   "cell_type": "code",
   "execution_count": 49,
   "metadata": {},
   "outputs": [],
   "source": [
    "del base_model\n",
    "del base_model_avg"
   ]
  },
  {
   "cell_type": "markdown",
   "metadata": {},
   "source": [
    "# Model RandomSearch KerasTuner"
   ]
  },
  {
   "cell_type": "code",
   "execution_count": 86,
   "metadata": {},
   "outputs": [],
   "source": [
    "from kerastuner.tuners import RandomSearch\n",
    "\n",
    "def build_model(hp):\n",
    "    model = tf.keras.Sequential()\n",
    "    model.add(tf.keras.layers.Dense(units=128,\n",
    "                           activation='relu',\n",
    "                           input_shape=(1024,)))\n",
    "    model.add(tf.keras.layers.Dropout(0.2))\n",
    "    model.add(tf.keras.layers.Dense(units=128,\n",
    "                           activation='relu'))\n",
    "    model.add(tf.keras.layers.Dropout(hp.Choice('lrate',\n",
    "                                      values=[0.2, 0.4])))\n",
    "    model.add(tf.keras.layers.Dense(1, activation='sigmoid'))\n",
    "    model.compile(\n",
    "        optimizer=tf.keras.optimizers.Adam(\n",
    "            hp.Choice('learning_rate',\n",
    "                      values=[0.0001, 0.00004, 0.00001])),\n",
    "        loss='binary_crossentropy',\n",
    "        metrics=['accuracy'])\n",
    "    return model"
   ]
  },
  {
   "cell_type": "code",
   "execution_count": 79,
   "metadata": {},
   "outputs": [],
   "source": [
    "tuner = RandomSearch(\n",
    "    build_model,\n",
    "    objective='val_accuracy',\n",
    "    max_trials=4,\n",
    "    executions_per_trial=2,\n",
    "    directory='kerastunerlogs',\n",
    "    project_name='Vazios')"
   ]
  },
  {
   "cell_type": "code",
   "execution_count": 80,
   "metadata": {},
   "outputs": [
    {
     "data": {
      "text/html": [
       "<span style=\"color:#4527A0\"><h1 style=\"font-size:18px\">Search space summary</h1></span>"
      ],
      "text/plain": [
       "<IPython.core.display.HTML object>"
      ]
     },
     "metadata": {},
     "output_type": "display_data"
    },
    {
     "data": {
      "text/html": [
       "<span style=\"color:cyan\"> |-Default search space size: 1</span>"
      ],
      "text/plain": [
       "<IPython.core.display.HTML object>"
      ]
     },
     "metadata": {},
     "output_type": "display_data"
    },
    {
     "data": {
      "text/html": [
       "<span style=\"color:#7E57C2\"><h2 style=\"font-size:16px\">learning_rate (Choice)</h2></span>"
      ],
      "text/plain": [
       "<IPython.core.display.HTML object>"
      ]
     },
     "metadata": {},
     "output_type": "display_data"
    },
    {
     "data": {
      "text/html": [
       "<span style=\"color:cyan\"> |-default: 0.0001</span>"
      ],
      "text/plain": [
       "<IPython.core.display.HTML object>"
      ]
     },
     "metadata": {},
     "output_type": "display_data"
    },
    {
     "data": {
      "text/html": [
       "<span style=\"color:blue\"> |-values: [0.0001, 4e-05, 1e-05]</span>"
      ],
      "text/plain": [
       "<IPython.core.display.HTML object>"
      ]
     },
     "metadata": {},
     "output_type": "display_data"
    }
   ],
   "source": [
    "tuner.search_space_summary()"
   ]
  },
  {
   "cell_type": "markdown",
   "metadata": {},
   "source": [
    "# Tuner - Teste com MaxPool"
   ]
  },
  {
   "cell_type": "code",
   "execution_count": 81,
   "metadata": {},
   "outputs": [
    {
     "data": {
      "text/html": [
       "<span style=\"color:#4527A0\"><h1 style=\"font-size:18px\">New model</h1></span>"
      ],
      "text/plain": [
       "<IPython.core.display.HTML object>"
      ]
     },
     "metadata": {},
     "output_type": "display_data"
    },
    {
     "data": {
      "text/html": [
       "<span style=\"color:#4527A0\"><h1 style=\"font-size:18px\">Trial summary</h1></span>"
      ],
      "text/plain": [
       "<IPython.core.display.HTML object>"
      ]
     },
     "metadata": {},
     "output_type": "display_data"
    },
    {
     "data": {
      "text/html": [
       "<span style=\"color:#7E57C2\"><h2 style=\"font-size:16px\">Hp values:</h2></span>"
      ],
      "text/plain": [
       "<IPython.core.display.HTML object>"
      ]
     },
     "metadata": {},
     "output_type": "display_data"
    },
    {
     "data": {
      "text/html": [
       "<span style=\"color:cyan\"> |-learning_rate: 4e-05</span>"
      ],
      "text/plain": [
       "<IPython.core.display.HTML object>"
      ]
     },
     "metadata": {},
     "output_type": "display_data"
    },
    {
     "data": {
      "text/html": [
       "<span style=\"color:#7E57C2\"><h2 style=\"font-size:16px\">Execution 1/2</h2></span>"
      ],
      "text/plain": [
       "<IPython.core.display.HTML object>"
      ]
     },
     "metadata": {},
     "output_type": "display_data"
    },
    {
     "data": {
      "application/vnd.jupyter.widget-view+json": {
       "model_id": "96e2a65c871447bb84a7ecefd0e0d226",
       "version_major": 2,
       "version_minor": 0
      },
      "text/plain": [
       "HBox(children=(IntProgress(value=0, max=650), HTML(value='')))"
      ]
     },
     "metadata": {},
     "output_type": "display_data"
    },
    {
     "data": {
      "application/vnd.jupyter.widget-view+json": {
       "model_id": "9af64c55bd444f70a8c1138a8c06d279",
       "version_major": 2,
       "version_minor": 0
      },
      "text/plain": [
       "HBox(children=(IntProgress(value=0, max=650), HTML(value='')))"
      ]
     },
     "metadata": {},
     "output_type": "display_data"
    },
    {
     "data": {
      "application/vnd.jupyter.widget-view+json": {
       "model_id": "6b87268791834e44a40e9574a329a054",
       "version_major": 2,
       "version_minor": 0
      },
      "text/plain": [
       "HBox(children=(IntProgress(value=0, max=650), HTML(value='')))"
      ]
     },
     "metadata": {},
     "output_type": "display_data"
    },
    {
     "data": {
      "application/vnd.jupyter.widget-view+json": {
       "model_id": "49543cd494a8406582e3ab7d81f96da6",
       "version_major": 2,
       "version_minor": 0
      },
      "text/plain": [
       "HBox(children=(IntProgress(value=0, max=650), HTML(value='')))"
      ]
     },
     "metadata": {},
     "output_type": "display_data"
    },
    {
     "data": {
      "application/vnd.jupyter.widget-view+json": {
       "model_id": "e211eb46e479422091ebde13a2d35dcf",
       "version_major": 2,
       "version_minor": 0
      },
      "text/plain": [
       "HBox(children=(IntProgress(value=0, max=650), HTML(value='')))"
      ]
     },
     "metadata": {},
     "output_type": "display_data"
    },
    {
     "data": {
      "application/vnd.jupyter.widget-view+json": {
       "model_id": "2ec09681eef246b9b09c147caecfa42c",
       "version_major": 2,
       "version_minor": 0
      },
      "text/plain": [
       "HBox(children=(IntProgress(value=0, max=650), HTML(value='')))"
      ]
     },
     "metadata": {},
     "output_type": "display_data"
    },
    {
     "data": {
      "application/vnd.jupyter.widget-view+json": {
       "model_id": "8093a94c7fa34f989c537c4bf0c8fbf7",
       "version_major": 2,
       "version_minor": 0
      },
      "text/plain": [
       "HBox(children=(IntProgress(value=0, max=650), HTML(value='')))"
      ]
     },
     "metadata": {},
     "output_type": "display_data"
    },
    {
     "data": {
      "application/vnd.jupyter.widget-view+json": {
       "model_id": "5389b022dbe64539bdba3a84226e1b2b",
       "version_major": 2,
       "version_minor": 0
      },
      "text/plain": [
       "HBox(children=(IntProgress(value=0, max=650), HTML(value='')))"
      ]
     },
     "metadata": {},
     "output_type": "display_data"
    },
    {
     "data": {
      "application/vnd.jupyter.widget-view+json": {
       "model_id": "66397e0d60c64fd092f9f95809d9803c",
       "version_major": 2,
       "version_minor": 0
      },
      "text/plain": [
       "HBox(children=(IntProgress(value=0, max=650), HTML(value='')))"
      ]
     },
     "metadata": {},
     "output_type": "display_data"
    },
    {
     "data": {
      "application/vnd.jupyter.widget-view+json": {
       "model_id": "52fa180dfa0443f8ac04038975bb80fd",
       "version_major": 2,
       "version_minor": 0
      },
      "text/plain": [
       "HBox(children=(IntProgress(value=0, max=650), HTML(value='')))"
      ]
     },
     "metadata": {},
     "output_type": "display_data"
    },
    {
     "data": {
      "text/html": [
       "<span style=\"color:#7E57C2\"><h2 style=\"font-size:16px\">Execution 2/2</h2></span>"
      ],
      "text/plain": [
       "<IPython.core.display.HTML object>"
      ]
     },
     "metadata": {},
     "output_type": "display_data"
    },
    {
     "data": {
      "application/vnd.jupyter.widget-view+json": {
       "model_id": "07a570c739d740d9bfba4b2a8b57ca86",
       "version_major": 2,
       "version_minor": 0
      },
      "text/plain": [
       "HBox(children=(IntProgress(value=0, max=650), HTML(value='')))"
      ]
     },
     "metadata": {},
     "output_type": "display_data"
    },
    {
     "data": {
      "application/vnd.jupyter.widget-view+json": {
       "model_id": "73c362f76f8f42b09ee15467a68e7d77",
       "version_major": 2,
       "version_minor": 0
      },
      "text/plain": [
       "HBox(children=(IntProgress(value=0, max=650), HTML(value='')))"
      ]
     },
     "metadata": {},
     "output_type": "display_data"
    },
    {
     "data": {
      "application/vnd.jupyter.widget-view+json": {
       "model_id": "76063c72f2054f7c8961eb9788e8bed7",
       "version_major": 2,
       "version_minor": 0
      },
      "text/plain": [
       "HBox(children=(IntProgress(value=0, max=650), HTML(value='')))"
      ]
     },
     "metadata": {},
     "output_type": "display_data"
    },
    {
     "data": {
      "application/vnd.jupyter.widget-view+json": {
       "model_id": "e25e758895dc48fcaaa4854d84ca8673",
       "version_major": 2,
       "version_minor": 0
      },
      "text/plain": [
       "HBox(children=(IntProgress(value=0, max=650), HTML(value='')))"
      ]
     },
     "metadata": {},
     "output_type": "display_data"
    },
    {
     "data": {
      "application/vnd.jupyter.widget-view+json": {
       "model_id": "dc8ab620bbf34424bed0197d937326f5",
       "version_major": 2,
       "version_minor": 0
      },
      "text/plain": [
       "HBox(children=(IntProgress(value=0, max=650), HTML(value='')))"
      ]
     },
     "metadata": {},
     "output_type": "display_data"
    },
    {
     "name": "stderr",
     "output_type": "stream",
     "text": [
      "W0710 12:10:39.228868 139904768079616 callbacks.py:241] Method (on_train_batch_end) is slow compared to the batch update (0.157958). Check your callbacks.\n",
      "W0710 12:10:39.291945 139904768079616 callbacks.py:241] Method (on_train_batch_end) is slow compared to the batch update (0.104327). Check your callbacks.\n"
     ]
    },
    {
     "data": {
      "application/vnd.jupyter.widget-view+json": {
       "model_id": "17c35b9e7e3d495490d0967908ed8ddc",
       "version_major": 2,
       "version_minor": 0
      },
      "text/plain": [
       "HBox(children=(IntProgress(value=0, max=650), HTML(value='')))"
      ]
     },
     "metadata": {},
     "output_type": "display_data"
    },
    {
     "data": {
      "application/vnd.jupyter.widget-view+json": {
       "model_id": "08d4e4c7c9c6481195b8a33163c63ad2",
       "version_major": 2,
       "version_minor": 0
      },
      "text/plain": [
       "HBox(children=(IntProgress(value=0, max=650), HTML(value='')))"
      ]
     },
     "metadata": {},
     "output_type": "display_data"
    },
    {
     "data": {
      "application/vnd.jupyter.widget-view+json": {
       "model_id": "184e4943ed4c4753a4cfc2a4bb2adef9",
       "version_major": 2,
       "version_minor": 0
      },
      "text/plain": [
       "HBox(children=(IntProgress(value=0, max=650), HTML(value='')))"
      ]
     },
     "metadata": {},
     "output_type": "display_data"
    },
    {
     "data": {
      "application/vnd.jupyter.widget-view+json": {
       "model_id": "098a0ff7863b4a969bc4434295db0cad",
       "version_major": 2,
       "version_minor": 0
      },
      "text/plain": [
       "HBox(children=(IntProgress(value=0, max=650), HTML(value='')))"
      ]
     },
     "metadata": {},
     "output_type": "display_data"
    },
    {
     "data": {
      "application/vnd.jupyter.widget-view+json": {
       "model_id": "eaf84908868749e7964cff5fe371a039",
       "version_major": 2,
       "version_minor": 0
      },
      "text/plain": [
       "HBox(children=(IntProgress(value=0, max=650), HTML(value='')))"
      ]
     },
     "metadata": {},
     "output_type": "display_data"
    },
    {
     "data": {
      "text/html": [
       "<table>\n",
       "<thead>\n",
       "<tr><th>Name                                         </th><th>Best model                            </th><th>Current model                         </th></tr>\n",
       "</thead>\n",
       "<tbody>\n",
       "<tr><td>accuracy                                     </td><td>0.9501                                </td><td>0.9501                                </td></tr>\n",
       "<tr><td>val_loss                                     </td><td>0.1445                                </td><td>0.1445                                </td></tr>\n",
       "<tr><td>loss                                         </td><td>0.1635                                </td><td>0.1635                                </td></tr>\n",
       "<tr><td><span style=\"color:green\">val_accuracy</span></td><td><span style=\"color:green\">0.954</span></td><td><span style=\"color:green\">0.954</span></td></tr>\n",
       "</tbody>\n",
       "</table>"
      ],
      "text/plain": [
       "<IPython.core.display.HTML object>"
      ]
     },
     "metadata": {},
     "output_type": "display_data"
    },
    {
     "data": {
      "text/html": [
       "<span style=\"color:#64DD17\"><span style=\"font-size:14px\"><b>3/4 trials left</b></span></span>"
      ],
      "text/plain": [
       "<IPython.core.display.HTML object>"
      ]
     },
     "metadata": {},
     "output_type": "display_data"
    },
    {
     "data": {
      "text/html": [
       "<span style=\"color:#4527A0\"><h1 style=\"font-size:18px\">New model</h1></span>"
      ],
      "text/plain": [
       "<IPython.core.display.HTML object>"
      ]
     },
     "metadata": {},
     "output_type": "display_data"
    },
    {
     "data": {
      "text/html": [
       "<span style=\"color:#4527A0\"><h1 style=\"font-size:18px\">Trial summary</h1></span>"
      ],
      "text/plain": [
       "<IPython.core.display.HTML object>"
      ]
     },
     "metadata": {},
     "output_type": "display_data"
    },
    {
     "data": {
      "text/html": [
       "<span style=\"color:#7E57C2\"><h2 style=\"font-size:16px\">Hp values:</h2></span>"
      ],
      "text/plain": [
       "<IPython.core.display.HTML object>"
      ]
     },
     "metadata": {},
     "output_type": "display_data"
    },
    {
     "data": {
      "text/html": [
       "<span style=\"color:cyan\"> |-learning_rate: 0.0001</span>"
      ],
      "text/plain": [
       "<IPython.core.display.HTML object>"
      ]
     },
     "metadata": {},
     "output_type": "display_data"
    },
    {
     "data": {
      "text/html": [
       "<span style=\"color:#7E57C2\"><h2 style=\"font-size:16px\">Execution 1/2</h2></span>"
      ],
      "text/plain": [
       "<IPython.core.display.HTML object>"
      ]
     },
     "metadata": {},
     "output_type": "display_data"
    },
    {
     "data": {
      "application/vnd.jupyter.widget-view+json": {
       "model_id": "6a1624d2ec054a6abc5206fb816cdc8c",
       "version_major": 2,
       "version_minor": 0
      },
      "text/plain": [
       "HBox(children=(IntProgress(value=0, max=650), HTML(value='')))"
      ]
     },
     "metadata": {},
     "output_type": "display_data"
    },
    {
     "data": {
      "application/vnd.jupyter.widget-view+json": {
       "model_id": "7eb4987903524fc19fca2eb3c941f13f",
       "version_major": 2,
       "version_minor": 0
      },
      "text/plain": [
       "HBox(children=(IntProgress(value=0, max=650), HTML(value='')))"
      ]
     },
     "metadata": {},
     "output_type": "display_data"
    },
    {
     "data": {
      "application/vnd.jupyter.widget-view+json": {
       "model_id": "1a4c3dc6b57344f889d23537f60ce965",
       "version_major": 2,
       "version_minor": 0
      },
      "text/plain": [
       "HBox(children=(IntProgress(value=0, max=650), HTML(value='')))"
      ]
     },
     "metadata": {},
     "output_type": "display_data"
    },
    {
     "data": {
      "application/vnd.jupyter.widget-view+json": {
       "model_id": "c02994e10ec44e958dd8b0a0012ea284",
       "version_major": 2,
       "version_minor": 0
      },
      "text/plain": [
       "HBox(children=(IntProgress(value=0, max=650), HTML(value='')))"
      ]
     },
     "metadata": {},
     "output_type": "display_data"
    },
    {
     "data": {
      "application/vnd.jupyter.widget-view+json": {
       "model_id": "57a7c4fa175848d580b77a222473c1aa",
       "version_major": 2,
       "version_minor": 0
      },
      "text/plain": [
       "HBox(children=(IntProgress(value=0, max=650), HTML(value='')))"
      ]
     },
     "metadata": {},
     "output_type": "display_data"
    },
    {
     "data": {
      "application/vnd.jupyter.widget-view+json": {
       "model_id": "63bcb3f1cd034e4fbe1631fc735686db",
       "version_major": 2,
       "version_minor": 0
      },
      "text/plain": [
       "HBox(children=(IntProgress(value=0, max=650), HTML(value='')))"
      ]
     },
     "metadata": {},
     "output_type": "display_data"
    },
    {
     "data": {
      "application/vnd.jupyter.widget-view+json": {
       "model_id": "8148898028a04d1d90dbf11569383c21",
       "version_major": 2,
       "version_minor": 0
      },
      "text/plain": [
       "HBox(children=(IntProgress(value=0, max=650), HTML(value='')))"
      ]
     },
     "metadata": {},
     "output_type": "display_data"
    },
    {
     "data": {
      "application/vnd.jupyter.widget-view+json": {
       "model_id": "2e683088b25f468e833f14c9c2d6ec48",
       "version_major": 2,
       "version_minor": 0
      },
      "text/plain": [
       "HBox(children=(IntProgress(value=0, max=650), HTML(value='')))"
      ]
     },
     "metadata": {},
     "output_type": "display_data"
    },
    {
     "data": {
      "application/vnd.jupyter.widget-view+json": {
       "model_id": "1c6b5ed068364585b368b492a6cf20b9",
       "version_major": 2,
       "version_minor": 0
      },
      "text/plain": [
       "HBox(children=(IntProgress(value=0, max=650), HTML(value='')))"
      ]
     },
     "metadata": {},
     "output_type": "display_data"
    },
    {
     "data": {
      "application/vnd.jupyter.widget-view+json": {
       "model_id": "d574e3c768da4aebbcdb04adc7ddecaa",
       "version_major": 2,
       "version_minor": 0
      },
      "text/plain": [
       "HBox(children=(IntProgress(value=0, max=650), HTML(value='')))"
      ]
     },
     "metadata": {},
     "output_type": "display_data"
    },
    {
     "name": "stderr",
     "output_type": "stream",
     "text": [
      "W0710 12:11:46.608629 139904768079616 callbacks.py:241] Method (on_train_batch_end) is slow compared to the batch update (0.106839). Check your callbacks.\n",
      "W0710 12:11:46.638159 139904768079616 callbacks.py:241] Method (on_train_batch_end) is slow compared to the batch update (0.106839). Check your callbacks.\n",
      "W0710 12:11:46.678763 139904768079616 callbacks.py:241] Method (on_train_batch_end) is slow compared to the batch update (0.106839). Check your callbacks.\n",
      "W0710 12:11:46.700974 139904768079616 callbacks.py:241] Method (on_train_batch_end) is slow compared to the batch update (0.106839). Check your callbacks.\n"
     ]
    },
    {
     "data": {
      "text/html": [
       "<span style=\"color:#7E57C2\"><h2 style=\"font-size:16px\">Execution 2/2</h2></span>"
      ],
      "text/plain": [
       "<IPython.core.display.HTML object>"
      ]
     },
     "metadata": {},
     "output_type": "display_data"
    },
    {
     "data": {
      "application/vnd.jupyter.widget-view+json": {
       "model_id": "5ea08a0a192a4edeba6346f1363c38fa",
       "version_major": 2,
       "version_minor": 0
      },
      "text/plain": [
       "HBox(children=(IntProgress(value=0, max=650), HTML(value='')))"
      ]
     },
     "metadata": {},
     "output_type": "display_data"
    },
    {
     "data": {
      "application/vnd.jupyter.widget-view+json": {
       "model_id": "0f4bcd50348d458ab6f5b0ba7ea4a833",
       "version_major": 2,
       "version_minor": 0
      },
      "text/plain": [
       "HBox(children=(IntProgress(value=0, max=650), HTML(value='')))"
      ]
     },
     "metadata": {},
     "output_type": "display_data"
    },
    {
     "data": {
      "application/vnd.jupyter.widget-view+json": {
       "model_id": "b246a2e0ea0e4e529531452eda0ce807",
       "version_major": 2,
       "version_minor": 0
      },
      "text/plain": [
       "HBox(children=(IntProgress(value=0, max=650), HTML(value='')))"
      ]
     },
     "metadata": {},
     "output_type": "display_data"
    },
    {
     "data": {
      "application/vnd.jupyter.widget-view+json": {
       "model_id": "e8b839f6d63c4b4ea2961d23cc00c50f",
       "version_major": 2,
       "version_minor": 0
      },
      "text/plain": [
       "HBox(children=(IntProgress(value=0, max=650), HTML(value='')))"
      ]
     },
     "metadata": {},
     "output_type": "display_data"
    },
    {
     "data": {
      "application/vnd.jupyter.widget-view+json": {
       "model_id": "f323130ca8b947e9aac4b80de9443ee2",
       "version_major": 2,
       "version_minor": 0
      },
      "text/plain": [
       "HBox(children=(IntProgress(value=0, max=650), HTML(value='')))"
      ]
     },
     "metadata": {},
     "output_type": "display_data"
    },
    {
     "data": {
      "application/vnd.jupyter.widget-view+json": {
       "model_id": "aef223f2bb2b42b1b5131217d1670933",
       "version_major": 2,
       "version_minor": 0
      },
      "text/plain": [
       "HBox(children=(IntProgress(value=0, max=650), HTML(value='')))"
      ]
     },
     "metadata": {},
     "output_type": "display_data"
    },
    {
     "data": {
      "application/vnd.jupyter.widget-view+json": {
       "model_id": "0e74820743db499d809aa436d73dc4a9",
       "version_major": 2,
       "version_minor": 0
      },
      "text/plain": [
       "HBox(children=(IntProgress(value=0, max=650), HTML(value='')))"
      ]
     },
     "metadata": {},
     "output_type": "display_data"
    },
    {
     "data": {
      "application/vnd.jupyter.widget-view+json": {
       "model_id": "1f3610fb33474b02b6b3a00c78bb5d0b",
       "version_major": 2,
       "version_minor": 0
      },
      "text/plain": [
       "HBox(children=(IntProgress(value=0, max=650), HTML(value='')))"
      ]
     },
     "metadata": {},
     "output_type": "display_data"
    },
    {
     "data": {
      "application/vnd.jupyter.widget-view+json": {
       "model_id": "20f6e1654e674e169e3aa3293fde5b9c",
       "version_major": 2,
       "version_minor": 0
      },
      "text/plain": [
       "HBox(children=(IntProgress(value=0, max=650), HTML(value='')))"
      ]
     },
     "metadata": {},
     "output_type": "display_data"
    },
    {
     "data": {
      "application/vnd.jupyter.widget-view+json": {
       "model_id": "fbf6a7792b9241fa8b13ad9357bea520",
       "version_major": 2,
       "version_minor": 0
      },
      "text/plain": [
       "HBox(children=(IntProgress(value=0, max=650), HTML(value='')))"
      ]
     },
     "metadata": {},
     "output_type": "display_data"
    },
    {
     "data": {
      "text/html": [
       "<table>\n",
       "<thead>\n",
       "<tr><th>Name                                         </th><th>Best model                             </th><th>Current model                          </th></tr>\n",
       "</thead>\n",
       "<tbody>\n",
       "<tr><td>accuracy                                     </td><td>0.9549                                 </td><td>0.9549                                 </td></tr>\n",
       "<tr><td>val_loss                                     </td><td>0.1402                                 </td><td>0.1402                                 </td></tr>\n",
       "<tr><td>loss                                         </td><td>0.1461                                 </td><td>0.1461                                 </td></tr>\n",
       "<tr><td><span style=\"color:green\">val_accuracy</span></td><td><span style=\"color:green\">0.9557</span></td><td><span style=\"color:green\">0.9557</span></td></tr>\n",
       "</tbody>\n",
       "</table>"
      ],
      "text/plain": [
       "<IPython.core.display.HTML object>"
      ]
     },
     "metadata": {},
     "output_type": "display_data"
    },
    {
     "data": {
      "text/html": [
       "<span style=\"color:#64DD17\"><span style=\"font-size:14px\"><b>2/4 trials left</b></span></span>"
      ],
      "text/plain": [
       "<IPython.core.display.HTML object>"
      ]
     },
     "metadata": {},
     "output_type": "display_data"
    },
    {
     "name": "stdout",
     "output_type": "stream",
     "text": [
      "Oracle triggered exit\n"
     ]
    }
   ],
   "source": [
    "tuner.search(x=features_train,\n",
    "             y=y_train,\n",
    "             epochs=10,\n",
    "             validation_data=(features_test, y_test),\n",
    "            )"
   ]
  },
  {
   "cell_type": "code",
   "execution_count": 82,
   "metadata": {},
   "outputs": [
    {
     "data": {
      "text/html": [
       "<span style=\"color:#4527A0\"><h1 style=\"font-size:18px\">Results summary</h1></span>"
      ],
      "text/plain": [
       "<IPython.core.display.HTML object>"
      ]
     },
     "metadata": {},
     "output_type": "display_data"
    },
    {
     "data": {
      "text/html": [
       "<span style=\"color:cyan\"> |-Results in kerastunerlogs/Vazios</span>"
      ],
      "text/plain": [
       "<IPython.core.display.HTML object>"
      ]
     },
     "metadata": {},
     "output_type": "display_data"
    },
    {
     "data": {
      "text/html": [
       "<span style=\"color:cyan\"> |-Ran 2 trials</span>"
      ],
      "text/plain": [
       "<IPython.core.display.HTML object>"
      ]
     },
     "metadata": {},
     "output_type": "display_data"
    },
    {
     "data": {
      "text/html": [
       "<span style=\"color:cyan\"> |-Ran 4 executions (2 per trial)</span>"
      ],
      "text/plain": [
       "<IPython.core.display.HTML object>"
      ]
     },
     "metadata": {},
     "output_type": "display_data"
    },
    {
     "data": {
      "text/html": [
       "<span style=\"color:cyan\"> |-Best val_accuracy: 0.9557</span>"
      ],
      "text/plain": [
       "<IPython.core.display.HTML object>"
      ]
     },
     "metadata": {},
     "output_type": "display_data"
    }
   ],
   "source": [
    "tuner.results_summary()"
   ]
  },
  {
   "cell_type": "markdown",
   "metadata": {},
   "source": [
    "# Tuner - Teste com AvgPool"
   ]
  },
  {
   "cell_type": "code",
   "execution_count": 83,
   "metadata": {},
   "outputs": [
    {
     "data": {
      "text/html": [
       "<span style=\"color:#4527A0\"><h1 style=\"font-size:18px\">New model</h1></span>"
      ],
      "text/plain": [
       "<IPython.core.display.HTML object>"
      ]
     },
     "metadata": {},
     "output_type": "display_data"
    },
    {
     "data": {
      "text/html": [
       "<span style=\"color:#4527A0\"><h1 style=\"font-size:18px\">Trial summary</h1></span>"
      ],
      "text/plain": [
       "<IPython.core.display.HTML object>"
      ]
     },
     "metadata": {},
     "output_type": "display_data"
    },
    {
     "data": {
      "text/html": [
       "<span style=\"color:#7E57C2\"><h2 style=\"font-size:16px\">Hp values:</h2></span>"
      ],
      "text/plain": [
       "<IPython.core.display.HTML object>"
      ]
     },
     "metadata": {},
     "output_type": "display_data"
    },
    {
     "data": {
      "text/html": [
       "<span style=\"color:cyan\"> |-learning_rate: 1e-05</span>"
      ],
      "text/plain": [
       "<IPython.core.display.HTML object>"
      ]
     },
     "metadata": {},
     "output_type": "display_data"
    },
    {
     "data": {
      "text/html": [
       "<span style=\"color:#7E57C2\"><h2 style=\"font-size:16px\">Execution 1/2</h2></span>"
      ],
      "text/plain": [
       "<IPython.core.display.HTML object>"
      ]
     },
     "metadata": {},
     "output_type": "display_data"
    },
    {
     "data": {
      "application/vnd.jupyter.widget-view+json": {
       "model_id": "5a8ee1039fe04cf294a0864f099ca580",
       "version_major": 2,
       "version_minor": 0
      },
      "text/plain": [
       "HBox(children=(IntProgress(value=0, max=650), HTML(value='')))"
      ]
     },
     "metadata": {},
     "output_type": "display_data"
    },
    {
     "data": {
      "application/vnd.jupyter.widget-view+json": {
       "model_id": "1c1f156aa7324f0db4556e6e2c9c9ee4",
       "version_major": 2,
       "version_minor": 0
      },
      "text/plain": [
       "HBox(children=(IntProgress(value=0, max=650), HTML(value='')))"
      ]
     },
     "metadata": {},
     "output_type": "display_data"
    },
    {
     "data": {
      "application/vnd.jupyter.widget-view+json": {
       "model_id": "3cae8d97c02e4b9ca74b07cdb3856f4f",
       "version_major": 2,
       "version_minor": 0
      },
      "text/plain": [
       "HBox(children=(IntProgress(value=0, max=650), HTML(value='')))"
      ]
     },
     "metadata": {},
     "output_type": "display_data"
    },
    {
     "data": {
      "application/vnd.jupyter.widget-view+json": {
       "model_id": "9fdfa7ea0a4445f3a9e0642fd076e95b",
       "version_major": 2,
       "version_minor": 0
      },
      "text/plain": [
       "HBox(children=(IntProgress(value=0, max=650), HTML(value='')))"
      ]
     },
     "metadata": {},
     "output_type": "display_data"
    },
    {
     "data": {
      "application/vnd.jupyter.widget-view+json": {
       "model_id": "f0a62389dfe44502a7dbd485c255074f",
       "version_major": 2,
       "version_minor": 0
      },
      "text/plain": [
       "HBox(children=(IntProgress(value=0, max=650), HTML(value='')))"
      ]
     },
     "metadata": {},
     "output_type": "display_data"
    },
    {
     "name": "stderr",
     "output_type": "stream",
     "text": [
      "W0710 12:13:16.168517 139904768079616 callbacks.py:241] Method (on_train_batch_end) is slow compared to the batch update (0.200158). Check your callbacks.\n",
      "W0710 12:13:16.202365 139904768079616 callbacks.py:241] Method (on_train_batch_end) is slow compared to the batch update (0.109022). Check your callbacks.\n"
     ]
    },
    {
     "data": {
      "application/vnd.jupyter.widget-view+json": {
       "model_id": "e31b0a898c524973aeb577a46106296e",
       "version_major": 2,
       "version_minor": 0
      },
      "text/plain": [
       "HBox(children=(IntProgress(value=0, max=650), HTML(value='')))"
      ]
     },
     "metadata": {},
     "output_type": "display_data"
    },
    {
     "data": {
      "application/vnd.jupyter.widget-view+json": {
       "model_id": "2ca808c8abe840a99c34b999dd3e7baf",
       "version_major": 2,
       "version_minor": 0
      },
      "text/plain": [
       "HBox(children=(IntProgress(value=0, max=650), HTML(value='')))"
      ]
     },
     "metadata": {},
     "output_type": "display_data"
    },
    {
     "data": {
      "application/vnd.jupyter.widget-view+json": {
       "model_id": "2d001c12a9ea49beb2350b3a4162ed13",
       "version_major": 2,
       "version_minor": 0
      },
      "text/plain": [
       "HBox(children=(IntProgress(value=0, max=650), HTML(value='')))"
      ]
     },
     "metadata": {},
     "output_type": "display_data"
    },
    {
     "name": "stderr",
     "output_type": "stream",
     "text": [
      "W0710 12:13:35.043132 139904768079616 callbacks.py:241] Method (on_train_batch_end) is slow compared to the batch update (0.109354). Check your callbacks.\n",
      "W0710 12:13:35.259618 139904768079616 callbacks.py:241] Method (on_train_batch_end) is slow compared to the batch update (0.112996). Check your callbacks.\n",
      "W0710 12:13:35.408587 139904768079616 callbacks.py:241] Method (on_train_batch_end) is slow compared to the batch update (0.112996). Check your callbacks.\n",
      "W0710 12:13:35.523991 139904768079616 callbacks.py:241] Method (on_train_batch_end) is slow compared to the batch update (0.112996). Check your callbacks.\n",
      "W0710 12:13:35.559537 139904768079616 callbacks.py:241] Method (on_train_batch_end) is slow compared to the batch update (0.107065). Check your callbacks.\n",
      "W0710 12:13:35.689697 139904768079616 callbacks.py:241] Method (on_train_batch_end) is slow compared to the batch update (0.107065). Check your callbacks.\n",
      "W0710 12:13:35.719903 139904768079616 callbacks.py:241] Method (on_train_batch_end) is slow compared to the batch update (0.107065). Check your callbacks.\n",
      "W0710 12:13:35.737459 139904768079616 callbacks.py:241] Method (on_train_batch_end) is slow compared to the batch update (0.107065). Check your callbacks.\n"
     ]
    },
    {
     "data": {
      "application/vnd.jupyter.widget-view+json": {
       "model_id": "1e4e35692dde46938ff6920562c53060",
       "version_major": 2,
       "version_minor": 0
      },
      "text/plain": [
       "HBox(children=(IntProgress(value=0, max=650), HTML(value='')))"
      ]
     },
     "metadata": {},
     "output_type": "display_data"
    },
    {
     "name": "stderr",
     "output_type": "stream",
     "text": [
      "W0710 12:13:49.451974 139904768079616 callbacks.py:241] Method (on_train_batch_end) is slow compared to the batch update (0.119044). Check your callbacks.\n",
      "W0710 12:13:49.608206 139904768079616 callbacks.py:241] Method (on_train_batch_end) is slow compared to the batch update (0.138525). Check your callbacks.\n",
      "W0710 12:13:49.729732 139904768079616 callbacks.py:241] Method (on_train_batch_end) is slow compared to the batch update (0.138525). Check your callbacks.\n",
      "W0710 12:13:49.766310 139904768079616 callbacks.py:241] Method (on_train_batch_end) is slow compared to the batch update (0.138525). Check your callbacks.\n",
      "W0710 12:13:49.778784 139904768079616 callbacks.py:241] Method (on_train_batch_end) is slow compared to the batch update (0.127418). Check your callbacks.\n",
      "W0710 12:13:49.791177 139904768079616 callbacks.py:241] Method (on_train_batch_end) is slow compared to the batch update (0.107937). Check your callbacks.\n"
     ]
    },
    {
     "data": {
      "application/vnd.jupyter.widget-view+json": {
       "model_id": "d293979b79044b0fbcfef97c590b1e8b",
       "version_major": 2,
       "version_minor": 0
      },
      "text/plain": [
       "HBox(children=(IntProgress(value=0, max=650), HTML(value='')))"
      ]
     },
     "metadata": {},
     "output_type": "display_data"
    },
    {
     "data": {
      "text/html": [
       "<span style=\"color:#7E57C2\"><h2 style=\"font-size:16px\">Execution 2/2</h2></span>"
      ],
      "text/plain": [
       "<IPython.core.display.HTML object>"
      ]
     },
     "metadata": {},
     "output_type": "display_data"
    },
    {
     "data": {
      "application/vnd.jupyter.widget-view+json": {
       "model_id": "c328434656984450ab275e2bae28032a",
       "version_major": 2,
       "version_minor": 0
      },
      "text/plain": [
       "HBox(children=(IntProgress(value=0, max=650), HTML(value='')))"
      ]
     },
     "metadata": {},
     "output_type": "display_data"
    },
    {
     "data": {
      "application/vnd.jupyter.widget-view+json": {
       "model_id": "96940fc105b54e678013ec8f5c7754fd",
       "version_major": 2,
       "version_minor": 0
      },
      "text/plain": [
       "HBox(children=(IntProgress(value=0, max=650), HTML(value='')))"
      ]
     },
     "metadata": {},
     "output_type": "display_data"
    },
    {
     "data": {
      "application/vnd.jupyter.widget-view+json": {
       "model_id": "900e0645960c4fe0a8102782020b2814",
       "version_major": 2,
       "version_minor": 0
      },
      "text/plain": [
       "HBox(children=(IntProgress(value=0, max=650), HTML(value='')))"
      ]
     },
     "metadata": {},
     "output_type": "display_data"
    },
    {
     "data": {
      "application/vnd.jupyter.widget-view+json": {
       "model_id": "40df6f2927d449469fe558c85e852b32",
       "version_major": 2,
       "version_minor": 0
      },
      "text/plain": [
       "HBox(children=(IntProgress(value=0, max=650), HTML(value='')))"
      ]
     },
     "metadata": {},
     "output_type": "display_data"
    },
    {
     "data": {
      "application/vnd.jupyter.widget-view+json": {
       "model_id": "62d83ea5e6dd49e88cc22430f2315aec",
       "version_major": 2,
       "version_minor": 0
      },
      "text/plain": [
       "HBox(children=(IntProgress(value=0, max=650), HTML(value='')))"
      ]
     },
     "metadata": {},
     "output_type": "display_data"
    },
    {
     "data": {
      "application/vnd.jupyter.widget-view+json": {
       "model_id": "e70e6f570c9b435da3ca78c31c5aab8c",
       "version_major": 2,
       "version_minor": 0
      },
      "text/plain": [
       "HBox(children=(IntProgress(value=0, max=650), HTML(value='')))"
      ]
     },
     "metadata": {},
     "output_type": "display_data"
    },
    {
     "name": "stderr",
     "output_type": "stream",
     "text": [
      "W0710 12:14:32.717909 139904768079616 callbacks.py:241] Method (on_train_batch_end) is slow compared to the batch update (0.112083). Check your callbacks.\n",
      "W0710 12:14:32.837350 139904768079616 callbacks.py:241] Method (on_train_batch_end) is slow compared to the batch update (0.112083). Check your callbacks.\n",
      "W0710 12:14:32.963488 139904768079616 callbacks.py:241] Method (on_train_batch_end) is slow compared to the batch update (0.114096). Check your callbacks.\n",
      "W0710 12:14:33.090873 139904768079616 callbacks.py:241] Method (on_train_batch_end) is slow compared to the batch update (0.114168). Check your callbacks.\n",
      "W0710 12:14:33.219648 139904768079616 callbacks.py:241] Method (on_train_batch_end) is slow compared to the batch update (0.115007). Check your callbacks.\n",
      "W0710 12:14:33.356442 139904768079616 callbacks.py:241] Method (on_train_batch_end) is slow compared to the batch update (0.115007). Check your callbacks.\n",
      "W0710 12:14:33.384125 139904768079616 callbacks.py:241] Method (on_train_batch_end) is slow compared to the batch update (0.114168). Check your callbacks.\n",
      "W0710 12:14:33.399267 139904768079616 callbacks.py:241] Method (on_train_batch_end) is slow compared to the batch update (0.114168). Check your callbacks.\n",
      "W0710 12:14:33.411853 139904768079616 callbacks.py:241] Method (on_train_batch_end) is slow compared to the batch update (0.113596). Check your callbacks.\n",
      "W0710 12:14:33.433620 139904768079616 callbacks.py:241] Method (on_train_batch_end) is slow compared to the batch update (0.109790). Check your callbacks.\n"
     ]
    },
    {
     "data": {
      "application/vnd.jupyter.widget-view+json": {
       "model_id": "6f467ea9e35549e1a2430be8fbd7dc5e",
       "version_major": 2,
       "version_minor": 0
      },
      "text/plain": [
       "HBox(children=(IntProgress(value=0, max=650), HTML(value='')))"
      ]
     },
     "metadata": {},
     "output_type": "display_data"
    },
    {
     "data": {
      "application/vnd.jupyter.widget-view+json": {
       "model_id": "70210535c3814be781c0adba256edfb9",
       "version_major": 2,
       "version_minor": 0
      },
      "text/plain": [
       "HBox(children=(IntProgress(value=0, max=650), HTML(value='')))"
      ]
     },
     "metadata": {},
     "output_type": "display_data"
    },
    {
     "data": {
      "application/vnd.jupyter.widget-view+json": {
       "model_id": "c51d36ab2a234e749a4c5df201f5c2cd",
       "version_major": 2,
       "version_minor": 0
      },
      "text/plain": [
       "HBox(children=(IntProgress(value=0, max=650), HTML(value='')))"
      ]
     },
     "metadata": {},
     "output_type": "display_data"
    },
    {
     "name": "stderr",
     "output_type": "stream",
     "text": [
      "W0710 12:14:55.397021 139904768079616 callbacks.py:241] Method (on_train_batch_end) is slow compared to the batch update (0.303431). Check your callbacks.\n",
      "W0710 12:14:55.409013 139904768079616 callbacks.py:241] Method (on_train_batch_end) is slow compared to the batch update (0.155027). Check your callbacks.\n",
      "W0710 12:15:03.769032 139904768079616 callbacks.py:241] Method (on_train_batch_end) is slow compared to the batch update (0.135326). Check your callbacks.\n",
      "W0710 12:15:03.797059 139904768079616 callbacks.py:241] Method (on_train_batch_end) is slow compared to the batch update (0.135326). Check your callbacks.\n",
      "W0710 12:15:03.810311 139904768079616 callbacks.py:241] Method (on_train_batch_end) is slow compared to the batch update (0.135326). Check your callbacks.\n",
      "W0710 12:15:03.820936 139904768079616 callbacks.py:241] Method (on_train_batch_end) is slow compared to the batch update (0.135326). Check your callbacks.\n",
      "W0710 12:15:03.832063 139904768079616 callbacks.py:241] Method (on_train_batch_end) is slow compared to the batch update (0.135326). Check your callbacks.\n"
     ]
    },
    {
     "data": {
      "application/vnd.jupyter.widget-view+json": {
       "model_id": "8526512b76c34dd6aef97d993a100924",
       "version_major": 2,
       "version_minor": 0
      },
      "text/plain": [
       "HBox(children=(IntProgress(value=0, max=650), HTML(value='')))"
      ]
     },
     "metadata": {},
     "output_type": "display_data"
    },
    {
     "data": {
      "text/html": [
       "<table>\n",
       "<thead>\n",
       "<tr><th>Name                                       </th><th>Best model                           </th><th>Current model                        </th></tr>\n",
       "</thead>\n",
       "<tbody>\n",
       "<tr><td>accuracy                                   </td><td>0.9549                               </td><td>0.933                                </td></tr>\n",
       "<tr><td>val_loss                                   </td><td>0.1402                               </td><td>0.1718                               </td></tr>\n",
       "<tr><td>loss                                       </td><td>0.1461                               </td><td>0.2085                               </td></tr>\n",
       "<tr><td><span style=\"color:red\">val_accuracy</span></td><td><span style=\"color:red\">0.9557</span></td><td><span style=\"color:red\">0.9481</span></td></tr>\n",
       "</tbody>\n",
       "</table>"
      ],
      "text/plain": [
       "<IPython.core.display.HTML object>"
      ]
     },
     "metadata": {},
     "output_type": "display_data"
    },
    {
     "data": {
      "text/html": [
       "<span style=\"color:#64DD17\"><span style=\"font-size:14px\"><b>1/4 trials left</b></span></span>"
      ],
      "text/plain": [
       "<IPython.core.display.HTML object>"
      ]
     },
     "metadata": {},
     "output_type": "display_data"
    },
    {
     "name": "stdout",
     "output_type": "stream",
     "text": [
      "Oracle triggered exit\n"
     ]
    }
   ],
   "source": [
    "tuner.search(x=features_train_avg,\n",
    "             y=y_train_avg,\n",
    "             epochs=10,\n",
    "             validation_data=(features_test_avg, y_test_avg),\n",
    "            )"
   ]
  },
  {
   "cell_type": "code",
   "execution_count": 84,
   "metadata": {},
   "outputs": [
    {
     "data": {
      "text/html": [
       "<span style=\"color:#4527A0\"><h1 style=\"font-size:18px\">Results summary</h1></span>"
      ],
      "text/plain": [
       "<IPython.core.display.HTML object>"
      ]
     },
     "metadata": {},
     "output_type": "display_data"
    },
    {
     "data": {
      "text/html": [
       "<span style=\"color:cyan\"> |-Results in kerastunerlogs/Vazios</span>"
      ],
      "text/plain": [
       "<IPython.core.display.HTML object>"
      ]
     },
     "metadata": {},
     "output_type": "display_data"
    },
    {
     "data": {
      "text/html": [
       "<span style=\"color:cyan\"> |-Ran 3 trials</span>"
      ],
      "text/plain": [
       "<IPython.core.display.HTML object>"
      ]
     },
     "metadata": {},
     "output_type": "display_data"
    },
    {
     "data": {
      "text/html": [
       "<span style=\"color:cyan\"> |-Ran 6 executions (2 per trial)</span>"
      ],
      "text/plain": [
       "<IPython.core.display.HTML object>"
      ]
     },
     "metadata": {},
     "output_type": "display_data"
    },
    {
     "data": {
      "text/html": [
       "<span style=\"color:cyan\"> |-Best val_accuracy: 0.9557</span>"
      ],
      "text/plain": [
       "<IPython.core.display.HTML object>"
      ]
     },
     "metadata": {},
     "output_type": "display_data"
    }
   ],
   "source": [
    "tuner.results_summary()"
   ]
  },
  {
   "cell_type": "markdown",
   "metadata": {},
   "source": [
    "# Final Training and validation"
   ]
  },
  {
   "cell_type": "code",
   "execution_count": 114,
   "metadata": {},
   "outputs": [],
   "source": [
    "model = tf.keras.Sequential()\n",
    "model.add(tf.keras.layers.Dense(units=128,\n",
    "                       activation='relu',\n",
    "                       input_shape=(1024,)))\n",
    "model.add(tf.keras.layers.Dropout(0.33))\n",
    "model.add(tf.keras.layers.Dense(units=128,\n",
    "                       activation='relu',\n",
    "                       input_shape=(1024,)))\n",
    "model.add(tf.keras.layers.Dropout(0.33))\n",
    "model.add(tf.keras.layers.Dense(1, activation='sigmoid'))\n",
    "model.compile(\n",
    "    optimizer=tf.keras.optimizers.Adam(learning_rate=0.00004),\n",
    "    loss='binary_crossentropy',\n",
    "    metrics=['accuracy'])\n"
   ]
  },
  {
   "cell_type": "code",
   "execution_count": 115,
   "metadata": {},
   "outputs": [],
   "source": [
    "epoch = 0"
   ]
  },
  {
   "cell_type": "code",
   "execution_count": 116,
   "metadata": {},
   "outputs": [
    {
     "ename": "OSError",
     "evalue": "Unable to open file (unable to open file: name = '../models_featureextraction/Transfermodelweights02c.00-0.00.hdf5', errno = 2, error message = 'No such file or directory', flags = 0, o_flags = 0)",
     "output_type": "error",
     "traceback": [
      "\u001b[0;31m---------------------------------------------------------------------------\u001b[0m",
      "\u001b[0;31mOSError\u001b[0m                                   Traceback (most recent call last)",
      "\u001b[0;32m<ipython-input-116-ca7018cdf15b>\u001b[0m in \u001b[0;36m<module>\u001b[0;34m\u001b[0m\n\u001b[1;32m      2\u001b[0m model.load_weights(\n\u001b[1;32m      3\u001b[0m     os.path.join(MODEL_DIR,\n\u001b[0;32m----> 4\u001b[0;31m                  \u001b[0;34m'Transfermodelweights02c.{:02d}-{:.2f}.hdf5'\u001b[0m\u001b[0;34m.\u001b[0m\u001b[0mformat\u001b[0m\u001b[0;34m(\u001b[0m\u001b[0mepoch\u001b[0m\u001b[0;34m,\u001b[0m \u001b[0mval_loss\u001b[0m\u001b[0;34m)\u001b[0m\u001b[0;34m\u001b[0m\u001b[0m\n\u001b[0m\u001b[1;32m      5\u001b[0m                 ))\n",
      "\u001b[0;32m~/pybr/projeto/venv/lib/python3.5/site-packages/tensorflow/python/keras/engine/training.py\u001b[0m in \u001b[0;36mload_weights\u001b[0;34m(self, filepath, by_name)\u001b[0m\n\u001b[1;32m    160\u001b[0m         raise ValueError('Load weights is not yet supported with TPUStrategy '\n\u001b[1;32m    161\u001b[0m                          'with steps_per_run greater than 1.')\n\u001b[0;32m--> 162\u001b[0;31m     \u001b[0;32mreturn\u001b[0m \u001b[0msuper\u001b[0m\u001b[0;34m(\u001b[0m\u001b[0mModel\u001b[0m\u001b[0;34m,\u001b[0m \u001b[0mself\u001b[0m\u001b[0;34m)\u001b[0m\u001b[0;34m.\u001b[0m\u001b[0mload_weights\u001b[0m\u001b[0;34m(\u001b[0m\u001b[0mfilepath\u001b[0m\u001b[0;34m,\u001b[0m \u001b[0mby_name\u001b[0m\u001b[0;34m)\u001b[0m\u001b[0;34m\u001b[0m\u001b[0m\n\u001b[0m\u001b[1;32m    163\u001b[0m \u001b[0;34m\u001b[0m\u001b[0m\n\u001b[1;32m    164\u001b[0m   \u001b[0;34m@\u001b[0m\u001b[0mtrackable\u001b[0m\u001b[0;34m.\u001b[0m\u001b[0mno_automatic_dependency_tracking\u001b[0m\u001b[0;34m\u001b[0m\u001b[0m\n",
      "\u001b[0;32m~/pybr/projeto/venv/lib/python3.5/site-packages/tensorflow/python/keras/engine/network.py\u001b[0m in \u001b[0;36mload_weights\u001b[0;34m(self, filepath, by_name)\u001b[0m\n\u001b[1;32m   1407\u001b[0m           'first, then load the weights.')\n\u001b[1;32m   1408\u001b[0m     \u001b[0mself\u001b[0m\u001b[0;34m.\u001b[0m\u001b[0m_assert_weights_created\u001b[0m\u001b[0;34m(\u001b[0m\u001b[0;34m)\u001b[0m\u001b[0;34m\u001b[0m\u001b[0m\n\u001b[0;32m-> 1409\u001b[0;31m     \u001b[0;32mwith\u001b[0m \u001b[0mh5py\u001b[0m\u001b[0;34m.\u001b[0m\u001b[0mFile\u001b[0m\u001b[0;34m(\u001b[0m\u001b[0mfilepath\u001b[0m\u001b[0;34m,\u001b[0m \u001b[0;34m'r'\u001b[0m\u001b[0;34m)\u001b[0m \u001b[0;32mas\u001b[0m \u001b[0mf\u001b[0m\u001b[0;34m:\u001b[0m\u001b[0;34m\u001b[0m\u001b[0m\n\u001b[0m\u001b[1;32m   1410\u001b[0m       \u001b[0;32mif\u001b[0m \u001b[0;34m'layer_names'\u001b[0m \u001b[0;32mnot\u001b[0m \u001b[0;32min\u001b[0m \u001b[0mf\u001b[0m\u001b[0;34m.\u001b[0m\u001b[0mattrs\u001b[0m \u001b[0;32mand\u001b[0m \u001b[0;34m'model_weights'\u001b[0m \u001b[0;32min\u001b[0m \u001b[0mf\u001b[0m\u001b[0;34m:\u001b[0m\u001b[0;34m\u001b[0m\u001b[0m\n\u001b[1;32m   1411\u001b[0m         \u001b[0mf\u001b[0m \u001b[0;34m=\u001b[0m \u001b[0mf\u001b[0m\u001b[0;34m[\u001b[0m\u001b[0;34m'model_weights'\u001b[0m\u001b[0;34m]\u001b[0m\u001b[0;34m\u001b[0m\u001b[0m\n",
      "\u001b[0;32m~/pybr/projeto/venv/lib/python3.5/site-packages/h5py/_hl/files.py\u001b[0m in \u001b[0;36m__init__\u001b[0;34m(self, name, mode, driver, libver, userblock_size, swmr, rdcc_nslots, rdcc_nbytes, rdcc_w0, track_order, **kwds)\u001b[0m\n\u001b[1;32m    392\u001b[0m                 fid = make_fid(name, mode, userblock_size,\n\u001b[1;32m    393\u001b[0m                                \u001b[0mfapl\u001b[0m\u001b[0;34m,\u001b[0m \u001b[0mfcpl\u001b[0m\u001b[0;34m=\u001b[0m\u001b[0mmake_fcpl\u001b[0m\u001b[0;34m(\u001b[0m\u001b[0mtrack_order\u001b[0m\u001b[0;34m=\u001b[0m\u001b[0mtrack_order\u001b[0m\u001b[0;34m)\u001b[0m\u001b[0;34m,\u001b[0m\u001b[0;34m\u001b[0m\u001b[0m\n\u001b[0;32m--> 394\u001b[0;31m                                swmr=swmr)\n\u001b[0m\u001b[1;32m    395\u001b[0m \u001b[0;34m\u001b[0m\u001b[0m\n\u001b[1;32m    396\u001b[0m             \u001b[0;32mif\u001b[0m \u001b[0mswmr_support\u001b[0m\u001b[0;34m:\u001b[0m\u001b[0;34m\u001b[0m\u001b[0m\n",
      "\u001b[0;32m~/pybr/projeto/venv/lib/python3.5/site-packages/h5py/_hl/files.py\u001b[0m in \u001b[0;36mmake_fid\u001b[0;34m(name, mode, userblock_size, fapl, fcpl, swmr)\u001b[0m\n\u001b[1;32m    168\u001b[0m         \u001b[0;32mif\u001b[0m \u001b[0mswmr\u001b[0m \u001b[0;32mand\u001b[0m \u001b[0mswmr_support\u001b[0m\u001b[0;34m:\u001b[0m\u001b[0;34m\u001b[0m\u001b[0m\n\u001b[1;32m    169\u001b[0m             \u001b[0mflags\u001b[0m \u001b[0;34m|=\u001b[0m \u001b[0mh5f\u001b[0m\u001b[0;34m.\u001b[0m\u001b[0mACC_SWMR_READ\u001b[0m\u001b[0;34m\u001b[0m\u001b[0m\n\u001b[0;32m--> 170\u001b[0;31m         \u001b[0mfid\u001b[0m \u001b[0;34m=\u001b[0m \u001b[0mh5f\u001b[0m\u001b[0;34m.\u001b[0m\u001b[0mopen\u001b[0m\u001b[0;34m(\u001b[0m\u001b[0mname\u001b[0m\u001b[0;34m,\u001b[0m \u001b[0mflags\u001b[0m\u001b[0;34m,\u001b[0m \u001b[0mfapl\u001b[0m\u001b[0;34m=\u001b[0m\u001b[0mfapl\u001b[0m\u001b[0;34m)\u001b[0m\u001b[0;34m\u001b[0m\u001b[0m\n\u001b[0m\u001b[1;32m    171\u001b[0m     \u001b[0;32melif\u001b[0m \u001b[0mmode\u001b[0m \u001b[0;34m==\u001b[0m \u001b[0;34m'r+'\u001b[0m\u001b[0;34m:\u001b[0m\u001b[0;34m\u001b[0m\u001b[0m\n\u001b[1;32m    172\u001b[0m         \u001b[0mfid\u001b[0m \u001b[0;34m=\u001b[0m \u001b[0mh5f\u001b[0m\u001b[0;34m.\u001b[0m\u001b[0mopen\u001b[0m\u001b[0;34m(\u001b[0m\u001b[0mname\u001b[0m\u001b[0;34m,\u001b[0m \u001b[0mh5f\u001b[0m\u001b[0;34m.\u001b[0m\u001b[0mACC_RDWR\u001b[0m\u001b[0;34m,\u001b[0m \u001b[0mfapl\u001b[0m\u001b[0;34m=\u001b[0m\u001b[0mfapl\u001b[0m\u001b[0;34m)\u001b[0m\u001b[0;34m\u001b[0m\u001b[0m\n",
      "\u001b[0;32mh5py/_objects.pyx\u001b[0m in \u001b[0;36mh5py._objects.with_phil.wrapper\u001b[0;34m()\u001b[0m\n",
      "\u001b[0;32mh5py/_objects.pyx\u001b[0m in \u001b[0;36mh5py._objects.with_phil.wrapper\u001b[0;34m()\u001b[0m\n",
      "\u001b[0;32mh5py/h5f.pyx\u001b[0m in \u001b[0;36mh5py.h5f.open\u001b[0;34m()\u001b[0m\n",
      "\u001b[0;31mOSError\u001b[0m: Unable to open file (unable to open file: name = '../models_featureextraction/Transfermodelweights02c.00-0.00.hdf5', errno = 2, error message = 'No such file or directory', flags = 0, o_flags = 0)"
     ]
    }
   ],
   "source": [
    "val_loss = 0\n",
    "model.load_weights(\n",
    "    os.path.join(MODEL_DIR,\n",
    "                 'Transfermodelweights02c.{:02d}-{:.2f}.hdf5'.format(epoch, val_loss)\n",
    "                ))"
   ]
  },
  {
   "cell_type": "code",
   "execution_count": 117,
   "metadata": {},
   "outputs": [
    {
     "name": "stdout",
     "output_type": "stream",
     "text": [
      "Train on 20800 samples, validate on 2304 samples\n",
      "Epoch 1/200\n",
      "20800/20800 - 1s - loss: 0.6539 - accuracy: 0.7139 - val_loss: 0.2625 - val_accuracy: 0.9167\n",
      "Epoch 2/200\n",
      "20800/20800 - 0s - loss: 0.3383 - accuracy: 0.8655 - val_loss: 0.2207 - val_accuracy: 0.9301\n",
      "Epoch 3/200\n",
      "20800/20800 - 0s - loss: 0.2862 - accuracy: 0.8927 - val_loss: 0.1990 - val_accuracy: 0.9414\n",
      "Epoch 4/200\n",
      "20800/20800 - 0s - loss: 0.2474 - accuracy: 0.9104 - val_loss: 0.1896 - val_accuracy: 0.9423\n",
      "Epoch 5/200\n",
      "20800/20800 - 0s - loss: 0.2360 - accuracy: 0.9200 - val_loss: 0.1801 - val_accuracy: 0.9462\n",
      "Epoch 6/200\n",
      "20800/20800 - 0s - loss: 0.2196 - accuracy: 0.9280 - val_loss: 0.1745 - val_accuracy: 0.9475\n",
      "Epoch 7/200\n",
      "20800/20800 - 0s - loss: 0.2101 - accuracy: 0.9317 - val_loss: 0.1720 - val_accuracy: 0.9484\n",
      "Epoch 8/200\n",
      "20800/20800 - 0s - loss: 0.2040 - accuracy: 0.9345 - val_loss: 0.1642 - val_accuracy: 0.9479\n",
      "Epoch 9/200\n",
      "20800/20800 - 0s - loss: 0.1961 - accuracy: 0.9377 - val_loss: 0.1602 - val_accuracy: 0.9488\n",
      "Epoch 10/200\n",
      "20800/20800 - 0s - loss: 0.1926 - accuracy: 0.9393 - val_loss: 0.1595 - val_accuracy: 0.9492\n",
      "Epoch 11/200\n",
      "20800/20800 - 0s - loss: 0.1865 - accuracy: 0.9408 - val_loss: 0.1560 - val_accuracy: 0.9501\n",
      "Epoch 12/200\n",
      "20800/20800 - 0s - loss: 0.1843 - accuracy: 0.9429 - val_loss: 0.1544 - val_accuracy: 0.9505\n",
      "Epoch 13/200\n",
      "20800/20800 - 0s - loss: 0.1798 - accuracy: 0.9449 - val_loss: 0.1527 - val_accuracy: 0.9505\n",
      "Epoch 14/200\n",
      "20800/20800 - 0s - loss: 0.1759 - accuracy: 0.9445 - val_loss: 0.1513 - val_accuracy: 0.9510\n",
      "Epoch 15/200\n",
      "20800/20800 - 0s - loss: 0.1750 - accuracy: 0.9453 - val_loss: 0.1500 - val_accuracy: 0.9518\n",
      "Epoch 16/200\n",
      "20800/20800 - 0s - loss: 0.1707 - accuracy: 0.9470 - val_loss: 0.1480 - val_accuracy: 0.9527\n",
      "Epoch 17/200\n",
      "20800/20800 - 0s - loss: 0.1717 - accuracy: 0.9472 - val_loss: 0.1465 - val_accuracy: 0.9523\n",
      "Epoch 18/200\n",
      "20800/20800 - 0s - loss: 0.1666 - accuracy: 0.9483 - val_loss: 0.1465 - val_accuracy: 0.9518\n",
      "Epoch 19/200\n",
      "\n",
      "Epoch 00019: ReduceLROnPlateau reducing learning rate to 1.9999999494757503e-05.\n",
      "20800/20800 - 0s - loss: 0.1638 - accuracy: 0.9474 - val_loss: 0.1471 - val_accuracy: 0.9523\n",
      "Epoch 20/200\n",
      "20800/20800 - 0s - loss: 0.1628 - accuracy: 0.9499 - val_loss: 0.1452 - val_accuracy: 0.9518\n",
      "Epoch 21/200\n",
      "20800/20800 - 0s - loss: 0.1639 - accuracy: 0.9489 - val_loss: 0.1445 - val_accuracy: 0.9518\n",
      "Epoch 22/200\n",
      "20800/20800 - 0s - loss: 0.1622 - accuracy: 0.9499 - val_loss: 0.1441 - val_accuracy: 0.9527\n",
      "Epoch 23/200\n",
      "20800/20800 - 0s - loss: 0.1601 - accuracy: 0.9503 - val_loss: 0.1433 - val_accuracy: 0.9523\n",
      "Epoch 24/200\n",
      "20800/20800 - 0s - loss: 0.1609 - accuracy: 0.9510 - val_loss: 0.1432 - val_accuracy: 0.9527\n",
      "Epoch 25/200\n",
      "20800/20800 - 0s - loss: 0.1594 - accuracy: 0.9497 - val_loss: 0.1429 - val_accuracy: 0.9527\n",
      "Epoch 26/200\n",
      "20800/20800 - 0s - loss: 0.1611 - accuracy: 0.9499 - val_loss: 0.1425 - val_accuracy: 0.9531\n",
      "Epoch 27/200\n",
      "20800/20800 - 0s - loss: 0.1579 - accuracy: 0.9504 - val_loss: 0.1428 - val_accuracy: 0.9518\n",
      "Epoch 28/200\n",
      "\n",
      "Epoch 00028: ReduceLROnPlateau reducing learning rate to 9.999999747378752e-06.\n",
      "20800/20800 - 0s - loss: 0.1576 - accuracy: 0.9509 - val_loss: 0.1427 - val_accuracy: 0.9523\n",
      "Epoch 29/200\n",
      "20800/20800 - 0s - loss: 0.1546 - accuracy: 0.9521 - val_loss: 0.1425 - val_accuracy: 0.9527\n",
      "Epoch 30/200\n",
      "\n",
      "Epoch 00030: ReduceLROnPlateau reducing learning rate to 4.999999873689376e-06.\n",
      "20800/20800 - 0s - loss: 0.1544 - accuracy: 0.9524 - val_loss: 0.1425 - val_accuracy: 0.9527\n",
      "Epoch 31/200\n",
      "20800/20800 - 0s - loss: 0.1549 - accuracy: 0.9518 - val_loss: 0.1422 - val_accuracy: 0.9531\n",
      "Epoch 32/200\n",
      "20800/20800 - 0s - loss: 0.1530 - accuracy: 0.9523 - val_loss: 0.1422 - val_accuracy: 0.9527\n",
      "Epoch 33/200\n",
      "20800/20800 - 0s - loss: 0.1554 - accuracy: 0.9523 - val_loss: 0.1421 - val_accuracy: 0.9527\n",
      "Epoch 34/200\n",
      "20800/20800 - 0s - loss: 0.1523 - accuracy: 0.9519 - val_loss: 0.1419 - val_accuracy: 0.9527\n",
      "Epoch 35/200\n",
      "20800/20800 - 0s - loss: 0.1537 - accuracy: 0.9520 - val_loss: 0.1417 - val_accuracy: 0.9527\n",
      "Epoch 36/200\n",
      "20800/20800 - 0s - loss: 0.1560 - accuracy: 0.9512 - val_loss: 0.1415 - val_accuracy: 0.9527\n",
      "Epoch 37/200\n",
      "20800/20800 - 0s - loss: 0.1540 - accuracy: 0.9521 - val_loss: 0.1414 - val_accuracy: 0.9527\n",
      "Epoch 38/200\n",
      "20800/20800 - 0s - loss: 0.1528 - accuracy: 0.9527 - val_loss: 0.1415 - val_accuracy: 0.9527\n",
      "Epoch 39/200\n",
      "20800/20800 - 0s - loss: 0.1543 - accuracy: 0.9518 - val_loss: 0.1413 - val_accuracy: 0.9536\n",
      "Epoch 40/200\n",
      "20800/20800 - 0s - loss: 0.1552 - accuracy: 0.9516 - val_loss: 0.1411 - val_accuracy: 0.9536\n",
      "Epoch 41/200\n",
      "20800/20800 - 0s - loss: 0.1534 - accuracy: 0.9520 - val_loss: 0.1410 - val_accuracy: 0.9531\n",
      "Epoch 42/200\n",
      "\n",
      "Epoch 00042: ReduceLROnPlateau reducing learning rate to 2.499999936844688e-06.\n",
      "20800/20800 - 0s - loss: 0.1531 - accuracy: 0.9513 - val_loss: 0.1411 - val_accuracy: 0.9527\n",
      "Epoch 43/200\n",
      "20800/20800 - 0s - loss: 0.1523 - accuracy: 0.9516 - val_loss: 0.1410 - val_accuracy: 0.9527\n",
      "Epoch 44/200\n",
      "\n",
      "Epoch 00044: ReduceLROnPlateau reducing learning rate to 1.249999968422344e-06.\n",
      "20800/20800 - 0s - loss: 0.1527 - accuracy: 0.9525 - val_loss: 0.1410 - val_accuracy: 0.9527\n",
      "Epoch 45/200\n",
      "20800/20800 - 0s - loss: 0.1515 - accuracy: 0.9527 - val_loss: 0.1410 - val_accuracy: 0.9527\n",
      "Epoch 46/200\n",
      "20800/20800 - 0s - loss: 0.1522 - accuracy: 0.9526 - val_loss: 0.1410 - val_accuracy: 0.9527\n",
      "Epoch 47/200\n",
      "\n",
      "Epoch 00047: ReduceLROnPlateau reducing learning rate to 6.24999984211172e-07.\n",
      "20800/20800 - 0s - loss: 0.1527 - accuracy: 0.9519 - val_loss: 0.1410 - val_accuracy: 0.9527\n",
      "Epoch 48/200\n",
      "20800/20800 - 0s - loss: 0.1527 - accuracy: 0.9519 - val_loss: 0.1410 - val_accuracy: 0.9527\n",
      "Epoch 49/200\n",
      "\n",
      "Epoch 00049: ReduceLROnPlateau reducing learning rate to 3.12499992105586e-07.\n",
      "20800/20800 - 0s - loss: 0.1517 - accuracy: 0.9535 - val_loss: 0.1409 - val_accuracy: 0.9527\n",
      "Epoch 50/200\n",
      "20800/20800 - 0s - loss: 0.1536 - accuracy: 0.9525 - val_loss: 0.1409 - val_accuracy: 0.9527\n",
      "Epoch 51/200\n",
      "\n",
      "Epoch 00051: ReduceLROnPlateau reducing learning rate to 1.56249996052793e-07.\n",
      "20800/20800 - 0s - loss: 0.1516 - accuracy: 0.9520 - val_loss: 0.1409 - val_accuracy: 0.9527\n",
      "Epoch 52/200\n",
      "20800/20800 - 0s - loss: 0.1543 - accuracy: 0.9511 - val_loss: 0.1409 - val_accuracy: 0.9527\n",
      "Epoch 53/200\n",
      "\n",
      "Epoch 00053: ReduceLROnPlateau reducing learning rate to 7.81249980263965e-08.\n",
      "20800/20800 - 0s - loss: 0.1538 - accuracy: 0.9527 - val_loss: 0.1409 - val_accuracy: 0.9527\n",
      "Epoch 54/200\n",
      "20800/20800 - 0s - loss: 0.1524 - accuracy: 0.9529 - val_loss: 0.1409 - val_accuracy: 0.9527\n",
      "Epoch 55/200\n",
      "\n",
      "Epoch 00055: ReduceLROnPlateau reducing learning rate to 3.906249901319825e-08.\n",
      "20800/20800 - 0s - loss: 0.1525 - accuracy: 0.9515 - val_loss: 0.1409 - val_accuracy: 0.9527\n",
      "Epoch 56/200\n",
      "20800/20800 - 0s - loss: 0.1530 - accuracy: 0.9529 - val_loss: 0.1409 - val_accuracy: 0.9527\n",
      "Epoch 57/200\n",
      "\n",
      "Epoch 00057: ReduceLROnPlateau reducing learning rate to 1.9531249506599124e-08.\n",
      "20800/20800 - 0s - loss: 0.1526 - accuracy: 0.9524 - val_loss: 0.1409 - val_accuracy: 0.9527\n",
      "Epoch 58/200\n",
      "20800/20800 - 0s - loss: 0.1536 - accuracy: 0.9525 - val_loss: 0.1409 - val_accuracy: 0.9527\n",
      "Epoch 59/200\n",
      "\n",
      "Epoch 00059: ReduceLROnPlateau reducing learning rate to 9.765624753299562e-09.\n",
      "20800/20800 - 0s - loss: 0.1539 - accuracy: 0.9520 - val_loss: 0.1409 - val_accuracy: 0.9527\n",
      "Epoch 60/200\n",
      "20800/20800 - 0s - loss: 0.1548 - accuracy: 0.9517 - val_loss: 0.1409 - val_accuracy: 0.9527\n",
      "Epoch 61/200\n",
      "\n",
      "Epoch 00061: ReduceLROnPlateau reducing learning rate to 4.882812376649781e-09.\n",
      "20800/20800 - 0s - loss: 0.1502 - accuracy: 0.9530 - val_loss: 0.1409 - val_accuracy: 0.9527\n",
      "Epoch 62/200\n",
      "20800/20800 - 0s - loss: 0.1523 - accuracy: 0.9520 - val_loss: 0.1409 - val_accuracy: 0.9527\n",
      "Epoch 63/200\n",
      "\n",
      "Epoch 00063: ReduceLROnPlateau reducing learning rate to 2.4414061883248905e-09.\n",
      "20800/20800 - 0s - loss: 0.1524 - accuracy: 0.9524 - val_loss: 0.1409 - val_accuracy: 0.9527\n",
      "Epoch 64/200\n",
      "20800/20800 - 0s - loss: 0.1495 - accuracy: 0.9533 - val_loss: 0.1409 - val_accuracy: 0.9527\n",
      "Epoch 65/200\n",
      "\n",
      "Epoch 00065: ReduceLROnPlateau reducing learning rate to 1.2207030941624453e-09.\n",
      "20800/20800 - 0s - loss: 0.1521 - accuracy: 0.9520 - val_loss: 0.1409 - val_accuracy: 0.9527\n"
     ]
    }
   ],
   "source": [
    "history = model.fit(x=features_train,\n",
    "                    y=y_train,\n",
    "                    batch_size=128,\n",
    "                    initial_epoch=epoch,\n",
    "                    epochs=200,\n",
    "                    verbose=2,\n",
    "                    validation_data=(features_test, y_test),\n",
    "                    callbacks=[early_stop, mcp_save, reduce_lr, tensorboard_logs],\n",
    "                   )"
   ]
  },
  {
   "cell_type": "code",
   "execution_count": 118,
   "metadata": {},
   "outputs": [],
   "source": [
    "model.compile(\n",
    "    optimizer=tf.keras.optimizers.Adam(learning_rate=0.00004),\n",
    "    loss='binary_crossentropy',\n",
    "    metrics=['accuracy'])\n",
    "\n"
   ]
  },
  {
   "cell_type": "code",
   "execution_count": 119,
   "metadata": {},
   "outputs": [
    {
     "name": "stdout",
     "output_type": "stream",
     "text": [
      "Train on 20800 samples, validate on 2304 samples\n",
      "Epoch 1/200\n",
      "20800/20800 - 1s - loss: 0.1601 - accuracy: 0.9516 - val_loss: 0.1437 - val_accuracy: 0.9549\n",
      "Epoch 2/200\n",
      "20800/20800 - 0s - loss: 0.1597 - accuracy: 0.9512 - val_loss: 0.1435 - val_accuracy: 0.9557\n",
      "Epoch 3/200\n",
      "20800/20800 - 0s - loss: 0.1555 - accuracy: 0.9520 - val_loss: 0.1432 - val_accuracy: 0.9557\n",
      "Epoch 4/200\n",
      "20800/20800 - 0s - loss: 0.1537 - accuracy: 0.9529 - val_loss: 0.1420 - val_accuracy: 0.9562\n",
      "Epoch 5/200\n",
      "20800/20800 - 0s - loss: 0.1550 - accuracy: 0.9520 - val_loss: 0.1406 - val_accuracy: 0.9562\n",
      "Epoch 6/200\n",
      "20800/20800 - 0s - loss: 0.1527 - accuracy: 0.9537 - val_loss: 0.1411 - val_accuracy: 0.9557\n",
      "Epoch 7/200\n",
      "\n",
      "Epoch 00007: ReduceLROnPlateau reducing learning rate to 1.9999999494757503e-05.\n",
      "20800/20800 - 0s - loss: 0.1515 - accuracy: 0.9536 - val_loss: 0.1411 - val_accuracy: 0.9562\n",
      "Epoch 8/200\n",
      "20800/20800 - 0s - loss: 0.1503 - accuracy: 0.9528 - val_loss: 0.1399 - val_accuracy: 0.9566\n",
      "Epoch 9/200\n",
      "20800/20800 - 0s - loss: 0.1511 - accuracy: 0.9528 - val_loss: 0.1400 - val_accuracy: 0.9566\n",
      "Epoch 10/200\n",
      "20800/20800 - 0s - loss: 0.1485 - accuracy: 0.9534 - val_loss: 0.1398 - val_accuracy: 0.9566\n",
      "Epoch 11/200\n",
      "20800/20800 - 0s - loss: 0.1488 - accuracy: 0.9542 - val_loss: 0.1393 - val_accuracy: 0.9566\n",
      "Epoch 12/200\n",
      "20800/20800 - 0s - loss: 0.1478 - accuracy: 0.9549 - val_loss: 0.1392 - val_accuracy: 0.9562\n",
      "Epoch 13/200\n",
      "20800/20800 - 0s - loss: 0.1478 - accuracy: 0.9547 - val_loss: 0.1384 - val_accuracy: 0.9570\n",
      "Epoch 14/200\n",
      "20800/20800 - 0s - loss: 0.1427 - accuracy: 0.9556 - val_loss: 0.1376 - val_accuracy: 0.9562\n",
      "Epoch 15/200\n",
      "20800/20800 - 1s - loss: 0.1453 - accuracy: 0.9547 - val_loss: 0.1381 - val_accuracy: 0.9562\n",
      "Epoch 16/200\n",
      "20800/20800 - 0s - loss: 0.1469 - accuracy: 0.9547 - val_loss: 0.1368 - val_accuracy: 0.9566\n",
      "Epoch 17/200\n",
      "20800/20800 - 0s - loss: 0.1462 - accuracy: 0.9550 - val_loss: 0.1370 - val_accuracy: 0.9566\n",
      "Epoch 18/200\n",
      "20800/20800 - 0s - loss: 0.1439 - accuracy: 0.9533 - val_loss: 0.1364 - val_accuracy: 0.9562\n",
      "Epoch 19/200\n",
      "20800/20800 - 0s - loss: 0.1445 - accuracy: 0.9544 - val_loss: 0.1366 - val_accuracy: 0.9566\n",
      "Epoch 20/200\n",
      "\n",
      "Epoch 00020: ReduceLROnPlateau reducing learning rate to 9.999999747378752e-06.\n",
      "20800/20800 - 0s - loss: 0.1443 - accuracy: 0.9552 - val_loss: 0.1376 - val_accuracy: 0.9566\n",
      "Epoch 21/200\n",
      "20800/20800 - 0s - loss: 0.1442 - accuracy: 0.9549 - val_loss: 0.1373 - val_accuracy: 0.9562\n",
      "Epoch 22/200\n",
      "\n",
      "Epoch 00022: ReduceLROnPlateau reducing learning rate to 4.999999873689376e-06.\n",
      "20800/20800 - 0s - loss: 0.1423 - accuracy: 0.9551 - val_loss: 0.1373 - val_accuracy: 0.9570\n",
      "Epoch 23/200\n",
      "20800/20800 - 0s - loss: 0.1430 - accuracy: 0.9555 - val_loss: 0.1371 - val_accuracy: 0.9570\n",
      "Epoch 24/200\n",
      "\n",
      "Epoch 00024: ReduceLROnPlateau reducing learning rate to 2.499999936844688e-06.\n",
      "20800/20800 - 0s - loss: 0.1430 - accuracy: 0.9559 - val_loss: 0.1368 - val_accuracy: 0.9570\n",
      "Epoch 25/200\n",
      "20800/20800 - 0s - loss: 0.1397 - accuracy: 0.9557 - val_loss: 0.1368 - val_accuracy: 0.9570\n",
      "Epoch 26/200\n",
      "\n",
      "Epoch 00026: ReduceLROnPlateau reducing learning rate to 1.249999968422344e-06.\n",
      "20800/20800 - 0s - loss: 0.1395 - accuracy: 0.9570 - val_loss: 0.1367 - val_accuracy: 0.9570\n",
      "Epoch 27/200\n",
      "20800/20800 - 0s - loss: 0.1434 - accuracy: 0.9554 - val_loss: 0.1367 - val_accuracy: 0.9570\n",
      "Epoch 28/200\n",
      "\n",
      "Epoch 00028: ReduceLROnPlateau reducing learning rate to 6.24999984211172e-07.\n",
      "20800/20800 - 0s - loss: 0.1396 - accuracy: 0.9563 - val_loss: 0.1366 - val_accuracy: 0.9570\n"
     ]
    }
   ],
   "source": [
    "history = model.fit(x=features_train_avg,\n",
    "                    y=y_train_avg,\n",
    "                    batch_size=128,\n",
    "                    initial_epoch=epoch,\n",
    "                    epochs=200,\n",
    "                    verbose=2,\n",
    "                    validation_data=(features_test_avg, y_test_avg),\n",
    "                    callbacks=[early_stop, mcp_save, reduce_lr, tensorboard_logs],\n",
    "                   )"
   ]
  },
  {
   "cell_type": "code",
   "execution_count": null,
   "metadata": {},
   "outputs": [],
   "source": []
  }
 ],
 "metadata": {
  "kernelspec": {
   "display_name": "venv_gym2",
   "language": "python",
   "name": "venv_gym2"
  },
  "language_info": {
   "codemirror_mode": {
    "name": "ipython",
    "version": 3
   },
   "file_extension": ".py",
   "mimetype": "text/x-python",
   "name": "python",
   "nbconvert_exporter": "python",
   "pygments_lexer": "ipython3",
   "version": "3.5.2"
  }
 },
 "nbformat": 4,
 "nbformat_minor": 2
}
