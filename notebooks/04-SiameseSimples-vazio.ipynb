{
 "cells": [
  {
   "cell_type": "code",
   "execution_count": 2,
   "metadata": {},
   "outputs": [],
   "source": [
    "import os\n",
    "MODEL_DIR = '../models'\n",
    "LOG_DIR = '../logs/02/'\n",
    "SIZE = (250, 250)\n",
    "caminho_bases = os.path.join('..', 'bases', 'vazios')\n",
    "caminho_train = os.path.join(caminho_bases, 'train')\n",
    "caminho_test = os.path.join(caminho_bases, 'test')"
   ]
  },
  {
   "cell_type": "markdown",
   "metadata": {},
   "source": [
    "# Callbacks"
   ]
  },
  {
   "cell_type": "code",
   "execution_count": null,
   "metadata": {},
   "outputs": [],
   "source": [
    "from tensorflow.keras.callbacks import EarlyStopping, ModelCheckpoint, \\\n",
    "    ReduceLROnPlateau, TensorBoard\n",
    "\n",
    "tensorboard_logs = TensorBoard(log_dir=LOG_DIR, histogram_freq=1,\n",
    "                               write_graph=False, write_images=False,\n",
    "                               update_freq='epoch')\n",
    "mcp_save = ModelCheckpoint(os.path.join(MODEL_DIR, \n",
    "                                        'Bmodelweights.{epoch:02d}-{val_loss:.2f}.hdf5'),\n",
    "                           save_best_only=True, monitor='val_loss', mode='min')\n",
    "early_stop = EarlyStopping(monitor='val_loss', patience=4, verbose=0, mode='min')\n",
    "reduce_lr = ReduceLROnPlateau(monitor='val_loss', factor=0.1, patience=2,\n",
    "                              verbose=1, min_delta=1e-2, mode='min')"
   ]
  },
  {
   "cell_type": "markdown",
   "metadata": {},
   "source": [
    "# Model"
   ]
  },
  {
   "cell_type": "code",
   "execution_count": null,
   "metadata": {},
   "outputs": [],
   "source": [
    "from tensorflow.keras.layers import Dense, Dropout, Flatten\n",
    "from tensorflow.keras.layers import Conv2D, MaxPooling2D\n",
    "from tensorflow.keras.optimizers import RMSprop\n",
    "\n",
    "SIZE = (224, 224)\n",
    "\n",
    "nuclear_model = tf.keras.models.Sequential([\n",
    "  tf.keras.layers.Conv2D(16, (3, 3),\n",
    "                         padding='same',\n",
    "                         activation='relu',\n",
    "                         input_shape=(*SIZE, 3)),\n",
    "  MaxPooling2D(pool_size=(2, 2)),\n",
    "  Conv2D(32, (3, 3), padding='same', activation='relu'),\n",
    "  MaxPooling2D(pool_size=(2, 2)),\n",
    "  Dropout(0.2),\n",
    "  Conv2D(64, (3, 3), padding='same', activation='relu'),\n",
    "  MaxPooling2D(pool_size=(2, 2)),\n",
    "  Dropout(0.25),\n",
    "  Conv2D(128, (3, 3), padding='same', activation='relu'),\n",
    "  MaxPooling2D(pool_size=(2, 2)),\n",
    "  Dropout(0.25),\n",
    "  Conv2D(128, (3, 3), activation='relu'),\n",
    "  MaxPooling2D(pool_size=(2, 2)),\n",
    "  Dropout(0.25),\n",
    "  Conv2D(256, (3, 3), activation='relu'),\n",
    "  Flatten(),\n",
    "  Dense(256, activation='relu'),\n",
    " \n",
    "])\n",
    "\n",
    "nuclear_model.summary()"
   ]
  },
  {
   "cell_type": "code",
   "execution_count": null,
   "metadata": {},
   "outputs": [],
   "source": [
    "from keras.layers import concatenate\n",
    "a_in = Input(shape=(*SIZE, 3))\n",
    "b_in = Input(shape=(*SIZE, 3))\n",
    "\n",
    "a_feat = nuclear_model(a_in)\n",
    "b_feat = nuclear_model(b_in)\n",
    "\n",
    "combined_features = concatenate([a_feat, b_feat], name = 'merge_features')\n",
    "combined_features = Dense(16, activation = 'linear')(combined_features)\n",
    "combined_features = BatchNormalization()(combined_features)\n",
    "combined_features = Activation('relu')(combined_features)\n",
    "combined_features = Dense(4, activation = 'linear')(combined_features)\n",
    "combined_features = BatchNormalization()(combined_features)\n",
    "combined_features = Activation('relu')(combined_features)\n",
    "combined_features = Dense(1, activation = 'sigmoid')(combined_features)\n",
    "similarity_model = Model(inputs = [img_a_in, img_b_in], outputs = [combined_features], name = 'Similarity_Model')\n",
    "similarity_model.summary()\n",
    "\n",
    "similarity_model.compile(optimizer='adam', loss = 'binary_crossentropy', metrics = ['mae'])"
   ]
  },
  {
   "cell_type": "markdown",
   "metadata": {},
   "source": [
    "# Training"
   ]
  },
  {
   "cell_type": "code",
   "execution_count": 23,
   "metadata": {},
   "outputs": [],
   "source": [
    "caminho_nvazio_train = os.path.join(caminho_train, 'nvazio')\n",
    "nvazio_train = [os.path.join(caminho_nvazio_train, arq) for arq in os.listdir(caminho_nvazio_train)]\n",
    "caminho_vazio_train = os.path.join(caminho_train, 'vazio')\n",
    "vazio_train = [os.path.join(caminho_vazio_train, arq) for arq in os.listdir(caminho_vazio_train)]\n"
   ]
  },
  {
   "cell_type": "code",
   "execution_count": 29,
   "metadata": {},
   "outputs": [],
   "source": [
    "from random import randint\n",
    "\n",
    "def generate_random_batch(nvazios_list, vazios_list, batch_size=16):\n",
    "    def get_item(classe):\n",
    "        if classe == 0:\n",
    "            return nvazios_list.pop()\n",
    "        return vazios_list.pop()\n",
    "    result = []\n",
    "    for i in range(batch_size):\n",
    "        classe1 = randint(0, 1)\n",
    "        item1 = get_item(classe1) \n",
    "        classe2 = randint(0, 1)\n",
    "        item2 = get_item(classe2) \n",
    "        result.append((item1, item2, int(classe1 == classe2)))\n",
    "    return result  "
   ]
  },
  {
   "cell_type": "code",
   "execution_count": 30,
   "metadata": {},
   "outputs": [
    {
     "data": {
      "text/plain": [
       "[('../bases/vazios/train/vazio/5aabcf3d2a87956e81eb1b9b.jpg',\n",
       "  '../bases/vazios/train/vazio/5aabe7ff2a879503d8050904.jpg',\n",
       "  1),\n",
       " ('../bases/vazios/train/nvazio/5c59d2fee450c23468e2a243.jpg',\n",
       "  '../bases/vazios/train/nvazio/5c59d555e450c2e7ec0614db.jpg',\n",
       "  1),\n",
       " ('../bases/vazios/train/vazio/5c59d5e1e450c2e88388b738.jpg',\n",
       "  '../bases/vazios/train/nvazio/5c59d2b9e450c23468e25d5f.jpg',\n",
       "  0),\n",
       " ('../bases/vazios/train/nvazio/5c59d52de450c2e7c7a0ca50.jpg',\n",
       "  '../bases/vazios/train/vazio/5c644706e450c223d175735d.jpg',\n",
       "  0),\n",
       " ('../bases/vazios/train/nvazio/5c59d3bbe450c2e5a3d2ee70.jpg',\n",
       "  '../bases/vazios/train/nvazio/5c59d50fe450c2e794932b44.jpg',\n",
       "  1),\n",
       " ('../bases/vazios/train/vazio/5c6446e3e450c223d1755b15.jpg',\n",
       "  '../bases/vazios/train/vazio/5c59d350e450c23468e2d136.jpg',\n",
       "  1),\n",
       " ('../bases/vazios/train/nvazio/5c59d39ce450c2e57e2fb1f7.jpg',\n",
       "  '../bases/vazios/train/vazio/5c6446aee450c223d175334f.jpg',\n",
       "  0),\n",
       " ('../bases/vazios/train/nvazio/5c59d2bde450c23468e265ab.jpg',\n",
       "  '../bases/vazios/train/nvazio/5c59d327e450c23468e2b9f9.jpg',\n",
       "  1),\n",
       " ('../bases/vazios/train/nvazio/5c59d2bce450c23468e26397.jpg',\n",
       "  '../bases/vazios/train/vazio/5c59d5dce450c2e88388b5f4.jpg',\n",
       "  0),\n",
       " ('../bases/vazios/train/nvazio/5c59d328e450c23468e2bab5.jpg',\n",
       "  '../bases/vazios/train/nvazio/5c59d2d3e450c23468e27da1.jpg',\n",
       "  1),\n",
       " ('../bases/vazios/train/nvazio/5c59d463e450c2e6a74a29f3.jpg',\n",
       "  '../bases/vazios/train/vazio/5c5c62c0e450c2bc07e12573.jpg',\n",
       "  0),\n",
       " ('../bases/vazios/train/nvazio/5c59d436e450c2e64fff49f5.jpg',\n",
       "  '../bases/vazios/train/nvazio/5c59d2ace450c23468e24914.jpg',\n",
       "  1),\n",
       " ('../bases/vazios/train/nvazio/5aa18b5f2a87953d7f028596.jpg',\n",
       "  '../bases/vazios/train/nvazio/5aa18d2e2a87953ebe57737c.jpg',\n",
       "  1),\n",
       " ('../bases/vazios/train/nvazio/5c59d37ae450c2e558e8c7bc.jpg',\n",
       "  '../bases/vazios/train/vazio/5c6c0065e450c2704f7860f3.jpg',\n",
       "  0),\n",
       " ('../bases/vazios/train/nvazio/5c59d310e450c23468e2aca4.jpg',\n",
       "  '../bases/vazios/train/vazio/5c5c6287e450c2bc07e110a6.jpg',\n",
       "  0),\n",
       " ('../bases/vazios/train/vazio/5c77fe3de450c2568e5f1917.jpg',\n",
       "  '../bases/vazios/train/nvazio/5c59d2bae450c23468e2600f.jpg',\n",
       "  0)]"
      ]
     },
     "execution_count": 30,
     "metadata": {},
     "output_type": "execute_result"
    }
   ],
   "source": [
    "generate_random_batch(nvazio_train, vazio_train)"
   ]
  },
  {
   "cell_type": "code",
   "execution_count": null,
   "metadata": {},
   "outputs": [],
   "source": []
  },
  {
   "cell_type": "code",
   "execution_count": null,
   "metadata": {},
   "outputs": [],
   "source": [
    "def image_triple_generator(image_triples, batch_size):\n",
    "    while True:\n",
    "        # loop once per epoch\n",
    "        num_recs = len(image_triples)\n",
    "        indices = np.random.permutation(np.arange(num_recs))\n",
    "        num_batches = num_recs // batch_size\n",
    "        for bid in range(num_batches):\n",
    "            # loop once per batch\n",
    "            batch_indices = indices[bid * batch_size : (bid + 1) * batch_size]\n",
    "            yield [image_triples[i] for i in batch_indices]\n",
    "            \n",
    "triples_batch_gen = image_triple_generator(image_triples, 4)\n",
    "triples_batch_gen.next()"
   ]
  }
 ],
 "metadata": {
  "kernelspec": {
   "display_name": "venv_gym2",
   "language": "python",
   "name": "venv_gym2"
  },
  "language_info": {
   "codemirror_mode": {
    "name": "ipython",
    "version": 3
   },
   "file_extension": ".py",
   "mimetype": "text/x-python",
   "name": "python",
   "nbconvert_exporter": "python",
   "pygments_lexer": "ipython3",
   "version": "3.5.2"
  }
 },
 "nbformat": 4,
 "nbformat_minor": 2
}
