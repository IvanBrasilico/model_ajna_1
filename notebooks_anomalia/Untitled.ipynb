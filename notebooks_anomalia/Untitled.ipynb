{
 "cells": [
  {
   "cell_type": "code",
   "execution_count": 1,
   "metadata": {
    "ExecuteTime": {
     "end_time": "2019-10-17T20:38:36.540992Z",
     "start_time": "2019-10-17T20:38:34.648964Z"
    }
   },
   "outputs": [],
   "source": [
    "import numpy as np\n",
    "from tensorflow.keras import layers\n",
    "from tensorflow.keras.models import Sequential"
   ]
  },
  {
   "cell_type": "code",
   "execution_count": 94,
   "metadata": {
    "ExecuteTime": {
     "end_time": "2019-10-17T20:56:11.017373Z",
     "start_time": "2019-10-17T20:56:10.949016Z"
    }
   },
   "outputs": [
    {
     "name": "stdout",
     "output_type": "stream",
     "text": [
      "Model: \"sequential_17\"\n",
      "_________________________________________________________________\n",
      "Layer (type)                 Output Shape              Param #   \n",
      "=================================================================\n",
      "dense_47 (Dense)             (None, 20)                60        \n",
      "_________________________________________________________________\n",
      "dense_48 (Dense)             (None, 10)                210       \n",
      "_________________________________________________________________\n",
      "dense_49 (Dense)             (None, 10)                110       \n",
      "_________________________________________________________________\n",
      "dense_50 (Dense)             (None, 1)                 11        \n",
      "=================================================================\n",
      "Total params: 391\n",
      "Trainable params: 391\n",
      "Non-trainable params: 0\n",
      "_________________________________________________________________\n"
     ]
    }
   ],
   "source": [
    "def model1():\n",
    "    model = Sequential()\n",
    "    model.add(layers.Dense(20, input_shape=(2,), activation='sigmoid'))\n",
    "    model.add(layers.Dense(10, activation='sigmoid'))\n",
    "    model.add(layers.Dense(10, activation='sigmoid'))\n",
    "    model.add(layers.Dense(1, activation='sigmoid'))\n",
    "    model.compile(loss='binary_crossentropy',\n",
    "                  metrics=['accuracy'],\n",
    "                 optimizer='adam')\n",
    "    return model\n",
    "model = model1()\n",
    "model.summary()"
   ]
  },
  {
   "cell_type": "code",
   "execution_count": 95,
   "metadata": {
    "ExecuteTime": {
     "end_time": "2019-10-17T20:56:11.422691Z",
     "start_time": "2019-10-17T20:56:11.413845Z"
    }
   },
   "outputs": [],
   "source": [
    "conhecimento = np.array((20,10,30,20,80,30))\n",
    "comunicacao = np.array((90,20,40,50,50,80))\n",
    "aprovacao = np.array((1,0,0,0,1,1))\n",
    "\n",
    "\n",
    "X = np.vstack([conhecimento, comunicacao])"
   ]
  },
  {
   "cell_type": "code",
   "execution_count": 96,
   "metadata": {
    "ExecuteTime": {
     "end_time": "2019-10-17T20:56:11.849674Z",
     "start_time": "2019-10-17T20:56:11.844130Z"
    }
   },
   "outputs": [
    {
     "data": {
      "text/plain": [
       "array([20, 10, 30, 20, 80, 30])"
      ]
     },
     "execution_count": 96,
     "metadata": {},
     "output_type": "execute_result"
    }
   ],
   "source": [
    "conhecimento"
   ]
  },
  {
   "cell_type": "code",
   "execution_count": 97,
   "metadata": {
    "ExecuteTime": {
     "end_time": "2019-10-17T20:56:12.456893Z",
     "start_time": "2019-10-17T20:56:12.450447Z"
    }
   },
   "outputs": [],
   "source": [
    "X = np.rot90(X)"
   ]
  },
  {
   "cell_type": "code",
   "execution_count": 98,
   "metadata": {
    "ExecuteTime": {
     "end_time": "2019-10-17T20:56:13.676211Z",
     "start_time": "2019-10-17T20:56:13.027580Z"
    }
   },
   "outputs": [
    {
     "name": "stdout",
     "output_type": "stream",
     "text": [
      "Train on 6 samples\n",
      "Epoch 1/100\n",
      "6/6 [==============================] - 0s 56ms/sample - loss: 0.7209 - accuracy: 0.5000\n",
      "Epoch 2/100\n",
      "6/6 [==============================] - 0s 1ms/sample - loss: 0.7190 - accuracy: 0.5000\n",
      "Epoch 3/100\n",
      "6/6 [==============================] - 0s 442us/sample - loss: 0.7172 - accuracy: 0.5000\n",
      "Epoch 4/100\n",
      "6/6 [==============================] - 0s 471us/sample - loss: 0.7154 - accuracy: 0.5000\n",
      "Epoch 5/100\n",
      "6/6 [==============================] - 0s 449us/sample - loss: 0.7137 - accuracy: 0.5000\n",
      "Epoch 6/100\n",
      "6/6 [==============================] - 0s 378us/sample - loss: 0.7120 - accuracy: 0.5000\n",
      "Epoch 7/100\n",
      "6/6 [==============================] - 0s 315us/sample - loss: 0.7104 - accuracy: 0.5000\n",
      "Epoch 8/100\n",
      "6/6 [==============================] - 0s 261us/sample - loss: 0.7088 - accuracy: 0.5000\n",
      "Epoch 9/100\n",
      "6/6 [==============================] - 0s 378us/sample - loss: 0.7073 - accuracy: 0.5000\n",
      "Epoch 10/100\n",
      "6/6 [==============================] - 0s 417us/sample - loss: 0.7059 - accuracy: 0.5000\n",
      "Epoch 11/100\n",
      "6/6 [==============================] - 0s 499us/sample - loss: 0.7045 - accuracy: 0.5000\n",
      "Epoch 12/100\n",
      "6/6 [==============================] - 0s 392us/sample - loss: 0.7031 - accuracy: 0.5000\n",
      "Epoch 13/100\n",
      "6/6 [==============================] - 0s 327us/sample - loss: 0.7018 - accuracy: 0.5000\n",
      "Epoch 14/100\n",
      "6/6 [==============================] - 0s 280us/sample - loss: 0.7006 - accuracy: 0.5000\n",
      "Epoch 15/100\n",
      "6/6 [==============================] - 0s 389us/sample - loss: 0.6994 - accuracy: 0.5000\n",
      "Epoch 16/100\n",
      "6/6 [==============================] - 0s 254us/sample - loss: 0.6983 - accuracy: 0.5000\n",
      "Epoch 17/100\n",
      "6/6 [==============================] - 0s 287us/sample - loss: 0.6972 - accuracy: 0.5000\n",
      "Epoch 18/100\n",
      "6/6 [==============================] - 0s 308us/sample - loss: 0.6961 - accuracy: 0.5000\n",
      "Epoch 19/100\n",
      "6/6 [==============================] - 0s 594us/sample - loss: 0.6951 - accuracy: 0.5000\n",
      "Epoch 20/100\n",
      "6/6 [==============================] - 0s 437us/sample - loss: 0.6942 - accuracy: 0.5000\n",
      "Epoch 21/100\n",
      "6/6 [==============================] - 0s 309us/sample - loss: 0.6933 - accuracy: 0.5000\n",
      "Epoch 22/100\n",
      "6/6 [==============================] - 0s 261us/sample - loss: 0.6924 - accuracy: 0.5000\n",
      "Epoch 23/100\n",
      "6/6 [==============================] - 0s 272us/sample - loss: 0.6916 - accuracy: 0.5000\n",
      "Epoch 24/100\n",
      "6/6 [==============================] - 0s 235us/sample - loss: 0.6908 - accuracy: 0.5000\n",
      "Epoch 25/100\n",
      "6/6 [==============================] - 0s 282us/sample - loss: 0.6900 - accuracy: 0.5000\n",
      "Epoch 26/100\n",
      "6/6 [==============================] - 0s 265us/sample - loss: 0.6893 - accuracy: 0.5000\n",
      "Epoch 27/100\n",
      "6/6 [==============================] - 0s 248us/sample - loss: 0.6885 - accuracy: 0.5000\n",
      "Epoch 28/100\n",
      "6/6 [==============================] - 0s 256us/sample - loss: 0.6879 - accuracy: 0.5000\n",
      "Epoch 29/100\n",
      "6/6 [==============================] - 0s 253us/sample - loss: 0.6872 - accuracy: 0.5000\n",
      "Epoch 30/100\n",
      "6/6 [==============================] - 0s 224us/sample - loss: 0.6866 - accuracy: 0.5000\n",
      "Epoch 31/100\n",
      "6/6 [==============================] - 0s 245us/sample - loss: 0.6860 - accuracy: 0.5000\n",
      "Epoch 32/100\n",
      "6/6 [==============================] - 0s 240us/sample - loss: 0.6854 - accuracy: 0.5000\n",
      "Epoch 33/100\n",
      "6/6 [==============================] - 0s 242us/sample - loss: 0.6848 - accuracy: 0.5000\n",
      "Epoch 34/100\n",
      "6/6 [==============================] - 0s 244us/sample - loss: 0.6843 - accuracy: 0.5000\n",
      "Epoch 35/100\n",
      "6/6 [==============================] - 0s 286us/sample - loss: 0.6838 - accuracy: 0.5000\n",
      "Epoch 36/100\n",
      "6/6 [==============================] - 0s 251us/sample - loss: 0.6833 - accuracy: 0.5000\n",
      "Epoch 37/100\n",
      "6/6 [==============================] - 0s 363us/sample - loss: 0.6829 - accuracy: 0.5000\n",
      "Epoch 38/100\n",
      "6/6 [==============================] - 0s 359us/sample - loss: 0.6824 - accuracy: 0.5000\n",
      "Epoch 39/100\n",
      "6/6 [==============================] - 0s 313us/sample - loss: 0.6820 - accuracy: 0.6667\n",
      "Epoch 40/100\n",
      "6/6 [==============================] - 0s 313us/sample - loss: 0.6816 - accuracy: 0.6667\n",
      "Epoch 41/100\n",
      "6/6 [==============================] - 0s 481us/sample - loss: 0.6812 - accuracy: 0.6667\n",
      "Epoch 42/100\n",
      "6/6 [==============================] - 0s 339us/sample - loss: 0.6808 - accuracy: 0.6667\n",
      "Epoch 43/100\n",
      "6/6 [==============================] - 0s 324us/sample - loss: 0.6804 - accuracy: 0.6667\n",
      "Epoch 44/100\n",
      "6/6 [==============================] - 0s 313us/sample - loss: 0.6801 - accuracy: 0.6667\n",
      "Epoch 45/100\n",
      "6/6 [==============================] - 0s 283us/sample - loss: 0.6797 - accuracy: 0.6667\n",
      "Epoch 46/100\n",
      "6/6 [==============================] - 0s 246us/sample - loss: 0.6794 - accuracy: 0.8333\n",
      "Epoch 47/100\n",
      "6/6 [==============================] - 0s 227us/sample - loss: 0.6790 - accuracy: 0.8333\n",
      "Epoch 48/100\n",
      "6/6 [==============================] - 0s 273us/sample - loss: 0.6787 - accuracy: 0.8333\n",
      "Epoch 49/100\n",
      "6/6 [==============================] - 0s 249us/sample - loss: 0.6783 - accuracy: 0.8333\n",
      "Epoch 50/100\n",
      "6/6 [==============================] - 0s 291us/sample - loss: 0.6780 - accuracy: 0.8333\n",
      "Epoch 51/100\n",
      "6/6 [==============================] - 0s 295us/sample - loss: 0.6776 - accuracy: 0.8333\n",
      "Epoch 52/100\n",
      "6/6 [==============================] - 0s 262us/sample - loss: 0.6773 - accuracy: 0.8333\n",
      "Epoch 53/100\n",
      "6/6 [==============================] - 0s 246us/sample - loss: 0.6769 - accuracy: 0.8333\n",
      "Epoch 54/100\n",
      "6/6 [==============================] - 0s 230us/sample - loss: 0.6766 - accuracy: 0.8333\n",
      "Epoch 55/100\n",
      "6/6 [==============================] - 0s 241us/sample - loss: 0.6762 - accuracy: 0.8333\n",
      "Epoch 56/100\n",
      "6/6 [==============================] - 0s 316us/sample - loss: 0.6758 - accuracy: 0.8333\n",
      "Epoch 57/100\n",
      "6/6 [==============================] - 0s 305us/sample - loss: 0.6754 - accuracy: 0.8333\n",
      "Epoch 58/100\n",
      "6/6 [==============================] - 0s 345us/sample - loss: 0.6751 - accuracy: 0.8333\n",
      "Epoch 59/100\n",
      "6/6 [==============================] - 0s 296us/sample - loss: 0.6747 - accuracy: 0.8333\n",
      "Epoch 60/100\n",
      "6/6 [==============================] - 0s 295us/sample - loss: 0.6743 - accuracy: 0.8333\n",
      "Epoch 61/100\n",
      "6/6 [==============================] - 0s 287us/sample - loss: 0.6739 - accuracy: 0.8333\n",
      "Epoch 62/100\n",
      "6/6 [==============================] - 0s 556us/sample - loss: 0.6735 - accuracy: 0.8333\n",
      "Epoch 63/100\n",
      "6/6 [==============================] - 0s 403us/sample - loss: 0.6731 - accuracy: 0.8333\n",
      "Epoch 64/100\n",
      "6/6 [==============================] - 0s 283us/sample - loss: 0.6727 - accuracy: 0.8333\n",
      "Epoch 65/100\n",
      "6/6 [==============================] - 0s 301us/sample - loss: 0.6723 - accuracy: 0.8333\n",
      "Epoch 66/100\n",
      "6/6 [==============================] - 0s 270us/sample - loss: 0.6719 - accuracy: 0.8333\n",
      "Epoch 67/100\n",
      "6/6 [==============================] - 0s 253us/sample - loss: 0.6715 - accuracy: 0.8333\n",
      "Epoch 68/100\n",
      "6/6 [==============================] - 0s 252us/sample - loss: 0.6711 - accuracy: 0.8333\n",
      "Epoch 69/100\n",
      "6/6 [==============================] - 0s 272us/sample - loss: 0.6707 - accuracy: 0.8333\n",
      "Epoch 70/100\n",
      "6/6 [==============================] - 0s 257us/sample - loss: 0.6703 - accuracy: 0.8333\n",
      "Epoch 71/100\n",
      "6/6 [==============================] - 0s 269us/sample - loss: 0.6699 - accuracy: 0.8333\n",
      "Epoch 72/100\n",
      "6/6 [==============================] - 0s 328us/sample - loss: 0.6694 - accuracy: 0.8333\n",
      "Epoch 73/100\n",
      "6/6 [==============================] - 0s 316us/sample - loss: 0.6690 - accuracy: 0.8333\n",
      "Epoch 74/100\n",
      "6/6 [==============================] - 0s 249us/sample - loss: 0.6686 - accuracy: 0.8333\n",
      "Epoch 75/100\n",
      "6/6 [==============================] - 0s 317us/sample - loss: 0.6681 - accuracy: 0.8333\n",
      "Epoch 76/100\n",
      "6/6 [==============================] - 0s 399us/sample - loss: 0.6677 - accuracy: 0.8333\n",
      "Epoch 77/100\n",
      "6/6 [==============================] - 0s 370us/sample - loss: 0.6672 - accuracy: 0.8333\n",
      "Epoch 78/100\n",
      "6/6 [==============================] - 0s 426us/sample - loss: 0.6667 - accuracy: 0.8333\n",
      "Epoch 79/100\n",
      "6/6 [==============================] - 0s 331us/sample - loss: 0.6663 - accuracy: 0.8333\n",
      "Epoch 80/100\n",
      "6/6 [==============================] - 0s 528us/sample - loss: 0.6658 - accuracy: 0.8333\n",
      "Epoch 81/100\n",
      "6/6 [==============================] - 0s 423us/sample - loss: 0.6653 - accuracy: 0.8333\n"
     ]
    },
    {
     "name": "stdout",
     "output_type": "stream",
     "text": [
      "Epoch 82/100\n",
      "6/6 [==============================] - 0s 345us/sample - loss: 0.6648 - accuracy: 0.8333\n",
      "Epoch 83/100\n",
      "6/6 [==============================] - 0s 302us/sample - loss: 0.6643 - accuracy: 0.8333\n",
      "Epoch 84/100\n",
      "6/6 [==============================] - 0s 331us/sample - loss: 0.6638 - accuracy: 0.8333\n",
      "Epoch 85/100\n",
      "6/6 [==============================] - 0s 334us/sample - loss: 0.6632 - accuracy: 0.8333\n",
      "Epoch 86/100\n",
      "6/6 [==============================] - 0s 415us/sample - loss: 0.6627 - accuracy: 0.8333\n",
      "Epoch 87/100\n",
      "6/6 [==============================] - 0s 394us/sample - loss: 0.6621 - accuracy: 0.8333\n",
      "Epoch 88/100\n",
      "6/6 [==============================] - 0s 359us/sample - loss: 0.6616 - accuracy: 0.8333\n",
      "Epoch 89/100\n",
      "6/6 [==============================] - 0s 276us/sample - loss: 0.6610 - accuracy: 0.8333\n",
      "Epoch 90/100\n",
      "6/6 [==============================] - 0s 271us/sample - loss: 0.6604 - accuracy: 0.8333\n",
      "Epoch 91/100\n",
      "6/6 [==============================] - 0s 260us/sample - loss: 0.6598 - accuracy: 0.8333\n",
      "Epoch 92/100\n",
      "6/6 [==============================] - 0s 376us/sample - loss: 0.6592 - accuracy: 0.8333\n",
      "Epoch 93/100\n",
      "6/6 [==============================] - 0s 362us/sample - loss: 0.6585 - accuracy: 0.8333\n",
      "Epoch 94/100\n",
      "6/6 [==============================] - 0s 473us/sample - loss: 0.6579 - accuracy: 0.8333\n",
      "Epoch 95/100\n",
      "6/6 [==============================] - 0s 693us/sample - loss: 0.6572 - accuracy: 0.8333\n",
      "Epoch 96/100\n",
      "6/6 [==============================] - 0s 551us/sample - loss: 0.6565 - accuracy: 0.8333\n",
      "Epoch 97/100\n",
      "6/6 [==============================] - 0s 362us/sample - loss: 0.6558 - accuracy: 0.8333\n",
      "Epoch 98/100\n",
      "6/6 [==============================] - 0s 361us/sample - loss: 0.6550 - accuracy: 0.8333\n",
      "Epoch 99/100\n",
      "6/6 [==============================] - 0s 519us/sample - loss: 0.6543 - accuracy: 0.8333\n",
      "Epoch 100/100\n",
      "6/6 [==============================] - 0s 377us/sample - loss: 0.6535 - accuracy: 0.8333\n"
     ]
    },
    {
     "data": {
      "text/plain": [
       "<tensorflow.python.keras.callbacks.History at 0x7fd7ae693400>"
      ]
     },
     "execution_count": 98,
     "metadata": {},
     "output_type": "execute_result"
    }
   ],
   "source": [
    "model.fit(X, aprovacao, epochs=100)"
   ]
  },
  {
   "cell_type": "code",
   "execution_count": 99,
   "metadata": {
    "ExecuteTime": {
     "end_time": "2019-10-17T20:56:29.225315Z",
     "start_time": "2019-10-17T20:56:29.126024Z"
    }
   },
   "outputs": [
    {
     "name": "stdout",
     "output_type": "stream",
     "text": [
      "\r",
      "6/1 [====================================================================================================================================================================================] - 0s 10ms/sample - loss: 0.6527 - accuracy: 0.8333\n"
     ]
    },
    {
     "data": {
      "text/plain": [
       "[0.6527442336082458, 0.8333333]"
      ]
     },
     "execution_count": 99,
     "metadata": {},
     "output_type": "execute_result"
    }
   ],
   "source": [
    "model.evaluate(X, aprovacao)"
   ]
  },
  {
   "cell_type": "code",
   "execution_count": 100,
   "metadata": {
    "ExecuteTime": {
     "end_time": "2019-10-17T20:56:32.803551Z",
     "start_time": "2019-10-17T20:56:32.800889Z"
    }
   },
   "outputs": [],
   "source": [
    "from sklearn.preprocessing import MinMaxScaler\n",
    "\n",
    "scaler = MinMaxScaler()\n",
    "scaler.fit(X)\n",
    "scaled = scaler.transform(X)"
   ]
  },
  {
   "cell_type": "code",
   "execution_count": 101,
   "metadata": {
    "ExecuteTime": {
     "end_time": "2019-10-17T20:56:33.540013Z",
     "start_time": "2019-10-17T20:56:33.453332Z"
    }
   },
   "outputs": [],
   "source": [
    "model = model1()"
   ]
  },
  {
   "cell_type": "code",
   "execution_count": 102,
   "metadata": {
    "ExecuteTime": {
     "end_time": "2019-10-17T20:56:34.728725Z",
     "start_time": "2019-10-17T20:56:34.122975Z"
    }
   },
   "outputs": [
    {
     "name": "stdout",
     "output_type": "stream",
     "text": [
      "Train on 6 samples\n",
      "Epoch 1/100\n",
      "6/6 [==============================] - 0s 50ms/sample - loss: 0.7036 - accuracy: 0.5000\n",
      "Epoch 2/100\n",
      "6/6 [==============================] - 0s 293us/sample - loss: 0.7027 - accuracy: 0.5000\n",
      "Epoch 3/100\n",
      "6/6 [==============================] - 0s 270us/sample - loss: 0.7020 - accuracy: 0.5000\n",
      "Epoch 4/100\n",
      "6/6 [==============================] - 0s 681us/sample - loss: 0.7012 - accuracy: 0.5000\n",
      "Epoch 5/100\n",
      "6/6 [==============================] - 0s 435us/sample - loss: 0.7005 - accuracy: 0.5000\n",
      "Epoch 6/100\n",
      "6/6 [==============================] - 0s 483us/sample - loss: 0.6998 - accuracy: 0.5000\n",
      "Epoch 7/100\n",
      "6/6 [==============================] - 0s 640us/sample - loss: 0.6992 - accuracy: 0.5000\n",
      "Epoch 8/100\n",
      "6/6 [==============================] - 0s 575us/sample - loss: 0.6986 - accuracy: 0.5000\n",
      "Epoch 9/100\n",
      "6/6 [==============================] - 0s 323us/sample - loss: 0.6980 - accuracy: 0.5000\n",
      "Epoch 10/100\n",
      "6/6 [==============================] - 0s 294us/sample - loss: 0.6975 - accuracy: 0.5000\n",
      "Epoch 11/100\n",
      "6/6 [==============================] - 0s 326us/sample - loss: 0.6970 - accuracy: 0.5000\n",
      "Epoch 12/100\n",
      "6/6 [==============================] - 0s 590us/sample - loss: 0.6965 - accuracy: 0.5000\n",
      "Epoch 13/100\n",
      "6/6 [==============================] - 0s 640us/sample - loss: 0.6961 - accuracy: 0.5000\n",
      "Epoch 14/100\n",
      "6/6 [==============================] - 0s 340us/sample - loss: 0.6957 - accuracy: 0.5000\n",
      "Epoch 15/100\n",
      "6/6 [==============================] - 0s 507us/sample - loss: 0.6953 - accuracy: 0.5000\n",
      "Epoch 16/100\n",
      "6/6 [==============================] - 0s 542us/sample - loss: 0.6950 - accuracy: 0.5000\n",
      "Epoch 17/100\n",
      "6/6 [==============================] - 0s 403us/sample - loss: 0.6947 - accuracy: 0.5000\n",
      "Epoch 18/100\n",
      "6/6 [==============================] - 0s 290us/sample - loss: 0.6944 - accuracy: 0.5000\n",
      "Epoch 19/100\n",
      "6/6 [==============================] - 0s 329us/sample - loss: 0.6942 - accuracy: 0.5000\n",
      "Epoch 20/100\n",
      "6/6 [==============================] - 0s 371us/sample - loss: 0.6939 - accuracy: 0.5000\n",
      "Epoch 21/100\n",
      "6/6 [==============================] - 0s 439us/sample - loss: 0.6938 - accuracy: 0.5000\n",
      "Epoch 22/100\n",
      "6/6 [==============================] - 0s 428us/sample - loss: 0.6936 - accuracy: 0.5000\n",
      "Epoch 23/100\n",
      "6/6 [==============================] - 0s 308us/sample - loss: 0.6935 - accuracy: 0.5000\n",
      "Epoch 24/100\n",
      "6/6 [==============================] - 0s 230us/sample - loss: 0.6933 - accuracy: 0.5000\n",
      "Epoch 25/100\n",
      "6/6 [==============================] - 0s 228us/sample - loss: 0.6932 - accuracy: 0.5000\n",
      "Epoch 26/100\n",
      "6/6 [==============================] - 0s 273us/sample - loss: 0.6932 - accuracy: 0.5000\n",
      "Epoch 27/100\n",
      "6/6 [==============================] - 0s 297us/sample - loss: 0.6931 - accuracy: 0.5000\n",
      "Epoch 28/100\n",
      "6/6 [==============================] - 0s 266us/sample - loss: 0.6930 - accuracy: 0.5000\n",
      "Epoch 29/100\n",
      "6/6 [==============================] - 0s 295us/sample - loss: 0.6930 - accuracy: 0.5000\n",
      "Epoch 30/100\n",
      "6/6 [==============================] - 0s 307us/sample - loss: 0.6930 - accuracy: 0.5000\n",
      "Epoch 31/100\n",
      "6/6 [==============================] - 0s 302us/sample - loss: 0.6930 - accuracy: 0.5000\n",
      "Epoch 32/100\n",
      "6/6 [==============================] - 0s 260us/sample - loss: 0.6929 - accuracy: 0.6667\n",
      "Epoch 33/100\n",
      "6/6 [==============================] - 0s 235us/sample - loss: 0.6929 - accuracy: 0.5000\n",
      "Epoch 34/100\n",
      "6/6 [==============================] - 0s 308us/sample - loss: 0.6929 - accuracy: 0.5000\n",
      "Epoch 35/100\n",
      "6/6 [==============================] - 0s 314us/sample - loss: 0.6929 - accuracy: 0.5000\n",
      "Epoch 36/100\n",
      "6/6 [==============================] - 0s 291us/sample - loss: 0.6929 - accuracy: 0.5000\n",
      "Epoch 37/100\n",
      "6/6 [==============================] - 0s 290us/sample - loss: 0.6929 - accuracy: 0.5000\n",
      "Epoch 38/100\n",
      "6/6 [==============================] - 0s 280us/sample - loss: 0.6929 - accuracy: 0.5000\n",
      "Epoch 39/100\n",
      "6/6 [==============================] - 0s 459us/sample - loss: 0.6929 - accuracy: 0.5000\n",
      "Epoch 40/100\n",
      "6/6 [==============================] - 0s 484us/sample - loss: 0.6929 - accuracy: 0.5000\n",
      "Epoch 41/100\n",
      "6/6 [==============================] - 0s 356us/sample - loss: 0.6929 - accuracy: 0.5000\n",
      "Epoch 42/100\n",
      "6/6 [==============================] - 0s 311us/sample - loss: 0.6929 - accuracy: 0.5000\n",
      "Epoch 43/100\n",
      "6/6 [==============================] - 0s 264us/sample - loss: 0.6929 - accuracy: 0.5000\n",
      "Epoch 44/100\n",
      "6/6 [==============================] - 0s 247us/sample - loss: 0.6929 - accuracy: 0.5000\n",
      "Epoch 45/100\n",
      "6/6 [==============================] - 0s 260us/sample - loss: 0.6929 - accuracy: 0.5000\n",
      "Epoch 46/100\n",
      "6/6 [==============================] - 0s 247us/sample - loss: 0.6929 - accuracy: 0.5000\n",
      "Epoch 47/100\n",
      "6/6 [==============================] - 0s 279us/sample - loss: 0.6929 - accuracy: 0.5000\n",
      "Epoch 48/100\n",
      "6/6 [==============================] - 0s 274us/sample - loss: 0.6928 - accuracy: 0.5000\n",
      "Epoch 49/100\n",
      "6/6 [==============================] - 0s 287us/sample - loss: 0.6928 - accuracy: 0.5000\n",
      "Epoch 50/100\n",
      "6/6 [==============================] - 0s 286us/sample - loss: 0.6928 - accuracy: 0.5000\n",
      "Epoch 51/100\n",
      "6/6 [==============================] - 0s 295us/sample - loss: 0.6928 - accuracy: 0.5000\n",
      "Epoch 52/100\n",
      "6/6 [==============================] - 0s 234us/sample - loss: 0.6928 - accuracy: 0.5000\n",
      "Epoch 53/100\n",
      "6/6 [==============================] - 0s 300us/sample - loss: 0.6927 - accuracy: 0.5000\n",
      "Epoch 54/100\n",
      "6/6 [==============================] - 0s 331us/sample - loss: 0.6927 - accuracy: 0.5000\n",
      "Epoch 55/100\n",
      "6/6 [==============================] - 0s 324us/sample - loss: 0.6927 - accuracy: 0.5000\n",
      "Epoch 56/100\n",
      "6/6 [==============================] - 0s 331us/sample - loss: 0.6927 - accuracy: 0.5000\n",
      "Epoch 57/100\n",
      "6/6 [==============================] - 0s 337us/sample - loss: 0.6927 - accuracy: 0.5000\n",
      "Epoch 58/100\n",
      "6/6 [==============================] - 0s 499us/sample - loss: 0.6927 - accuracy: 0.5000\n",
      "Epoch 59/100\n",
      "6/6 [==============================] - 0s 371us/sample - loss: 0.6926 - accuracy: 0.5000\n",
      "Epoch 60/100\n",
      "6/6 [==============================] - 0s 293us/sample - loss: 0.6926 - accuracy: 0.5000\n",
      "Epoch 61/100\n",
      "6/6 [==============================] - 0s 281us/sample - loss: 0.6926 - accuracy: 0.5000\n",
      "Epoch 62/100\n",
      "6/6 [==============================] - 0s 276us/sample - loss: 0.6926 - accuracy: 0.5000\n",
      "Epoch 63/100\n",
      "6/6 [==============================] - 0s 303us/sample - loss: 0.6926 - accuracy: 0.5000\n",
      "Epoch 64/100\n",
      "6/6 [==============================] - 0s 280us/sample - loss: 0.6926 - accuracy: 0.5000\n",
      "Epoch 65/100\n",
      "6/6 [==============================] - 0s 249us/sample - loss: 0.6925 - accuracy: 0.6667\n",
      "Epoch 66/100\n",
      "6/6 [==============================] - 0s 290us/sample - loss: 0.6925 - accuracy: 0.6667\n",
      "Epoch 67/100\n",
      "6/6 [==============================] - 0s 268us/sample - loss: 0.6925 - accuracy: 0.6667\n",
      "Epoch 68/100\n",
      "6/6 [==============================] - 0s 257us/sample - loss: 0.6925 - accuracy: 0.6667\n",
      "Epoch 69/100\n",
      "6/6 [==============================] - 0s 251us/sample - loss: 0.6925 - accuracy: 0.8333\n",
      "Epoch 70/100\n",
      "6/6 [==============================] - 0s 246us/sample - loss: 0.6925 - accuracy: 0.8333\n",
      "Epoch 71/100\n",
      "6/6 [==============================] - 0s 250us/sample - loss: 0.6924 - accuracy: 0.6667\n",
      "Epoch 72/100\n",
      "6/6 [==============================] - 0s 218us/sample - loss: 0.6924 - accuracy: 0.6667\n",
      "Epoch 73/100\n",
      "6/6 [==============================] - 0s 495us/sample - loss: 0.6924 - accuracy: 0.6667\n",
      "Epoch 74/100\n",
      "6/6 [==============================] - 0s 322us/sample - loss: 0.6924 - accuracy: 0.6667\n",
      "Epoch 75/100\n",
      "6/6 [==============================] - 0s 356us/sample - loss: 0.6924 - accuracy: 0.5000\n",
      "Epoch 76/100\n",
      "6/6 [==============================] - 0s 350us/sample - loss: 0.6924 - accuracy: 0.5000\n",
      "Epoch 77/100\n",
      "6/6 [==============================] - 0s 315us/sample - loss: 0.6923 - accuracy: 0.5000\n",
      "Epoch 78/100\n",
      "6/6 [==============================] - 0s 790us/sample - loss: 0.6923 - accuracy: 0.5000\n",
      "Epoch 79/100\n",
      "6/6 [==============================] - 0s 409us/sample - loss: 0.6923 - accuracy: 0.5000\n",
      "Epoch 80/100\n",
      "6/6 [==============================] - 0s 396us/sample - loss: 0.6923 - accuracy: 0.6667\n",
      "Epoch 81/100\n",
      "6/6 [==============================] - 0s 286us/sample - loss: 0.6923 - accuracy: 0.6667\n"
     ]
    },
    {
     "name": "stdout",
     "output_type": "stream",
     "text": [
      "Epoch 82/100\n",
      "6/6 [==============================] - 0s 235us/sample - loss: 0.6923 - accuracy: 0.6667\n",
      "Epoch 83/100\n",
      "6/6 [==============================] - 0s 260us/sample - loss: 0.6922 - accuracy: 0.6667\n",
      "Epoch 84/100\n",
      "6/6 [==============================] - 0s 272us/sample - loss: 0.6922 - accuracy: 0.6667\n",
      "Epoch 85/100\n",
      "6/6 [==============================] - 0s 246us/sample - loss: 0.6922 - accuracy: 0.6667\n",
      "Epoch 86/100\n",
      "6/6 [==============================] - 0s 262us/sample - loss: 0.6922 - accuracy: 0.8333\n",
      "Epoch 87/100\n",
      "6/6 [==============================] - 0s 258us/sample - loss: 0.6922 - accuracy: 0.8333\n",
      "Epoch 88/100\n",
      "6/6 [==============================] - 0s 307us/sample - loss: 0.6921 - accuracy: 0.8333\n",
      "Epoch 89/100\n",
      "6/6 [==============================] - 0s 279us/sample - loss: 0.6921 - accuracy: 0.6667\n",
      "Epoch 90/100\n",
      "6/6 [==============================] - 0s 320us/sample - loss: 0.6921 - accuracy: 0.6667\n",
      "Epoch 91/100\n",
      "6/6 [==============================] - 0s 302us/sample - loss: 0.6921 - accuracy: 0.6667\n",
      "Epoch 92/100\n",
      "6/6 [==============================] - 0s 421us/sample - loss: 0.6920 - accuracy: 0.6667\n",
      "Epoch 93/100\n",
      "6/6 [==============================] - 0s 291us/sample - loss: 0.6920 - accuracy: 0.6667\n",
      "Epoch 94/100\n",
      "6/6 [==============================] - 0s 258us/sample - loss: 0.6920 - accuracy: 0.6667\n",
      "Epoch 95/100\n",
      "6/6 [==============================] - 0s 346us/sample - loss: 0.6920 - accuracy: 0.8333\n",
      "Epoch 96/100\n",
      "6/6 [==============================] - 0s 617us/sample - loss: 0.6919 - accuracy: 0.8333\n",
      "Epoch 97/100\n",
      "6/6 [==============================] - 0s 289us/sample - loss: 0.6919 - accuracy: 0.6667\n",
      "Epoch 98/100\n",
      "6/6 [==============================] - 0s 250us/sample - loss: 0.6919 - accuracy: 0.6667\n",
      "Epoch 99/100\n",
      "6/6 [==============================] - 0s 347us/sample - loss: 0.6919 - accuracy: 0.6667\n",
      "Epoch 100/100\n",
      "6/6 [==============================] - 0s 332us/sample - loss: 0.6918 - accuracy: 0.6667\n"
     ]
    },
    {
     "data": {
      "text/plain": [
       "<tensorflow.python.keras.callbacks.History at 0x7fd7acf5be10>"
      ]
     },
     "execution_count": 102,
     "metadata": {},
     "output_type": "execute_result"
    }
   ],
   "source": [
    "model.fit(scaled, aprovacao, epochs=100)"
   ]
  },
  {
   "cell_type": "code",
   "execution_count": 103,
   "metadata": {
    "ExecuteTime": {
     "end_time": "2019-10-17T20:56:43.829600Z",
     "start_time": "2019-10-17T20:56:43.735179Z"
    }
   },
   "outputs": [
    {
     "name": "stdout",
     "output_type": "stream",
     "text": [
      "\r",
      "6/1 [====================================================================================================================================================================================] - 0s 10ms/sample - loss: 0.6855 - accuracy: 0.6667\n"
     ]
    },
    {
     "data": {
      "text/plain": [
       "[0.6855430603027344, 0.6666667]"
      ]
     },
     "execution_count": 103,
     "metadata": {},
     "output_type": "execute_result"
    }
   ],
   "source": [
    "model.evaluate(X, aprovacao)"
   ]
  },
  {
   "cell_type": "code",
   "execution_count": null,
   "metadata": {},
   "outputs": [],
   "source": []
  },
  {
   "cell_type": "code",
   "execution_count": null,
   "metadata": {},
   "outputs": [],
   "source": []
  },
  {
   "cell_type": "code",
   "execution_count": null,
   "metadata": {},
   "outputs": [],
   "source": []
  },
  {
   "cell_type": "code",
   "execution_count": null,
   "metadata": {},
   "outputs": [],
   "source": []
  }
 ],
 "metadata": {
  "kernelspec": {
   "display_name": "venv_gym2",
   "language": "python",
   "name": "venv_gym2"
  },
  "language_info": {
   "codemirror_mode": {
    "name": "ipython",
    "version": 3
   },
   "file_extension": ".py",
   "mimetype": "text/x-python",
   "name": "python",
   "nbconvert_exporter": "python",
   "pygments_lexer": "ipython3",
   "version": "3.5.2"
  }
 },
 "nbformat": 4,
 "nbformat_minor": 2
}
